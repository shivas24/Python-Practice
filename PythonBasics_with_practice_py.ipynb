{
  "cells": [
    {
      "cell_type": "markdown",
      "metadata": {
        "id": "iq6y4c_sOLRA"
      },
      "source": [
        "# **What is Python?**\n",
        "\n",
        "Python is aprogramming language and was first found in 1991 by Guido Rossum.\n",
        "\n",
        "**What Python can do?**\n",
        "\n",
        "\n",
        "*   Python can create web applicaton on client as well as server side\n",
        "*   Python can be used to create software applications\n",
        "*   Python can be used to connect databases and can modify\n",
        "*   Python can be used to perform big data to perform mathematical calculations   \n",
        "\n",
        "**Why Python?**\n",
        "\n",
        "*  Python works on different platforms like windows,Mac,Linux.\n",
        "*  It has simple syntax like english\n",
        "*  It helps to programmers to write program in fewer lines\n",
        "*  python prototyping is very quick means it runs on an interpreter system means code can be executed as soon as it written.\n",
        "*  it works on OOPs as well as functional way.\n",
        "\n",
        "**What is an interpreter system?**\n",
        "\n",
        "Interpreter system works on lne by line. for eg. if we write a code it executes the source code line by line in dynamic way and gives result immediately.\n",
        "\n",
        "where as in other languages we need to write the code in particular programing language, then it converts that entire entire source code using a compiler to machine langauge before executing, then it executes.\n",
        "\n",
        "**Python code of syntax.**\n",
        "to completion of a command in python we use new line. where as in other programng languages semicolon(;) will be used.\n",
        "\n",
        "in python we use indentation using whitespaces to define functions, classes etc.. where as in other programmng laguages we use parenthesis {}\n",
        "\n",
        "**Python Installation**\n",
        "\n",
        "visit the website https://www.python.org/\n",
        "and download latest version...\n",
        "\n",
        "**How to start Python**\n",
        "\n",
        "After installing python from above website open commandline from windows OS, by typing **cmd** then enter . then we need to type **python** or **python --version**  or **py**. it will show the verson which was installed on your system..like 3.11.5\n",
        "\n",
        "In python we need to work on any text editor. Most popular are Jupyter Notebook, Google Collab etc..\n",
        "\n",
        "Python fles are stored wth an extension of **.py**   \n",
        "\n",
        "for eg.  welcome.py.... welcome is fle name and .py represents as extension of python file."
      ]
    },
    {
      "cell_type": "code",
      "execution_count": null,
      "metadata": {
        "colab": {
          "base_uri": "https://localhost:8080/"
        },
        "id": "IY6e65QCLKvK",
        "outputId": "04624927-32be-4f1b-8538-b2b5f738459e"
      },
      "outputs": [
        {
          "output_type": "stream",
          "name": "stdout",
          "text": [
            "bigger is 4\n"
          ]
        }
      ],
      "source": [
        "# In python we use indentation to represent block of code\n",
        "\n",
        "if 4 > 2: #line 1\n",
        "  print('bigger is', 4) #line 2\n",
        "# in line 2 ther is a space thats called indentation in python."
      ]
    },
    {
      "cell_type": "markdown",
      "metadata": {
        "id": "-FU7S1qDmgKK"
      },
      "source": [
        "#**Comments**\n",
        "\n",
        "In python we use comments\n",
        "\n",
        "* To explain the python code\n",
        "* To make it  more readable to understand\n",
        "* Prevent executon of code\n",
        "\n",
        "In python comments are symbolised as #  and \"\"\"   \"\"\"\n",
        "\n"
      ]
    },
    {
      "cell_type": "code",
      "execution_count": null,
      "metadata": {
        "colab": {
          "base_uri": "https://localhost:8080/"
        },
        "id": "3pkKnLR6idXW",
        "outputId": "f5cbb75a-02a4-4b47-8fb9-bb955c7f8260"
      },
      "outputs": [
        {
          "name": "stdout",
          "output_type": "stream",
          "text": [
            "Hello World\n",
            "Hello World\n"
          ]
        }
      ],
      "source": [
        "# this is the example of sngle line comment\n",
        "# Second single line comment\n",
        "\"\"\" Multilne comments\"\"\"\n",
        "\n",
        "print(\"Hello World\")\n",
        "\n",
        "\"\"\" Multilne comments\"\"\"\n",
        "\n",
        "print(\"Hello World\")"
      ]
    },
    {
      "cell_type": "markdown",
      "metadata": {
        "id": "GFoWd0fGo4lJ"
      },
      "source": [
        "#Python keywords\n"
      ]
    },
    {
      "cell_type": "code",
      "source": [
        "import keyword\n",
        "\n",
        "for i in keyword.kwlist:\n",
        "    print(i)"
      ],
      "metadata": {
        "id": "6Bp2Glorh-Ba",
        "colab": {
          "base_uri": "https://localhost:8080/"
        },
        "outputId": "dd6d845d-9371-4bcf-cb79-a8b47b6e8814"
      },
      "execution_count": 13,
      "outputs": [
        {
          "output_type": "stream",
          "name": "stdout",
          "text": [
            "False\n",
            "None\n",
            "True\n",
            "and\n",
            "as\n",
            "assert\n",
            "async\n",
            "await\n",
            "break\n",
            "class\n",
            "continue\n",
            "def\n",
            "del\n",
            "elif\n",
            "else\n",
            "except\n",
            "finally\n",
            "for\n",
            "from\n",
            "global\n",
            "if\n",
            "import\n",
            "in\n",
            "is\n",
            "lambda\n",
            "nonlocal\n",
            "not\n",
            "or\n",
            "pass\n",
            "raise\n",
            "return\n",
            "try\n",
            "while\n",
            "with\n",
            "yield\n"
          ]
        }
      ]
    },
    {
      "cell_type": "code",
      "execution_count": null,
      "metadata": {
        "colab": {
          "base_uri": "https://localhost:8080/"
        },
        "id": "Ww6BT8XVpQ4u",
        "outputId": "a54ef2c9-8dde-419c-c2fe-453bf91ecf60"
      },
      "outputs": [
        {
          "output_type": "stream",
          "name": "stdout",
          "text": [
            "5\n",
            "0\n",
            "0\n"
          ]
        }
      ],
      "source": [
        "#and\n",
        "#logical operator\n",
        "\n",
        "a=4\n",
        "b=5\n",
        "\n",
        "print(a and b)  # Here a and b both are true hence latest value will be printed\n",
        "\n",
        "x=0\n",
        "y=5\n",
        "\n",
        "print( x and y) # here output is false hence it returns 1st operand value\n",
        "\n",
        "a1=5\n",
        "a2=0\n",
        "\n",
        "print(a1 and a2)  # here output is false hence it returns 1st operand value"
      ]
    },
    {
      "cell_type": "code",
      "execution_count": null,
      "metadata": {
        "id": "2ZZC8bTXqDWN"
      },
      "outputs": [],
      "source": [
        "#as\n",
        "#' as'  is aliasing\n",
        "\n",
        "import pandas as pd # Aliasing"
      ]
    },
    {
      "cell_type": "code",
      "execution_count": null,
      "metadata": {
        "id": "o5sQaczJsz2w",
        "colab": {
          "base_uri": "https://localhost:8080/",
          "height": 227
        },
        "outputId": "9b739d75-7b38-4ccb-ce9d-7d65267c02db"
      },
      "outputs": [
        {
          "output_type": "error",
          "ename": "AssertionError",
          "evalue": "var1 MisMatched",
          "traceback": [
            "\u001b[0;31m---------------------------------------------------------------------------\u001b[0m",
            "\u001b[0;31mAssertionError\u001b[0m                            Traceback (most recent call last)",
            "\u001b[0;32m<ipython-input-16-d472a130a82f>\u001b[0m in \u001b[0;36m<cell line: 6>\u001b[0;34m()\u001b[0m\n\u001b[1;32m      4\u001b[0m \u001b[0mvar1\u001b[0m\u001b[0;34m=\u001b[0m\u001b[0;34m\"HELLO\"\u001b[0m\u001b[0;34m\u001b[0m\u001b[0;34m\u001b[0m\u001b[0m\n\u001b[1;32m      5\u001b[0m \u001b[0;32massert\u001b[0m \u001b[0mvar1\u001b[0m\u001b[0;34m==\u001b[0m\u001b[0;34m\"HELLO\"\u001b[0m\u001b[0;34m,\u001b[0m\u001b[0;34m\"var1 Matched\"\u001b[0m\u001b[0;34m\u001b[0m\u001b[0;34m\u001b[0m\u001b[0m\n\u001b[0;32m----> 6\u001b[0;31m \u001b[0;32massert\u001b[0m \u001b[0mvar1\u001b[0m\u001b[0;34m==\u001b[0m\u001b[0;34m\"HELLo\"\u001b[0m\u001b[0;34m,\u001b[0m \u001b[0;34m\"var1 MisMatched\"\u001b[0m\u001b[0;34m\u001b[0m\u001b[0;34m\u001b[0m\u001b[0m\n\u001b[0m\u001b[1;32m      7\u001b[0m \u001b[0;34m\u001b[0m\u001b[0m\n",
            "\u001b[0;31mAssertionError\u001b[0m: var1 MisMatched"
          ]
        }
      ],
      "source": [
        "#Assert\n",
        "#Will be used in debugging code. If condition not true raises exception\n",
        "\n",
        "var1=\"HELLO\"\n",
        "assert var1==\"HELLO\",\"var1 Matched\"\n",
        "assert var1==\"HELLo\", \"var1 MisMatched\"\n",
        "\n"
      ]
    },
    {
      "cell_type": "code",
      "execution_count": null,
      "metadata": {
        "colab": {
          "base_uri": "https://localhost:8080/"
        },
        "id": "8M9rNQE9u5Ns",
        "outputId": "033fa1af-7448-488a-ac1d-e3609f5c66c9"
      },
      "outputs": [
        {
          "output_type": "stream",
          "name": "stdout",
          "text": [
            "1\n"
          ]
        }
      ],
      "source": [
        "#break\n",
        "\n",
        "# Used to comeout from loops\n",
        "\n",
        "i=1\n",
        "\n",
        "while i != 3:\n",
        "    print(i)\n",
        "    i += 1\n",
        "    break    # Stops execution even though condition not satisfied"
      ]
    },
    {
      "cell_type": "code",
      "source": [
        "#continue\n",
        "#continues a iteration\n",
        "\n",
        "a=1\n",
        "\n",
        "while a <= 4:\n",
        "\n",
        "    a +=1\n",
        "    if a ==3:\n",
        "        continue  # Here the continue keyword continues the loop by dropping the value when i =3\n",
        "    print(a,end=\"  \") #Output prints as 2,4,5\n"
      ],
      "metadata": {
        "colab": {
          "base_uri": "https://localhost:8080/"
        },
        "id": "TTUq9S3RW7Ly",
        "outputId": "2be26ed0-a19c-4feb-a9e5-3208258d2c00"
      },
      "execution_count": null,
      "outputs": [
        {
          "output_type": "stream",
          "name": "stdout",
          "text": [
            "2  4  5  "
          ]
        }
      ]
    },
    {
      "cell_type": "code",
      "execution_count": null,
      "metadata": {
        "colab": {
          "base_uri": "https://localhost:8080/"
        },
        "id": "y1KNcrGsyvG5",
        "outputId": "0815b629-2232-4e47-9cd7-ba97366414c4"
      },
      "outputs": [
        {
          "output_type": "stream",
          "name": "stdout",
          "text": [
            "Hello\n"
          ]
        }
      ],
      "source": [
        "#class\n",
        "# Defines a class\n",
        "\n",
        "class hello:  #to define a class we use class <classname> then :(colon)\n",
        "    print(\"Hello\")\n"
      ]
    },
    {
      "cell_type": "code",
      "source": [
        "#def\n",
        "#defines a function\n",
        "\n",
        "def fun():  # to define a function we use keyword 'def' then <function_name> then :(colon)\n",
        "    print(\"Hello Python\")\n",
        "fun()  # To run a function a we need tocall the function by its function name"
      ],
      "metadata": {
        "colab": {
          "base_uri": "https://localhost:8080/"
        },
        "id": "2WZa-VUhYQFf",
        "outputId": "e0578d9f-16e9-4919-de81-c7c47f221a8a"
      },
      "execution_count": null,
      "outputs": [
        {
          "output_type": "stream",
          "name": "stdout",
          "text": [
            "Hello Python\n"
          ]
        }
      ]
    },
    {
      "cell_type": "code",
      "source": [
        "#del\n",
        "# deletes an object\n",
        "\n",
        "my_string=\"Hello\"\n",
        "print(my_string)  #prints my_string value\"Hello\"\n",
        "\n",
        "del my_string  #Deleting the strng 'my_string'\n",
        "print(my_string) # Throws Nameerror exception"
      ],
      "metadata": {
        "colab": {
          "base_uri": "https://localhost:8080/",
          "height": 227
        },
        "id": "1ELE_2T5cE1h",
        "outputId": "8134b9f9-4d86-434c-fe8a-2944fb1ca68b"
      },
      "execution_count": null,
      "outputs": [
        {
          "output_type": "stream",
          "name": "stdout",
          "text": [
            "Hello\n"
          ]
        },
        {
          "output_type": "error",
          "ename": "NameError",
          "evalue": "name 'my_string' is not defined",
          "traceback": [
            "\u001b[0;31m---------------------------------------------------------------------------\u001b[0m",
            "\u001b[0;31mNameError\u001b[0m                                 Traceback (most recent call last)",
            "\u001b[0;32m<ipython-input-10-14234603a105>\u001b[0m in \u001b[0;36m<cell line: 8>\u001b[0;34m()\u001b[0m\n\u001b[1;32m      6\u001b[0m \u001b[0;34m\u001b[0m\u001b[0m\n\u001b[1;32m      7\u001b[0m \u001b[0;32mdel\u001b[0m \u001b[0mmy_string\u001b[0m  \u001b[0;31m#Deleting the strng 'my_string'\u001b[0m\u001b[0;34m\u001b[0m\u001b[0;34m\u001b[0m\u001b[0m\n\u001b[0;32m----> 8\u001b[0;31m \u001b[0mprint\u001b[0m\u001b[0;34m(\u001b[0m\u001b[0mmy_string\u001b[0m\u001b[0;34m)\u001b[0m \u001b[0;31m# Throws Nameerror exception\u001b[0m\u001b[0;34m\u001b[0m\u001b[0;34m\u001b[0m\u001b[0m\n\u001b[0m",
            "\u001b[0;31mNameError\u001b[0m: name 'my_string' is not defined"
          ]
        }
      ]
    },
    {
      "cell_type": "code",
      "source": [
        "#elif\n",
        "#elif  to loop a condition\n",
        "\n",
        "if a > 5:\n",
        "    print(\"Condition not satisfied\")\n",
        "elif a > 4:  #If multiple conditions we use \"elif\"\n",
        "    print(\"condition Not Satisfied\")\n",
        "else:\n",
        "    print(\"Value of a is::\", str(a))\n",
        "\n",
        "a=3"
      ],
      "metadata": {
        "colab": {
          "base_uri": "https://localhost:8080/"
        },
        "id": "g95JxJitcvM0",
        "outputId": "0d0491ef-a571-4c6e-cee6-1338ac629edc"
      },
      "execution_count": null,
      "outputs": [
        {
          "output_type": "stream",
          "name": "stdout",
          "text": [
            "Value of a is:: 3\n"
          ]
        }
      ]
    },
    {
      "cell_type": "code",
      "source": [
        "#else\n",
        "# Used in conditional statement\n",
        "#Format: 'else' then :(colon)\n",
        "\n",
        "A= 33\n",
        "\n",
        "if A==3 :  #Checks the condition\n",
        "    print(\" A equal to 3\")\n",
        "else:    # If conditions not satisfied else will execute\n",
        "    print(\"A not equal to 3\")\n"
      ],
      "metadata": {
        "colab": {
          "base_uri": "https://localhost:8080/"
        },
        "id": "B4cHDSYcf-bF",
        "outputId": "d5f244f1-16cf-4252-e73b-87d0e4c73064"
      },
      "execution_count": null,
      "outputs": [
        {
          "output_type": "stream",
          "name": "stdout",
          "text": [
            "A not equal to 3\n"
          ]
        }
      ]
    },
    {
      "cell_type": "code",
      "source": [
        "#except\n",
        "#used with try\n",
        "#try except commonly used in file operation like  to open a file or to write into a file\n",
        "\n",
        "x=input(\"Enter Value of x::\")\n",
        "\n",
        "try:\n",
        "    x>5\n",
        "    print(x)\n",
        "except:\n",
        "    print(\"Value not traced\")"
      ],
      "metadata": {
        "colab": {
          "base_uri": "https://localhost:8080/"
        },
        "id": "zycBju9QR3FK",
        "outputId": "0009d1cb-6b9f-490d-9075-adbc1e3b9875"
      },
      "execution_count": null,
      "outputs": [
        {
          "output_type": "stream",
          "name": "stdout",
          "text": [
            "Enter Value of x::6\n",
            "Value not traced\n"
          ]
        }
      ]
    },
    {
      "cell_type": "code",
      "source": [
        "#False\n",
        "# Returns boolean value if condition fails\n",
        "\n",
        "print(5==6)\n",
        "print( 5==6 or 5==7)\n"
      ],
      "metadata": {
        "colab": {
          "base_uri": "https://localhost:8080/"
        },
        "id": "iMNo0wxzTOSQ",
        "outputId": "12a1ff57-5dc1-4b8c-8dda-0c1e6bdd9bff"
      },
      "execution_count": null,
      "outputs": [
        {
          "output_type": "stream",
          "name": "stdout",
          "text": [
            "False\n",
            "False\n"
          ]
        }
      ]
    },
    {
      "cell_type": "code",
      "source": [
        "#finally\n",
        "#especially used with try..exception..\n",
        "\n",
        "try:\n",
        "    x == int(x)\n",
        "    print(\"X is a integer::\", int(x))\n",
        "\n",
        "except:\n",
        "    print(\"Entered Value is not a integer\")\n",
        "\n",
        "else:\n",
        "    if   x >5:\n",
        "        print(\"X value is greater than 5\")\n",
        "\n",
        "finally:\n",
        "    print(\"The Entered value of X is ::\",x)  #Always executes finally statement irrespective of conditions\n",
        "\n",
        "x=3\n",
        "\n"
      ],
      "metadata": {
        "colab": {
          "base_uri": "https://localhost:8080/"
        },
        "id": "mW7TTWFNX7ZQ",
        "outputId": "5861feb1-fc78-42de-9b30-f51ae788d926"
      },
      "execution_count": null,
      "outputs": [
        {
          "output_type": "stream",
          "name": "stdout",
          "text": [
            "X is a integer:: 3\n",
            "The Entered value of X is :: 3\n"
          ]
        }
      ]
    },
    {
      "cell_type": "code",
      "source": [
        "#Finally\n",
        "try:\n",
        "    x == int(x)\n",
        "    print(\"X is a integer::\", int(x))\n",
        "\n",
        "except:\n",
        "    print(\"Entered Value is not a integer\")\n",
        "\n",
        "else:\n",
        "    if   x >= 5:\n",
        "        print(\"X value is greater than 5\")\n",
        "\n",
        "finally:\n",
        "    print(\"The Entered value of X is ::\",x)  #Always executes finally statement irrespective of conditions\n",
        "\n",
        "x=5"
      ],
      "metadata": {
        "colab": {
          "base_uri": "https://localhost:8080/"
        },
        "id": "o463Xq4SD_6-",
        "outputId": "1ad79e03-51d4-44b8-b37f-2e0ab95457d4"
      },
      "execution_count": null,
      "outputs": [
        {
          "output_type": "stream",
          "name": "stdout",
          "text": [
            "X is a integer:: 5\n",
            "X value is greater than 5\n",
            "The Entered value of X is :: 5\n"
          ]
        }
      ]
    },
    {
      "cell_type": "code",
      "source": [
        "#Finally\n",
        "\n",
        "try:\n",
        "    x == int(x)\n",
        "    print(\"X is a integer::\", int(x))\n",
        "\n",
        "except:\n",
        "    print(\"Entered Value is not a integer\")\n",
        "\n",
        "else:\n",
        "    if   x >5:\n",
        "        print(\"X value is greater than 5\")\n",
        "\n",
        "finally:\n",
        "    print(\"The Entered value of X is ::\",x)  #Always executes finally statement irrespective of conditions\n",
        "\n",
        "x=\"Hello\""
      ],
      "metadata": {
        "colab": {
          "base_uri": "https://localhost:8080/"
        },
        "id": "vFAdLccSEFqB",
        "outputId": "d719c86c-1d06-4718-f225-a83131f67a5f"
      },
      "execution_count": null,
      "outputs": [
        {
          "output_type": "stream",
          "name": "stdout",
          "text": [
            "Entered Value is not a integer\n",
            "The Entered value of X is :: Hello\n"
          ]
        }
      ]
    },
    {
      "cell_type": "code",
      "source": [
        "#for\n",
        "#Used to execute loop of condition\n",
        "\n",
        "for x in range(2,44,2): #prints x starting from to 44 with step value of 2\n",
        "    print(x,end=\"  \")"
      ],
      "metadata": {
        "colab": {
          "base_uri": "https://localhost:8080/"
        },
        "id": "_MZTuePOX4KY",
        "outputId": "a8236e8e-f5a6-4372-803d-1eb595b35ee2"
      },
      "execution_count": null,
      "outputs": [
        {
          "output_type": "stream",
          "name": "stdout",
          "text": [
            "2  4  6  8  10  12  14  16  18  20  22  24  26  28  30  32  34  36  38  40  42  "
          ]
        }
      ]
    },
    {
      "cell_type": "code",
      "source": [
        "#from\n",
        "# used to import from library\n",
        "\n",
        "from math import sqrt  #from math module sqrt method will be imported\n",
        "print(sqrt(4)) #Here sqrt() method will perform square root of  4\n"
      ],
      "metadata": {
        "colab": {
          "base_uri": "https://localhost:8080/"
        },
        "id": "v38wIIeyZdAO",
        "outputId": "68eace0b-e2bb-42cf-b0fb-7dcb1cfae1bf"
      },
      "execution_count": null,
      "outputs": [
        {
          "output_type": "stream",
          "name": "stdout",
          "text": [
            "2.0\n"
          ]
        }
      ]
    },
    {
      "cell_type": "code",
      "source": [
        "#global\n",
        "#Declares global variable to access anywhere\n",
        "\n",
        "def fun():\n",
        "    global x  #x is defined as global inside a function\n",
        "    x=10  # x value is defined inside a function\n",
        "    print(\"XValue::\",x) #printing insides function\n",
        "\n",
        "\n",
        "fun()\n",
        "print(\"Global Access::\",x) #Calling x outside function\n",
        "\n",
        "#When a varibale not declared as global, throws an error\n",
        "\n",
        "def fun():\n",
        "\n",
        "    y=10  # y value is defined inside a function\n",
        "    print(\"Y Value::\",y) #printing insides function\n",
        "\n",
        "\n",
        "fun()\n",
        "print(\"Global Access denied::\",y) #Calling y outside function"
      ],
      "metadata": {
        "colab": {
          "base_uri": "https://localhost:8080/",
          "height": 262
        },
        "id": "rDqzVl5KZ_j3",
        "outputId": "61ec80cb-c2b3-4665-b61b-6a4972fbd343"
      },
      "execution_count": 14,
      "outputs": [
        {
          "output_type": "stream",
          "name": "stdout",
          "text": [
            "XValue:: 10\n",
            "Global Access:: 10\n",
            "Y Value:: 10\n"
          ]
        },
        {
          "output_type": "error",
          "ename": "NameError",
          "evalue": "name 'y' is not defined",
          "traceback": [
            "\u001b[0;31m---------------------------------------------------------------------------\u001b[0m",
            "\u001b[0;31mNameError\u001b[0m                                 Traceback (most recent call last)",
            "\u001b[0;32m<ipython-input-14-4993c0edba2d>\u001b[0m in \u001b[0;36m<cell line: 22>\u001b[0;34m()\u001b[0m\n\u001b[1;32m     20\u001b[0m \u001b[0;34m\u001b[0m\u001b[0m\n\u001b[1;32m     21\u001b[0m \u001b[0mfun\u001b[0m\u001b[0;34m(\u001b[0m\u001b[0;34m)\u001b[0m\u001b[0;34m\u001b[0m\u001b[0;34m\u001b[0m\u001b[0m\n\u001b[0;32m---> 22\u001b[0;31m \u001b[0mprint\u001b[0m\u001b[0;34m(\u001b[0m\u001b[0;34m\"Global Access denied::\"\u001b[0m\u001b[0;34m,\u001b[0m\u001b[0my\u001b[0m\u001b[0;34m)\u001b[0m \u001b[0;31m#Calling y outside function\u001b[0m\u001b[0;34m\u001b[0m\u001b[0;34m\u001b[0m\u001b[0m\n\u001b[0m",
            "\u001b[0;31mNameError\u001b[0m: name 'y' is not defined"
          ]
        }
      ]
    },
    {
      "cell_type": "code",
      "source": [
        "#If  statement in python\n",
        "#To create a conditional statement\n",
        "\n",
        "a=3\n",
        "b=3\n",
        "if a==b:\n",
        "    print(\"A and B are same\")"
      ],
      "metadata": {
        "colab": {
          "base_uri": "https://localhost:8080/"
        },
        "id": "-CH8gqZcbk_K",
        "outputId": "e58e544d-81c4-404d-c694-9227562bf36c"
      },
      "execution_count": null,
      "outputs": [
        {
          "output_type": "stream",
          "name": "stdout",
          "text": [
            "A and B are same\n"
          ]
        }
      ]
    },
    {
      "cell_type": "code",
      "source": [
        "#import\n",
        "# To import a module\n",
        "\n",
        "import math\n",
        "\n",
        "print(math.sqrt(4))"
      ],
      "metadata": {
        "colab": {
          "base_uri": "https://localhost:8080/"
        },
        "id": "m78N9A3SEJNQ",
        "outputId": "e6bd85c9-148d-441b-ab09-347b6bc8e51a"
      },
      "execution_count": null,
      "outputs": [
        {
          "output_type": "stream",
          "name": "stdout",
          "text": [
            "2.0\n"
          ]
        }
      ]
    },
    {
      "cell_type": "code",
      "source": [
        "# in\n",
        "# to check  if the given value presents\n",
        "\n",
        "li=[\"Apples\",\"Bananas\"]\n",
        "print('Bananas' in li)  #Checks if \"Bananas\"  present in list li,if so prints True\n",
        "print('Banana' in li)\n",
        "print([] in li)"
      ],
      "metadata": {
        "colab": {
          "base_uri": "https://localhost:8080/"
        },
        "id": "Qkt8-it4EF8z",
        "outputId": "2d6d8625-2125-4568-a67b-bedbc83e994c"
      },
      "execution_count": null,
      "outputs": [
        {
          "output_type": "stream",
          "name": "stdout",
          "text": [
            "True\n",
            "False\n",
            "False\n"
          ]
        }
      ]
    },
    {
      "cell_type": "code",
      "source": [
        "# is\n",
        "# To refer or asssign or compare two variables\n",
        "\n",
        "x=10\n",
        "y=5\n",
        "z=11\n",
        "\n",
        "if x is y:  #Compares x and y\n",
        "    print(\"X and Y are same\")\n",
        "elif x is z:\n",
        "    print(\"X and Z are same\",x,z)\n",
        "else:\n",
        "    y = x\n",
        "    print(x,y,z)\n",
        "    print(x is y,y is z)\n",
        "    print(x,y,z)"
      ],
      "metadata": {
        "colab": {
          "base_uri": "https://localhost:8080/"
        },
        "id": "eewOTmu-a97I",
        "outputId": "092cc8f8-3d00-4503-fc0b-9eb749222c92"
      },
      "execution_count": null,
      "outputs": [
        {
          "output_type": "stream",
          "name": "stdout",
          "text": [
            "10 10 11\n",
            "True False\n",
            "10 10 11\n"
          ]
        }
      ]
    },
    {
      "cell_type": "code",
      "source": [
        "#LAMBDA\n",
        "#Its a single line anonymous function\n",
        "\n",
        "x=lambda a,b: (a+b)*2  # a,b are input variables and output is x\n",
        "\n",
        "print(x(2,3))\n",
        "print(x(4,5))\n",
        "print(x(8,9))\n",
        "print(x)"
      ],
      "metadata": {
        "colab": {
          "base_uri": "https://localhost:8080/"
        },
        "id": "2iuC4eS2dcaI",
        "outputId": "e3a70bbf-aeab-4fb4-8c76-8e1e83f7f25d"
      },
      "execution_count": null,
      "outputs": [
        {
          "output_type": "stream",
          "name": "stdout",
          "text": [
            "10\n",
            "18\n",
            "34\n",
            "<function <lambda> at 0x7c726b79ab90>\n"
          ]
        }
      ]
    },
    {
      "cell_type": "code",
      "source": [
        "#None  represents no value\n",
        "x= None\n",
        "print(x)\n",
        "print(bool(x))  # None Value  hence prints False\n",
        "print( x is True)"
      ],
      "metadata": {
        "colab": {
          "base_uri": "https://localhost:8080/"
        },
        "id": "0L6g4aUKiQCN",
        "outputId": "a98bfc7f-36b3-45ef-915e-c77afcf8256c"
      },
      "execution_count": null,
      "outputs": [
        {
          "output_type": "stream",
          "name": "stdout",
          "text": [
            "None\n",
            "False\n",
            "False\n"
          ]
        }
      ]
    },
    {
      "cell_type": "code",
      "source": [
        "#nonlocal\n",
        "# To access varaible inside nested functions when we declare scope of a variable we use nonlocal\n",
        "def fun():\n",
        "\n",
        "    x=10\n",
        "\n",
        "    print(x)\n",
        "    def fun1():\n",
        "\n",
        "        nonlocal x\n",
        "        x=5\n",
        "\n",
        "        print(x**2)\n",
        "\n",
        "    fun1()\n",
        "\n",
        "\n",
        "fun()\n"
      ],
      "metadata": {
        "colab": {
          "base_uri": "https://localhost:8080/"
        },
        "id": "cfuMo0kFixpO",
        "outputId": "220947d1-32c1-4021-81f7-1544666da1f2"
      },
      "execution_count": null,
      "outputs": [
        {
          "output_type": "stream",
          "name": "stdout",
          "text": [
            "10\n",
            "25\n"
          ]
        }
      ]
    },
    {
      "cell_type": "markdown",
      "source": [
        "##Difference between **global** and **nonlocal**\n",
        "\n",
        "Global varibale can be accessible from anywhere in the porgram once we decared as global. We can change its value from anywhere inside the program\n",
        "\n",
        "where as nonlocal is acceptable at thatparticular instance. once it come out of its scope we can not access"
      ],
      "metadata": {
        "id": "Ww9jggRcFZ70"
      }
    },
    {
      "cell_type": "code",
      "source": [
        "#not\n",
        "# returns logical  value hence it is logical operator\n",
        "\n",
        "x=True\n",
        "y=6\n",
        "z=0\n",
        "print(not x)   #prints opposite of true\n",
        "print(not y)\n",
        "print(not z)"
      ],
      "metadata": {
        "colab": {
          "base_uri": "https://localhost:8080/"
        },
        "id": "xtPJkeRdEDo2",
        "outputId": "4bcf28c4-0f66-4896-9b76-5cc97dc65453"
      },
      "execution_count": null,
      "outputs": [
        {
          "output_type": "stream",
          "name": "stdout",
          "text": [
            "False\n",
            "False\n",
            "True\n"
          ]
        }
      ]
    },
    {
      "cell_type": "code",
      "source": [
        "#or\n",
        "#logical operator either of the condition is true returns true\n",
        "x=5\n",
        "y=4\n",
        "z=None\n",
        "a=True\n",
        "b='Hello'\n",
        "\n",
        "print(type(x),type(y),type(z),type(a),type(b))\n",
        "\n",
        "print(x or y) #returns highest value either is true\n",
        "\n",
        "print(x>y or y>x)  #either of the condition is true returns true\n",
        "\n",
        "print(x or z, z or a, a or b)"
      ],
      "metadata": {
        "colab": {
          "base_uri": "https://localhost:8080/"
        },
        "id": "9MdK-fErY94y",
        "outputId": "42b20b06-4334-4770-b45f-c00abde05ec8"
      },
      "execution_count": null,
      "outputs": [
        {
          "output_type": "stream",
          "name": "stdout",
          "text": [
            "<class 'int'> <class 'int'> <class 'NoneType'> <class 'bool'> <class 'str'>\n",
            "5\n",
            "True\n",
            "5 True True\n"
          ]
        }
      ]
    },
    {
      "cell_type": "code",
      "source": [
        "#pass\n",
        "#pass without executing any code\n",
        "\n",
        "def fun(x):\n",
        "    if x==5:\n",
        "        pass\n",
        "\n",
        "    else:\n",
        "        print(\"x Not equal to  5\")\n",
        "fun(5)  # Here it will pass without any execution\n",
        "fun(6)  # Here it will execute else statement"
      ],
      "metadata": {
        "colab": {
          "base_uri": "https://localhost:8080/"
        },
        "id": "K-pOrmlAZt4t",
        "outputId": "22af52b8-a070-4634-9cd9-294760fe1132"
      },
      "execution_count": null,
      "outputs": [
        {
          "output_type": "stream",
          "name": "stdout",
          "text": [
            "x Not equal to  5\n"
          ]
        }
      ]
    },
    {
      "cell_type": "code",
      "source": [
        "#raise\n",
        "#raises an exception if any error\n",
        "x=-1\n",
        "\n",
        "if x < 0:\n",
        "    raise Exception(\"X less than 0\")"
      ],
      "metadata": {
        "colab": {
          "base_uri": "https://localhost:8080/",
          "height": 210
        },
        "id": "2Acjt4sEcAxz",
        "outputId": "d2620906-f986-4d2e-db05-657bbd90a143"
      },
      "execution_count": null,
      "outputs": [
        {
          "output_type": "error",
          "ename": "Exception",
          "evalue": "X less than 0",
          "traceback": [
            "\u001b[0;31m---------------------------------------------------------------------------\u001b[0m",
            "\u001b[0;31mException\u001b[0m                                 Traceback (most recent call last)",
            "\u001b[0;32m<ipython-input-43-197a90f36ff7>\u001b[0m in \u001b[0;36m<cell line: 5>\u001b[0;34m()\u001b[0m\n\u001b[1;32m      4\u001b[0m \u001b[0;34m\u001b[0m\u001b[0m\n\u001b[1;32m      5\u001b[0m \u001b[0;32mif\u001b[0m \u001b[0mx\u001b[0m \u001b[0;34m<\u001b[0m \u001b[0;36m0\u001b[0m\u001b[0;34m:\u001b[0m\u001b[0;34m\u001b[0m\u001b[0;34m\u001b[0m\u001b[0m\n\u001b[0;32m----> 6\u001b[0;31m     \u001b[0;32mraise\u001b[0m \u001b[0mException\u001b[0m\u001b[0;34m(\u001b[0m\u001b[0;34m\"X less than 0\"\u001b[0m\u001b[0;34m)\u001b[0m\u001b[0;34m\u001b[0m\u001b[0;34m\u001b[0m\u001b[0m\n\u001b[0m",
            "\u001b[0;31mException\u001b[0m: X less than 0"
          ]
        }
      ]
    },
    {
      "cell_type": "code",
      "source": [
        "#return\n",
        "#To exit a function and return a value\n",
        "def fun(x):\n",
        "    x= (x*3)**3\n",
        "    return x  # returns x after calculation\n",
        "\n",
        "print(fun(3))\n"
      ],
      "metadata": {
        "colab": {
          "base_uri": "https://localhost:8080/"
        },
        "id": "aQP2xrqkcml-",
        "outputId": "edcc8ea5-da9e-4e1e-99b8-9757ce1111e8"
      },
      "execution_count": null,
      "outputs": [
        {
          "output_type": "stream",
          "name": "stdout",
          "text": [
            "729\n"
          ]
        }
      ]
    },
    {
      "cell_type": "code",
      "source": [
        "#True\n",
        "#Returns boolean value if true or false\n",
        "\n",
        "print(5 ==5)\n",
        "print(print(5 >=5)  == True)\n"
      ],
      "metadata": {
        "colab": {
          "base_uri": "https://localhost:8080/"
        },
        "id": "ef_VZArCezIo",
        "outputId": "1b17a070-da54-4aaf-cce3-84c615c95e3d"
      },
      "execution_count": null,
      "outputs": [
        {
          "output_type": "stream",
          "name": "stdout",
          "text": [
            "True\n",
            "True\n",
            "False\n"
          ]
        }
      ]
    },
    {
      "cell_type": "code",
      "source": [
        "#try\n",
        "#to perform execution of  some coding. if try block fails to perform it transfers control  to except\n",
        "\n",
        "a='3'\n",
        "b=5\n",
        "\n",
        "try:\n",
        "    print(a + b)\n",
        "    pass\n",
        "\n",
        "except:\n",
        "    print(\" Cant perform \")\n"
      ],
      "metadata": {
        "colab": {
          "base_uri": "https://localhost:8080/"
        },
        "id": "SagAUVEWtyFS",
        "outputId": "9ee04f54-19ec-4028-dd91-9b3c18ca0c66"
      },
      "execution_count": null,
      "outputs": [
        {
          "output_type": "stream",
          "name": "stdout",
          "text": [
            " Cant perform \n"
          ]
        }
      ]
    },
    {
      "cell_type": "code",
      "source": [
        "#while loop\n",
        "#while loop used to continue set of instructions until condition is satisfies\n",
        "\n",
        "i=1\n",
        "\n",
        "while i < 10:\n",
        "    print(i,end=\" \")\n",
        "    i +=1"
      ],
      "metadata": {
        "colab": {
          "base_uri": "https://localhost:8080/"
        },
        "id": "qxsUeMABv6Do",
        "outputId": "86a6b407-f4f2-4633-aa0d-df25300f685b"
      },
      "execution_count": null,
      "outputs": [
        {
          "output_type": "stream",
          "name": "stdout",
          "text": [
            "1 2 3 4 5 6 7 8 9 "
          ]
        }
      ]
    },
    {
      "cell_type": "code",
      "source": [
        "#with\n",
        "#Used for exception handling\n",
        "#Here we used to  read a file\n",
        "\n",
        "with open(\"/content/sample_data/README.md\", 'r') as file:\n",
        "    print(file.read())\n"
      ],
      "metadata": {
        "colab": {
          "base_uri": "https://localhost:8080/"
        },
        "id": "A_PAX_-IwlAu",
        "outputId": "879821aa-5d25-48aa-ad93-d35c3b240aa7"
      },
      "execution_count": null,
      "outputs": [
        {
          "output_type": "stream",
          "name": "stdout",
          "text": [
            "This directory includes a few sample datasets to get you started.\n",
            "\n",
            "*   `california_housing_data*.csv` is California housing data from the 1990 US\n",
            "    Census; more information is available at:\n",
            "    https://developers.google.com/machine-learning/crash-course/california-housing-data-description\n",
            "\n",
            "*   `mnist_*.csv` is a small sample of the\n",
            "    [MNIST database](https://en.wikipedia.org/wiki/MNIST_database), which is\n",
            "    described at: http://yann.lecun.com/exdb/mnist/\n",
            "\n",
            "*   `anscombe.json` contains a copy of\n",
            "    [Anscombe's quartet](https://en.wikipedia.org/wiki/Anscombe%27s_quartet); it\n",
            "    was originally described in\n",
            "\n",
            "    Anscombe, F. J. (1973). 'Graphs in Statistical Analysis'. American\n",
            "    Statistician. 27 (1): 17-21. JSTOR 2682899.\n",
            "\n",
            "    and our copy was prepared by the\n",
            "    [vega_datasets library](https://github.com/altair-viz/vega_datasets/blob/4f67bdaad10f45e3549984e17e1b3088c731503d/vega_datasets/_data/anscombe.json).\n",
            "\n"
          ]
        }
      ]
    },
    {
      "cell_type": "code",
      "source": [
        "#yield\n",
        "#Used a s a generator to generate output as single value\n",
        "# It stops iterate and generate in one shot\n",
        "\n",
        "def yld(val):\n",
        "    i=0\n",
        "    while i <val:\n",
        "        yield i\n",
        "        i +=1\n",
        "\n",
        "for x in yld(5):\n",
        "    print(x, end=\" \")"
      ],
      "metadata": {
        "colab": {
          "base_uri": "https://localhost:8080/"
        },
        "id": "Z4-s3Zqo2sXB",
        "outputId": "b61c4e95-e900-4aec-f54d-cdfddbe6913d"
      },
      "execution_count": null,
      "outputs": [
        {
          "output_type": "stream",
          "name": "stdout",
          "text": [
            "0 1 2 3 4 "
          ]
        }
      ]
    },
    {
      "cell_type": "code",
      "source": [
        "print(print(True))"
      ],
      "metadata": {
        "colab": {
          "base_uri": "https://localhost:8080/"
        },
        "id": "-MBx6EGl90dp",
        "outputId": "3c3796e8-d4d9-4c7c-ea4c-66195d474aa7"
      },
      "execution_count": null,
      "outputs": [
        {
          "output_type": "stream",
          "name": "stdout",
          "text": [
            "True\n",
            "None\n"
          ]
        }
      ]
    },
    {
      "cell_type": "markdown",
      "metadata": {
        "id": "w4S_NTKdoa7l"
      },
      "source": [
        "#**VARIABLES**\n",
        "\n",
        "* In python variables are used as containers to store the data\n",
        "\n",
        "* for eg.. x = 5, here x is variable whch is ussed to store the value 5"
      ]
    },
    {
      "cell_type": "code",
      "execution_count": null,
      "metadata": {
        "colab": {
          "base_uri": "https://localhost:8080/"
        },
        "id": "d8Isp9FQoCgs",
        "outputId": "017dd87a-cb20-4ad0-cf34-590f42a9790d"
      },
      "outputs": [
        {
          "output_type": "stream",
          "name": "stdout",
          "text": [
            "5 ram\n"
          ]
        }
      ],
      "source": [
        "x =5  # x is a varibale\n",
        "y = \"ram\" # y is a  variable\n",
        "print(x,y)\n"
      ]
    },
    {
      "cell_type": "code",
      "execution_count": null,
      "metadata": {
        "colab": {
          "base_uri": "https://localhost:8080/"
        },
        "id": "yxfs_pt9pCyc",
        "outputId": "cb19676e-d236-4742-f9f3-8d9f7ea89f59"
      },
      "outputs": [
        {
          "output_type": "stream",
          "name": "stdout",
          "text": [
            "3 5\n"
          ]
        }
      ],
      "source": [
        "#python is case sensitive\n",
        "\"\"\"Will not Overwrite\"\"\"\n",
        "c=3\n",
        "C=5\n",
        "print(c,C)"
      ]
    },
    {
      "cell_type": "markdown",
      "metadata": {
        "id": "YQcEJr9EX_su"
      },
      "source": [
        "**Rules to use python variables**\n",
        "\n",
        "* varibale name must start with a letter or underscore(_)\n",
        "* **Variable name can not start with a number**\n",
        "* Variable name can contain with alpha numeric character and underscore e.gg a-z , A-Z, 0-9 and _\n",
        "* variable names afer case sensitive  eg.. a  and A  both are deifferent variables\n",
        "* **varibale name can not be python keywords**\n",
        "\n"
      ]
    },
    {
      "cell_type": "code",
      "execution_count": null,
      "metadata": {
        "colab": {
          "base_uri": "https://localhost:8080/"
        },
        "id": "_T1kWRSJSZfB",
        "outputId": "d16d2351-01d3-4af0-f010-0fefb2b6b052"
      },
      "outputs": [
        {
          "output_type": "stream",
          "name": "stdout",
          "text": [
            "SS SS SS SS SS SS\n"
          ]
        }
      ],
      "source": [
        "#example of varibale names acceptable\n",
        "my_var= \"SS\"\n",
        "myvar = \"SS\"\n",
        "_my_var = \"SS\"\n",
        "myVar=  \"SS\"\n",
        "MYVAR= \"SS\"\n",
        "myvar2  = \"SS\"\n",
        "print(my_var,myvar,_my_var,myVar,MYVAR,myvar2)\n"
      ]
    },
    {
      "cell_type": "code",
      "execution_count": null,
      "metadata": {
        "colab": {
          "base_uri": "https://localhost:8080/",
          "height": 140
        },
        "id": "KyLSwUpFabzv",
        "outputId": "5db5a571-5e41-4531-85a3-9e197c84d1c3"
      },
      "outputs": [
        {
          "output_type": "error",
          "ename": "SyntaxError",
          "evalue": "invalid decimal literal (<ipython-input-36-0844a7b3b712>, line 2)",
          "traceback": [
            "\u001b[0;36m  File \u001b[0;32m\"<ipython-input-36-0844a7b3b712>\"\u001b[0;36m, line \u001b[0;32m2\u001b[0m\n\u001b[0;31m    2myvar  = \"SS\"\u001b[0m\n\u001b[0m    ^\u001b[0m\n\u001b[0;31mSyntaxError\u001b[0m\u001b[0;31m:\u001b[0m invalid decimal literal\n"
          ]
        }
      ],
      "source": [
        "# Non Acceptable Variable Names\n",
        "2myvar  = \"SS\"\n",
        "my var  = \"SS\"\n",
        "my-var  = \"SS\"\n",
        "print(2myvar)\n",
        "print(my var)\n",
        "print(my-var)"
      ]
    },
    {
      "cell_type": "markdown",
      "metadata": {
        "id": "H-UQixYRb0ll"
      },
      "source": [
        "#****Variable Naming Methods****\n",
        "\n",
        "We can use following popular variable naming methods\n",
        "\n",
        "**Camel Case**\n",
        "In this except starting word remaining all start with Capital Letter\n",
        "eg.. myVarName   =  \"Python\"\n",
        "\n",
        "**Pascal Case**\n",
        "Each word start with a capital letter\n",
        "eg..  MyVarName=  \"Python\"\n",
        "\n",
        "**Snake Case**\n",
        "each word seperated by underscore(_)\n",
        "eg.. my_var_name= \"Python\"\n",
        "\n",
        "As a programmer we must use multiple words as variable names for easy understanding"
      ]
    },
    {
      "cell_type": "code",
      "execution_count": null,
      "metadata": {
        "colab": {
          "base_uri": "https://localhost:8080/"
        },
        "id": "PE1KH-8jbe9o",
        "outputId": "fec72773-d084-4774-cabb-e11febd509cf"
      },
      "outputs": [
        {
          "name": "stdout",
          "output_type": "stream",
          "text": [
            "Apple Banana Mango\n"
          ]
        }
      ],
      "source": [
        "# In python we can assign multiple values to different variables in sngle line\n",
        "\"\"\"\n",
        " We represent strings in double quote (\"\") or single quote('')\n",
        "\"\"\"\n",
        "x,y,z = \"Apple\", \"Banana\", \"Mango\"\n",
        "\n",
        "print(x,y,z)"
      ]
    },
    {
      "cell_type": "code",
      "execution_count": null,
      "metadata": {
        "colab": {
          "base_uri": "https://localhost:8080/"
        },
        "id": "BB-fiID9d7qw",
        "outputId": "fe478408-178e-4f36-d498-c3f114254aa9"
      },
      "outputs": [
        {
          "name": "stdout",
          "output_type": "stream",
          "text": [
            "4\n"
          ]
        }
      ],
      "source": [
        "# We use print() function for output a variable\n",
        "\n",
        "x =4\n",
        "print(x)"
      ]
    },
    {
      "cell_type": "markdown",
      "metadata": {
        "id": "qrDYG9_n2Ht2"
      },
      "source": [
        "# **Global Variables**\n",
        "\n",
        "Variable that is created outside a function is called global variable\n",
        "\n"
      ]
    },
    {
      "cell_type": "code",
      "execution_count": null,
      "metadata": {
        "colab": {
          "base_uri": "https://localhost:8080/"
        },
        "id": "ui1cGXA4i3oz",
        "outputId": "af8f2fe3-ce46-4435-aec2-a71d640d9d3e"
      },
      "outputs": [
        {
          "name": "stdout",
          "output_type": "stream",
          "text": [
            "Welcome\n"
          ]
        }
      ],
      "source": [
        "#here x is defned outside of a function , thastwhy its called as global variable\n",
        "# A global variable can be accessed\n",
        "x = \"Welcome\"\n",
        "\n",
        "def function():\n",
        "  print(x)\n",
        "\n",
        "function()"
      ]
    },
    {
      "cell_type": "code",
      "execution_count": null,
      "metadata": {
        "colab": {
          "base_uri": "https://localhost:8080/"
        },
        "id": "MfUWO1Jl2y-G",
        "outputId": "316d013b-f92c-47c1-d05a-359af3fc67e4"
      },
      "outputs": [
        {
          "name": "stdout",
          "output_type": "stream",
          "text": [
            "India is great\n",
            "Welcome\n"
          ]
        }
      ],
      "source": [
        "# One more example of global variable and local variable\n",
        "# local variables can be accessed inside a function and it will be lapsed its assigned value within the function\n",
        "\n",
        "x = \"Welcome\"\n",
        "\n",
        "def fun():\n",
        "  x = \"India is great\"\n",
        "  print(x)\n",
        "\n",
        "\n",
        "  \"\"\" Here it will print \"India is great\" because it is defined as local variable\n",
        "                inside the function and its life span ends once come out of the function.\n",
        "  \"\"\"\n",
        "\n",
        "fun()\n",
        "print(x) # Here it will print \"Welcome\" because x is defned as global variable, it can be accessed from anywhere"
      ]
    },
    {
      "cell_type": "markdown",
      "metadata": {
        "id": "qp-BPUVt5vpJ"
      },
      "source": [
        "#**Change a local variable to global using keyword **global**\n",
        "\n",
        "example"
      ]
    },
    {
      "cell_type": "code",
      "execution_count": null,
      "metadata": {
        "colab": {
          "base_uri": "https://localhost:8080/"
        },
        "id": "TT6CERhY33S-",
        "outputId": "e2dcf623-6075-42c6-e54a-b0ccc81f162d"
      },
      "outputs": [
        {
          "name": "stdout",
          "output_type": "stream",
          "text": [
            "Welcome\n"
          ]
        }
      ],
      "source": [
        "def fun():\n",
        "  global x\n",
        "  x = \"Welcome\"\n",
        "fun()\n",
        "print(x)  # here we are calling x globally even though it is inside a function as a local variable"
      ]
    },
    {
      "cell_type": "code",
      "execution_count": null,
      "metadata": {
        "colab": {
          "base_uri": "https://localhost:8080/"
        },
        "id": "4lZd1CsD6M3Q",
        "outputId": "4702e80a-f942-4d41-e741-52a6130d9035"
      },
      "outputs": [
        {
          "name": "stdout",
          "output_type": "stream",
          "text": [
            "Welcome to India\n",
            "Welcome to India\n"
          ]
        }
      ],
      "source": [
        "# How to change the value of a global avriable inside a function\n",
        "# changed value of global variable inside a function overwrites actual value of global variable\n",
        "\n",
        "x = \"India is Great\"\n",
        "\n",
        "def fun():\n",
        "  global x # declared x as global variable\n",
        "  x = \"Welcome to India\"\n",
        "\n",
        "  \"\"\" here x inside the function fun() will be treated as global\n",
        "   x is overwritten\n",
        "  \"\"\"\n",
        "\n",
        "  print(x) #prints changed value of its new value as \"Welcome to India\"\n",
        "\n",
        "fun()\n",
        "print(x) # orginal value of x is overwritten by declarng as global inside the function"
      ]
    },
    {
      "cell_type": "code",
      "execution_count": null,
      "metadata": {
        "id": "7yEu7KQM96xQ"
      },
      "outputs": [],
      "source": [
        "#Variable Exercises\n",
        "\n",
        "#Create a variable named carname and assign the value Volvo to it.\n",
        "\n",
        "carname = \"Volvo\""
      ]
    },
    {
      "cell_type": "code",
      "execution_count": null,
      "metadata": {
        "colab": {
          "base_uri": "https://localhost:8080/",
          "height": 35
        },
        "id": "ngVTyNgVAHdY",
        "outputId": "7cb98293-6ec5-4cfa-f278-e2ad4159d45a"
      },
      "outputs": [
        {
          "data": {
            "application/vnd.google.colaboratory.intrinsic+json": {
              "type": "string"
            },
            "text/plain": [
              "'Volvo'"
            ]
          },
          "execution_count": 33,
          "metadata": {},
          "output_type": "execute_result"
        }
      ],
      "source": [
        "carname"
      ]
    },
    {
      "cell_type": "code",
      "execution_count": null,
      "metadata": {
        "colab": {
          "base_uri": "https://localhost:8080/"
        },
        "id": "QtsObSvmAIiu",
        "outputId": "d9cddff4-8a2b-44ae-e38a-cba7ebd268f2"
      },
      "outputs": [
        {
          "data": {
            "text/plain": [
              "50"
            ]
          },
          "execution_count": 34,
          "metadata": {},
          "output_type": "execute_result"
        }
      ],
      "source": [
        "#Create a variable named x and assign the value 50 to it\n",
        "\n",
        "x = 50\n",
        "x"
      ]
    },
    {
      "cell_type": "code",
      "execution_count": null,
      "metadata": {
        "colab": {
          "base_uri": "https://localhost:8080/"
        },
        "id": "SBHFJ3zbAWkA",
        "outputId": "f0d7da89-f4f1-4e0a-8076-12c82e4ebb06"
      },
      "outputs": [
        {
          "name": "stdout",
          "output_type": "stream",
          "text": [
            "15\n"
          ]
        }
      ],
      "source": [
        "#Display the sum of 5 + 10, using two variables: x and y.\n",
        "\n",
        "x = 5\n",
        "y = 10\n",
        "print(x + y)"
      ]
    },
    {
      "cell_type": "code",
      "execution_count": null,
      "metadata": {
        "colab": {
          "base_uri": "https://localhost:8080/"
        },
        "id": "8OGA9gKyAjTB",
        "outputId": "755c3433-220a-44db-8ab4-5c436ee41e46"
      },
      "outputs": [
        {
          "name": "stdout",
          "output_type": "stream",
          "text": [
            "15\n"
          ]
        }
      ],
      "source": [
        "#Create a variable called z, assign x + y to it, and display the result  x=5 y=10\n",
        "\n",
        "x = 5\n",
        "y = 10\n",
        "z = x+y\n",
        "print(z)"
      ]
    },
    {
      "cell_type": "code",
      "execution_count": null,
      "metadata": {
        "colab": {
          "base_uri": "https://localhost:8080/"
        },
        "id": "NR7oIFGLAwD4",
        "outputId": "4c8a6ef4-c9ab-43c2-b55e-552cef8cfbce"
      },
      "outputs": [
        {
          "output_type": "stream",
          "name": "stdout",
          "text": [
            "John\n"
          ]
        }
      ],
      "source": [
        "# Removes invalid variable names in gven below variable\n",
        "\n",
        "#2my-first_name = \"John\"\n",
        "\n",
        "myfirst_name  = \"John\"\n",
        "print(myfirst_name)"
      ]
    },
    {
      "cell_type": "code",
      "execution_count": null,
      "metadata": {
        "colab": {
          "base_uri": "https://localhost:8080/",
          "height": 35
        },
        "id": "CMHDfkDxBGw4",
        "outputId": "dde2b021-faf3-4c55-e608-f1ffc8575625"
      },
      "outputs": [
        {
          "output_type": "execute_result",
          "data": {
            "text/plain": [
              "'Apple'"
            ],
            "application/vnd.google.colaboratory.intrinsic+json": {
              "type": "string"
            }
          },
          "metadata": {},
          "execution_count": 1
        }
      ],
      "source": [
        "#from traitlets.config.application import ApplicationError\n",
        "#Insert the correct syntax to assign the same value to all three variables in one code line.\n",
        "# x  y z  = apple\n",
        "\n",
        "x = y = z = 'Apple'\n",
        "x\n"
      ]
    },
    {
      "cell_type": "code",
      "execution_count": null,
      "metadata": {
        "colab": {
          "base_uri": "https://localhost:8080/"
        },
        "id": "lMNCbJOhBp7m",
        "outputId": "81c2393d-3268-4151-ea5c-c40430d391c5"
      },
      "outputs": [
        {
          "name": "stdout",
          "output_type": "stream",
          "text": [
            "Hello World\n"
          ]
        }
      ],
      "source": [
        "# insert the correct keyword to make the variable x belong to the global scope.\n",
        "# def fun():\n",
        "#    x = 'Hello World'\n",
        "# print(x)\n",
        "\n",
        "def fun():\n",
        "  global x\n",
        "  x = \"Hello World\"\n",
        "\n",
        "fun() # caling function\n",
        "print(x)  # prints x after changing its value to global"
      ]
    },
    {
      "cell_type": "markdown",
      "metadata": {
        "id": "LpMiiiXaS2rd"
      },
      "source": [
        "#**DATA TYPES**\n",
        "To store different types of data in variables we need to define different data types\n",
        "\n",
        "1. text Type ____  **str**\n",
        "2. Numeric Types__ **int, float, complex**\n",
        "3. Sequence Type__ **list,tuple,range**\n",
        "4. mapping type___ **dict**\n",
        "5. set type_______ **set, frozenset**\n",
        "6. Boolean Type __ **bool**\n",
        "7. Binary Types___ **bytes,bytearray, memoryview**\n",
        "8. None Type_______**NoneType**\n",
        "\n"
      ]
    },
    {
      "cell_type": "code",
      "execution_count": null,
      "metadata": {
        "id": "1qKGbSbdCStA"
      },
      "outputs": [],
      "source": [
        "x1 = \"Hello World\"   #String  str\n",
        "x2 = 3 #int\n",
        "x3 = 3.0 #float\n",
        "x4 = 1j # complex\n",
        "x5 = [\"apple\", \"mango\",\"cherry\"]\n",
        "x6 = [\"apple\",3,1j] #list  #list represents in []\n",
        "x7 = (\"apple\",\"banana\",\"cherry\") #tuple  #tuple represents in ()\n",
        "x8 = range(6)\n",
        "x9 = {'Name':'SP','Age':36}  #Dictionary\n",
        "x10 = {'Apple',\"Jamun\",'Banana'} #set\n",
        "x11 = frozenset({'Apple',\"Jamun\",'Banana'})  #frozenset\n",
        "x12 = True  #bool\n",
        "x13 = b\"Hello\"  #bytes\n",
        "x14 = bytearray(5)\n",
        "x15 = memoryview(bytes(5))\n",
        "x16 = None #NoneType"
      ]
    },
    {
      "cell_type": "code",
      "execution_count": null,
      "metadata": {
        "colab": {
          "base_uri": "https://localhost:8080/"
        },
        "id": "sEG9X3ErZUbO",
        "outputId": "7e7e963b-0e14-4261-968c-24489ceb9958"
      },
      "outputs": [
        {
          "output_type": "stream",
          "name": "stdout",
          "text": [
            "Hello World 3 3.0 1j ['apple', 'mango', 'cherry'] ['apple', 3, 1j] ('apple', 'banana', 'cherry') range(0, 6)\n",
            "{'Name': 'SP', 'Age': 36} {'Banana', 'Apple', 'Jamun'} frozenset({'Banana', 'Apple', 'Jamun'}) True\n",
            "b'Hello' bytearray(b'\\x00\\x00\\x00\\x00\\x00') <memory at 0x7f9c8713ca00> None\n"
          ]
        }
      ],
      "source": [
        "print(x1,x2,x3,x4,x5,x6,x7,x8)\n",
        "print(x9,x10,x11,x12)\n",
        "print(x13,x14,x15,x16)"
      ]
    },
    {
      "cell_type": "markdown",
      "metadata": {
        "id": "12vPEZcn0yau"
      },
      "source": [
        "**What is the difference between frozensets() and tuples()?**\n",
        "\n",
        "Frozensets() and tuples() both  are unmutable , but the major diffenrce is frozensets() maintain uniqueness of its elements, where as tuples() maintain orderness of elements and can hold differenet data types.\n",
        "\n"
      ]
    },
    {
      "cell_type": "code",
      "execution_count": null,
      "metadata": {
        "colab": {
          "base_uri": "https://localhost:8080/"
        },
        "id": "1-1rGPlN1Y3B",
        "outputId": "a0384586-7b15-4277-f8a0-85266206a812"
      },
      "outputs": [
        {
          "name": "stdout",
          "output_type": "stream",
          "text": [
            "frozenset({'blue', 'geen', 'red'})\n"
          ]
        }
      ],
      "source": [
        "#example of frozensets\n",
        "\n",
        "colours = frozenset(['red','geen','blue','red'])\n",
        "\n",
        "print(colours) #prints by removing duplicates\n"
      ]
    },
    {
      "cell_type": "code",
      "execution_count": null,
      "metadata": {
        "colab": {
          "base_uri": "https://localhost:8080/",
          "height": 227
        },
        "id": "ibPUM0Ih15Uh",
        "outputId": "36fbfada-80d5-40c9-fa32-463923d40c92"
      },
      "outputs": [
        {
          "output_type": "error",
          "ename": "AttributeError",
          "evalue": "'frozenset' object has no attribute 'add'",
          "traceback": [
            "\u001b[0;31m---------------------------------------------------------------------------\u001b[0m",
            "\u001b[0;31mAttributeError\u001b[0m                            Traceback (most recent call last)",
            "\u001b[0;32m<ipython-input-8-d26eb907343c>\u001b[0m in \u001b[0;36m<cell line: 4>\u001b[0;34m()\u001b[0m\n\u001b[1;32m      2\u001b[0m \u001b[0;34m\u001b[0m\u001b[0m\n\u001b[1;32m      3\u001b[0m \u001b[0mcolours\u001b[0m \u001b[0;34m=\u001b[0m \u001b[0mfrozenset\u001b[0m\u001b[0;34m(\u001b[0m\u001b[0;34m[\u001b[0m\u001b[0;34m'red'\u001b[0m\u001b[0;34m,\u001b[0m\u001b[0;34m'geen'\u001b[0m\u001b[0;34m,\u001b[0m\u001b[0;34m'blue'\u001b[0m\u001b[0;34m,\u001b[0m\u001b[0;34m'red'\u001b[0m\u001b[0;34m]\u001b[0m\u001b[0;34m)\u001b[0m\u001b[0;34m\u001b[0m\u001b[0;34m\u001b[0m\u001b[0m\n\u001b[0;32m----> 4\u001b[0;31m \u001b[0mcolours\u001b[0m\u001b[0;34m.\u001b[0m\u001b[0madd\u001b[0m\u001b[0;34m(\u001b[0m\u001b[0;34m'blue'\u001b[0m\u001b[0;34m)\u001b[0m\u001b[0;34m\u001b[0m\u001b[0;34m\u001b[0m\u001b[0m\n\u001b[0m\u001b[1;32m      5\u001b[0m \u001b[0mprint\u001b[0m\u001b[0;34m(\u001b[0m\u001b[0mcolours\u001b[0m\u001b[0;34m)\u001b[0m \u001b[0;31m#prints by removing duplicates\u001b[0m\u001b[0;34m\u001b[0m\u001b[0;34m\u001b[0m\u001b[0m\n",
            "\u001b[0;31mAttributeError\u001b[0m: 'frozenset' object has no attribute 'add'"
          ]
        }
      ],
      "source": [
        "#example of frozensets\n",
        "\n",
        "colours = frozenset(['red','geen','blue','red'])\n",
        "colours.add('blue')\n",
        "print(colours) #prints by removing duplicates"
      ]
    },
    {
      "cell_type": "code",
      "execution_count": null,
      "metadata": {
        "colab": {
          "base_uri": "https://localhost:8080/"
        },
        "id": "_mXX1G7o4WSl",
        "outputId": "58f24ef8-afcb-4b71-fb01-d91299ea12c7"
      },
      "outputs": [
        {
          "output_type": "stream",
          "name": "stdout",
          "text": [
            "frozenset({1, 2.4, 'blue', 'red', 'geen'})\n"
          ]
        }
      ],
      "source": [
        "#example of frozensets\n",
        "\n",
        "colours = frozenset(['red','geen','blue','red',1,2.4])\n",
        "\n",
        "print(colours) #prints by removing duplicates"
      ]
    },
    {
      "cell_type": "code",
      "execution_count": null,
      "metadata": {
        "colab": {
          "base_uri": "https://localhost:8080/"
        },
        "id": "Tp5m17Gt4bda",
        "outputId": "6379319b-137c-4d67-b300-9b1451cd0c13"
      },
      "outputs": [
        {
          "output_type": "stream",
          "name": "stdout",
          "text": [
            "('red', 'green', 'red', 33, 3.4, 33)\n"
          ]
        }
      ],
      "source": [
        "#example of tuple\n",
        "\n",
        "types = ('red','green','red',33,3.4,33)\n",
        "print(types) # prints even though have duplicates"
      ]
    },
    {
      "cell_type": "code",
      "execution_count": null,
      "metadata": {
        "colab": {
          "base_uri": "https://localhost:8080/",
          "height": 227
        },
        "id": "kA1dpQLD5SOa",
        "outputId": "5d85f283-fc98-4825-931d-c1f07b137bd0"
      },
      "outputs": [
        {
          "name": "stdout",
          "output_type": "stream",
          "text": [
            "('red', 'green', 'red', 33, 3.4)\n"
          ]
        },
        {
          "ename": "AttributeError",
          "evalue": "ignored",
          "output_type": "error",
          "traceback": [
            "\u001b[0;31m---------------------------------------------------------------------------\u001b[0m",
            "\u001b[0;31mAttributeError\u001b[0m                            Traceback (most recent call last)",
            "\u001b[0;32m<ipython-input-57-9b0891c803aa>\u001b[0m in \u001b[0;36m<cell line: 5>\u001b[0;34m()\u001b[0m\n\u001b[1;32m      3\u001b[0m \u001b[0mtypes\u001b[0m \u001b[0;34m=\u001b[0m \u001b[0;34m(\u001b[0m\u001b[0;34m'red'\u001b[0m\u001b[0;34m,\u001b[0m\u001b[0;34m'green'\u001b[0m\u001b[0;34m,\u001b[0m\u001b[0;34m'red'\u001b[0m\u001b[0;34m,\u001b[0m\u001b[0;36m33\u001b[0m\u001b[0;34m,\u001b[0m\u001b[0;36m3.4\u001b[0m\u001b[0;34m)\u001b[0m\u001b[0;34m\u001b[0m\u001b[0;34m\u001b[0m\u001b[0m\n\u001b[1;32m      4\u001b[0m \u001b[0mprint\u001b[0m\u001b[0;34m(\u001b[0m\u001b[0mtypes\u001b[0m\u001b[0;34m)\u001b[0m \u001b[0;31m# prints even though have duplicates\u001b[0m\u001b[0;34m\u001b[0m\u001b[0;34m\u001b[0m\u001b[0m\n\u001b[0;32m----> 5\u001b[0;31m \u001b[0mtypes\u001b[0m\u001b[0;34m.\u001b[0m\u001b[0madd\u001b[0m\u001b[0;34m(\u001b[0m\u001b[0;36m3\u001b[0m\u001b[0;34m)\u001b[0m\u001b[0;34m\u001b[0m\u001b[0;34m\u001b[0m\u001b[0m\n\u001b[0m",
            "\u001b[0;31mAttributeError\u001b[0m: 'tuple' object has no attribute 'add'"
          ]
        }
      ],
      "source": [
        "#example of tuple\n",
        "\n",
        "types = ('red','green','red',33,3.4)\n",
        "print(types) # prints even though have duplicates\n",
        "types.add(3) # throws error bcoz tuple cant take new value"
      ]
    },
    {
      "cell_type": "code",
      "execution_count": null,
      "metadata": {
        "id": "DLItiKlV5MNI"
      },
      "outputs": [],
      "source": []
    },
    {
      "cell_type": "markdown",
      "metadata": {
        "id": "pWb7Y8q16JL8"
      },
      "source": [
        "**type() function**\n",
        "\n",
        "type() function returns type of data type of a variable"
      ]
    },
    {
      "cell_type": "code",
      "execution_count": null,
      "metadata": {
        "colab": {
          "base_uri": "https://localhost:8080/"
        },
        "id": "Nb3fR82m6XQ5",
        "outputId": "5396efb3-72ac-41c8-df37-2d8a230e5a28"
      },
      "outputs": [
        {
          "name": "stdout",
          "output_type": "stream",
          "text": [
            "<class 'int'>\n"
          ]
        }
      ],
      "source": [
        "#type() example\n",
        "\n",
        "a=5\n",
        "type(a) #int\n",
        "print(type(a)) #<class 'int>\n",
        "\n"
      ]
    },
    {
      "cell_type": "code",
      "execution_count": null,
      "metadata": {
        "id": "YcoX-HjY7ffx"
      },
      "outputs": [],
      "source": []
    },
    {
      "cell_type": "code",
      "execution_count": null,
      "metadata": {
        "colab": {
          "base_uri": "https://localhost:8080/"
        },
        "id": "07u9wafZ7XGW",
        "outputId": "26a78e00-2f6f-4e6b-e331-e896fc758989"
      },
      "outputs": [
        {
          "data": {
            "text/plain": [
              "float"
            ]
          },
          "execution_count": 72,
          "metadata": {},
          "output_type": "execute_result"
        }
      ],
      "source": [
        "b =2.3\n",
        "type(b)\n"
      ]
    },
    {
      "cell_type": "code",
      "execution_count": null,
      "metadata": {
        "colab": {
          "base_uri": "https://localhost:8080/"
        },
        "id": "wpjpXhKq7jdx",
        "outputId": "9978b94f-e25b-4ecb-bb5f-3fc1ad16ee64"
      },
      "outputs": [
        {
          "data": {
            "text/plain": [
              "str"
            ]
          },
          "execution_count": 73,
          "metadata": {},
          "output_type": "execute_result"
        }
      ],
      "source": [
        "\n",
        "c='Python'\n",
        "type(c)"
      ]
    },
    {
      "cell_type": "code",
      "execution_count": null,
      "metadata": {
        "colab": {
          "base_uri": "https://localhost:8080/"
        },
        "id": "ZTuh3Z3E8Olu",
        "outputId": "571e9499-6b34-40ed-d708-0b9185ca2650"
      },
      "outputs": [
        {
          "data": {
            "text/plain": [
              "list"
            ]
          },
          "execution_count": 76,
          "metadata": {},
          "output_type": "execute_result"
        }
      ],
      "source": [
        "x = ['mango','banana',5]\n",
        "type(x)"
      ]
    },
    {
      "cell_type": "code",
      "execution_count": null,
      "metadata": {
        "colab": {
          "base_uri": "https://localhost:8080/"
        },
        "id": "pM5abb9w8sUp",
        "outputId": "edb61be0-4586-40d7-d4c3-51ae48f0ab7f"
      },
      "outputs": [
        {
          "data": {
            "text/plain": [
              "tuple"
            ]
          },
          "execution_count": 77,
          "metadata": {},
          "output_type": "execute_result"
        }
      ],
      "source": [
        "x = ('mango','banana',5)\n",
        "type(x)"
      ]
    },
    {
      "cell_type": "code",
      "execution_count": null,
      "metadata": {
        "colab": {
          "base_uri": "https://localhost:8080/"
        },
        "id": "0gTVFcm385Ay",
        "outputId": "2c4ae8a8-9619-41f2-bef6-e845722a581d"
      },
      "outputs": [
        {
          "data": {
            "text/plain": [
              "dict"
            ]
          },
          "execution_count": 78,
          "metadata": {},
          "output_type": "execute_result"
        }
      ],
      "source": [
        "x = {'Name':'SS','Age':55}\n",
        "type(x)"
      ]
    },
    {
      "cell_type": "code",
      "execution_count": null,
      "metadata": {
        "colab": {
          "base_uri": "https://localhost:8080/"
        },
        "id": "tBmtO0mE9CfQ",
        "outputId": "40b51971-64fd-4644-d6bc-0018458d9cc2"
      },
      "outputs": [
        {
          "data": {
            "text/plain": [
              "bool"
            ]
          },
          "execution_count": 81,
          "metadata": {},
          "output_type": "execute_result"
        }
      ],
      "source": [
        "x = True\n",
        "type(x)\n",
        "y = False\n",
        "type(y)"
      ]
    },
    {
      "cell_type": "code",
      "execution_count": null,
      "metadata": {
        "colab": {
          "base_uri": "https://localhost:8080/"
        },
        "id": "obTU7iRX9Lww",
        "outputId": "0bdfc2d6-ae53-448c-b0b5-79f94fc98139"
      },
      "outputs": [
        {
          "name": "stdout",
          "output_type": "stream",
          "text": [
            "b'\\x00\\x00\\x00\\x00\\x00'\n"
          ]
        }
      ],
      "source": [
        "# bytes is data types which used to store binary data non type of text .\n",
        "# bytes is immuatable non changeable data\n",
        "x = bytes(5)\n",
        "type(x)\n",
        "print(x)"
      ]
    },
    {
      "cell_type": "code",
      "execution_count": null,
      "metadata": {
        "colab": {
          "base_uri": "https://localhost:8080/"
        },
        "id": "MesOr7mQ8m7O",
        "outputId": "ec7e49ae-42b4-450e-d2dd-58c2b6ba215f"
      },
      "outputs": [
        {
          "name": "stdout",
          "output_type": "stream",
          "text": [
            "bytearray(b'\\x00\\x00\\x00\\x00\\x00')\n"
          ]
        }
      ],
      "source": [
        "# to store sequence of bytes or non text data.\n",
        "#bytearray is mutable can change\n",
        "x =bytearray(5)\n",
        "type(x)\n",
        "print(x)"
      ]
    },
    {
      "cell_type": "code",
      "execution_count": null,
      "metadata": {
        "colab": {
          "base_uri": "https://localhost:8080/"
        },
        "id": "01gVyczu8xB6",
        "outputId": "ca0f7791-b67f-4486-a5a9-ac425d930226"
      },
      "outputs": [
        {
          "name": "stdout",
          "output_type": "stream",
          "text": [
            "<class 'memoryview'>\n",
            "<memory at 0x7c05cbbec400>\n"
          ]
        }
      ],
      "source": [
        "#\n",
        "x = memoryview(bytes(5))\n",
        "print(type(x))\n",
        "print(x)"
      ]
    },
    {
      "cell_type": "code",
      "execution_count": null,
      "metadata": {
        "id": "g0DumkUYVmV7"
      },
      "outputs": [],
      "source": [
        "\n"
      ]
    },
    {
      "cell_type": "markdown",
      "metadata": {
        "id": "9zUypBAoSDCg"
      },
      "source": [
        "#**Number Types in Python**\n",
        "\n",
        "**int** > integer\n",
        "\n",
        "**float** > float\n",
        "\n",
        "**complex** > complex type"
      ]
    },
    {
      "cell_type": "code",
      "execution_count": null,
      "metadata": {
        "colab": {
          "base_uri": "https://localhost:8080/"
        },
        "id": "2DOI7ETtTV79",
        "outputId": "76828139-e022-4b87-eaf7-14941944353d"
      },
      "outputs": [
        {
          "name": "stdout",
          "output_type": "stream",
          "text": [
            "<class 'int'>\n",
            "<class 'float'>\n",
            "<class 'complex'>\n"
          ]
        }
      ],
      "source": [
        "x =1\n",
        "y = 2.2\n",
        "z = 1j\n",
        "\n",
        "print(type(x))\n",
        "print(type(y))\n",
        "print(type(z))"
      ]
    },
    {
      "cell_type": "code",
      "execution_count": null,
      "metadata": {
        "colab": {
          "base_uri": "https://localhost:8080/"
        },
        "id": "pqlira7KTgyU",
        "outputId": "213efcef-ce6e-464f-cfa3-374c23beba8a"
      },
      "outputs": [
        {
          "name": "stdout",
          "output_type": "stream",
          "text": [
            "<class 'int'>\n",
            "<class 'int'>\n",
            "<class 'int'>\n"
          ]
        }
      ],
      "source": [
        "#integer example\n",
        "x = 5\n",
        "y = 54654867636\n",
        "z = -646\n",
        "print(type(x))\n",
        "print(type(y))\n",
        "print(type(z))\n"
      ]
    },
    {
      "cell_type": "code",
      "execution_count": null,
      "metadata": {
        "colab": {
          "base_uri": "https://localhost:8080/"
        },
        "id": "QG4-ff-iUcHp",
        "outputId": "be739d85-61e2-4d33-bad8-9b13b6af2321"
      },
      "outputs": [
        {
          "name": "stdout",
          "output_type": "stream",
          "text": [
            "<class 'float'>\n",
            "<class 'float'>\n",
            "<class 'float'>\n",
            "<class 'float'>\n"
          ]
        }
      ],
      "source": [
        "#float example\n",
        "x = 1.2\n",
        "y=  22e88\n",
        "z = -25.25\n",
        "c = -25e44\n",
        "\n",
        "print(type(x))\n",
        "print(type(y))\n",
        "print(type(z))\n",
        "print(type(c))"
      ]
    },
    {
      "cell_type": "code",
      "execution_count": null,
      "metadata": {
        "colab": {
          "base_uri": "https://localhost:8080/"
        },
        "id": "U88hkhHtUv9A",
        "outputId": "ff72a404-ea3a-4d9e-97da-2121398815bb"
      },
      "outputs": [
        {
          "name": "stdout",
          "output_type": "stream",
          "text": [
            "<class 'complex'>\n",
            "<class 'complex'>\n",
            "<class 'complex'>\n"
          ]
        }
      ],
      "source": [
        "#complex numbers\n",
        "# in ython complex number are denoted with letter \"J\" as imaginary part also known as √-1\n",
        "\n",
        "x =3j\n",
        "y = 3+5j\n",
        "z = -3j\n",
        "print(type(x))\n",
        "print(type(y))\n",
        "print(type(z))\n"
      ]
    },
    {
      "cell_type": "markdown",
      "metadata": {
        "id": "VI1PYLVvXOC1"
      },
      "source": [
        "#**RANDOM Numbers**\n",
        "\n",
        "Random comss froma bulit in odule called random to print random numbers\n"
      ]
    },
    {
      "cell_type": "code",
      "execution_count": null,
      "metadata": {
        "colab": {
          "base_uri": "https://localhost:8080/"
        },
        "id": "IJyusKS3XWSU",
        "outputId": "b02c2135-8b0f-44f2-d65e-8c8fd4452a9c"
      },
      "outputs": [
        {
          "name": "stdout",
          "output_type": "stream",
          "text": [
            "3\n",
            "2\n",
            "<module 'random' from '/usr/lib/python3.10/random.py'>\n"
          ]
        }
      ],
      "source": [
        "import random\n",
        "print(random.randrange(5))\n",
        "print(random.randrange(1,6))\n",
        "print(random)"
      ]
    },
    {
      "cell_type": "markdown",
      "metadata": {
        "id": "cl7FHIIsYP2r"
      },
      "source": [
        "#**Casting in Python**\n",
        "\n",
        "Changing data type from in python"
      ]
    },
    {
      "cell_type": "code",
      "execution_count": null,
      "metadata": {
        "colab": {
          "base_uri": "https://localhost:8080/"
        },
        "id": "YKMyujXzfiFq",
        "outputId": "2bd41577-1c3b-4bf3-e91d-ef76116703a4"
      },
      "outputs": [
        {
          "name": "stdout",
          "output_type": "stream",
          "text": [
            "x is type of <class 'int'>\n",
            "y is type of <class 'int'>\n",
            "z is type of <class 'int'>\n",
            "\n",
            "6\n",
            "0\n",
            "\n",
            " 1 \n",
            " 2 \n",
            " 3\n"
          ]
        }
      ],
      "source": [
        "#Casting to integer\n",
        "\n",
        "x = int(1)\n",
        "y = int(2.0)\n",
        "z = int(\"3\")\n",
        "\n",
        "type(x), type(y), type(z)\n",
        "print(\"x is type of\",type(x))\n",
        "print(\"y is type of\" , type(y))\n",
        "print(\"z is type of\", type(z))\n",
        "print()\n",
        "print(z+3)\n",
        "print(x+y-z)\n",
        "print(\"\\n\",x,\"\\n\",y,\"\\n\",z) #\\n prints new line"
      ]
    },
    {
      "cell_type": "code",
      "execution_count": null,
      "metadata": {
        "colab": {
          "base_uri": "https://localhost:8080/"
        },
        "id": "fCTEy-sBf-HR",
        "outputId": "9911676f-abd3-402b-b26a-854deeb7b75e"
      },
      "outputs": [
        {
          "name": "stdout",
          "output_type": "stream",
          "text": [
            "x is type of <class 'float'>\n",
            "y is type of <class 'float'>\n",
            "z is type of <class 'float'>\n",
            "\n",
            "\n",
            " 1.0 \n",
            " 2.0 \n",
            " 3.0\n"
          ]
        }
      ],
      "source": [
        "# Casting float\n",
        "x = float(1)\n",
        "y = float(2.0)\n",
        "z = float(\"3\")\n",
        "type(x), type(y), type(z)\n",
        "print(\"x is type of\",type(x))\n",
        "print(\"y is type of\" , type(y))\n",
        "print(\"z is type of\", type(z))\n",
        "print()\n",
        "print(\"\\n\",x,\"\\n\",y,\"\\n\",z)"
      ]
    },
    {
      "cell_type": "code",
      "execution_count": null,
      "metadata": {
        "colab": {
          "base_uri": "https://localhost:8080/"
        },
        "id": "SQbNVGXngTEJ",
        "outputId": "bdb5fdff-fa0a-4b53-caf0-9238f57e23e8"
      },
      "outputs": [
        {
          "name": "stdout",
          "output_type": "stream",
          "text": [
            "x is type of <class 'str'>\n",
            "y is type of <class 'str'>\n",
            "z is type of <class 'str'>\n",
            "\n",
            "12.03\n",
            "\n",
            " 1 \n",
            " 2.0 \n",
            " 3\n",
            "\n",
            " 1 \r 2.0 \n",
            " 3\n"
          ]
        }
      ],
      "source": [
        "#Casting string\n",
        "x = str(1)\n",
        "y = str(2.0)\n",
        "z = str(3)\n",
        "\n",
        "type(x), type(y), type(z)\n",
        "print(\"x is type of\",type(x))\n",
        "print(\"y is type of\" , type(y))\n",
        "print(\"z is type of\", type(z))\n",
        "print()\n",
        "print(x+y+z) #Concates strings\n",
        "\n",
        "print(\"\\n\",x,\"\\n\",y,\"\\n\",z)\n",
        "print(\"\\n\",x,\"\\r\",y,\"\\n\",z)"
      ]
    },
    {
      "cell_type": "markdown",
      "metadata": {
        "id": "t70GGwcGh3o3"
      },
      "source": [
        "#**String in Python**\n",
        "\n",
        "In python strings are denoted by single quotation(' ') or double quoation(\" \") for single line comments\n",
        "\n",
        "  or three single quotes('''   ''') or three double quotes(\"\"\"    \"\"\") for multi line comments\n",
        "\n",
        "\n"
      ]
    },
    {
      "cell_type": "code",
      "execution_count": null,
      "metadata": {
        "colab": {
          "base_uri": "https://localhost:8080/"
        },
        "id": "Q6DNgIZYiGqg",
        "outputId": "149726ee-8c21-451e-e893-c05eff33bc02"
      },
      "outputs": [
        {
          "name": "stdout",
          "output_type": "stream",
          "text": [
            "Hello\n",
            "hello\n"
          ]
        }
      ],
      "source": [
        "print(\"Hello\")\n",
        "print('hello')"
      ]
    },
    {
      "cell_type": "code",
      "execution_count": null,
      "metadata": {
        "colab": {
          "base_uri": "https://localhost:8080/"
        },
        "id": "a8vywhbmiJ40",
        "outputId": "c5c991e8-f12c-4aba-81e2-fc2a70695098"
      },
      "outputs": [
        {
          "name": "stdout",
          "output_type": "stream",
          "text": [
            "welcome PYTHON\n"
          ]
        }
      ],
      "source": [
        "a = \"welcome\"\n",
        "b = 'PYTHON'\n",
        "print(a,b)"
      ]
    },
    {
      "cell_type": "code",
      "execution_count": null,
      "metadata": {
        "colab": {
          "base_uri": "https://localhost:8080/"
        },
        "id": "1gDJnDGxiqS7",
        "outputId": "c41f3f0c-e13c-404d-d14f-72853a1734d0"
      },
      "outputs": [
        {
          "name": "stdout",
          "output_type": "stream",
          "text": [
            "  Welcome to python classes,\n",
            "python is the most programing language now a days\n",
            "and python is very simple and \n",
            "not like other programmng languages it is a interpreter language.\n",
            "\n"
          ]
        }
      ],
      "source": [
        "#double quotes\n",
        "a = \"\"\"  Welcome to python classes,\n",
        "python is the most programing language now a days\n",
        "and python is very simple and\n",
        "not like other programmng languages it is a interpreter language.\n",
        "\"\"\"\n",
        "\n",
        "print(a)"
      ]
    },
    {
      "cell_type": "code",
      "execution_count": null,
      "metadata": {
        "colab": {
          "base_uri": "https://localhost:8080/"
        },
        "id": "i_sqzczIjn8x",
        "outputId": "5e72404b-670a-4223-dc76-f7bf604e3480"
      },
      "outputs": [
        {
          "name": "stdout",
          "output_type": "stream",
          "text": [
            " Welcome to python classes,\n",
            "python is the most programing language now a days\n",
            "and python is very simple and \n",
            "not like other programmng languages it is a interpreter language.\n",
            "\n"
          ]
        }
      ],
      "source": [
        "#single quotes, prints as per given format\n",
        "a = ''' Welcome to python classes,\n",
        "python is the most programing language now a days\n",
        "and python is very simple and\n",
        "not like other programmng languages it is a interpreter language.\n",
        "'''\n",
        "\n",
        "print(a)"
      ]
    },
    {
      "cell_type": "markdown",
      "metadata": {
        "id": "yQi5hND9l9Jw"
      },
      "source": [
        "In python there is no 'character' dataype. Where as we use strings as arrays to evaluate the character data type.\n",
        "\n",
        "We can sue square brackets [] as syntax..\n",
        "\n",
        "Index starts from 0..\n",
        "\n",
        "For eg HELLO  = [0],[1],[2],[3],[4],[5] ettc..\n",
        ">[0]=  H\n",
        "\n",
        ">[1]=  E\n",
        "\n",
        ">[2]=  L\n",
        "\n",
        ">[3]=  L\n",
        "\n",
        ">[4]=  O  \n",
        "\n"
      ]
    },
    {
      "cell_type": "code",
      "execution_count": null,
      "metadata": {
        "colab": {
          "base_uri": "https://localhost:8080/"
        },
        "id": "id14Hc94mQol",
        "outputId": "588e7cbd-bce8-420b-e53e-45e5b7d30665"
      },
      "outputs": [
        {
          "data": {
            "text/plain": [
              "('H', 'o')"
            ]
          },
          "execution_count": 34,
          "metadata": {},
          "output_type": "execute_result"
        }
      ],
      "source": [
        "a = 'Hello'\n",
        "a[0],a[4]"
      ]
    },
    {
      "cell_type": "code",
      "execution_count": null,
      "metadata": {
        "colab": {
          "base_uri": "https://localhost:8080/"
        },
        "id": "6idtQBBqSrRl",
        "outputId": "c69d46d9-f559-496f-febe-765655aca366"
      },
      "outputs": [
        {
          "name": "stdout",
          "output_type": "stream",
          "text": [
            "hello"
          ]
        }
      ],
      "source": [
        "for a in 'hello':\n",
        "    print(a,end='')"
      ]
    },
    {
      "cell_type": "code",
      "execution_count": null,
      "metadata": {
        "colab": {
          "base_uri": "https://localhost:8080/"
        },
        "id": "QEXa0loNTiNM",
        "outputId": "0877fbb0-abd1-4dba-ef8c-b6a59a2a62ee"
      },
      "outputs": [
        {
          "name": "stdout",
          "output_type": "stream",
          "text": [
            "5\n"
          ]
        }
      ],
      "source": [
        "#String Length\n",
        "\n",
        "a = \"Hello\"\n",
        "print(len(a))"
      ]
    },
    {
      "cell_type": "code",
      "execution_count": null,
      "metadata": {
        "colab": {
          "base_uri": "https://localhost:8080/"
        },
        "id": "HYmw4y3tUpv8",
        "outputId": "c6073334-45ff-4e46-b45a-2fccae5dd4b5"
      },
      "outputs": [
        {
          "output_type": "stream",
          "name": "stdout",
          "text": [
            "(0, 'H')\n",
            "(1, 'e')\n",
            "(2, 'l')\n",
            "(3, 'l')\n",
            "(4, 'o')\n"
          ]
        }
      ],
      "source": [
        "a = \"Hello\"\n",
        "for x in enumerate(a):\n",
        "  print(x)\n"
      ]
    },
    {
      "cell_type": "code",
      "execution_count": null,
      "metadata": {
        "colab": {
          "base_uri": "https://localhost:8080/"
        },
        "id": "v0_dh-PyVQzr",
        "outputId": "3e959c98-053c-4c65-b898-0bf3a40075c6"
      },
      "outputs": [
        {
          "name": "stdout",
          "output_type": "stream",
          "text": [
            "True\n",
            "False\n"
          ]
        }
      ],
      "source": [
        "#Check certain charater or word using \"in\" in a string\n",
        "# Returns boolean value\n",
        "# Python is case sensitive\n",
        "\n",
        "a = \"Welcome to Python World\"\n",
        "\n",
        "print(\"Python\" in a)  #Checks if the string value present\n",
        "print(\"python\" in a)  # Case sensitive"
      ]
    },
    {
      "cell_type": "code",
      "execution_count": null,
      "metadata": {
        "colab": {
          "base_uri": "https://localhost:8080/"
        },
        "id": "4v1Ns-PKWgwF",
        "outputId": "26bb1181-4568-46dc-d5fa-6aee58f2a9ba"
      },
      "outputs": [
        {
          "name": "stdout",
          "output_type": "stream",
          "text": [
            "True\n",
            "False\n"
          ]
        }
      ],
      "source": [
        "a = \"Welcome to Python World\"\n",
        "print(\"welcome\" not in a)\n",
        "print(\"Welcome\" not in a)"
      ]
    },
    {
      "cell_type": "markdown",
      "metadata": {
        "id": "FZofzmT15QQ9"
      },
      "source": [
        "*italicized text*#**Slicing**\n",
        ">\n",
        "Slicing is used to return some range of characters in a string\n",
        ">Index start from 0\n",
        "In slicing index prints from **start value** to **(end-1)** value\n",
        "\n",
        "**x=  hello\n",
        "x[1:5]**\n",
        "\n",
        "here 1 value is **e** 5 value 5-1=(4) i.e **o**\n",
        "\n",
        "it prints startng value as given index value, but where as it omits end index value  **n-1**\n",
        "\n",
        "INDEX\n",
        ">0 1 2 3 ... +ve side\n",
        "\n",
        ">-1 -2 -3 -4...-ve side\n",
        "\n",
        "eg.. 5 4 3 2 1 0 -5 -4 -3 -2 -1"
      ]
    },
    {
      "cell_type": "code",
      "execution_count": null,
      "metadata": {
        "colab": {
          "base_uri": "https://localhost:8080/"
        },
        "id": "Djf4rBXI43ul",
        "outputId": "a537ac2d-f04b-469a-9545-ec49c542b893"
      },
      "outputs": [
        {
          "output_type": "stream",
          "name": "stdout",
          "text": [
            "llo \n"
          ]
        }
      ],
      "source": [
        "#Slicing\n",
        "x = \"Hello World\"\n",
        "# H E L L O   W O R L D\n",
        "# 0 1 2 3 4 5 6 7 8 9 10\n",
        "\n",
        "print(x[2:6])\n"
      ]
    },
    {
      "cell_type": "code",
      "execution_count": null,
      "metadata": {
        "colab": {
          "base_uri": "https://localhost:8080/"
        },
        "id": "RS59NMG888a4",
        "outputId": "1d492acc-491b-409b-b1f4-7e0cb3978953"
      },
      "outputs": [
        {
          "name": "stdout",
          "output_type": "stream",
          "text": [
            "Hello\n"
          ]
        }
      ],
      "source": [
        "#Slicing\n",
        "x = \"Hello World\"\n",
        "print(x[:5]) #start from zero index [0]  to [5-1=4] , space( ) will also be counted"
      ]
    },
    {
      "cell_type": "code",
      "execution_count": null,
      "metadata": {
        "colab": {
          "base_uri": "https://localhost:8080/"
        },
        "id": "FGq-2nNNiJad",
        "outputId": "c3dead67-2aad-4dad-f34c-119372ba01df"
      },
      "outputs": [
        {
          "name": "stdout",
          "output_type": "stream",
          "text": [
            "ello\n"
          ]
        }
      ],
      "source": [
        "x=  'hello'\n",
        "print(x[1:])"
      ]
    },
    {
      "cell_type": "code",
      "execution_count": null,
      "metadata": {
        "colab": {
          "base_uri": "https://localhost:8080/"
        },
        "id": "HHNvTGhsjuwc",
        "outputId": "95972974-e239-4d9f-905d-88f6bde7e22e"
      },
      "outputs": [
        {
          "output_type": "stream",
          "name": "stdout",
          "text": [
            "Wor\n"
          ]
        }
      ],
      "source": [
        "x = 'Hello World'\n",
        "print(x[-5:-2]) # from left starts '-1'\n",
        "\n",
        "# from left starts -1   , but here -2 is l and -5 is w . it prints wor before the letter of -2 poistion i.e.l\n"
      ]
    },
    {
      "cell_type": "code",
      "execution_count": null,
      "metadata": {
        "id": "Jlvf5woDmWnP"
      },
      "outputs": [],
      "source": []
    },
    {
      "cell_type": "markdown",
      "metadata": {
        "id": "PhYtZy1Ko29_"
      },
      "source": [
        "#**String Modifiers**"
      ]
    },
    {
      "cell_type": "code",
      "execution_count": null,
      "metadata": {
        "colab": {
          "base_uri": "https://localhost:8080/"
        },
        "id": "7TMxglH-jY8u",
        "outputId": "a7292622-d1ed-44ee-d738-4b5be08e7b65"
      },
      "outputs": [
        {
          "name": "stdout",
          "output_type": "stream",
          "text": [
            "HELLO WORLD\n"
          ]
        }
      ],
      "source": [
        "#upper case\n",
        "\n",
        "x = \"hello world\"\n",
        "print(x.upper())"
      ]
    },
    {
      "cell_type": "code",
      "execution_count": null,
      "metadata": {
        "colab": {
          "base_uri": "https://localhost:8080/"
        },
        "id": "wf_-BvyXpCBh",
        "outputId": "8b620f22-9ad2-4f35-d3e9-b184ce4add64"
      },
      "outputs": [
        {
          "name": "stdout",
          "output_type": "stream",
          "text": [
            "hello world\n"
          ]
        }
      ],
      "source": [
        "#Lower Case\n",
        "x = \"HELLO WorlD\"\n",
        "print(x.lower())"
      ]
    },
    {
      "cell_type": "code",
      "execution_count": null,
      "metadata": {
        "colab": {
          "base_uri": "https://localhost:8080/"
        },
        "id": "ncZRdYvRpL9W",
        "outputId": "3aace94c-173d-413e-ed37-f5ff29cb1e26"
      },
      "outputs": [
        {
          "name": "stdout",
          "output_type": "stream",
          "text": [
            "Hello : World\n"
          ]
        }
      ],
      "source": [
        "#strip() to remove white spaces before starting the string or at the end of the string.\n",
        "# Note: Will  ot remove between the string\n",
        "\n",
        "x = \"   Hello : World  \"\n",
        "print(x.strip())"
      ]
    },
    {
      "cell_type": "code",
      "execution_count": null,
      "metadata": {
        "colab": {
          "base_uri": "https://localhost:8080/"
        },
        "id": "oRXWWEtdpteD",
        "outputId": "6e286182-0b0b-49eb-b247-cef40081ecf3"
      },
      "outputs": [
        {
          "name": "stdout",
          "output_type": "stream",
          "text": [
            "Hello PytPon\n",
            "Jello Python\n"
          ]
        }
      ],
      "source": [
        "#String replace\n",
        "#Replaces given charcter with existed character\n",
        "\n",
        "x = \"Hello Python\"\n",
        "print(x.replace(\"h\",\"P\")) # case sensitive\n",
        "print(x.replace(\"H\",\"J\"))"
      ]
    },
    {
      "cell_type": "code",
      "execution_count": null,
      "metadata": {
        "colab": {
          "base_uri": "https://localhost:8080/"
        },
        "id": "EL9kHzILqTYg",
        "outputId": "c3f8b691-2ab3-47fc-fd42-cb84abf4b91c"
      },
      "outputs": [
        {
          "name": "stdout",
          "output_type": "stream",
          "text": [
            "['Hello', ' World']\n",
            "['Hello. ', 'orld']\n"
          ]
        }
      ],
      "source": [
        "#split string\n",
        "x = \"Hello. World\"\n",
        "print(x.split('.'))\n",
        "print(x.split(\"W\")) #splits by removing 'W'"
      ]
    },
    {
      "cell_type": "code",
      "execution_count": null,
      "metadata": {
        "colab": {
          "base_uri": "https://localhost:8080/"
        },
        "id": "126vcxl3qskx",
        "outputId": "8d76a082-1e5b-4a0d-d258-fee327ae8551"
      },
      "outputs": [
        {
          "name": "stdout",
          "output_type": "stream",
          "text": [
            "['Hello, Wo', 'ld']\n"
          ]
        }
      ],
      "source": [
        "#split string\n",
        "x = \"Hello, World\"\n",
        "\n",
        "print(x.split(\"r\")) #splits by removing \"r\""
      ]
    },
    {
      "cell_type": "code",
      "execution_count": null,
      "metadata": {
        "colab": {
          "base_uri": "https://localhost:8080/"
        },
        "id": "5rtZQ1NGqGCb",
        "outputId": "506aa8b8-0c8e-4a81-8229-2c5f568e058a"
      },
      "outputs": [
        {
          "name": "stdout",
          "output_type": "stream",
          "text": [
            "hellopython\n"
          ]
        }
      ],
      "source": [
        "#String Concatenation\n",
        "x = 'hello'\n",
        "y = 'python'\n",
        "\n",
        "z = x+y\n",
        "print(z)\n"
      ]
    },
    {
      "cell_type": "code",
      "execution_count": null,
      "metadata": {
        "colab": {
          "base_uri": "https://localhost:8080/"
        },
        "id": "HUMoovgYsOKG",
        "outputId": "a221067d-0d93-4cf1-c8ab-a2b433521b75"
      },
      "outputs": [
        {
          "name": "stdout",
          "output_type": "stream",
          "text": [
            "hello  python\n"
          ]
        }
      ],
      "source": [
        "z = x+ \"  \"+y\n",
        "print(z)"
      ]
    },
    {
      "cell_type": "code",
      "execution_count": null,
      "metadata": {
        "colab": {
          "base_uri": "https://localhost:8080/"
        },
        "id": "QrVkfwPLsUfH",
        "outputId": "c5a2f527-e5ce-4089-84f9-f3aa19b02b6f"
      },
      "outputs": [
        {
          "output_type": "stream",
          "name": "stdout",
          "text": [
            "35\n"
          ]
        }
      ],
      "source": [
        "a = 3\n",
        "b = 5\n",
        "c = str(a)+ str(b) #converts int to str\n",
        "print(c)"
      ]
    },
    {
      "cell_type": "code",
      "execution_count": null,
      "metadata": {
        "colab": {
          "base_uri": "https://localhost:8080/"
        },
        "id": "oWcwHaKBsePY",
        "outputId": "840cf406-fca7-46ca-fb4b-809632691157"
      },
      "outputs": [
        {
          "name": "stdout",
          "output_type": "stream",
          "text": [
            "3  5\n"
          ]
        }
      ],
      "source": [
        "  a = 3\n",
        "  b = 5\n",
        "  c = str(a)+ \"  \"+str(b) #prints a and b by separting with spaces\n",
        "  print(c)"
      ]
    },
    {
      "cell_type": "markdown",
      "metadata": {
        "id": "1qXhtGlVwnQe"
      },
      "source": [
        "#**String Formats**\n",
        "\n",
        "We can concatenate strings only. But we can not concatenate strings with integers or other data types.\n",
        "\n",
        "for this we need to use format() method.\n",
        "\n",
        "We need to use {} wehere ever we want to insert datatypes in between strings..\n",
        "\n",
        "We need to place the values according indexing"
      ]
    },
    {
      "cell_type": "code",
      "execution_count": null,
      "metadata": {
        "colab": {
          "base_uri": "https://localhost:8080/",
          "height": 227
        },
        "id": "8LEiGv4lstZW",
        "outputId": "e8a4a20c-14cc-472a-e6d0-62b89cb4afd1"
      },
      "outputs": [
        {
          "output_type": "error",
          "ename": "TypeError",
          "evalue": "can only concatenate str (not \"int\") to str",
          "traceback": [
            "\u001b[0;31m---------------------------------------------------------------------------\u001b[0m",
            "\u001b[0;31mTypeError\u001b[0m                                 Traceback (most recent call last)",
            "\u001b[0;32m<ipython-input-7-7d7c614eb7f6>\u001b[0m in \u001b[0;36m<cell line: 5>\u001b[0;34m()\u001b[0m\n\u001b[1;32m      3\u001b[0m \u001b[0;34m\u001b[0m\u001b[0m\n\u001b[1;32m      4\u001b[0m \u001b[0mage\u001b[0m \u001b[0;34m=\u001b[0m \u001b[0;36m33\u001b[0m\u001b[0;34m\u001b[0m\u001b[0;34m\u001b[0m\u001b[0m\n\u001b[0;32m----> 5\u001b[0;31m \u001b[0mtext\u001b[0m  \u001b[0;34m=\u001b[0m \u001b[0;34m\"I am Shiva, and my age is:\"\u001b[0m\u001b[0;34m+\u001b[0m\u001b[0mage\u001b[0m\u001b[0;34m\u001b[0m\u001b[0;34m\u001b[0m\u001b[0m\n\u001b[0m\u001b[1;32m      6\u001b[0m \u001b[0mprint\u001b[0m\u001b[0;34m(\u001b[0m\u001b[0mtext\u001b[0m\u001b[0;34m)\u001b[0m\u001b[0;34m\u001b[0m\u001b[0;34m\u001b[0m\u001b[0m\n",
            "\u001b[0;31mTypeError\u001b[0m: can only concatenate str (not \"int\") to str"
          ]
        }
      ],
      "source": [
        "#String Format\n",
        "# We can concatenate strings only. Bt we can not concatenate strings with integers or other data types\n",
        "\n",
        "age = 33\n",
        "text  = \"I am Shiva, and my age is:\"+age\n",
        "print(text)"
      ]
    },
    {
      "cell_type": "code",
      "execution_count": null,
      "metadata": {
        "colab": {
          "base_uri": "https://localhost:8080/"
        },
        "id": "VBtbW9FEwC-9",
        "outputId": "6194a151-58dc-46b8-b711-4cd00df3309a"
      },
      "outputs": [
        {
          "output_type": "stream",
          "name": "stdout",
          "text": [
            "My age is 33\n"
          ]
        }
      ],
      "source": [
        "#String Format method\n",
        "\n",
        "age = 33\n",
        "text  = \"My age is {}\"\n",
        "print(text.format(age)) #format method to concatenate string with other data types"
      ]
    },
    {
      "cell_type": "code",
      "execution_count": null,
      "metadata": {
        "colab": {
          "base_uri": "https://localhost:8080/"
        },
        "id": "Tqwaaq_wxivp",
        "outputId": "67d8d9c6-f7b9-43fa-ffa6-53af80faccfa"
      },
      "outputs": [
        {
          "output_type": "stream",
          "name": "stdout",
          "text": [
            "I want to place item number 5 of quantity 55 with an average price of 5000\n",
            "I want to place item number 5 of quantity 55 with an average price of 5000 \n"
          ]
        }
      ],
      "source": [
        "# Placement of values according to indexing\n",
        "\n",
        "item_no  = 5   # index 0 [0]\n",
        "item_quantity = 55         # index 1 [1]\n",
        "item_price =  5000   # index 2 [2]\n",
        "\n",
        "myorder  = 'I want to place item number {0} of quantity {1} with an average price of {2}'\n",
        "print(myorder.format(item_no,item_quantity,item_price) )\n",
        "\n",
        "myorder1=\"I want to place item number {1} of quantity {0} with an average price of {2} \"\n",
        "print(myorder1.format(item_quantity,item_no,item_price))"
      ]
    },
    {
      "cell_type": "code",
      "execution_count": null,
      "metadata": {
        "colab": {
          "base_uri": "https://localhost:8080/"
        },
        "id": "j6SutUdfzTW-",
        "outputId": "a9a5511e-a292-4aa1-a250-db6ec788e70f"
      },
      "outputs": [
        {
          "name": "stdout",
          "output_type": "stream",
          "text": [
            "I want to place quantity of 5 item number 55 with an average price of 5000\n"
          ]
        }
      ],
      "source": [
        "#without indexing\n",
        "myorder = 'I want to place quantity of {} item number {} with an average price of {}'\n",
        "print(myorder.format(item_quantity,item_no,item_price))"
      ]
    },
    {
      "cell_type": "code",
      "execution_count": null,
      "metadata": {
        "id": "ke4c5VzV1JNn"
      },
      "outputs": [],
      "source": []
    },
    {
      "cell_type": "markdown",
      "metadata": {
        "id": "Jtz-uxo72qAO"
      },
      "source": [
        "#**Escape Character**\n",
        "\n",
        "To insert a set of characters or words in between strings we can use escape character.."
      ]
    },
    {
      "cell_type": "markdown",
      "metadata": {
        "id": "Kr-IZqG45A82"
      },
      "source": []
    },
    {
      "cell_type": "code",
      "execution_count": null,
      "metadata": {
        "colab": {
          "base_uri": "https://localhost:8080/",
          "height": 140
        },
        "id": "doxr4lu-5Bkw",
        "outputId": "ca133dc9-b4b1-45d1-ee97-fd0840df7f0d"
      },
      "outputs": [
        {
          "ename": "SyntaxError",
          "evalue": "ignored",
          "output_type": "error",
          "traceback": [
            "\u001b[0;36m  File \u001b[0;32m\"<ipython-input-10-218699f4576a>\"\u001b[0;36m, line \u001b[0;32m1\u001b[0m\n\u001b[0;31m    x = \"Welcome to \"python\" world\"\u001b[0m\n\u001b[0m                     ^\u001b[0m\n\u001b[0;31mSyntaxError\u001b[0m\u001b[0;31m:\u001b[0m invalid syntax\n"
          ]
        }
      ],
      "source": [
        "x = \"Welcome to \"python\" world\" # throws error because insertion not allowed inside the string\n",
        "print(x)"
      ]
    },
    {
      "cell_type": "code",
      "execution_count": null,
      "metadata": {
        "colab": {
          "base_uri": "https://localhost:8080/"
        },
        "id": "5mxLm19V5WMq",
        "outputId": "cf3ea48c-ecaf-491f-a099-cb9438ff2d79"
      },
      "outputs": [
        {
          "name": "stdout",
          "output_type": "stream",
          "text": [
            "Wlecome to 'python world\n"
          ]
        }
      ],
      "source": [
        "#Either method we can use\n",
        "\n",
        "x = \"Wlecome to \\'python world\" # we've used \\' to insert\n",
        "print(x)"
      ]
    },
    {
      "cell_type": "markdown",
      "metadata": {
        "id": "rO14szj06-g3"
      },
      "source": [
        "# **List of escape Characters**\n",
        "\n",
        "*   List item\n",
        "\n",
        "*   List item\n",
        "*   List item\n",
        "\n",
        "\n",
        "*   List item\n",
        "\n",
        "\n",
        "\n",
        "1. \\ (backslash)        to insert list of characters\n",
        "1. \\\\\\ (double backslash)    to insert a backslash\n",
        "1. \\n           insert newline\n",
        "1. \\r         carraige return\n",
        "1.  \\τ           insert tab\n",
        "1.  \\b        insert backspace\n",
        "1.  \\f      form feed\n",
        "1. \\ooo   octal value\n",
        "1.  \\xhh  insert hexa value"
      ]
    },
    {
      "cell_type": "code",
      "execution_count": null,
      "metadata": {
        "colab": {
          "base_uri": "https://localhost:8080/"
        },
        "id": "hXSML5p_-oLP",
        "outputId": "7f616cc8-cf52-4c68-cc72-73be7825cb0f"
      },
      "outputs": [
        {
          "name": "stdout",
          "output_type": "stream",
          "text": [
            "Welcome to  World\n",
            "welcome to 'python world\n",
            "Welcome to \\python  world\n",
            "welcome to \n",
            " world\n",
            "Welcome to \r world  of \r python\n",
            "Welcome to \t world\n",
            "Welcome \bto \bpython \bworld\n",
            "l\n",
            "HIc\n"
          ]
        }
      ],
      "source": [
        "#Examples of above\n",
        "x = \"Welcome to  World\"\n",
        "print(x)\n",
        "x = \"welcome to \\'python world\"  #insert a string\n",
        "print(x)\n",
        "x = \"Welcome to \\\\python  world\" #backslash insertion\n",
        "print(x)\n",
        "x = \"welcome to \\n world\" #cursor moves to new line\n",
        "print(x)\n",
        "x = \"Welcome to \\r world  of \\r python\" # cursor removes whatever bfore the \\r carriage return\n",
        "print(x)\n",
        "x = \"Welcome to \\t world\" # tab space of 8 characters\n",
        "print(x)\n",
        "x = \"Welcome \\bto \\bpython \\bworld\" # backspace>  removes spaces before \\b\n",
        "print(x)\n",
        "x = \"\\154\" #converts to octagon(base of8)\n",
        "print(x)\n",
        "y = \"\\x48\\x49\\x63\" #Hexcode  represented by \\x\n",
        "print(y)"
      ]
    },
    {
      "cell_type": "code",
      "execution_count": null,
      "metadata": {
        "id": "IfoXsjyuCkFy"
      },
      "outputs": [],
      "source": []
    },
    {
      "cell_type": "code",
      "execution_count": null,
      "metadata": {
        "colab": {
          "base_uri": "https://localhost:8080/"
        },
        "id": "F_t8eGCH_MLj",
        "outputId": "521d03c3-2636-40ee-9aa4-ffcded1d3810"
      },
      "outputs": [
        {
          "output_type": "stream",
          "name": "stdout",
          "text": [
            "',hello\n",
            "',hello\n",
            "',hello\n",
            "',hello\n",
            "',hello\n",
            "Done!\n"
          ]
        }
      ],
      "source": [
        "import time\n",
        "\n",
        "for i in range(5):\n",
        "    print(f\"Progress: {i + 1}/5, end='\\r',hello\")\n",
        "    time.sleep(1)\n",
        "\n",
        "print(\"Done!\")"
      ]
    },
    {
      "cell_type": "code",
      "execution_count": null,
      "metadata": {
        "id": "fc2seL2A_Cit"
      },
      "outputs": [],
      "source": []
    },
    {
      "cell_type": "markdown",
      "metadata": {
        "id": "LdtHD0mLes9j"
      },
      "source": [
        "#**Built in methods of Strings**\n",
        "\n"
      ]
    },
    {
      "cell_type": "markdown",
      "metadata": {
        "id": "57kU0h-qP7Ah"
      },
      "source": [
        "**Capitalize()**\n",
        "\n",
        "capitalize()  \n",
        "Converts first letter in the sentence to capital"
      ]
    },
    {
      "cell_type": "code",
      "execution_count": null,
      "metadata": {
        "colab": {
          "base_uri": "https://localhost:8080/"
        },
        "id": "2IYx-FIXfK3z",
        "outputId": "e4ed7b38-aff3-4a78-9464-24b8f14998f2"
      },
      "outputs": [
        {
          "name": "stdout",
          "output_type": "stream",
          "text": [
            "Welcome to python world\n",
            "Welcome to python world\n"
          ]
        }
      ],
      "source": [
        "#capitalize()\n",
        "#Converts first letter in the sentence to capital\n",
        "\n",
        "x = \"welcome to python world\"\n",
        "text =x.capitalize()\n",
        "print(text)\n",
        "print(x.capitalize())  #direct"
      ]
    },
    {
      "cell_type": "markdown",
      "metadata": {
        "id": "xmUdPomwP6Hp"
      },
      "source": [
        "**casefold()**\n",
        "  \n",
        "Makes string to lower case"
      ]
    },
    {
      "cell_type": "code",
      "execution_count": null,
      "metadata": {
        "colab": {
          "base_uri": "https://localhost:8080/"
        },
        "id": "7mSzXHEEf21d",
        "outputId": "183adf1f-1436-4a98-c3f8-c722f94d9623"
      },
      "outputs": [
        {
          "name": "stdout",
          "output_type": "stream",
          "text": [
            "welcome to python world\n"
          ]
        }
      ],
      "source": [
        "#casefold()\n",
        "#Makes string to lower case\n",
        "\n",
        "x = \"WelCOME TO PYTHON world\"\n",
        "print(x.casefold())"
      ]
    },
    {
      "cell_type": "markdown",
      "metadata": {
        "id": "0v8v72isQ7E1"
      },
      "source": [
        "**center()**\n",
        "\n",
        "returns centred string\n",
        "\n",
        "make the string centre as per given length"
      ]
    },
    {
      "cell_type": "code",
      "execution_count": null,
      "metadata": {
        "colab": {
          "base_uri": "https://localhost:8080/"
        },
        "id": "8JwwCgoEgNUC",
        "outputId": "04d3bd46-157a-467b-f7ea-98d2c963dd4e"
      },
      "outputs": [
        {
          "name": "stdout",
          "output_type": "stream",
          "text": [
            "<built-in method center of str object at 0x7bf4ca95eba0>\n",
            "             Welcome to Python World              \n"
          ]
        }
      ],
      "source": [
        "#center()\n",
        "# returns centred string\n",
        "# make the string centre as per given length\n",
        "\n",
        "x = \"Welcome to Python World\"\n",
        "print(x.center)  # Retruns memory location\n",
        "print(x.center(50)) # Centers in between 50 characters. bydefault emtpy character prints in both sides of center .\n"
      ]
    },
    {
      "cell_type": "code",
      "execution_count": null,
      "metadata": {
        "colab": {
          "base_uri": "https://localhost:8080/"
        },
        "id": "KeuIjty8gv7V",
        "outputId": "2647feaf-38d2-4ebb-ff87-3edecbe39e83"
      },
      "outputs": [
        {
          "name": "stdout",
          "output_type": "stream",
          "text": [
            "*****************Welcome to World*****************\n"
          ]
        }
      ],
      "source": [
        "# center(string length,\"character\")\n",
        "# center the string into given length of characters and prints the character given\n",
        "\n",
        "x = \"Welcome to World\"\n",
        "x = x.center(50,\"*\")\n",
        "print(x)"
      ]
    },
    {
      "cell_type": "code",
      "execution_count": null,
      "metadata": {
        "colab": {
          "base_uri": "https://localhost:8080/"
        },
        "id": "sSBtA0UhO64q",
        "outputId": "370f83e6-8593-4d1a-9c34-44dcce161b9a"
      },
      "outputs": [
        {
          "name": "stdout",
          "output_type": "stream",
          "text": [
            "*************Welcome to python World**************\n",
            "             Welcome to python World              \n"
          ]
        }
      ],
      "source": [
        "# example 2\n",
        "x = \"Welcome to python World\"\n",
        "print(x.center(50,'*')) #  fills empty space with  *\n",
        "print(x.center(50,\" \")) #  fills emprty space with blank space"
      ]
    },
    {
      "cell_type": "markdown",
      "metadata": {
        "id": "V2EKofTPRwTw"
      },
      "source": [
        "**count()**\n",
        "\n",
        "Counts the given string appeared number of times.\n",
        "\n",
        "string.count()"
      ]
    },
    {
      "cell_type": "code",
      "execution_count": null,
      "metadata": {
        "colab": {
          "base_uri": "https://localhost:8080/"
        },
        "id": "Hzh3CAQWPL3J",
        "outputId": "e0afa178-80c9-4287-d472-5559387e95ae"
      },
      "outputs": [
        {
          "name": "stdout",
          "output_type": "stream",
          "text": [
            "3\n"
          ]
        }
      ],
      "source": [
        "x = \"Welcome to python world. python is now trending language. learn python\"\n",
        "print(x.count('python'))"
      ]
    },
    {
      "cell_type": "code",
      "execution_count": null,
      "metadata": {
        "colab": {
          "base_uri": "https://localhost:8080/"
        },
        "id": "pcsZ3GQ8SWxU",
        "outputId": "67d36a85-5cf5-4b3c-8b3d-00622081fc78"
      },
      "outputs": [
        {
          "name": "stdout",
          "output_type": "stream",
          "text": [
            "2\n"
          ]
        }
      ],
      "source": [
        "x = \"Welcome to Python world. python is now trending language. learn python\"\n",
        "print(x.count('python')) # case sensitive"
      ]
    },
    {
      "cell_type": "markdown",
      "metadata": {
        "id": "jk8_QNrTSonI"
      },
      "source": [
        "** *string_name*.count(value, start, end)**\n",
        "\n",
        "value=  search value\n",
        "\n",
        "start=  search from the given starting position\n",
        "\n",
        "end=    search upto the end value given"
      ]
    },
    {
      "cell_type": "code",
      "execution_count": null,
      "metadata": {
        "colab": {
          "base_uri": "https://localhost:8080/"
        },
        "id": "6R1GPIeLSiZr",
        "outputId": "498e3cd5-da52-4576-de9e-cb0a3cc1b5c2"
      },
      "outputs": [
        {
          "name": "stdout",
          "output_type": "stream",
          "text": [
            "3\n",
            "2\n",
            "0\n"
          ]
        }
      ],
      "source": [
        "x = \"Welcome to python world. python is now trending language. learn python\"\n",
        "print(x.count('python',3,130)) # searches from 0 to 130 character\n",
        "print(x.count('python',15,150))# seacrhes from 1 to 150 characters\n",
        "print(x.count(\"python\",0,0))  # searches complete string"
      ]
    },
    {
      "cell_type": "markdown",
      "metadata": {
        "id": "9T7gSRgOUgt-"
      },
      "source": [
        "**encode()**\n",
        "\n",
        "encodes the string into specified given format  \n",
        "\n",
        "default is UTF-8 format"
      ]
    },
    {
      "cell_type": "code",
      "execution_count": null,
      "metadata": {
        "colab": {
          "base_uri": "https://localhost:8080/"
        },
        "id": "KCwYmbGBTyOe",
        "outputId": "b6d3b493-1328-46f7-fa31-498287e892ba"
      },
      "outputs": [
        {
          "name": "stdout",
          "output_type": "stream",
          "text": [
            "b'Welcome to python \\xc3\\x80 world'\n"
          ]
        }
      ],
      "source": [
        "x = \"Welcome to python À world\" # converts to hexcode\n",
        "print(x.encode())"
      ]
    },
    {
      "cell_type": "markdown",
      "metadata": {
        "id": "56uw-qNXXZUb"
      },
      "source": [
        "**encode()**\n",
        "\n",
        "string.encode(encoding=encoding,errors=errors)"
      ]
    },
    {
      "cell_type": "code",
      "execution_count": null,
      "metadata": {
        "colab": {
          "base_uri": "https://localhost:8080/"
        },
        "id": "qRaNbP8VSjMw",
        "outputId": "51fb4bad-c933-4a23-f62a-e4c3c9f3b0a7"
      },
      "outputs": [
        {
          "name": "stdout",
          "output_type": "stream",
          "text": [
            "b'Welcome to python \\\\xc0\\\\xd6p\\\\xe0 world'\n",
            "b'Welcome to python p world'\n",
            "b'Welcome to python \\\\N{LATIN CAPITAL LETTER A WITH GRAVE}\\\\N{LATIN CAPITAL LETTER O WITH DIAERESIS}p\\\\N{LATIN SMALL LETTER A WITH GRAVE} world'\n",
            "b'Welcome to python ??p? world'\n",
            "b'Welcome to python &#192;&#214;p&#224; world'\n"
          ]
        }
      ],
      "source": [
        "x = \"Welcome to python ÀÖpà world\"\n",
        "print(x.encode(encoding=\"ascii\",errors=\"backslashreplace\"))  #replaces ascii code with backslash\n",
        "print(x.encode(encoding=\"ascii\",errors=\"ignore\")) # ignores\n",
        "print(x.encode(encoding=\"ascii\",errors=\"namereplace\"))# explains with menaning\n",
        "print(x.encode(encoding=\"ascii\",errors=\"replace\"))  # replace with queston mark\n",
        "print(x.encode(encoding=\"ascii\",errors=\"xmlcharrefreplace\")) # replace with xml character"
      ]
    },
    {
      "cell_type": "markdown",
      "metadata": {
        "id": "oDscm2z8i8iT"
      },
      "source": [
        "**expandtabs()**\n",
        "expand the tab sze to number of white characters as given"
      ]
    },
    {
      "cell_type": "code",
      "execution_count": null,
      "metadata": {
        "colab": {
          "base_uri": "https://localhost:8080/"
        },
        "id": "dbl91iqwru3v",
        "outputId": "e42bfd05-f88b-4db9-b842-d7689273eb65"
      },
      "outputs": [
        {
          "name": "stdout",
          "output_type": "stream",
          "text": [
            "h\tel\tlo\n",
            "h       el      lo\n",
            "h   el  lo\n"
          ]
        }
      ],
      "source": [
        "#expandtabs()\n",
        "\n",
        "x = \"h\\tel\\tlo\"   #we need to mentiion \\t where we want to insert tab size\n",
        "print(x)        # default sze  8\n",
        "print(x.expandtabs())   #default size is 8\n",
        "print(x.expandtabs(4))  #expads to tab size as 4"
      ]
    },
    {
      "cell_type": "markdown",
      "metadata": {
        "id": "bmElgn8TlWwM"
      },
      "source": [
        "**endswith()**\n",
        "to check whether the tab ends with given value. if so returns true .\n",
        "\n",
        "endswith(value.start,end)  \n",
        "\n",
        "to check the given value ends in between start and end positions index"
      ]
    },
    {
      "cell_type": "code",
      "execution_count": null,
      "metadata": {
        "colab": {
          "base_uri": "https://localhost:8080/"
        },
        "id": "eA_rXwRIjSPx",
        "outputId": "7b6292e6-f269-482d-b2af-835ea3f37d3e"
      },
      "outputs": [
        {
          "name": "stdout",
          "output_type": "stream",
          "text": [
            "True\n",
            "False\n",
            "True\n"
          ]
        }
      ],
      "source": [
        "# endswith\n",
        "x = \"Hello Python..\"\n",
        "print(x.endswith(\"..\"))  # true or false\n",
        "print(x.endswith(\"Python\")) # checks the string ends with given value\n",
        "print(x.endswith(\"Python..\"))"
      ]
    },
    {
      "cell_type": "code",
      "execution_count": null,
      "metadata": {
        "colab": {
          "base_uri": "https://localhost:8080/"
        },
        "id": "lCWWAH9fmSbN",
        "outputId": "4775e0c4-7395-433f-e969-7372eed3139e"
      },
      "outputs": [
        {
          "name": "stdout",
          "output_type": "stream",
          "text": [
            "True\n",
            "True\n",
            "True\n"
          ]
        }
      ],
      "source": [
        "#endswith(value,start,end)\n",
        "x = \"Welcome to Python World\"\n",
        "y = x.endswith(\"Welcome\",0,7) # checks the value \"Welcome\" is in between start index[0] and end index[7]\n",
        "print(y)\n",
        "print(x.endswith(\"Welcome\",0,7)) # check fallen between\n",
        "print(x.endswith(\"to\", 0,10)) # checks the word \"to\" fallen between [0] to [10]"
      ]
    },
    {
      "cell_type": "markdown",
      "metadata": {
        "id": "JNEAQFvr2bwZ"
      },
      "source": [
        "**find()**\n",
        "\n",
        "Fnds the first occurance of specified value"
      ]
    },
    {
      "cell_type": "code",
      "execution_count": null,
      "metadata": {
        "colab": {
          "base_uri": "https://localhost:8080/"
        },
        "id": "2qJp9-nk4L-v",
        "outputId": "c6b83347-a063-4f4b-b5f7-fb2910c67638"
      },
      "outputs": [
        {
          "name": "stdout",
          "output_type": "stream",
          "text": [
            "8\n"
          ]
        }
      ],
      "source": [
        "x = \"welcome to Python world\"\n",
        "\n",
        "print(x.find(\"to\")) # tells the position of first occurance"
      ]
    },
    {
      "cell_type": "code",
      "execution_count": null,
      "metadata": {
        "colab": {
          "base_uri": "https://localhost:8080/"
        },
        "id": "pCSD4J7B4Tfi",
        "outputId": "1d1985cc-f354-4fef-cb98-06d546b93cc9"
      },
      "outputs": [
        {
          "name": "stdout",
          "output_type": "stream",
          "text": [
            "-1\n",
            "6\n"
          ]
        }
      ],
      "source": [
        "x = \"welcome to python world\"\n",
        "print(x.find(\"a\"))  # returns -1 if not found\n",
        "print(x.find(\"e\", 5,10))  # returns first occurance of e  between 5 to 10 index positions"
      ]
    },
    {
      "cell_type": "markdown",
      "metadata": {
        "id": "rKU8czBOA1N3"
      },
      "source": [
        "#**Difference between find() and index()  if value not found**\n",
        "\n",
        "in find() it throws -1 as return if not found\n",
        "in index() functon it throws an exception\n"
      ]
    },
    {
      "cell_type": "code",
      "execution_count": null,
      "metadata": {
        "colab": {
          "base_uri": "https://localhost:8080/",
          "height": 279
        },
        "id": "OkWRCpvfAW-1",
        "outputId": "55603d1b-4706-4296-faf4-29d9fb036748"
      },
      "outputs": [
        {
          "name": "stdout",
          "output_type": "stream",
          "text": [
            "-1\n",
            "\n",
            "\n",
            "\n"
          ]
        },
        {
          "ename": "ValueError",
          "evalue": "ignored",
          "output_type": "error",
          "traceback": [
            "\u001b[0;31m---------------------------------------------------------------------------\u001b[0m",
            "\u001b[0;31mValueError\u001b[0m                                Traceback (most recent call last)",
            "\u001b[0;32m<ipython-input-33-ff60a3d3b0e4>\u001b[0m in \u001b[0;36m<cell line: 4>\u001b[0;34m()\u001b[0m\n\u001b[1;32m      2\u001b[0m \u001b[0mprint\u001b[0m\u001b[0;34m(\u001b[0m\u001b[0mx\u001b[0m\u001b[0;34m.\u001b[0m\u001b[0mfind\u001b[0m\u001b[0;34m(\u001b[0m\u001b[0;34m\"q\"\u001b[0m\u001b[0;34m)\u001b[0m\u001b[0;34m)\u001b[0m\u001b[0;34m\u001b[0m\u001b[0;34m\u001b[0m\u001b[0m\n\u001b[1;32m      3\u001b[0m \u001b[0mprint\u001b[0m\u001b[0;34m(\u001b[0m\u001b[0;34m'\\n\\n'\u001b[0m\u001b[0;34m)\u001b[0m\u001b[0;34m\u001b[0m\u001b[0;34m\u001b[0m\u001b[0m\n\u001b[0;32m----> 4\u001b[0;31m \u001b[0mprint\u001b[0m\u001b[0;34m(\u001b[0m\u001b[0mx\u001b[0m\u001b[0;34m.\u001b[0m\u001b[0mindex\u001b[0m\u001b[0;34m(\u001b[0m\u001b[0;34m\"q\"\u001b[0m\u001b[0;34m)\u001b[0m\u001b[0;34m)\u001b[0m\u001b[0;34m\u001b[0m\u001b[0;34m\u001b[0m\u001b[0m\n\u001b[0m",
            "\u001b[0;31mValueError\u001b[0m: substring not found"
          ]
        }
      ],
      "source": [
        "x = \"welcome to python\"\n",
        "print(x.find(\"q\"))  # returns -1\n",
        "print('\\n\\n')     # prints 2 new lines with blank\n",
        "print(x.index(\"q\")) # throws an error"
      ]
    },
    {
      "cell_type": "markdown",
      "metadata": {
        "id": "R7pjqEQ4CGds"
      },
      "source": [
        "**FORMAT()**\n",
        "format string formats the specified value inside the string in a placeholder with the given value...\n",
        "\n",
        "place holder specified with curly brackets {}\n"
      ]
    },
    {
      "cell_type": "code",
      "execution_count": null,
      "metadata": {
        "colab": {
          "base_uri": "https://localhost:8080/"
        },
        "id": "XeAxDVLNO8S1",
        "outputId": "9a7a0e0d-d9b1-4e6d-ee8c-185884db51fa"
      },
      "outputs": [
        {
          "name": "stdout",
          "output_type": "stream",
          "text": [
            "Welcome to python World\n"
          ]
        }
      ],
      "source": [
        "x = \"Welcome to {} World\"\n",
        "print(x.format(\"python\"))"
      ]
    },
    {
      "cell_type": "code",
      "execution_count": null,
      "metadata": {
        "colab": {
          "base_uri": "https://localhost:8080/"
        },
        "id": "rIw2OAKTPHjC",
        "outputId": "32e45be8-e539-468c-b0b3-301f4ec206a6"
      },
      "outputs": [
        {
          "name": "stdout",
          "output_type": "stream",
          "text": [
            "My first name is SHIVAPRRASAD and my last name is SKNM and my age is 45\n",
            "My first Name is SHIVAPRRASAD and my last name is SKNM and my age is 45\n",
            "My first Name is SHVAPRRASAD and my last name is SKNM and my age is 45\n"
          ]
        }
      ],
      "source": [
        "data  = \"My first name is {} and my last name is {} and my age is {}\"  # takes values given as placegolders\n",
        "print(data.format(\"SHIVAPRRASAD\",\"SKNM\" ,45))\n",
        "\n",
        "data1 = \"My first Name is {fname} and my last name is {lname} and my age is {age}\" # takes values as named indexes\n",
        "print(data1.format(fname=\"SHIVAPRRASAD\",lname=\"SKNM\", age=45))\n",
        "\n",
        "data2 = \"My first Name is {0} and my last name is {1} and my age is {2}\"   # takes values as numbered index\n",
        "print(data2.format(\"SHVAPRRASAD\",\"SKNM\",45) )"
      ]
    },
    {
      "cell_type": "code",
      "execution_count": null,
      "metadata": {
        "colab": {
          "base_uri": "https://localhost:8080/"
        },
        "id": "GRyPjBEzPjtp",
        "outputId": "018ea987-40bd-4450-ae64-b061e99c926b"
      },
      "outputs": [
        {
          "name": "stdout",
          "output_type": "stream",
          "text": [
            "My first name is 45 and my last name is SKNM and my age is SHIVAPRRASAD\n",
            "My first Name is SHIVAPRRASAD and my last name is SKNM and my age is 45\n",
            "My first Name is SHVAPRRASAD and my age is 45 and my last name is SKNM\n"
          ]
        }
      ],
      "source": [
        "# change of order in FORMAT()\n",
        "data  = \"My first name is {} and my last name is {} and my age is {}\"  #Unordered\n",
        "print(data.format(45,\"SKNM\",\"SHIVAPRRASAD\"))\n",
        "\n",
        "data1 = \"My first Name is {fname} and my last name is {lname} and my age is {age}\"\n",
        "print(data1.format(lname=\"SKNM\", age=45, fname='SHIVAPRRASAD'))\n",
        "\n",
        "data2 = \"My first Name is {0} and my age is {2} and my last name is {1}\"\n",
        "print(data2.format(\"SHVAPRRASAD\",\"SKNM\",45) )"
      ]
    },
    {
      "cell_type": "markdown",
      "metadata": {
        "id": "oaCrkMI-UA7T"
      },
      "source": [
        "**Place holders or white spaces in format()**"
      ]
    },
    {
      "cell_type": "code",
      "execution_count": null,
      "metadata": {
        "colab": {
          "base_uri": "https://localhost:8080/"
        },
        "id": "vLRcyr19Uqef",
        "outputId": "8e63e3ff-4723-4c5f-bff9-00b59f7c1215"
      },
      "outputs": [
        {
          "output_type": "stream",
          "name": "stdout",
          "text": [
            "We have 22        baloons wth us\n"
          ]
        }
      ],
      "source": [
        "x = \"We have {:<9} baloons wth us\"  #left of 9 characters\n",
        "print(x.format(22))"
      ]
    },
    {
      "cell_type": "code",
      "execution_count": null,
      "metadata": {
        "colab": {
          "base_uri": "https://localhost:8080/"
        },
        "id": "OImtkPTdVeyJ",
        "outputId": "7630fc5a-565e-4ea9-e64a-3a8ae9a371b5"
      },
      "outputs": [
        {
          "name": "stdout",
          "output_type": "stream",
          "text": [
            "We have        22 baloons wth us\n"
          ]
        }
      ],
      "source": [
        "x = \"We have {:>9} baloons wth us\"  #right of 9 characters\n",
        "print(x.format(22))"
      ]
    },
    {
      "cell_type": "code",
      "execution_count": null,
      "metadata": {
        "colab": {
          "base_uri": "https://localhost:8080/"
        },
        "id": "vedoWogXV5CK",
        "outputId": "315e3bfd-b3e5-4605-8bbf-6f229b1acf31"
      },
      "outputs": [
        {
          "name": "stdout",
          "output_type": "stream",
          "text": [
            "We have    22     baloons wth us\n"
          ]
        }
      ],
      "source": [
        "x = \"We have {:^9} baloons wth us\"  #center of 9 characters\n",
        "print(x.format(22))"
      ]
    },
    {
      "cell_type": "code",
      "execution_count": null,
      "metadata": {
        "colab": {
          "base_uri": "https://localhost:8080/"
        },
        "id": "9owblVt8XddY",
        "outputId": "a71ab3fe-a8fe-4866-b9d7-f8710b96f4b3"
      },
      "outputs": [
        {
          "name": "stdout",
          "output_type": "stream",
          "text": [
            "We have -      22 baloons wth us\n"
          ]
        }
      ],
      "source": [
        "x = \"We have {:=9} baloons wth us\"  #left most position of 9 characters\n",
        "print(x.format(-22))"
      ]
    },
    {
      "cell_type": "code",
      "execution_count": null,
      "metadata": {
        "colab": {
          "base_uri": "https://localhost:8080/"
        },
        "id": "9hcl6-qAXyPg",
        "outputId": "2d52c893-9333-4205-83d8-74da819e49ac"
      },
      "outputs": [
        {
          "output_type": "stream",
          "name": "stdout",
          "text": [
            "We must insert value between  -1 and +1 only\n",
            "We must insert value between  +1 and -1 only\n",
            "We must insert value between  -1 and -7 only\n",
            "We must insert value between  +1 and +5 only\n"
          ]
        }
      ],
      "source": [
        "x = \"We must insert value between  {:+} and {:+} only\"  #+ sign to indicate result\n",
        "print(x.format(-1,+1))\n",
        "print(x.format(+1,-1))\n",
        "print(x.format(-1,-7))\n",
        "print(x.format(1,5))"
      ]
    },
    {
      "cell_type": "code",
      "execution_count": null,
      "metadata": {
        "colab": {
          "base_uri": "https://localhost:8080/"
        },
        "id": "n5HXUwB0Z9rf",
        "outputId": "47ad5e7f-64f6-4966-c13f-8904b802936c"
      },
      "outputs": [
        {
          "name": "stdout",
          "output_type": "stream",
          "text": [
            "We must insert value between  -1 and 1 only\n",
            "We must insert value between  1 and -1 only\n",
            "We must insert value between  -1 and -7 only\n",
            "We must insert value between  1 and 5 only\n"
          ]
        }
      ],
      "source": [
        "x = \"We must insert value between  {:-} and {:-} only\"  #- to indicae negatve numbers only. positive numbers dsplay without +\n",
        "print(x.format(-1,+1))\n",
        "print(x.format(+1,-1))\n",
        "print(x.format(-1,-7))\n",
        "print(x.format(+1,+5))"
      ]
    },
    {
      "cell_type": "code",
      "execution_count": null,
      "metadata": {
        "colab": {
          "base_uri": "https://localhost:8080/"
        },
        "id": "9oTW9WISjOp2",
        "outputId": "dda474f9-a276-4667-ff22-452e3bb37a77"
      },
      "outputs": [
        {
          "name": "stdout",
          "output_type": "stream",
          "text": [
            "We must insert value between  -1 and  1 only\n",
            "We must insert value between   1 and -1 only\n",
            "We must insert value between  -1 and -7 only\n",
            "We must insert value between   1 and  5 only\n"
          ]
        }
      ],
      "source": [
        "# to insert space before numbers\n",
        "\n",
        "x = \"We must insert value between  {: } and {: } only\"\n",
        "print(x.format(-1,1))\n",
        "\n",
        "print(x.format(+1,-1))\n",
        "print(x.format(-1,-7))\n",
        "print(x.format(+1,+5))\n"
      ]
    },
    {
      "cell_type": "code",
      "execution_count": null,
      "metadata": {
        "colab": {
          "base_uri": "https://localhost:8080/"
        },
        "id": "3f-QhMrWkhwJ",
        "outputId": "abba1d3f-3fe9-4ca7-c4bb-438cec078fa7"
      },
      "outputs": [
        {
          "name": "stdout",
          "output_type": "stream",
          "text": [
            "earth is 150,000,000 years old\n",
            "Enter the Value::150000\n",
            "earth is 150_000 years old\n"
          ]
        }
      ],
      "source": [
        "#{:,}  thousand seperator\n",
        "\n",
        "x = \"earth is {:,} years old\" # , as thousand sepearatr\n",
        "print(x.format(150000000))\n",
        "\n",
        "# _ underscore as thousand seperator\n",
        "x = \"earth is {:_} years old\" # _ as thousand sepearator\n",
        "print(x.format(int(input(\"Enter the Value::\"))))"
      ]
    },
    {
      "cell_type": "code",
      "execution_count": null,
      "metadata": {
        "colab": {
          "base_uri": "https://localhost:8080/"
        },
        "id": "svOYjD9Ol_3N",
        "outputId": "8b88171e-1685-441b-8465-c649964f15fa"
      },
      "outputs": [
        {
          "name": "stdout",
          "output_type": "stream",
          "text": [
            "Area is 50.000000 square meters\n",
            "Area is 50.000 square meters\n",
            "Area is 50.000000000 square meters\n"
          ]
        }
      ],
      "source": [
        "#f  converts to fixed point decimals .\n",
        "\n",
        "x1= \"Area is {:f}  square meters\"  # by default it prints 6 decimals\n",
        "x2= \"Area is {:.3f} square meters\" # restricted to print 3 decimals\n",
        "x3= \"Area is {:.9f} square meters\" # restricted to print 9 decimals\n",
        "print(x1.format(50))\n",
        "print(x2.format(50))\n",
        "print(x3.format(50))\n"
      ]
    },
    {
      "cell_type": "code",
      "execution_count": null,
      "metadata": {
        "colab": {
          "base_uri": "https://localhost:8080/"
        },
        "id": "SRT8fZkRGMgj",
        "outputId": "57c954ac-33c1-4a1d-ae00-4592fb9be836"
      },
      "outputs": [
        {
          "name": "stdout",
          "output_type": "stream",
          "text": [
            "X value is 100.000000%\n",
            "X value is 55%\n",
            "X value is 98.00%\n"
          ]
        }
      ],
      "source": [
        "#percentage\n",
        "#value should be 0 to 1\n",
        "\n",
        "x = \"X value is {:%}\"\n",
        "print(x.format(1))\n",
        "x1 = \"X value is {:.0%}\"\n",
        "print(x1.format(.55))\n",
        "x1 = \"X value is {:.2%}\"\n",
        "print(x1.format(.98))"
      ]
    },
    {
      "cell_type": "markdown",
      "metadata": {
        "id": "BtxyaroX6whB"
      },
      "source": [
        "**index() method find the specified value**\n",
        "\n",
        "index() method throws an exception if error raises"
      ]
    },
    {
      "cell_type": "code",
      "execution_count": null,
      "metadata": {
        "colab": {
          "base_uri": "https://localhost:8080/"
        },
        "id": "RYZIGEHa7Dsu",
        "outputId": "41943e53-c11d-418c-ba32-b0180c6daf80"
      },
      "outputs": [
        {
          "name": "stdout",
          "output_type": "stream",
          "text": [
            "10\n",
            "4\n",
            "18\n",
            "4\n"
          ]
        }
      ],
      "source": [
        "#index exaple\n",
        "\n",
        "x = \"Welcometo python world\"\n",
        "print(x.index(\"python\"))\n",
        "\n",
        "print(x.index(\"o\",2,15)) # finds the o between 2 to 15. index starts from [0]\n",
        "print(x.index(\"o\",15))  # finds o first occurance index after 15th index\n",
        "print(x.index(\"o\",2,9)) # finds first occurance between 2 to 9"
      ]
    },
    {
      "cell_type": "markdown",
      "metadata": {
        "id": "DGKrfI219dXE"
      },
      "source": [
        "**isalnum()  returns true or false if all charaters are alpha numeric**\n",
        "\n",
        "letters from a to z and numbers between 0-9"
      ]
    },
    {
      "cell_type": "code",
      "execution_count": null,
      "metadata": {
        "colab": {
          "base_uri": "https://localhost:8080/"
        },
        "id": "x52-ahYA9v91",
        "outputId": "8133b3a9-00a4-48c2-e349-302cd82cc051"
      },
      "outputs": [
        {
          "name": "stdout",
          "output_type": "stream",
          "text": [
            "True\n",
            "False\n",
            "False\n",
            "False\n"
          ]
        }
      ],
      "source": [
        "x = \"Welcometopythonworld\" # pure alpha numeric\n",
        "y = \"Welcome to python2 world\" # whitespace is not an alphanumeric\n",
        "z = \"welcome to @Python world\" # @  is not alphanumeric\n",
        "a = \"welcometo*pythonworld\"  # * is not alphanumeric\n",
        "print(x.isalnum())\n",
        "print(y.isalnum())\n",
        "print(z.isalnum())\n",
        "print(a.isalnum())"
      ]
    },
    {
      "cell_type": "markdown",
      "metadata": {
        "id": "5ufZK7FeEic2"
      },
      "source": [
        "**#isalpha()**\n",
        "\n",
        "**function if all the characters in the string are alphabets i.e a-z or A-Z**"
      ]
    },
    {
      "cell_type": "code",
      "execution_count": null,
      "metadata": {
        "colab": {
          "base_uri": "https://localhost:8080/"
        },
        "id": "BNYEkJ5Z-dXQ",
        "outputId": "df6fb9f5-530f-487d-d576-512c4d9d543a"
      },
      "outputs": [
        {
          "name": "stdout",
          "output_type": "stream",
          "text": [
            "True\n",
            "False\n"
          ]
        }
      ],
      "source": [
        "#isalpha() function if all the characters in the string are alphabets i.e a-z or A-Z\n",
        "x = \"Python\"\n",
        "print(x.isalpha())\n",
        "y = \"python3.4\"\n",
        "print(y.isalpha())"
      ]
    },
    {
      "cell_type": "code",
      "execution_count": null,
      "metadata": {
        "colab": {
          "base_uri": "https://localhost:8080/"
        },
        "id": "lYLDnkoPvNFw",
        "outputId": "925ee440-836a-4d1c-b585-176d3e09fa80"
      },
      "outputs": [
        {
          "name": "stdout",
          "output_type": "stream",
          "text": [
            "True\n"
          ]
        }
      ],
      "source": [
        "#isascii()\n",
        "#checks if ascii characters are in the string\n",
        "x = \"python122*\"\n",
        "print(x.isascii())"
      ]
    },
    {
      "cell_type": "markdown",
      "metadata": {
        "id": "2NM-Pfn_or24"
      },
      "source": [
        "# ASCII Codes Link\n",
        "\n",
        "https://www.w3schools.com/charsets/ref_html_ascii.asp"
      ]
    },
    {
      "cell_type": "code",
      "execution_count": null,
      "metadata": {
        "colab": {
          "base_uri": "https://localhost:8080/"
        },
        "id": "2UdmaplSot5v",
        "outputId": "71546c2d-e322-4dee-b8f0-8a537dcf7d02"
      },
      "outputs": [
        {
          "name": "stdout",
          "output_type": "stream",
          "text": [
            "True\n",
            "False\n",
            "False\n"
          ]
        }
      ],
      "source": [
        "#isdigit()  Checks if all characters are digits . if so returns true\n",
        "\n",
        "x = \"5000\"\n",
        "y = \"python 3.14\"\n",
        "z = \"python\"\n",
        "print(x.isdigit())\n",
        "print(y.isdigit())\n",
        "print(z.isdigit())"
      ]
    },
    {
      "cell_type": "code",
      "execution_count": null,
      "metadata": {
        "colab": {
          "base_uri": "https://localhost:8080/"
        },
        "id": "_EUdszbCqwSv",
        "outputId": "257a54ef-b688-46eb-e11e-abb93cb584ec"
      },
      "outputs": [
        {
          "output_type": "stream",
          "name": "stdout",
          "text": [
            "True\n",
            "False\n",
            "False\n",
            "False\n",
            "True\n"
          ]
        }
      ],
      "source": [
        "#isidentifier()\n",
        "\n",
        "# checks whether given string is identifier.\n",
        "# an identifier can not start with number and cant contain any spaces\n",
        "\n",
        "x=  \"python\"\n",
        "y = \"python3.14\"\n",
        "z = \"2python\"\n",
        "a = \"python 3.14\"\n",
        "b=  \"python314\"\n",
        "\n",
        "print(x.isidentifier())\n",
        "print(y.isidentifier())\n",
        "print(z.isidentifier())\n",
        "print(a.isidentifier())\n",
        "print(b.isidentifier())"
      ]
    },
    {
      "cell_type": "code",
      "execution_count": null,
      "metadata": {
        "colab": {
          "base_uri": "https://localhost:8080/"
        },
        "id": "adZCmThrsrKQ",
        "outputId": "4a298edd-c4ae-4718-d1cb-6345f6ddb2f4"
      },
      "outputs": [
        {
          "name": "stdout",
          "output_type": "stream",
          "text": [
            "True\n",
            "True\n",
            "False\n"
          ]
        }
      ],
      "source": [
        "#islower()\n",
        "#checks if given string is lower charater all\n",
        "\n",
        "x = \"python\"\n",
        "y = \"python123\"\n",
        "z = \"Python\"\n",
        "print(x.islower())\n",
        "print(y.islower())\n",
        "print(z.islower())"
      ]
    },
    {
      "cell_type": "code",
      "execution_count": null,
      "metadata": {
        "colab": {
          "base_uri": "https://localhost:8080/"
        },
        "id": "PRibGa7qw8rv",
        "outputId": "893994bd-8006-4fe0-ced7-22ff003a2e95"
      },
      "outputs": [
        {
          "name": "stdout",
          "output_type": "stream",
          "text": [
            "True\n",
            "False\n",
            "False\n",
            "False\n"
          ]
        }
      ],
      "source": [
        "#isnumeric()\n",
        "#checks if string is numeric\n",
        "\n",
        "x = \"1234\"\n",
        "y = \"str123\"\n",
        "z = \"-1234\"  #- is not numeric\n",
        "a = \"23.3\"  #. is not numeric\n",
        "print(x.isnumeric())\n",
        "print(y.isnumeric())\n",
        "print(z.isnumeric())\n",
        "print(a.isnumeric())"
      ]
    },
    {
      "cell_type": "code",
      "execution_count": null,
      "metadata": {
        "colab": {
          "base_uri": "https://localhost:8080/"
        },
        "id": "cO88J39Vxtpd",
        "outputId": "a6e18913-c396-444e-841c-adcaf1d10c9a"
      },
      "outputs": [
        {
          "name": "stdout",
          "output_type": "stream",
          "text": [
            "True\n",
            "False\n",
            "False\n"
          ]
        }
      ],
      "source": [
        "#isprintable()\n",
        "#checks if all characters are printable\n",
        "\n",
        "x = \"welcome python\"\n",
        "y = \"welcome \\n python\"  #\\n newline feed\n",
        "z = \"welcome to \\r python\" #\\r caraige return\n",
        "print(x.isprintable())\n",
        "print(y.isprintable())\n",
        "print(z.isprintable())"
      ]
    },
    {
      "cell_type": "code",
      "execution_count": null,
      "metadata": {
        "colab": {
          "base_uri": "https://localhost:8080/"
        },
        "id": "B1MfjhiVyv-w",
        "outputId": "a4e9677e-9ae4-441c-8512-8e8b56b65b2c"
      },
      "outputs": [
        {
          "name": "stdout",
          "output_type": "stream",
          "text": [
            "True\n",
            "False\n",
            "False\n"
          ]
        }
      ],
      "source": [
        "#isspace()\n",
        "#checks if all characters are spaces\n",
        "\n",
        "x = \"     \"\n",
        "y = \"    f  \"\n",
        "z = \"    5  \"\n",
        "print(x.isspace())\n",
        "print(y.isspace())\n",
        "print(z.isspace())"
      ]
    },
    {
      "cell_type": "code",
      "execution_count": null,
      "metadata": {
        "colab": {
          "base_uri": "https://localhost:8080/"
        },
        "id": "6IbCT2awzQln",
        "outputId": "3f554a69-3c1d-4b97-8d2e-16c7a2ae0f24"
      },
      "outputs": [
        {
          "name": "stdout",
          "output_type": "stream",
          "text": [
            "True\n",
            "False\n",
            "True\n"
          ]
        }
      ],
      "source": [
        "#istitle()\n",
        "# Checks if all characters in each word starts with capital letter\n",
        "\n",
        "x = \"Welcome To Python\"\n",
        "y = \"WELCOME TO PYTHON\"\n",
        "z = \"Welcome 123\"\n",
        "print(x.istitle())\n",
        "print(y.istitle())\n",
        "print(z.istitle())"
      ]
    },
    {
      "cell_type": "code",
      "execution_count": null,
      "metadata": {
        "colab": {
          "base_uri": "https://localhost:8080/"
        },
        "id": "107H_Vew0Jgr",
        "outputId": "13a87863-0b82-447c-984b-9ee13289ae66"
      },
      "outputs": [
        {
          "name": "stdout",
          "output_type": "stream",
          "text": [
            "True\n",
            "False\n",
            "True\n"
          ]
        }
      ],
      "source": [
        "#isupper()\n",
        "# checks if all characters in the string are upper case letters\n",
        "\n",
        "x = \"WELCOMETO PYTHON\"\n",
        "y=  \"Welcome \"\n",
        "z = \"PYTHON 3\"\n",
        "print(x.isupper())\n",
        "print(y.isupper())\n",
        "print(z.isupper())"
      ]
    },
    {
      "cell_type": "code",
      "execution_count": null,
      "metadata": {
        "colab": {
          "base_uri": "https://localhost:8080/"
        },
        "id": "tZMe-Hzi02mn",
        "outputId": "91e07f11-2525-4073-ceca-36455d8803f9"
      },
      "outputs": [
        {
          "output_type": "stream",
          "name": "stdout",
          "text": [
            "SHivaPrrasad\n",
            "SHiva*Prrasad\n",
            "Shiva_Prrasad\n",
            "F_Name+L_Name\n",
            "Shiva Prrasad\n",
            "S/h/i/v/a\n",
            "1*2*3\n",
            "Hello World Enter Python\n"
          ]
        }
      ],
      "source": [
        "#join()\n",
        "#Joins the given strings with given operator\n",
        "\n",
        "x = [\"SHiva\",\"Prrasad\"]\n",
        "y = (\"Shiva\",\"Prrasad\")\n",
        "z = {\"F_Name\":\"Shiva\",\"L_Name\":\"Prrasad\"}\n",
        "a = \"Shiva\"\n",
        "b = '123'\n",
        "c = (\"Hello\", \"World\", \"Enter\", \"Python\")\n",
        "\n",
        "print(\"\".join(x))\n",
        "print('*'.join(x))\n",
        "print(\"_\".join(y))\n",
        "print('+'.join(z))\n",
        "print(\" \".join(z.values()))\n",
        "print('/'.join(a))\n",
        "print('*'.join(b))\n",
        "print(\" \".join(c))"
      ]
    },
    {
      "cell_type": "code",
      "execution_count": null,
      "metadata": {
        "colab": {
          "base_uri": "https://localhost:8080/"
        },
        "id": "sk7-1DKk2GZA",
        "outputId": "6a5b8568-4399-4d1a-e9b7-997872000a0d"
      },
      "outputs": [
        {
          "name": "stdout",
          "output_type": "stream",
          "text": [
            "mango     \n",
            "mango           Is so sweetest fruit\n",
            "mango###############\n"
          ]
        }
      ],
      "source": [
        "#ljust\n",
        "#ALign the string left alignemnt with given seperator\n",
        "\n",
        "x = \"mango\"\n",
        "print(x.ljust(10))    #prints left justified and fills remaing characters with bydefalt spaces\n",
        "print(x.ljust(15),\"Is so sweetest fruit\")  # prints left justified with 15 characters length bydefault with spaces\n",
        "print(x.ljust(20,\"#\")) # fills let justified with 20 character length filling blank spaces with #"
      ]
    },
    {
      "cell_type": "code",
      "execution_count": null,
      "metadata": {
        "colab": {
          "base_uri": "https://localhost:8080/"
        },
        "id": "rY3khUZS5MG5",
        "outputId": "ff1bb682-a61f-4b7d-e56c-424fc7d77c83"
      },
      "outputs": [
        {
          "name": "stdout",
          "output_type": "stream",
          "text": [
            "welcome to the python world\n",
            "welcome to python\n",
            "welcome python @#-*3.14\n"
          ]
        }
      ],
      "source": [
        "# lower()\n",
        "# returns string by converting with lower case\n",
        "\n",
        "x = \"Welcome to the Python World\"\n",
        "y = 'WELCOME TO PYTHON'\n",
        "z = \"Welcome Python @#-*3.14\"\n",
        "\n",
        "print(x.lower())\n",
        "print(y.lower())\n",
        "print(z.lower())"
      ]
    },
    {
      "cell_type": "markdown",
      "metadata": {
        "id": "CxZ8u7J972vM"
      },
      "source": [
        "**The difference between casefold() and lower()  methods**\n",
        "\n",
        "Both will convert into lower case characters , where as lower() method converts into aphabets into lower case letters, where as casefold() converts some special characters also convert to its equivalent ascii"
      ]
    },
    {
      "cell_type": "code",
      "execution_count": null,
      "metadata": {
        "colab": {
          "base_uri": "https://localhost:8080/"
        },
        "id": "OYNbL9UJ88OK",
        "outputId": "225954af-b543-4c16-b931-5af7d649e0fe"
      },
      "outputs": [
        {
          "name": "stdout",
          "output_type": "stream",
          "text": [
            "welcome python «¥ß \n",
            "welcome python «¥ss \n"
          ]
        }
      ],
      "source": [
        "x = \"Welcome python «¥ß \"\n",
        "print(x.lower())\n",
        "print(x.casefold())"
      ]
    },
    {
      "cell_type": "code",
      "execution_count": null,
      "metadata": {
        "colab": {
          "base_uri": "https://localhost:8080/"
        },
        "id": "9c41DcAK9MaW",
        "outputId": "df20520d-fe49-4db5-b821-84710177fe2e"
      },
      "outputs": [
        {
          "name": "stdout",
          "output_type": "stream",
          "text": [
            "Welcome to pyhton world\n"
          ]
        }
      ],
      "source": [
        "#lstrip()\n",
        "# Removes left strip of characters\n",
        "\n",
        "x = \";;';p5gv,   Welcome to pyhton world\"\n",
        "print(x.lstrip(\";p5gv ,'\"))\n"
      ]
    },
    {
      "cell_type": "markdown",
      "metadata": {
        "id": "qCzHHHByVojl"
      },
      "source": [
        "**maketrans()**\n",
        "\n",
        "Here are 2 steps.\n",
        "\n",
        "1. create a mapping table by replacing given characters\n",
        "2. stores those exchange characters in a dictionary in the form of key and keyvalues\n",
        "3. apply this translation to actual text\n"
      ]
    },
    {
      "cell_type": "code",
      "execution_count": null,
      "metadata": {
        "colab": {
          "base_uri": "https://localhost:8080/"
        },
        "id": "fJ6unKiyAY1z",
        "outputId": "40ac5f34-2f1e-4725-d979-ec083a5729fb"
      },
      "outputs": [
        {
          "name": "stdout",
          "output_type": "stream",
          "text": [
            "{104: 80}\n",
            "<class 'dict'>\n",
            "Hello PytPon\n"
          ]
        }
      ],
      "source": [
        "#maketrans()\n",
        "\n",
        "x = \"Hello hython\"  # actual string\n",
        "y = str.maketrans(\"h\",\"P\")  # creates new string by replacing h with P  using \"maketrans()\"\n",
        "print(y)\n",
        "print(type(y))  # creates a dictionary\n",
        "print(x.translate(y)) # apply these changes to actual string using translate()\n",
        "# Python is case sensitive"
      ]
    },
    {
      "cell_type": "code",
      "execution_count": null,
      "metadata": {
        "colab": {
          "base_uri": "https://localhost:8080/"
        },
        "id": "B9CGyGmUS6Kh",
        "outputId": "8f5888a2-1d0c-4b5a-97e5-0ab6bc1ce8f9"
      },
      "outputs": [
        {
          "name": "stdout",
          "output_type": "stream",
          "text": [
            "{97: 110, 105: 116, 115: 112, 104: 121, 118: 111}\n",
            "Hello pyton\n"
          ]
        }
      ],
      "source": [
        "#example 2\n",
        "\n",
        "text = \"Hello shiva\"  # actual string\n",
        "x = \"aishv\"   #set of characters\n",
        "y = \"ntpyo\"   # set of characters\n",
        "\n",
        "z = str.maketrans(x,y) # creates a  dictionary internally by assigning keys and key values to x and y.\n",
        "print(z)               # {'a':'n','i':'t','s':'p','h':'y','v:'o'}\n",
        "final = text.translate(z) # translates actual string by replacing characters as  per given z\n",
        "print(final)\n"
      ]
    },
    {
      "cell_type": "code",
      "execution_count": null,
      "metadata": {
        "colab": {
          "base_uri": "https://localhost:8080/"
        },
        "id": "F7hLAAgSb2ey",
        "outputId": "807b4107-533b-47f7-8156-1b0d96b9eb30"
      },
      "outputs": [
        {
          "name": "stdout",
          "output_type": "stream",
          "text": [
            "<class 'dict'>\n",
            "<class 'str'>\n",
            "\n",
            " Python is new age programming language\n"
          ]
        }
      ],
      "source": [
        "#example 3\n",
        "\n",
        "actual_text  = \"Kython is vew ade prodramming landuade\"\n",
        "\n",
        "x = \"Kvd\"\n",
        "y = \"Png\"\n",
        "\n",
        "new_str = str.maketrans(x,y)  # creates a dictionary by assigning characters of each \"\\n\"\n",
        "                              #  in X as keys to characters of y as key_values also called as mapping\n",
        "print(type(new_str))\n",
        "\n",
        "final_text  = actual_text.translate(new_str) # translates the actual text with new string as dictionary , by replacing key and keyvalues\n",
        "print(type(final_text))\n",
        "\n",
        "print(\"\\n\",final_text)\n",
        "\n"
      ]
    },
    {
      "cell_type": "code",
      "execution_count": null,
      "metadata": {
        "colab": {
          "base_uri": "https://localhost:8080/"
        },
        "id": "4vNlLV1EhFB_",
        "outputId": "8b4118ed-2cb6-43ca-ab35-74f36bd8ece5"
      },
      "outputs": [
        {
          "name": "stdout",
          "output_type": "stream",
          "text": [
            "{97: 111, 109: 101, 82: 78, 99: None, 111: None, 101: None}\n",
            "<class 'dict'>\n",
            "Wle Noe\n"
          ]
        }
      ],
      "source": [
        "# maketrans(a,b,c)\n",
        "\"\"\" Here a is first parameter\n",
        "    b is replaceable parameters\n",
        "    c is removable parameters\n",
        "\"\"\"\n",
        "text = \"Welcome Ram\"\n",
        "\n",
        "a = \"amR\"\n",
        "b = \"oeN\"\n",
        "c = \"coe\"\n",
        "\n",
        "text1 = str.maketrans(a,b,c)\n",
        "print(text1)\n",
        "\n",
        "print(type(text1))\n",
        "\n",
        "final=  text.translate(text1)   # finally replace \"a\"\"m\"\"R\" with \"o\"\"e\"\"N\" and then removes \"c\"\"o\"\"e\" where ever exists\n",
        "print(final)"
      ]
    },
    {
      "cell_type": "markdown",
      "metadata": {
        "id": "qaP-OguQA8oO"
      },
      "source": [
        "**partition()**\n",
        "\n",
        "Partition() string partititon the given string into three parts according the given string  in a tuple() format\n",
        "\n",
        ". String before the partition string\n",
        "\n",
        ". parititon string\n",
        "\n",
        ". string after partition string\n"
      ]
    },
    {
      "cell_type": "code",
      "execution_count": null,
      "metadata": {
        "colab": {
          "base_uri": "https://localhost:8080/"
        },
        "id": "zgpaCQE7BNoe",
        "outputId": "ad87bd6e-b9b9-4133-82fb-626751183ebe"
      },
      "outputs": [
        {
          "name": "stdout",
          "output_type": "stream",
          "text": [
            "('Welcome to ', 'python', ' World')\n",
            "['Welcome to ', 'python', ' World']\n"
          ]
        }
      ],
      "source": [
        "# Partition()\n",
        "x =\"Welcome to python World\"\n",
        "print(x.partition(\"python\"))      # tuple\n",
        "print(list(x.partition(\"python\")))  # list"
      ]
    },
    {
      "cell_type": "markdown",
      "metadata": {
        "id": "sCmCaRkNrz8X"
      },
      "source": [
        "**why partition() returns tuple() instead of list().?**\n",
        "\n",
        "when we are partitoning the particular string using partition() method the output comes into tuple(). it is designed for secure the source data, because tuple() is immutable can not alter the data. if output is list(). list() is mutable so there is a scope of insecurity  of source data. if so we want toutput in list we can convert it using the list() method."
      ]
    },
    {
      "cell_type": "code",
      "execution_count": null,
      "metadata": {
        "colab": {
          "base_uri": "https://localhost:8080/"
        },
        "id": "MvFgteTFBpFv",
        "outputId": "d5ec5481-88f4-4d28-e770-75b6e13b63d7"
      },
      "outputs": [
        {
          "name": "stdout",
          "output_type": "stream",
          "text": [
            "('welcome to python World', '', '')\n"
          ]
        }
      ],
      "source": [
        "# example 2\n",
        "x = \"welcome to python World\"\n",
        "print(x.partition(\"Python\")) # returns if the given string not found. Here P is case sensitive . thatswhy 2nd and 3rd printed empty"
      ]
    },
    {
      "cell_type": "markdown",
      "metadata": {
        "id": "DzI8zv_KDmrK"
      },
      "source": [
        "**replace()**\n",
        "\n",
        "Replaces specified string with another string"
      ]
    },
    {
      "cell_type": "code",
      "execution_count": null,
      "metadata": {
        "colab": {
          "base_uri": "https://localhost:8080/"
        },
        "id": "coJUSA_dDzez",
        "outputId": "58ff3149-5167-415a-9ebd-7eac34888a82"
      },
      "outputs": [
        {
          "name": "stdout",
          "output_type": "stream",
          "text": [
            "Welcome to Java world\n"
          ]
        }
      ],
      "source": [
        "# replace()\n",
        "\n",
        "x = \"Welcome to python world\"\n",
        "\n",
        "print(x.replace(\"python\",\"Java\"))"
      ]
    },
    {
      "cell_type": "code",
      "execution_count": null,
      "metadata": {
        "colab": {
          "base_uri": "https://localhost:8080/"
        },
        "id": "nWDVcAQEE75Z",
        "outputId": "c23b7547-1c9b-4da6-cea8-3c02fa291578"
      },
      "outputs": [
        {
          "output_type": "stream",
          "name": "stdout",
          "text": [
            "I have three thousand three hundred three mangoes\n",
            "I have three thousand three hundred two mangoes\n"
          ]
        }
      ],
      "source": [
        "#replace(text1,text2,no.of first occurances)\n",
        "\n",
        "x=  \"I have two thousand two hundred two mangoes\"\n",
        "print(x.replace(\"two\",\"three\",3)) # Alters the \"two\" with \"three\" with first 3 occurances\n",
        "print(x.replace(\"two\",\"three\",2)) # Alters two with three first 2 occurances"
      ]
    },
    {
      "cell_type": "markdown",
      "metadata": {
        "id": "hWuSa89gHrxV"
      },
      "source": [
        "**rfind()**\n",
        "\n",
        "Finds the last occurance of the given text or string\n",
        "\n",
        "rfind(\"string\")\n",
        "rfind(string, start_value,end_value)\n"
      ]
    },
    {
      "cell_type": "code",
      "execution_count": null,
      "metadata": {
        "colab": {
          "base_uri": "https://localhost:8080/"
        },
        "id": "MXatdYbUIUU4",
        "outputId": "414823cb-bc19-45e7-e9ae-167d98d1707f"
      },
      "outputs": [
        {
          "output_type": "stream",
          "name": "stdout",
          "text": [
            "13\n",
            "23\n",
            "19\n",
            "9\n",
            "-1\n"
          ]
        }
      ],
      "source": [
        "#rfind()\n",
        "\n",
        "x =  \"Welcome to python world\"\n",
        "print(x.rfind(\"t\")) # index starts from [0]  # fnds last occurance of 't'\n",
        "print(len(x))\n",
        "print(x.rfind(\"o\",3,)) # find last occurance of 'o' starts from 3 position to last position\n",
        "print(x.rfind(\"o\",6,10)) # finds last occurance of 'o' from 6 to 9\n",
        "print(x.rfind(\"Java\"))  # returns -1 if not found"
      ]
    },
    {
      "cell_type": "markdown",
      "metadata": {
        "id": "XlLHOLKiSyKf"
      },
      "source": [
        "**rindex()**\n",
        "\n",
        "rindex() returns the first occurance of given string or value\n"
      ]
    },
    {
      "cell_type": "code",
      "execution_count": null,
      "metadata": {
        "colab": {
          "base_uri": "https://localhost:8080/",
          "height": 262
        },
        "id": "daGowzJ-WI8W",
        "outputId": "c691c891-c43e-4dde-e7bf-b0357d31778f"
      },
      "outputs": [
        {
          "name": "stdout",
          "output_type": "stream",
          "text": [
            "8\n",
            "11\n",
            "8\n"
          ]
        },
        {
          "ename": "ValueError",
          "evalue": "ignored",
          "output_type": "error",
          "traceback": [
            "\u001b[0;31m---------------------------------------------------------------------------\u001b[0m",
            "\u001b[0;31mValueError\u001b[0m                                Traceback (most recent call last)",
            "\u001b[0;32m<ipython-input-32-05f757ad3a28>\u001b[0m in \u001b[0;36m<cell line: 6>\u001b[0;34m()\u001b[0m\n\u001b[1;32m      4\u001b[0m \u001b[0mprint\u001b[0m\u001b[0;34m(\u001b[0m\u001b[0mx\u001b[0m\u001b[0;34m.\u001b[0m\u001b[0mindex\u001b[0m\u001b[0;34m(\u001b[0m\u001b[0;34m\"python\"\u001b[0m\u001b[0;34m)\u001b[0m\u001b[0;34m)\u001b[0m\u001b[0;34m\u001b[0m\u001b[0;34m\u001b[0m\u001b[0m\n\u001b[1;32m      5\u001b[0m \u001b[0mprint\u001b[0m\u001b[0;34m(\u001b[0m\u001b[0mx\u001b[0m\u001b[0;34m.\u001b[0m\u001b[0mindex\u001b[0m\u001b[0;34m(\u001b[0m\u001b[0;34m\"t\"\u001b[0m\u001b[0;34m,\u001b[0m\u001b[0;36m3\u001b[0m\u001b[0;34m,\u001b[0m\u001b[0;36m10\u001b[0m\u001b[0;34m)\u001b[0m\u001b[0;34m)\u001b[0m\u001b[0;34m\u001b[0m\u001b[0;34m\u001b[0m\u001b[0m\n\u001b[0;32m----> 6\u001b[0;31m \u001b[0mprint\u001b[0m\u001b[0;34m(\u001b[0m\u001b[0mx\u001b[0m\u001b[0;34m.\u001b[0m\u001b[0mindex\u001b[0m\u001b[0;34m(\u001b[0m\u001b[0;34m\"ajav\"\u001b[0m\u001b[0;34m)\u001b[0m\u001b[0;34m)\u001b[0m\u001b[0;34m\u001b[0m\u001b[0;34m\u001b[0m\u001b[0m\n\u001b[0m",
            "\u001b[0;31mValueError\u001b[0m: substring not found"
          ]
        }
      ],
      "source": [
        "#rindex()\n",
        "x=\"Welcome to python\"\n",
        "\n",
        "print(x.index(\"t\"))  # first occurance of 't'\n",
        "print(x.index(\"python\")) # first occurance of string \"python\"\n",
        "print(x.index(\"t\",3,10))  # first occurance of t from start index 3 to end index 10\n",
        "print(x.index(\"ajav\")) # throws exception if not found"
      ]
    },
    {
      "cell_type": "markdown",
      "metadata": {
        "id": "uvXivfrND3Y8"
      },
      "source": [
        "**Difference between rindex() and rfind() is if value not found rfind() returns -1 and   rindex() throws an exception error..**"
      ]
    },
    {
      "cell_type": "markdown",
      "metadata": {
        "id": "uL9AYeKuE8jn"
      },
      "source": [
        "**rjust()**\n",
        "\n",
        "rjust(10)..  fills 10 characters with given character as right justified..."
      ]
    },
    {
      "cell_type": "code",
      "execution_count": null,
      "metadata": {
        "colab": {
          "base_uri": "https://localhost:8080/"
        },
        "id": "sjrbL9NbFZLe",
        "outputId": "f276db80-7d97-444b-d9d4-5cab3a596f15"
      },
      "outputs": [
        {
          "name": "stdout",
          "output_type": "stream",
          "text": [
            "              python\n"
          ]
        }
      ],
      "source": [
        "x = \"python\"\n",
        "print(x.rjust(20)) # print python by leaving 20-6(python is 6 characters) =14 . by default it prints white spaces"
      ]
    },
    {
      "cell_type": "code",
      "execution_count": null,
      "metadata": {
        "colab": {
          "base_uri": "https://localhost:8080/"
        },
        "id": "GPAJwR33FptL",
        "outputId": "fe010e31-41e4-444e-99b3-64797b8410aa"
      },
      "outputs": [
        {
          "name": "stdout",
          "output_type": "stream",
          "text": [
            "##############python\n"
          ]
        }
      ],
      "source": [
        "x = \"python\"\n",
        "print(x.rjust(20,\"#\"))"
      ]
    },
    {
      "cell_type": "markdown",
      "metadata": {
        "id": "_mc_YcuRGiqv"
      },
      "source": [
        "**rpartition()**\n",
        "sepeartes as three strings by given string right most as **LAST OCCURANCE** .\n",
        "\n",
        "returns as tuple"
      ]
    },
    {
      "cell_type": "code",
      "execution_count": null,
      "metadata": {
        "colab": {
          "base_uri": "https://localhost:8080/"
        },
        "id": "vrR40TgSGvZo",
        "outputId": "a2714d32-599b-4853-e1f2-07e0aa5fa56c"
      },
      "outputs": [
        {
          "name": "stdout",
          "output_type": "stream",
          "text": [
            "('Welcome to python world. python is popular language. ', 'python', ' was found in the year 1991')\n"
          ]
        }
      ],
      "source": [
        "#rpartition()\n",
        "x = \"Welcome to python world. python is popular language. python was found in the year 1991\"\n",
        "#right most occurance of the given word will be split.\n",
        "print(x.rpartition(\"python\"))"
      ]
    },
    {
      "cell_type": "code",
      "execution_count": null,
      "metadata": {
        "colab": {
          "base_uri": "https://localhost:8080/"
        },
        "id": "rfV8jPJsHuJQ",
        "outputId": "c314a347-16f6-4251-e8a1-a4efbed28d24"
      },
      "outputs": [
        {
          "name": "stdout",
          "output_type": "stream",
          "text": [
            "('', '', 'Welcome to python world. python is popular language. python was found in the year 1991')\n"
          ]
        }
      ],
      "source": [
        "#rpartition()\n",
        "x = \"Welcome to python world. python is popular language. python was found in the year 1991\"\n",
        "#right most occurance of the given word will be split.\n",
        "print(x.rpartition(\"Java\"))"
      ]
    },
    {
      "cell_type": "markdown",
      "metadata": {
        "id": "W5r09BfabiQy"
      },
      "source": [
        "**rsplit()  Split a string into a list**"
      ]
    },
    {
      "cell_type": "code",
      "execution_count": null,
      "metadata": {
        "colab": {
          "base_uri": "https://localhost:8080/"
        },
        "id": "H-g7JzD3bm29",
        "outputId": "6af48c51-5336-4024-efd0-463e31798fd4"
      },
      "outputs": [
        {
          "name": "stdout",
          "output_type": "stream",
          "text": [
            "['Welcome', 'to', 'python', 'world']\n",
            "['Welcome to ', ' world']\n",
            "['Welcome to python', 'world']\n",
            "['Welcome', 'to', 'python', 'world']\n"
          ]
        }
      ],
      "source": [
        "#rsplit()\n",
        "x = \"Welcome to python world\"\n",
        "print(x.rsplit(\" \"))  # split at each word at whitespace\n",
        "print(x.rsplit(\"python\"))   # splits by removing before and after the string 'python'\n",
        "print(x.rsplit(\" \", 1))   # split to 2 elements in  a list\n",
        "print(x.rsplit(\" \", -1))   # -1 indicates all splits with whitespaces"
      ]
    },
    {
      "cell_type": "markdown",
      "metadata": {
        "id": "dCSArnOfhzN5"
      },
      "source": [
        "**rstrip()  removes white space from right justfied***"
      ]
    },
    {
      "cell_type": "code",
      "execution_count": null,
      "metadata": {
        "colab": {
          "base_uri": "https://localhost:8080/"
        },
        "id": "an5Jf48ojjKW",
        "outputId": "31b1fd49-c43d-40aa-da64-02c26cea6e11"
      },
      "outputs": [
        {
          "name": "stdout",
          "output_type": "stream",
          "text": [
            "My favourite fruit is       apple fruits\n",
            "     mango      ... fruits\n"
          ]
        }
      ],
      "source": [
        "#rstrip\n",
        "\n",
        "x = \"      apple     \"\n",
        "text  = x.rstrip()  #removes right side of whitespaces\n",
        "print(\"My favourite fruit is\",text,'fruits')\n",
        "\n",
        "y = \"     mango      ...\"\n",
        "z = y.rstrip() # will not remove whitespaces after mango, bcoz some characters are there\n",
        "print(z,\"fruits\")"
      ]
    },
    {
      "cell_type": "code",
      "execution_count": null,
      "metadata": {
        "colab": {
          "base_uri": "https://localhost:8080/"
        },
        "id": "yf38OVP1bzf6",
        "outputId": "56791d49-ede7-4570-b08a-8fb10903e76d"
      },
      "outputs": [
        {
          "name": "stdout",
          "output_type": "stream",
          "text": [
            "    ...,:Bananas fruits\n"
          ]
        }
      ],
      "source": [
        "#rstrip\n",
        "x = \"    ...,:Bananas    .,;: \"  # removes all special characters after Bananas\n",
        "print(x.rstrip(\" ,.;:\"),'fruits')"
      ]
    },
    {
      "cell_type": "markdown",
      "metadata": {
        "id": "ps3Bey8dJUkK"
      },
      "source": [
        "**split()  Split the given string into a list**\n",
        "\n",
        "split(seperator, maxitem)"
      ]
    },
    {
      "cell_type": "code",
      "execution_count": null,
      "metadata": {
        "colab": {
          "base_uri": "https://localhost:8080/"
        },
        "id": "Hcq-9a3PJa6C",
        "outputId": "3c37a036-e913-4aa3-fd95-b67364539d00"
      },
      "outputs": [
        {
          "name": "stdout",
          "output_type": "stream",
          "text": [
            "['Welcome', 'to', 'python', 'world']\n",
            "['Welcome', 'to', 'python', '', 'world']\n",
            "['Welcome', 'to', 'python', '', 'world']\n",
            "['Welcome', 'to', 'python  world']\n",
            "['Welcom', 'e to ', 'python ', 'world']\n"
          ]
        }
      ],
      "source": [
        "#split()\n",
        "\n",
        "x = \"Welcome to python  world\"\n",
        "print(x.split())  # splits each word to list\n",
        "print(x.split(\" \")) # splits at every whitespace, if we observe there are 2 whitespaces begtween python and world string.\n",
        "                    # so it considers as seperate item of whitesapce\n",
        "print(x.split(\" \",-1))  # split at everywhite space, -1 denotes all\n",
        "print(x.split(\" \",2))  # split @ every whitespace maximum of 3 items\n",
        "\n",
        "y = \"Welcom#e to #python #world\"\n",
        "print(y.split(\"#\"))  # splits @ every # symbol"
      ]
    },
    {
      "cell_type": "markdown",
      "metadata": {
        "id": "fTGjbxV7gMl-"
      },
      "source": [
        "**Difference between split() and partition()**\n",
        "\n",
        "split() returns in list() where as partition() returns tuple()"
      ]
    },
    {
      "cell_type": "code",
      "execution_count": null,
      "metadata": {
        "colab": {
          "base_uri": "https://localhost:8080/",
          "height": 279
        },
        "id": "1x8KC5r7Ju71",
        "outputId": "37a91b45-6a8e-4c29-fdbf-e825e23c9eae"
      },
      "outputs": [
        {
          "name": "stdout",
          "output_type": "stream",
          "text": [
            "['Hello', 'World']\n",
            "('Hello', ',', 'World')\n",
            "None\n",
            "['Hello', 'World', 'python']\n"
          ]
        },
        {
          "ename": "AttributeError",
          "evalue": "ignored",
          "output_type": "error",
          "traceback": [
            "\u001b[0;31m---------------------------------------------------------------------------\u001b[0m",
            "\u001b[0;31mAttributeError\u001b[0m                            Traceback (most recent call last)",
            "\u001b[0;32m<ipython-input-15-8c719b6ca855>\u001b[0m in \u001b[0;36m<cell line: 11>\u001b[0;34m()\u001b[0m\n\u001b[1;32m      9\u001b[0m \u001b[0mprint\u001b[0m\u001b[0;34m(\u001b[0m\u001b[0mresult\u001b[0m\u001b[0;34m.\u001b[0m\u001b[0mappend\u001b[0m\u001b[0;34m(\u001b[0m\u001b[0;34m\"python\"\u001b[0m\u001b[0;34m)\u001b[0m\u001b[0;34m)\u001b[0m\u001b[0;34m\u001b[0m\u001b[0;34m\u001b[0m\u001b[0m\n\u001b[1;32m     10\u001b[0m \u001b[0mprint\u001b[0m\u001b[0;34m(\u001b[0m\u001b[0mresult\u001b[0m\u001b[0;34m)\u001b[0m\u001b[0;34m\u001b[0m\u001b[0;34m\u001b[0m\u001b[0m\n\u001b[0;32m---> 11\u001b[0;31m \u001b[0mprint\u001b[0m\u001b[0;34m(\u001b[0m\u001b[0mresult1\u001b[0m\u001b[0;34m.\u001b[0m\u001b[0mappend\u001b[0m\u001b[0;34m(\u001b[0m\u001b[0;34m\"python\"\u001b[0m\u001b[0;34m)\u001b[0m\u001b[0;34m)\u001b[0m\u001b[0;34m\u001b[0m\u001b[0;34m\u001b[0m\u001b[0m\n\u001b[0m",
            "\u001b[0;31mAttributeError\u001b[0m: 'tuple' object has no attribute 'append'"
          ]
        }
      ],
      "source": [
        "# example of split() and partition()\n",
        "text = \"Hello,World\"\n",
        "result = text.split(\",\")\n",
        "result1 = text.partition(\",\")\n",
        "\n",
        "print(result)  # prints result as LIST[]\n",
        "print(result1)  # prints result1 as TUPLE()\n",
        "\n",
        "print(result.append(\"python\"))  # Here we can add a new item, because split() method returns list\n",
        "print(result)\n",
        "print(result1.append(\"python\")) # Here we are getting error , becasue partition() method returns tuple()"
      ]
    },
    {
      "cell_type": "markdown",
      "metadata": {
        "id": "4WtPDkE4LqO7"
      },
      "source": [
        "**splitlines()..  splits each new line item \\n as an item in the list**"
      ]
    },
    {
      "cell_type": "code",
      "execution_count": null,
      "metadata": {
        "colab": {
          "base_uri": "https://localhost:8080/"
        },
        "id": "TdV-VdzdMKPE",
        "outputId": "7b4cecb7-5c01-4730-ebe9-b5044ef23c4f"
      },
      "outputs": [
        {
          "name": "stdout",
          "output_type": "stream",
          "text": [
            "['Welcome to ', 'python ', ' world']\n"
          ]
        }
      ],
      "source": [
        "x = \"Welcome to \\npython \\n world\"\n",
        "print(x.splitlines())   # splits each line at \\n"
      ]
    },
    {
      "cell_type": "code",
      "execution_count": null,
      "metadata": {
        "colab": {
          "base_uri": "https://localhost:8080/"
        },
        "id": "wQIgrUryMQv4",
        "outputId": "31f23310-fa28-4c4b-b26e-5d582f6f7f42"
      },
      "outputs": [
        {
          "name": "stdout",
          "output_type": "stream",
          "text": [
            "['Welcome to \\n', 'python \\n', ' world']\n"
          ]
        }
      ],
      "source": [
        "x = \"Welcome to \\npython \\n world\"\n",
        "print(x.splitlines(True)) # here if we set to true it print new line character and splits at each item in th list as \\n . if false by default omits \\n"
      ]
    },
    {
      "cell_type": "markdown",
      "metadata": {
        "id": "S1SWYsM0Sgrs"
      },
      "source": [
        "**startswith()**  Check if gven string starts with specified range\n",
        "\n",
        "startswith(value, start_value, end_value)"
      ]
    },
    {
      "cell_type": "code",
      "execution_count": null,
      "metadata": {
        "colab": {
          "base_uri": "https://localhost:8080/"
        },
        "id": "R76-rACnQE3s",
        "outputId": "be42745e-75ea-418f-822e-c51f51b77824"
      },
      "outputs": [
        {
          "output_type": "stream",
          "name": "stdout",
          "text": [
            "True\n",
            "False\n",
            "True\n",
            "True\n",
            "False\n"
          ]
        }
      ],
      "source": [
        "x = \"Welcome to python world\"\n",
        "print(x.startswith('Welcome')) # checks starts with given string\n",
        "print(x.startswith(\"welcome\")) # case sensitive\n",
        "print(x.startswith(\"to\",8,13)) # check if value \"to\" starts in search index 7 and ends with index 13\n",
        "print(x.startswith(\"to\",8,))   # start index at 8 end index is upto last\n",
        "print(x.startswith(\"to\",-1,))"
      ]
    },
    {
      "cell_type": "markdown",
      "metadata": {
        "id": "OBf3Xq7pVGdH"
      },
      "source": [
        "**strip() Removes any whitespaces and unwanted characters**\n",
        "\n",
        "trimmed version string\n",
        "\n",
        "strip(value to remove characters)"
      ]
    },
    {
      "cell_type": "code",
      "execution_count": null,
      "metadata": {
        "colab": {
          "base_uri": "https://localhost:8080/"
        },
        "id": "6r1_lX80TVnZ",
        "outputId": "a1248b3a-b57a-4003-95ce-d3aad2dcb973"
      },
      "outputs": [
        {
          "name": "stdout",
          "output_type": "stream",
          "text": [
            "python\n",
            "python\n"
          ]
        }
      ],
      "source": [
        "#strip()\n",
        "\n",
        "x = \"            python       \"   # removes whitespaces\n",
        "print(x.strip())\n",
        "\n",
        "y = \"   -_ dgd  python    968\"    # Removes given set of characters\n",
        "print(x.strip(\" -_dgd968\"))\n",
        "\n"
      ]
    },
    {
      "cell_type": "markdown",
      "metadata": {
        "id": "VOeupVMsWYVn"
      },
      "source": [
        "**swapcase()   converts in a string uppercase letter to lowercase letters and viceversa"
      ]
    },
    {
      "cell_type": "code",
      "execution_count": null,
      "metadata": {
        "colab": {
          "base_uri": "https://localhost:8080/"
        },
        "id": "iF6tMZURVqdY",
        "outputId": "1f59b294-9dea-4ca3-e98f-9a8dc1301f1a"
      },
      "outputs": [
        {
          "name": "stdout",
          "output_type": "stream",
          "text": [
            "WElcOmE To Python\n"
          ]
        }
      ],
      "source": [
        "#swapcase()\n",
        "\n",
        "x = \"weLCoMe tO pYTHON\"  # converts upper to lower and lower to upper\n",
        "print(x.swapcase())\n"
      ]
    },
    {
      "cell_type": "markdown",
      "metadata": {
        "id": "QeB5LmJAXG8e"
      },
      "source": [
        "**title()   converts first letter in each word to upper**"
      ]
    },
    {
      "cell_type": "code",
      "execution_count": null,
      "metadata": {
        "colab": {
          "base_uri": "https://localhost:8080/"
        },
        "id": "U1qkuWqIWlem",
        "outputId": "91b7fb38-098b-41a6-8f53-e426ca28d99b"
      },
      "outputs": [
        {
          "name": "stdout",
          "output_type": "stream",
          "text": [
            "Welcome To Python World\n",
            "2Welcome To Python World\n",
            "Welcom To P2Y3Tho8N World3.0   N***2/*N\n"
          ]
        }
      ],
      "source": [
        "#title\n",
        "\n",
        "x=  \"welcome to Python world\"  # converts each word of first letter to upper case\n",
        "print(x.title())\n",
        "\n",
        "y = \"2welcome to PythOn world\"  # After numeric value the next coming alphabet converts to Upper\n",
        "print(y.title())\n",
        "z = \"welcom to p2y3tho8n world3.0   n***2/*n\" #converts after special characters to upper\n",
        "print(z.title())"
      ]
    },
    {
      "cell_type": "markdown",
      "metadata": {
        "id": "KzhsYCGjYgg-"
      },
      "source": [
        "**translate()**\n",
        "\n",
        "translates the gven set of string with given values into mapping table or dictionary\n",
        "\n",
        "it sore the data into mapping table or dictionary\n"
      ]
    },
    {
      "cell_type": "code",
      "execution_count": null,
      "metadata": {
        "colab": {
          "base_uri": "https://localhost:8080/"
        },
        "id": "vMM2XROqZ2GX",
        "outputId": "9bd20449-c9e0-41b0-eae5-b467b360a495"
      },
      "outputs": [
        {
          "output_type": "stream",
          "name": "stdout",
          "text": [
            "Hi Sam\n"
          ]
        }
      ],
      "source": [
        "x=  \"Hi Ram\"\n",
        "y = {82:83}   # dictionary is identified as y with ascii code.  R in ascii 82  S in ascii as 83\n",
        "print(x.translate(y)) # translates original string x  by replacing with y value"
      ]
    },
    {
      "cell_type": "code",
      "execution_count": null,
      "metadata": {
        "colab": {
          "base_uri": "https://localhost:8080/"
        },
        "id": "fJQ_YCCOaJ--",
        "outputId": "34d1c301-2c59-4eff-bd89-60a56d964566"
      },
      "outputs": [
        {
          "name": "stdout",
          "output_type": "stream",
          "text": [
            "Sam\n"
          ]
        }
      ],
      "source": [
        "x = \"Ram\"\n",
        "\n",
        "y = {82:83}\n",
        "print(x.translate(y))"
      ]
    },
    {
      "cell_type": "code",
      "execution_count": null,
      "metadata": {
        "colab": {
          "base_uri": "https://localhost:8080/"
        },
        "id": "IWKVoZNPeVUh",
        "outputId": "d9264400-5af2-405e-d891-0d9a41c0d150"
      },
      "outputs": [
        {
          "name": "stdout",
          "output_type": "stream",
          "text": [
            "csharp\n"
          ]
        }
      ],
      "source": [
        "x = \"python\"\n",
        "\n",
        "y = {112: 99 ,121: 115 ,116: 104 ,104: 97  ,111: 114  ,110: 112 }\n",
        "# ascii values of python \" 112,121,116,104,111,110\"\n",
        "# ascii values of csharp  \"99,115,104,97,114,112\"\n",
        "\n",
        "print(x.translate(y))"
      ]
    },
    {
      "cell_type": "code",
      "execution_count": null,
      "metadata": {
        "colab": {
          "base_uri": "https://localhost:8080/"
        },
        "id": "ANU0IOHucJy1",
        "outputId": "f0df03d1-dd70-417c-dd7b-015ee6bd28b0"
      },
      "outputs": [
        {
          "output_type": "stream",
          "name": "stdout",
          "text": [
            "{112: 74, 121: 97, 116: 118, 104: None, 111: None, 110: None}\n",
            "Welcme v Jav wrld\n"
          ]
        }
      ],
      "source": [
        "x = \"Welcome to python world\"\n",
        "y = \"pyt\"\n",
        "z = \"Jav\"\n",
        "a = \"hon\"\n",
        "\n",
        "text  = str.maketrans(y,z,a)  # stores data in a dictionary method with ascii values after replaceing 'y' values with 'z' values.\n",
        "                              # 'a' used here to remove a identifier value\n",
        "print(text)\n",
        "text1 = x.translate(text)     # now translate the original string \"x\" with \"text\"\n",
        "print(text1)"
      ]
    },
    {
      "cell_type": "markdown",
      "metadata": {
        "id": "-ae7jQKOgKZb"
      },
      "source": [
        "**upper()**\n",
        "\n",
        "converts a string to upper"
      ]
    },
    {
      "cell_type": "code",
      "execution_count": null,
      "metadata": {
        "colab": {
          "base_uri": "https://localhost:8080/"
        },
        "id": "OCkfanZRgKnf",
        "outputId": "fa3261af-8d2a-47a0-83c3-ca7e49426a39"
      },
      "outputs": [
        {
          "name": "stdout",
          "output_type": "stream",
          "text": [
            "WELCOME TO PYTHON WORLD\n",
            "WELCOME TO PYTHON WORLD\n",
            "2WELCOME TO PYTHON WORLD\n"
          ]
        }
      ],
      "source": [
        "x = \"welcome to python world\"\n",
        "y = \"Welcome TO PYThon WOrld\"\n",
        "z = \"2welcOME to python WOrLD\"\n",
        "print(x.upper())\n",
        "print(y.upper())\n",
        "print(z.upper())"
      ]
    },
    {
      "cell_type": "markdown",
      "metadata": {
        "id": "hBmKWShdgxkw"
      },
      "source": [
        "**zfill()**\n",
        "\n",
        "fills the string with zeros at beginng of the string\n",
        "\n",
        "zfill(value)   fills beginning with zeros until the given value including string length"
      ]
    },
    {
      "cell_type": "code",
      "execution_count": null,
      "metadata": {
        "colab": {
          "base_uri": "https://localhost:8080/"
        },
        "id": "_anEKUIlgx0i",
        "outputId": "00888dcd-c066-4807-df33-13da2589785f"
      },
      "outputs": [
        {
          "name": "stdout",
          "output_type": "stream",
          "text": [
            "000Welcome\n",
            "00000000000002python\n",
            "000'15.20'\n"
          ]
        }
      ],
      "source": [
        "x = \"Welcome\"\n",
        "y = \"2python\"\n",
        "z = \"'15.20'\"\n",
        "\n",
        "print(x.zfill(10))  # fills remianing 2 chracters with zeros before welcome. welcome is length of 7\n",
        "print(y.zfill(20))\n",
        "print(z.zfill(10))"
      ]
    },
    {
      "cell_type": "markdown",
      "metadata": {
        "id": "4359U1FGliQy"
      },
      "source": [
        "**Boolean()**\n",
        "\n",
        "Returns if given condition is True or False\n",
        "\n",
        "* Any string is True , except empty string\n",
        "* Any number is True except 0\n",
        "* Any list, tuple, dictionary, set are True if not empty\n",
        "* Any function or class or method that returns '0' is False   \n",
        "\n"
      ]
    },
    {
      "cell_type": "code",
      "execution_count": null,
      "metadata": {
        "colab": {
          "base_uri": "https://localhost:8080/"
        },
        "id": "zOCHHFm8mCBZ",
        "outputId": "e9244534-036f-47c3-836d-07b8dc5d29be"
      },
      "outputs": [
        {
          "name": "stdout",
          "output_type": "stream",
          "text": [
            "True\n",
            "True\n",
            "True\n",
            "True\n",
            "True\n",
            "False\n",
            "False\n",
            "True\n",
            "True\n",
            "False\n",
            "False\n",
            "True\n",
            "False\n",
            "True\n"
          ]
        }
      ],
      "source": [
        "# Example of Boolean\n",
        "\n",
        "a = \"\"\n",
        "b = \"Python\"\n",
        "c = []\n",
        "d = (\"Mangoes\")\n",
        "e = {'Fruit1':'Apple'}\n",
        "\n",
        "print(bool(123))\n",
        "print(bool(\"Python\"))\n",
        "print(bool([\"Apple\",\"Mangoes\"]))\n",
        "print(bool((\"Apple\",\"Mangoes\")))\n",
        "print(bool({'Fruit1':'Apple', 'Fruit2':'Mango'}))\n",
        "print(bool(a))\n",
        "print(bool(c))\n",
        "print(bool(d))\n",
        "print(bool(e))\n",
        "print(bool(False))\n",
        "print(bool(None))\n",
        "print(bool(True))\n",
        "print(bool(0))\n",
        "print(bool(1))"
      ]
    },
    {
      "cell_type": "markdown",
      "metadata": {
        "id": "naQvBPxEspyE"
      },
      "source": [
        "**Python Operators**\n",
        "\n",
        "+, -, *, / are basic operators addition, substration,multiplication, division\n",
        "\n",
        "%     modulus\n",
        "\n",
        "**   exponent\n",
        "\n",
        "//   floor division"
      ]
    },
    {
      "cell_type": "code",
      "execution_count": null,
      "metadata": {
        "colab": {
          "base_uri": "https://localhost:8080/"
        },
        "id": "lGk0NkStLuLA",
        "outputId": "f5c57053-21fb-48d9-bef5-da8d10bfb1cf"
      },
      "outputs": [
        {
          "name": "stdout",
          "output_type": "stream",
          "text": [
            "5\n"
          ]
        }
      ],
      "source": [
        "# Arithmetic Operators\n",
        "#Addition\n",
        "x = 3\n",
        "y =2\n",
        "print(x+y)"
      ]
    },
    {
      "cell_type": "code",
      "execution_count": null,
      "metadata": {
        "colab": {
          "base_uri": "https://localhost:8080/"
        },
        "id": "8VRA_RMTL6Ss",
        "outputId": "dc1d0341-3856-44b2-ba2c-915312362e60"
      },
      "outputs": [
        {
          "name": "stdout",
          "output_type": "stream",
          "text": [
            "1\n"
          ]
        }
      ],
      "source": [
        "#modulus\n",
        "x = 5\n",
        "print(x%2)  # reminder after dividing by 2"
      ]
    },
    {
      "cell_type": "code",
      "execution_count": null,
      "metadata": {
        "colab": {
          "base_uri": "https://localhost:8080/"
        },
        "id": "ZsODLfK19nZ4",
        "outputId": "99dfd12d-e989-4176-f058-9931c76dadf6"
      },
      "outputs": [
        {
          "name": "stdout",
          "output_type": "stream",
          "text": [
            "27\n",
            "1\n",
            "0.1111111111111111\n"
          ]
        }
      ],
      "source": [
        "# exponent\n",
        "x = 3\n",
        "print(x**3)  # 3  multiplies 3 times\n",
        "print(x**0)  # any non zero number raises by 0  becomes 1\n",
        "print(x**-2)  # 3 ** -2 = 1/3**2= 1/(3 x 3)= 1/9 = 0.111"
      ]
    },
    {
      "cell_type": "code",
      "execution_count": null,
      "metadata": {
        "colab": {
          "base_uri": "https://localhost:8080/"
        },
        "id": "1gbxlfAn9y8X",
        "outputId": "868ff166-03d5-4244-e2da-3362d1f8842d"
      },
      "outputs": [
        {
          "name": "stdout",
          "output_type": "stream",
          "text": [
            "1) 3\n",
            "2) 3.0\n",
            "3) 5.0\n",
            "0.0\n"
          ]
        }
      ],
      "source": [
        "# // floor division\n",
        "\n",
        "x = 10\n",
        "y   = 3\n",
        "\n",
        "print(\"1)\",x//y)\n",
        "\n",
        "x = 10.23\n",
        "y = 3.4\n",
        "print(\"2)\",x //y)  # 10.23/3.4 = 3.0023 . so nearest round to be 3\n",
        "\n",
        "x = 14\n",
        "y = 2.5\n",
        "print('3)',x //y)  # nearest round of division value\n",
        "\n",
        "x = 2.5\n",
        "y = 14.3\n",
        "\n",
        "print(x //y)  # nereast divsion rounded is 0"
      ]
    },
    {
      "cell_type": "markdown",
      "metadata": {
        "id": "_xwYA7BSDkcO"
      },
      "source": [
        "**Assignment Operators**\n",
        "\n"
      ]
    },
    {
      "cell_type": "code",
      "execution_count": null,
      "metadata": {
        "colab": {
          "base_uri": "https://localhost:8080/"
        },
        "id": "MWKROjFH-39A",
        "outputId": "3ea32eb3-39bb-4d12-8926-bf92f544dd2d"
      },
      "outputs": [
        {
          "output_type": "stream",
          "name": "stdout",
          "text": [
            "10\n",
            "-2\n",
            "30\n",
            "1.0\n",
            "0\n",
            "1\n",
            "3125\n"
          ]
        }
      ],
      "source": [
        "x = 5\n",
        "y = 3\n",
        "z = 6\n",
        "x += 5  # x= x+5\n",
        "print(x)\n",
        "y -=  5 # y= y-5\n",
        "print(y)\n",
        "z *= 5  # z = z*5\n",
        "print(z)\n",
        "\n",
        "x = 5\n",
        "x /=  5 # x = x/5\n",
        "print(x)\n",
        "\n",
        "x = 5\n",
        "x %= 5 # x = x%5  #reminder\n",
        "print(x)\n",
        "\n",
        "x =5\n",
        "x //= 5 # x = x //5  # nearest floor value\n",
        "print(x)\n",
        "\n",
        "x = 5\n",
        "x **= 5 # x = x **5\n",
        "print(x)"
      ]
    },
    {
      "cell_type": "markdown",
      "metadata": {
        "id": "Fbn3GAFAMrR7"
      },
      "source": [
        "#**Python Comparison Operators**\n",
        "\n",
        "==, !=, >=, <=, >, <\n"
      ]
    },
    {
      "cell_type": "code",
      "execution_count": null,
      "metadata": {
        "colab": {
          "base_uri": "https://localhost:8080/"
        },
        "id": "pZ6ZUN6VHJ5m",
        "outputId": "90902819-3e6b-476d-bd3d-f81f3327cea7"
      },
      "outputs": [
        {
          "name": "stdout",
          "output_type": "stream",
          "text": [
            "False\n",
            "False\n",
            "True\n",
            "False\n",
            "True\n"
          ]
        }
      ],
      "source": [
        "# == equaal to\n",
        "\n",
        "x = 5\n",
        "y = 6\n",
        "print(x == y)  # check if x equal to y True else False\n",
        "print(x > y)\n",
        "print( x < y)\n",
        "print( x >= y)\n",
        "print( x <= y)"
      ]
    },
    {
      "cell_type": "code",
      "execution_count": null,
      "metadata": {
        "colab": {
          "base_uri": "https://localhost:8080/"
        },
        "id": "GfRyYS0JM3rl",
        "outputId": "26a18bea-9a9d-48dd-90c8-890c364e2715"
      },
      "outputs": [
        {
          "name": "stdout",
          "output_type": "stream",
          "text": [
            "False\n",
            "True\n"
          ]
        }
      ],
      "source": [
        "# != Not Equal to\n",
        "\n",
        "x = 6\n",
        "y = 6\n",
        "z = 7\n",
        "\n",
        "print( x != y)\n",
        "print( x != z)"
      ]
    },
    {
      "cell_type": "markdown",
      "metadata": {
        "id": "PA34p475lZ4B"
      },
      "source": [
        "#**Logical Opertors**\n",
        "\n",
        "* and\n",
        "* or\n",
        "* not"
      ]
    },
    {
      "cell_type": "code",
      "execution_count": null,
      "metadata": {
        "colab": {
          "base_uri": "https://localhost:8080/"
        },
        "id": "irXMx2fblovR",
        "outputId": "9d5f99d6-2941-4966-82ea-c733c25ee2f8"
      },
      "outputs": [
        {
          "name": "stdout",
          "output_type": "stream",
          "text": [
            "True\n",
            "True\n",
            "True\n",
            "False\n"
          ]
        }
      ],
      "source": [
        "x =5\n",
        "y =6\n",
        "print(x == 5  and x <= 5)\n",
        "print(x ==5 or y ==5)\n",
        "print(not(x == y) )\n",
        "print(not(x == 5))"
      ]
    },
    {
      "cell_type": "code",
      "execution_count": null,
      "metadata": {
        "colab": {
          "base_uri": "https://localhost:8080/"
        },
        "id": "_A33sz7Olvad",
        "outputId": "f897059c-9a7f-460f-b9cd-025f9159e938"
      },
      "outputs": [
        {
          "name": "stdout",
          "output_type": "stream",
          "text": [
            "25\n"
          ]
        }
      ],
      "source": [
        "# not operator\n",
        "x =3\n",
        "y =47\n",
        "\n",
        "while(not(x==y)):\n",
        "    x += 1\n",
        "    y -= 1\n",
        "\n",
        "print(x)"
      ]
    },
    {
      "cell_type": "markdown",
      "metadata": {
        "id": "WIe_QOvMpeRu"
      },
      "source": [
        "#**Identity Operators**\n",
        "\n",
        "* is\n",
        "* is not"
      ]
    },
    {
      "cell_type": "code",
      "execution_count": null,
      "metadata": {
        "colab": {
          "base_uri": "https://localhost:8080/"
        },
        "id": "UbcfOvFKrja9",
        "outputId": "b975f9df-cd65-43a0-bfff-9bd7a72a621c"
      },
      "outputs": [
        {
          "name": "stdout",
          "output_type": "stream",
          "text": [
            "True\n",
            "True\n",
            "False\n",
            "False\n",
            "False\n"
          ]
        }
      ],
      "source": [
        "# Identity Operators\n",
        "\n",
        "x = 5\n",
        "y = 5\n",
        "a = [\"Python\",\"Java\"]\n",
        "b = [\"Python\",\"Java\"]\n",
        "z = [\"Python\",\"C++\"]\n",
        "check = [\"\",\"\"]\n",
        "check2  = [\" \",\" \"]\n",
        "c = (\"Python\",\"Java\")\n",
        "\n",
        "print( x is y)  # returns True if both are same\n",
        "print(a ==  b)  # both are same\n",
        "print(a ==  c)  # both are different data types\n",
        "print(a ==  z)  # Not same values even same data types\n",
        "print(check == check2) # same data type but check is empty string and check2 is whitespaces\n"
      ]
    },
    {
      "cell_type": "code",
      "execution_count": null,
      "metadata": {
        "colab": {
          "base_uri": "https://localhost:8080/"
        },
        "id": "u7vvStXNva0b",
        "outputId": "5921f33d-4283-4cfb-94e3-028958728703"
      },
      "outputs": [
        {
          "output_type": "stream",
          "name": "stdout",
          "text": [
            "True\n",
            "True\n",
            "True\n",
            "True\n",
            "True\n"
          ]
        }
      ],
      "source": [
        "# isnot\n",
        "\n",
        "x = 5\n",
        "y = 4\n",
        "a = [\"Python\",\"Java\"]\n",
        "b = [\"Python\",\"Java\"]\n",
        "z = [\"Python\", \"C++\"]\n",
        "check = [\"\",\"\"]\n",
        "check2  = [\" \",\" \"]\n",
        "c = (\"Python\",\"Java\")\n",
        "\n",
        "print(x is not y )  # x=5 is not y =4  return  True\n",
        "print( a is not b)  # a != b\n",
        "print( a is not z)  # a != b\n",
        "print( check is not check2) # check is empty list where as check2 is whitespaces\n",
        "print( a is not c) # a is list c is tuple.. different data types"
      ]
    },
    {
      "cell_type": "code",
      "execution_count": null,
      "metadata": {
        "colab": {
          "base_uri": "https://localhost:8080/"
        },
        "id": "wu7Fq7snyxLw",
        "outputId": "435db5db-9c27-465c-9451-df4844f44401"
      },
      "outputs": [
        {
          "name": "stdout",
          "output_type": "stream",
          "text": [
            "False\n",
            "False\n"
          ]
        }
      ],
      "source": [
        "x = 5\n",
        "y = 5\n",
        "print( x != y)\n",
        "print(x is not y)"
      ]
    },
    {
      "cell_type": "code",
      "execution_count": null,
      "metadata": {
        "colab": {
          "base_uri": "https://localhost:8080/"
        },
        "id": "8B49dSsP-GLy",
        "outputId": "ea7caa00-c079-47f6-ce8a-0635705cb0b8"
      },
      "outputs": [
        {
          "name": "stdout",
          "output_type": "stream",
          "text": [
            "False\n",
            "True\n"
          ]
        }
      ],
      "source": [
        "x = [\"mango\", \"orange\"]\n",
        "y = [\"mango\", \"orange\"]\n",
        "\n",
        "print( x != y)  # x and y same values.\n",
        "print(x is not y)# x and y are 2 different objects refers 2 different memory locations"
      ]
    },
    {
      "cell_type": "code",
      "execution_count": null,
      "metadata": {
        "colab": {
          "base_uri": "https://localhost:8080/"
        },
        "id": "Ae9vavFn--uZ",
        "outputId": "cb367149-9e4c-41a2-e18b-1f47009f61b0"
      },
      "outputs": [
        {
          "name": "stdout",
          "output_type": "stream",
          "text": [
            "False\n",
            "True\n",
            "True\n"
          ]
        }
      ],
      "source": [
        "x = [\"mango\", \"mango\"]\n",
        "y = [\"mango\", \"mango\"]\n",
        "print( x != y)\n",
        "print( x == y)\n",
        "print( x is not y)\n"
      ]
    },
    {
      "cell_type": "code",
      "execution_count": null,
      "metadata": {
        "colab": {
          "base_uri": "https://localhost:8080/"
        },
        "id": "ZOwdePlGBdIE",
        "outputId": "2805feba-c15a-4b99-a968-f460d12fce1d"
      },
      "outputs": [
        {
          "name": "stdout",
          "output_type": "stream",
          "text": [
            "True\n",
            "False\n",
            "True\n"
          ]
        }
      ],
      "source": [
        "x = [\"mango\", \"mango\"]\n",
        "y = [\"mango\", \"orange\"]\n",
        "print( x != y)\n",
        "print( x== y)\n",
        "print( x is not y)\n"
      ]
    },
    {
      "cell_type": "code",
      "execution_count": null,
      "metadata": {
        "colab": {
          "base_uri": "https://localhost:8080/"
        },
        "id": "OVGd7ju8_JDJ",
        "outputId": "a6fa9b9f-ad3d-47ab-de9e-5adb557bd71d"
      },
      "outputs": [
        {
          "name": "stdout",
          "output_type": "stream",
          "text": [
            "True\n",
            "True\n"
          ]
        }
      ],
      "source": [
        "x = [\"mango\", \"orange\"]\n",
        "y=  (\"mango\", 'orange')\n",
        "\n",
        "print( x!= y)  # different data types\n",
        "print(x is not y) # different objects\n"
      ]
    },
    {
      "cell_type": "markdown",
      "metadata": {
        "id": "CdrhaqMBAOQg"
      },
      "source": [
        "**Difference between \"is not\" and  \"!=\"**\n",
        "\n",
        "\n",
        "!=  .......checks the values are same or not\n",
        "\n",
        "is not  ...checks  object memory location..\n",
        "\n"
      ]
    },
    {
      "cell_type": "code",
      "execution_count": null,
      "metadata": {
        "colab": {
          "base_uri": "https://localhost:8080/"
        },
        "id": "bzIKf2lO_byR",
        "outputId": "e24a8edf-2fa7-4b63-a67a-c0939cf6a0d4"
      },
      "outputs": [
        {
          "output_type": "stream",
          "name": "stdout",
          "text": [
            "False\n",
            "True\n",
            "False\n",
            "False\n",
            "False\n",
            "True\n"
          ]
        }
      ],
      "source": [
        "x = [\"mango\", \"orange\"]\n",
        "y=  [\"mango\", 'orange']\n",
        "\n",
        "a = 5\n",
        "b = 5\n",
        "\n",
        "t1  = 257\n",
        "t2  = 257\n",
        "\n",
        "\"\"\"\n",
        "In this example x and y are lists with same elements.\n",
        "x != y checks values of list . if both are not same return true\n",
        "x is  not y    checks whether the object location of x and y are not in same memory location. if same memory location returns false else true\n",
        "a != b    check values of a and b are not same. if not same returns true\n",
        "a is not b    checks a and b are in same memory location  .  if in same meory location returns False. else true\n",
        "t1 != t2    returns false becasue t1=257 and t2=257\n",
        "t1 is not t2    return true because here in python upto 256  i.e. for smaller values treats same memroy location.\n",
        "for bigger value it stores different memory locations hence different objects\n",
        "\"\"\"\n",
        "\n",
        "\n",
        "\n",
        "print( x!= y)\n",
        "print(x is not y)\n",
        "print( a != b)\n",
        "print( a is not b)\n",
        "print( t1 != t2)\n",
        "print(t1 is not t2)\n",
        "\n"
      ]
    },
    {
      "cell_type": "markdown",
      "metadata": {
        "id": "LPyGdmlNkG0F"
      },
      "source": [
        "**Python Membership Operators**\n",
        "\n",
        "in     returns true if value exists\n",
        "\n",
        "not in  returns true if value not exists"
      ]
    },
    {
      "cell_type": "code",
      "execution_count": null,
      "metadata": {
        "colab": {
          "base_uri": "https://localhost:8080/"
        },
        "id": "tI0fup2qRyO0",
        "outputId": "2bc6aa3e-be55-4dc6-f119-8a932b3df9d0"
      },
      "outputs": [
        {
          "output_type": "stream",
          "name": "stdout",
          "text": [
            "True\n",
            "False\n",
            "True\n",
            "False\n",
            "True\n",
            "False\n",
            "True\n",
            "True\n"
          ]
        }
      ],
      "source": [
        "x = \"Welcome to python world\"\n",
        "print( \"to\" in x)\n",
        "print( \"to\" not in x)\n",
        "\n",
        "l1 = [\"Apples\", \"Mangoes\"]\n",
        "t1 = (\"Apples\", \"Banana\")\n",
        "\n",
        "print(\"Apples\" in l1)\n",
        "print(\"Apples\" not in l1)\n",
        "\n",
        "print(\"Banana\" in t1)\n",
        "print(\"Banana\" not in t1)\n",
        "\n",
        "print(\"apples\" not in l1)  # case sensitive\n",
        "print(\"apples\" not in t1) # case sensitive"
      ]
    },
    {
      "cell_type": "markdown",
      "metadata": {
        "id": "QKcWrO-er5UG"
      },
      "source": [
        "**Bit-Wise Operators**\n",
        "Binary values of each number\n",
        "\n",
        "Decimal numbers and their binary values:\n",
        "\n",
        " 0 = 0000000000000000\n",
        "\n",
        " 1 = 0000000000000001\n",
        "\n",
        " 2 = 0000000000000010\n",
        "\n",
        " 3 = 0000000000000011\n",
        "\n",
        " 4 = 0000000000000100\n",
        "\n",
        " 5 = 0000000000000101\n",
        "\n",
        " 6 = 0000000000000110\n",
        "\n",
        " 7 = 0000000000000111\n",
        "\n",
        " 8 = 0000000000001000\n",
        "\n",
        " 9 = 0000000000001001\n",
        "\n",
        "10 = 0000000000001010\n",
        "\n",
        "11 = 0000000000001011\n",
        "\n",
        "12 = 0000000000001100"
      ]
    },
    {
      "cell_type": "code",
      "execution_count": null,
      "metadata": {
        "colab": {
          "base_uri": "https://localhost:8080/"
        },
        "id": "gOoeWdOPlE5I",
        "outputId": "1cc1b6e3-1f1a-4e58-8bb4-14f48aa7d757"
      },
      "outputs": [
        {
          "output_type": "stream",
          "name": "stdout",
          "text": [
            "0\n"
          ]
        }
      ],
      "source": [
        "# AND &\n",
        "x = 2\n",
        "y = 4\n",
        "\n",
        "print(x & y)\n",
        "\n",
        "#x  = 0010    y = 0100   x+y  = 0010 + 0100=    0000    both bits must be 1 then 1 if either is 1 is 0"
      ]
    },
    {
      "cell_type": "code",
      "execution_count": null,
      "metadata": {
        "colab": {
          "base_uri": "https://localhost:8080/"
        },
        "id": "Rls-nGed0QAA",
        "outputId": "deabbb1a-e72f-475f-96ea-c2cf3e0cffca"
      },
      "outputs": [
        {
          "name": "stdout",
          "output_type": "stream",
          "text": [
            "6\n"
          ]
        }
      ],
      "source": [
        "# OR |\n",
        "x = 2\n",
        "y = 4\n",
        "print( x| y)"
      ]
    },
    {
      "cell_type": "code",
      "execution_count": null,
      "metadata": {
        "colab": {
          "base_uri": "https://localhost:8080/"
        },
        "id": "p2zgPoh-0qFP",
        "outputId": "7291d0e5-30a6-4b3f-f475-80d6a13dcdd8"
      },
      "outputs": [
        {
          "name": "stdout",
          "output_type": "stream",
          "text": [
            "6\n"
          ]
        }
      ],
      "source": [
        "# ^ XOR\n",
        "\n",
        "x = 2\n",
        "y = 4\n",
        "print(x^y)   # if either of bit is 1 then only 1. else both are 1 and both are 0 then 0"
      ]
    },
    {
      "cell_type": "code",
      "execution_count": null,
      "metadata": {
        "colab": {
          "base_uri": "https://localhost:8080/"
        },
        "id": "OCaXUCzB1joT",
        "outputId": "4d95c462-90d8-46b0-8081-7ab937282780"
      },
      "outputs": [
        {
          "output_type": "stream",
          "name": "stdout",
          "text": [
            "-3\n",
            "-5\n"
          ]
        }
      ],
      "source": [
        "# ~  INVERT\n",
        "\n",
        "x = 2  # 0000000000000010\n",
        "y = 4  # 0000000000000110\n",
        "print(~x)\n",
        "print(~ y)   # here 1 inverts to 0  ; 0 inverts to 1     ;  ~y= 1111111111111001"
      ]
    },
    {
      "cell_type": "code",
      "execution_count": null,
      "metadata": {
        "colab": {
          "base_uri": "https://localhost:8080/"
        },
        "id": "xW6UfXTy2cKk",
        "outputId": "36f560ac-0022-495f-c4cf-9ba2201a12b5"
      },
      "outputs": [
        {
          "name": "stdout",
          "output_type": "stream",
          "text": [
            "32\n"
          ]
        }
      ],
      "source": [
        "# zero fills from left   shift <<\n",
        "\n",
        "x = 2\n",
        "y = 4\n",
        "print(x << y)   # x =  0010   x zero fills left of 4 zeros..   x= 00100000"
      ]
    },
    {
      "cell_type": "code",
      "execution_count": null,
      "metadata": {
        "colab": {
          "base_uri": "https://localhost:8080/"
        },
        "id": "8otnwVaP8Wuo",
        "outputId": "2dfece55-101f-48ca-f95c-24d4cbbab12d"
      },
      "outputs": [
        {
          "name": "stdout",
          "output_type": "stream",
          "text": [
            "0b11000\n",
            "0b10\n",
            "6\n",
            "0b110\n"
          ]
        }
      ],
      "source": [
        "# right shift each bit     >>\n",
        "x = 24\n",
        "y=  2\n",
        "print( bin(x))  # binary of x 011000\n",
        "print(bin(y))   # binary of y 000010\n",
        "\n",
        "print( x >> y) # moves each bit of x  by y times right. x  = 011000  shifts by 2 tmes each bit. 000110\n",
        "print(bin(x >> y)) # 0110= 6"
      ]
    },
    {
      "cell_type": "markdown",
      "metadata": {
        "id": "AS2fAWT-ApEp"
      },
      "source": [
        "#**Operator Precedence***\n",
        "\n",
        "Operators priority\n",
        "\n",
        ". ()\tParentheses\n",
        "\n",
        ". **\tExponentiation\n",
        "\n",
        ". +x  -x  ~x\t  Unary plus, unary minus, and bitwise NOT\n",
        "\n",
        ". *  /  //  %\t  Multiplication, division, floor division, and modulus\n",
        "\n",
        ". +  -\t    Addition and subtraction\n",
        "\n",
        ". <<     >>\t  Bitwise left and right shifts\n",
        "\n",
        ". &\t  Bitwise AND\n",
        "\n",
        ". ^\t  Bitwise XOR\n",
        "\n",
        ". |\t  Bitwise OR\n",
        "\n",
        ". ==  !=  >  >=  <  <=  is  is not  in  not in \tComparisons, identity, and\n",
        "\n",
        "**Membership operators**\n",
        "\n",
        ". not\tLogical NOT\n",
        "\n",
        ". and\tAND\n",
        "\n",
        ". or\tOR\n"
      ]
    },
    {
      "cell_type": "code",
      "execution_count": null,
      "metadata": {
        "colab": {
          "base_uri": "https://localhost:8080/"
        },
        "id": "gA--y2K69sc_",
        "outputId": "b2c7b7b7-68a5-415c-ac58-bb65742f06f9"
      },
      "outputs": [
        {
          "name": "stdout",
          "output_type": "stream",
          "text": [
            "6\n",
            "6\n"
          ]
        }
      ],
      "source": [
        "print(2+3+9-8)\n",
        "print((2+3)+(9-8))"
      ]
    },
    {
      "cell_type": "markdown",
      "metadata": {
        "id": "ottEDVaZC9Ik"
      },
      "source": [
        "#**Python Lists**\n",
        "\n",
        "* Lists are one of the data types in python\n",
        "* List are used to store multiple data types\n",
        "* List are symboled by []\n",
        "* data stored in lists are ordered, changeable\n",
        "* list can store dupicate values\n",
        "* index starts from [0]  and last index is [end-1]\n",
        "* Items are ordered means if we add the item it adds to end of the list\n",
        "\n",
        "list= [str,int,float, boolean]"
      ]
    },
    {
      "cell_type": "code",
      "execution_count": null,
      "metadata": {
        "colab": {
          "base_uri": "https://localhost:8080/"
        },
        "id": "9EBMG2xBCng3",
        "outputId": "68cecad3-4993-436a-c102-44ae2f1e893f"
      },
      "outputs": [
        {
          "name": "stdout",
          "output_type": "stream",
          "text": [
            "['fruits', 'vegetables', 'chocolates'] [1, 2, 3, 4] [True, True, False, False]\n",
            "\n",
            "<class 'list'>\n",
            "<class 'list'>\n",
            "<class 'list'>\n"
          ]
        }
      ],
      "source": [
        "#Lists\n",
        "\n",
        "list1 = [\"fruits\",'vegetables',\"chocolates\"]\n",
        "list2 = [1,2,3,4]\n",
        "list3 = [True, True, False, False]\n",
        "\n",
        "print(list1,list2,list3)\n",
        "len(list1)\n",
        "len(list2)\n",
        "len(list3)\n",
        "print()\n",
        "print(type(list1))\n",
        "print(type(list2))\n",
        "print(type(list3))"
      ]
    },
    {
      "cell_type": "markdown",
      "metadata": {
        "id": "MrJzNgQZVHLF"
      },
      "source": [
        "**list()  constructor used in python to convert any data type into list**"
      ]
    },
    {
      "cell_type": "markdown",
      "metadata": {
        "id": "FnrCBk3SVbJ2"
      },
      "source": []
    },
    {
      "cell_type": "code",
      "execution_count": null,
      "metadata": {
        "colab": {
          "base_uri": "https://localhost:8080/"
        },
        "id": "jvL4Qks2Vbb8",
        "outputId": "10c8191c-a57f-4b5e-e6cc-4fcd4936e1d2"
      },
      "outputs": [
        {
          "name": "stdout",
          "output_type": "stream",
          "text": [
            "['Apple', 1.2, True]\n"
          ]
        }
      ],
      "source": [
        "tp = (\"Apple\", 1.2, True)\n",
        "New = list(tp)\n",
        "\n",
        "print(New)"
      ]
    },
    {
      "cell_type": "code",
      "execution_count": null,
      "metadata": {
        "colab": {
          "base_uri": "https://localhost:8080/"
        },
        "id": "SuLym64RmnzT",
        "outputId": "045e9269-411f-4df8-8856-88f140f7e068"
      },
      "outputs": [
        {
          "name": "stdout",
          "output_type": "stream",
          "text": [
            "['apple', 'banana', 'cherry']\n"
          ]
        }
      ],
      "source": [
        "thislist = list((\"apple\", \"banana\", \"cherry\"))\n",
        "print(thislist)"
      ]
    },
    {
      "cell_type": "code",
      "execution_count": null,
      "metadata": {
        "colab": {
          "base_uri": "https://localhost:8080/"
        },
        "id": "vbChM7FTLIWw",
        "outputId": "3303856c-ea74-4b73-f306-1cfb78e57f46"
      },
      "outputs": [
        {
          "name": "stdout",
          "output_type": "stream",
          "text": [
            "[]\n",
            "[10, 20, 30]\n"
          ]
        }
      ],
      "source": [
        "# Creating an empty list\n",
        "empty_list = list()\n",
        "\n",
        "# Converting a tuple to a list\n",
        "my_tuple = (10, 20, 30)\n",
        "my_list = list(my_tuple)\n",
        "\n",
        "print(empty_list)  # Output: []\n",
        "print(my_list)     # Output: [10, 20, 30]"
      ]
    },
    {
      "cell_type": "code",
      "execution_count": null,
      "metadata": {
        "colab": {
          "base_uri": "https://localhost:8080/"
        },
        "id": "fJhwBRqK05_q",
        "outputId": "9b0a6b61-58ce-4cd7-b78c-8c9982405721"
      },
      "outputs": [
        {
          "name": "stdout",
          "output_type": "stream",
          "text": [
            "<class 'str'>\n",
            "24 \n",
            "\n",
            "\n",
            "<class 'list'>\n",
            "['2', '4']\n"
          ]
        }
      ],
      "source": [
        "list1  = ('24')\n",
        "print(type(list1))\n",
        "print(list1,\"\\n\\n\")\n",
        "\n",
        "list2 = list(list1) #converts list1 into list2 with each character  24 as [2,4]\n",
        "print(type(list2))\n",
        "print(list2)"
      ]
    },
    {
      "cell_type": "code",
      "execution_count": null,
      "metadata": {
        "colab": {
          "base_uri": "https://localhost:8080/"
        },
        "id": "R9KMia0zx90d",
        "outputId": "bf7f67e9-77ea-4f81-9724-8df76fd51c71"
      },
      "outputs": [
        {
          "name": "stdout",
          "output_type": "stream",
          "text": [
            "enter Value:::255\n",
            "['255']\n",
            "<class 'list'>\n"
          ]
        }
      ],
      "source": [
        "\n",
        "list1 = [input(\"enter Value:::\")]\n",
        "list2 = list(list1)\n",
        "\n",
        "print(list2)\n",
        "print(type(list2))\n"
      ]
    },
    {
      "cell_type": "markdown",
      "metadata": {
        "id": "AUePkmrP_6A4"
      },
      "source": [
        "#***Ordered and Un-Ordered***\n",
        "\n",
        "Lists are ordered,\n",
        "sets and dictonaries are unordered. where as in the 3.7 python version dictionaries are also ordered\n",
        "\n",
        "ORDERED means we can access the elements by their index position, they are not changeable. if we add any new item adds to end of the list\n",
        "\n",
        "UNORDERED means items are not fixed position so that we can not access the item by its index postion\n",
        "\n",
        "In dictionaries we can access by its by its key value...\n",
        "\n",
        "**Indexing**\n",
        "\n",
        "5 4 3 2 1 0 -5 -4 -3 -2 -1"
      ]
    },
    {
      "cell_type": "code",
      "execution_count": null,
      "metadata": {
        "colab": {
          "base_uri": "https://localhost:8080/"
        },
        "id": "CaCnDSbj1Z6D",
        "outputId": "ccffac78-f5f0-4361-b95f-a4cc400a5d0c"
      },
      "outputs": [
        {
          "name": "stdout",
          "output_type": "stream",
          "text": [
            "Apples Mangoes 22\n"
          ]
        }
      ],
      "source": [
        "list1  = [\"Apples\",\"Bananas\",\"Mangoes\",2,22]\n",
        "\n",
        "print(list1[0], list1[2], list1[-1])"
      ]
    },
    {
      "cell_type": "code",
      "execution_count": null,
      "metadata": {
        "colab": {
          "base_uri": "https://localhost:8080/"
        },
        "id": "gW2JOUcGBhJQ",
        "outputId": "467f2dbc-5a42-42f4-e1fb-ebe1b4649f07"
      },
      "outputs": [
        {
          "name": "stdout",
          "output_type": "stream",
          "text": [
            "['Bananas', 'Mangoes', 2]\n"
          ]
        }
      ],
      "source": [
        "print(list1[1:4]) # prints [1],[2],[3].  Will not print [4]."
      ]
    },
    {
      "cell_type": "markdown",
      "metadata": {
        "id": "kz89WSOcCQxe"
      },
      "source": [
        "**in python indexing works from i to [i-1]**\n",
        "\n",
        "**index[i: (i-1)]**"
      ]
    },
    {
      "cell_type": "code",
      "execution_count": null,
      "metadata": {
        "colab": {
          "base_uri": "https://localhost:8080/"
        },
        "id": "e9Ip195wB2Q7",
        "outputId": "3e118867-e38e-4a89-f5ec-6ed8c8d84fd2"
      },
      "outputs": [
        {
          "name": "stdout",
          "output_type": "stream",
          "text": [
            "['Apples', 'Bananas', 'Mangoes', 2]\n",
            "['Apples', 'Bananas', 'Mangoes', 2, True, 22]\n",
            "['Mangoes', 2, True]\n",
            "['Mangoes']\n",
            "[]\n"
          ]
        }
      ],
      "source": [
        "list  = [\"Apples\",\"Bananas\",\"Mangoes\",2,True,22]\n",
        "print(list[:4]) # prints [0] to [4-1]\n",
        "print(list[0:])  # prints[0]  to end\n",
        "print(list[-4:-1])  # prints [-4] to [(index-1)=(-1-1)=[-2]]\n",
        "print(list[-4:-3])\n",
        "print(list[-4:-4]) # empty set"
      ]
    },
    {
      "cell_type": "code",
      "execution_count": null,
      "metadata": {
        "colab": {
          "base_uri": "https://localhost:8080/",
          "height": 279
        },
        "id": "OYOFAPcWC8GX",
        "outputId": "a0bcedce-0c40-4600-f585-8ea92e26cf87"
      },
      "outputs": [
        {
          "output_type": "stream",
          "name": "stdout",
          "text": [
            "True\n",
            "False\n",
            "True\n",
            "True\n"
          ]
        },
        {
          "output_type": "error",
          "ename": "IndexError",
          "evalue": "list index out of range",
          "traceback": [
            "\u001b[0;31m---------------------------------------------------------------------------\u001b[0m",
            "\u001b[0;31mIndexError\u001b[0m                                Traceback (most recent call last)",
            "\u001b[0;32m<ipython-input-11-1ed2913b5036>\u001b[0m in \u001b[0;36m<cell line: 7>\u001b[0;34m()\u001b[0m\n\u001b[1;32m      5\u001b[0m \u001b[0mprint\u001b[0m\u001b[0;34m(\u001b[0m\u001b[0;34m[\u001b[0m\u001b[0;36m22\u001b[0m\u001b[0;34m]\u001b[0m \u001b[0;32min\u001b[0m \u001b[0mlist\u001b[0m\u001b[0;34m)\u001b[0m \u001b[0;31m# here in check sublst [22] present in the list\u001b[0m\u001b[0;34m\u001b[0m\u001b[0;34m\u001b[0m\u001b[0m\n\u001b[1;32m      6\u001b[0m \u001b[0mprint\u001b[0m\u001b[0;34m(\u001b[0m\u001b[0mlist\u001b[0m\u001b[0;34m[\u001b[0m\u001b[0;36m2\u001b[0m\u001b[0;34m]\u001b[0m \u001b[0;32min\u001b[0m \u001b[0mlist\u001b[0m\u001b[0;34m)\u001b[0m \u001b[0;31m# in checks whether in list at index [2] presents\u001b[0m\u001b[0;34m\u001b[0m\u001b[0;34m\u001b[0m\u001b[0m\n\u001b[0;32m----> 7\u001b[0;31m \u001b[0mprint\u001b[0m\u001b[0;34m(\u001b[0m\u001b[0mlist\u001b[0m\u001b[0;34m[\u001b[0m\u001b[0;36m7\u001b[0m\u001b[0;34m]\u001b[0m \u001b[0;32min\u001b[0m \u001b[0mlist\u001b[0m\u001b[0;34m)\u001b[0m\u001b[0;31m# throws error because index[7] not available\u001b[0m\u001b[0;34m\u001b[0m\u001b[0;34m\u001b[0m\u001b[0m\n\u001b[0m",
            "\u001b[0;31mIndexError\u001b[0m: list index out of range"
          ]
        }
      ],
      "source": [
        "# Checks if item exists\n",
        "list  = [\"Apples\",\"Bananas\",\"Mangoes\",2,True,[22]]\n",
        "print(2 in list)  # in checks the value 2 present in list.\n",
        "print([2] in list) # here  \"in\" checks whther the sub-list [2] presents\n",
        "print([22] in list) # here in check sublst [22] present in the list\n",
        "print(list[2] in list) # in checks whether in list at index [2] presents\n",
        "print(list[7] in list)# throws error because index[7] not available"
      ]
    },
    {
      "cell_type": "code",
      "execution_count": null,
      "metadata": {
        "colab": {
          "base_uri": "https://localhost:8080/"
        },
        "id": "ca8hI6pPJgzt",
        "outputId": "c9f0f2f1-1811-4699-8318-a8a2a708979c"
      },
      "outputs": [
        {
          "name": "stdout",
          "output_type": "stream",
          "text": [
            "['Apples', 'Jamun', 'Mangoes', 2, True, 22]\n",
            "['Apples', 'Jamun', 'Mangoes', 'Tomato', 'Potato', 22]\n",
            "['Apples', 'Jamun', 'Mangoes', 'Orange', 'cherry', 'Potato', 22]\n"
          ]
        }
      ],
      "source": [
        "# change item in a list\n",
        "list  = [\"Apples\",\"Bananas\",\"Mangoes\",2,True,22]\n",
        "\n",
        "list[1] = \"Jamun\"  # replaces Bananas with Jamun\n",
        "print(list)\n",
        "\n",
        "list[3:5] = [\"Tomato\",\"Potato\"] # replace index[3] and index[5-1=4] with Tomato and Potato\n",
        "print(list)\n",
        "\n",
        "list[3:4] = [\"Orange\",\"cherry\"]  # here we hae given index range [3] to [4-1=3].\n",
        "\n",
        "\n",
        "\"\"\"so here it replace Tomato and adds orange and cherry total 2 items at index[3]\n",
        "So python interpreter inserted 2 items at gven index position\"\"\"\n",
        "\n",
        "print(list)"
      ]
    },
    {
      "cell_type": "code",
      "execution_count": null,
      "metadata": {
        "colab": {
          "base_uri": "https://localhost:8080/"
        },
        "id": "DQMZQJnk2uEj",
        "outputId": "e0d595c0-6067-4200-d53b-acf86e32d4f0"
      },
      "outputs": [
        {
          "name": "stdout",
          "output_type": "stream",
          "text": [
            "['Apples', 'Bananas', 'Mangoes', 'Orange', 'cherry']\n"
          ]
        }
      ],
      "source": [
        "my_list  = [\"Apples\",\"Bananas\",\"Mangoes\",2,True,22]\n",
        "my_list[3:] = [\"Orange\",\"cherry\"]\n",
        "print(my_list)"
      ]
    },
    {
      "cell_type": "code",
      "execution_count": null,
      "metadata": {
        "colab": {
          "base_uri": "https://localhost:8080/"
        },
        "id": "G-qnnb8_ML4e",
        "outputId": "c9b7b447-71f7-453a-9a4c-2f397af2f6b3"
      },
      "outputs": [
        {
          "output_type": "stream",
          "name": "stdout",
          "text": [
            "['Apples', 'Blackberry', 2, True, 22]\n"
          ]
        }
      ],
      "source": [
        "# Remove multiple items\n",
        "list = [\"Apples\",\"Bananas\",\"Mangoes\",2,True,22]\n",
        "list[1:3] = [\"Blackberry\"]\n",
        "print(list)"
      ]
    },
    {
      "cell_type": "code",
      "execution_count": null,
      "metadata": {
        "colab": {
          "base_uri": "https://localhost:8080/"
        },
        "id": "2TcjLtkOPH-a",
        "outputId": "275d3db2-b212-4edc-d8af-cd441e215c94"
      },
      "outputs": [
        {
          "output_type": "stream",
          "name": "stdout",
          "text": [
            "[2, True]\n",
            "[]\n"
          ]
        }
      ],
      "source": [
        "#Negative Indexing\n",
        "data_list  = [\"Apples\",\"Bananas\",\"Mangoes\",2,True,22]\n",
        "\n",
        "print(data_list[-3:-1])\n",
        "print(data_list[-1:-3])\n"
      ]
    },
    {
      "cell_type": "code",
      "execution_count": null,
      "metadata": {
        "id": "iUQ0WI7mxR8t"
      },
      "outputs": [],
      "source": [
        "#Add items\n",
        "#Append\n"
      ]
    },
    {
      "cell_type": "markdown",
      "metadata": {
        "id": "eTsJv3dtSSrm"
      },
      "source": [
        "**Append()  to append items in list**"
      ]
    },
    {
      "cell_type": "code",
      "execution_count": null,
      "metadata": {
        "colab": {
          "base_uri": "https://localhost:8080/"
        },
        "id": "u68fJ-3oSZLt",
        "outputId": "b3a7718e-28e5-4efd-fc8b-0e0e6b37d041"
      },
      "outputs": [
        {
          "name": "stdout",
          "output_type": "stream",
          "text": [
            "['Apples', 'Bananas', 'Mangoes', 2, True, 22, 'Orange']\n"
          ]
        }
      ],
      "source": [
        "data_list  = [\"Apples\",\"Bananas\",\"Mangoes\",2,True,22]\n",
        "data_list.append(\"Orange\")    # Adds at the end fthe list\n",
        "print(data_list)"
      ]
    },
    {
      "cell_type": "markdown",
      "metadata": {
        "id": "Szclj5tRZxUC"
      },
      "source": [
        "**insert()**\n",
        "Inserts at given index"
      ]
    },
    {
      "cell_type": "code",
      "execution_count": null,
      "metadata": {
        "colab": {
          "base_uri": "https://localhost:8080/"
        },
        "id": "jYX4k2oqZqWh",
        "outputId": "b37cae9c-27de-41c2-aa60-9b021a1f414d"
      },
      "outputs": [
        {
          "name": "stdout",
          "output_type": "stream",
          "text": [
            "['Apples', 'Cherrys', 'Bananas', 'Mangoes', 2, True, 22]\n",
            "Bananas\n"
          ]
        }
      ],
      "source": [
        "data_list  = [\"Apples\",\"Bananas\",\"Mangoes\",2,True,22]\n",
        "data_list.insert(1,\"Cherrys\")  #inserts at 2nd position i.e index[1], items at index[1] will  be pushed to [2]\n",
        "print(data_list)\n",
        "print(data_list[2])"
      ]
    },
    {
      "cell_type": "markdown",
      "metadata": {
        "id": "q1Senrt-aeX3"
      },
      "source": [
        "**extend()**\n",
        "\n",
        "append items from one list to another list\n",
        "\n"
      ]
    },
    {
      "cell_type": "code",
      "execution_count": null,
      "metadata": {
        "colab": {
          "base_uri": "https://localhost:8080/"
        },
        "id": "fmxABFyaj7kW",
        "outputId": "925a4862-b5d0-48ce-a12e-e7fc01fa701e"
      },
      "outputs": [
        {
          "output_type": "stream",
          "name": "stdout",
          "text": [
            "['Apples', 'Bananas', 2, True, 22, 'city', 'state', 58, True, 24]\n"
          ]
        }
      ],
      "source": [
        "# extend()\n",
        "data_list1  = [\"Apples\",\"Bananas\",2,True,22]\n",
        "data_list2  = [\"city\",\"state\",58,True,24]\n",
        "\n",
        "data_list1.extend(data_list2)  # Output will be a single list\n",
        "print(data_list1)"
      ]
    },
    {
      "cell_type": "code",
      "execution_count": null,
      "metadata": {
        "colab": {
          "base_uri": "https://localhost:8080/"
        },
        "id": "ozOUUOpkkByX",
        "outputId": "fc8e86b7-8070-4c95-cf23-f83d0a997a66"
      },
      "outputs": [
        {
          "name": "stdout",
          "output_type": "stream",
          "text": [
            "['Apples', 'Bananas', 2, True, 22, 'city', 'state', 58, True, 24]\n",
            "['Apples', 'Bananas', 2, True, 22, 'city', 'state', 58, True, 24, 'city', 'state']\n"
          ]
        }
      ],
      "source": [
        "# extend()\n",
        "# using extend() we can add tuple(), dictionary,lists\n",
        "data_list  = [\"Apples\",\"Bananas\",2,True,22]\n",
        "tup2  = (\"city\",\"state\",58,True,24)\n",
        "dic3    =   {\"city\": \"bangalore\", 'state': 'Karnataka'}\n",
        "\n",
        "data_list.extend(tup2)\n",
        "print(data_list)\n",
        "\n",
        "data_list.extend(dic3)\n",
        "print(data_list)\n"
      ]
    },
    {
      "cell_type": "code",
      "source": [
        "#Difference between append() and extend()\n",
        "\n",
        "data_list1  = [\"Apples\",\"Bananas\",2,True,22]\n",
        "data_list2  = [\"city\",\"state\",58,True,24]\n",
        "data_list3=[\"India\",\"America\"]\n",
        "print(data_list1.append(data_list2))   #Adds as a list to data_list1\n",
        "print(data_list3.extend(data_list2))  #Adds as an element to data_list3 hence its a single list\n",
        "\n",
        "print(data_list1)\n",
        "print(data_list3)\n",
        "\n",
        "print(data_list1[5]) #prints 5th index as list\n",
        "print(data_list3[5])  #prints 5th index as an element"
      ],
      "metadata": {
        "colab": {
          "base_uri": "https://localhost:8080/"
        },
        "id": "HBjwtK_-qi-J",
        "outputId": "c958ebf6-3166-4624-e99d-e09182ecf8c7"
      },
      "execution_count": null,
      "outputs": [
        {
          "output_type": "stream",
          "name": "stdout",
          "text": [
            "None\n",
            "None\n",
            "['Apples', 'Bananas', 2, True, 22, ['city', 'state', 58, True, 24]]\n",
            "['India', 'America', 'city', 'state', 58, True, 24]\n",
            "['city', 'state', 58, True, 24]\n",
            "True\n"
          ]
        }
      ]
    },
    {
      "cell_type": "markdown",
      "metadata": {
        "id": "uYjxQKyuon3c"
      },
      "source": [
        "**remove()**\n",
        "\n",
        "removes specfied item"
      ]
    },
    {
      "cell_type": "code",
      "execution_count": null,
      "metadata": {
        "colab": {
          "base_uri": "https://localhost:8080/"
        },
        "id": "bBEh3ytilFDt",
        "outputId": "f81ed210-d701-4660-c40d-7951a6208376"
      },
      "outputs": [
        {
          "name": "stdout",
          "output_type": "stream",
          "text": [
            "['Apples', True, 22]\n"
          ]
        }
      ],
      "source": [
        "data_list1  = [\"Apples\",\"Bananas\",2,True,22]\n",
        "data_list1.remove(\"Bananas\")  # removes name specified\n",
        "data_list1.remove(2)\n",
        "print(data_list1)"
      ]
    },
    {
      "cell_type": "code",
      "execution_count": null,
      "metadata": {
        "colab": {
          "base_uri": "https://localhost:8080/"
        },
        "id": "LyK8hGYNjV_C",
        "outputId": "81b05985-decb-4db2-8e45-09695863360a"
      },
      "outputs": [
        {
          "name": "stdout",
          "output_type": "stream",
          "text": [
            "['Apples', 'Bananas', 2, True]\n",
            "True\n",
            "<built-in method pop of list object at 0x7b9bb94fe4c0>\n"
          ]
        }
      ],
      "source": [
        "#pop()\n",
        "#removes element at particular index\n",
        "\n",
        "data_list1  = [\"Apples\",\"Bananas\",2,True,22]\n",
        "data_list1.pop()  # by default removes last element\n",
        "\n",
        "print(data_list1)\n",
        "print(data_list1.pop()) # returns boolean value\n",
        "print(data_list1.pop) # returns memory location"
      ]
    },
    {
      "cell_type": "code",
      "execution_count": null,
      "metadata": {
        "colab": {
          "base_uri": "https://localhost:8080/"
        },
        "id": "evAVSmTQjixp",
        "outputId": "0ee2563b-7005-4afd-ba74-672650e2028b"
      },
      "outputs": [
        {
          "name": "stdout",
          "output_type": "stream",
          "text": [
            "['Apples', 'Bananas', True, 22]\n",
            "2\n",
            "True\n"
          ]
        }
      ],
      "source": [
        "data_list1  = [\"Apples\",\"Bananas\",2,True,22]\n",
        "popped=data_list1.pop(2) # removes 3rd element  in index\n",
        "print(data_list1)  # returns list after popped item\n",
        "print(popped)   # prints popped value\n",
        "print(data_list1.pop(2)) # returns successfully removed"
      ]
    },
    {
      "cell_type": "code",
      "execution_count": null,
      "metadata": {
        "colab": {
          "base_uri": "https://localhost:8080/"
        },
        "id": "U4GyEgnmkpfn",
        "outputId": "508399e9-f85c-4879-c1ac-bea9a460e4ec"
      },
      "outputs": [
        {
          "name": "stdout",
          "output_type": "stream",
          "text": [
            "['Apples', 'Bananas', True, 22]\n"
          ]
        }
      ],
      "source": [
        "#del()  to delete the item in the list\n",
        "\n",
        "data_list1  = [\"Apples\",\"Bananas\",2,True,22]\n",
        "del data_list1[2] # delete the index at 2 i.e 3rd element in the list\n",
        "print(data_list1)"
      ]
    },
    {
      "cell_type": "code",
      "execution_count": null,
      "metadata": {
        "colab": {
          "base_uri": "https://localhost:8080/",
          "height": 140
        },
        "id": "3s5rKyfPz_Ws",
        "outputId": "32f2562a-2396-4bd4-9be6-26f00b092e88"
      },
      "outputs": [
        {
          "ename": "SyntaxError",
          "evalue": "ignored",
          "output_type": "error",
          "traceback": [
            "\u001b[0;36m  File \u001b[0;32m\"<ipython-input-36-37db4f16cc68>\"\u001b[0;36m, line \u001b[0;32m4\u001b[0m\n\u001b[0;31m    value=del data_list1[2] # delete the index at 2 i.e 3rd element in the list\u001b[0m\n\u001b[0m          ^\u001b[0m\n\u001b[0;31mSyntaxError\u001b[0m\u001b[0;31m:\u001b[0m invalid syntax\n"
          ]
        }
      ],
      "source": [
        "#del()  to delete the item in the list\n",
        "\n",
        "data_list1  = [\"Apples\",\"Bananas\",2,True,22]\n",
        "value=del data_list1[2] # throws error because del will not store deleted value to assign\n",
        "print(value)"
      ]
    },
    {
      "cell_type": "code",
      "execution_count": null,
      "metadata": {
        "colab": {
          "base_uri": "https://localhost:8080/",
          "height": 227
        },
        "id": "7tzusYfynY6L",
        "outputId": "ef6f7c3d-d9c7-4d0c-fc3b-bcd110929050"
      },
      "outputs": [
        {
          "name": "stdout",
          "output_type": "stream",
          "text": [
            "['Apples', 'Bananas', 2, True, 22]\n"
          ]
        },
        {
          "ename": "NameError",
          "evalue": "ignored",
          "output_type": "error",
          "traceback": [
            "\u001b[0;31m---------------------------------------------------------------------------\u001b[0m",
            "\u001b[0;31mNameError\u001b[0m                                 Traceback (most recent call last)",
            "\u001b[0;32m<ipython-input-16-4e23b2be69d8>\u001b[0m in \u001b[0;36m<cell line: 5>\u001b[0;34m()\u001b[0m\n\u001b[1;32m      3\u001b[0m \u001b[0mprint\u001b[0m\u001b[0;34m(\u001b[0m\u001b[0mdata_list1\u001b[0m\u001b[0;34m)\u001b[0m\u001b[0;34m\u001b[0m\u001b[0;34m\u001b[0m\u001b[0m\n\u001b[1;32m      4\u001b[0m \u001b[0;32mdel\u001b[0m \u001b[0mdata_list1\u001b[0m      \u001b[0;31m# deletes entire list\u001b[0m\u001b[0;34m\u001b[0m\u001b[0;34m\u001b[0m\u001b[0m\n\u001b[0;32m----> 5\u001b[0;31m \u001b[0mprint\u001b[0m\u001b[0;34m(\u001b[0m\u001b[0mdata_list1\u001b[0m\u001b[0;34m)\u001b[0m\u001b[0;34m\u001b[0m\u001b[0;34m\u001b[0m\u001b[0m\n\u001b[0m",
            "\u001b[0;31mNameError\u001b[0m: name 'data_list1' is not defined"
          ]
        }
      ],
      "source": [
        "#del\n",
        "data_list1  = [\"Apples\",\"Bananas\",2,True,22]\n",
        "print(data_list1)  # prints list\n",
        "del data_list1      # deletes entire list\n",
        "print(data_list1)  # throws exception NameError because no list exists.\n",
        "\n",
        "# Note; del will delete entire list from memory, but not empty list like data_list=[]"
      ]
    },
    {
      "cell_type": "markdown",
      "metadata": {
        "id": "LQaW7Ghq0VqA"
      },
      "source": [
        "**difference between del  and pop keywords**\n",
        "\n",
        "del will permanently delete the values from memroy hence it will not store deleted values..\n",
        "\n",
        "pop will return the removed value through an assigment variable. even through we popped the va;ue, but still we can access ,because it will not remove the value from memory"
      ]
    },
    {
      "cell_type": "markdown",
      "metadata": {
        "id": "dKW8YQAO06TC"
      },
      "source": [
        "**clear()**\n",
        "\n",
        "Clear will empty the list..."
      ]
    },
    {
      "cell_type": "code",
      "execution_count": null,
      "metadata": {
        "colab": {
          "base_uri": "https://localhost:8080/"
        },
        "id": "4QDPej6gn65Z",
        "outputId": "f3909f17-45c5-472a-dfb9-608f59f3977f"
      },
      "outputs": [
        {
          "name": "stdout",
          "output_type": "stream",
          "text": [
            "[]\n"
          ]
        }
      ],
      "source": [
        "data_list1  = [\"Apples\",\"Bananas\",2,True,22]\n",
        "\n",
        "data_list1.clear()\n",
        "print(data_list1)"
      ]
    },
    {
      "cell_type": "markdown",
      "metadata": {
        "id": "G5RRzrnH4RyC"
      },
      "source": [
        "**loop() through a list**\n",
        "\n"
      ]
    },
    {
      "cell_type": "code",
      "execution_count": null,
      "metadata": {
        "colab": {
          "base_uri": "https://localhost:8080/"
        },
        "id": "s7lVVp_01JxV",
        "outputId": "b154697c-f466-4bfa-f8f9-64f504b68627"
      },
      "outputs": [
        {
          "output_type": "stream",
          "name": "stdout",
          "text": [
            "fruits\n",
            "cities\n",
            "234\n",
            "True\n"
          ]
        }
      ],
      "source": [
        "val_list    =   [\"fruits\",\"cities\",234,True]\n",
        "\n",
        "for var in val_list:  # prints all items in the list thorugh a loop.\n",
        "    print(var)"
      ]
    },
    {
      "cell_type": "code",
      "execution_count": null,
      "metadata": {
        "colab": {
          "base_uri": "https://localhost:8080/"
        },
        "id": "x0_OWnzI4mA9",
        "outputId": "914eea11-4a5b-4330-d4c0-ba9f93eab0b4"
      },
      "outputs": [
        {
          "name": "stdout",
          "output_type": "stream",
          "text": [
            "['fruits', 'cities', 234, True]\n",
            "['fruits', 'cities', 234, True]\n",
            "['fruits', 'cities', 234, True]\n",
            "['fruits', 'cities', 234, True]\n"
          ]
        }
      ],
      "source": [
        "val_list    =   [\"fruits\",\"cities\",234,True]\n",
        "\n",
        "for  var in val_list:  # prints list number of indexed times\n",
        "    print(val_list)"
      ]
    },
    {
      "cell_type": "code",
      "execution_count": null,
      "metadata": {
        "colab": {
          "base_uri": "https://localhost:8080/"
        },
        "id": "NDssDiZK-pVJ",
        "outputId": "58e5232a-f590-41ba-f4f3-8dfdee0ab562"
      },
      "outputs": [
        {
          "name": "stdout",
          "output_type": "stream",
          "text": [
            "fruits\n",
            "cities\n",
            "234\n",
            "True\n"
          ]
        }
      ],
      "source": [
        "#range()  and len()\n",
        "\n",
        "val_list    =   [\"fruits\",\"cities\",234,True]\n",
        "\n",
        "for var in range(len(val_list)):\n",
        "\n",
        "    print(val_list[var])"
      ]
    },
    {
      "cell_type": "code",
      "execution_count": null,
      "metadata": {
        "colab": {
          "base_uri": "https://localhost:8080/"
        },
        "id": "BUJWEsIFcAdG",
        "outputId": "c7ef87ae-0c77-4ffe-ef09-15e35a68ff01"
      },
      "outputs": [
        {
          "name": "stdout",
          "output_type": "stream",
          "text": [
            "length of list:: 4 \n",
            "\n",
            "fruits      value of index is:: 0 \n",
            "\n",
            "cities      value of index is:: 1 \n",
            "\n",
            "234      value of index is:: 2 \n",
            "\n",
            "True      value of index is:: 3 \n",
            "\n"
          ]
        }
      ],
      "source": [
        "#while loop\n",
        "\n",
        "val_list    =   [\"fruits\",\"cities\",234,True]\n",
        "i=0\n",
        "\n",
        "print(\"length of list::\", len(val_list),'\\n')\n",
        "\n",
        "while i < len(val_list):\n",
        "    print(val_list[i],\"    \", \"value of index is::\", i,'\\n')\n",
        "\n",
        "    i +=1"
      ]
    },
    {
      "cell_type": "code",
      "execution_count": null,
      "metadata": {
        "colab": {
          "base_uri": "https://localhost:8080/"
        },
        "id": "5UiCpAeveEob",
        "outputId": "0093d947-00f8-4f98-c356-42379cf1c175"
      },
      "outputs": [
        {
          "name": "stdout",
          "output_type": "stream",
          "text": [
            "length of list:: 4 \n",
            "\n",
            "fruits      value of index is:: 0 \n",
            "\n",
            "cities      value of index is:: 1 \n",
            "\n",
            "234      value of index is:: 2 \n",
            "\n",
            "True      value of index is:: 3 \n",
            "\n"
          ]
        }
      ],
      "source": [
        "#while loop\n",
        "\n",
        "val_list    =   [\"fruits\",\"cities\",234,True]\n",
        "i=0\n",
        "\n",
        "print(\"length of list::\", len(val_list),'\\n')\n",
        "\n",
        "while i != len(val_list):\n",
        "    print(val_list[i],\"    \", \"value of index is::\", i,'\\n')\n",
        "\n",
        "    i +=1"
      ]
    },
    {
      "cell_type": "markdown",
      "metadata": {
        "id": "QnVaMnc2IhO3"
      },
      "source": [
        "#**List comprhension**\n",
        "\n",
        "Its a shorter syntax  to create a new list based on existing list\n",
        "\n",
        "syntax = [expression ***for***  value  ***in***   iterable expression condition]"
      ]
    },
    {
      "cell_type": "code",
      "execution_count": null,
      "metadata": {
        "colab": {
          "base_uri": "https://localhost:8080/"
        },
        "id": "CVBUf4gggNQt",
        "outputId": "24b1a5a6-51ca-44e0-dd6f-578001800f99"
      },
      "outputs": [
        {
          "name": "stdout",
          "output_type": "stream",
          "text": [
            "fruits\n",
            "cities\n",
            "234\n",
            "True\n"
          ]
        },
        {
          "data": {
            "text/plain": [
              "[None, None, None, None]"
            ]
          },
          "execution_count": 33,
          "metadata": {},
          "output_type": "execute_result"
        }
      ],
      "source": [
        "#List Comprehension\n",
        "\n",
        "val_list    =   [\"fruits\",\"cities\",234,True]\n",
        "\n",
        "[print(i) for i in val_list]   #   []    represents list comprehension.. collects each data"
      ]
    },
    {
      "cell_type": "code",
      "execution_count": null,
      "metadata": {
        "colab": {
          "base_uri": "https://localhost:8080/"
        },
        "id": "4SNmdZhKllLO",
        "outputId": "2947856d-ca80-4c50-f25c-0e6361705277"
      },
      "outputs": [
        {
          "data": {
            "text/plain": [
              "<generator object <genexpr> at 0x79bbda44fdf0>"
            ]
          },
          "execution_count": 112,
          "metadata": {},
          "output_type": "execute_result"
        }
      ],
      "source": [
        "val_list    =   [\"fruits\",\"cities\",234,True]\n",
        "(print(i) for i in val_list)\n",
        "\n",
        "#  here ()   brackets are denotes generators ,\n",
        "#it will ceate generator object but not the value\"\n",
        "# prints memory location"
      ]
    },
    {
      "cell_type": "code",
      "execution_count": null,
      "metadata": {
        "colab": {
          "base_uri": "https://localhost:8080/"
        },
        "id": "RyvNEPaBtVyr",
        "outputId": "4444a747-6d66-4f77-e605-de3ac0f80c09"
      },
      "outputs": [
        {
          "name": "stdout",
          "output_type": "stream",
          "text": [
            "<generator object <genexpr> at 0x7aa863317e60>\n"
          ]
        }
      ],
      "source": [
        "val_list    =   [\"fruits\",\"cities\",234,True]\n",
        "output=(print(i) for i in val_list)\n",
        "\n",
        "print(output) #  we store the generator object in output then we print\n"
      ]
    },
    {
      "cell_type": "code",
      "execution_count": null,
      "metadata": {
        "colab": {
          "base_uri": "https://localhost:8080/"
        },
        "id": "SMVfUQb8r1wa",
        "outputId": "2b7138e0-cd89-49b1-ad30-8440060f1fd4"
      },
      "outputs": [
        {
          "output_type": "stream",
          "name": "stdout",
          "text": [
            "fruits\n",
            "cities\n"
          ]
        },
        {
          "output_type": "execute_result",
          "data": {
            "text/plain": [
              "[None, None]"
            ]
          },
          "metadata": {},
          "execution_count": 29
        }
      ],
      "source": [
        "#example\n",
        "\n",
        "val_list    =   [\"fruits\",\"cities\", \"bananas\",\"apple\"]   # List Comprehension\n",
        "\n",
        "[print(x)  for x in val_list  if 'i'  in x] #prints only letter 'i' in presents in elements"
      ]
    },
    {
      "cell_type": "code",
      "execution_count": null,
      "metadata": {
        "colab": {
          "base_uri": "https://localhost:8080/"
        },
        "id": "C_W44yrYJ1So",
        "outputId": "d4631eec-7277-4159-ccbb-06aaad55b7bd"
      },
      "outputs": [
        {
          "name": "stdout",
          "output_type": "stream",
          "text": [
            "['citrus', 'kiwis']\n"
          ]
        }
      ],
      "source": [
        "# creates new list from old list\n",
        "\n",
        "old_list =[\"Apples\",\"Bananas\",\"citrus\",\"mangoes\",\"kiwis\"]\n",
        "\n",
        "new_list=[print(x) for x in old_list  if \"i\" in x ]  #Creates new list using comprehension technique for all \"i\" string values\n",
        "\n",
        "print(new_list)"
      ]
    },
    {
      "cell_type": "code",
      "execution_count": null,
      "metadata": {
        "colab": {
          "base_uri": "https://localhost:8080/"
        },
        "id": "sEA5x5H3MeKc",
        "outputId": "5c65b022-38f3-4c0a-dd93-a2fac3b30a69"
      },
      "outputs": [
        {
          "name": "stdout",
          "output_type": "stream",
          "text": [
            "['Apples', 'Bananas', 'mangoes']\n"
          ]
        }
      ],
      "source": [
        "# example2\n",
        "\n",
        "old_list =[\"Apples\",\"Bananas\",\"citrus\",\"mangoes\",\"kiwis\"]\n",
        "\n",
        "new_list=[x for x in old_list  if \"i\" not in x ]   # prints all values \"i\" not exists\n",
        "\n",
        "print(new_list)"
      ]
    },
    {
      "cell_type": "code",
      "execution_count": null,
      "metadata": {
        "colab": {
          "base_uri": "https://localhost:8080/"
        },
        "id": "y7PR0_4fMrPV",
        "outputId": "660590cf-0684-4262-8468-eb8bf6f4d144"
      },
      "outputs": [
        {
          "name": "stdout",
          "output_type": "stream",
          "text": [
            "Bananas, citrus, mangoes, kiwis, "
          ]
        },
        {
          "data": {
            "text/plain": [
              "[None, None, None, None]"
            ]
          },
          "execution_count": 47,
          "metadata": {},
          "output_type": "execute_result"
        }
      ],
      "source": [
        "#example 3\n",
        "old_list =[\"Apples\",\"Bananas\",\"citrus\",\"mangoes\",\"kiwis\"]\n",
        "\n",
        "[print(x,end=\", \")  for x in old_list  if x != \"Apples\"]    # prints all values except Apples"
      ]
    },
    {
      "cell_type": "code",
      "execution_count": null,
      "metadata": {
        "colab": {
          "base_uri": "https://localhost:8080/"
        },
        "id": "Nn44QgcfOlRh",
        "outputId": "25bb9c39-b0d5-4f8b-f08e-d8461497aaf4"
      },
      "outputs": [
        {
          "name": "stdout",
          "output_type": "stream",
          "text": [
            "0  1  2  3  4  "
          ]
        },
        {
          "data": {
            "text/plain": [
              "[None, None, None, None, None]"
            ]
          },
          "execution_count": 51,
          "metadata": {},
          "output_type": "execute_result"
        }
      ],
      "source": [
        "#example4\n",
        "\n",
        "[print(x,end=\"  \") for x in range(5) ]"
      ]
    },
    {
      "cell_type": "code",
      "execution_count": null,
      "metadata": {
        "colab": {
          "base_uri": "https://localhost:8080/"
        },
        "id": "vU7FaMAQUKl1",
        "outputId": "16fe81a3-487d-46a2-b069-4d046899b967"
      },
      "outputs": [
        {
          "output_type": "stream",
          "name": "stdout",
          "text": [
            "0 2 4 6 8 10 12 14 16 18 20 22 24 26 28 30 32 34 36 38 40 42 44 46 48 \n"
          ]
        }
      ],
      "source": [
        "[print(x, end=\" \") for x in range(50)  if (x %2) == 0]\n",
        "\n",
        "\"\"\"op=[x for x in range(50) if x%2 == 0]\n",
        "print(\"\\n\\n\",op)\"\"\"\n",
        "print()"
      ]
    },
    {
      "cell_type": "code",
      "execution_count": null,
      "metadata": {
        "colab": {
          "base_uri": "https://localhost:8080/"
        },
        "id": "l39dRbhGUepf",
        "outputId": "266b0f20-d5b2-48ec-ac34-26f83ffe5cfc"
      },
      "outputs": [
        {
          "name": "stdout",
          "output_type": "stream",
          "text": [
            "[0, 2, 4, 6, 8, 10, 12, 14, 16, 18, 20, 22, 24, 26, 28, 30, 32, 34, 36, 38, 40, 42, 44, 46, 48]\n"
          ]
        }
      ],
      "source": [
        "# to remove None\n",
        "output=[x for x in range(50)  if (x %2) == 0]\n",
        "print(output)"
      ]
    },
    {
      "cell_type": "code",
      "execution_count": null,
      "metadata": {
        "colab": {
          "base_uri": "https://localhost:8080/"
        },
        "id": "1HSJ64eyXPkA",
        "outputId": "f6ab5395-cf2b-4549-d658-91e78a3b0498"
      },
      "outputs": [
        {
          "name": "stdout",
          "output_type": "stream",
          "text": [
            "BANANAS, CITRUS, MANGOES, KIWIS, "
          ]
        },
        {
          "data": {
            "text/plain": [
              "[None, None, None, None]"
            ]
          },
          "execution_count": 74,
          "metadata": {},
          "output_type": "execute_result"
        }
      ],
      "source": [
        "old_list =[\"Apples\",\"Bananas\",\"citrus\",\"mangoes\",\"kiwis\"]\n",
        "\n",
        "[print(x.upper(),end=\", \")  for x in old_list  if x != \"Apples\"]   # Upper Case"
      ]
    },
    {
      "cell_type": "markdown",
      "metadata": {
        "id": "a7s6_AiccLFg"
      },
      "source": [
        "**sort()**   \n",
        "\n",
        "sorts data   ...\n",
        "\n",
        "syntax....    \n",
        "\n",
        "exp= exp.sort()  Sorts in Ascending\n",
        "\n",
        "exp=exp.sort(reverse=True)   Sorts in descending\n"
      ]
    },
    {
      "cell_type": "code",
      "execution_count": null,
      "metadata": {
        "colab": {
          "base_uri": "https://localhost:8080/"
        },
        "id": "83uSBwnOcp07",
        "outputId": "a0bbb6e6-952e-4f4b-c009-8719d09dab3f"
      },
      "outputs": [
        {
          "name": "stdout",
          "output_type": "stream",
          "text": [
            "['Apples', 'Bananas', 'citrus', 'kiwis', 'mangoes']\n"
          ]
        }
      ],
      "source": [
        "#Sort\n",
        "\n",
        "old_list =[\"Apples\",\"Bananas\",\"citrus\",\"mangoes\",\"kiwis\"]\n",
        "\n",
        "old_list.sort()   # Ascending sort\n",
        "\n",
        "print(old_list)"
      ]
    },
    {
      "cell_type": "code",
      "execution_count": null,
      "metadata": {
        "colab": {
          "base_uri": "https://localhost:8080/"
        },
        "id": "prB50kJLcwcm",
        "outputId": "a87ceb48-cef8-447c-853d-08eaea88dd4e"
      },
      "outputs": [
        {
          "name": "stdout",
          "output_type": "stream",
          "text": [
            "['mangoes', 'kiwis', 'citrus', 'Bananas', 'Apples']\n"
          ]
        }
      ],
      "source": [
        "#descending sort\n",
        "\n",
        "old_list =[\"Apples\",\"Bananas\",\"citrus\",\"mangoes\",\"kiwis\"]\n",
        "\n",
        "old_list.sort(reverse=True)\n",
        "print(old_list)"
      ]
    },
    {
      "cell_type": "code",
      "execution_count": null,
      "metadata": {
        "colab": {
          "base_uri": "https://localhost:8080/"
        },
        "id": "Ov-Ch0AqdEks",
        "outputId": "248d2ce3-a6f6-44ae-d2e1-8382b81a3fd4"
      },
      "outputs": [
        {
          "name": "stdout",
          "output_type": "stream",
          "text": [
            "[10, 23, 34, 57, 122]\n",
            "[122, 57, 34, 23, 10]\n"
          ]
        }
      ],
      "source": [
        "#  Number sort\n",
        "\n",
        "data=[10,34,23,57,122]\n",
        "\n",
        "data.sort()\n",
        "print(data)\n",
        "\n",
        "data1=[10,34,23,57,122]\n",
        "\n",
        "data1.sort(reverse=True)\n",
        "print(data1)"
      ]
    },
    {
      "cell_type": "code",
      "execution_count": null,
      "metadata": {
        "colab": {
          "base_uri": "https://localhost:8080/",
          "height": 227
        },
        "id": "vt6WseakgsTP",
        "outputId": "96232a0c-a21d-4005-ba57-7fba9b5ea14f"
      },
      "outputs": [
        {
          "ename": "AttributeError",
          "evalue": "ignored",
          "output_type": "error",
          "traceback": [
            "\u001b[0;31m---------------------------------------------------------------------------\u001b[0m",
            "\u001b[0;31mAttributeError\u001b[0m                            Traceback (most recent call last)",
            "\u001b[0;32m<ipython-input-111-34b1685d0b72>\u001b[0m in \u001b[0;36m<cell line: 5>\u001b[0;34m()\u001b[0m\n\u001b[1;32m      3\u001b[0m \u001b[0mdata\u001b[0m\u001b[0;34m=\u001b[0m\u001b[0;34m(\u001b[0m\u001b[0;36m10\u001b[0m\u001b[0;34m,\u001b[0m\u001b[0;36m34\u001b[0m\u001b[0;34m,\u001b[0m\u001b[0;36m23\u001b[0m\u001b[0;34m,\u001b[0m\u001b[0;36m57\u001b[0m\u001b[0;34m,\u001b[0m\u001b[0;36m122\u001b[0m\u001b[0;34m)\u001b[0m\u001b[0;34m\u001b[0m\u001b[0;34m\u001b[0m\u001b[0m\n\u001b[1;32m      4\u001b[0m \u001b[0;34m\u001b[0m\u001b[0m\n\u001b[0;32m----> 5\u001b[0;31m \u001b[0mdata\u001b[0m\u001b[0;34m.\u001b[0m\u001b[0msort\u001b[0m\u001b[0;34m(\u001b[0m\u001b[0;34m)\u001b[0m\u001b[0;34m\u001b[0m\u001b[0;34m\u001b[0m\u001b[0m\n\u001b[0m\u001b[1;32m      6\u001b[0m \u001b[0mprint\u001b[0m\u001b[0;34m(\u001b[0m\u001b[0mdata\u001b[0m\u001b[0;34m)\u001b[0m\u001b[0;34m\u001b[0m\u001b[0;34m\u001b[0m\u001b[0m\n",
            "\u001b[0;31mAttributeError\u001b[0m: 'tuple' object has no attribute 'sort'"
          ]
        }
      ],
      "source": [
        "#Tuple has no attribute sort()\n",
        "\n",
        "data=(10,34,23,57,122)   # We can not sort() tuples because they are immutable.can't alterable\n",
        "\n",
        "data.sort()\n",
        "print(data)"
      ]
    },
    {
      "cell_type": "code",
      "execution_count": null,
      "metadata": {
        "colab": {
          "base_uri": "https://localhost:8080/"
        },
        "id": "3XQdydOohl-z",
        "outputId": "1ec53b3f-8141-44f5-d131-31dbef5e364d"
      },
      "outputs": [
        {
          "name": "stdout",
          "output_type": "stream",
          "text": [
            "[10, 23, 34, 57, 122]\n",
            "[122, 57, 34, 23, 10]\n"
          ]
        }
      ],
      "source": [
        "#example\n",
        "\n",
        "data=[10,34,23,57,122]\n",
        "\n",
        "data.sort()\n",
        "print(data)\n",
        "\n",
        "data.sort(reverse=True)\n",
        "print(data)"
      ]
    },
    {
      "cell_type": "code",
      "execution_count": null,
      "metadata": {
        "colab": {
          "base_uri": "https://localhost:8080/"
        },
        "id": "bbk0EXYFh4sM",
        "outputId": "795375f4-aeb1-458f-fc6d-7e37bdc2949b"
      },
      "outputs": [
        {
          "output_type": "stream",
          "name": "stdout",
          "text": [
            "None\n"
          ]
        }
      ],
      "source": [
        "#example\n",
        "\n",
        "data=[10,34,23,57,122]\n",
        "\n",
        "data1=data.sort()  # Sort method sorts and stores vales in same list, so we can not assign sorted data to new list using sort()\n",
        "print(data1)"
      ]
    },
    {
      "cell_type": "code",
      "execution_count": null,
      "metadata": {
        "colab": {
          "base_uri": "https://localhost:8080/",
          "height": 227
        },
        "id": "EWp3UimxiM3q",
        "outputId": "e4b94729-bfaf-4a84-8ce7-cf3d583e357b"
      },
      "outputs": [
        {
          "ename": "AttributeError",
          "evalue": "ignored",
          "output_type": "error",
          "traceback": [
            "\u001b[0;31m---------------------------------------------------------------------------\u001b[0m",
            "\u001b[0;31mAttributeError\u001b[0m                            Traceback (most recent call last)",
            "\u001b[0;32m<ipython-input-117-932739be63d4>\u001b[0m in \u001b[0;36m<cell line: 3>\u001b[0;34m()\u001b[0m\n\u001b[1;32m      1\u001b[0m \u001b[0mdataset\u001b[0m\u001b[0;34m=\u001b[0m\u001b[0;34m{\u001b[0m\u001b[0;34m\"One\"\u001b[0m\u001b[0;34m:\u001b[0m\u001b[0;36m1\u001b[0m\u001b[0;34m,\u001b[0m\u001b[0;34m\"Two\"\u001b[0m\u001b[0;34m:\u001b[0m\u001b[0;36m2\u001b[0m\u001b[0;34m,\u001b[0m\u001b[0;34m\"Three\"\u001b[0m\u001b[0;34m:\u001b[0m\u001b[0;36m3\u001b[0m\u001b[0;34m}\u001b[0m\u001b[0;34m\u001b[0m\u001b[0;34m\u001b[0m\u001b[0m\n\u001b[1;32m      2\u001b[0m \u001b[0;34m\u001b[0m\u001b[0m\n\u001b[0;32m----> 3\u001b[0;31m \u001b[0mdataset\u001b[0m\u001b[0;34m.\u001b[0m\u001b[0msort\u001b[0m\u001b[0;34m(\u001b[0m\u001b[0;34m)\u001b[0m\u001b[0;34m\u001b[0m\u001b[0;34m\u001b[0m\u001b[0m\n\u001b[0m\u001b[1;32m      4\u001b[0m \u001b[0mprint\u001b[0m\u001b[0;34m(\u001b[0m\u001b[0mdataset\u001b[0m\u001b[0;34m)\u001b[0m\u001b[0;34m\u001b[0m\u001b[0;34m\u001b[0m\u001b[0m\n",
            "\u001b[0;31mAttributeError\u001b[0m: 'dict' object has no attribute 'sort'"
          ]
        }
      ],
      "source": [
        "#Dictionaries are not sortable because unordered\n",
        "\n",
        "dataset={\"One\":1,\"Two\":2,\"Three\":3}\n",
        "\n",
        "dataset.sort()  # Dictionary has no sort() attribute\n",
        "print(dataset)"
      ]
    },
    {
      "cell_type": "markdown",
      "metadata": {
        "id": "6Sm9lOuekrib"
      },
      "source": [
        "**sorted()**  \n",
        "\n",
        "\n",
        "To store sorted values in new list   \n",
        "\n",
        "Useful for tuples and dictionaries"
      ]
    },
    {
      "cell_type": "code",
      "execution_count": null,
      "metadata": {
        "colab": {
          "base_uri": "https://localhost:8080/"
        },
        "id": "xDyASFj9jTnC",
        "outputId": "30275501-6f6e-46af-d31b-8b0c92c7d75a"
      },
      "outputs": [
        {
          "name": "stdout",
          "output_type": "stream",
          "text": [
            "[10, 23, 34, 57, 122]\n",
            "[122, 57, 34, 23, 10]\n"
          ]
        }
      ],
      "source": [
        "#Lists using sorted()\n",
        "\n",
        "data=[10,34,23,57,122]\n",
        "\n",
        "data1=sorted(data)  # Sorted data in Ascending and stored in data1\n",
        "print(data1)\n",
        "\n",
        "data1= sorted(data,reverse=True) # sort the data in reverse  order\n",
        "print(data1)"
      ]
    },
    {
      "cell_type": "code",
      "execution_count": null,
      "metadata": {
        "colab": {
          "base_uri": "https://localhost:8080/"
        },
        "id": "bDECdvQSk9hB",
        "outputId": "4e9bcbf3-b60f-4a78-ea81-d7f6fe64e964"
      },
      "outputs": [
        {
          "output_type": "stream",
          "name": "stdout",
          "text": [
            "[10, 23, 34, 57, 122]\n",
            "[10, 23, 34, 57, 122] \n",
            "\n",
            "[122, 57, 34, 23, 10]\n",
            "[122, 57, 34, 23, 10]\n"
          ]
        }
      ],
      "source": [
        "#Tuples\n",
        "\n",
        "data=(10,34,23,57,122)\n",
        "print(sorted(data))\n",
        "data1=sorted(data) # prints tuple in sorted in new variable\n",
        "print(data1,'\\n')\n",
        "\n",
        "print(sorted(data,reverse=True))\n",
        "data1=sorted(data,reverse=True)  # reverse order\n",
        "print(data1)"
      ]
    },
    {
      "cell_type": "code",
      "execution_count": null,
      "metadata": {
        "colab": {
          "base_uri": "https://localhost:8080/"
        },
        "id": "Enr-N9LXls9s",
        "outputId": "7e686807-a900-43cd-d580-3432945db36f"
      },
      "outputs": [
        {
          "name": "stdout",
          "output_type": "stream",
          "text": [
            "['a', 'b', 'c']\n",
            "['c', 'b', 'a']\n",
            "[('a', 1), ('b', 2), ('c', 3)]\n",
            "['a', 'b', 'c']\n",
            "[1, 2, 3]\n"
          ]
        }
      ],
      "source": [
        "# Dictionaries\n",
        "\n",
        "dataset= {\"a\":1,\"b\":2,\"c\":3}\n",
        "\n",
        "# by default prints sorted with keys only\n",
        "print(sorted(dataset))\n",
        "print(sorted(dataset,reverse=True))\n",
        "\n",
        "print(sorted(dataset.items()))\n",
        "print(sorted(dataset.keys()))  # sort keys\n",
        "print(sorted(dataset.values())) # sort key with value"
      ]
    },
    {
      "cell_type": "code",
      "execution_count": null,
      "metadata": {
        "colab": {
          "base_uri": "https://localhost:8080/"
        },
        "id": "I3rb_oDIm1MI",
        "outputId": "ed7638b4-6ef6-4c09-af2a-e65048c50c80"
      },
      "outputs": [
        {
          "name": "stdout",
          "output_type": "stream",
          "text": [
            "['b', 'c', 'd']\n",
            "['d', 'c', 'b']\n",
            "[('b', 3), ('c', 1), ('d', 2)]\n",
            "['b', 'c', 'd']\n",
            "[1, 2, 3]\n"
          ]
        }
      ],
      "source": [
        "# Dictionaries\n",
        "\n",
        "dataset= {\"c\":1,\"d\":2,\"b\":3}\n",
        "\n",
        "print(sorted(dataset))\n",
        "print(sorted(dataset,reverse=True))\n",
        "\n",
        "print(sorted(dataset.items()))\n",
        "print(sorted(dataset.keys()))  # sort keys\n",
        "print(sorted(dataset.values())) # sort key with value"
      ]
    },
    {
      "cell_type": "code",
      "execution_count": null,
      "metadata": {
        "colab": {
          "base_uri": "https://localhost:8080/"
        },
        "id": "LtWeJA0poG6r",
        "outputId": "e06e5621-a7d6-4a05-bce7-fd46437afad6"
      },
      "outputs": [
        {
          "name": "stdout",
          "output_type": "stream",
          "text": [
            "['b', 'c', 'd']\n",
            "['d', 'c', 'b']\n",
            "[('b', 3), ('c', 5), ('d', 2)]\n",
            "['b', 'c', 'd']\n",
            "[2, 3, 5]\n"
          ]
        }
      ],
      "source": [
        "# Dictionaries\n",
        "\n",
        "dataset= {\"c\":5,\"d\":2,\"b\":3}\n",
        "\n",
        "# by default sorts key only\n",
        "print(sorted(dataset))\n",
        "print(sorted(dataset,reverse=True))\n",
        "\n",
        "print(sorted(dataset.items())) # sorts and prints by key order\n",
        "print(sorted(dataset.keys()))  # sort keys\n",
        "print(sorted(dataset.values())) # sort key with value"
      ]
    },
    {
      "cell_type": "markdown",
      "metadata": {
        "id": "GvuMh_q3vcFM"
      },
      "source": [
        "**Case Senstive sorting**\n",
        "\n",
        "by default sort() function willsort Upper case letters first then lower case letters"
      ]
    },
    {
      "cell_type": "code",
      "execution_count": null,
      "metadata": {
        "colab": {
          "base_uri": "https://localhost:8080/"
        },
        "id": "NVenwDZAxrYm",
        "outputId": "cb1d24e7-567c-427f-f2bf-1f0a4a398c02"
      },
      "outputs": [
        {
          "name": "stdout",
          "output_type": "stream",
          "text": [
            "['APPLES', 'Apples', 'Bible', 'KIWIS', 'Kiwis', 'citrus', 'kiwis']\n"
          ]
        }
      ],
      "source": [
        "old_list=['Apples',\"Bible\",\"APPLES\",'citrus',\"KIWIS\",'Kiwis','kiwis']\n",
        "\n",
        "old_list.sort() # Upper case letters willbe sorted first.\n",
        "print(old_list)\n",
        "\n",
        "# Here While considering upper case letetr it follows sorting method first for upper case letetrs in alphabetic order"
      ]
    },
    {
      "cell_type": "code",
      "execution_count": null,
      "metadata": {
        "colab": {
          "base_uri": "https://localhost:8080/"
        },
        "id": "6n-16V9ZuAlg",
        "outputId": "69fd2535-b9d0-4f57-e5cc-15cd5d983538"
      },
      "outputs": [
        {
          "name": "stdout",
          "output_type": "stream",
          "text": [
            "['Apples', 'APPLES', 'Bible', 'citrus', 'KIWIS', 'Kiwis', 'kiwis']\n"
          ]
        }
      ],
      "source": [
        "# Use key in sort()\n",
        "\n",
        "# key will sort according to alphabets\n",
        "\n",
        "old_list=['Apples',\"Bible\",\"APPLES\",'citrus',\"KIWIS\",'Kiwis','kiwis']\n",
        "\n",
        "old_list.sort(key=str.lower)\n",
        "print(old_list)\n"
      ]
    },
    {
      "cell_type": "code",
      "execution_count": null,
      "metadata": {
        "colab": {
          "base_uri": "https://localhost:8080/"
        },
        "id": "KiE-35AjxqG_",
        "outputId": "3eb74b5d-f30d-4d87-c882-9f280cba3734"
      },
      "outputs": [
        {
          "name": "stdout",
          "output_type": "stream",
          "text": [
            "['Apples', 'APPLES', 'Bible', 'citrus', 'KIWIS', 'Kiwis', 'kiwis']\n"
          ]
        }
      ],
      "source": [
        "old_list=['Apples',\"Bible\",\"APPLES\",'citrus',\"KIWIS\",'Kiwis','kiwis']\n",
        "\n",
        "\n",
        "old_list.sort(key=str.upper)\n",
        "print(old_list)"
      ]
    },
    {
      "cell_type": "code",
      "execution_count": null,
      "metadata": {
        "colab": {
          "base_uri": "https://localhost:8080/"
        },
        "id": "ljge8ENt28aC",
        "outputId": "2bf934fb-a593-4b20-9f59-4931ba04603f"
      },
      "outputs": [
        {
          "name": "stdout",
          "output_type": "stream",
          "text": [
            "['kiwis', 'Kiwis', 'KIWIS', 'citrus', 'APPLES', 'Bible', 'Apples']\n"
          ]
        }
      ],
      "source": [
        "# List reverse()\n",
        "\n",
        "old_list=['Apples',\"Bible\",\"APPLES\",'citrus',\"KIWIS\",'Kiwis','kiwis']\n",
        "\n",
        "old_list.reverse()\n",
        "print(old_list)\n",
        "\n"
      ]
    },
    {
      "cell_type": "code",
      "execution_count": null,
      "metadata": {
        "colab": {
          "base_uri": "https://localhost:8080/"
        },
        "id": "kRECG0ii6jYH",
        "outputId": "c048c831-d93e-4813-a597-b56f9a07ef90"
      },
      "outputs": [
        {
          "name": "stdout",
          "output_type": "stream",
          "text": [
            "['Apples', 'Bible', 'APPLES', 'citrus', 'KIWIS', 'Kiwis', 'kiwis']\n"
          ]
        }
      ],
      "source": [
        "#List copy()\n",
        "old_list=['Apples',\"Bible\",\"APPLES\",'citrus',\"KIWIS\",'Kiwis','kiwis']\n",
        "\n",
        "new_list=old_list.copy()\n",
        "print(new_list)\n",
        "\n"
      ]
    },
    {
      "cell_type": "code",
      "execution_count": null,
      "metadata": {
        "colab": {
          "base_uri": "https://localhost:8080/"
        },
        "id": "RZ8y6qhk7KQj",
        "outputId": "4938e7fe-796b-474d-bb9f-3fbcaf887823"
      },
      "outputs": [
        {
          "output_type": "stream",
          "name": "stdout",
          "text": [
            "['Apples', 'Bible', 'APPLES', 'citrus', 'KIWIS', 'Kiwis', 'kiwis']\n",
            "['Apples', 'Bible', 'APPLES', 'citrus', 'KIWIS', 'Kiwis', 'kiwis']\n"
          ]
        }
      ],
      "source": [
        "#List copy\n",
        "\n",
        "orl_list=['Apples',\"Bible\",\"APPLES\",'citrus',\"KIWIS\",'Kiwis','kiwis']\n",
        "\n",
        "cpy_list=orl_list\n",
        "print(cpy_list)\n",
        "print(orl_list)"
      ]
    },
    {
      "cell_type": "code",
      "execution_count": null,
      "metadata": {
        "colab": {
          "base_uri": "https://localhost:8080/"
        },
        "id": "E2PohgBq7jrc",
        "outputId": "f9b6b675-15c5-4fba-f571-41c21bc47f6f"
      },
      "outputs": [
        {
          "name": "stdout",
          "output_type": "stream",
          "text": [
            "Original List is  ORL_LIST\n",
            "2nd List is   CPY_LIST\n",
            "\n",
            "Original List;; ['Apples', 'Bible', 'APPLES', 'citrus', 'KIWIS', 'Kiwis', 'kiwis']\n",
            "Assigned list;; ['Apples', 'Bible', 'APPLES', 'citrus', 'KIWIS', 'Kiwis', 'kiwis']\n",
            "\n",
            "After Append to 2nd list;; ['Apples', 'Bible', 'APPLES', 'citrus', 'KIWIS', 'Kiwis', 'kiwis']\n",
            "After Append to 2nd List:: ['Apples', 'Bible', 'APPLES', 'citrus', 'KIWIS', 'Kiwis', 'kiwis', 'Bananas']\n",
            "\n",
            "After Append to original List..: ['Apples', 'Bible', 'APPLES', 'citrus', 'KIWIS', 'Kiwis', 'kiwis', 'lemon']\n",
            "After Append to originalList:: ['Apples', 'Bible', 'APPLES', 'citrus', 'KIWIS', 'Kiwis', 'kiwis', 'Bananas']\n"
          ]
        }
      ],
      "source": [
        "orl_list=['Apples',\"Bible\",\"APPLES\",'citrus',\"KIWIS\",'Kiwis','kiwis']\n",
        "\n",
        "cpy_list=orl_list.copy()\n",
        "\n",
        "print(\"Original List is  ORL_LIST\")\n",
        "print(\"2nd List is   CPY_LIST\")\n",
        "print()\n",
        "\n",
        "print(\"Original List;;\",orl_list)\n",
        "print(\"Assigned list;;\",cpy_list)\n",
        "print()\n",
        "\n",
        "cpy_list.append(\"Bananas\")\n",
        "print(\"After Append to 2nd list;;\",orl_list)\n",
        "print(\"After Append to 2nd List::\",cpy_list)\n",
        "print()\n",
        "\n",
        "orl_list.append(\"lemon\")\n",
        "print(\"After Append to original List..:\",orl_list)\n",
        "print(\"After Append to originalList::\",cpy_list)"
      ]
    },
    {
      "cell_type": "code",
      "execution_count": null,
      "metadata": {
        "colab": {
          "base_uri": "https://localhost:8080/"
        },
        "id": "b0q82MpUJlaq",
        "outputId": "a8828343-2334-431a-f118-639668e9a4bc"
      },
      "outputs": [
        {
          "name": "stdout",
          "output_type": "stream",
          "text": [
            "Original List is  ORL_LIST\n",
            "2nd List is   CPY_LIST\n",
            "\n",
            "Original List;; ['Apples', 'Bible', 'APPLES', 'citrus', 'KIWIS', 'Kiwis', 'kiwis']\n",
            "Assigned list;; ['Apples', 'Bible', 'APPLES', 'citrus', 'KIWIS', 'Kiwis', 'kiwis']\n",
            "\n",
            "After Append to 2nd list;; ['Apples', 'Bible', 'APPLES', 'citrus', 'KIWIS', 'Kiwis', 'kiwis', 'Bananas']\n",
            "After Append to 2nd List:: ['Apples', 'Bible', 'APPLES', 'citrus', 'KIWIS', 'Kiwis', 'kiwis', 'Bananas']\n",
            "\n",
            "After Append to original List..: ['Apples', 'Bible', 'APPLES', 'citrus', 'KIWIS', 'Kiwis', 'kiwis', 'Bananas', 'lemon']\n",
            "After Append to originalList:: ['Apples', 'Bible', 'APPLES', 'citrus', 'KIWIS', 'Kiwis', 'kiwis', 'Bananas', 'lemon']\n"
          ]
        }
      ],
      "source": [
        "orl_list=['Apples',\"Bible\",\"APPLES\",'citrus',\"KIWIS\",'Kiwis','kiwis']\n",
        "\n",
        "cpy_list=orl_list\n",
        "\n",
        "print(\"Original List is  ORL_LIST\")\n",
        "print(\"2nd List is   CPY_LIST\")\n",
        "print()\n",
        "\n",
        "print(\"Original List;;\",orl_list)\n",
        "print(\"Assigned list;;\",cpy_list)\n",
        "print()\n",
        "\n",
        "cpy_list.append(\"Bananas\")\n",
        "print(\"After Append to 2nd list;;\",orl_list)\n",
        "print(\"After Append to 2nd List::\",cpy_list)\n",
        "print()\n",
        "\n",
        "orl_list.append(\"lemon\")\n",
        "print(\"After Append to original List..:\",orl_list)\n",
        "print(\"After Append to originalList::\",cpy_list)"
      ]
    },
    {
      "cell_type": "markdown",
      "metadata": {
        "id": "nlYpioxWLyUI"
      },
      "source": [
        "**The Differecen between copy() and assigned list**\n",
        "\n",
        "**when we use copy() method, what ever the values to append to list that list only append. second list will not affect.   where as if we assign a list to another list , whatever the chnages made in any of the list, both lists will be affected**"
      ]
    },
    {
      "cell_type": "code",
      "execution_count": null,
      "metadata": {
        "colab": {
          "base_uri": "https://localhost:8080/"
        },
        "id": "lOumcO1eMPr0",
        "outputId": "fa60beef-e1e3-4294-f69d-72efc6218300"
      },
      "outputs": [
        {
          "name": "stdout",
          "output_type": "stream",
          "text": [
            "['Apple', 'Mango', 'Banana', 1, 2, 3, 4]\n"
          ]
        }
      ],
      "source": [
        "# JOIN LISTS\n",
        "\n",
        "list1=[\"Apple\",\"Mango\",\"Banana\"]\n",
        "list2=[1,2,3,4]\n",
        "\n",
        "list3=list1 + list2  #Joins 2 lists\n",
        "print(list3)"
      ]
    },
    {
      "cell_type": "markdown",
      "metadata": {
        "id": "HdEojAdunc_y"
      },
      "source": [
        "**extend()**\n",
        "\n",
        "extends()   adds 2 lists\n",
        "\n"
      ]
    },
    {
      "cell_type": "code",
      "execution_count": null,
      "metadata": {
        "colab": {
          "base_uri": "https://localhost:8080/"
        },
        "id": "r0sW0OK7NWkJ",
        "outputId": "0c83a0e2-19fb-42a2-9ce7-9026180a6d8a"
      },
      "outputs": [
        {
          "name": "stdout",
          "output_type": "stream",
          "text": [
            "['Apples', 'Mangoes', 'Bananas', 12, 234, 43, 22, True, False]\n"
          ]
        }
      ],
      "source": [
        "#extend()\n",
        "\n",
        "L1=[\"Apples\",\"Mangoes\",\"Bananas\"]\n",
        "L2=[12,234,43,22]\n",
        "L3=[True,False]\n",
        "\n",
        "L1.extend(L2) # Adds L2 to L1\n",
        "L1.extend(L3) # Adds L3 to L1\n",
        "print(L1)\n"
      ]
    },
    {
      "cell_type": "code",
      "execution_count": null,
      "metadata": {
        "colab": {
          "base_uri": "https://localhost:8080/"
        },
        "id": "Ucnwtj_jod26",
        "outputId": "f3c5f0ae-d35b-4781-dc33-d6bcf7014b51"
      },
      "outputs": [
        {
          "name": "stdout",
          "output_type": "stream",
          "text": [
            "['Apples', 'Mangoes', 'Bananas', 12, 234, 43, 22, True, False]\n"
          ]
        }
      ],
      "source": [
        "#extend()\n",
        "L1=[\"Apples\",\"Mangoes\",\"Bananas\"]\n",
        "L2=[12,234,43,22]\n",
        "L3=[True,False]\n",
        "\n",
        "L1.extend(L2+L3) # Adds L2 and L3 to L1\n",
        "\n",
        "print(L1)"
      ]
    },
    {
      "cell_type": "code",
      "execution_count": null,
      "metadata": {
        "colab": {
          "base_uri": "https://localhost:8080/"
        },
        "id": "i9Zll9SBprVk",
        "outputId": "291230da-9712-4cda-c859-b1ed9f7276c2"
      },
      "outputs": [
        {
          "name": "stdout",
          "output_type": "stream",
          "text": [
            "None\n"
          ]
        }
      ],
      "source": [
        "#extend()\n",
        "\n",
        "L1=[\"Apples\",\"Mangoes\",\"Bananas\"]\n",
        "L2=[12,234,43,22]\n",
        "L3=[True,False]\n",
        "\n",
        "combo= L1.extend(L2)  # extend() doesnot assign to store outcome to new variable.\n",
        "#Hence it returns none .It stores outcome to same moemroy location i.e.L1\n",
        "print(combo)"
      ]
    },
    {
      "cell_type": "code",
      "execution_count": null,
      "metadata": {
        "colab": {
          "base_uri": "https://localhost:8080/"
        },
        "id": "mU0Sf5NTqBU_",
        "outputId": "b43e0999-69da-40e7-fe37-a2e27f6933a6"
      },
      "outputs": [
        {
          "name": "stdout",
          "output_type": "stream",
          "text": [
            "['Apples', 'Mangoes', 'Bananas', 12, True]\n"
          ]
        }
      ],
      "source": [
        "#extend()\n",
        "\n",
        "L1=[\"Apples\",\"Mangoes\",\"Bananas\"]\n",
        "L2=[12,234,43,22]\n",
        "L3=[True,False]\n",
        "\n",
        "L1.extend(L2[0:1]+L3[0:1])  # Adds values at position [0] from L2,L3 to L1\n",
        "print(L1)"
      ]
    },
    {
      "cell_type": "markdown",
      "metadata": {
        "id": "TE6aoRQbsXxe"
      },
      "source": [
        "#**List Methods**\n"
      ]
    },
    {
      "cell_type": "code",
      "execution_count": null,
      "metadata": {
        "colab": {
          "base_uri": "https://localhost:8080/"
        },
        "id": "o0W9gHKnrwIn",
        "outputId": "ecd6876f-f612-4b8e-f4a1-cb57abe71601"
      },
      "outputs": [
        {
          "output_type": "stream",
          "name": "stdout",
          "text": [
            "['Apples', 'Mangoes', 'Bananas', [12, 234, 43, 22]]\n",
            "['Apples', 'Mangoes', 'Bananas', [12, 234, 43, 22, [True, False]]]\n",
            "['Apples', 'Mangoes', 'Bananas', [12, 234, 43, 22, [True, False]], 'Oranges']\n"
          ]
        }
      ],
      "source": [
        "#append()   Appends value or list\n",
        "\n",
        "L1=[\"Apples\",\"Mangoes\",\"Bananas\"]\n",
        "L2=[12,234,43,22]\n",
        "L3=[True,False]\n",
        "\n",
        "L1.append(L2)\n",
        "print(L1)\n",
        "L2.append(L3)\n",
        "print(L1)\n",
        "\n",
        "L1.append(\"Oranges\")\n",
        "print(L1)\n",
        "\n"
      ]
    },
    {
      "cell_type": "code",
      "execution_count": null,
      "metadata": {
        "colab": {
          "base_uri": "https://localhost:8080/"
        },
        "id": "CSJ_rbwitCOc",
        "outputId": "1146a9c4-dcf8-4a20-a63a-f441b4095cb2"
      },
      "outputs": [
        {
          "name": "stdout",
          "output_type": "stream",
          "text": [
            "[12, 234, 43, 22, [True, False]]\n",
            "[12, 234, 43, 22, [True, False], ['Apples', 'Mangoes', 'Bananas', [...], 'Oranges']]\n"
          ]
        }
      ],
      "source": [
        "#Append()\n",
        "\n",
        "print(L2)\n",
        "L2.append(L1)\n",
        "print(L2)"
      ]
    },
    {
      "cell_type": "code",
      "execution_count": null,
      "metadata": {
        "colab": {
          "base_uri": "https://localhost:8080/"
        },
        "id": "rPdmGjJ6uJbK",
        "outputId": "98ac3dfc-9e63-4c66-a592-c19d0fb4b06f"
      },
      "outputs": [
        {
          "name": "stdout",
          "output_type": "stream",
          "text": [
            "['Apples', 'Mangoes', 'Bananas', [12, 234, 43, 22, True, False]]\n",
            "\n",
            "['Bananas', [12, 234, 43, 22, True, False]]\n"
          ]
        }
      ],
      "source": [
        "L1=[\"Apples\",\"Mangoes\",\"Bananas\"]\n",
        "L2=[12,234,43,22]\n",
        "L3=[True,False]\n",
        "\n",
        "L1.append(L2+L3)\n",
        "print(L1)\n",
        "print()\n",
        "print(L1[2:4])\n"
      ]
    },
    {
      "cell_type": "code",
      "execution_count": null,
      "metadata": {
        "colab": {
          "base_uri": "https://localhost:8080/"
        },
        "id": "cOirGdEmuxET",
        "outputId": "fc7939c7-4673-4b8a-fa80-bf96535bc728"
      },
      "outputs": [
        {
          "name": "stdout",
          "output_type": "stream",
          "text": [
            "['Apples', 'Mangoes', 'Bananas', 12, 234, 43, 22, True, False]\n",
            "['Bananas', 12]\n"
          ]
        }
      ],
      "source": [
        "L1=[\"Apples\",\"Mangoes\",\"Bananas\"]\n",
        "L2=[12,234,43,22]\n",
        "L3=[True,False]\n",
        "\n",
        "\n",
        "L1.extend(L2+L3)\n",
        "print(L1)\n",
        "print(L1[2:4])"
      ]
    },
    {
      "cell_type": "markdown",
      "metadata": {
        "id": "8D_9t4-vv7Sv"
      },
      "source": [
        "**Diference between is extend() method and append()**\n",
        "\n",
        "extend() combines all list elements into single list   \n",
        "\n",
        "append() combines all list into single list by keeping each list seperately\n",
        "\n",
        "In the above example L appended by combining L2,L3. so here L2,L3 are combined as one list and L1 as one list total 2 lists."
      ]
    },
    {
      "cell_type": "code",
      "execution_count": null,
      "metadata": {
        "colab": {
          "base_uri": "https://localhost:8080/"
        },
        "id": "DT65SSwqwepI",
        "outputId": "fc68d14f-3101-4d56-80c3-12c40dc390fd"
      },
      "outputs": [
        {
          "name": "stdout",
          "output_type": "stream",
          "text": [
            "['Apples', 'Mangoes', 'Bananas']\n",
            "[]\n",
            "136844395405504\n"
          ]
        },
        {
          "data": {
            "text/plain": [
              "0"
            ]
          },
          "execution_count": 51,
          "metadata": {},
          "output_type": "execute_result"
        }
      ],
      "source": [
        "#clear()\n",
        "\n",
        "# clears list elements\n",
        "\n",
        "L1=[\"Apples\",\"Mangoes\",\"Bananas\"]\n",
        "L2=[12,234,43,22]\n",
        "L3=[True,False]\n",
        "\n",
        "print(L1)\n",
        "L1.clear()   #  clears list elements\n",
        "print(L1)  # clears list\n",
        "\n",
        "memloc=id(L1)\n",
        "print(memloc)\n",
        "\n",
        "len(L1)\n",
        "\n",
        "#Even thoguh data cleared but it still exists in memory location\n",
        "\n",
        "\n"
      ]
    },
    {
      "cell_type": "code",
      "execution_count": null,
      "metadata": {
        "colab": {
          "base_uri": "https://localhost:8080/",
          "height": 210
        },
        "id": "KliOkCBc0r6r",
        "outputId": "afcfa201-aeca-4f64-c4c5-5ae17f080644"
      },
      "outputs": [
        {
          "ename": "NameError",
          "evalue": "ignored",
          "output_type": "error",
          "traceback": [
            "\u001b[0;31m---------------------------------------------------------------------------\u001b[0m",
            "\u001b[0;31mNameError\u001b[0m                                 Traceback (most recent call last)",
            "\u001b[0;32m<ipython-input-54-ae7754bc21e6>\u001b[0m in \u001b[0;36m<cell line: 1>\u001b[0;34m()\u001b[0m\n\u001b[0;32m----> 1\u001b[0;31m \u001b[0;32mdel\u001b[0m \u001b[0mL1\u001b[0m\u001b[0;34m\u001b[0m\u001b[0;34m\u001b[0m\u001b[0m\n\u001b[0m\u001b[1;32m      2\u001b[0m \u001b[0;34m\u001b[0m\u001b[0m\n\u001b[1;32m      3\u001b[0m \u001b[0mprint\u001b[0m\u001b[0;34m(\u001b[0m\u001b[0mL1\u001b[0m\u001b[0;34m)\u001b[0m\u001b[0;34m\u001b[0m\u001b[0;34m\u001b[0m\u001b[0m\n",
            "\u001b[0;31mNameError\u001b[0m: name 'L1' is not defined"
          ]
        }
      ],
      "source": [
        "del L1    # Removes from memory location\n",
        "\n",
        "print(L1)"
      ]
    },
    {
      "cell_type": "markdown",
      "metadata": {
        "id": "reeep4bdwe-R"
      },
      "source": []
    },
    {
      "cell_type": "code",
      "execution_count": null,
      "metadata": {
        "colab": {
          "base_uri": "https://localhost:8080/"
        },
        "id": "Fq4OU9S2iS8J",
        "outputId": "811157da-5db7-457a-b46c-7922bfabb930"
      },
      "outputs": [
        {
          "name": "stdout",
          "output_type": "stream",
          "text": [
            "[]\n"
          ]
        }
      ],
      "source": [
        "#clear()\n",
        "\n",
        "# Removes elements from list\n",
        "\n",
        "L1=[\"Apples\",\"Mangoes\",\"Bananas\"]\n",
        "\n",
        "L1.clear() # clears elements in the list\n",
        "\n",
        "print(L1)"
      ]
    },
    {
      "cell_type": "code",
      "execution_count": null,
      "metadata": {
        "colab": {
          "base_uri": "https://localhost:8080/"
        },
        "id": "sBynLW_qisui",
        "outputId": "bdc6e486-1c82-4d25-e07a-231bea9f65de"
      },
      "outputs": [
        {
          "name": "stdout",
          "output_type": "stream",
          "text": [
            "<built-in method copy of list object at 0x7fdb02247580>\n",
            "['Apples', 'Mangoes', 'Bananas']\n",
            "['Apples', 'Mangoes', 'Bananas']\n"
          ]
        }
      ],
      "source": [
        "#copy\n",
        "#retruns copy of the list\n",
        "\n",
        "L1=[\"Apples\",\"Mangoes\",\"Bananas\"]\n",
        "print(L1.copy)\n",
        "L1=L1.copy()\n",
        "print(L1)\n",
        "x=L1.copy()\n",
        "print(x)"
      ]
    },
    {
      "cell_type": "code",
      "execution_count": null,
      "metadata": {
        "colab": {
          "base_uri": "https://localhost:8080/",
          "height": 262
        },
        "id": "FCB2ZoAsjavP",
        "outputId": "0ef6cfd3-79ad-47db-fe58-e154f7d54f35"
      },
      "outputs": [
        {
          "output_type": "stream",
          "name": "stdout",
          "text": [
            "1\n",
            "2\n",
            "2\n"
          ]
        },
        {
          "output_type": "error",
          "ename": "TypeError",
          "evalue": "list.count() takes exactly one argument (2 given)",
          "traceback": [
            "\u001b[0;31m---------------------------------------------------------------------------\u001b[0m",
            "\u001b[0;31mTypeError\u001b[0m                                 Traceback (most recent call last)",
            "\u001b[0;32m<ipython-input-1-7fb30c6c253f>\u001b[0m in \u001b[0;36m<cell line: 17>\u001b[0;34m()\u001b[0m\n\u001b[1;32m     15\u001b[0m \u001b[0mprint\u001b[0m\u001b[0;34m(\u001b[0m\u001b[0mexp\u001b[0m\u001b[0;34m.\u001b[0m\u001b[0mcount\u001b[0m\u001b[0;34m(\u001b[0m\u001b[0;36m44\u001b[0m\u001b[0;34m)\u001b[0m\u001b[0;34m)\u001b[0m\u001b[0;34m\u001b[0m\u001b[0;34m\u001b[0m\u001b[0m\n\u001b[1;32m     16\u001b[0m \u001b[0;34m\u001b[0m\u001b[0m\n\u001b[0;32m---> 17\u001b[0;31m \u001b[0mprint\u001b[0m\u001b[0;34m(\u001b[0m\u001b[0mexp\u001b[0m\u001b[0;34m.\u001b[0m\u001b[0mcount\u001b[0m\u001b[0;34m(\u001b[0m\u001b[0;36m2\u001b[0m\u001b[0;34m,\u001b[0m\u001b[0;36m3\u001b[0m\u001b[0;34m)\u001b[0m\u001b[0;34m)\u001b[0m \u001b[0;31m# Takes one argument\u001b[0m\u001b[0;34m\u001b[0m\u001b[0;34m\u001b[0m\u001b[0m\n\u001b[0m",
            "\u001b[0;31mTypeError\u001b[0m: list.count() takes exactly one argument (2 given)"
          ]
        }
      ],
      "source": [
        "#count()\n",
        "\n",
        "# counts the given value appeared number of times\n",
        "\n",
        "# syntax expression.count(value)\n",
        "\n",
        "L1=[\"Apples\",\"Mangoes\",\"Bananas\"]\n",
        "\n",
        "print(L1.count(\"Apples\"))  # Returns number\n",
        "\n",
        "exp=[2,3,2,3,24,32,33,44,33,44,4]\n",
        "\n",
        "print(exp.count(33))\n",
        "\n",
        "print(exp.count(44))\n",
        "\n",
        "print(exp.count(2,3)) # Takes one argument"
      ]
    },
    {
      "cell_type": "code",
      "source": [
        "l=[\"Shiva\",\"Karthik\",\"Prrasad\"]\n",
        "for y in enumerate(l):\n",
        "    print(y)"
      ],
      "metadata": {
        "colab": {
          "base_uri": "https://localhost:8080/"
        },
        "id": "dsXFXKCBIbna",
        "outputId": "a99c8c7d-29c7-44ef-9585-461c56bab156"
      },
      "execution_count": null,
      "outputs": [
        {
          "output_type": "stream",
          "name": "stdout",
          "text": [
            "(0, 'Shiva')\n",
            "(1, 'Karthik')\n",
            "(2, 'Prrasad')\n"
          ]
        }
      ]
    },
    {
      "cell_type": "code",
      "execution_count": null,
      "metadata": {
        "colab": {
          "base_uri": "https://localhost:8080/"
        },
        "id": "x3y9q9iWkHo9",
        "outputId": "080096e5-a197-4b5a-880b-3b7f45dd0a62"
      },
      "outputs": [
        {
          "output_type": "stream",
          "name": "stdout",
          "text": [
            "['Apples', 'Mangoes', 'Bananas'] [12, 234, 43, 22] [True, False]\n",
            "\n",
            "['Apples', 'Mangoes', 'Bananas', 'C', 'i', 't', 'r', 'u', 's', 'citrus']\n",
            "\n",
            "[12, 234, 43, 22, 'Apples', 'Mangoes', 'Bananas', 'C', 'i', 't', 'r', 'u', 's', 'citrus']\n",
            "\n",
            "\n",
            "\n",
            "[True, False, 12, 234, 43, 22, 'Apples', 'Mangoes', 'Bananas', 'C', 'i', 't', 'r', 'u', 's', 'citrus']\n",
            "['Apples', 'Mangoes', 'Bananas', 'C', 'i', 't', 'r', 'u', 's', 'citrus', 'Python', 23, True]\n",
            "\n",
            "['Apples', 'Mangoes', 'Bananas', 'C', 'i', 't', 'r', 'u', 's', 'citrus', 'Python', 23, True, 'x', 'y', 'z']\n",
            "None\n"
          ]
        }
      ],
      "source": [
        "#extend()\n",
        "\n",
        "#Extends any value, tuple, list,dict..  at the end\n",
        "\n",
        "L1=[\"Apples\",\"Mangoes\",\"Bananas\"]\n",
        "L2=[12,234,43,22]\n",
        "L3=[True,False]\n",
        "\n",
        "tp=(\"Python\",23,True)\n",
        "dct={\"x\":3,\"y\":4,\"z\":6}\n",
        "\n",
        "print(L1,L2,L3)\n",
        "print()\n",
        "\n",
        "L1.extend('Citrus') # adds each character as string\n",
        "L1.extend(['citrus']) # adds as a single element\n",
        "print(L1)\n",
        "print()\n",
        "\n",
        "L2.extend(L1) #extends 2 lists\n",
        "print(L2)\n",
        "print()\n",
        "\n",
        "\n",
        "print('\\n')\n",
        "L3.extend(L2)  #extends 2 lists\n",
        "print(L3)\n",
        "L1.extend(tp)  # extends tuplewith list\n",
        "print(L1)\n",
        "print()\n",
        "\n",
        "L1.extend(dct) # extends list with dictionary\n",
        "print(L1)\n",
        "\n",
        "print(L1.extend(tp)) # returns None\n",
        "\n"
      ]
    },
    {
      "cell_type": "code",
      "execution_count": null,
      "metadata": {
        "colab": {
          "base_uri": "https://localhost:8080/",
          "height": 245
        },
        "id": "2cGY-nw6mBSO",
        "outputId": "300c6167-586f-49b5-a30f-587b0f0e0663"
      },
      "outputs": [
        {
          "ename": "TypeError",
          "evalue": "ignored",
          "output_type": "error",
          "traceback": [
            "\u001b[0;31m---------------------------------------------------------------------------\u001b[0m",
            "\u001b[0;31mTypeError\u001b[0m                                 Traceback (most recent call last)",
            "\u001b[0;32m<ipython-input-38-30183587e20c>\u001b[0m in \u001b[0;36m<cell line: 1>\u001b[0;34m()\u001b[0m\n\u001b[0;32m----> 1\u001b[0;31m \u001b[0mL3\u001b[0m\u001b[0;34m.\u001b[0m\u001b[0mextend\u001b[0m\u001b[0;34m(\u001b[0m\u001b[0mL2\u001b[0m\u001b[0;34m,\u001b[0m\u001b[0;34m'\\n'\u001b[0m\u001b[0;34m)\u001b[0m  \u001b[0;31m# extend takes only one argument\u001b[0m\u001b[0;34m\u001b[0m\u001b[0;34m\u001b[0m\u001b[0m\n\u001b[0m\u001b[1;32m      2\u001b[0m \u001b[0mprint\u001b[0m\u001b[0;34m(\u001b[0m\u001b[0mL3\u001b[0m\u001b[0;34m)\u001b[0m\u001b[0;34m\u001b[0m\u001b[0;34m\u001b[0m\u001b[0m\n\u001b[1;32m      3\u001b[0m \u001b[0;34m\u001b[0m\u001b[0m\n\u001b[1;32m      4\u001b[0m \u001b[0mL3\u001b[0m\u001b[0;34m.\u001b[0m\u001b[0mextend\u001b[0m\u001b[0;34m(\u001b[0m\u001b[0;34m'\\n'\u001b[0m\u001b[0;34m)\u001b[0m\u001b[0;34m\u001b[0m\u001b[0;34m\u001b[0m\u001b[0m\n\u001b[1;32m      5\u001b[0m \u001b[0mprint\u001b[0m\u001b[0;34m(\u001b[0m\u001b[0mL3\u001b[0m\u001b[0;34m)\u001b[0m\u001b[0;34m\u001b[0m\u001b[0;34m\u001b[0m\u001b[0m\n",
            "\u001b[0;31mTypeError\u001b[0m: list.extend() takes exactly one argument (2 given)"
          ]
        }
      ],
      "source": [
        "L3.extend(L2,'\\n')  # extend takes only one argument\n",
        "print(L3)\n",
        "\n"
      ]
    },
    {
      "cell_type": "code",
      "execution_count": null,
      "metadata": {
        "colab": {
          "base_uri": "https://localhost:8080/"
        },
        "id": "9rKjVEalmeCt",
        "outputId": "32931047-64fc-4907-dc39-53591f43cf84"
      },
      "outputs": [
        {
          "name": "stdout",
          "output_type": "stream",
          "text": [
            "[True, False, 12, 234, 43, 22, 'Apples', 'Mangoes', 'Bananas', 'C', 'i', 't', 'r', 'u', 's', 'citrus', '\\n', '\\n']\n",
            "[True, False, 12, 234, 43, 22, 'Apples', 'Mangoes', 'Bananas', 'C', 'i', 't', 'r', 'u', 's', 'citrus', '\\n', '\\n', '\\n']\n"
          ]
        }
      ],
      "source": [
        "print(L3)\n",
        "L3.extend('\\n')  # takes as new character\n",
        "print(L3)"
      ]
    },
    {
      "cell_type": "code",
      "execution_count": null,
      "metadata": {
        "colab": {
          "base_uri": "https://localhost:8080/"
        },
        "id": "xmVKPeoqphc1",
        "outputId": "2a5b5f14-92ec-4454-e6b9-da5b8469838b"
      },
      "outputs": [
        {
          "name": "stdout",
          "output_type": "stream",
          "text": [
            "2\n",
            "0\n"
          ]
        }
      ],
      "source": [
        "#index\n",
        "#Retuirn the index value in the list of given value\n",
        "#syntax is  expression.index(value)\n",
        "\n",
        "L1=[\"Apples\",\"Mangoes\",\"Bananas\"]\n",
        "inx=L1.index(\"Bananas\")\n",
        "print(inx)\n",
        "\n",
        "L1=[\"Apples\",\"Mangoes\",\"Bananas\", \"Apples\"]\n",
        "inx=L1.index(\"Apples\") # Index returns only first occurance\n",
        "print(inx)\n"
      ]
    },
    {
      "cell_type": "code",
      "execution_count": null,
      "metadata": {
        "colab": {
          "base_uri": "https://localhost:8080/"
        },
        "id": "SSZoLOB8M9QB",
        "outputId": "40d0b26b-a3e1-427e-a927-1b9c8f2bbc6d"
      },
      "outputs": [
        {
          "name": "stdout",
          "output_type": "stream",
          "text": [
            "['Apples', 'Oranges', 'Mangoes', 'Bananas']\n",
            "None\n",
            "['Apples', 'Oranges', 'CHerry', 'Mangoes', 'Bananas']\n"
          ]
        }
      ],
      "source": [
        "#insert()\n",
        "#inserts the value at given index\n",
        "# syntax   exp.insert(index,value)\n",
        "\n",
        "L1=[\"Apples\",\"Mangoes\",\"Bananas\"]\n",
        "L1.insert(1,\"Oranges\") # inserts at 2nd postion i.e [index1]\n",
        "print(L1)\n",
        "print(L1.insert(2,\"CHerry\")) # inserts 3rd position\n",
        "print(L1)"
      ]
    },
    {
      "cell_type": "code",
      "execution_count": null,
      "metadata": {
        "colab": {
          "base_uri": "https://localhost:8080/"
        },
        "id": "LysoFpWGOVVE",
        "outputId": "cf12f357-6499-4313-dfc6-1f40262699f6"
      },
      "outputs": [
        {
          "name": "stdout",
          "output_type": "stream",
          "text": [
            "Mangoes\n",
            "Bananas\n"
          ]
        }
      ],
      "source": [
        "#pop\n",
        "#picks the value at given index\n",
        "\n",
        "L1=[\"Apples\",\"Mangoes\",\"Bananas\"]\n",
        "print(L1.pop(1)) # pops at index[1]\n",
        "\n",
        "print(L1.pop())  # by default pops last value of list"
      ]
    },
    {
      "cell_type": "code",
      "execution_count": null,
      "metadata": {
        "colab": {
          "base_uri": "https://localhost:8080/"
        },
        "id": "CFyDgNT-O1o7",
        "outputId": "c5465323-cb19-4a21-dfa9-345569976170"
      },
      "outputs": [
        {
          "output_type": "stream",
          "name": "stdout",
          "text": [
            "['Apples', 'Bananas']\n",
            "None\n",
            "['Apples']\n"
          ]
        }
      ],
      "source": [
        "#remove()\n",
        "#removes the given value\n",
        "#exp.remove(value)\n",
        "\n",
        "L1=[\"Apples\",\"Mangoes\",\"Bananas\"]\n",
        "L1.remove(\"Mangoes\")\n",
        "print(L1)\n",
        "print(L1.remove(\"Bananas\")) # returns none\n",
        "print(L1)"
      ]
    },
    {
      "cell_type": "code",
      "execution_count": null,
      "metadata": {
        "colab": {
          "base_uri": "https://localhost:8080/"
        },
        "id": "-8rQZ7RuQqnG",
        "outputId": "59ab0821-d281-40d9-e56c-c339f2417c57"
      },
      "outputs": [
        {
          "name": "stdout",
          "output_type": "stream",
          "text": [
            "None\n",
            "['Bananas', 'Mangoes', 'Apples']\n",
            "['Apples', 'Mangoes', 'Bananas']\n"
          ]
        }
      ],
      "source": [
        "# reverse()\n",
        "# reverses the list\n",
        "\n",
        "L1=[\"Apples\",\"Mangoes\",\"Bananas\"]\n",
        "print(L1.reverse())\n",
        "print(L1)\n",
        "\n",
        "L1.reverse()\n",
        "print(L1)\n"
      ]
    },
    {
      "cell_type": "code",
      "execution_count": null,
      "metadata": {
        "colab": {
          "base_uri": "https://localhost:8080/"
        },
        "id": "LTCnoLdZRtjQ",
        "outputId": "a51831d5-94e8-4a8c-d818-5e210d32e420"
      },
      "outputs": [
        {
          "name": "stdout",
          "output_type": "stream",
          "text": [
            "['Apples', 'Bananas', 'Mangoes']\n"
          ]
        }
      ],
      "source": [
        "#sort()\n",
        "#sorts elements in list\n",
        "\n",
        "L1=[\"Apples\",\"Mangoes\",\"Bananas\"]\n",
        "\n",
        "L1.sort() #Ascending order\n",
        "print(L1)"
      ]
    },
    {
      "cell_type": "code",
      "execution_count": null,
      "metadata": {
        "colab": {
          "base_uri": "https://localhost:8080/"
        },
        "id": "YQZYg5DISXtR",
        "outputId": "85d1dff9-215a-4df4-e4f2-4c1e0d8144d5"
      },
      "outputs": [
        {
          "name": "stdout",
          "output_type": "stream",
          "text": [
            "['Mangoes', 'Bananas', 'Apples']\n"
          ]
        }
      ],
      "source": [
        "L1.sort(reverse=True) # descending order\n",
        "print(L1)"
      ]
    },
    {
      "cell_type": "code",
      "execution_count": null,
      "metadata": {
        "id": "HdFOy8hgSccr"
      },
      "outputs": [],
      "source": []
    },
    {
      "cell_type": "markdown",
      "metadata": {
        "id": "7H1wGxYSTPRO"
      },
      "source": [
        "#**Tuple()**\n",
        "\n",
        "\n",
        "Tuples are represented with ()\n",
        "\n",
        "Tuples are used to store multiple values  together.\n",
        "\n",
        "Tuples are collection of items and ordered and  unchangeable/unmutable\n",
        "\n",
        "Ordered means We can not change its order of elements from its position\n",
        "\n",
        "Unchangeable/Unutable means we can not add or delete elements\n",
        "\n",
        "Tuples are indexed. we can access tuple items by its index values\n",
        "\n",
        "tuples can have duplicate values"
      ]
    },
    {
      "cell_type": "code",
      "execution_count": null,
      "metadata": {
        "colab": {
          "base_uri": "https://localhost:8080/"
        },
        "id": "OnWGXfyVUWot",
        "outputId": "461a2994-5c9f-4ebe-c1ff-329ccd9d4434"
      },
      "outputs": [
        {
          "output_type": "stream",
          "name": "stdout",
          "text": [
            "('Apples', 'Mangoes', 'Bananas')\n"
          ]
        }
      ],
      "source": [
        "L1=(\"Apples\",\"Mangoes\",\"Bananas\")\n",
        "\n",
        "print(L1)"
      ]
    },
    {
      "cell_type": "code",
      "execution_count": null,
      "metadata": {
        "colab": {
          "base_uri": "https://localhost:8080/"
        },
        "id": "_Lh_G6NgVe5j",
        "outputId": "d2801476-0897-4183-83f7-753aecf093cd"
      },
      "outputs": [
        {
          "name": "stdout",
          "output_type": "stream",
          "text": [
            "('Apples', 'Mangoes', 'Bananas', 'Apples', 'Bananas')\n"
          ]
        }
      ],
      "source": [
        "tup= (\"Apples\",\"Mangoes\",\"Bananas\",'Apples',\"Bananas\")\n",
        "\n",
        "print(tup) # duplicate elements"
      ]
    },
    {
      "cell_type": "code",
      "execution_count": null,
      "metadata": {
        "colab": {
          "base_uri": "https://localhost:8080/"
        },
        "id": "klHXUIFHVxfk",
        "outputId": "d0eba8a3-50cc-48d5-cfce-8726ff5e4c71"
      },
      "outputs": [
        {
          "name": "stdout",
          "output_type": "stream",
          "text": [
            "5\n"
          ]
        }
      ],
      "source": [
        "#len()\n",
        "# length of tuple\n",
        "\n",
        "tup= (\"Apples\",\"Mangoes\",\"Bananas\",'Apples',\"Bananas\")\n",
        "print(len(tup))\n",
        "\n"
      ]
    },
    {
      "cell_type": "code",
      "execution_count": null,
      "metadata": {
        "colab": {
          "base_uri": "https://localhost:8080/"
        },
        "id": "Z-w5vt0-Wt4l",
        "outputId": "25ac4cf8-d128-4154-901d-91614befe8a3"
      },
      "outputs": [
        {
          "name": "stdout",
          "output_type": "stream",
          "text": [
            "('Apple',)\n",
            "<class 'tuple'>\n",
            "\n",
            "Apple\n",
            "<class 'str'>\n"
          ]
        }
      ],
      "source": [
        "#tuple with one element\n",
        "# must use  comma (,)\n",
        "\n",
        "tup1=(\"Apple\",)  # tuple with one element\n",
        "print(tup1)\n",
        "print(type(tup1))\n",
        "\n",
        "print()\n",
        "#Non tuple\n",
        "ntup=(\"Apple\") # its a string , not a tuple\n",
        "print(ntup)\n",
        "print(type(ntup))\n"
      ]
    },
    {
      "cell_type": "markdown",
      "metadata": {
        "id": "32xQtMjSYrI-"
      },
      "source": [
        "** to differentiate one element tuple with string, we use comma(,)  in tuple**"
      ]
    },
    {
      "cell_type": "code",
      "execution_count": null,
      "metadata": {
        "colab": {
          "base_uri": "https://localhost:8080/"
        },
        "id": "tPLadpxwY1Ad",
        "outputId": "a3f84519-0608-4945-973f-918410ee4eb2"
      },
      "outputs": [
        {
          "name": "stdout",
          "output_type": "stream",
          "text": [
            "('Apples', 1, True)\n"
          ]
        }
      ],
      "source": [
        "#tuple with multiple data types\n",
        "tup= (\"Apples\",\"Mangoes\",\"Bananas\",'Apples',\"Bananas\")\n",
        "tup1=(\"Cherry\",)\n",
        "tup2=(1,3,4,5)\n",
        "tup3=(True,False,True)\n",
        "multup=(\"Apples\",1,True)\n",
        "print(multup)"
      ]
    },
    {
      "cell_type": "code",
      "execution_count": null,
      "metadata": {
        "colab": {
          "base_uri": "https://localhost:8080/",
          "height": 193
        },
        "id": "Nce_hZ0gZP5e",
        "outputId": "88ec9660-de16-46d0-a114-e356f856de33"
      },
      "outputs": [
        {
          "ename": "AttributeError",
          "evalue": "ignored",
          "output_type": "error",
          "traceback": [
            "\u001b[0;31m---------------------------------------------------------------------------\u001b[0m",
            "\u001b[0;31mAttributeError\u001b[0m                            Traceback (most recent call last)",
            "\u001b[0;32m<ipython-input-40-23742a6ec0f6>\u001b[0m in \u001b[0;36m<cell line: 1>\u001b[0;34m()\u001b[0m\n\u001b[0;32m----> 1\u001b[0;31m \u001b[0mtup\u001b[0m\u001b[0;34m.\u001b[0m\u001b[0mextend\u001b[0m\u001b[0;34m(\u001b[0m\u001b[0mtup1\u001b[0m\u001b[0;34m)\u001b[0m  \u001b[0;31m# gives error becasue we cant modify tuple\u001b[0m\u001b[0;34m\u001b[0m\u001b[0;34m\u001b[0m\u001b[0m\n\u001b[0m\u001b[1;32m      2\u001b[0m \u001b[0mprint\u001b[0m\u001b[0;34m(\u001b[0m\u001b[0mtup\u001b[0m\u001b[0;34m)\u001b[0m\u001b[0;34m\u001b[0m\u001b[0;34m\u001b[0m\u001b[0m\n",
            "\u001b[0;31mAttributeError\u001b[0m: 'tuple' object has no attribute 'extend'"
          ]
        }
      ],
      "source": [
        "tup.extend(tup1)  # gives error becasue we cant modify tuple\n",
        "print(tup)"
      ]
    },
    {
      "cell_type": "code",
      "execution_count": null,
      "metadata": {
        "colab": {
          "base_uri": "https://localhost:8080/",
          "height": 245
        },
        "id": "ks-9LFyWZkUe",
        "outputId": "da1a0244-4df7-4130-849d-65e340469327"
      },
      "outputs": [
        {
          "ename": "AttributeError",
          "evalue": "ignored",
          "output_type": "error",
          "traceback": [
            "\u001b[0;31m---------------------------------------------------------------------------\u001b[0m",
            "\u001b[0;31mAttributeError\u001b[0m                            Traceback (most recent call last)",
            "\u001b[0;32m<ipython-input-42-3915b0d7526c>\u001b[0m in \u001b[0;36m<cell line: 4>\u001b[0;34m()\u001b[0m\n\u001b[1;32m      2\u001b[0m \u001b[0;34m\u001b[0m\u001b[0m\n\u001b[1;32m      3\u001b[0m \u001b[0mtup\u001b[0m\u001b[0;34m=\u001b[0m \u001b[0;34m(\u001b[0m\u001b[0;34m\"Apples\"\u001b[0m\u001b[0;34m,\u001b[0m\u001b[0;34m\"Mangoes\"\u001b[0m\u001b[0;34m,\u001b[0m\u001b[0;34m\"Bananas\"\u001b[0m\u001b[0;34m,\u001b[0m\u001b[0;34m'Apples'\u001b[0m\u001b[0;34m,\u001b[0m\u001b[0;34m\"Bananas\"\u001b[0m\u001b[0;34m)\u001b[0m\u001b[0;34m\u001b[0m\u001b[0;34m\u001b[0m\u001b[0m\n\u001b[0;32m----> 4\u001b[0;31m \u001b[0mtup\u001b[0m\u001b[0;34m.\u001b[0m\u001b[0mappend\u001b[0m\u001b[0;34m(\u001b[0m\u001b[0;34m\"Cherry\"\u001b[0m\u001b[0;34m)\u001b[0m\u001b[0;34m\u001b[0m\u001b[0;34m\u001b[0m\u001b[0m\n\u001b[0m\u001b[1;32m      5\u001b[0m \u001b[0mprint\u001b[0m\u001b[0;34m(\u001b[0m\u001b[0mtup\u001b[0m\u001b[0;34m)\u001b[0m   \u001b[0;31m# can not add\u001b[0m\u001b[0;34m\u001b[0m\u001b[0;34m\u001b[0m\u001b[0m\n\u001b[1;32m      6\u001b[0m \u001b[0;34m\u001b[0m\u001b[0m\n",
            "\u001b[0;31mAttributeError\u001b[0m: 'tuple' object has no attribute 'append'"
          ]
        }
      ],
      "source": [
        "#errors in tuple\n",
        "\n",
        "tup= (\"Apples\",\"Mangoes\",\"Bananas\",'Apples',\"Bananas\")\n",
        "tup.append(\"Cherry\")\n",
        "print(tup)   # can not add, becasue its ordered\n",
        "\n"
      ]
    },
    {
      "cell_type": "code",
      "execution_count": null,
      "metadata": {
        "colab": {
          "base_uri": "https://localhost:8080/",
          "height": 227
        },
        "id": "DtBeEJB7a6jE",
        "outputId": "1d79bebf-fa4e-4aa8-f834-eb92bb56be22"
      },
      "outputs": [
        {
          "ename": "AttributeError",
          "evalue": "ignored",
          "output_type": "error",
          "traceback": [
            "\u001b[0;31m---------------------------------------------------------------------------\u001b[0m",
            "\u001b[0;31mAttributeError\u001b[0m                            Traceback (most recent call last)",
            "\u001b[0;32m<ipython-input-43-94ee6aed4c65>\u001b[0m in \u001b[0;36m<cell line: 3>\u001b[0;34m()\u001b[0m\n\u001b[1;32m      1\u001b[0m \u001b[0mtup\u001b[0m\u001b[0;34m=\u001b[0m \u001b[0;34m(\u001b[0m\u001b[0;34m\"Apples\"\u001b[0m\u001b[0;34m,\u001b[0m\u001b[0;34m\"Mangoes\"\u001b[0m\u001b[0;34m,\u001b[0m\u001b[0;34m\"Bananas\"\u001b[0m\u001b[0;34m,\u001b[0m\u001b[0;34m'Apples'\u001b[0m\u001b[0;34m,\u001b[0m\u001b[0;34m\"Bananas\"\u001b[0m\u001b[0;34m)\u001b[0m\u001b[0;34m\u001b[0m\u001b[0;34m\u001b[0m\u001b[0m\n\u001b[1;32m      2\u001b[0m \u001b[0;34m\u001b[0m\u001b[0m\n\u001b[0;32m----> 3\u001b[0;31m \u001b[0mtup\u001b[0m\u001b[0;34m.\u001b[0m\u001b[0mremove\u001b[0m\u001b[0;34m(\u001b[0m\u001b[0;34m[\u001b[0m\u001b[0;36m2\u001b[0m\u001b[0;34m]\u001b[0m\u001b[0;34m)\u001b[0m\u001b[0;34m\u001b[0m\u001b[0;34m\u001b[0m\u001b[0m\n\u001b[0m\u001b[1;32m      4\u001b[0m \u001b[0mprint\u001b[0m\u001b[0;34m(\u001b[0m\u001b[0mtup\u001b[0m\u001b[0;34m)\u001b[0m\u001b[0;34m\u001b[0m\u001b[0;34m\u001b[0m\u001b[0m\n",
            "\u001b[0;31mAttributeError\u001b[0m: 'tuple' object has no attribute 'remove'"
          ]
        }
      ],
      "source": [
        "#errors in tuple\n",
        "\n",
        "tup= (\"Apples\",\"Mangoes\",\"Bananas\",'Apples',\"Bananas\")\n",
        "\n",
        "tup.remove([2]) can not remove bacasue its immutabe\n",
        "print(tup)"
      ]
    },
    {
      "cell_type": "code",
      "execution_count": null,
      "metadata": {
        "colab": {
          "base_uri": "https://localhost:8080/"
        },
        "id": "Zvb6OKJebH5i",
        "outputId": "86d357da-4e99-41aa-8ff1-cd7556327c8e"
      },
      "outputs": [
        {
          "name": "stdout",
          "output_type": "stream",
          "text": [
            "('Apples', 'Mangoes', 'Bananas', 'Apples', 'Bananas')\n",
            "('Apples', 'Mangoes', 'Bananas', 'Apples', 'Bananas')\n"
          ]
        }
      ],
      "source": [
        "#Tuple constructor\n",
        "#to create new tuple\n",
        "# syntax is tuple(())\n",
        "\n",
        "tup= (\"Apples\",\"Mangoes\",\"Bananas\",'Apples',\"Bananas\")\n",
        "new_tup=tuple((\"Apples\",\"Mangoes\",\"Bananas\",'Apples',\"Bananas\"))\n",
        "print(new_tup)\n",
        "print(tup)\n"
      ]
    },
    {
      "cell_type": "code",
      "execution_count": null,
      "metadata": {
        "id": "NVAtTA0kddiq"
      },
      "outputs": [],
      "source": []
    },
    {
      "cell_type": "markdown",
      "metadata": {
        "id": "-C71GTnNeDHs"
      },
      "source": [
        "**Access Tuples**\n",
        "\n",
        "Tuples can be added using indexing"
      ]
    },
    {
      "cell_type": "code",
      "execution_count": null,
      "metadata": {
        "colab": {
          "base_uri": "https://localhost:8080/"
        },
        "id": "CPYyvBEeeSKm",
        "outputId": "ed4fe433-0be5-4713-d164-3122b5fff487"
      },
      "outputs": [
        {
          "output_type": "stream",
          "name": "stdout",
          "text": [
            "Bananas\n",
            "('Mangoes', 'Bananas', 'Apples')\n",
            "('Bananas', 'Apples')\n",
            "('Apples', 'Mangoes', 'Bananas', 'Apples', 'Bananas')\n",
            "('Apples', 'Mangoes', 'Bananas')\n",
            "('Apples', 'Mangoes', 'Bananas')\n"
          ]
        }
      ],
      "source": [
        "tup= (\"Apples\",\"Mangoes\",\"Bananas\",'Apples',\"Bananas\")\n",
        "\n",
        "print(tup[2]) #3rd element\n",
        "\n",
        "print(tup[1:4]) # slicing method to accesss elements from 2nd element to 4-1=3rd element\n",
        "\n",
        "print(tup[-3:-1]) # negative indexing i.e prints 3rd elemnt and 2nd element  i.e.-1-1=-2\n",
        "\n",
        "print(tup[0:]) #start at[0] to end of the tuple\n",
        "\n",
        "print(tup[:3]) # access upto 3rd index i.e 2 values\n",
        "\n",
        "print(tup[:-2])  # access from [0]  to next to 2nd last element in reverse. dont prints 2nd last element"
      ]
    },
    {
      "cell_type": "code",
      "execution_count": null,
      "metadata": {
        "colab": {
          "base_uri": "https://localhost:8080/"
        },
        "id": "R2f5uqRLeYao",
        "outputId": "ac30cdcb-0027-4f0a-f5a8-c4928cf1cec0"
      },
      "outputs": [
        {
          "name": "stdout",
          "output_type": "stream",
          "text": [
            "Apples\n"
          ]
        }
      ],
      "source": [
        "#checks item exists\n",
        "\n",
        "tup= (\"Apples\",\"Mangoes\",\"Bananas\",'Apples',\"Bananas\")\n",
        "\n",
        "print(tup[3])"
      ]
    },
    {
      "cell_type": "code",
      "execution_count": null,
      "metadata": {
        "colab": {
          "base_uri": "https://localhost:8080/"
        },
        "id": "6Ed9z3l3g8e7",
        "outputId": "51586f7f-db1c-47aa-b8fe-26df1cb86168"
      },
      "outputs": [
        {
          "name": "stdout",
          "output_type": "stream",
          "text": [
            "Yes\n"
          ]
        }
      ],
      "source": [
        "tup= (\"Apples\",\"Mangoes\",\"Bananas\",'Apples',\"Bananas\")\n",
        "\n",
        "if \"Apples\" in tup: print(\"Yes\")"
      ]
    },
    {
      "cell_type": "code",
      "execution_count": null,
      "metadata": {
        "colab": {
          "base_uri": "https://localhost:8080/"
        },
        "id": "FpeNbyo_hmtp",
        "outputId": "c85e37c5-2425-442f-c165-406a9a4c7e2b"
      },
      "outputs": [
        {
          "name": "stdout",
          "output_type": "stream",
          "text": [
            "('a', 'b', 'c')\n",
            "['a', 'b', 'c']\n"
          ]
        }
      ],
      "source": [
        "#tuple Comprehension\n",
        "# Also called as generator\n",
        "\n",
        "lis=[\"a\",\"b\",\"c\"]\n",
        "\n",
        "tup= tuple(lis)\n",
        "print(tup)\n",
        "print(lis)\n",
        "\n",
        "\n"
      ]
    },
    {
      "cell_type": "code",
      "execution_count": null,
      "metadata": {
        "id": "msmv8bm8hynL"
      },
      "outputs": [],
      "source": []
    },
    {
      "cell_type": "markdown",
      "metadata": {
        "id": "yBtjVf0Gj4Ss"
      },
      "source": [
        "**To convert a list into tuple we use () .also callled as generators**\n",
        "\n",
        "a generator ()  converts a list to tuple\n",
        "\n"
      ]
    },
    {
      "cell_type": "code",
      "execution_count": null,
      "metadata": {
        "colab": {
          "base_uri": "https://localhost:8080/"
        },
        "id": "10gP__gQkI_G",
        "outputId": "d8a4a132-bd6b-4e6e-8431-1999822e9e55"
      },
      "outputs": [
        {
          "name": "stdout",
          "output_type": "stream",
          "text": [
            "Tuple conversion using generator:: ['a', 'b', 'c']\n",
            "tuple conversion using tuple() constructor:: ('a', 'b', 'c')\n"
          ]
        }
      ],
      "source": [
        "#converts a list to tuple\n",
        "\n",
        "lis= [\"a\",\"b\",\"c\"]\n",
        "tup=(lis)\n",
        "print(\"Tuple conversion using generator::\",tup)\n",
        "\n",
        "#OR\n",
        "\n",
        "tup1=tuple(lis)\n",
        "print(\"tuple conversion using tuple() constructor::\",tup1)\n"
      ]
    },
    {
      "cell_type": "code",
      "execution_count": null,
      "metadata": {
        "colab": {
          "base_uri": "https://localhost:8080/"
        },
        "id": "U0FpVqqIknr7",
        "outputId": "1ce88c8e-d8d6-43df-ae84-0cd31f567246"
      },
      "outputs": [
        {
          "name": "stdout",
          "output_type": "stream",
          "text": [
            "(1, 4, 9, 16)\n"
          ]
        }
      ],
      "source": [
        "#ex2\n",
        "\n",
        "l1=[1,2,3,4]\n",
        "t1=tuple((i**2) for i in l1) # square roots l1\n",
        "print(t1)"
      ]
    },
    {
      "cell_type": "code",
      "execution_count": null,
      "metadata": {
        "id": "bI2Y4plJk-JA"
      },
      "outputs": [],
      "source": []
    },
    {
      "cell_type": "markdown",
      "metadata": {
        "id": "lP7B33ILmpMX"
      },
      "source": []
    },
    {
      "cell_type": "markdown",
      "metadata": {
        "id": "HDaqnnvzmpc4"
      },
      "source": [
        "**Even thoouh tuples are immutable or unchangeble, we can use some methods to change tupple**\n",
        "\n",
        "list()  .using list method we convert tuple into list , then by using\n",
        "\n",
        "tuple() method we can convert the list to same tuple again\n"
      ]
    },
    {
      "cell_type": "code",
      "execution_count": null,
      "metadata": {
        "colab": {
          "base_uri": "https://localhost:8080/"
        },
        "id": "G86eDcUPnP8y",
        "outputId": "88f8eaf7-61ca-4290-fa1c-82a813f1b5ee"
      },
      "outputs": [
        {
          "name": "stdout",
          "output_type": "stream",
          "text": [
            "Original Tuple:: ('Apples', 'Mangoes', 'Bananas', 'Apples', 'Bananas')\n",
            "<class 'tuple'>\n",
            "<class 'list'>\n",
            "['Apples', 'Mangoes', 'Bananas', 'Apples', 'Bananas', 'cherrys']\n",
            "New item added to tuple:: ('Apples', 'Mangoes', 'Bananas', 'Apples', 'Bananas', 'cherrys')\n",
            "<class 'tuple'>\n"
          ]
        }
      ],
      "source": [
        "tup= (\"Apples\",\"Mangoes\",\"Bananas\",'Apples',\"Bananas\")\n",
        "print(\"Original Tuple::\",tup)\n",
        "print(type(tup))\n",
        "new=list(tup)   # converted tuple to list using list() method\n",
        "print(type(new))  # tuple converted to list\n",
        "\n",
        "new.append(\"cherrys\")   # new value added to list\n",
        "print(new)\n",
        "\n",
        "tup=tuple(new)  # now converted list to tuple using tuple() method\n",
        "print(\"New item added to tuple::\",tup)\n",
        "print(type(tup)) # tuple added new value"
      ]
    },
    {
      "cell_type": "code",
      "execution_count": null,
      "metadata": {
        "colab": {
          "base_uri": "https://localhost:8080/",
          "height": 245
        },
        "id": "qx8RfA0SnlNE",
        "outputId": "a790dd22-de66-4fa8-9f3c-ac27f0e3be67"
      },
      "outputs": [
        {
          "name": "stdout",
          "output_type": "stream",
          "text": [
            "('Apples', 'Mangoes', 'Bananas', 'Apples', 'Bananas', 2)\n"
          ]
        },
        {
          "ename": "TypeError",
          "evalue": "ignored",
          "output_type": "error",
          "traceback": [
            "\u001b[0;31m---------------------------------------------------------------------------\u001b[0m",
            "\u001b[0;31mTypeError\u001b[0m                                 Traceback (most recent call last)",
            "\u001b[0;32m<ipython-input-79-959452a8dc8e>\u001b[0m in \u001b[0;36m<cell line: 9>\u001b[0;34m()\u001b[0m\n\u001b[1;32m      7\u001b[0m \u001b[0mprint\u001b[0m\u001b[0;34m(\u001b[0m\u001b[0mtup\u001b[0m\u001b[0;34m)\u001b[0m\u001b[0;34m\u001b[0m\u001b[0;34m\u001b[0m\u001b[0m\n\u001b[1;32m      8\u001b[0m \u001b[0;34m\u001b[0m\u001b[0m\n\u001b[0;32m----> 9\u001b[0;31m \u001b[0mtup\u001b[0m \u001b[0;34m-=\u001b[0m \u001b[0mtup2\u001b[0m\u001b[0;34m\u001b[0m\u001b[0;34m\u001b[0m\u001b[0m\n\u001b[0m\u001b[1;32m     10\u001b[0m \u001b[0mprint\u001b[0m\u001b[0;34m(\u001b[0m\u001b[0mtup\u001b[0m\u001b[0;34m)\u001b[0m\u001b[0;34m\u001b[0m\u001b[0;34m\u001b[0m\u001b[0m\n",
            "\u001b[0;31mTypeError\u001b[0m: unsupported operand type(s) for -=: 'tuple' and 'tuple'"
          ]
        }
      ],
      "source": [
        "#Adding 2 tuples\n",
        "\n",
        "tup= (\"Apples\",\"Mangoes\",\"Bananas\",'Apples',\"Bananas\")\n",
        "tup2=(2,)\n",
        "\n",
        "tup += tup2  #adds 2 tuple\n",
        "print(tup)\n",
        "\n",
        "tup -= tup2  # error can not remove\n",
        "print(tup)"
      ]
    },
    {
      "cell_type": "code",
      "execution_count": null,
      "metadata": {
        "colab": {
          "base_uri": "https://localhost:8080/"
        },
        "id": "EtLsf3DWpEv0",
        "outputId": "d2b91bb6-8d5d-415b-be0c-363cf61a82c4"
      },
      "outputs": [
        {
          "name": "stdout",
          "output_type": "stream",
          "text": [
            "Before removing ('Apples', 'Mangoes', 'Bananas', 'Apples', 'Bananas') <class 'tuple'>\n",
            "List:: ['Mangoes', 'Bananas', 'Apples', 'Bananas'] <class 'list'>\n",
            "After remvoing :: ('Mangoes', 'Bananas', 'Apples', 'Bananas') <class 'tuple'>\n"
          ]
        }
      ],
      "source": [
        "# Removing Tuple items\n",
        "\n",
        "tup= (\"Apples\",\"Mangoes\",\"Bananas\",'Apples',\"Bananas\")\n",
        "print(\"Before removing\", tup, type(tup))\n",
        "\n",
        "new = list(tup)  # convert to list\n",
        "new.remove(\"Apples\")\n",
        "print(\"List::\",new, type(new))\n",
        "\n",
        "tup=tuple(new)  # converts list to  tuple\n",
        "print(\"After remvoing ::\", tup, type(tup))"
      ]
    },
    {
      "cell_type": "code",
      "execution_count": null,
      "metadata": {
        "id": "B0ywaQ2vqKEO"
      },
      "outputs": [],
      "source": []
    },
    {
      "cell_type": "code",
      "execution_count": null,
      "metadata": {
        "id": "1sMAgxD0sk8L"
      },
      "outputs": [],
      "source": []
    },
    {
      "cell_type": "markdown",
      "metadata": {
        "id": "10TlezQErgvQ"
      },
      "source": [
        "#**Unpacking and Packing**\n",
        "\n",
        "packing >> tup= (\"Apples\",\"Mangoes\",\"Bananas\",'Apples',\"Bananas\")\n",
        "\n",
        "Here we packed all value sinto a tuple called named as tup\n",
        "\n",
        "Unpacking >> (a,b,c)=tup\n",
        "\n",
        "Here we are accessing each variable from tuple to access seperately\n",
        "\n",
        "This is useful when weare working with fucntions, when we receving multiple values from a function()  as tuples  and we want to collect those values into sperate variables, we use this.\n"
      ]
    },
    {
      "cell_type": "code",
      "execution_count": null,
      "metadata": {
        "colab": {
          "base_uri": "https://localhost:8080/"
        },
        "id": "AmJv7gwCr7gz",
        "outputId": "85a57f54-9dc9-4075-c59d-4630caeec6d7"
      },
      "outputs": [
        {
          "name": "stdout",
          "output_type": "stream",
          "text": [
            "Bananas\n",
            "Apples\n",
            "Mangoes\n",
            "Bananas Apples Bananas\n",
            "A p p l e s\n",
            "['Mangoes', 'Bananas', 'Apples', 'Bananas']\n",
            "Apples Mangoes Bananas Apples Bananas\n"
          ]
        }
      ],
      "source": [
        "tup= (\"Apples\",\"Mangoes\",\"Bananas\",'Apples',\"Bananas\") # packed\n",
        "\n",
        "print(tup[2])\n",
        "\n",
        "(a,b,c,d,e)  = tup   # unpacked the tuple\n",
        "# here a = \"Apples\" b= \"Mangoes\" c=\"Bananas\" d=\"Apples\" e=\"Bananas\"\n",
        "print(a)  #unpacked tuple 1st element\n",
        "print(b)\n",
        "print(c,d,e)\n",
        "print(*a)  # converts to seperate itemeach character\n",
        "\n",
        "(a,*val)=tup   #extract allvalues fromt tuple\n",
        "print(val)  # here except 2st value remainign are all converted a list. also called as extended unpacking\n",
        "print(a,*val) # Extracts all variable seperately,  but not list\n",
        "\n",
        "\n",
        "\n",
        "\n"
      ]
    },
    {
      "cell_type": "code",
      "execution_count": null,
      "metadata": {
        "colab": {
          "base_uri": "https://localhost:8080/"
        },
        "id": "dfOpBB_8s0jJ",
        "outputId": "1db682d1-5cf9-40fc-b59f-5ead50e463df"
      },
      "outputs": [
        {
          "name": "stdout",
          "output_type": "stream",
          "text": [
            "A p p l e s\n"
          ]
        }
      ],
      "source": [
        "print(*\"Apples\")  #prints each character to sepearte variable"
      ]
    },
    {
      "cell_type": "code",
      "execution_count": null,
      "metadata": {
        "colab": {
          "base_uri": "https://localhost:8080/"
        },
        "id": "xGR_rzyTvNBg",
        "outputId": "ba910724-75a1-4670-ef28-cfe4dee687a7"
      },
      "outputs": [
        {
          "name": "stdout",
          "output_type": "stream",
          "text": [
            "<class 'tuple'>\n",
            "<class 'tuple'>\n",
            "<class 'tuple'>\n",
            "<class 'tuple'>\n",
            "((10, 125, 5.0), (12, 216, 6.0), (14, 343, 7.0))\n",
            "\n",
            " 1st tuple:: (10, 125, 5.0) \n",
            " 2nd tuple:: (12, 216, 6.0) \n",
            " 3rdtuple:: (14, 343, 7.0)\n",
            "10\n",
            "125\n",
            "5.0\n",
            "\n",
            "\n",
            "12\n",
            "216\n",
            "6.0\n",
            "\n",
            "\n",
            "14\n",
            "343\n",
            "7.0\n"
          ]
        }
      ],
      "source": [
        "# Actual usage of unpacking in tuple\n",
        "\n",
        "def my_fun(a,b,c):\n",
        "    t1=(a*2,a**3,a/1)   # creating tuple\n",
        "    print(type(t1))\n",
        "\n",
        "    t2=(b*2,b**3,b/1)\n",
        "    print(type(t2))\n",
        "\n",
        "    t3=(c*2,c**3,c/1)\n",
        "    print(type(t3))\n",
        "\n",
        "    return(t1,t2,t3)\n",
        "\n",
        "\n",
        "tup=(my_fun(5,6,7))\n",
        "\n",
        "print(type(tup))\n",
        "print(tup)\n",
        "\n",
        "(x,y,z)=tup\n",
        "print(\"\\n\",\"1st tuple::\",x,'\\n',\"2nd tuple::\",y,'\\n',\"3rdtuple::\",z)\n",
        "\n",
        "(a0,b0,c0)=x\n",
        "print(a0)\n",
        "print(b0)\n",
        "print(c0)\n",
        "print()\n",
        "print()\n",
        "\n",
        "(a1,a2,a3)=y\n",
        "print(a1)\n",
        "print(a2)\n",
        "print(a3)\n",
        "print()\n",
        "print()\n",
        "\n",
        "(b1,b2,b3)=z\n",
        "print(b1)\n",
        "print(b2)\n",
        "print(b3)\n",
        "\n",
        "\n",
        "\n"
      ]
    },
    {
      "cell_type": "code",
      "execution_count": null,
      "metadata": {
        "id": "tQvwcPoOxzm3"
      },
      "outputs": [],
      "source": []
    },
    {
      "cell_type": "markdown",
      "metadata": {
        "id": "fy4bLUp82YmY"
      },
      "source": [
        "**Loops in Tuple**"
      ]
    },
    {
      "cell_type": "code",
      "execution_count": null,
      "metadata": {
        "colab": {
          "base_uri": "https://localhost:8080/"
        },
        "id": "-VDuOQEB2a6n",
        "outputId": "7c8f089a-6b7b-4997-eb70-3c7bd1719b10"
      },
      "outputs": [
        {
          "name": "stdout",
          "output_type": "stream",
          "text": [
            "Apples\n",
            "Mangoes\n",
            "Bananas\n",
            "Apples\n",
            "Bananas\n"
          ]
        }
      ],
      "source": [
        "# for Loop\n",
        "\n",
        "tup= (\"Apples\",\"Mangoes\",\"Bananas\",'Apples',\"Bananas\")\n",
        "\n",
        "for i in tup:\n",
        "    print(i)\n"
      ]
    },
    {
      "cell_type": "code",
      "execution_count": null,
      "metadata": {
        "colab": {
          "base_uri": "https://localhost:8080/"
        },
        "id": "GgPh2LR03FcZ",
        "outputId": "586fb190-ff87-4fb1-dace-ed2259da678a"
      },
      "outputs": [
        {
          "name": "stdout",
          "output_type": "stream",
          "text": [
            "length:: 5\n",
            "Apples  Mangoes  Bananas  Apples  Bananas  "
          ]
        }
      ],
      "source": [
        "# using  range() and len() functions\n",
        "\n",
        "tup= (\"Apples\",\"Mangoes\",\"Bananas\",'Apples',\"Bananas\")\n",
        "\n",
        "print(\"length::\",len(tup))\n",
        "\n",
        "for i in range(len(tup)):\n",
        "    print(tup[i],end=\"  \")\n"
      ]
    },
    {
      "cell_type": "code",
      "execution_count": null,
      "metadata": {
        "colab": {
          "base_uri": "https://localhost:8080/"
        },
        "id": "SooxcnsH3RXv",
        "outputId": "7da8d6bb-ce37-4134-dbaa-8adf8221f666"
      },
      "outputs": [
        {
          "name": "stdout",
          "output_type": "stream",
          "text": [
            "length:: 5\n",
            "Apples  Mangoes  Bananas  Apples  Bananas  "
          ]
        }
      ],
      "source": [
        "# using  range() and len() functions\n",
        "\n",
        "tup1= (\"Apples\",\"Mangoes\",\"Bananas\",'Apples',\"Bananas\")\n",
        "\n",
        "print(\"length::\",len(tup1))\n",
        "\n",
        "for i in range(0,len(tup1)):\n",
        "    print(tup1[i],end=\"  \")\n"
      ]
    },
    {
      "cell_type": "code",
      "execution_count": null,
      "metadata": {
        "colab": {
          "base_uri": "https://localhost:8080/"
        },
        "id": "KEAn0oYx3yy6",
        "outputId": "3c1792db-9268-4cbb-f06b-df74b73f8c2d"
      },
      "outputs": [
        {
          "name": "stdout",
          "output_type": "stream",
          "text": [
            "length:: 5\n",
            "Apples  Mangoes  Bananas  "
          ]
        }
      ],
      "source": [
        "# using  range() and len() functions\n",
        "\n",
        "tup1= (\"Apples\",\"Mangoes\",\"Bananas\",'Apples',\"Bananas\")\n",
        "\n",
        "print(\"length::\",len(tup1))\n",
        "\n",
        "for i in range(0,len(tup1[:-2])):\n",
        "    print(tup1[i],end=\"  \")"
      ]
    },
    {
      "cell_type": "code",
      "execution_count": null,
      "metadata": {
        "colab": {
          "base_uri": "https://localhost:8080/"
        },
        "id": "qw9kavKh40XG",
        "outputId": "133b3590-6a92-45dd-8c1d-cde76e41b389"
      },
      "outputs": [
        {
          "name": "stdout",
          "output_type": "stream",
          "text": [
            "length:: 5\n",
            "Apples  Mangoes  Bananas  Apples  Bananas  "
          ]
        }
      ],
      "source": [
        "# tuples using while loop\n",
        "\n",
        "# using  range() and len() functions\n",
        "\n",
        "tup1= (\"Apples\",\"Mangoes\",\"Bananas\",'Apples',\"Bananas\")\n",
        "\n",
        "print(\"length::\",len(tup1))\n",
        "\n",
        "i=0\n",
        "\n",
        "while i < len(tup1):\n",
        "    print(tup1[i],end=\"  \")\n",
        "    i += 1"
      ]
    },
    {
      "cell_type": "code",
      "execution_count": null,
      "metadata": {
        "colab": {
          "base_uri": "https://localhost:8080/"
        },
        "id": "4WDblck25UgF",
        "outputId": "0fa8742c-1a34-461f-8b1b-9fde1ec19314"
      },
      "outputs": [
        {
          "name": "stdout",
          "output_type": "stream",
          "text": [
            "('Shiva', 'Karthkeya', 'Nandhini', 'Prrasad', 'Sunkaranoam', 'Sunkaranom')\n"
          ]
        }
      ],
      "source": [
        "# Join 2 tuples\n",
        "\n",
        "tup1= (\"Shiva\", \"Karthkeya\", \"Nandhini\")\n",
        "tup2=(\"Prrasad\", \"Sunkaranoam\", \"Sunkaranom\")\n",
        "\n",
        "print(tup1+tup2)"
      ]
    },
    {
      "cell_type": "code",
      "execution_count": null,
      "metadata": {
        "colab": {
          "base_uri": "https://localhost:8080/"
        },
        "id": "xVSnzDVb6rW1",
        "outputId": "51bb1719-82ee-40fb-95cd-8a78f6e9fb12"
      },
      "outputs": [
        {
          "name": "stdout",
          "output_type": "stream",
          "text": [
            "(2, 3, 4, 2, 3, 4, 2, 3, 4)\n",
            "(2, 3, 4, 2, 3, 4)\n"
          ]
        }
      ],
      "source": [
        "tup3=(2,3,4)\n",
        "print(tup3*3)\n",
        "print(2*tup3)"
      ]
    },
    {
      "cell_type": "code",
      "execution_count": null,
      "metadata": {
        "colab": {
          "base_uri": "https://localhost:8080/"
        },
        "id": "3O9F9jYe6z-M",
        "outputId": "9d5362dc-e81c-47ac-ddc2-938f91b2e52e"
      },
      "outputs": [
        {
          "name": "stdout",
          "output_type": "stream",
          "text": [
            "(4, 6, 8)\n"
          ]
        }
      ],
      "source": [
        "tup3=(2,3,4)\n",
        "\n",
        "value=tuple(x*2 for x in tup3)\n",
        "print(value)"
      ]
    },
    {
      "cell_type": "code",
      "execution_count": null,
      "metadata": {
        "colab": {
          "base_uri": "https://localhost:8080/"
        },
        "id": "hMGr2Pdv8N4V",
        "outputId": "9755b77e-bdf0-4c37-ec57-cd15a51f6adb"
      },
      "outputs": [
        {
          "name": "stdout",
          "output_type": "stream",
          "text": [
            "4\n"
          ]
        }
      ],
      "source": [
        "# Count() in tuple\n",
        "\n",
        "# Returns no of times the value appeard in tuple\n",
        "\n",
        "tup3=(2,3,4,5,5,5,3,3,333,3)\n",
        "print(tup3.count(3))"
      ]
    },
    {
      "cell_type": "code",
      "execution_count": null,
      "metadata": {
        "colab": {
          "base_uri": "https://localhost:8080/",
          "height": 245
        },
        "id": "0sfy2xyr_wky",
        "outputId": "285f0289-a152-47b2-8ae9-b9b2259044c2"
      },
      "outputs": [
        {
          "name": "stdout",
          "output_type": "stream",
          "text": [
            "1\n",
            "3\n"
          ]
        },
        {
          "ename": "ValueError",
          "evalue": "ignored",
          "output_type": "error",
          "traceback": [
            "\u001b[0;31m---------------------------------------------------------------------------\u001b[0m",
            "\u001b[0;31mValueError\u001b[0m                                Traceback (most recent call last)",
            "\u001b[0;32m<ipython-input-180-77cb7e4e5d61>\u001b[0m in \u001b[0;36m<cell line: 9>\u001b[0;34m()\u001b[0m\n\u001b[1;32m      7\u001b[0m \u001b[0mprint\u001b[0m\u001b[0;34m(\u001b[0m\u001b[0mtup3\u001b[0m\u001b[0;34m.\u001b[0m\u001b[0mindex\u001b[0m\u001b[0;34m(\u001b[0m\u001b[0;36m3\u001b[0m\u001b[0;34m)\u001b[0m\u001b[0;34m)\u001b[0m  \u001b[0;31m# returns first occurance value of index\u001b[0m\u001b[0;34m\u001b[0m\u001b[0;34m\u001b[0m\u001b[0m\n\u001b[1;32m      8\u001b[0m \u001b[0mprint\u001b[0m\u001b[0;34m(\u001b[0m\u001b[0mtup3\u001b[0m\u001b[0;34m.\u001b[0m\u001b[0mindex\u001b[0m\u001b[0;34m(\u001b[0m\u001b[0;36m5\u001b[0m\u001b[0;34m)\u001b[0m\u001b[0;34m)\u001b[0m\u001b[0;34m\u001b[0m\u001b[0;34m\u001b[0m\u001b[0m\n\u001b[0;32m----> 9\u001b[0;31m \u001b[0mprint\u001b[0m\u001b[0;34m(\u001b[0m\u001b[0mtup3\u001b[0m\u001b[0;34m.\u001b[0m\u001b[0mindex\u001b[0m\u001b[0;34m(\u001b[0m\u001b[0;36m6\u001b[0m\u001b[0;34m)\u001b[0m\u001b[0;34m)\u001b[0m  \u001b[0;31m# returns error if  not found\u001b[0m\u001b[0;34m\u001b[0m\u001b[0;34m\u001b[0m\u001b[0m\n\u001b[0m",
            "\u001b[0;31mValueError\u001b[0m: tuple.index(x): x not in tuple"
          ]
        }
      ],
      "source": [
        "# index()\n",
        "\n",
        "# returns first occurance of indexed value position\n",
        "\n",
        "tup3=(2,3,4,5,5,5,3,3,333,3)\n",
        "\n",
        "print(tup3.index(3))  # returns first occurance value of index\n",
        "print(tup3.index(5))\n",
        "print(tup3.index(6))  # returns error if  not found\n"
      ]
    },
    {
      "cell_type": "code",
      "execution_count": null,
      "metadata": {
        "colab": {
          "base_uri": "https://localhost:8080/"
        },
        "id": "o8_xHXjbAOLJ",
        "outputId": "ce2a31fc-e24b-4402-d1f7-99e23aca9567"
      },
      "outputs": [
        {
          "name": "stdout",
          "output_type": "stream",
          "text": [
            "apple\n",
            "apple\n"
          ]
        }
      ],
      "source": [
        "fruits = (\"apple\", \"banana\", \"cherry\")\n",
        "\n",
        "print(fruits[0])\n",
        "\n",
        "(a,b,c) =fruits\n",
        "\n",
        "print(a)\n"
      ]
    },
    {
      "cell_type": "code",
      "execution_count": null,
      "metadata": {
        "colab": {
          "base_uri": "https://localhost:8080/"
        },
        "id": "5V-NgIs3Bohc",
        "outputId": "f550b251-2e12-4326-ed7e-81c1b93e809e"
      },
      "outputs": [
        {
          "name": "stdout",
          "output_type": "stream",
          "text": [
            "6\n"
          ]
        }
      ],
      "source": [
        "val=(1,2,3)\n",
        "(a,b,c)=val\n",
        "\n",
        "print(a+b+c)"
      ]
    },
    {
      "cell_type": "code",
      "execution_count": null,
      "metadata": {
        "colab": {
          "base_uri": "https://localhost:8080/"
        },
        "id": "PVbQR0IvB5N5",
        "outputId": "60b97547-0159-4ef6-df96-041f980d0100"
      },
      "outputs": [
        {
          "output_type": "stream",
          "name": "stdout",
          "text": [
            "apple\n",
            "['banana', 'cherry']\n",
            "a p p l e b a n a n a c h e r r y\n"
          ]
        }
      ],
      "source": [
        "fruits = (\"apple\", \"banana\", \"cherry\")\n",
        "\n",
        "(a,b,c) =fruits\n",
        "\n",
        "(a1,*b1)= fruits\n",
        "\n",
        "print(a1)\n",
        "print(b1)\n",
        "\n",
        "print(*(a+b+c))\n",
        "\n"
      ]
    },
    {
      "cell_type": "code",
      "execution_count": null,
      "metadata": {
        "id": "YXTKPuFrDFUX"
      },
      "outputs": [],
      "source": []
    },
    {
      "cell_type": "markdown",
      "metadata": {
        "id": "PVqmoYTaJGxE"
      },
      "source": [
        "# **SETS**\n",
        "\n",
        "sets are one of four most important data types in python.\n",
        "\n",
        "sets are denoted by {}\n",
        "\n",
        "Sets are unordered..Means everytime it displays items in different order.\n",
        "Sets are non INDEXED. We cant not access the items using indexing[]\n",
        "sets are unmutable or unchangeable . hence we can not chnage\n",
        "Sets do  not allow duplicates\n"
      ]
    },
    {
      "cell_type": "code",
      "execution_count": null,
      "metadata": {
        "colab": {
          "base_uri": "https://localhost:8080/"
        },
        "id": "8-9rSNLgKlP8",
        "outputId": "d8026cfe-c048-4e1a-bd00-ac79c6417e51"
      },
      "outputs": [
        {
          "name": "stdout",
          "output_type": "stream",
          "text": [
            "{'apple', 'cherry', 'banana'}\n",
            "{'apple', 'cherry', 'banana'}\n",
            "{'apple', 'cherry', 'banana'}\n"
          ]
        }
      ],
      "source": [
        "fruits = {\"apple\", \"banana\", \"cherry\"}\n",
        "\n",
        "print(fruits)   # unordered\n",
        "print(fruits)\n",
        "print(fruits)\n"
      ]
    },
    {
      "cell_type": "code",
      "execution_count": null,
      "metadata": {
        "colab": {
          "base_uri": "https://localhost:8080/"
        },
        "id": "t9yLia_wKwL_",
        "outputId": "296f878f-a4f5-4bc5-d2ce-d6f10ab1e245"
      },
      "outputs": [
        {
          "name": "stdout",
          "output_type": "stream",
          "text": [
            "{'apple', 'cherry', 'banana', 'Apple'}\n"
          ]
        }
      ],
      "source": [
        "fruits = {\"apple\", \"banana\", \"cherry\",\"Apple\",\"apple\"}\n",
        "\n",
        "print(fruits) # removes duplicates.but case sensitive"
      ]
    },
    {
      "cell_type": "code",
      "execution_count": null,
      "metadata": {
        "colab": {
          "base_uri": "https://localhost:8080/"
        },
        "id": "FoUZj8u1K7cl",
        "outputId": "f5f511b0-5914-4a72-b57c-3be78ceaed14"
      },
      "outputs": [
        {
          "name": "stdout",
          "output_type": "stream",
          "text": [
            "{0, True, 2, 'apple', 'cherry', 'banana'}\n"
          ]
        }
      ],
      "source": [
        "# Sets are considered as 1 and True as True\n",
        "\n",
        "fruits = {\"apple\", \"banana\", \"cherry\",True,1,2,0,False}\n",
        "print(fruits)  # removes False and 1, False=0 True=1  duplicated removed"
      ]
    },
    {
      "cell_type": "code",
      "execution_count": null,
      "metadata": {
        "colab": {
          "base_uri": "https://localhost:8080/"
        },
        "id": "q5MpYxXjL21P",
        "outputId": "2e187d3c-6210-4324-cd63-25467441c125"
      },
      "outputs": [
        {
          "name": "stdout",
          "output_type": "stream",
          "text": [
            "6\n"
          ]
        }
      ],
      "source": [
        "#len()\n",
        "\n",
        "fruits = {\"apple\", \"banana\", \"cherry\",True,1,2,0,False}\n",
        "print(len(fruits)) #removes duplicates before counting\n"
      ]
    },
    {
      "cell_type": "code",
      "execution_count": null,
      "metadata": {
        "colab": {
          "base_uri": "https://localhost:8080/"
        },
        "id": "d4UfkTSJMC6i",
        "outputId": "511bf497-9806-4980-cee1-a881fa2aa1ab"
      },
      "outputs": [
        {
          "name": "stdout",
          "output_type": "stream",
          "text": [
            "{'Banana', 'Mangoes', 'Apple'} {False, True} {1, 2, 3.0, 4.7} {True, 4, 1.2, 'Apple'}\n"
          ]
        }
      ],
      "source": [
        "setstr={\"Apple\",\"Banana\",\"Mangoes\"}\n",
        "setbool={True,False,True,False}\n",
        "setnum={1,2,3.0,4.7}\n",
        "setmix={'Apple',True,1.2,4}\n",
        "\n",
        "print(setstr,setbool,setnum,setmix)\n"
      ]
    },
    {
      "cell_type": "code",
      "execution_count": null,
      "metadata": {
        "colab": {
          "base_uri": "https://localhost:8080/"
        },
        "id": "pa5K4FAzM_92",
        "outputId": "95ab8f19-1f8a-483b-94fb-2fe8b91a8362"
      },
      "outputs": [
        {
          "name": "stdout",
          "output_type": "stream",
          "text": [
            "<class 'set'> <class 'set'> <class 'set'> <class 'set'>\n"
          ]
        }
      ],
      "source": [
        "#type()\n",
        "\n",
        "setstr={\"Apple\",\"Banana\",\"Mangoes\"}\n",
        "setbool={True,False,True,False}\n",
        "setnum={1,2,3.0,4.7}\n",
        "setmix={'Apple',True,1.2,4}\n",
        "\n",
        "print(type(setstr),type(setbool),type(setnum),type(setmix))\n"
      ]
    },
    {
      "cell_type": "markdown",
      "metadata": {
        "id": "XO2Lu8c_NcJ9"
      },
      "source": [
        "**Set()  constructor**\n",
        "\n",
        "creates a set from other data types"
      ]
    },
    {
      "cell_type": "code",
      "execution_count": null,
      "metadata": {
        "colab": {
          "base_uri": "https://localhost:8080/"
        },
        "id": "Av0KNeRtNSHh",
        "outputId": "925fd83f-d05a-4739-c345-2aef831b028d"
      },
      "outputs": [
        {
          "name": "stdout",
          "output_type": "stream",
          "text": [
            "{'Banana', 'Mangoes', 'Apple'} <class 'set'>\n",
            "{False, True} <class 'set'>\n"
          ]
        }
      ],
      "source": [
        "ls1=[\"Apple\",\"Banana\",\"Mangoes\", \"Apple\"]\n",
        "tup=(True,False,True,False)\n",
        "\n",
        "setmake=set(ls1)  # creates set data type from list, by removing duplicate\n",
        "print(setmake, type(setmake))\n",
        "\n",
        "settup=set(tup)  # creates a set datatype from tuple, by rmeoving duplicates\n",
        "print(settup,type(settup))\n",
        "\n"
      ]
    },
    {
      "cell_type": "code",
      "execution_count": null,
      "metadata": {
        "colab": {
          "base_uri": "https://localhost:8080/"
        },
        "id": "C5IoAVAfOBKC",
        "outputId": "f6da303c-da67-4226-a57b-0fa6a76a8070"
      },
      "outputs": [
        {
          "name": "stdout",
          "output_type": "stream",
          "text": [
            "True\n",
            "False True 2 3.0 4.7 Mangoes Apple Banana "
          ]
        }
      ],
      "source": [
        "# Access the items\n",
        "\n",
        "print( 3.0 in setstr)  # returns boolean value\n",
        "\n",
        "for x in setstr:\n",
        "    print(x,end=\" \")\n"
      ]
    },
    {
      "cell_type": "code",
      "execution_count": null,
      "metadata": {
        "colab": {
          "base_uri": "https://localhost:8080/"
        },
        "id": "WZCynNKGQcpt",
        "outputId": "9e542bb1-5c84-466a-b008-edb84e9a08ce"
      },
      "outputs": [
        {
          "name": "stdout",
          "output_type": "stream",
          "text": [
            "False True 2 3.0 4.7 Mangoes Apple Banana "
          ]
        },
        {
          "data": {
            "text/plain": [
              "{None}"
            ]
          },
          "execution_count": 240,
          "metadata": {},
          "output_type": "execute_result"
        }
      ],
      "source": [
        "setstr={True,False,True,False,2,3.0,4.7,\"Apple\",\"Banana\",\"Mangoes\"}\n",
        "{print(x,end=\" \") for x in setstr}"
      ]
    },
    {
      "cell_type": "code",
      "execution_count": null,
      "metadata": {
        "colab": {
          "base_uri": "https://localhost:8080/"
        },
        "id": "S8dzjdpkRo2p",
        "outputId": "e297ca69-25fd-4c3e-dcbf-5ab30cf2ecf7"
      },
      "outputs": [
        {
          "name": "stdout",
          "output_type": "stream",
          "text": [
            "{False, True, 2, 3.0, 4.7, 'Mangoes', 'Apple', 'Banana', 'Cherrys'}\n"
          ]
        }
      ],
      "source": [
        "# Add Items\n",
        "\n",
        "setstr={True,False,True,False,2,3.0,4.7,\"Apple\",\"Banana\",\"Mangoes\"}\n",
        "\n",
        "setstr.add(\"Cherrys\")\n",
        "print(setstr)"
      ]
    },
    {
      "cell_type": "code",
      "execution_count": null,
      "metadata": {
        "colab": {
          "base_uri": "https://localhost:8080/"
        },
        "id": "X5DIjMU3SAhN",
        "outputId": "87bcaf07-47ec-429e-e396-d9b657f510cd"
      },
      "outputs": [
        {
          "name": "stdout",
          "output_type": "stream",
          "text": [
            "{1, 2, 3.0, 4.7, 4, 1.2, 'Apple'}\n"
          ]
        }
      ],
      "source": [
        "# Update values from other set\n",
        "\n",
        "setnum={1,2,3.0,4.7}\n",
        "setmix={'Apple',True,1.2,4}\n",
        "setnum.update(setmix) # updates setnum with  setmix by removing duplicates\n",
        "print(setnum)"
      ]
    },
    {
      "cell_type": "code",
      "execution_count": null,
      "metadata": {
        "colab": {
          "base_uri": "https://localhost:8080/"
        },
        "id": "b3HhqyrUSTPW",
        "outputId": "ced8785a-c4d4-4944-c82d-496eb3bc9306"
      },
      "outputs": [
        {
          "output_type": "stream",
          "name": "stdout",
          "text": [
            "{'Apple', 35, 'Banana', 'Mango', 'banana'}\n",
            "{'Apple', 35, 2.0, 'Banana', 'Mango', 'banana', 55}\n"
          ]
        }
      ],
      "source": [
        "#update other data types\n",
        "\n",
        "ls1=[\"Apple\",\"Mango\",\"Banana\"]\n",
        "tp1=(\"Apple\",\"banana\", \"Apple\",2.0,55)\n",
        "st1={\"Apple\",\"banana\",35}\n",
        "\n",
        "st1.update(ls1)  # updates st1 with ls1 by removing duplicates\n",
        "print(st1)\n",
        "\n",
        "st1.update(tp1)\n",
        "print(st1)"
      ]
    },
    {
      "cell_type": "code",
      "execution_count": null,
      "metadata": {
        "colab": {
          "base_uri": "https://localhost:8080/"
        },
        "id": "CnsxgCcLTGF_",
        "outputId": "225c67d1-102b-4c71-ccf6-d166d583fffd"
      },
      "outputs": [
        {
          "name": "stdout",
          "output_type": "stream",
          "text": [
            "{2.0, 35, 'Apple', 'Banana', 'Mango', 55, 'banana'}\n"
          ]
        }
      ],
      "source": [
        "#update other data types\n",
        "\n",
        "ls1=[\"Apple\",\"Mango\",\"Banana\"]\n",
        "tp1=(\"Apple\",\"banana\", \"Apple\",2.0,55)\n",
        "st1={\"Apple\",\"banana\",35}\n",
        "\n",
        "st1.update(ls1,tp1)  # updates st1 with ls1,tp1 by removing duplicates\n",
        "print(st1)"
      ]
    },
    {
      "cell_type": "code",
      "execution_count": null,
      "metadata": {
        "id": "OqvbgRTDT6jN"
      },
      "outputs": [],
      "source": []
    },
    {
      "cell_type": "markdown",
      "metadata": {
        "id": "hDvmJQI0UDYe"
      },
      "source": [
        "**In LISTS we use append() to add other data types to list, where as SETS  we use update to add other data types**\n",
        "\n",
        "The difference between append() and update()  update will remove duplicates and append() cant"
      ]
    },
    {
      "cell_type": "code",
      "execution_count": null,
      "metadata": {
        "colab": {
          "base_uri": "https://localhost:8080/"
        },
        "id": "3mmPezEHUeeg",
        "outputId": "951e489b-120f-4c22-90e0-ad8c07f0a68b"
      },
      "outputs": [
        {
          "name": "stdout",
          "output_type": "stream",
          "text": [
            "{2.0, 35, 55, 'Apple', 'banana', 'Mango'}\n"
          ]
        }
      ],
      "source": [
        "# remove\n",
        "\n",
        "# to remove an item from set\n",
        "\n",
        "strm={2.0, 35, 'Apple', 'Banana', 'Mango', 55, 'banana'}\n",
        "strm.remove('Banana')\n",
        "print(strm)"
      ]
    },
    {
      "cell_type": "code",
      "execution_count": null,
      "metadata": {
        "colab": {
          "base_uri": "https://localhost:8080/",
          "height": 193
        },
        "id": "kEzeOgLyW50f",
        "outputId": "41a3535e-6c96-4767-cb0c-f0aa59ce3436"
      },
      "outputs": [
        {
          "ename": "KeyError",
          "evalue": "ignored",
          "output_type": "error",
          "traceback": [
            "\u001b[0;31m---------------------------------------------------------------------------\u001b[0m",
            "\u001b[0;31mKeyError\u001b[0m                                  Traceback (most recent call last)",
            "\u001b[0;32m<ipython-input-260-943b26ed4cb8>\u001b[0m in \u001b[0;36m<cell line: 1>\u001b[0;34m()\u001b[0m\n\u001b[0;32m----> 1\u001b[0;31m \u001b[0mstrm\u001b[0m\u001b[0;34m.\u001b[0m\u001b[0mremove\u001b[0m\u001b[0;34m(\u001b[0m\u001b[0;36m10\u001b[0m\u001b[0;34m)\u001b[0m \u001b[0;31m#  throws an error\u001b[0m\u001b[0;34m\u001b[0m\u001b[0;34m\u001b[0m\u001b[0m\n\u001b[0m\u001b[1;32m      2\u001b[0m \u001b[0mprint\u001b[0m\u001b[0;34m(\u001b[0m\u001b[0mstrm\u001b[0m\u001b[0;34m)\u001b[0m\u001b[0;34m\u001b[0m\u001b[0;34m\u001b[0m\u001b[0m\n",
            "\u001b[0;31mKeyError\u001b[0m: 10"
          ]
        }
      ],
      "source": [
        "strm.remove(10) #  throws an error\n",
        "print(strm)"
      ]
    },
    {
      "cell_type": "code",
      "execution_count": null,
      "metadata": {
        "colab": {
          "base_uri": "https://localhost:8080/"
        },
        "id": "fszj-oQOXDff",
        "outputId": "39e6311e-5351-4d52-963c-f136e7c8becb"
      },
      "outputs": [
        {
          "name": "stdout",
          "output_type": "stream",
          "text": [
            "{2.0, 35, 55, 'Apple', 'Banana', 'banana', 'Mango'}\n",
            "{2.0, 35, 55, 'Banana', 'banana', 'Mango'}\n",
            "{2.0, 35, 55, 'Banana', 'banana', 'Mango'}\n"
          ]
        }
      ],
      "source": [
        "#discard()\n",
        "\n",
        "#discards the item\n",
        "\n",
        "strm={2.0, 35, 'Apple', 'Banana', 'Mango', 55, 'banana'}\n",
        "print(strm)\n",
        "strm.discard(\"Apple\")  # removes\n",
        "\n",
        "print(strm)\n",
        "\n",
        "strm.discard(10)  # if item not found will not throw error\n",
        "print(strm)"
      ]
    },
    {
      "cell_type": "code",
      "execution_count": null,
      "metadata": {
        "colab": {
          "base_uri": "https://localhost:8080/"
        },
        "id": "pEzInRqNX4W9",
        "outputId": "bf160b17-65a3-4702-8eaf-707e7d207557"
      },
      "outputs": [
        {
          "name": "stdout",
          "output_type": "stream",
          "text": [
            "{35, 55, 'Apple', 'Banana', 'banana', 'Mango'}\n",
            "2.0\n"
          ]
        }
      ],
      "source": [
        "strm={2.0, 35, 'Apple', 'Banana', 'Mango', 55, 'banana'}\n",
        "\n",
        "val=strm.pop() # here pop can also  be used.but we cant predict the popped value\n",
        "print(strm)\n",
        "print(val)"
      ]
    },
    {
      "cell_type": "code",
      "execution_count": null,
      "metadata": {
        "colab": {
          "base_uri": "https://localhost:8080/"
        },
        "id": "TMmBZ0lsYYh6",
        "outputId": "57eb1488-bf2d-451c-dace-2bf1c26ed3cf"
      },
      "outputs": [
        {
          "name": "stdout",
          "output_type": "stream",
          "text": [
            "{35, 55, 'Apple', 'Banana', 'banana', 'Mango'}\n",
            "<built-in method pop of set object at 0x786fc55a6180>\n"
          ]
        }
      ],
      "source": [
        "val1=strm.pop   # here withoit bracketswill  return the address\n",
        "print(strm)\n",
        "print(val1)"
      ]
    },
    {
      "cell_type": "code",
      "execution_count": null,
      "metadata": {
        "colab": {
          "base_uri": "https://localhost:8080/"
        },
        "id": "ECbhQhEQYiLD",
        "outputId": "81a46f5a-7065-40e3-fc42-187333021500"
      },
      "outputs": [
        {
          "name": "stdout",
          "output_type": "stream",
          "text": [
            "{2.0, 35, 55, 'Apple', 'Banana', 'banana', 'Mango'}\n",
            "set()\n"
          ]
        }
      ],
      "source": [
        "#clear()\n",
        "\n",
        "#empty the set\n",
        "\n",
        "strm={2.0, 35, 'Apple', 'Banana', 'Mango', 55, 'banana'}\n",
        "print(strm)\n",
        "\n",
        "strm.clear()\n",
        "print(strm)"
      ]
    },
    {
      "cell_type": "code",
      "execution_count": null,
      "metadata": {
        "colab": {
          "base_uri": "https://localhost:8080/",
          "height": 227
        },
        "id": "obbLmzhXbgiu",
        "outputId": "3b6776cc-14b0-491f-c67d-3d46b4eb036c"
      },
      "outputs": [
        {
          "name": "stdout",
          "output_type": "stream",
          "text": [
            "{2.0, 35, 55, 'Apple', 'Banana', 'banana', 'Mango'}\n"
          ]
        },
        {
          "ename": "NameError",
          "evalue": "ignored",
          "output_type": "error",
          "traceback": [
            "\u001b[0;31m---------------------------------------------------------------------------\u001b[0m",
            "\u001b[0;31mNameError\u001b[0m                                 Traceback (most recent call last)",
            "\u001b[0;32m<ipython-input-281-18d2293eeafb>\u001b[0m in \u001b[0;36m<cell line: 5>\u001b[0;34m()\u001b[0m\n\u001b[1;32m      3\u001b[0m \u001b[0mprint\u001b[0m\u001b[0;34m(\u001b[0m\u001b[0mstrm\u001b[0m\u001b[0;34m)\u001b[0m\u001b[0;34m\u001b[0m\u001b[0;34m\u001b[0m\u001b[0m\n\u001b[1;32m      4\u001b[0m \u001b[0;32mdel\u001b[0m \u001b[0mstrm\u001b[0m\u001b[0;34m\u001b[0m\u001b[0;34m\u001b[0m\u001b[0m\n\u001b[0;32m----> 5\u001b[0;31m \u001b[0mprint\u001b[0m\u001b[0;34m(\u001b[0m\u001b[0mstrm\u001b[0m\u001b[0;34m)\u001b[0m\u001b[0;34m\u001b[0m\u001b[0;34m\u001b[0m\u001b[0m\n\u001b[0m",
            "\u001b[0;31mNameError\u001b[0m: name 'strm' is not defined"
          ]
        }
      ],
      "source": [
        "strm={2.0, 35, 'Apple', 'Banana', 'Mango', 55, 'banana'}\n",
        "\n",
        "print(strm)\n",
        "del strm\n",
        "print(strm)  # throws error because set deleted from meory"
      ]
    },
    {
      "cell_type": "code",
      "execution_count": null,
      "metadata": {
        "colab": {
          "base_uri": "https://localhost:8080/"
        },
        "id": "fJl4soExbm89",
        "outputId": "48c51e89-7c49-43ee-f92f-1e411c2751bd"
      },
      "outputs": [
        {
          "name": "stdout",
          "output_type": "stream",
          "text": [
            "2.0\n",
            "35\n",
            "55\n",
            "Apple\n",
            "Banana\n",
            "banana\n",
            "Mango\n"
          ]
        }
      ],
      "source": [
        "#Loop i sets\n",
        "strm={2.0, 35, 'Apple', 'Banana', 'Mango', 55, 'banana'}\n",
        "for x in strm:\n",
        "    print(x)"
      ]
    },
    {
      "cell_type": "code",
      "execution_count": null,
      "metadata": {
        "colab": {
          "base_uri": "https://localhost:8080/"
        },
        "id": "b2CJTIiHdKay",
        "outputId": "31e766bc-fae4-43b3-d7bc-2b4a0be98f92"
      },
      "outputs": [
        {
          "name": "stdout",
          "output_type": "stream",
          "text": [
            "True\n"
          ]
        }
      ],
      "source": [
        "strm={2.0, 35, 'Apple', 'Banana', 'Mango', 55, 'banana'}\n",
        "print( \"Banana\" in strm)"
      ]
    },
    {
      "cell_type": "code",
      "execution_count": null,
      "metadata": {
        "colab": {
          "base_uri": "https://localhost:8080/"
        },
        "id": "IBqlU83MdUu0",
        "outputId": "f7f074c3-8d20-4f84-8ede-2efecd7db311"
      },
      "outputs": [
        {
          "name": "stdout",
          "output_type": "stream",
          "text": [
            "2.0\n",
            "35\n",
            "55\n",
            "Apple\n",
            "Banana\n",
            "banana\n",
            "Mango\n"
          ]
        },
        {
          "data": {
            "text/plain": [
              "{None}"
            ]
          },
          "execution_count": 284,
          "metadata": {},
          "output_type": "execute_result"
        }
      ],
      "source": [
        "# Set COmprehension\n",
        "\n",
        "strm={2.0, 35, 'Apple', 'Banana', 'Mango', 55, 'banana'}\n",
        "\n",
        "{print(x) for x in strm}"
      ]
    },
    {
      "cell_type": "code",
      "execution_count": null,
      "metadata": {
        "id": "UuJaHjbfdZ3l"
      },
      "outputs": [],
      "source": []
    },
    {
      "cell_type": "markdown",
      "metadata": {
        "id": "ojVU8A_yjeKr"
      },
      "source": [
        "**Join multiple sets**\n",
        "\n"
      ]
    },
    {
      "cell_type": "code",
      "execution_count": null,
      "metadata": {
        "colab": {
          "base_uri": "https://localhost:8080/"
        },
        "id": "KdmaFFoijjjB",
        "outputId": "7359c8ea-0df6-4856-d4ec-32a5dada82fd"
      },
      "outputs": [
        {
          "name": "stdout",
          "output_type": "stream",
          "text": [
            "{True, 34.54, 'Apple', 'Mangoes', 123}\n",
            "{False, True, 34.54, 'Apple', 'bamboo', 45, 'Table', 'Mangoes', 123}\n"
          ]
        }
      ],
      "source": [
        "# union()\n",
        "\n",
        "#Union used to join 2 sets\n",
        "\n",
        "set1={\"Apple\",\"Mangoes\",123,34.54,True}\n",
        "set2={\"bamboo\",\"Table\",True,False,45}\n",
        "\n",
        "set3=set1.union(set2)  #Join set2  with set1 and return new set to set3 by keeping duplicated elements in either of the set..\n",
        "print(set1)\n",
        "print(set3)"
      ]
    },
    {
      "cell_type": "code",
      "execution_count": null,
      "metadata": {
        "colab": {
          "base_uri": "https://localhost:8080/"
        },
        "id": "S1e-V1ZXTR2o",
        "outputId": "1459127f-5fa4-487b-c48c-4834189c1ed1"
      },
      "outputs": [
        {
          "name": "stdout",
          "output_type": "stream",
          "text": [
            "{False, True, 34.54, 'Apple', 'Mangoes', 45, 'bamboo', 'Table', 123}\n"
          ]
        }
      ],
      "source": [
        "#update()\n",
        "#updates the set\n",
        "\n",
        "set1={\"Apple\",\"Mangoes\",123,34.54,True}\n",
        "set2={\"bamboo\",\"Table\",True,False,45}\n",
        "\n",
        "set1.update(set2) # update set1 wth set2 by removing duplicates\n",
        "print(set1)"
      ]
    },
    {
      "cell_type": "code",
      "execution_count": null,
      "metadata": {
        "colab": {
          "base_uri": "https://localhost:8080/"
        },
        "id": "yvnSPFnx-lpO",
        "outputId": "a8b5446b-b1c3-463e-9d29-c6889f24f1ed"
      },
      "outputs": [
        {
          "name": "stdout",
          "output_type": "stream",
          "text": [
            "{True, 123}\n",
            "{False, True, 'bamboo', 'Table', 123, 45}\n"
          ]
        }
      ],
      "source": [
        "#intesrction_update()\n",
        "# keeps duplicates\n",
        "\n",
        "set1={\"Apple\",\"Mangoes\",123,34.54,True}\n",
        "set2={\"bamboo\",\"Table\",True,False,45,123}\n",
        "\n",
        "set1.intersection_update(set2) # keeps duplicate in both sets in set1\n",
        "print(set1)\n",
        "print(set2)"
      ]
    },
    {
      "cell_type": "code",
      "execution_count": null,
      "metadata": {
        "colab": {
          "base_uri": "https://localhost:8080/"
        },
        "id": "zckNQzH-_WFU",
        "outputId": "1e86e13d-fe16-43be-8392-9bcf17da5083"
      },
      "outputs": [
        {
          "name": "stdout",
          "output_type": "stream",
          "text": [
            "{True, 123}\n"
          ]
        }
      ],
      "source": [
        "#intersection()\n",
        "#intersection will return duplicates in new set\n",
        "\n",
        "set1={\"Apple\",\"Mangoes\",123,34.54,True}\n",
        "set2={\"bamboo\",\"Table\",True,False,45,123}\n",
        "\n",
        "set3=set1.intersection(set2) # creates new set with all duplicates\n",
        "print(set3)"
      ]
    },
    {
      "cell_type": "code",
      "execution_count": null,
      "metadata": {
        "colab": {
          "base_uri": "https://localhost:8080/"
        },
        "id": "yQ0vK_w-L8Qw",
        "outputId": "0a854cc0-9de2-48f7-ced2-a273736b80a9"
      },
      "outputs": [
        {
          "name": "stdout",
          "output_type": "stream",
          "text": [
            "{False, 34.54, 'Apple', 'Mangoes', 45, 'bamboo', 'Table'}\n"
          ]
        }
      ],
      "source": [
        "#symmetric_difference_update()\n",
        "# updates set with the differnece values in given sets\n",
        "\n",
        "set1={\"Apple\",\"Mangoes\",123,34.54,True}\n",
        "set2={\"bamboo\",\"Table\",True,False,45,123}\n",
        "\n",
        "set1.symmetric_difference_update(set2)\n",
        "print(set1)   # updates the set with non common values\n",
        "\n"
      ]
    },
    {
      "cell_type": "code",
      "execution_count": null,
      "metadata": {
        "colab": {
          "base_uri": "https://localhost:8080/"
        },
        "id": "BjeHP2qfNa2z",
        "outputId": "4b3d467a-03bd-4822-9484-0a77e04b9e91"
      },
      "outputs": [
        {
          "name": "stdout",
          "output_type": "stream",
          "text": [
            "{False, 'bamboo', 34.54, 'Apple', 'Mangoes', 45, 'Table'}\n"
          ]
        }
      ],
      "source": [
        "#Symmetric difference()\n",
        "\n",
        "# returns to new set with symmetric difference\n",
        "\n",
        "set1={\"Apple\",\"Mangoes\",123,34.54,True}\n",
        "set2={\"bamboo\",\"Table\",True,False,45,123}\n",
        "\n",
        "set3=set1.symmetric_difference(set2)\n",
        "print(set3)"
      ]
    },
    {
      "cell_type": "code",
      "execution_count": null,
      "metadata": {
        "id": "FLhuCxXpi2TY"
      },
      "outputs": [],
      "source": []
    },
    {
      "cell_type": "markdown",
      "metadata": {
        "id": "l0qQGF_SjghA"
      },
      "source": [
        "**Difference Between union(), symmetric_difference(), intersection()**\n",
        "\n",
        "union()  will join 2 sets by removing duplicates in either of the set\n",
        "\n",
        "intersection() will result common/duplicate values\n",
        "\n",
        "symmetric_difference()  will result by removing all duplicate elements  "
      ]
    },
    {
      "cell_type": "code",
      "execution_count": null,
      "metadata": {
        "colab": {
          "base_uri": "https://localhost:8080/"
        },
        "id": "gpLyU3lnlA2a",
        "outputId": "122ba613-de66-4a80-b64e-b0c7a91265c6"
      },
      "outputs": [
        {
          "name": "stdout",
          "output_type": "stream",
          "text": [
            "{1, 2, 3, 4, 5, 6, 7}\n",
            "{4}\n",
            "{1, 2, 3, 5, 6, 7}\n"
          ]
        }
      ],
      "source": [
        "# example\n",
        "\n",
        "a={1,2,3,4}\n",
        "b= {4,5,6,7}\n",
        "\n",
        "print(a.union(b))  # prints value 4 only once\n",
        "\n",
        "print(a.intersection(b))  # prints 4 only\n",
        "\n",
        "print(a.symmetric_difference(b)) # prints all values from both sets except 4"
      ]
    },
    {
      "cell_type": "code",
      "execution_count": null,
      "metadata": {
        "colab": {
          "base_uri": "https://localhost:8080/"
        },
        "id": "cZOCZGyFlXhe",
        "outputId": "d0c7334b-e1ef-442c-92f2-05d83a650b03"
      },
      "outputs": [
        {
          "name": "stdout",
          "output_type": "stream",
          "text": [
            "{True, 34.54, 'Apple', 'Mangoes', 123}\n"
          ]
        }
      ],
      "source": [
        "set1={\"Apple\",\"Mangoes\",123,34.54,True}\n",
        "set2={\"bamboo\",\"Table\",True,1,False,45,123}\n",
        "\n",
        "set1.symmetric_difference(set2)  #True and 1 will be same.\n",
        "print(set1)"
      ]
    },
    {
      "cell_type": "markdown",
      "metadata": {
        "id": "syJJ1lM08WdO"
      },
      "source": [
        "**set methods**"
      ]
    },
    {
      "cell_type": "code",
      "execution_count": null,
      "metadata": {
        "colab": {
          "base_uri": "https://localhost:8080/"
        },
        "id": "78M6pmKa7W2I",
        "outputId": "2bc45e52-7d37-4693-c0f9-612310720301"
      },
      "outputs": [
        {
          "name": "stdout",
          "output_type": "stream",
          "text": [
            "{True, 34.54, 'Apple', 'Mangoes', 'Cherry', 123}\n"
          ]
        }
      ],
      "source": [
        "#add()\n",
        "\n",
        "set1={\"Apple\",\"Mangoes\",123,34.54,True}\n",
        "set2={\"bamboo\",\"Table\",True,False,45,123}\n",
        "\n",
        "set1.add(\"Cherry\")# adds an element to set\n",
        "print(set1)"
      ]
    },
    {
      "cell_type": "code",
      "execution_count": null,
      "metadata": {
        "colab": {
          "base_uri": "https://localhost:8080/",
          "height": 175
        },
        "id": "osBnaQCJ874d",
        "outputId": "81a278be-1d54-4de6-8840-8658a378b7d2"
      },
      "outputs": [
        {
          "ename": "TypeError",
          "evalue": "ignored",
          "output_type": "error",
          "traceback": [
            "\u001b[0;31m---------------------------------------------------------------------------\u001b[0m",
            "\u001b[0;31mTypeError\u001b[0m                                 Traceback (most recent call last)",
            "\u001b[0;32m<ipython-input-23-cf6aa2fc3871>\u001b[0m in \u001b[0;36m<cell line: 1>\u001b[0;34m()\u001b[0m\n\u001b[0;32m----> 1\u001b[0;31m \u001b[0mset1\u001b[0m\u001b[0;34m.\u001b[0m\u001b[0madd\u001b[0m\u001b[0;34m(\u001b[0m\u001b[0mset2\u001b[0m\u001b[0;34m)\u001b[0m\u001b[0;34m\u001b[0m\u001b[0;34m\u001b[0m\u001b[0m\n\u001b[0m",
            "\u001b[0;31mTypeError\u001b[0m: unhashable type: 'set'"
          ]
        }
      ],
      "source": [
        "set1.add(set2)\n",
        "\n",
        "add can add element only"
      ]
    },
    {
      "cell_type": "code",
      "execution_count": null,
      "metadata": {
        "colab": {
          "base_uri": "https://localhost:8080/"
        },
        "id": "YMK9--8A8_Ex",
        "outputId": "ff06db40-19dc-4690-d307-2e754252019f"
      },
      "outputs": [
        {
          "name": "stdout",
          "output_type": "stream",
          "text": [
            "None\n"
          ]
        }
      ],
      "source": [
        "#clear()\n",
        "\n",
        "set1={\"Apple\",\"Mangoes\",123,34.54,True}\n",
        "\n",
        "x=set1.clear()  # clears allelements in set\n",
        "\n",
        "print(x)\n"
      ]
    },
    {
      "cell_type": "code",
      "execution_count": null,
      "metadata": {
        "colab": {
          "base_uri": "https://localhost:8080/"
        },
        "id": "F3uAJolZ9c3h",
        "outputId": "96b37c46-5779-446c-c18a-b25d30bbfd85"
      },
      "outputs": [
        {
          "name": "stdout",
          "output_type": "stream",
          "text": [
            "{True, 34.54, 'Apple', 'Mangoes', 123}\n",
            "{True, 34.54, 'Apple', 'Mangoes', 123}\n"
          ]
        }
      ],
      "source": [
        "#copy()\n",
        "\n",
        "set1={\"Apple\",\"Mangoes\",123,34.54,True}\n",
        "x=set1.copy()  # Returns copies of set\n",
        "print(x)\n",
        "print(set1.copy())"
      ]
    },
    {
      "cell_type": "code",
      "execution_count": null,
      "metadata": {
        "colab": {
          "base_uri": "https://localhost:8080/"
        },
        "id": "2LFMj_VKHL8z",
        "outputId": "c5266d70-2fad-4ede-8f3a-de43f7202830"
      },
      "outputs": [
        {
          "name": "stdout",
          "output_type": "stream",
          "text": [
            "{34.54, 'Apple', 'Mangoes'}\n",
            "{False, 'Table', 45, 'bamboo'}\n"
          ]
        }
      ],
      "source": [
        "#difference()\n",
        "\n",
        "#differences betweeen sets.\n",
        "\n",
        "set1={\"Apple\",\"Mangoes\",123,34.54,True}\n",
        "set2={\"bamboo\",\"Table\",True,False,45,123}\n",
        "\n",
        "x=set1.difference(set2)  # Returns the difference items in set1 only, not in set2\n",
        "y=set2.difference(set1) # Returns the difference items in set 2 only, not in set1\n",
        "\n",
        "print(x)\n",
        "print(y)\n"
      ]
    },
    {
      "cell_type": "code",
      "execution_count": null,
      "metadata": {
        "colab": {
          "base_uri": "https://localhost:8080/"
        },
        "id": "enyGRaMuKghH",
        "outputId": "a7afa982-3272-4476-f14a-bfa3cb63821d"
      },
      "outputs": [
        {
          "name": "stdout",
          "output_type": "stream",
          "text": [
            "{34.54, 'Apple', 'Mangoes'}\n",
            "None\n",
            "{False, True, 'bamboo', 'Table', 123, 45}\n"
          ]
        }
      ],
      "source": [
        "# difference_update()\n",
        "\n",
        "set1={\"Apple\",\"Mangoes\",123,34.54,True}\n",
        "set2={\"bamboo\",\"Table\",True,False,45,123}\n",
        "\n",
        "set1.difference_update(set2)\n",
        "# difference values are removed and remainign values are stored in set1\n",
        "print(set1)\n",
        "x=set1.difference_update(set2)\n",
        "#cant store.t=returns null\n",
        "print(x)\n",
        "\n",
        "set2.difference_update(set1)\n",
        "#difference values are stored in set2\n",
        "print(set2)\n"
      ]
    },
    {
      "cell_type": "markdown",
      "metadata": {
        "id": "tnk4WofuMn1Q"
      },
      "source": [
        "**The major difference between  difference() and difference_update()**\n",
        "\n",
        "difference() method stores output in a variable\n",
        "\n",
        "difference_update() cant store values in , where as it stores the target set by replacing its originalvalues"
      ]
    },
    {
      "cell_type": "code",
      "execution_count": null,
      "metadata": {
        "colab": {
          "base_uri": "https://localhost:8080/"
        },
        "id": "jxtR6qrkMIA4",
        "outputId": "e0de5ad1-a8ef-4b3b-a34a-47ef30616955"
      },
      "outputs": [
        {
          "name": "stdout",
          "output_type": "stream",
          "text": [
            "{True, 34.54, 'Mangoes', 'Apple'}\n"
          ]
        }
      ],
      "source": [
        "#discard()\n",
        "# removes the particular itemin the set\n",
        "\n",
        "set1={\"Apple\",\"Mangoes\",123,34.54,True}\n",
        "\n",
        "set1.discard(123) # removes from set\n",
        "print(set1)\n",
        "\n"
      ]
    },
    {
      "cell_type": "code",
      "execution_count": null,
      "metadata": {
        "colab": {
          "base_uri": "https://localhost:8080/"
        },
        "id": "XQXwsF3PAWIy",
        "outputId": "8af59c49-4d97-49ac-a1bf-f3927e48bb6e"
      },
      "outputs": [
        {
          "name": "stdout",
          "output_type": "stream",
          "text": [
            "{True, 34.54, 123}\n"
          ]
        }
      ],
      "source": [
        "set1={\"Apple\",\"Mangoes\",123,34.54,True}\n",
        "set2={\"bamboo\",\"Table\",True,False,45,123}\n",
        "\n",
        "set1.discard(\"Apple\")\n",
        "set1.remove(\"Mangoes\")\n",
        "print(set1)\n",
        "\n"
      ]
    },
    {
      "cell_type": "code",
      "execution_count": null,
      "metadata": {
        "colab": {
          "base_uri": "https://localhost:8080/"
        },
        "id": "q4lhz9LYAslz",
        "outputId": "7dfdccb1-bf2f-40cb-8a2c-194fd9610a61"
      },
      "outputs": [
        {
          "name": "stdout",
          "output_type": "stream",
          "text": [
            "None\n"
          ]
        }
      ],
      "source": [
        "set1={\"Apple\",\"Mangoes\",123,34.54,True}\n",
        "#set2={\"bamboo\",\"Table\",True,False,45,123}\n",
        "\n",
        "x=set1.discard(55)  # prints none\n",
        "print(x)"
      ]
    },
    {
      "cell_type": "code",
      "execution_count": null,
      "metadata": {
        "colab": {
          "base_uri": "https://localhost:8080/",
          "height": 227
        },
        "id": "A-bzVnhiLCmA",
        "outputId": "d3d899dc-f66b-428c-8a0b-fa7bd9019311"
      },
      "outputs": [
        {
          "ename": "KeyError",
          "evalue": "ignored",
          "output_type": "error",
          "traceback": [
            "\u001b[0;31m---------------------------------------------------------------------------\u001b[0m",
            "\u001b[0;31mKeyError\u001b[0m                                  Traceback (most recent call last)",
            "\u001b[0;32m<ipython-input-7-00f2254749b8>\u001b[0m in \u001b[0;36m<cell line: 4>\u001b[0;34m()\u001b[0m\n\u001b[1;32m      2\u001b[0m \u001b[0;31m#set2={\"bamboo\",\"Table\",True,False,45,123}\u001b[0m\u001b[0;34m\u001b[0m\u001b[0;34m\u001b[0m\u001b[0m\n\u001b[1;32m      3\u001b[0m \u001b[0;34m\u001b[0m\u001b[0m\n\u001b[0;32m----> 4\u001b[0;31m \u001b[0mx\u001b[0m\u001b[0;34m=\u001b[0m\u001b[0mset1\u001b[0m\u001b[0;34m.\u001b[0m\u001b[0mremove\u001b[0m\u001b[0;34m(\u001b[0m\u001b[0;36m55\u001b[0m\u001b[0;34m)\u001b[0m \u001b[0;31m# thorws error\u001b[0m\u001b[0;34m\u001b[0m\u001b[0;34m\u001b[0m\u001b[0m\n\u001b[0m\u001b[1;32m      5\u001b[0m \u001b[0mprint\u001b[0m\u001b[0;34m(\u001b[0m\u001b[0mx\u001b[0m\u001b[0;34m)\u001b[0m\u001b[0;34m\u001b[0m\u001b[0;34m\u001b[0m\u001b[0m\n",
            "\u001b[0;31mKeyError\u001b[0m: 55"
          ]
        }
      ],
      "source": [
        "set1={\"Apple\",\"Mangoes\",123,34.54,True}\n",
        "#set2={\"bamboo\",\"Table\",True,False,45,123}\n",
        "\n",
        "x=set1.remove(55) # throws error\n",
        "print(x)"
      ]
    },
    {
      "cell_type": "code",
      "execution_count": null,
      "metadata": {
        "colab": {
          "base_uri": "https://localhost:8080/"
        },
        "id": "DB_wJbH2LRXi",
        "outputId": "77ccaae7-27f5-47c9-c9dc-f9148906733e"
      },
      "outputs": [
        {
          "name": "stdout",
          "output_type": "stream",
          "text": [
            "{45}\n"
          ]
        }
      ],
      "source": [
        "#intersection()\n",
        "# returns similar values in sets\n",
        "\n",
        "set1={\"Apple\",\"Mangoes\",123,34.54,True,45}\n",
        "set2={\"bamboo\",\"Table\",True,False,45,123}\n",
        "set3={54,45}\n",
        "\n",
        "x=set1.intersection(set2,set3) # sends the output as common value\n",
        "print(x)\n"
      ]
    },
    {
      "cell_type": "code",
      "execution_count": null,
      "metadata": {
        "colab": {
          "base_uri": "https://localhost:8080/"
        },
        "id": "8XARm5VaNBOc",
        "outputId": "651680bd-7d99-4b8f-8369-d858cb65193a"
      },
      "outputs": [
        {
          "name": "stdout",
          "output_type": "stream",
          "text": [
            "set()\n"
          ]
        }
      ],
      "source": [
        "set1={\"Apple\",\"Mangoes\",123,34.54,True}\n",
        "set2={\"bamboo\",\"Table\",True,False,45,123}\n",
        "set3={54,45}\n",
        "\n",
        "print(set1.intersection(set2,set3)) # no common value"
      ]
    },
    {
      "cell_type": "code",
      "execution_count": null,
      "metadata": {
        "colab": {
          "base_uri": "https://localhost:8080/"
        },
        "id": "9PzgA2MQNfwn",
        "outputId": "cc99eef0-3df5-4012-8ca4-6f1590417b0e"
      },
      "outputs": [
        {
          "name": "stdout",
          "output_type": "stream",
          "text": [
            "{True, 34.54, 'Mangoes', 123, 'Apple', 45}\n",
            "{False, True, 'Table', 123, 'bamboo', 45}\n",
            "{45, 54}\n",
            "\n",
            "{45}\n"
          ]
        }
      ],
      "source": [
        "#intersection update\n",
        "\n",
        "set1={\"Apple\",\"Mangoes\",123,34.54,True,45}\n",
        "set2={\"bamboo\",\"Table\",True,False,45,123}\n",
        "set3={54,45}\n",
        "\n",
        "print(set1)\n",
        "print(set2)\n",
        "print(set3)\n",
        "print()\n",
        "\n",
        "set1.intersection_update(set2,set3)\n",
        "print(set1)"
      ]
    },
    {
      "cell_type": "markdown",
      "metadata": {
        "id": "YRWNpBGYO9VS"
      },
      "source": [
        "**The difference between intersection() and intersection_update()**\n",
        "\n",
        "intersection() returns comon value in new set\n",
        "\n",
        "intersection_update() returns the common value in target existed set by removing its native values"
      ]
    },
    {
      "cell_type": "code",
      "execution_count": null,
      "metadata": {
        "colab": {
          "base_uri": "https://localhost:8080/"
        },
        "id": "rVYNpEseOuAd",
        "outputId": "807a8fe1-01a7-45cd-e464-4ea152d97128"
      },
      "outputs": [
        {
          "name": "stdout",
          "output_type": "stream",
          "text": [
            "False\n",
            "True\n"
          ]
        }
      ],
      "source": [
        "#isdisjoint()\n",
        "# If no common items in givens sets it returns true\n",
        "\n",
        "set1={\"Apple\",\"Mangoes\",123,34.54,True}\n",
        "set2={\"bamboo\",\"Table\",True,False,45,123}\n",
        "set3={\"a','b\",'c'}\n",
        "\n",
        "x=set1.isdisjoint(set2)  # returns False if common elements are there\n",
        "print(x)\n",
        "\n",
        "y=set2.isdisjoint(set3)  # returns true if common elements are not there\n",
        "print(y)"
      ]
    },
    {
      "cell_type": "code",
      "execution_count": null,
      "metadata": {
        "colab": {
          "base_uri": "https://localhost:8080/"
        },
        "id": "BXaiJ3hUQD8y",
        "outputId": "96e4a3cc-5312-4879-9d72-1915f1cffb3f"
      },
      "outputs": [
        {
          "name": "stdout",
          "output_type": "stream",
          "text": [
            "False\n",
            "True\n"
          ]
        }
      ],
      "source": [
        "#issubset()\n",
        "\n",
        "# Returns true if a set is subset of another set, else False\n",
        "\n",
        "set1={\"Apple\",\"Mangoes\",'Bananas'}\n",
        "\n",
        "set3={\"Bananas\",\"Mangoes\"}\n",
        "\n",
        "x=set1.issubset(set3)\n",
        "y=set3.issubset(set1)\n",
        "print(x)\n",
        "print(y)"
      ]
    },
    {
      "cell_type": "code",
      "execution_count": null,
      "metadata": {
        "colab": {
          "base_uri": "https://localhost:8080/"
        },
        "id": "2Ju7-0ktRVMy",
        "outputId": "213ca116-d918-47d3-ab63-3d2b5f54dc7b"
      },
      "outputs": [
        {
          "name": "stdout",
          "output_type": "stream",
          "text": [
            "False\n",
            "True\n"
          ]
        }
      ],
      "source": [
        "x   =   {1,2,3,4,5,6}\n",
        "y   =   {2,3,4}\n",
        "\n",
        "print(x.issubset(y))  # Returns False because all elements in x are not present in y\n",
        "print(y.issubset(x))    # Returns True becaue allelements in y are present in x"
      ]
    },
    {
      "cell_type": "code",
      "execution_count": null,
      "metadata": {
        "id": "qTZS0yfOpJEi"
      },
      "outputs": [],
      "source": [
        "#issuperset()\n",
        "\n",
        "#Checks if a set is superset of given set\n",
        "\n"
      ]
    },
    {
      "cell_type": "code",
      "execution_count": null,
      "metadata": {
        "colab": {
          "base_uri": "https://localhost:8080/"
        },
        "id": "A5DET8CiqhGY",
        "outputId": "56a2d907-89ce-47f2-ded5-a7316cc002eb"
      },
      "outputs": [
        {
          "name": "stdout",
          "output_type": "stream",
          "text": [
            "True\n",
            "False\n"
          ]
        }
      ],
      "source": [
        "#issubset()\n",
        "\n",
        "# Returns true if a set is subset of another set, else False\n",
        "\n",
        "x   =   {1,2,3,4,5,6}\n",
        "y   =   {2,3,4}\n",
        "\n",
        "a=x.issuperset(y)  # checks is x is super set of y, here true  becasue all elements in y are present in x\n",
        "b=y.issuperset(x)   # False because all  elements in x are not present in y\n",
        "print(a)\n",
        "print(b)"
      ]
    },
    {
      "cell_type": "code",
      "execution_count": null,
      "metadata": {
        "colab": {
          "base_uri": "https://localhost:8080/"
        },
        "id": "7G0bWytZqnRz",
        "outputId": "f72ef9d0-4203-4260-ba31-3189319397de"
      },
      "outputs": [
        {
          "name": "stdout",
          "output_type": "stream",
          "text": [
            "1\n"
          ]
        }
      ],
      "source": [
        "#pop\n",
        "#Returns the removed item from the set\n",
        "\n",
        "x   =   {1,2,3,4,5,6}\n",
        "y   =   {2,3,4}\n",
        "\n",
        "print(x.pop())  # Returns randomgly selected item removed from set. It willnot take any argument"
      ]
    },
    {
      "cell_type": "code",
      "execution_count": null,
      "metadata": {
        "colab": {
          "base_uri": "https://localhost:8080/",
          "height": 227
        },
        "id": "FIiGTwSMOu7h",
        "outputId": "28b401a8-df71-4b32-e6db-b3e075774093"
      },
      "outputs": [
        {
          "ename": "TypeError",
          "evalue": "ignored",
          "output_type": "error",
          "traceback": [
            "\u001b[0;31m---------------------------------------------------------------------------\u001b[0m",
            "\u001b[0;31mTypeError\u001b[0m                                 Traceback (most recent call last)",
            "\u001b[0;32m<ipython-input-4-8c1faf530f43>\u001b[0m in \u001b[0;36m<cell line: 4>\u001b[0;34m()\u001b[0m\n\u001b[1;32m      2\u001b[0m \u001b[0my\u001b[0m   \u001b[0;34m=\u001b[0m   \u001b[0;34m{\u001b[0m\u001b[0;36m2\u001b[0m\u001b[0;34m,\u001b[0m\u001b[0;36m3\u001b[0m\u001b[0;34m,\u001b[0m\u001b[0;36m4\u001b[0m\u001b[0;34m}\u001b[0m\u001b[0;34m\u001b[0m\u001b[0;34m\u001b[0m\u001b[0m\n\u001b[1;32m      3\u001b[0m \u001b[0;34m\u001b[0m\u001b[0m\n\u001b[0;32m----> 4\u001b[0;31m \u001b[0mz\u001b[0m\u001b[0;34m=\u001b[0m\u001b[0my\u001b[0m\u001b[0;34m.\u001b[0m\u001b[0mpop\u001b[0m\u001b[0;34m(\u001b[0m\u001b[0;36m2\u001b[0m\u001b[0;34m)\u001b[0m\u001b[0;34m\u001b[0m\u001b[0;34m\u001b[0m\u001b[0m\n\u001b[0m\u001b[1;32m      5\u001b[0m \u001b[0mprint\u001b[0m\u001b[0;34m(\u001b[0m\u001b[0mz\u001b[0m\u001b[0;34m)\u001b[0m\u001b[0;34m\u001b[0m\u001b[0;34m\u001b[0m\u001b[0m\n",
            "\u001b[0;31mTypeError\u001b[0m: set.pop() takes no arguments (1 given)"
          ]
        }
      ],
      "source": [
        "x   =   {1,2,3,4,5,6}\n",
        "y   =   {2,3,4}\n",
        "\n",
        "z=y.pop(2)  #Throw error,becasue dont take any argument\n",
        "print(z)"
      ]
    },
    {
      "cell_type": "code",
      "execution_count": null,
      "metadata": {
        "colab": {
          "base_uri": "https://localhost:8080/"
        },
        "id": "dZ63UJ5VPEC1",
        "outputId": "3659be3b-21bf-40dc-c136-e335d39d69fa"
      },
      "outputs": [
        {
          "name": "stdout",
          "output_type": "stream",
          "text": [
            "{1, 2, 3, 4, 5, 6}\n",
            "None\n",
            "{1, 2, 3, 5, 6}\n"
          ]
        }
      ],
      "source": [
        "# Remove\n",
        "#Remove method removes specific element form the given set\n",
        "\n",
        "\n",
        "x   =   {1,2,3,4,5,6}\n",
        "y   =   {2,3,4}\n",
        "\n",
        "print(x)\n",
        "z=x.remove(4) # removes 4 from x\n",
        "print(z)\n",
        "print(x)"
      ]
    },
    {
      "cell_type": "code",
      "execution_count": null,
      "metadata": {
        "colab": {
          "base_uri": "https://localhost:8080/"
        },
        "id": "oclnZUpHPh3V",
        "outputId": "38e2d910-fe8f-4f53-e43a-b39778fcea64"
      },
      "outputs": [
        {
          "name": "stdout",
          "output_type": "stream",
          "text": [
            "None\n"
          ]
        }
      ],
      "source": [
        "x   =   {1,2,3,4,5,6}\n",
        "y   =   {2,3,4}\n",
        "\n",
        "z=x.discard(4)\n",
        "print(z)"
      ]
    },
    {
      "cell_type": "code",
      "execution_count": null,
      "metadata": {
        "colab": {
          "base_uri": "https://localhost:8080/"
        },
        "id": "0WccB1y2P1DR",
        "outputId": "892523a6-c4ff-4f4c-db8f-607a3548adfc"
      },
      "outputs": [
        {
          "name": "stdout",
          "output_type": "stream",
          "text": [
            "None\n"
          ]
        }
      ],
      "source": [
        "#Difference between discard() and remove() methods\n",
        "\n",
        "# discard() dont throw error if item not found\n",
        "# remove() throws error if item not found\n",
        "\n",
        "x   =   {1,2,3,4,5,6}\n",
        "y   =   {2,3,4}\n",
        "\n",
        "\n",
        "a=y.discard(44)\n",
        "\n",
        "\n",
        "print(a)"
      ]
    },
    {
      "cell_type": "code",
      "execution_count": null,
      "metadata": {
        "colab": {
          "base_uri": "https://localhost:8080/",
          "height": 193
        },
        "id": "Utv7h5ieQtyP",
        "outputId": "6b9bfbdb-fd9b-4df3-bd30-0e53a879edea"
      },
      "outputs": [
        {
          "ename": "KeyError",
          "evalue": "ignored",
          "output_type": "error",
          "traceback": [
            "\u001b[0;31m---------------------------------------------------------------------------\u001b[0m",
            "\u001b[0;31mKeyError\u001b[0m                                  Traceback (most recent call last)",
            "\u001b[0;32m<ipython-input-3-3ad8bed97354>\u001b[0m in \u001b[0;36m<cell line: 1>\u001b[0;34m()\u001b[0m\n\u001b[0;32m----> 1\u001b[0;31m \u001b[0mz\u001b[0m\u001b[0;34m=\u001b[0m\u001b[0mx\u001b[0m\u001b[0;34m.\u001b[0m\u001b[0mremove\u001b[0m\u001b[0;34m(\u001b[0m\u001b[0;36m44\u001b[0m\u001b[0;34m)\u001b[0m\u001b[0;34m\u001b[0m\u001b[0;34m\u001b[0m\u001b[0m\n\u001b[0m\u001b[1;32m      2\u001b[0m \u001b[0mprint\u001b[0m\u001b[0;34m(\u001b[0m\u001b[0mz\u001b[0m\u001b[0;34m)\u001b[0m\u001b[0;34m\u001b[0m\u001b[0;34m\u001b[0m\u001b[0m\n",
            "\u001b[0;31mKeyError\u001b[0m: 44"
          ]
        }
      ],
      "source": [
        "z=x.remove(44)  # thorws error if item not  found\n",
        "print(z)\n"
      ]
    },
    {
      "cell_type": "code",
      "execution_count": null,
      "metadata": {
        "colab": {
          "base_uri": "https://localhost:8080/"
        },
        "id": "kRpkmczi-tel",
        "outputId": "653e7be1-4416-45e3-d836-d5552e89676e"
      },
      "outputs": [
        {
          "name": "stdout",
          "output_type": "stream",
          "text": [
            "{'Apple'}\n"
          ]
        }
      ],
      "source": [
        "#symmetric_difference\n",
        "\n",
        "set1={\"Apple\",\"Mangoes\",'Bananas'}\n",
        "\n",
        "set2={\"Bananas\",\"Mangoes\"}\n",
        "\n",
        "z=set1.symmetric_difference(set2)  # All itemsexcept common items\n",
        "print(z)\n"
      ]
    },
    {
      "cell_type": "code",
      "execution_count": null,
      "metadata": {
        "colab": {
          "base_uri": "https://localhost:8080/"
        },
        "id": "-5_d442-_yVj",
        "outputId": "f28ff6ff-48bf-462c-b252-59a0125b2fc4"
      },
      "outputs": [
        {
          "name": "stdout",
          "output_type": "stream",
          "text": [
            "{'Bananas', 'Mangoes', 'Apple'}\n",
            "{'Apple'}\n"
          ]
        }
      ],
      "source": [
        "set1={\"Apple\",\"Mangoes\",'Bananas'}\n",
        "\n",
        "set3={\"Bananas\",\"Mangoes\"}\n",
        "\n",
        "print(set1)\n",
        "set1.symmetric_difference_update(set2)  #Replaces original set1 with   by difference items by removing common items\n",
        "print(set1)"
      ]
    },
    {
      "cell_type": "code",
      "execution_count": null,
      "metadata": {
        "colab": {
          "base_uri": "https://localhost:8080/"
        },
        "id": "gGONPjKpAgNq",
        "outputId": "43f511f1-8e4e-4489-eda4-88ed187f60c0"
      },
      "outputs": [
        {
          "name": "stdout",
          "output_type": "stream",
          "text": [
            "{False, True, 34.54, 'Apple', 'bamboo', 'c', 45, 'Mangoes', \"a','b\", 123, 'Table'}\n"
          ]
        }
      ],
      "source": [
        "#union()\n",
        "\n",
        "set1={\"Apple\",\"Mangoes\",123,34.54,True}\n",
        "set2={\"bamboo\",\"Table\",True,False,45,123}\n",
        "set3={\"a','b\",'c'}\n",
        "\n",
        "result=set1.union(set2,set3) # combines set1 with set2 and set3 by removing duplicates occurance more than once\n",
        "print(result)\n"
      ]
    },
    {
      "cell_type": "code",
      "execution_count": null,
      "metadata": {
        "colab": {
          "base_uri": "https://localhost:8080/"
        },
        "id": "ZCRaGpWtC-QQ",
        "outputId": "dab182f9-f707-4cbf-95c1-b77ad1b1de14"
      },
      "outputs": [
        {
          "name": "stdout",
          "output_type": "stream",
          "text": [
            "{True, 34.54, 'Apple', 123, 'Mangoes'}\n",
            "{False, True, 34.54, 'Apple', 'bamboo', 'c', 45, 'Mangoes', \"a','b\", 123, 'Table'}\n"
          ]
        }
      ],
      "source": [
        "#update\n",
        "\n",
        "set1={\"Apple\",\"Mangoes\",123,34.54,True}\n",
        "set2={\"bamboo\",\"Table\",True,False,45,123}\n",
        "set3={\"a','b\",'c'}\n",
        "\n",
        "print(set1)\n",
        "set1.update(set2,set3) #updates set1 with set2,set3\n",
        "print(set1)"
      ]
    },
    {
      "cell_type": "markdown",
      "metadata": {
        "id": "ivUrbAwE-NFj"
      },
      "source": [
        "# **Dictionaries**\n",
        "\n",
        "dictionaries are used to store data values in key: key value pair . Also called it as mapping.\n",
        "\n",
        "After python 3.7 dictionaries are ordered  means the sequence cant be changed and can  be accessible using indexing[].\n",
        "\n",
        "Dictionaries are  mutable or changeable  means we can add,delete items\n",
        "\n",
        "Dictionaries are not allow duplicates means we can not be have same key:keyValue pair notmorethan once\n",
        "\n",
        "Syntax: {key:keyvalue}\n",
        "\n",
        "**Dictionaries are ordered, changeable/mutable , not allow duplicates**"
      ]
    },
    {
      "cell_type": "code",
      "execution_count": null,
      "metadata": {
        "colab": {
          "base_uri": "https://localhost:8080/"
        },
        "id": "6p0zq0juE0YG",
        "outputId": "97ec1416-0b18-4d88-bbd5-8ed5c4261bd9"
      },
      "outputs": [
        {
          "name": "stdout",
          "output_type": "stream",
          "text": [
            "{'Brand': 'Honda', 'Model': 'City', 'year': 2023, 'Green_cert': True}\n"
          ]
        }
      ],
      "source": [
        "my_dct={\"Brand\":\"Honda\",\"Model\":\"City\",\"year\":2023,\"Green_cert\":True}\n",
        "\n",
        "print(my_dct)"
      ]
    },
    {
      "cell_type": "code",
      "execution_count": null,
      "metadata": {
        "colab": {
          "base_uri": "https://localhost:8080/"
        },
        "id": "EGA6qH3dAqLW",
        "outputId": "33644149-42d2-4394-cb23-83628ca52290"
      },
      "outputs": [
        {
          "name": "stdout",
          "output_type": "stream",
          "text": [
            "4\n"
          ]
        }
      ],
      "source": [
        "#len()\n",
        "my_dct={\"Brand\":\"Honda\",\"Model\":\"City\",\"year\":2023,\"Green_cert\":True}\n",
        "print(len(my_dct))  #length of dictionary"
      ]
    },
    {
      "cell_type": "code",
      "execution_count": null,
      "metadata": {
        "colab": {
          "base_uri": "https://localhost:8080/"
        },
        "id": "FhSYjigjA3Ai",
        "outputId": "6d58ed3f-6350-4bde-9a2d-18ca353c7900"
      },
      "outputs": [
        {
          "name": "stdout",
          "output_type": "stream",
          "text": [
            "<class 'dict'>\n"
          ]
        }
      ],
      "source": [
        "#type()\n",
        "\n",
        "my_dct={\"Brand\":\"Honda\",\"Model\":\"City\",\"year\":2023,\"Green_cert\":True}\n",
        "print(type(my_dct))"
      ]
    },
    {
      "cell_type": "code",
      "execution_count": null,
      "metadata": {
        "colab": {
          "base_uri": "https://localhost:8080/"
        },
        "id": "voV5STz9BHwb",
        "outputId": "419e771a-cee5-4987-c8a4-d4a8bb338c38"
      },
      "outputs": [
        {
          "name": "stdout",
          "output_type": "stream",
          "text": [
            "{'name': 'Raj', 'Age': 36}\n"
          ]
        }
      ],
      "source": [
        "#dictionary Constructor\n",
        "#dict()...  create a dictionary\n",
        "\n",
        "my_dct=dict(Name=\"Raj\",Age=36)\n",
        "print(my_dct)"
      ]
    },
    {
      "cell_type": "markdown",
      "metadata": {
        "id": "8_ZqYryYDBmF"
      },
      "source": [
        "**Data Types in Python**\n",
        "\n",
        "![2023-10-24 (1).png](data:image/png;base64,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)"
      ]
    },
    {
      "cell_type": "code",
      "execution_count": null,
      "metadata": {
        "colab": {
          "base_uri": "https://localhost:8080/"
        },
        "id": "LPfLupSfCAZa",
        "outputId": "d771450a-21a9-4ae1-8d99-b92fe23a64e9"
      },
      "outputs": [
        {
          "name": "stdout",
          "output_type": "stream",
          "text": [
            "City\n",
            "City\n"
          ]
        }
      ],
      "source": [
        "#Access Items\n",
        "\n",
        "my_dct={\"Brand\":\"Honda\",\"Model\":\"City\",\"year\":2023,\"Green_cert\":True}\n",
        "\n",
        "x=my_dct['Model']   # Here we are calling using index value []\n",
        "print(x)\n",
        "print(my_dct['Model'])"
      ]
    },
    {
      "cell_type": "code",
      "execution_count": null,
      "metadata": {
        "colab": {
          "base_uri": "https://localhost:8080/"
        },
        "id": "jAT9G0DGeC0d",
        "outputId": "cc5393c6-8e0c-40b8-a3c6-299538109341"
      },
      "outputs": [
        {
          "name": "stdout",
          "output_type": "stream",
          "text": [
            "City\n",
            "2023\n"
          ]
        }
      ],
      "source": [
        "#get()\n",
        "#To access the Value\n",
        "\n",
        "my_dct={\"Brand\":\"Honda\",\"Model\":\"City\",\"year\":2023,\"Green_cert\":True}\n",
        "[print(my_dct.get(\"Model\"))]\n",
        "x=my_dct.get('year')  # Here we are calling instead of index , we are using get() method\n",
        "print(x)"
      ]
    },
    {
      "cell_type": "markdown",
      "metadata": {
        "id": "-7Dh9HNGzm7P"
      },
      "source": [
        "**Difference between my_dct['Model']  and my_dct.get(\"Model\")**\n",
        "\n",
        "my_dct['Model']   >> If values exists it returns value else returns error\n",
        "\n",
        "my_dct.get(\"Model\")  >> if value doesnot exists it wiont throw error. Just retuns NONE\n",
        "\n",
        "```\n",
        "# This is formatted as code\n",
        "```\n",
        "\n"
      ]
    },
    {
      "cell_type": "code",
      "execution_count": null,
      "metadata": {
        "colab": {
          "base_uri": "https://localhost:8080/",
          "height": 245
        },
        "id": "MjzZfHP-0NYi",
        "outputId": "7f83ad45-4ed1-479b-bbcb-ed50306b9ab4"
      },
      "outputs": [
        {
          "name": "stdout",
          "output_type": "stream",
          "text": [
            "None\n"
          ]
        },
        {
          "ename": "KeyError",
          "evalue": "ignored",
          "output_type": "error",
          "traceback": [
            "\u001b[0;31m---------------------------------------------------------------------------\u001b[0m",
            "\u001b[0;31mKeyError\u001b[0m                                  Traceback (most recent call last)",
            "\u001b[0;32m<ipython-input-47-1e047f836d43>\u001b[0m in \u001b[0;36m<cell line: 6>\u001b[0;34m()\u001b[0m\n\u001b[1;32m      4\u001b[0m \u001b[0mprint\u001b[0m\u001b[0;34m(\u001b[0m\u001b[0mx\u001b[0m\u001b[0;34m)\u001b[0m\u001b[0;34m\u001b[0m\u001b[0;34m\u001b[0m\u001b[0m\n\u001b[1;32m      5\u001b[0m \u001b[0;34m\u001b[0m\u001b[0m\n\u001b[0;32m----> 6\u001b[0;31m \u001b[0my\u001b[0m\u001b[0;34m=\u001b[0m \u001b[0mmy_dct\u001b[0m\u001b[0;34m[\u001b[0m\u001b[0;34m'month'\u001b[0m\u001b[0;34m]\u001b[0m  \u001b[0;31m# here output throws error, because month doesnot exists\u001b[0m\u001b[0;34m\u001b[0m\u001b[0;34m\u001b[0m\u001b[0m\n\u001b[0m\u001b[1;32m      7\u001b[0m \u001b[0mprint\u001b[0m\u001b[0;34m(\u001b[0m\u001b[0my\u001b[0m\u001b[0;34m)\u001b[0m\u001b[0;34m\u001b[0m\u001b[0;34m\u001b[0m\u001b[0m\n",
            "\u001b[0;31mKeyError\u001b[0m: 'month'"
          ]
        }
      ],
      "source": [
        "my_dct={\"Brand\":\"Honda\",\"Model\":\"City\",\"year\":2023,\"Green_cert\":True}\n",
        "\n",
        "x=my_dct.get('month')  # Here it sends output as none, because month doesnot exists\n",
        "print(x)\n",
        "\n",
        "y= my_dct['month']  # here output throws error, because month doesnot exists\n",
        "print(y)"
      ]
    },
    {
      "cell_type": "code",
      "execution_count": null,
      "metadata": {
        "colab": {
          "base_uri": "https://localhost:8080/"
        },
        "id": "rJU-GUPyeg82",
        "outputId": "d2d52ce4-5c33-4b34-d805-8f3b5bf80760"
      },
      "outputs": [
        {
          "name": "stdout",
          "output_type": "stream",
          "text": [
            "dict_keys(['Brand', 'Model', 'year', 'Green_cert'])\n"
          ]
        }
      ],
      "source": [
        "#keys()\n",
        "# To Accessthe keys\n",
        "\n",
        "my_dct={\"Brand\":\"Honda\",\"Model\":\"City\",\"year\":2023,\"Green_cert\":True}\n",
        "x=my_dct.keys()  #Toaccess the keys\n",
        "print(x)"
      ]
    },
    {
      "cell_type": "code",
      "execution_count": null,
      "metadata": {
        "colab": {
          "base_uri": "https://localhost:8080/"
        },
        "id": "3Ey13hDGgauX",
        "outputId": "04011798-4efd-4f0d-8a0e-4491cc74e6f8"
      },
      "outputs": [
        {
          "name": "stdout",
          "output_type": "stream",
          "text": [
            "{'Brand': 'Honda', 'Model': 'City', 'year': 2023, 'Green_cert': True, 'color': 'red'}\n"
          ]
        }
      ],
      "source": [
        "# Add an element to dictionary\n",
        "\n",
        "my_dct={\"Brand\":\"Honda\",\"Model\":\"City\",\"year\":2023,\"Green_cert\":True}\n",
        "\n",
        "my_dct['color'] ='red'   #Adds new key with keyValue\n",
        "print(my_dct)\n",
        "\n"
      ]
    },
    {
      "cell_type": "code",
      "execution_count": null,
      "metadata": {
        "colab": {
          "base_uri": "https://localhost:8080/"
        },
        "id": "6OVEPhhLg8Qb",
        "outputId": "c26d828b-fb77-4291-f74e-98515437053e"
      },
      "outputs": [
        {
          "name": "stdout",
          "output_type": "stream",
          "text": [
            "dict_values(['Honda', 'City', 2023, True])\n",
            "True\n",
            "True\n",
            "True\n"
          ]
        }
      ],
      "source": [
        "#values()\n",
        "\n",
        "#values() method returns keyvalue\n",
        "\n",
        "\n",
        "my_dct={\"Brand\":\"Honda\",\"Model\":\"City\",\"year\":2023,\"Green_cert\":True}\n",
        "\n",
        "print(my_dct.values())\n",
        "\n",
        "print(my_dct['Brand'] == 'Honda')\n",
        "\n",
        "x=(my_dct['Brand'] == 'Honda')\n",
        "\n",
        "y=my_dct['Brand'] == 'Honda'\n",
        "\n",
        "print(y)\n",
        "print(x)"
      ]
    },
    {
      "cell_type": "code",
      "source": [
        "#By default it checks key only\n",
        "\n",
        "spam={'x':'cat'}\n",
        "print('cat' in spam)     #By default it checks key only\n",
        "print('cat' in spam.keys()) #By default it checks key only\n",
        "\n",
        "spam={'cat':'x'}\n",
        "print('cat' in spam)\n",
        "print('cat' in spam.keys())"
      ],
      "metadata": {
        "colab": {
          "base_uri": "https://localhost:8080/"
        },
        "id": "9CA1tQWWYZye",
        "outputId": "ced1878c-0ba4-4366-bf91-b1d0272bf724"
      },
      "execution_count": null,
      "outputs": [
        {
          "output_type": "stream",
          "name": "stdout",
          "text": [
            "False\n",
            "False\n",
            "True\n",
            "True\n"
          ]
        }
      ]
    },
    {
      "cell_type": "code",
      "source": [],
      "metadata": {
        "id": "lCkMIj4jk3gM"
      },
      "execution_count": null,
      "outputs": []
    },
    {
      "cell_type": "code",
      "source": [
        "#By default it checks key only\n",
        "\n",
        "spam={'x':'cat'}\n",
        "\n",
        "spam['cat'] ='dog'\n",
        "print(spam)\n",
        "\n",
        "spam1={'cat':'x'}\n",
        "spam1['cat'] ='fox'\n",
        "print(spam1)"
      ],
      "metadata": {
        "colab": {
          "base_uri": "https://localhost:8080/"
        },
        "id": "IIYRj-Ombqm0",
        "outputId": "ccceca8c-3373-49c8-ce87-6b71b992cfbe"
      },
      "execution_count": null,
      "outputs": [
        {
          "output_type": "stream",
          "name": "stdout",
          "text": [
            "{'x': 'cat', 'cat': 'dog'}\n",
            "{'cat': 'fox'}\n"
          ]
        }
      ]
    },
    {
      "cell_type": "code",
      "source": [
        "#By default it checks key only\n",
        "\n",
        "spam={'x':'cat'}\n",
        "print('cat' in spam)     #By default it checks key only\n",
        "print('cat' in spam.values()) # it checks key values only\n",
        "\n",
        "spam={'cat':'x'}\n",
        "print('cat' in spam)   # By defaultit checks keys only\n",
        "print('cat' in spam.values())  # Here it checks key value"
      ],
      "metadata": {
        "colab": {
          "base_uri": "https://localhost:8080/"
        },
        "outputId": "3951af8d-bff0-40c1-babf-44ea8cb61cb9",
        "id": "V9li3Pz8k4dX"
      },
      "execution_count": null,
      "outputs": [
        {
          "output_type": "stream",
          "name": "stdout",
          "text": [
            "False\n",
            "True\n",
            "True\n",
            "False\n"
          ]
        }
      ]
    },
    {
      "cell_type": "code",
      "source": [],
      "metadata": {
        "id": "dPYo_vj6lHPK"
      },
      "execution_count": null,
      "outputs": []
    },
    {
      "cell_type": "code",
      "source": [
        "#By default it checks key only\n",
        "\n",
        "spam={'x':'cat'}\n",
        "\n",
        "spam['x'] ='dog'   #Changing key value\n",
        "print(spam)\n",
        "\n",
        "spam1={'cat':'x'}\n",
        "spam1['cat'] ='fox' #Changing key value\n",
        "print(spam1)"
      ],
      "metadata": {
        "colab": {
          "base_uri": "https://localhost:8080/"
        },
        "outputId": "8c3556d2-3d80-4af4-9a16-004f7d0a7e9d",
        "id": "QYLKMcQ-lgvL"
      },
      "execution_count": null,
      "outputs": [
        {
          "output_type": "stream",
          "name": "stdout",
          "text": [
            "{'x': 'dog'}\n",
            "{'cat': 'fox'}\n"
          ]
        }
      ]
    },
    {
      "cell_type": "code",
      "execution_count": null,
      "metadata": {
        "colab": {
          "base_uri": "https://localhost:8080/"
        },
        "id": "8VPWNFIRiWkl",
        "outputId": "8e93ddad-07db-481f-f7d0-2b8645a7baf1"
      },
      "outputs": [
        {
          "name": "stdout",
          "output_type": "stream",
          "text": [
            "{'Brand': 'Honda', 'Model': 'City', 'year': 2023, 'Green_cert': 'False', 'engine cc': 3230}\n",
            "\n",
            "<built-in method keys of dict object at 0x7e9d0fc48400>\n",
            "\n",
            "dict_keys(['Brand', 'Model', 'year', 'Green_cert', 'engine cc'])\n",
            "<built-in method values of dict object at 0x7e9d0fc48400>\n",
            "\n",
            "dict_values(['Honda', 'City', 2023, 'False', 3230])\n"
          ]
        }
      ],
      "source": [
        "# Change dictionary values\n",
        "\n",
        "my_dct={\"Brand\":\"Honda\",\"Model\":\"City\",\"year\":2023,\"Green_cert\":True}\n",
        "\n",
        "my_dct['Green_cert'] ='False'  # Changes value\n",
        "my_dct['engine cc'] = 3230 #Adds item\n",
        "\n",
        "print(my_dct)\n",
        "print()\n",
        "print(my_dct.keys)\n",
        "print()\n",
        "x=my_dct.keys()\n",
        "print(x)\n",
        "\n",
        "\n",
        "print(my_dct.values)\n",
        "print()\n",
        "y=my_dct.values()\n",
        "print(y)\n",
        "\n"
      ]
    },
    {
      "cell_type": "code",
      "execution_count": null,
      "metadata": {
        "colab": {
          "base_uri": "https://localhost:8080/"
        },
        "id": "0bqKoeB7kYt3",
        "outputId": "f60cadcd-5fac-46c9-b4a0-1e71215fe83e"
      },
      "outputs": [
        {
          "name": "stdout",
          "output_type": "stream",
          "text": [
            "dict_items([('Brand', 'Honda'), ('Model', 'City'), ('year', 2023), ('Green_cert', True)])\n"
          ]
        }
      ],
      "source": [
        "#Items()\n",
        "\n",
        "#Returns dictionary as tuple\n",
        "\n",
        "my_dct={\"Brand\":\"Honda\",\"Model\":\"City\",\"year\":2023,\"Green_cert\":True}\n",
        "\n",
        "print(my_dct.items())  #prints dictionary as tuple"
      ]
    },
    {
      "cell_type": "code",
      "execution_count": null,
      "metadata": {
        "colab": {
          "base_uri": "https://localhost:8080/"
        },
        "id": "5oPeoGSvoITH",
        "outputId": "e2e5bfe7-4094-4b80-d8c3-a1d7405c3b22"
      },
      "outputs": [
        {
          "name": "stdout",
          "output_type": "stream",
          "text": [
            "('Brand', 'Honda') ('Model', 'City') ('year', 2023) ('Green_cert', True)\n",
            "<class 'dict_items'>\n",
            "('Brand', 'Honda')\n",
            "<class 'tuple'>\n",
            "[('Model', 'City'), ('year', 2023), ('Green_cert', True)]\n",
            "<class 'list'>\n"
          ]
        }
      ],
      "source": [
        "#converts dictionary to tuple then list\n",
        "\n",
        "my_dct={\"Brand\":\"Honda\",\"Model\":\"City\",\"year\":2023,\"Green_cert\":True}\n",
        "\n",
        "t1=my_dct.items()  # converted to tuple\n",
        "print(*t1)  #Prints tuple\n",
        "print(type(t1))\n",
        "\n",
        "(a,*b)=t1  #  Accesing all tuple items from dictionary\n",
        "print(a)\n",
        "print(type(a))\n",
        "print(b)   #Access all items to list\n",
        "print(type(b))"
      ]
    },
    {
      "cell_type": "code",
      "execution_count": null,
      "metadata": {
        "colab": {
          "base_uri": "https://localhost:8080/"
        },
        "id": "lrJjRGX6ojwF",
        "outputId": "3ca9345c-f969-4723-c545-6d2bd748fc14"
      },
      "outputs": [
        {
          "name": "stdout",
          "output_type": "stream",
          "text": [
            "{'Brand': 'Honda', 'Model': 'City', 'year': 2023, 'Green_cert': True, 'country': 'Japan'}\n"
          ]
        }
      ],
      "source": [
        "my_dct={\"Brand\":\"Honda\",\"Model\":\"City\",\"year\":2023,\"Green_cert\":True}\n",
        "\n",
        "my_dct['country'] ='Japan'\n",
        "\n",
        "print(my_dct)\n",
        "\n"
      ]
    },
    {
      "cell_type": "code",
      "execution_count": null,
      "metadata": {
        "colab": {
          "base_uri": "https://localhost:8080/"
        },
        "id": "aAb3pUbxx9_C",
        "outputId": "6e89f2b7-5d46-4405-a433-3af9bb0025f7"
      },
      "outputs": [
        {
          "name": "stdout",
          "output_type": "stream",
          "text": [
            "<class 'dict_items'>\n",
            "{'Brand': 'Honda', 'Model': 'City', 'year': 2023, 'Green_cert': True, 'country': 'Japan'}\n",
            "\n",
            "dict_items([('Brand', 'Honda'), ('Model', 'City'), ('year', 2023), ('Green_cert', True), ('country', 'Japan')])\n"
          ]
        }
      ],
      "source": [
        "my_dct={\"Brand\":\"Honda\",\"Model\":\"City\",\"year\":2023,\"Green_cert\":True}\n",
        "\n",
        "x=my_dct.items()\n",
        "print(type(x))\n",
        "\n",
        "my_dct['country']='Japan'\n",
        "\n",
        "print(my_dct)\n",
        "print()\n",
        "\n",
        "print(x)"
      ]
    },
    {
      "cell_type": "code",
      "execution_count": null,
      "metadata": {
        "colab": {
          "base_uri": "https://localhost:8080/"
        },
        "id": "KswZDs3i4ICQ",
        "outputId": "4b8a287d-0fbf-4bcd-888d-fe9ed04b9383"
      },
      "outputs": [
        {
          "data": {
            "text/plain": [
              "{False}"
            ]
          },
          "execution_count": 67,
          "metadata": {},
          "output_type": "execute_result"
        }
      ],
      "source": [
        "#Checks if key exists\n",
        "\n",
        "my_dct={\"Brand\":\"Honda\",\"Model\":\"City\",\"year\":2023,\"Green_cert\":True}\n",
        "{\"Brand\" in my_dct}\n",
        "{'brand' in my_dct}\n"
      ]
    },
    {
      "cell_type": "code",
      "execution_count": null,
      "metadata": {
        "colab": {
          "base_uri": "https://localhost:8080/"
        },
        "id": "LGzP_HcS7WcM",
        "outputId": "fb96b41f-b2da-47f4-dfc7-92ef5ba67543"
      },
      "outputs": [
        {
          "name": "stdout",
          "output_type": "stream",
          "text": [
            "{'Brand': 'Honda', 'Model': 'City', 'year': 2023, 'Green_cert': True}\n",
            "\n",
            "{'Brand': 'Honda', 'Model': 'City', 'year': 2021, 'Green_cert': True}\n"
          ]
        }
      ],
      "source": [
        "#Change Items in dictionary\n",
        "\n",
        "my_dct={\"Brand\":\"Honda\",\"Model\":\"City\",\"year\":2023,\"Green_cert\":True}\n",
        "print(my_dct)\n",
        "print()\n",
        "\n",
        "my_dct['year'] =2021\n",
        "\n",
        "print(my_dct)\n"
      ]
    },
    {
      "cell_type": "code",
      "execution_count": null,
      "metadata": {
        "colab": {
          "base_uri": "https://localhost:8080/"
        },
        "id": "4oREkR9f8Pl6",
        "outputId": "5e68a4aa-b027-4aba-e099-0ca51e93f56e"
      },
      "outputs": [
        {
          "name": "stdout",
          "output_type": "stream",
          "text": [
            "{'Brand': 'Honda', 'Model': 'City', 'year': 2023, 'Green_cert': True}\n",
            "\n",
            "{'Brand': 'Honda', 'Model': 'City VTZ', 'year': 2023, 'Green_cert': True}\n"
          ]
        }
      ],
      "source": [
        "#Update dictionary\n",
        "\n",
        "my_dct={\"Brand\":\"Honda\",\"Model\":\"City\",\"year\":2023,\"Green_cert\":True}\n",
        "\n",
        "print(my_dct)\n",
        "print()\n",
        "my_dct.update({\"Model\":\"City VTZ\"})\n",
        "\n",
        "print(my_dct)"
      ]
    },
    {
      "cell_type": "markdown",
      "metadata": {
        "id": "lCzQVk4M9tTV"
      },
      "source": [
        "**Remove Items**\n",
        "\n",
        "Removes items fro the dictionary\n"
      ]
    },
    {
      "cell_type": "code",
      "execution_count": null,
      "metadata": {
        "colab": {
          "base_uri": "https://localhost:8080/",
          "height": 297
        },
        "id": "z8MCqOkn8gcM",
        "outputId": "1071c9ca-4a6b-4609-ac73-40d8fb95c8fa"
      },
      "outputs": [
        {
          "name": "stdout",
          "output_type": "stream",
          "text": [
            "{'Brand': 'Honda', 'Model': 'City', 'year': 2023}\n",
            "True\n",
            "\n"
          ]
        },
        {
          "ename": "KeyError",
          "evalue": "ignored",
          "output_type": "error",
          "traceback": [
            "\u001b[0;31m---------------------------------------------------------------------------\u001b[0m",
            "\u001b[0;31mKeyError\u001b[0m                                  Traceback (most recent call last)",
            "\u001b[0;32m<ipython-input-77-4c032add82b1>\u001b[0m in \u001b[0;36m<cell line: 12>\u001b[0;34m()\u001b[0m\n\u001b[1;32m     10\u001b[0m \u001b[0mprint\u001b[0m\u001b[0;34m(\u001b[0m\u001b[0;34m)\u001b[0m\u001b[0;34m\u001b[0m\u001b[0;34m\u001b[0m\u001b[0m\n\u001b[1;32m     11\u001b[0m \u001b[0;34m\u001b[0m\u001b[0m\n\u001b[0;32m---> 12\u001b[0;31m \u001b[0my\u001b[0m\u001b[0;34m=\u001b[0m\u001b[0mmy_dct\u001b[0m\u001b[0;34m.\u001b[0m\u001b[0mpop\u001b[0m\u001b[0;34m(\u001b[0m\u001b[0;34m\"City\"\u001b[0m\u001b[0;34m)\u001b[0m   \u001b[0;31m# Error because pop only accept KEY only not Value\u001b[0m\u001b[0;34m\u001b[0m\u001b[0;34m\u001b[0m\u001b[0m\n\u001b[0m\u001b[1;32m     13\u001b[0m \u001b[0mprint\u001b[0m\u001b[0;34m(\u001b[0m\u001b[0my\u001b[0m\u001b[0;34m)\u001b[0m\u001b[0;34m\u001b[0m\u001b[0;34m\u001b[0m\u001b[0m\n\u001b[1;32m     14\u001b[0m \u001b[0mprint\u001b[0m\u001b[0;34m(\u001b[0m\u001b[0mmy_dct\u001b[0m\u001b[0;34m)\u001b[0m\u001b[0;34m\u001b[0m\u001b[0;34m\u001b[0m\u001b[0m\n",
            "\u001b[0;31mKeyError\u001b[0m: 'City'"
          ]
        }
      ],
      "source": [
        "#pop()\n",
        "#Removes specific KEY from the dictionary\n",
        "#Syntax pop(item)\n",
        "\n",
        "my_dct={\"Brand\":\"Honda\",\"Model\":\"City\",\"year\":2023,\"Green_cert\":True}\n",
        "\n",
        "x=my_dct.pop(\"Green_cert\")   #removes  KEY\n",
        "print(my_dct)\n",
        "print(x)\n",
        "print()\n",
        "\n",
        "y=my_dct.pop(\"City\")   # Error because pop only accept KEY only not Value\n",
        "print(y)\n",
        "print(my_dct)"
      ]
    },
    {
      "cell_type": "code",
      "execution_count": null,
      "metadata": {
        "colab": {
          "base_uri": "https://localhost:8080/"
        },
        "id": "Ob2aFY3w-GJo",
        "outputId": "945192bc-257e-4ab3-bc71-cc847db14753"
      },
      "outputs": [
        {
          "name": "stdout",
          "output_type": "stream",
          "text": [
            "{'Brand': 'Hyundai', 'Model': 'City', 'year': 2023, 'Green_cert': True}\n",
            "('Green_cert', True)\n"
          ]
        }
      ],
      "source": [
        "#popitem()\n",
        "#Removes last inserted Item only\n",
        "\n",
        "my_dct={\"Brand\":\"Honda\",\"Model\":\"City\",\"year\":2023,\"Green_cert\":True}\n",
        "\n",
        "my_dct.update({\"Brand\":\"Hyundai\"}) # updates dictionary\n",
        "\n",
        "print(my_dct)\n",
        "print(my_dct.popitem())  #Removes last item from dictionary\n",
        "\n"
      ]
    },
    {
      "cell_type": "code",
      "execution_count": null,
      "metadata": {
        "colab": {
          "base_uri": "https://localhost:8080/"
        },
        "id": "-FazMqO9_CRP",
        "outputId": "2886b037-7852-40a7-aa83-84b88d4147a7"
      },
      "outputs": [
        {
          "name": "stdout",
          "output_type": "stream",
          "text": [
            "{}\n"
          ]
        }
      ],
      "source": [
        "#clear()\n",
        "\n",
        "my_dct={\"Brand\":\"Honda\",\"Model\":\"City\",\"year\":2023,\"Green_cert\":True}\n",
        "\n",
        "my_dct.clear()   # clears item in dictioanry\n",
        "print(my_dct)"
      ]
    },
    {
      "cell_type": "code",
      "execution_count": null,
      "metadata": {
        "colab": {
          "base_uri": "https://localhost:8080/",
          "height": 227
        },
        "id": "xrMYyI10_tTn",
        "outputId": "dbceec18-70b1-4f60-8750-e5ee4238b64d"
      },
      "outputs": [
        {
          "ename": "NameError",
          "evalue": "ignored",
          "output_type": "error",
          "traceback": [
            "\u001b[0;31m---------------------------------------------------------------------------\u001b[0m",
            "\u001b[0;31mNameError\u001b[0m                                 Traceback (most recent call last)",
            "\u001b[0;32m<ipython-input-92-42169cbde5a6>\u001b[0m in \u001b[0;36m<cell line: 6>\u001b[0;34m()\u001b[0m\n\u001b[1;32m      4\u001b[0m \u001b[0;32mdel\u001b[0m\u001b[0;34m(\u001b[0m\u001b[0mmy_dct\u001b[0m\u001b[0;34m)\u001b[0m  \u001b[0;31m# Deletes dictioary from memory\u001b[0m\u001b[0;34m\u001b[0m\u001b[0;34m\u001b[0m\u001b[0m\n\u001b[1;32m      5\u001b[0m \u001b[0;34m\u001b[0m\u001b[0m\n\u001b[0;32m----> 6\u001b[0;31m \u001b[0mprint\u001b[0m\u001b[0;34m(\u001b[0m\u001b[0mmy_dct\u001b[0m\u001b[0;34m)\u001b[0m \u001b[0;31m#throw error\u001b[0m\u001b[0;34m\u001b[0m\u001b[0;34m\u001b[0m\u001b[0m\n\u001b[0m\u001b[1;32m      7\u001b[0m \u001b[0;34m\u001b[0m\u001b[0m\n",
            "\u001b[0;31mNameError\u001b[0m: name 'my_dct' is not defined"
          ]
        }
      ],
      "source": [
        "#del\n",
        "\n",
        "my_dct={\"Brand\":\"Honda\",\"Model\":\"City\",\"year\":2023,\"Green_cert\":True}\n",
        "del(my_dct)  # Deletes dictioary from memory\n",
        "\n",
        "print(my_dct) #throw error\n",
        "\n"
      ]
    },
    {
      "cell_type": "code",
      "execution_count": null,
      "metadata": {
        "colab": {
          "base_uri": "https://localhost:8080/",
          "height": 245
        },
        "id": "bsnG46Dm_7vZ",
        "outputId": "0c2de7ce-3859-4877-8614-caf964eecd93"
      },
      "outputs": [
        {
          "ename": "KeyError",
          "evalue": "ignored",
          "output_type": "error",
          "traceback": [
            "\u001b[0;31m---------------------------------------------------------------------------\u001b[0m",
            "\u001b[0;31mKeyError\u001b[0m                                  Traceback (most recent call last)",
            "\u001b[0;32m<ipython-input-95-704812992ce0>\u001b[0m in \u001b[0;36m<cell line: 7>\u001b[0;34m()\u001b[0m\n\u001b[1;32m      5\u001b[0m \u001b[0;32mdel\u001b[0m \u001b[0mmy_dct\u001b[0m\u001b[0;34m[\u001b[0m\u001b[0;34m'Brand'\u001b[0m\u001b[0;34m]\u001b[0m \u001b[0;31m# removes specified key\u001b[0m\u001b[0;34m\u001b[0m\u001b[0;34m\u001b[0m\u001b[0m\n\u001b[1;32m      6\u001b[0m \u001b[0;34m\u001b[0m\u001b[0m\n\u001b[0;32m----> 7\u001b[0;31m \u001b[0;32mdel\u001b[0m \u001b[0mmy_dct\u001b[0m\u001b[0;34m[\u001b[0m\u001b[0;34m\"city\"\u001b[0m\u001b[0;34m]\u001b[0m\u001b[0;34m\u001b[0m\u001b[0;34m\u001b[0m\u001b[0m\n\u001b[0m\u001b[1;32m      8\u001b[0m \u001b[0;34m\u001b[0m\u001b[0m\n\u001b[1;32m      9\u001b[0m \u001b[0mmy_dct\u001b[0m\u001b[0;34m\u001b[0m\u001b[0;34m\u001b[0m\u001b[0m\n",
            "\u001b[0;31mKeyError\u001b[0m: 'city'"
          ]
        }
      ],
      "source": [
        "#del\n",
        "\n",
        "my_dct={\"Brand\":\"Honda\",\"Model\":\"City\",\"year\":2023,\"Green_cert\":True}\n",
        "\n",
        "del my_dct['Brand'] # removes specified KEY\n",
        "\n",
        "\n",
        "my_dct"
      ]
    },
    {
      "cell_type": "code",
      "execution_count": null,
      "metadata": {
        "colab": {
          "base_uri": "https://localhost:8080/"
        },
        "id": "gg6r7iIKAfrN",
        "outputId": "43ffdd86-dfbe-4f18-96c1-376b761df098"
      },
      "outputs": [
        {
          "name": "stdout",
          "output_type": "stream",
          "text": [
            "Brand\n",
            "Model\n",
            "year\n",
            "Green_cert\n"
          ]
        }
      ],
      "source": [
        "#LOOP in Dictionaries\n",
        "#By default it prints key only\n",
        "\n",
        "my_dct={\"Brand\":\"Honda\",\"Model\":\"City\",\"year\":2023,\"Green_cert\":True}\n",
        "\n",
        "for i in my_dct:  #print key only\n",
        "    print(i)"
      ]
    },
    {
      "cell_type": "code",
      "execution_count": null,
      "metadata": {
        "colab": {
          "base_uri": "https://localhost:8080/"
        },
        "id": "XjBzq7ioA5Pl",
        "outputId": "50f3e6e0-00e5-4902-a677-50da7e232845"
      },
      "outputs": [
        {
          "name": "stdout",
          "output_type": "stream",
          "text": [
            "Brand\n",
            "Model\n",
            "year\n",
            "Green_cert\n"
          ]
        }
      ],
      "source": [
        "#LOOP\n",
        "\n",
        "my_dct={\"Brand\":\"Honda\",\"Model\":\"City\",\"year\":2023,\"Green_cert\":True}\n",
        "\n",
        "for i in my_dct.keys():\n",
        "    print(i)"
      ]
    },
    {
      "cell_type": "code",
      "execution_count": null,
      "metadata": {
        "colab": {
          "base_uri": "https://localhost:8080/"
        },
        "id": "LNgfJ0OlBDl1",
        "outputId": "cf79959a-dcbb-4ebc-cf1c-e159de31de45"
      },
      "outputs": [
        {
          "name": "stdout",
          "output_type": "stream",
          "text": [
            "Honda\n",
            "City\n",
            "2023\n",
            "True\n"
          ]
        }
      ],
      "source": [
        "#LOOP\n",
        "\n",
        "my_dct={\"Brand\":\"Honda\",\"Model\":\"City\",\"year\":2023,\"Green_cert\":True}\n",
        "\n",
        "for i in my_dct.values():  #prints keyValues() only\n",
        "    print(i)"
      ]
    },
    {
      "cell_type": "code",
      "execution_count": null,
      "metadata": {
        "colab": {
          "base_uri": "https://localhost:8080/"
        },
        "id": "TOES_-AVBNTs",
        "outputId": "d15c5b97-a975-4b05-8d55-bd6093ba99a1"
      },
      "outputs": [
        {
          "name": "stdout",
          "output_type": "stream",
          "text": [
            "('Brand', 'Honda')\n",
            "('Model', 'City')\n",
            "('year', 2023)\n",
            "('Green_cert', True)\n"
          ]
        }
      ],
      "source": [
        "#LOOP\n",
        "\n",
        "my_dct={\"Brand\":\"Honda\",\"Model\":\"City\",\"year\":2023,\"Green_cert\":True}\n",
        "\n",
        "for i in my_dct.items():  # prints items only\n",
        "    print(i)\n"
      ]
    },
    {
      "cell_type": "code",
      "execution_count": null,
      "metadata": {
        "colab": {
          "base_uri": "https://localhost:8080/"
        },
        "id": "Qat1ZmQ0BWRU",
        "outputId": "4bbd1f55-411a-434c-cf8a-de47e880e5fe"
      },
      "outputs": [
        {
          "name": "stdout",
          "output_type": "stream",
          "text": [
            "Brand Honda\n",
            "Model City\n",
            "year 2023\n",
            "Green_cert True\n"
          ]
        }
      ],
      "source": [
        "#LOOP\n",
        "\n",
        "my_dct={\"Brand\":\"Honda\",\"Model\":\"City\",\"year\":2023,\"Green_cert\":True}\n",
        "\n",
        "for x,y in my_dct.items():\n",
        "    print(x,y)"
      ]
    },
    {
      "cell_type": "code",
      "execution_count": null,
      "metadata": {
        "colab": {
          "base_uri": "https://localhost:8080/"
        },
        "id": "hTss0RqHBuh0",
        "outputId": "6acf2a21-f3eb-485e-d8d6-00f6549150e0"
      },
      "outputs": [
        {
          "name": "stdout",
          "output_type": "stream",
          "text": [
            "Keys are:: Brand   Key Values are:: Honda\n",
            "Keys are:: Model   Key Values are:: City\n",
            "Keys are:: year   Key Values are:: 2023\n",
            "Keys are:: Green_cert   Key Values are:: True\n"
          ]
        }
      ],
      "source": [
        "#LOOP\n",
        "\n",
        "my_dct={\"Brand\":\"Honda\",\"Model\":\"City\",\"year\":2023,\"Green_cert\":True}\n",
        "\n",
        "for x,y in my_dct.items():\n",
        "    print(\"Keys are::\",x,end=\"   \")\n",
        "    print(\"Key Values are::\",y)"
      ]
    },
    {
      "cell_type": "code",
      "execution_count": null,
      "metadata": {
        "colab": {
          "base_uri": "https://localhost:8080/"
        },
        "id": "GKn2HZTBCJUS",
        "outputId": "6fc21352-91c8-4447-c145-c708f7465c9a"
      },
      "outputs": [
        {
          "name": "stdout",
          "output_type": "stream",
          "text": [
            "{'Brand': 'Honda', 'Model': 'City', 'year': 2023, 'Green_cert': True}\n",
            "{'Brand': 'Honda', 'Model': 'City', 'year': 2023, 'Green_cert': True}\n",
            "139213039476864\n",
            "139213038834368\n",
            "{'Brand': 'Honda', 'Model': 'City', 'year': 2023, 'Green_cert': True}\n"
          ]
        }
      ],
      "source": [
        "#copy()\n",
        "#copies one dictionary to another\n",
        "\n",
        "my_dct1={\"Brand\":\"Honda\",\"Model\":\"City\",\"year\":2023,\"Green_cert\":True}\n",
        "\n",
        "\n",
        "\n",
        "my_dct2=my_dct1.copy()\n",
        "print(my_dct1)\n",
        "print(my_dct2)\n",
        "\n",
        "print(id(my_dct1))  # Different memory locaiton\n",
        "print(id(my_dct2))  # different memory location\n",
        "\n",
        "del my_dct1\n",
        "print(my_dct2)"
      ]
    },
    {
      "cell_type": "code",
      "execution_count": null,
      "metadata": {
        "colab": {
          "base_uri": "https://localhost:8080/"
        },
        "id": "9ZOsgITFCzkM",
        "outputId": "d1cc1f87-b447-4e31-a847-6eff6834411a"
      },
      "outputs": [
        {
          "name": "stdout",
          "output_type": "stream",
          "text": [
            "{'Brand': 'Honda', 'Model': 'City', 'year': 2023, 'Green_cert': True}\n",
            "{'Brand': 'Honda', 'Model': 'City', 'year': 2023, 'Green_cert': True, 'Country': 'Japan'}\n",
            "{'Brand': 'Honda', 'Model': 'City', 'year': 2023, 'Green_cert': True, 'Country': 'Japan'}\n",
            "139213038096000\n",
            "139213038096000\n",
            "{'Brand': 'Honda', 'Model': 'City', 'year': 2023, 'Green_cert': True, 'Country': 'Japan'}\n"
          ]
        }
      ],
      "source": [
        "my_dct1={\"Brand\":\"Honda\",\"Model\":\"City\",\"year\":2023,\"Green_cert\":True}\n",
        "\n",
        "my_dct2=my_dct1\n",
        "print(my_dct2)\n",
        "\n",
        "my_dct1[\"Country\"] ='Japan'\n",
        "\n",
        "print(my_dct1)\n",
        "print(my_dct2)\n",
        "\n",
        "print(id(my_dct1))  # same memory location\n",
        "print(id(my_dct2))  #same memory location\n",
        "\n",
        "\n",
        "del my_dct1\n",
        "\n",
        "print(my_dct2)"
      ]
    },
    {
      "cell_type": "markdown",
      "metadata": {
        "id": "1jl7Voh7HQ7b"
      },
      "source": [
        "**Difference between copy()  and assignment(=)operator**\n",
        "\n",
        "copy method create new varibale with 2 different seperaate memory location.\n",
        "\n",
        "=  will refernce same memory location"
      ]
    },
    {
      "cell_type": "code",
      "execution_count": null,
      "metadata": {
        "colab": {
          "base_uri": "https://localhost:8080/"
        },
        "id": "L_Dn4d7cHMoY",
        "outputId": "cccb8508-78c5-4197-ec82-af036079b707"
      },
      "outputs": [
        {
          "name": "stdout",
          "output_type": "stream",
          "text": [
            "{'Brand': 'Honda', 'Model': 'City', 'year': 2023, 'Green_cert': True}\n",
            "{'Brand': 'Honda', 'Model': 'City', 'year': 2023, 'Green_cert': True}\n",
            "139213038105920 \n",
            " 139213039471488\n"
          ]
        }
      ],
      "source": [
        "#dict()\n",
        "# Dictionary Constructor\n",
        "# create dictionary\n",
        "\n",
        "my_dct1={\"Brand\":\"Honda\",\"Model\":\"City\",\"year\":2023,\"Green_cert\":True}\n",
        "\n",
        "my_dct2=dict(my_dct1)  #creates a new dictionary\n",
        "\n",
        "print(my_dct1)\n",
        "print(my_dct2)\n",
        "\n",
        "x=id(my_dct1)\n",
        "y=id(my_dct2)\n",
        "\n",
        "print(x,\"\\n\",y)"
      ]
    },
    {
      "cell_type": "markdown",
      "metadata": {
        "id": "oXwznQb_Kv-s"
      },
      "source": [
        "**Dictionary Constructor**\n",
        "\n",
        "dict()  converts any list,tuple, dictionary, set to dictionary\n",
        "\n",
        "But the format should be key() and value() pair"
      ]
    },
    {
      "cell_type": "code",
      "execution_count": null,
      "metadata": {
        "colab": {
          "base_uri": "https://localhost:8080/"
        },
        "id": "br2IdNp9Ib_T",
        "outputId": "9c32cb64-3b36-4296-902f-da461ba5a11b"
      },
      "outputs": [
        {
          "name": "stdout",
          "output_type": "stream",
          "text": [
            "[['f_name', 'Shivaprrasad'], ['l_name', 'Sunkarranam'], ['m_name', 'nil']]\n",
            "{'f_name': 'Shivaprrasad', 'l_name': 'Sunkarranam', 'm_name': 'nil'}\n",
            "<class 'dict'>\n",
            "dict_items([('f_name', 'Shivaprrasad'), ('l_name', 'Sunkarranam'), ('m_name', 'nil')])\n",
            "dict_keys(['f_name', 'l_name', 'm_name'])\n",
            "dict_values(['Shivaprrasad', 'Sunkarranam', 'nil'])\n"
          ]
        }
      ],
      "source": [
        "#dict()  Constructor\n",
        "#converts list to dictionary\n",
        "\n",
        "ls=[['f_name','Shivaprrasad'],['l_name','Sunkarranam'],['m_name','nil']]\n",
        "\n",
        "print(ls)\n",
        "\n",
        "# converts to dictionary\n",
        "\n",
        "dct=dict(ls)\n",
        "print(dct)\n",
        "print(type(dct))\n",
        "\n",
        "print(dct.items())\n",
        "print(dct.keys())\n",
        "print(dct.values())"
      ]
    },
    {
      "cell_type": "code",
      "execution_count": null,
      "metadata": {
        "colab": {
          "base_uri": "https://localhost:8080/"
        },
        "id": "35JZl16lI8B5",
        "outputId": "8799f91d-393b-4f25-fb99-6516e110b551"
      },
      "outputs": [
        {
          "name": "stdout",
          "output_type": "stream",
          "text": [
            "(('f_name', 'Shivaprrasad'), ('l_name', 'Sunkarranam'), ('m_name', 'nil'))\n",
            "<class 'tuple'>\n",
            "\n",
            "{'f_name': 'Shivaprrasad', 'l_name': 'Sunkarranam', 'm_name': 'nil'}\n",
            "<class 'dict'>\n",
            "\n",
            "dict_items([('f_name', 'Shivaprrasad'), ('l_name', 'Sunkarranam'), ('m_name', 'nil')])\n",
            "dict_keys(['f_name', 'l_name', 'm_name'])\n",
            "dict_values(['Shivaprrasad', 'Sunkarranam', 'nil'])\n"
          ]
        }
      ],
      "source": [
        "#dict()\n",
        "# converts tuple to dictionary\n",
        "\n",
        "tp=(('f_name','Shivaprrasad'),('l_name','Sunkarranam'),('m_name','nil'))\n",
        "\n",
        "print(tp)\n",
        "print(type(tp))\n",
        "print()\n",
        "\n",
        "# converts to dictionary\n",
        "\n",
        "dct=dict(tp)\n",
        "print(dct)\n",
        "print(type(dct))\n",
        "print()\n",
        "\n",
        "print(dct.items())\n",
        "print(dct.keys())\n",
        "print(dct.values())"
      ]
    },
    {
      "cell_type": "code",
      "execution_count": null,
      "metadata": {
        "colab": {
          "base_uri": "https://localhost:8080/"
        },
        "id": "ZJxQ1JDGLbQ1",
        "outputId": "e30e1c81-2bd2-4049-a4ff-890e6f37591f"
      },
      "outputs": [
        {
          "name": "stdout",
          "output_type": "stream",
          "text": [
            "{('f_name', 'Shivaprrasad'), ('l_name', 'Sunkarranam'), ('m_name', 'nil')}\n",
            "<class 'set'>\n",
            "\n",
            "{'f_name': 'Shivaprrasad', 'l_name': 'Sunkarranam', 'm_name': 'nil'}\n",
            "{'f_name': 'Shivaprrasad', 'l_name': 'Sunkarranam', 'm_name': 'nil'}\n",
            "<class 'dict'>\n",
            "\n",
            "dict_items([('f_name', 'Shivaprrasad'), ('l_name', 'Sunkarranam'), ('m_name', 'nil')])\n",
            "dict_keys(['f_name', 'l_name', 'm_name'])\n",
            "dict_values(['Shivaprrasad', 'Sunkarranam', 'nil'])\n"
          ]
        }
      ],
      "source": [
        "#Converts set to dictionary\n",
        "\n",
        "st={('f_name','Shivaprrasad'),('l_name','Sunkarranam'),('m_name','nil')}\n",
        "\n",
        "print(st)\n",
        "print(type(st))\n",
        "print()\n",
        "\n",
        "# converts to dictionary\n",
        "\n",
        "dct=dict(st)\n",
        "print(dict(dct))\n",
        "print(dct)\n",
        "print(type(dct))\n",
        "print()\n",
        "\n",
        "print(dct.items())\n",
        "print(dct.keys())\n",
        "print(dct.values())"
      ]
    },
    {
      "cell_type": "code",
      "execution_count": null,
      "metadata": {
        "id": "1dgBM5JlL4Om"
      },
      "outputs": [],
      "source": []
    },
    {
      "cell_type": "markdown",
      "metadata": {
        "id": "l9BTEBXBOBJF"
      },
      "source": [
        "**Nested Dictionaries**"
      ]
    },
    {
      "cell_type": "code",
      "execution_count": null,
      "metadata": {
        "colab": {
          "base_uri": "https://localhost:8080/"
        },
        "id": "oaV2XuHMODyw",
        "outputId": "ae2ae271-40d7-46c2-da08-73a73638fe82"
      },
      "outputs": [
        {
          "name": "stdout",
          "output_type": "stream",
          "text": [
            "{'nd1': {'child1': 'Ram', 'born': 2020}, 'nd2': {'child2': 'Shyam', 'born': 2019}, 'nd3': {'child3': 'Krishn', 'born': 2015}}\n"
          ]
        }
      ],
      "source": [
        "#Nested Dictionaries\n",
        "\n",
        "main_dc={\n",
        "    \"nd1\":{\"child1\":\"Ram\", \"born\":2020},\n",
        "    \"nd2\":{\"child2\":\"Shyam\",\"born\":2019},\n",
        "    \"nd3\":{\"child3\":\"Krishn\",\"born\":2015}\n",
        "    }\n",
        "\n",
        "print(main_dc)"
      ]
    },
    {
      "cell_type": "code",
      "execution_count": null,
      "metadata": {
        "colab": {
          "base_uri": "https://localhost:8080/"
        },
        "id": "B76mYB0pXJvg",
        "outputId": "9c556650-bc14-41f7-de59-b404748d922c"
      },
      "outputs": [
        {
          "name": "stdout",
          "output_type": "stream",
          "text": [
            "Ram 2020\n",
            "Shyam 2019\n"
          ]
        }
      ],
      "source": [
        "main_dc= {\n",
        "    \"nd1\":{\"child1\":\"Ram\",\"born\":2020},\n",
        "    \"nd2\":{\"child2\":\"Shyam\",\"born\":2019}\n",
        "                }\n",
        "\n",
        "print(main_dc[\"nd1\"][\"child1\"],main_dc[\"nd1\"][\"born\"])\n",
        "print(main_dc[\"nd2\"][\"child2\"],main_dc[\"nd2\"][\"born\"])\n"
      ]
    },
    {
      "cell_type": "code",
      "execution_count": null,
      "metadata": {
        "colab": {
          "base_uri": "https://localhost:8080/"
        },
        "id": "uh_0ee0WblQJ",
        "outputId": "d11bb012-3117-453b-e2fa-005e3aaa2d64"
      },
      "outputs": [
        {
          "name": "stdout",
          "output_type": "stream",
          "text": [
            "2020\n"
          ]
        }
      ],
      "source": [
        "main_dc={\n",
        "    \"nd1\":{\"child1\":\"Ram\",\"born\":2020},\n",
        "    \"nd2\":{\"child2\":\"Shyam\",\"born\":2019}\n",
        "}\n",
        "\n",
        "print(main_dc['nd1']['born'])"
      ]
    },
    {
      "cell_type": "markdown",
      "metadata": {
        "id": "HVAX5IP-K27O"
      },
      "source": [
        "**Dictionary Methods**"
      ]
    },
    {
      "cell_type": "code",
      "execution_count": null,
      "metadata": {
        "colab": {
          "base_uri": "https://localhost:8080/"
        },
        "id": "8yGvHKWEbU_m",
        "outputId": "d6c53ed8-85bd-47bf-d723-90c99cc017f6"
      },
      "outputs": [
        {
          "name": "stdout",
          "output_type": "stream",
          "text": [
            "{}\n"
          ]
        }
      ],
      "source": [
        "#clear()    Removes allelements from the dictionary\n",
        "main_dc={\n",
        "    \"nd1\":{\"child1\":\"Ram\",\"born\":2020},\n",
        "    \"nd2\":{\"child2\":\"Shyam\",\"born\":2019}\n",
        "}\n",
        "\n",
        "main_dc.clear() # clears elements from main_dc\n",
        "print(main_dc)\n"
      ]
    },
    {
      "cell_type": "code",
      "execution_count": null,
      "metadata": {
        "colab": {
          "base_uri": "https://localhost:8080/"
        },
        "id": "E3XsJ94OLZPA",
        "outputId": "d33b376e-c198-4c0c-d3b2-5bbf407f5a68"
      },
      "outputs": [
        {
          "name": "stdout",
          "output_type": "stream",
          "text": [
            "{'nd1': {'child1': 'Ram', 'born': 2020}, 'nd2': {'child2': 'Shyam', 'born': 2019}}\n"
          ]
        }
      ],
      "source": [
        "#copy()\n",
        "\n",
        "main_dc={\n",
        "    \"nd1\":{\"child1\":\"Ram\",\"born\":2020},\n",
        "    \"nd2\":{\"child2\":\"Shyam\",\"born\":2019}\n",
        "}\n",
        "\n",
        "dup=main_dc.copy()\n",
        "print(dup)"
      ]
    },
    {
      "cell_type": "code",
      "execution_count": null,
      "metadata": {
        "colab": {
          "base_uri": "https://localhost:8080/"
        },
        "id": "wDddNu0qMH6h",
        "outputId": "591a2a47-e92e-42e8-b8d8-a0cc8abb8e04"
      },
      "outputs": [
        {
          "name": "stdout",
          "output_type": "stream",
          "text": [
            "{'nd1': 9, 'nd2': 9}\n",
            "<class 'dict'>\n",
            "{'nd1': 'Shyam', 'nd2': 'Shyam'}\n"
          ]
        }
      ],
      "source": [
        "#fromkeys()\n",
        "\n",
        "#Creates new dictionary from another dictionary with specified keys and values\n",
        "#syntax  dict.fromkeys(key.value)\n",
        "\n",
        "main_dc={\n",
        "    \"nd1\":{\"child1\":\"Ram\",\"born\":2020},\n",
        "    \"nd2\":{\"child2\":\"Shyam\",\"born\":2019}\n",
        "}\n",
        "\n",
        "x=dict.fromkeys(main_dc,9) # default value is 9\n",
        "\n",
        "print(x)\n",
        "print(type(x))\n",
        "\n",
        "y=dict.fromkeys(main_dc,main_dc[\"nd2\"][\"child2\"])\n",
        "print(y)"
      ]
    },
    {
      "cell_type": "code",
      "execution_count": null,
      "metadata": {
        "colab": {
          "base_uri": "https://localhost:8080/"
        },
        "id": "mL9W1NO4PTil",
        "outputId": "2607231a-c8c7-48ff-b633-f4be21e02a0b"
      },
      "outputs": [
        {
          "name": "stdout",
          "output_type": "stream",
          "text": [
            "{'child1': 'Ram', 'born': 2020}\n"
          ]
        }
      ],
      "source": [
        "# get()\n",
        "# Returns the key and value from a dictionary\n",
        "# syntax   dictonary.get(key,value)\n",
        "\n",
        "main_dc={\n",
        "    \"nd1\":{\"child1\":\"Ram\",\"born\":2020},\n",
        "    \"nd2\":{\"child2\":\"Shyam\",\"born\":2019}\n",
        "}\n",
        "\n",
        "print(main_dc.get('nd1'))\n"
      ]
    },
    {
      "cell_type": "code",
      "execution_count": null,
      "metadata": {
        "colab": {
          "base_uri": "https://localhost:8080/"
        },
        "id": "MlLDyROXV2FO",
        "outputId": "9c729dce-1a9c-41e8-fce3-2d1065e0dd1b"
      },
      "outputs": [
        {
          "name": "stdout",
          "output_type": "stream",
          "text": [
            "<class 'dict'>\n",
            "<class 'dict_items'>\n",
            "dict_items([('f_name', 'Shivaprrasad'), ('l_name', 'Sunkarranam'), ('m_name', 'nil')])\n",
            "{'f_name': 'Shivaprrasad', 'l_name': 'Sunkarranam', 'm_name': 'S'}\n"
          ]
        }
      ],
      "source": [
        "#items()\n",
        "\n",
        "dct1={'f_name':'Shivaprrasad','l_name':'Sunkarranam','m_name':'nil'}\n",
        "print(type(dct1))\n",
        "\n",
        "fetch=dct1.items()\n",
        "\n",
        "print(type(fetch))\n",
        "print(fetch)\n",
        "\n",
        "dct1['m_name'] ='S'\n",
        "print(dct1)\n",
        "\n"
      ]
    },
    {
      "cell_type": "code",
      "execution_count": null,
      "metadata": {
        "colab": {
          "base_uri": "https://localhost:8080/"
        },
        "id": "lAuPYlGPcEIS",
        "outputId": "a640e25d-947b-4d53-bef5-0cc107251801"
      },
      "outputs": [
        {
          "name": "stdout",
          "output_type": "stream",
          "text": [
            "dict_keys(['f_name', 'l_name', 'm_name'])\n"
          ]
        }
      ],
      "source": [
        "#keys\n",
        "# returns keys of a dictionary as list\n",
        "\n",
        "dct1={'f_name':'Shivaprrasad','l_name':'Sunkarranam','m_name':'nil'}\n",
        "\n",
        "print(dct1.keys())"
      ]
    },
    {
      "cell_type": "code",
      "execution_count": null,
      "metadata": {
        "colab": {
          "base_uri": "https://localhost:8080/"
        },
        "id": "LLx0J7k9ggwK",
        "outputId": "582f560d-d49a-4e8c-9c14-dd991eb4c711"
      },
      "outputs": [
        {
          "name": "stdout",
          "output_type": "stream",
          "text": [
            "dict_values(['Shivaprrasad', 'Sunkarranam', 'nil'])\n",
            "<class 'dict_values'>\n",
            "{'f_name': 'Shivaprrasad', 'l_name': 'Sunkarranam', 'm_name': 'S'}\n"
          ]
        }
      ],
      "source": [
        "#values\n",
        "\n",
        "dct1={'f_name':'Shivaprrasad','l_name':'Sunkarranam','m_name':'nil'}\n",
        "\n",
        "print(dct1.values())  #sends output as tuplewith list format\n",
        "print(type(dct1.values()))\n",
        "\n",
        "dct1['m_name'] = 'S'\n",
        "print(dct1)"
      ]
    },
    {
      "cell_type": "code",
      "execution_count": null,
      "metadata": {
        "colab": {
          "base_uri": "https://localhost:8080/"
        },
        "id": "v0dW-reRglgf",
        "outputId": "f18c1b42-2840-485f-e29c-d1ab9a6f8b9a"
      },
      "outputs": [
        {
          "name": "stdout",
          "output_type": "stream",
          "text": [
            "{'f_name': 'Shivaprrasad', 'l_name': 'Sunkarranam'}\n"
          ]
        }
      ],
      "source": [
        "#pop\n",
        "\n",
        "#Removes specified from dictionary\n",
        "\n",
        "dct1={'f_name':'Shivaprrasad','l_name':'Sunkarranam','m_name':'nil'}\n",
        "\n",
        "dct1.pop('m_name')\n",
        "print(dct1)\n"
      ]
    },
    {
      "cell_type": "code",
      "execution_count": null,
      "metadata": {
        "colab": {
          "base_uri": "https://localhost:8080/"
        },
        "id": "lU8XVCWghOQV",
        "outputId": "80a12853-d04d-4c13-a46f-032b4986144b"
      },
      "outputs": [
        {
          "name": "stdout",
          "output_type": "stream",
          "text": [
            "nil\n"
          ]
        }
      ],
      "source": [
        "dct1={'f_name':'Shivaprrasad','l_name':'Sunkarranam','m_name':'nil'}\n",
        "\n",
        "x=dct1.pop('m_name')\n",
        "print(x)"
      ]
    },
    {
      "cell_type": "code",
      "execution_count": null,
      "metadata": {
        "colab": {
          "base_uri": "https://localhost:8080/"
        },
        "id": "44nAUdOxhUya",
        "outputId": "c1e317a0-004d-46e4-a38a-c5e25c2a8761"
      },
      "outputs": [
        {
          "name": "stdout",
          "output_type": "stream",
          "text": [
            "('m_name', 'nil')\n"
          ]
        }
      ],
      "source": [
        "# popitem()\n",
        "# Removes last item  from dictionary\n",
        "\n",
        "dct1={'f_name':'Shivaprrasad','l_name':'Sunkarranam','m_name':'nil'}\n",
        "\n",
        "print(dct1.popitem()) # returns last removed item"
      ]
    },
    {
      "cell_type": "code",
      "execution_count": null,
      "metadata": {
        "colab": {
          "base_uri": "https://localhost:8080/"
        },
        "id": "ShVz-fOXhwJ2",
        "outputId": "96b879ed-eb83-47d0-9498-a19d49cf25e5"
      },
      "outputs": [
        {
          "name": "stdout",
          "output_type": "stream",
          "text": [
            "nil\n"
          ]
        }
      ],
      "source": [
        "#setdefault()\n",
        "#Setdefault() returns with the specified item\n",
        "\n",
        "dct1={'f_name':'Shivaprrasad','l_name':'Sunkarranam','m_name':'nil'}\n",
        "\n",
        "x=dct1.setdefault('m_name','nil')\n",
        "print(x)"
      ]
    },
    {
      "cell_type": "code",
      "execution_count": null,
      "metadata": {
        "colab": {
          "base_uri": "https://localhost:8080/"
        },
        "id": "MEM3TOY7iXai",
        "outputId": "796d6df8-44fa-4e1b-f97f-f4836c0ecfff"
      },
      "outputs": [
        {
          "name": "stdout",
          "output_type": "stream",
          "text": [
            "Default  Address for All is:: Vizag\n",
            "{'f_name': 'Shivaprrasad', 'l_name': 'Sunkarranam', 'm_name': 'nil', 'Address': 'Vizag'}\n",
            "Vizag\n"
          ]
        }
      ],
      "source": [
        "dct1={'f_name':'Shivaprrasad','l_name':'Sunkarranam','m_name':'nil'}\n",
        "\n",
        "x=dct1.setdefault('Address','Vizag')\n",
        "print(\"Default  Address for All is::\",x)\n",
        "print(dct1)\n",
        "print(dct1['Address'])"
      ]
    },
    {
      "cell_type": "code",
      "execution_count": null,
      "metadata": {
        "colab": {
          "base_uri": "https://localhost:8080/"
        },
        "id": "M1Vm8ac_1i-h",
        "outputId": "93497f68-3c09-4e81-a798-3602340fadd9"
      },
      "outputs": [
        {
          "name": "stdout",
          "output_type": "stream",
          "text": [
            "{'f_name': 'Shivaprrasad', 'l_name': 'Sunkarranam', 'm_name': 'nil', 'Address': 'Vizag'}\n"
          ]
        }
      ],
      "source": [
        "#update\n",
        "\n",
        "dct1={'f_name':'Shivaprrasad','l_name':'Sunkarranam','m_name':'nil'}\n",
        "\n",
        "dct1.update({'Address':'Vizag'})\n",
        "print(dct1)"
      ]
    },
    {
      "cell_type": "code",
      "source": [],
      "metadata": {
        "id": "MzmqT313pezS"
      },
      "execution_count": null,
      "outputs": []
    },
    {
      "cell_type": "code",
      "source": [
        "spam={'cat':'x'}\n",
        "spam.update({'color':'Black'})\n",
        "print(spam)\n",
        "\n",
        "spam1={'cat':'x','color':'white'}\n",
        "spam1.update({'color':'Black'})\n",
        "print(spam1)"
      ],
      "metadata": {
        "colab": {
          "base_uri": "https://localhost:8080/"
        },
        "id": "sK5j5LFgmlh-",
        "outputId": "4daa7b00-3054-488d-daf5-ce566bcb6150"
      },
      "execution_count": null,
      "outputs": [
        {
          "output_type": "stream",
          "name": "stdout",
          "text": [
            "{'cat': 'x', 'color': 'Black'}\n",
            "{'cat': 'x', 'color': 'Black'}\n"
          ]
        }
      ]
    },
    {
      "cell_type": "code",
      "execution_count": null,
      "metadata": {
        "colab": {
          "base_uri": "https://localhost:8080/"
        },
        "id": "K0bZMwRh3e9l",
        "outputId": "4db2279b-7226-41f4-b383-eeeb446da57c"
      },
      "outputs": [
        {
          "name": "stdout",
          "output_type": "stream",
          "text": [
            "{'f_name': 'Shivaprrasad', 'l_name': 'Sunkarranam', 'm_name': 'nil', 'Address': 'delhi'}\n"
          ]
        }
      ],
      "source": [
        "#update\n",
        "\n",
        "dct1={'f_name':'Shivaprrasad','l_name':'Sunkarranam','m_name':'nil'}\n",
        "\n",
        "dct1.update({\"Address\":\"delhi\"})\n",
        "print(dct1)"
      ]
    },
    {
      "cell_type": "code",
      "execution_count": null,
      "metadata": {
        "colab": {
          "base_uri": "https://localhost:8080/"
        },
        "id": "svDmNt2435Hn",
        "outputId": "cd789717-8a3f-4da8-ccd2-6402197bd4db"
      },
      "outputs": [
        {
          "name": "stdout",
          "output_type": "stream",
          "text": [
            "dict_values(['Shivaprrasad', 'Sunkarranam', 'nil'])\n"
          ]
        }
      ],
      "source": [
        "#values()#\n",
        "\n",
        "dct1={'f_name':'Shivaprrasad','l_name':'Sunkarranam','m_name':'nil'}\n",
        "print(dct1.values())    #Values() returns output as list\n",
        "\n"
      ]
    },
    {
      "cell_type": "code",
      "execution_count": null,
      "metadata": {
        "id": "g17aeLXC4FzI",
        "colab": {
          "base_uri": "https://localhost:8080/"
        },
        "outputId": "6a9b6c10-2af0-4f15-a275-5c942ac85bda"
      },
      "outputs": [
        {
          "output_type": "stream",
          "name": "stdout",
          "text": [
            "{'address': {'city': 'Anytown', 'street': '123 Main St', 'zipcode': '12345'},\n",
            " 'age': 30,\n",
            " 'name': 'John Doe'}\n",
            "{'Address': {'Street': 'dwarakanagar',\n",
            "             'city': 'Visakhapatnam',\n",
            "             'state': 'Andhrapradesh'},\n",
            " 'Age': 40,\n",
            " 'Name': 'Shivaprrasad'}\n"
          ]
        }
      ],
      "source": [
        "#Pretty print\n",
        "\n",
        "from pprint import pprint\n",
        "\n",
        "my_dict = {\n",
        "    'name': 'John Doe',\n",
        "    'age': 30,\n",
        "    'address': {\n",
        "        'street': '123 Main St',\n",
        "        'city': 'Anytown',\n",
        "        'zipcode': '12345'\n",
        "    }\n",
        "}\n",
        "\n",
        "# Pretty print the dictionary\n",
        "pprint(my_dict)\n",
        "\n",
        "from pprint import pprint\n",
        "\n",
        "my_dictin={'Name':'Shivaprrasad','Age':40,\n",
        "           'Address':{\n",
        "              'Street':'dwarakanagar','city':'Visakhapatnam','state':'Andhrapradesh'}}\n",
        "\n",
        "pprint(my_dictin)"
      ]
    },
    {
      "cell_type": "markdown",
      "metadata": {
        "id": "KsIH-ek45D5A"
      },
      "source": [
        "#IF ..ELSE...ELIF#\n",
        "\n",
        "**syntax....\n",
        "if (exp):\n",
        "    exp\n",
        "elif:\n",
        "    exp\n",
        "else:\n",
        "    exp\n",
        "**"
      ]
    },
    {
      "cell_type": "code",
      "execution_count": null,
      "metadata": {
        "colab": {
          "base_uri": "https://localhost:8080/"
        },
        "id": "Dke7Kdij5QDd",
        "outputId": "9aa74cdd-b8c6-4d2a-eada-5d035246267f"
      },
      "outputs": [
        {
          "name": "stdout",
          "output_type": "stream",
          "text": [
            "A less than B\n"
          ]
        }
      ],
      "source": [
        "#If ELse Elif\n",
        "\n",
        "a=10\n",
        "b=25\n",
        "\n",
        "if a>b:\n",
        "    print('a is greater than b')\n",
        "elif a==b:\n",
        "    print(\"A equals to B\")\n",
        "else:\n",
        "    print('A less than B')\n"
      ]
    },
    {
      "cell_type": "code",
      "execution_count": null,
      "metadata": {
        "colab": {
          "base_uri": "https://localhost:8080/"
        },
        "id": "PWA2OiZz6i58",
        "outputId": "450f11a9-69f5-496e-caea-d30fb6efe388"
      },
      "outputs": [
        {
          "name": "stdout",
          "output_type": "stream",
          "text": [
            "enter Value of A::5\n",
            "enter Value of B::8\n",
            "B greater than A\n"
          ]
        }
      ],
      "source": [
        "#If Else\n",
        "\n",
        "a=input(\"enter Value of A::\")\n",
        "b=input(\"enter Value of B::\")\n",
        "\n",
        "if a>b:\n",
        "    print(\"A is bigger\")\n",
        "elif a==b:\n",
        "    print(\"A equals to B\")\n",
        "else:\n",
        "    print(\"B greater than A\")"
      ]
    },
    {
      "cell_type": "code",
      "execution_count": null,
      "metadata": {
        "colab": {
          "base_uri": "https://localhost:8080/"
        },
        "id": "rhtG7wd787ij",
        "outputId": "8d9a4122-52d3-4d25-b093-7c7a8db7255c"
      },
      "outputs": [
        {
          "name": "stdout",
          "output_type": "stream",
          "text": [
            "enter Value of A::5\n",
            "enter Value of B::8\n",
            "B greater than A\n",
            "5\n",
            "8\n"
          ]
        }
      ],
      "source": [
        "#If Else\n",
        "\n",
        "a=int(input(\"enter Value of A::\"))\n",
        "b=int(input(\"enter Value of B::\"))\n",
        "\n",
        "if a>b:\n",
        "    print(\"A is bigger\")\n",
        "elif a==b:\n",
        "    print(\"A equals to B\")\n",
        "else:\n",
        "    print(\"B greater than A\")\n",
        "\n",
        "print(str(a))\n",
        "print(str(b))"
      ]
    },
    {
      "cell_type": "code",
      "execution_count": null,
      "metadata": {
        "colab": {
          "base_uri": "https://localhost:8080/"
        },
        "id": "RhCt70Jn9I_0",
        "outputId": "b248f001-e8ad-42bf-e86a-c339f1bf6cff"
      },
      "outputs": [
        {
          "name": "stdout",
          "output_type": "stream",
          "text": [
            "enter Value of A::5\n",
            "enter Value of B::8\n",
            "B greater than A\n"
          ]
        }
      ],
      "source": [
        "#If Else\n",
        "# Oneline statement\n",
        "\n",
        "a=int(input(\"enter Value of A::\"))\n",
        "b=int(input(\"enter Value of B::\"))\n",
        "\n",
        "print(\"A is bigger\" if a>b else  \"B greater than A\")"
      ]
    },
    {
      "cell_type": "code",
      "execution_count": null,
      "metadata": {
        "id": "wPQ38X0uF_YT"
      },
      "outputs": [],
      "source": []
    },
    {
      "cell_type": "markdown",
      "metadata": {
        "id": "7mYvRTK9AH3s"
      },
      "source": [
        "#Ternary Operators or conditionalExpressions#\n",
        "\n",
        "one line if  .. else.. staetement"
      ]
    },
    {
      "cell_type": "code",
      "execution_count": null,
      "metadata": {
        "colab": {
          "base_uri": "https://localhost:8080/"
        },
        "id": "laq7urCz9pjM",
        "outputId": "9621f108-b4d9-4dd4-d366-951ae0fcda80"
      },
      "outputs": [
        {
          "name": "stdout",
          "output_type": "stream",
          "text": [
            "enter Value of A::5\n",
            "enter Value of B::8\n",
            "B is Bigger\n"
          ]
        }
      ],
      "source": [
        "#Ternary Operators or Cnditional Expressions\n",
        "\n",
        "a=int(input(\"enter Value of A::\"))\n",
        "b=int(input(\"enter Value of B::\"))\n",
        "\n",
        "print('A is bigger') if a >b  else print(\"A and B same\") if a==b else print(\"B is Bigger\")"
      ]
    },
    {
      "cell_type": "code",
      "execution_count": null,
      "metadata": {
        "colab": {
          "base_uri": "https://localhost:8080/"
        },
        "id": "1vjJJN-n_f8z",
        "outputId": "f8a6c5c5-41c3-4b02-e46c-f9013642a912"
      },
      "outputs": [
        {
          "name": "stdout",
          "output_type": "stream",
          "text": [
            "Enter value of  A=666\n",
            "Enter value of  B =5555\n",
            "B is Bigger\n",
            "Enter value of  A=666\n",
            "Enter value of  B =5555\n",
            "A is bigger\n"
          ]
        }
      ],
      "source": [
        "# ex2\n",
        "# By default value will be taken as string. we need to convert into integer\n",
        " #input method takes as string bydefault\n",
        "\n",
        "a=int(input(\"Enter value of  A=\"))\n",
        "b=int(input(\"Enter value of  B =\"))\n",
        "\n",
        "print(\"A is bigger\") if a>b else print(\"A equals to B\") if a==b   else  print(\"B is Bigger\")\n",
        "\n",
        "a=input(\"Enter value of  A=\")\n",
        "b=input(\"Enter value of  B =\")\n",
        "\n",
        "print(\"A is bigger\") if a>b else print(\"A equals to B\") if a==b   else  print(\"B is Bigger\")"
      ]
    },
    {
      "cell_type": "code",
      "execution_count": null,
      "metadata": {
        "colab": {
          "base_uri": "https://localhost:8080/"
        },
        "id": "wn07LSkVAwnn",
        "outputId": "66ebf114-6374-4b71-a888-aae24cf807af"
      },
      "outputs": [
        {
          "name": "stdout",
          "output_type": "stream",
          "text": [
            "c is bigger\n"
          ]
        }
      ],
      "source": [
        "#and operator in if...else..\n",
        "\n",
        "a=33\n",
        "b=20\n",
        "c=36\n",
        "\n",
        "print(\"A is bigger\") if a>b and a >c  else print(\"B is bigger\") if b>a and  b>c  else print(\"c is bigger\")"
      ]
    },
    {
      "cell_type": "code",
      "execution_count": null,
      "metadata": {
        "colab": {
          "base_uri": "https://localhost:8080/"
        },
        "id": "vdeFyYBkDRSQ",
        "outputId": "5edab674-4bc4-4808-b42e-5eafebb056ef"
      },
      "outputs": [
        {
          "name": "stdout",
          "output_type": "stream",
          "text": [
            "eligible for Marriage\n"
          ]
        }
      ],
      "source": [
        "# OR operator\n",
        "\n",
        "a=18\n",
        "b=30\n",
        "c=6\n",
        "\n",
        "print(\"eligible for Marriage\") if a >25 or b >25 or c >25  else print(\"Age=\",a,b,c)"
      ]
    },
    {
      "cell_type": "code",
      "execution_count": null,
      "metadata": {
        "colab": {
          "base_uri": "https://localhost:8080/"
        },
        "id": "BVeCTu--n-Eb",
        "outputId": "58dc7070-3d13-4fd4-e286-0a73eb84ca85"
      },
      "outputs": [
        {
          "name": "stdout",
          "output_type": "stream",
          "text": [
            "B and C are same \n"
          ]
        }
      ],
      "source": [
        "#OR operator\n",
        "\n",
        "a=6\n",
        "b=9\n",
        "c=6\n",
        "\n",
        "if a == b or a >= b:\n",
        "    print(\"A and B are same\")\n",
        "\n",
        "elif b == c or b>= c:\n",
        "    print(\"B and C are same \")\n",
        "else:\n",
        "    print(\"Check the values>>\",a,b,c)"
      ]
    },
    {
      "cell_type": "code",
      "execution_count": null,
      "metadata": {
        "colab": {
          "base_uri": "https://localhost:8080/"
        },
        "id": "SXQR96zGoSEa",
        "outputId": "0e17b1f3-fc07-49fe-e4e2-91122848dba8"
      },
      "outputs": [
        {
          "name": "stdout",
          "output_type": "stream",
          "text": [
            "Bigger is.. 26\n"
          ]
        }
      ],
      "source": [
        "#NOT\n",
        "\n",
        "a=26\n",
        "b=9\n",
        "\n",
        "if not a>b:\n",
        "    print(\"The Bigger is..\",b)\n",
        "else:\n",
        "    print(\"Bigger is..\",a)"
      ]
    },
    {
      "cell_type": "code",
      "execution_count": null,
      "metadata": {
        "colab": {
          "base_uri": "https://localhost:8080/"
        },
        "id": "CNctArEhpM__",
        "outputId": "fc42a273-5bdf-4d27-d163-16b3e3d16ce4"
      },
      "outputs": [
        {
          "name": "stdout",
          "output_type": "stream",
          "text": [
            "Bigger is  15\n"
          ]
        }
      ],
      "source": [
        "#Nested If\n",
        "\n",
        "a=15\n",
        "b=9\n",
        "c=5\n",
        "\n",
        "if a>b:\n",
        "    if b >c:\n",
        "        print(\"Bigger is \",a)\n",
        "    else:\n",
        "        pass\n",
        "else:\n",
        "    print(\"The values are ..\",a,b,c)\n"
      ]
    },
    {
      "cell_type": "code",
      "execution_count": null,
      "metadata": {
        "id": "7iwaTVvqp36o"
      },
      "outputs": [],
      "source": [
        "#pass\n",
        "\n",
        "#pass used to if there is no argument we use pass to stop throwing an error\n",
        "\n",
        "a=\"Hello\"\n",
        "b=\"Hi\"\n",
        "\n",
        "if ascii(a)==ascii(b):\n",
        "    print(\"Both are same\")\n",
        "\n",
        "else:\n",
        "   pass"
      ]
    },
    {
      "cell_type": "markdown",
      "metadata": {
        "id": "-WZeVc2srpYr"
      },
      "source": [
        "#WHILE loop#\n",
        "\n",
        "To run a set of statement continuously we use while loop\n",
        "\n",
        "BUt remember we should use increment condition to stop the loop, else it runs continuously"
      ]
    },
    {
      "cell_type": "code",
      "execution_count": null,
      "metadata": {
        "colab": {
          "base_uri": "https://localhost:8080/"
        },
        "id": "CNAQJwG6rsUC",
        "outputId": "798d7b82-fbed-4fdf-e2f3-7ecd67ae7d24"
      },
      "outputs": [
        {
          "name": "stdout",
          "output_type": "stream",
          "text": [
            "1  2  3  4  5  6  "
          ]
        }
      ],
      "source": [
        "# While Loop\n",
        "\n",
        "a=1\n",
        "\n",
        "while a<=6:\n",
        "\n",
        "    print(a,end=\"  \")\n",
        "    a +=1\n",
        "\n"
      ]
    },
    {
      "cell_type": "code",
      "execution_count": null,
      "metadata": {
        "colab": {
          "base_uri": "https://localhost:8080/"
        },
        "id": "ElYLf9uNsMwl",
        "outputId": "0ec1234c-8f9a-48fa-adfe-25bcef07b6b6"
      },
      "outputs": [
        {
          "name": "stdout",
          "output_type": "stream",
          "text": [
            "*\n",
            "**\n",
            "***\n",
            "****\n"
          ]
        }
      ],
      "source": [
        "# while Loop\n",
        "\n",
        "a=1\n",
        "\n",
        "\n",
        "while a != 5:\n",
        "    print(a*\"*\")\n",
        "    a +=1\n",
        "\n"
      ]
    },
    {
      "cell_type": "code",
      "execution_count": null,
      "metadata": {
        "colab": {
          "base_uri": "https://localhost:8080/"
        },
        "id": "y9jRdTAbtX2X",
        "outputId": "5614fc89-5e85-433b-95a2-e66348b41ba5"
      },
      "outputs": [
        {
          "name": "stdout",
          "output_type": "stream",
          "text": [
            "10\n",
            "9\n",
            "8\n",
            "7\n",
            "Break Value is... 6\n"
          ]
        }
      ],
      "source": [
        "#break\n",
        "# to stop the loop we use  break statement\n",
        "\n",
        "a=10\n",
        "\n",
        "while a != 1:\n",
        "    print(a)\n",
        "    a -=1\n",
        "    if a==6:\n",
        "        break\n",
        "print(\"Break Value is...\",a)"
      ]
    },
    {
      "cell_type": "code",
      "execution_count": null,
      "metadata": {
        "id": "vIIPr5XouCZy"
      },
      "outputs": [],
      "source": []
    },
    {
      "cell_type": "code",
      "execution_count": null,
      "metadata": {
        "colab": {
          "base_uri": "https://localhost:8080/"
        },
        "id": "WooyuNls3gw9",
        "outputId": "83890b5c-4268-4e1a-fa85-2c98ba0fab4a"
      },
      "outputs": [
        {
          "name": "stdout",
          "output_type": "stream",
          "text": [
            "10\n",
            "9\n",
            "8\n",
            "7\n",
            "Value is noticed at... 6\n",
            "6\n",
            "5\n",
            "4\n",
            "3\n",
            "2\n"
          ]
        }
      ],
      "source": [
        "#break\n",
        "# to stop the loop we use  break statement\n",
        "\n",
        "a=10\n",
        "\n",
        "while a != 1:\n",
        "    print(a)\n",
        "    a -=1\n",
        "    if a==6:\n",
        "\n",
        "        print(\"Value is noticed at...\",a)\n",
        "        continue"
      ]
    },
    {
      "cell_type": "code",
      "execution_count": null,
      "metadata": {
        "id": "wqoyiqq34JyT"
      },
      "outputs": [],
      "source": []
    },
    {
      "cell_type": "code",
      "execution_count": null,
      "metadata": {
        "colab": {
          "base_uri": "https://localhost:8080/"
        },
        "id": "XH0li6Bf4QXh",
        "outputId": "2d865301-0f3b-49f1-a19a-f4462af3daf1"
      },
      "outputs": [
        {
          "name": "stdout",
          "output_type": "stream",
          "text": [
            "10\n",
            "9\n",
            "8\n",
            "7\n",
            "loop stops at... 6\n"
          ]
        }
      ],
      "source": [
        "#break\n",
        "# to stop the loop we use  break statement\n",
        "\n",
        "a=10\n",
        "\n",
        "while a != 6:\n",
        "    print(a)\n",
        "    a -=1\n",
        "else:\n",
        "\n",
        "    print(\"loop stops at...\",a)\n"
      ]
    },
    {
      "cell_type": "markdown",
      "metadata": {
        "id": "TsXrJimL9bT6"
      },
      "source": [
        "#FOR Loops\n",
        "\n",
        "used to iterate a sequence  or set of statements"
      ]
    },
    {
      "cell_type": "code",
      "execution_count": null,
      "metadata": {
        "colab": {
          "base_uri": "https://localhost:8080/"
        },
        "id": "ygMuB5gs9kec",
        "outputId": "f7cfe2c6-cb0a-4ee3-8d8b-02d3dfc3be0e"
      },
      "outputs": [
        {
          "name": "stdout",
          "output_type": "stream",
          "text": [
            "Apples\n",
            "Cherrys\n",
            "Mangoes\n",
            "123\n",
            "True\n"
          ]
        }
      ],
      "source": [
        "#FOR Loop\n",
        "\n",
        "fruits=[\"Apples\",\"Cherrys\",\"Mangoes\",123,True]\n",
        "\n",
        "for x in fruits:\n",
        "    print(x)"
      ]
    },
    {
      "cell_type": "code",
      "execution_count": null,
      "metadata": {
        "colab": {
          "base_uri": "https://localhost:8080/"
        },
        "id": "ds6y7exg97pd",
        "outputId": "87b1ff47-2161-407b-cc44-bdccf2f3916a"
      },
      "outputs": [
        {
          "name": "stdout",
          "output_type": "stream",
          "text": [
            "['Apples']\n",
            "['Cherrys']\n",
            "['Mangoes']\n",
            "[123]\n"
          ]
        }
      ],
      "source": [
        "#FOR Loop\n",
        "\n",
        "fruits=[\"Apples\",\"Cherrys\",\"Mangoes\",123]\n",
        "\n",
        "for x in fruits:\n",
        "    print([x])   # Returns each element as list\n",
        "\n",
        "\n"
      ]
    },
    {
      "cell_type": "code",
      "execution_count": null,
      "metadata": {
        "colab": {
          "base_uri": "https://localhost:8080/"
        },
        "id": "-z2qvQ_1-OXE",
        "outputId": "f8f43245-ef9c-49d1-9a82-631e8788cb1e"
      },
      "outputs": [
        {
          "name": "stdout",
          "output_type": "stream",
          "text": [
            "b\n",
            "a\n",
            "n\n",
            "a\n",
            "n\n",
            "a\n"
          ]
        }
      ],
      "source": [
        "for x in \"banana\":\n",
        "    print(x)"
      ]
    },
    {
      "cell_type": "code",
      "execution_count": null,
      "metadata": {
        "colab": {
          "base_uri": "https://localhost:8080/"
        },
        "id": "gocgtmlqg2Cp",
        "outputId": "fb0ce037-5ccd-44af-9d28-a08b84f43a20"
      },
      "outputs": [
        {
          "name": "stdout",
          "output_type": "stream",
          "text": [
            "['Apples']\n",
            "['Cherrys']\n",
            "['Mangoes']\n",
            "Break Point is.. 123\n"
          ]
        }
      ],
      "source": [
        "#break\n",
        "# break the for loop\n",
        "\n",
        "fruits=[\"Apples\",\"Cherrys\",\"Mangoes\",123]\n",
        "\n",
        "for x in fruits:\n",
        "\n",
        "\n",
        "    if x != 123:\n",
        "        print([x])\n",
        "\n",
        "    else:\n",
        "        print(\"Break Point is..\",x)\n",
        "        break"
      ]
    },
    {
      "cell_type": "code",
      "execution_count": null,
      "metadata": {
        "colab": {
          "base_uri": "https://localhost:8080/"
        },
        "id": "EA1XyBL7hgZi",
        "outputId": "73c426db-90ab-42b8-e1f1-89dc96a168a5"
      },
      "outputs": [
        {
          "name": "stdout",
          "output_type": "stream",
          "text": [
            "Value of x is.. 123\n"
          ]
        }
      ],
      "source": [
        "# continue\n",
        "\n",
        "fruits=[\"Apples\",\"Banana\",\"Mangoes\",123]\n",
        "\n",
        "for x in fruits:\n",
        "    if x != 123:\n",
        "\n",
        "        continue\n",
        "    else:\n",
        "        print(\"Value of x is..\",x)"
      ]
    },
    {
      "cell_type": "code",
      "execution_count": null,
      "metadata": {
        "colab": {
          "base_uri": "https://localhost:8080/"
        },
        "id": "MPpTXrDgjYxE",
        "outputId": "8a102c2d-3b47-4cb6-f43a-8edac7cba626"
      },
      "outputs": [
        {
          "name": "stdout",
          "output_type": "stream",
          "text": [
            "0\n",
            "1\n",
            "2\n",
            "3\n",
            "4\n",
            "5\n",
            "6\n",
            "7\n",
            "8\n",
            "9\n"
          ]
        }
      ],
      "source": [
        "# range()\n",
        "# iterate loop for renage of given sequence\n",
        "\n",
        "\n",
        "for i in range(10): # Here range stops at i-1= 10-1=9\n",
        "    print(i)"
      ]
    },
    {
      "cell_type": "code",
      "execution_count": null,
      "metadata": {
        "colab": {
          "base_uri": "https://localhost:8080/"
        },
        "id": "e_16hsuKkZYe",
        "outputId": "5b421ded-4227-494c-8ac9-11ee39a01643"
      },
      "outputs": [
        {
          "name": "stdout",
          "output_type": "stream",
          "text": [
            "2 3 4 5 6 7 8 9 10 11 12 13 14 15 16 17 18 19 20 21 "
          ]
        }
      ],
      "source": [
        "# range\n",
        "\n",
        "for i in range(2,22):\n",
        "    print(i,end=\" \")"
      ]
    },
    {
      "cell_type": "code",
      "execution_count": null,
      "metadata": {
        "colab": {
          "base_uri": "https://localhost:8080/"
        },
        "id": "sySYM0VAkpAf",
        "outputId": "878fe560-180c-4d36-fc02-0856f7a6326a"
      },
      "outputs": [
        {
          "name": "stdout",
          "output_type": "stream",
          "text": [
            "1 '4 '7 '10 '13 '16 '19 '22 '25 '28 '31 '34 '37 '40 '43 '46 '49 '"
          ]
        }
      ],
      "source": [
        "# range()\n",
        "\n",
        "for i in range(1,50,3):\n",
        "    print(i, end=\" '\")"
      ]
    },
    {
      "cell_type": "code",
      "execution_count": null,
      "metadata": {
        "colab": {
          "base_uri": "https://localhost:8080/"
        },
        "id": "VCMEutzmkziQ",
        "outputId": "d1504ef1-18ab-4fbe-c2ff-aef869163ca9"
      },
      "outputs": [
        {
          "name": "stdout",
          "output_type": "stream",
          "text": [
            "Finshed\n",
            "Last i value is.. 22\n"
          ]
        }
      ],
      "source": [
        "# else\n",
        "\n",
        "for i in range(1,23):\n",
        "    pass\n",
        "    continue # pass, break and continue are same result.you can use either.\n",
        "    break\n",
        "else:\n",
        "    print(\"Finshed\")\n",
        "    print(\"Last i value is..\",i)"
      ]
    },
    {
      "cell_type": "code",
      "execution_count": null,
      "metadata": {
        "colab": {
          "base_uri": "https://localhost:8080/"
        },
        "id": "Tl8MiPHzlFgD",
        "outputId": "9fa25c52-dff2-4721-8607-3fc66a1991ef"
      },
      "outputs": [
        {
          "name": "stdout",
          "output_type": "stream",
          "text": [
            "blue  berrys\n",
            "Green  apples\n",
            "red  papaya\n"
          ]
        }
      ],
      "source": [
        "# Nested Loops\n",
        "\n",
        "colors=[\"blue\",'Green',\"red\"]\n",
        "fruits=[\"berrys\",\"apples\",\"papaya\"]\n",
        "\n",
        "for i in range (len(colors)):\n",
        "\n",
        "    for j in range(len(fruits)):\n",
        "\n",
        "        print(colors[i]+\"  \"+fruits[j])\n",
        "        j +=1\n",
        "        i +=1\n",
        "    break"
      ]
    },
    {
      "cell_type": "code",
      "execution_count": null,
      "metadata": {
        "colab": {
          "base_uri": "https://localhost:8080/"
        },
        "id": "SI-n_hdml3w4",
        "outputId": "33bf5685-b581-4fc8-ff68-73d3f7a2a031"
      },
      "outputs": [
        {
          "name": "stdout",
          "output_type": "stream",
          "text": [
            "blue  berrys\n",
            "Green  apples\n",
            "red  papaya\n"
          ]
        }
      ],
      "source": [
        "colors=[\"blue\",'Green',\"red\"]\n",
        "fruits=[\"berrys\",\"apples\",\"papaya\"]\n",
        "\n",
        "for i in range (len(colors)):\n",
        "\n",
        "    print(colors[i]+\"  \"+fruits[i])\n"
      ]
    },
    {
      "cell_type": "markdown",
      "metadata": {
        "id": "I1nGGHqQ23sp"
      },
      "source": [
        "# Functions\n",
        "\n",
        "\n",
        "\n",
        "*   Function is a block of code runs whenever we call it\n",
        "*   We can pass data also called it as parameters\n",
        "*   A function returns data as  a result\n",
        "*   To create a function we sue a keyword **def**  with function name endng with **:**\n",
        "*   syntax is **def fun_name():**\n",
        "*   we must call the function using function name . eg.. **fun-name()**\n",
        "*   Arguments can be passed inside a function as parameters.eg.. my_func(arg1,arg2,...)"
      ]
    },
    {
      "cell_type": "code",
      "execution_count": null,
      "metadata": {
        "colab": {
          "base_uri": "https://localhost:8080/"
        },
        "id": "NP3plyKysNTy",
        "outputId": "e2770b56-cd58-4502-91dd-404632015f1a"
      },
      "outputs": [
        {
          "name": "stdout",
          "output_type": "stream",
          "text": [
            "Welcome to Python Functions\n"
          ]
        }
      ],
      "source": [
        "def my_func():\n",
        "    print(\"Welcome to Python Functions\")\n",
        "\n",
        "my_func()"
      ]
    },
    {
      "cell_type": "code",
      "execution_count": null,
      "metadata": {
        "colab": {
          "base_uri": "https://localhost:8080/"
        },
        "id": "MGM-mbxj4GGi",
        "outputId": "d11fb61f-4fe7-40c0-8ade-d2af4ad0db5b"
      },
      "outputs": [
        {
          "name": "stdout",
          "output_type": "stream",
          "text": [
            "a= 3 b= 5 c= 7\n"
          ]
        }
      ],
      "source": [
        "def my_func(a,b,c):\n",
        "    print(\"a=\",a,\"b=\",b,\"c=\",c)\n",
        "\n",
        "my_func(3,5,7)"
      ]
    },
    {
      "cell_type": "code",
      "execution_count": null,
      "metadata": {
        "colab": {
          "base_uri": "https://localhost:8080/"
        },
        "id": "lXBFXAkT4miz",
        "outputId": "7304ccd2-cc80-43ba-da3d-a3b2b7f6acd4"
      },
      "outputs": [
        {
          "name": "stdout",
          "output_type": "stream",
          "text": [
            "Ram laxman Sita\n"
          ]
        }
      ],
      "source": [
        "def my_func(a,b,c):\n",
        "    print(a, b, c)\n",
        "\n",
        "my_func('Ram', 'laxman','Sita')"
      ]
    },
    {
      "cell_type": "markdown",
      "metadata": {
        "id": "JNbejMvf5Gma"
      },
      "source": [
        "**A parameter is a value which is inside a function**\n",
        "\n",
        "**An Argument is a value we sent when we call  a function**\n",
        "\n",
        "def my_func(a,b,c):\n",
        "    print(\"a=\",a,\"b=\",b,\"c=\",c)    # here a,b,c are parameters\n",
        "\n",
        "my_func(3,5,7)  # 3,5,7 are arguments"
      ]
    },
    {
      "cell_type": "code",
      "execution_count": null,
      "metadata": {
        "colab": {
          "base_uri": "https://localhost:8080/",
          "height": 140
        },
        "id": "3S6_PgAJ5BOw",
        "outputId": "8f050eab-01bf-4cb9-e675-169099d3710e"
      },
      "outputs": [
        {
          "ename": "SyntaxError",
          "evalue": "ignored",
          "output_type": "error",
          "traceback": [
            "\u001b[0;36m  File \u001b[0;32m\"<ipython-input-385-e5a9a533c491>\"\u001b[0;36m, line \u001b[0;32m4\u001b[0m\n\u001b[0;31m    my_func(3,5,'\\')\u001b[0m\n\u001b[0m                ^\u001b[0m\n\u001b[0;31mSyntaxError\u001b[0m\u001b[0;31m:\u001b[0m unterminated string literal (detected at line 4)\n"
          ]
        }
      ],
      "source": [
        "def my_func(a,b,c):\n",
        "    print(\"a=\",a,\"b=\",b,\"c=\",c)\n",
        "\n",
        "my_func(3,5,'\\')  # Will throw an error"
      ]
    },
    {
      "cell_type": "code",
      "execution_count": null,
      "metadata": {
        "colab": {
          "base_uri": "https://localhost:8080/"
        },
        "id": "v7m76xIT6dco",
        "outputId": "de6c9482-4e2c-4a1a-da24-8ed26e6a2949"
      },
      "outputs": [
        {
          "name": "stdout",
          "output_type": "stream",
          "text": [
            "a= 3 b= 5 c= 8\n"
          ]
        }
      ],
      "source": [
        "# Argument as an expression\n",
        "def my_func(a,b,c):\n",
        "    print(\"a=\",a,\"b=\",b,\"c=\",c)\n",
        "\n",
        "my_func(3,5,3+5)"
      ]
    },
    {
      "cell_type": "code",
      "execution_count": null,
      "metadata": {
        "colab": {
          "base_uri": "https://localhost:8080/"
        },
        "id": "Ay7-elp56ogf",
        "outputId": "ea3e5c5f-3569-4bbc-93b1-8ad0df9dce0f"
      },
      "outputs": [
        {
          "name": "stdout",
          "output_type": "stream",
          "text": [
            "enter Value..Ram\n",
            "a= 3 b= 5 c= Ram\n"
          ]
        }
      ],
      "source": [
        "#Using input Function\n",
        "def my_func(a,b,c):\n",
        "    print(\"a=\",a,\"b=\",b,\"c=\",c)\n",
        "\n",
        "my_func(3,5,input(\"enter Value..\"))"
      ]
    },
    {
      "cell_type": "code",
      "execution_count": null,
      "metadata": {
        "colab": {
          "base_uri": "https://localhost:8080/"
        },
        "id": "sQedwjNJ68wK",
        "outputId": "d233189c-5270-45a5-a0fd-4d1362489852"
      },
      "outputs": [
        {
          "name": "stdout",
          "output_type": "stream",
          "text": [
            "enter Value::55\n",
            "a= 3 b= 5 c= 55\n"
          ]
        }
      ],
      "source": [
        "#Using input Function\n",
        "def my_func(a,b,c):\n",
        "    print(\"a=\",a,\"b=\",b,\"c=\",c)\n",
        "\n",
        "my_func(3,5,input('enter Value::'))"
      ]
    },
    {
      "cell_type": "code",
      "execution_count": null,
      "metadata": {
        "colab": {
          "base_uri": "https://localhost:8080/"
        },
        "id": "8xWaHybi7K6i",
        "outputId": "65e5304a-a57d-4518-ccf9-1499086adbdc"
      },
      "outputs": [
        {
          "name": "stdout",
          "output_type": "stream",
          "text": [
            "a= 3 b= 5 c= ['Ram', 'Shyam']\n",
            "['Ram']\n",
            "['Ram', 'Shyam']\n"
          ]
        }
      ],
      "source": [
        "#PAssing list as argument\n",
        "def my_func(a,b,c):\n",
        "    print(\"a=\",a,\"b=\",b,\"c=\",c)\n",
        "    print(c[0:1])\n",
        "    print(c[0:])\n",
        "\n",
        "my_func(3,5,[\"Ram\",\"Shyam\"])"
      ]
    },
    {
      "cell_type": "code",
      "execution_count": null,
      "metadata": {
        "colab": {
          "base_uri": "https://localhost:8080/"
        },
        "id": "Xg3ckkLR7jsA",
        "outputId": "f148b00d-d453-4de8-e705-b1ac335cd45a"
      },
      "outputs": [
        {
          "name": "stdout",
          "output_type": "stream",
          "text": [
            "a= 3 b= 5 c= {'f_name': 'Shiva', 'l_name': 'Prrasad'}\n",
            "dict_items([('f_name', 'Shiva'), ('l_name', 'Prrasad')])\n",
            "dict_keys(['f_name', 'l_name'])\n",
            "dict_values(['Shiva', 'Prrasad'])\n"
          ]
        }
      ],
      "source": [
        "#Passing dictionary as arguments\n",
        "def my_func(a,b,c):\n",
        "    print(\"a=\",a,\"b=\",b,\"c=\",c)\n",
        "\n",
        "    print(c.items())\n",
        "    print(c.keys())\n",
        "    print(c.values())\n",
        "\n",
        "my_func(3,5,{\"f_name\":\"Shiva\",\"l_name\":\"Prrasad\"})"
      ]
    },
    {
      "cell_type": "code",
      "execution_count": null,
      "metadata": {
        "colab": {
          "base_uri": "https://localhost:8080/"
        },
        "id": "vWHddECY76rm",
        "outputId": "5c0ffe34-95bf-4be9-b092-065b81ea6eff"
      },
      "outputs": [
        {
          "name": "stdout",
          "output_type": "stream",
          "text": [
            "a= 3 b= 5 c= ('Ram', 123, True)\n",
            "Ram\n"
          ]
        }
      ],
      "source": [
        "#PAssing tuple as argument\n",
        "\n",
        "def my_func(a,b,c):\n",
        "    print(\"a=\",a,\"b=\",b,\"c=\",c)\n",
        "    print(c[0])\n",
        "\n",
        "my_func(3,5,(\"Ram\",123,True))"
      ]
    },
    {
      "cell_type": "code",
      "execution_count": null,
      "metadata": {
        "colab": {
          "base_uri": "https://localhost:8080/"
        },
        "id": "CawlCR988XcI",
        "outputId": "b328b4de-d7d3-4822-ee29-484dfada7db8"
      },
      "outputs": [
        {
          "name": "stdout",
          "output_type": "stream",
          "text": [
            "a= 3 b= 5 c= {True, 123, 'true', 'Ram'}\n",
            "<class 'set'>\n",
            "{True, 123, 'true', 'Ram'}\n"
          ]
        }
      ],
      "source": [
        "#Set as an argument\n",
        "\n",
        "def my_func(a,b,c):\n",
        "    print(\"a=\",a,\"b=\",b,\"c=\",c)\n",
        "    print(type(c))\n",
        "    print(c)   #Removes duplicate in sets\n",
        "\n",
        "my_func(3,5,{\"Ram\",123,True,'true',123})"
      ]
    },
    {
      "cell_type": "markdown",
      "metadata": {
        "id": "diX_bvjQ9vj1"
      },
      "source": [
        "**Arbitary Argument *arg**\n",
        "\n",
        "If we dont know how many arguments to a function we use ***arg** in function parameter\n",
        "\n",
        "***arg**  returns output as tuple"
      ]
    },
    {
      "cell_type": "code",
      "execution_count": null,
      "metadata": {
        "colab": {
          "base_uri": "https://localhost:8080/"
        },
        "id": "JwzTRdN28ozM",
        "outputId": "3da09d3b-5104-42fc-c679-81142dd8c79e"
      },
      "outputs": [
        {
          "name": "stdout",
          "output_type": "stream",
          "text": [
            "values... (3, 5, 7)\n"
          ]
        }
      ],
      "source": [
        "# Arbitary Arg\n",
        "\n",
        "def my_func(*a):\n",
        "    print(\"values...\",a)\n",
        "\n",
        "my_func(3,5,7)"
      ]
    },
    {
      "cell_type": "code",
      "execution_count": null,
      "metadata": {
        "id": "jOAgy6_7-Dio"
      },
      "outputs": [],
      "source": []
    },
    {
      "cell_type": "code",
      "execution_count": null,
      "metadata": {
        "colab": {
          "base_uri": "https://localhost:8080/"
        },
        "id": "hWOlMhgs-mwo",
        "outputId": "64400dc8-66cc-4300-9ed2-125e93832d5d"
      },
      "outputs": [
        {
          "name": "stdout",
          "output_type": "stream",
          "text": [
            "a= (3, 5, 7) b= Hi c= 5\n"
          ]
        }
      ],
      "source": [
        "# Arbitary Arg\n",
        "\n",
        "def my_func(*a):\n",
        "    print(\"a=\",a,\"b=\",b,\"c=\",c)\n",
        "\n",
        "my_func(3,5,7)"
      ]
    },
    {
      "cell_type": "code",
      "execution_count": null,
      "metadata": {
        "colab": {
          "base_uri": "https://localhost:8080/"
        },
        "id": "Gc8EtZ2q_4uk",
        "outputId": "253f2bbd-695d-4cea-d33c-871d8ca1ddcc"
      },
      "outputs": [
        {
          "name": "stdout",
          "output_type": "stream",
          "text": [
            "a= ('RAM', 'Shyam', 'Sita')\n"
          ]
        }
      ],
      "source": [
        "# Arbitary Arg\n",
        "\n",
        "def my_func(*a):\n",
        "    print(\"a=\",a)\n",
        "\n",
        "my_func(\"RAM\",\"Shyam\",\"Sita\"    )"
      ]
    },
    {
      "cell_type": "code",
      "execution_count": null,
      "metadata": {
        "id": "96gskfd0AKOQ"
      },
      "outputs": [],
      "source": []
    },
    {
      "cell_type": "code",
      "execution_count": null,
      "metadata": {
        "colab": {
          "base_uri": "https://localhost:8080/"
        },
        "id": "jWirZZRxAvGK",
        "outputId": "dbeabc22-17f5-4fd7-f506-54cd1576ce6d"
      },
      "outputs": [
        {
          "name": "stdout",
          "output_type": "stream",
          "text": [
            "<class 'tuple'>\n",
            "Value Accessed at index a[1]:: Shyam\n",
            "Sita\n"
          ]
        }
      ],
      "source": [
        "# Arbitary Arg\n",
        "\n",
        "def my_func(*a):\n",
        "    print(type(a))  # Tuple as output\n",
        "    print(\"Value Accessed at index a[1]::\",a[1])\n",
        "    print(a[2])\n",
        "\n",
        "my_func(\"RAM\",\"Shyam\",\"Sita\"    )"
      ]
    },
    {
      "cell_type": "code",
      "execution_count": null,
      "metadata": {
        "id": "VThNbVDZBHd-"
      },
      "outputs": [],
      "source": []
    },
    {
      "cell_type": "code",
      "execution_count": null,
      "metadata": {
        "colab": {
          "base_uri": "https://localhost:8080/"
        },
        "id": "gHLeDu7IDIy0",
        "outputId": "f89ec55d-ad0f-41b6-a3b0-0ea7cb56784b"
      },
      "outputs": [
        {
          "name": "stdout",
          "output_type": "stream",
          "text": [
            "Enter Name1..Ram\n",
            "Enter Name2..Sita\n",
            "Enter Name3..True\n",
            "a= ('Ram', 'Sita', 'True')\n",
            "Ram\n",
            "Sita\n",
            "True\n"
          ]
        }
      ],
      "source": [
        "# Arbitary Arg\n",
        "\n",
        "def my_func(*a):\n",
        "    print(\"a=\",a)  #Tuple as output\n",
        "    (a,b,c) =a  #unpacking tuple\n",
        "\n",
        "    print(a)\n",
        "    print(b)\n",
        "    print(c)\n",
        "\n",
        "my_func(input(\"Enter Name1..\"),input(\"Enter Name2..\"),input(\"Enter Name3..\") )"
      ]
    },
    {
      "cell_type": "markdown",
      "metadata": {
        "id": "6zaYD9l7E7Jt"
      },
      "source": [
        "****kwarg**\n",
        "\n",
        "A keyword argument to send to function, if we dont know how many keywrod argument to passs.\n",
        "\n",
        "Output returns as dictionary with **{key:keyvalue}**  format\n",
        "\n"
      ]
    },
    {
      "cell_type": "code",
      "execution_count": null,
      "metadata": {
        "id": "eJ-KTnXFDVMK"
      },
      "outputs": [],
      "source": [
        "#**KWARG\n",
        "\n"
      ]
    },
    {
      "cell_type": "code",
      "execution_count": null,
      "metadata": {
        "colab": {
          "base_uri": "https://localhost:8080/"
        },
        "id": "t8qcoNU-FPj8",
        "outputId": "2f7970df-df4a-4008-c005-c2c4cae6bfe7"
      },
      "outputs": [
        {
          "name": "stdout",
          "output_type": "stream",
          "text": [
            "a= {'f_name': 'Shiva', 'l_name': 'Sunkaranam'}\n",
            "\n",
            "First Name is..Shiva\n",
            "Last Name is.. Sunkaranam\n",
            "\n",
            "Keys and Values are as.. dict_keys(['f_name', 'l_name']) dict_values(['Shiva', 'Sunkaranam'])\n",
            "\n",
            "full Name is.. Shiva Sunkaranam\n",
            "\n",
            "dict_keys(['f_name', 'l_name'])\n",
            "dict_values(['Shiva', 'Sunkaranam'])\n"
          ]
        }
      ],
      "source": [
        "# kwarg\n",
        "\n",
        "def my_func(**a):\n",
        "    print(\"a=\",a)  # Output is dictionary\n",
        "    print()\n",
        "    print(\"First Name is..\"+a[\"f_name\"])\n",
        "    print(\"Last Name is..\",a[\"l_name\"])\n",
        "\n",
        "    print()\n",
        "    print( \"Keys and Values are as..\", a.keys(),a.values())\n",
        "    print()\n",
        "    print(\"full Name is..\",a[\"f_name\"] +\" \"+ a[\"l_name\"])\n",
        "    print()\n",
        "    print(a.keys())\n",
        "    print(a.values())\n",
        "\n",
        "my_func(f_name=\"Shiva\",l_name=\"Sunkaranam\")\n"
      ]
    },
    {
      "cell_type": "code",
      "execution_count": null,
      "metadata": {
        "colab": {
          "base_uri": "https://localhost:8080/"
        },
        "id": "_W4VsHMqFoaN",
        "outputId": "ef1d509d-b3dd-4105-e3ea-55e2064d4606"
      },
      "outputs": [
        {
          "name": "stdout",
          "output_type": "stream",
          "text": [
            "Country Accessed is::: America\n",
            "Country Accessed is::: India\n",
            "Country Accessed is::: Germany\n"
          ]
        }
      ],
      "source": [
        "# Default parameter Value\n",
        "# if we dont pass any value it will take as default paremeter isnide function\n",
        "\n",
        "def my_func(country=\"India\"):\n",
        "    print(\"Country Accessed is:::\",country)\n",
        "\n",
        "my_func(\"America\")\n",
        "my_func()                        # By defaultit access country inside function i.e. INDIA\n",
        "my_func(\"Germany\")\n",
        "\n"
      ]
    },
    {
      "cell_type": "code",
      "execution_count": null,
      "metadata": {
        "colab": {
          "base_uri": "https://localhost:8080/"
        },
        "id": "AX2c6ErXLr6N",
        "outputId": "a0d91e03-3e0a-484e-e1a4-a3b3fa7cad2f"
      },
      "outputs": [
        {
          "name": "stdout",
          "output_type": "stream",
          "text": [
            "9\n"
          ]
        }
      ],
      "source": [
        "#Return\n",
        "\n",
        "def my_func(a):\n",
        "    return a*3\n",
        "\n",
        "result=my_func(3)\n",
        "print(result)"
      ]
    },
    {
      "cell_type": "code",
      "execution_count": null,
      "metadata": {
        "colab": {
          "base_uri": "https://localhost:8080/"
        },
        "id": "uWAMvXWyN-CC",
        "outputId": "116872d5-23a3-4a01-9003-110ba9e97589"
      },
      "outputs": [
        {
          "name": "stdout",
          "output_type": "stream",
          "text": [
            "(None, 9, 3)\n"
          ]
        }
      ],
      "source": [
        "#pass\n",
        "# If no value to return from a function just use pass\n",
        "\n",
        "def my_func(a=1):\n",
        "        x=a*3\n",
        "        if x == 0:  # here x is 0 hence nothig will return .\n",
        "            pass\n",
        "\n",
        "        else:\n",
        "            return x\n",
        "\n",
        "result=my_func(0), my_func(3), my_func()   # here we didnt pass any value in 3rd function , hence bydefaultit willtake as 1\n",
        "\n",
        "print(result)"
      ]
    },
    {
      "cell_type": "markdown",
      "metadata": {
        "id": "JHkAAtIHT8jC"
      },
      "source": [
        "#RECURSION\n",
        "\n",
        "recursion is a technique to call a function itself with in the same function\n",
        "\n"
      ]
    },
    {
      "cell_type": "code",
      "execution_count": null,
      "metadata": {
        "colab": {
          "base_uri": "https://localhost:8080/"
        },
        "id": "VEmnnkVpPgxK",
        "outputId": "fc5b5702-86d0-44e0-a4f3-c2540d91f2f9"
      },
      "outputs": [
        {
          "name": "stdout",
          "output_type": "stream",
          "text": [
            "*\n",
            "**\n",
            "***\n",
            "****\n",
            "*****\n",
            "******\n"
          ]
        }
      ],
      "source": [
        "# Recursion\n",
        "\n",
        "def my_recur(a):\n",
        "\n",
        "    if a > 0:\n",
        "\n",
        "        result=a*'*'\n",
        "        my_recur(a-1)\n",
        "        print(result)\n",
        "    else:\n",
        "        return \"\"\n",
        "\n",
        "my_recur(6)\n"
      ]
    },
    {
      "cell_type": "code",
      "execution_count": null,
      "metadata": {
        "colab": {
          "base_uri": "https://localhost:8080/"
        },
        "id": "7j54H9S5r1b-",
        "outputId": "05c3e50b-893f-4873-8210-7d2def927560"
      },
      "outputs": [
        {
          "name": "stdout",
          "output_type": "stream",
          "text": [
            "*\n",
            "**\n",
            "***\n",
            "****\n",
            "*****\n",
            "******\n"
          ]
        }
      ],
      "source": [
        "#Recursion\n",
        "\n",
        "def my_recur(a):\n",
        "\n",
        "    if a > 0:\n",
        "\n",
        "        result=\"*\"+str(my_recur(a-1))\n",
        "\n",
        "        print(result)\n",
        "    else:\n",
        "        return \"\"\n",
        "    return result\n",
        "r=my_recur(6)"
      ]
    },
    {
      "cell_type": "code",
      "execution_count": null,
      "metadata": {
        "colab": {
          "base_uri": "https://localhost:8080/"
        },
        "id": "evPGRjhiUvjF",
        "outputId": "f11cb0ec-c295-4010-aca1-27ae6bf1222e"
      },
      "outputs": [
        {
          "name": "stdout",
          "output_type": "stream",
          "text": [
            "******\n",
            "*****\n",
            "****\n",
            "***\n",
            "**\n",
            "*\n"
          ]
        }
      ],
      "source": [
        "# Recursion\n",
        "\n",
        "def my_recur(a):\n",
        "\n",
        "    if a <= 6:\n",
        "\n",
        "        result=a*\"*\"\n",
        "        my_recur(a+1)\n",
        "        print(result)\n",
        "    else:\n",
        "        pass\n",
        "\n",
        "\n",
        "my_recur(1)"
      ]
    },
    {
      "cell_type": "code",
      "execution_count": null,
      "metadata": {
        "id": "RGUztqEEB2_f"
      },
      "outputs": [],
      "source": []
    },
    {
      "cell_type": "markdown",
      "metadata": {
        "id": "gqD_ztneB97B"
      },
      "source": [
        "#LAMBDA FUNCTION\n",
        "\n",
        "A lambda is a anonymous function it can take any number of arguments,  but can have only one expression\n",
        "\n",
        "syntax   :: LAMBDA arguments : expression\n",
        "\n",
        "LAMBDA is a shorest form of a function, which takes any no of arguments   to perform a single operation"
      ]
    },
    {
      "cell_type": "code",
      "execution_count": null,
      "metadata": {
        "colab": {
          "base_uri": "https://localhost:8080/"
        },
        "id": "UCShhyfKEiHI",
        "outputId": "a343fe9f-402c-4605-81ae-5816c64ffe34"
      },
      "outputs": [
        {
          "name": "stdout",
          "output_type": "stream",
          "text": [
            "11\n"
          ]
        }
      ],
      "source": [
        "x= lambda a:a+5\n",
        "print(x(6))\n"
      ]
    },
    {
      "cell_type": "code",
      "execution_count": null,
      "metadata": {
        "colab": {
          "base_uri": "https://localhost:8080/"
        },
        "id": "ZoUFMsV8Gy0Z",
        "outputId": "931128a0-e028-4754-d9bd-6aded09f39ca"
      },
      "outputs": [
        {
          "name": "stdout",
          "output_type": "stream",
          "text": [
            "27\n"
          ]
        }
      ],
      "source": [
        "x=lambda a,b: a**b\n",
        "print(x(3,3))"
      ]
    },
    {
      "cell_type": "code",
      "execution_count": null,
      "metadata": {
        "colab": {
          "base_uri": "https://localhost:8080/"
        },
        "id": "mksjXWo5G98o",
        "outputId": "526bdafd-7317-4998-cd46-f5a72e555d31"
      },
      "outputs": [
        {
          "output_type": "stream",
          "name": "stdout",
          "text": [
            "<function myfunc.<locals>.<lambda> at 0x79ce518e0a60>\n",
            "44.0\n"
          ]
        }
      ],
      "source": [
        "#lambda function\n",
        "def myfunc():\n",
        "    return lambda a:(a+1.5)*(a**1.5)\n",
        "\n",
        "value=myfunc()\n",
        "print(value)    # value stores the location of lambda value.\n",
        "print(value(4)) # outputs the actual value of calculation\n"
      ]
    },
    {
      "cell_type": "code",
      "execution_count": null,
      "metadata": {
        "colab": {
          "base_uri": "https://localhost:8080/"
        },
        "id": "RnZYAfvTHVpD",
        "outputId": "db503e09-7239-4850-95d6-c9c2ae0455ee"
      },
      "outputs": [
        {
          "output_type": "stream",
          "name": "stdout",
          "text": [
            "<function myfunc.<locals>.<lambda> at 0x79ce367481f0>\n",
            "2048\n",
            "26411\n"
          ]
        }
      ],
      "source": [
        "#lambda function\n",
        "\n",
        "def myfunc(n):\n",
        "\n",
        "    return lambda a:(a+n)*(a**n)\n",
        "\n",
        "value=myfunc(4) # Here we are storing in the value as lambda expression.\n",
        "\n",
        "print(myfunc(4)) # Here it prints memory location of lambda value\n",
        "\n",
        "print(value(4))\n",
        "print(value(7))   # Here it stores the value of lambda function calculation.."
      ]
    },
    {
      "cell_type": "code",
      "execution_count": null,
      "metadata": {
        "colab": {
          "base_uri": "https://localhost:8080/"
        },
        "id": "VSPOslCjM3UW",
        "outputId": "62583d9a-e101-40cc-b430-1dbb04077c0c"
      },
      "outputs": [
        {
          "output_type": "stream",
          "name": "stdout",
          "text": [
            "3639168.0\n"
          ]
        }
      ],
      "source": [
        "import math\n",
        "\n",
        "def myfunc(x):\n",
        "    n=x\n",
        "    return lambda a:(a+n)*math.pow(a,n)\n",
        "\n",
        "value=myfunc(7)  # Passing value of a as 7\n",
        "\n",
        "print(value(6))  # here 6 is overwritng value of a .initially a=7 , but now a=6"
      ]
    },
    {
      "cell_type": "code",
      "execution_count": null,
      "metadata": {
        "id": "Bw80-m6LQsU8"
      },
      "outputs": [],
      "source": [
        "def myfunc(n):\n",
        "    return lambda a: (a+n)*(a**n)\n",
        "\n",
        "value1=myfunc(4)\n",
        "value2=myfunc(5)\n",
        "\n",
        "print(value1(1))\n",
        "print(value2(7))"
      ]
    },
    {
      "cell_type": "code",
      "execution_count": null,
      "metadata": {
        "colab": {
          "base_uri": "https://localhost:8080/"
        },
        "id": "41JOS3bmY7BA",
        "outputId": "7b9e1721-18c0-433c-c41f-86c66de18491"
      },
      "outputs": [
        {
          "output_type": "stream",
          "name": "stdout",
          "text": [
            "Enter Number::6\n",
            "*\n",
            "**\n",
            "***\n",
            "****\n",
            "*****\n",
            "******\n",
            "<class 'str'>\n",
            "\n"
          ]
        }
      ],
      "source": [
        "#LAMBDA with Recursion\n",
        "\n",
        "def astrik(num):\n",
        "\n",
        "    if num > 0:\n",
        "        x= lambda num:num* \"*\"+str(astrik(num-1))\n",
        "        print(x(num))\n",
        "    else:\n",
        "        pass\n",
        "    return \"\"\n",
        "\n",
        "in_value=int(input(\"Enter Number::\"))\n",
        "r=astrik(in_value)\n",
        "\n",
        "print(type(r))\n",
        "print(r)"
      ]
    },
    {
      "cell_type": "code",
      "execution_count": null,
      "metadata": {
        "colab": {
          "base_uri": "https://localhost:8080/"
        },
        "id": "p_DhTJHPS_-W",
        "outputId": "05235377-6cee-47cf-8f1b-1d55d67ee092"
      },
      "outputs": [
        {
          "output_type": "stream",
          "name": "stdout",
          "text": [
            "8\n"
          ]
        }
      ],
      "source": [
        "#LAMBDA example\n",
        "\n",
        "print((lambda a,b: a+b)(3,5))"
      ]
    },
    {
      "cell_type": "code",
      "execution_count": null,
      "metadata": {
        "colab": {
          "base_uri": "https://localhost:8080/"
        },
        "id": "d4kZlGBBU6J-",
        "outputId": "7477c376-d877-4749-98ae-d0ee8c63bfea"
      },
      "outputs": [
        {
          "output_type": "stream",
          "name": "stdout",
          "text": [
            "2 is even\n",
            "3 is odd\n",
            "5 is odd\n",
            "43 is odd\n"
          ]
        }
      ],
      "source": [
        "#LAMBDA even odd\n",
        "\n",
        "def even_odd(num):\n",
        "    x=lambda num:((num)%2) == 0\n",
        "    if x(num):\n",
        "        print(num, \"is even\")\n",
        "    else:\n",
        "        print(num,\"is odd\")\n",
        "\n",
        "even_odd(2)\n",
        "even_odd(3)\n",
        "even_odd(5)\n",
        "even_odd(43)"
      ]
    },
    {
      "cell_type": "code",
      "execution_count": null,
      "metadata": {
        "colab": {
          "base_uri": "https://localhost:8080/"
        },
        "id": "qKoPIiZwZLpg",
        "outputId": "5141678e-54b9-44b8-9ac6-c6d858320ee8"
      },
      "outputs": [
        {
          "name": "stdout",
          "output_type": "stream",
          "text": [
            "6\n"
          ]
        }
      ],
      "source": [
        "#LAMBDA len() of string\n",
        "\n",
        "x=lambda x: len(x)\n",
        "print(x(\"helllo\"))"
      ]
    },
    {
      "cell_type": "code",
      "execution_count": null,
      "metadata": {
        "colab": {
          "base_uri": "https://localhost:8080/"
        },
        "id": "Yl6Go1P2bVfo",
        "outputId": "4ef552fe-2df5-4ba9-aea5-d1ae0c4e2e18"
      },
      "outputs": [
        {
          "output_type": "stream",
          "name": "stdout",
          "text": [
            "['ram', 'shyam', 111, 222]\n",
            "4\n"
          ]
        }
      ],
      "source": [
        "#concatenate lists using lambda\n",
        "\n",
        "a=[\"ram\",\"shyam\"]\n",
        "b=[111,222]\n",
        "\n",
        "x=lambda x,y:x+y\n",
        "print(x(a,b))\n",
        "\n",
        "y=lambda x,y:len(x+y)\n",
        "print(y(a,b))"
      ]
    },
    {
      "cell_type": "code",
      "execution_count": null,
      "metadata": {
        "colab": {
          "base_uri": "https://localhost:8080/"
        },
        "id": "8rYnQcgKcvvo",
        "outputId": "56f71f30-3e1e-42ce-b18a-5664e70e32d4"
      },
      "outputs": [
        {
          "output_type": "stream",
          "name": "stdout",
          "text": [
            "dict_values(['Ram', 'A'])\n",
            "dict_items([('f_name', 'Ram'), ('l_name', 'A')])\n"
          ]
        }
      ],
      "source": [
        "#Dictionary using lambda\n",
        "\n",
        "a={'f_name':\"Ram\",'l_name':\"A\"}\n",
        "\n",
        "x=lambda val:val.values()\n",
        "z=x(a)\n",
        "print(z)\n",
        "\n",
        "y=lambda val1:val1.items()\n",
        "print(y(a))\n"
      ]
    },
    {
      "cell_type": "markdown",
      "metadata": {
        "id": "in8j6cAOokqE"
      },
      "source": [
        "#ARRAYS\n",
        "\n",
        "Python has no seperate arrays.But lists itself can be accessed as arrays. All list funciotnalities willbe same for arrays"
      ]
    },
    {
      "cell_type": "markdown",
      "metadata": {
        "id": "Qvqf29xPo6Z5"
      },
      "source": [
        "#CLASSES\n",
        "\n",
        "Python is Object Oriented programming\n",
        "\n",
        "class is an object constructor of object or blueprint of object\n",
        "\n",
        "class can be defined as **class**  and ends with **:**\n",
        "\n"
      ]
    },
    {
      "cell_type": "code",
      "execution_count": null,
      "metadata": {
        "id": "CUpLoneTkMl8"
      },
      "outputs": [],
      "source": [
        "#create a class\n",
        "\n",
        "class my_class:\n",
        "    x=\"hello\"\n",
        "\n"
      ]
    },
    {
      "cell_type": "code",
      "execution_count": null,
      "metadata": {
        "id": "fmSBdK39qoeX"
      },
      "outputs": [],
      "source": [
        "#create an object\n",
        "\n",
        "obj1=my_class\n",
        "#obj1 is object of class named **my_class**"
      ]
    },
    {
      "cell_type": "code",
      "execution_count": null,
      "metadata": {
        "id": "PZNXDQQXq61k"
      },
      "outputs": [],
      "source": []
    },
    {
      "cell_type": "markdown",
      "metadata": {
        "id": "jc8f5SidgGVE"
      },
      "source": [
        "# CONSTRUCTORS\n",
        "\n",
        "Constructors are specialmethods in python used to initialize objects of a class..  By default __init__()  and __str__() are used as constrcutors.\n",
        "\n",
        "We can define our own constructors,. Whenever we call an object by default its constructors are invoked.\n",
        "\n",
        "#  __ init___()   \n",
        "\n",
        "__init __()  function is called automatically whenever we use class.we need to define all objects and variable s in this function\n",
        "\n",
        "**self  parameter  represents the current instance of the class.**whenever wherever we define  variable inside a class we use self to define instance of variable  of that class"
      ]
    },
    {
      "cell_type": "code",
      "execution_count": null,
      "metadata": {
        "colab": {
          "base_uri": "https://localhost:8080/"
        },
        "id": "1TFUa4IzgXgz",
        "outputId": "0ddc1856-b3fd-48ed-83ef-66d1d6438b67"
      },
      "outputs": [
        {
          "name": "stdout",
          "output_type": "stream",
          "text": [
            "<__main__.person object at 0x7b8d60700e50>\n",
            "Ram\n",
            "55\n"
          ]
        }
      ],
      "source": [
        "#__init()__\n",
        "\n",
        "class person:\n",
        "    def __init__(self,name,age):  # self is instance variable of the class\n",
        "\n",
        "        self.name=name\n",
        "        self.age=age\n",
        "\n",
        "p1=person(\"Ram\",55)  # class person assigned to object p1\n",
        "print(p1)\n",
        "print(p1.name)\n",
        "print(p1.age)"
      ]
    },
    {
      "cell_type": "markdown",
      "metadata": {
        "id": "PLBxn6TKk7SW"
      },
      "source": [
        "#__string __()\n",
        "\n",
        "string()  function cotrols what to return of an object represented as string.\n",
        "\n",
        "By defaultit returns object refernece if we do not define string of the object\n",
        "\n",
        "\n",
        "It defines in a custom class that the instances have been created in that class to be used.for  exampe is given below"
      ]
    },
    {
      "cell_type": "code",
      "execution_count": null,
      "metadata": {
        "colab": {
          "base_uri": "https://localhost:8080/"
        },
        "id": "6yvkEatUhZtI",
        "outputId": "4072644d-0f44-40a8-f494-e6088942e0ed"
      },
      "outputs": [
        {
          "name": "stdout",
          "output_type": "stream",
          "text": [
            "('Rama', 35)\n"
          ]
        }
      ],
      "source": [
        "#string\n",
        "class person:\n",
        "    def __init__(self,name,age):\n",
        "        self.name=name\n",
        "        self.age=age\n",
        "\n",
        "    def __str__(self):\n",
        "        a=self.name\n",
        "        b=self.age\n",
        "        x= f\"{a,b}\"  # here we are sending the instances a and b to the obj to print\n",
        "        return x\n",
        "obj=person(\"Rama\",35)\n",
        "print(obj)"
      ]
    },
    {
      "cell_type": "code",
      "execution_count": null,
      "metadata": {
        "colab": {
          "base_uri": "https://localhost:8080/"
        },
        "id": "gd7i0Y93wj4n",
        "outputId": "a9940644-9f67-4ebf-fbf6-9f2eecb1f5bf"
      },
      "outputs": [
        {
          "name": "stdout",
          "output_type": "stream",
          "text": [
            "('Rama', 35, 'Rama35')\n"
          ]
        }
      ],
      "source": [
        "#string\n",
        "\n",
        "class person:\n",
        "    def __init__(self,name,age):\n",
        "        self.name=name\n",
        "        self.age=age\n",
        "\n",
        "    def __str__(self):\n",
        "        a=self.name\n",
        "        b=self.age\n",
        "        c=a+str(b)\n",
        "        x= f\"{a,b,c}\"  # here we are sending the instances a and b to the obj to print\n",
        "\n",
        "        return x\n",
        "\n",
        "obj=person(\"Rama\",35)\n",
        "print(obj)"
      ]
    },
    {
      "cell_type": "code",
      "execution_count": null,
      "metadata": {
        "colab": {
          "base_uri": "https://localhost:8080/"
        },
        "id": "YYUI6xYtUs7I",
        "outputId": "27b8ff7c-b3a6-4f5f-d917-71015f9c7dd5"
      },
      "outputs": [
        {
          "name": "stdout",
          "output_type": "stream",
          "text": [
            "('Shiva', 35)\n"
          ]
        }
      ],
      "source": [
        "class person:\n",
        "    def __init__(self,name,age):\n",
        "        self.name=name\n",
        "        self.age=age\n",
        "\n",
        "    def __str__(self):\n",
        "        return f\"{self.name,self.age}\"\n",
        "\n",
        "obj=person(\"Shiva\",35)\n",
        "print(obj)\n"
      ]
    },
    {
      "cell_type": "markdown",
      "metadata": {
        "id": "3Jlgb-21-DY0"
      },
      "source": [
        "#OBJECT Methods\n",
        "\n",
        "\n",
        "Methods create inside a class and that class represented by an object is called object methods"
      ]
    },
    {
      "cell_type": "code",
      "execution_count": null,
      "metadata": {
        "colab": {
          "base_uri": "https://localhost:8080/"
        },
        "id": "Lhf4LPgU91Qd",
        "outputId": "87c05db2-f53a-40d2-9535-9d19e5dad3ac"
      },
      "outputs": [
        {
          "name": "stdout",
          "output_type": "stream",
          "text": [
            "Name and Age is::Shivaprrasad  36\n"
          ]
        }
      ],
      "source": [
        "class person:\n",
        "    def __init__(self,name,age):\n",
        "        self.name=name\n",
        "        self.age=age\n",
        "\n",
        "    def my_func(self):\n",
        "        print(\"Name and Age is::\"+self.name +\"  \"+str(self.age) )\n",
        "\n",
        "obj=person(\"Shivaprrasad\",36)\n",
        "\n",
        "obj.my_func()"
      ]
    },
    {
      "cell_type": "markdown",
      "metadata": {
        "id": "MaFfy9FZDdSn"
      },
      "source": [
        "____ init____(self,parameter1,parameter2...)  \n",
        "\n",
        "self can be anything. Here self represents instance of that class. the scope of that variable is with in the class only. instead of self we can use  any object.\n",
        "\n",
        "_ __init_ _ _(abc,param1,param2..)"
      ]
    },
    {
      "cell_type": "code",
      "execution_count": null,
      "metadata": {
        "colab": {
          "base_uri": "https://localhost:8080/"
        },
        "id": "XSVhcf9__BRT",
        "outputId": "c0c4458e-03a4-4e2f-9f5c-a1057c7ca3be"
      },
      "outputs": [
        {
          "name": "stdout",
          "output_type": "stream",
          "text": [
            "My Name is:: SHIVAPRRASAD_SK and Age is :: 36\n"
          ]
        }
      ],
      "source": [
        "#example\n",
        "\n",
        "class person:\n",
        "    def __init__(instance,param1,param2):\n",
        "        instance.name=param1\n",
        "        instance.age=param2\n",
        "# here we used instance instead of self, and assigned name to param1, age to param2\n",
        "    def my_func(value):\n",
        "        print(\"My Name is::\", value.name.upper(), \"and Age is ::\",value.age )\n",
        "\n",
        "    '''Here value used instead of self and accessed name and age using value local instance.\n",
        "                  Accessing name through value.name and age through value.age'''\n",
        "\n",
        "\n",
        "obj=person(\"Shivaprrasad_sk\",36)\n",
        "obj.my_func()"
      ]
    },
    {
      "cell_type": "code",
      "execution_count": null,
      "metadata": {
        "colab": {
          "base_uri": "https://localhost:8080/"
        },
        "id": "wmCROgKvKTv9",
        "outputId": "0e2d8f73-de6b-4549-81ee-ad8e95d2f07f"
      },
      "outputs": [
        {
          "name": "stdout",
          "output_type": "stream",
          "text": [
            "My Name is:: Shivaprrasad Age is:: 40\n"
          ]
        }
      ],
      "source": [
        "#modifying object properties\n",
        "\n",
        "class person:\n",
        "    def __init__(instance,param1,param2):\n",
        "        instance.name=param1\n",
        "        instance.age=param2\n",
        "        #print(value.name)  # throws error,becasue we cannot access local variable\n",
        "\n",
        "    def my_func(value):\n",
        "        print(\"My Name is::\",value.name,\"Age is::\",value.age)\n",
        "        #print(\"My Name is ::\",value.param1)  cant accees.throws error\n",
        "        # Here we are inheriting the instance variable from the class person name, age\n",
        "\n",
        "obj=person(\"Shivaprrasad\",36)\n",
        "obj.age=40   # modifying values from 36 to 40\n",
        "\n",
        "#obj.param2=39   cant use like this.\n",
        "\n",
        "obj.my_func()\n"
      ]
    },
    {
      "cell_type": "code",
      "execution_count": null,
      "metadata": {
        "colab": {
          "base_uri": "https://localhost:8080/"
        },
        "id": "yB0R5NXMP2RX",
        "outputId": "550a7b1b-dfe5-4240-8b6c-64847d1983f3"
      },
      "outputs": [
        {
          "name": "stdout",
          "output_type": "stream",
          "text": [
            "shivaprrasad 36\n",
            "100282997707312\n"
          ]
        }
      ],
      "source": [
        "# del\n",
        "# delete objects\n",
        "\n",
        "class person:\n",
        "    def __init__(instance,param1,param2):\n",
        "        instance.name=param1\n",
        "        instance.age=param2\n",
        "\n",
        "    def my_fun(value):\n",
        "        a=value.name\n",
        "        b=value.age\n",
        "\n",
        "        print(a,b)\n",
        "\n",
        "obj=person(\"shivaprrasad\",36)\n",
        "obj.my_fun()  # Here we are getting name and age\n",
        "\n",
        "del obj.age  # deleting attribute age\n",
        "#obj.my_fun()  # Here we are calling function , but rasie an error because cant print 'b' value.\n",
        "#print(obj.age) # raises error\n",
        "\n",
        "del obj\n",
        "#print(obj) # raises error because obj deleted\n",
        "print(id(person))  #Here we have deleted the refence obj , but not actual class \"person\".\n",
        "# So in memory we can still have access\n",
        "#print(id(obj))\n",
        "\n",
        "\n"
      ]
    },
    {
      "cell_type": "code",
      "execution_count": null,
      "metadata": {
        "colab": {
          "base_uri": "https://localhost:8080/"
        },
        "id": "ysaUKe9CTh5q",
        "outputId": "1a7d5230-8638-469c-f468-0ad8207adc67"
      },
      "outputs": [
        {
          "name": "stdout",
          "output_type": "stream",
          "text": [
            "Karthkeyaa 2.6\n"
          ]
        }
      ],
      "source": [
        "#Acccess the class person after deleting object reference obj\n",
        "\n",
        "# here we need to access the class by referencing by new creating object.\n",
        "# We need to passs the new values to  class again\n",
        "\n",
        "obj2=person(\"Karthkeyaa\",2.6)\n",
        "obj2.my_fun()"
      ]
    },
    {
      "cell_type": "code",
      "execution_count": null,
      "metadata": {
        "colab": {
          "base_uri": "https://localhost:8080/"
        },
        "id": "iQDk0jnZcqqy",
        "outputId": "4f9ae75a-7246-4bf4-e5a2-590623b94b9a"
      },
      "outputs": [
        {
          "name": "stdout",
          "output_type": "stream",
          "text": [
            "<__main__.person1 object at 0x7c1fb29f0190>\n"
          ]
        }
      ],
      "source": [
        "#pass\n",
        "\n",
        "# There is no value or expressions to define inside a class we can use pass.\n",
        "\n",
        "class person1:\n",
        "    def __init__(self):\n",
        "        pass\n",
        "\n",
        "obj3=person1()\n",
        "print(obj3)"
      ]
    },
    {
      "cell_type": "markdown",
      "metadata": {
        "id": "aGmptQOb0ECL"
      },
      "source": [
        "#Inheritance\n",
        "\n",
        "Inheritance is the method to acuire all the abilties of another class is called inheritance\n",
        "\n",
        "**parent class** is the class all properties being inherited from , also calledas base class\n",
        "\n",
        "**child class** is the class which inherits all its properties from another classor parent class"
      ]
    },
    {
      "cell_type": "code",
      "execution_count": null,
      "metadata": {
        "colab": {
          "base_uri": "https://localhost:8080/"
        },
        "id": "8AG1vgtQdGl0",
        "outputId": "56c7a3e1-a828-46f2-8686-0aec56482bcb"
      },
      "outputs": [
        {
          "output_type": "stream",
          "name": "stdout",
          "text": [
            "karthkeyaa A++\n",
            "Sharatth A+\n"
          ]
        }
      ],
      "source": [
        "#example\n",
        "# create super class\n",
        "class inhrt:\n",
        "    def __init__(own,param1,param2):\n",
        "        own.name=param1\n",
        "        own.grade=param2\n",
        "\n",
        "    def prn(inh):\n",
        "        print(inh.name,inh.grade)\n",
        "\n",
        "obj=inhrt('karthkeyaa',\"A++\")   #passing values to class inhrt\n",
        "obj.prn()                                  # calling function print(). Here it prints above given values\n",
        "\n",
        "#create child class\n",
        "\n",
        "class student(inhrt):\n",
        "    pass\n",
        "\n",
        "\n",
        "# Using child class we are accessing the parent class attibutes.\n",
        "# Here it will inherit the __init__() function\n",
        "\n",
        "child_obj=student(\"Sharatth\",\"A+\")\n",
        "\n",
        "\"\"\"\n",
        "Here we are passing values through child class student. so it inherits the values of parent class\n",
        "by overreiding old values It is inheriting the __init__() function of parent class inhrt\n",
        "\"\"\"\n",
        "child_obj.prn()\n"
      ]
    },
    {
      "cell_type": "code",
      "execution_count": null,
      "metadata": {
        "colab": {
          "base_uri": "https://localhost:8080/"
        },
        "id": "E8izPMcGmIKH",
        "outputId": "28f9e568-d711-42ee-e8c3-9df3c39c6450"
      },
      "outputs": [
        {
          "name": "stdout",
          "output_type": "stream",
          "text": [
            "('Shivaprrasad', 45, 'Last Name not defined')\n",
            "Karthkeyaa\n"
          ]
        }
      ],
      "source": [
        "# using __init__() in child class\n",
        "\n",
        "class person:\n",
        "    def __init__(own,param1,param2):\n",
        "        own.name=param1\n",
        "        own.age=param2\n",
        "\n",
        "    def __str__(own):\n",
        "        a=own.name\n",
        "        b=own.age\n",
        "        c=\"Last Name not defined\"\n",
        "        return f\"{a,b,c}\"\n",
        "\n",
        "obj_per=person(\"Shivaprrasad\",45)  #calling parent class\n",
        "\n",
        "print(obj_per)  #printing parent object reference\n",
        "\n",
        "\n",
        "class change(person):\n",
        "    def __init__(native,param3,param4):\n",
        "        native.newname=param3\n",
        "        native.newage=param4\n",
        "\n",
        "    def __str__(inh):\n",
        "        return f\"{inh.newname,inh.newage}\"\n",
        "        #return f\"{inh.newname},{inh.age}\".\n",
        "        #Gives an error because it cant access parent class variables\n",
        "        #It can return only one return function\n",
        "\n",
        "chl_obj=change(\"Karthkeyaa\",2)  #calling child class by passing vairables to parent class..\n",
        "print(chl_obj)                  # Here it activates child __init()__ function by over riding parent __init()__\n",
        "\n",
        "\n"
      ]
    },
    {
      "cell_type": "code",
      "execution_count": null,
      "metadata": {
        "colab": {
          "base_uri": "https://localhost:8080/"
        },
        "id": "84knGk92qGl2",
        "outputId": "fab65c56-4646-4268-d0eb-fe3569ebf986"
      },
      "outputs": [
        {
          "name": "stdout",
          "output_type": "stream",
          "text": [
            "('Shivaprrasad', 46, 6.5)\n"
          ]
        }
      ],
      "source": [
        "# adding __init__() to child class\n",
        "\n",
        "class person:\n",
        "    def __init__(native,param1,param2):\n",
        "        native.p_name=param1\n",
        "        native.p_height=param2\n",
        "\n",
        "\n",
        "class child(person):\n",
        "\n",
        "    def __init__(cnative,param1,param2,param3):\n",
        "\n",
        "        person.__init__(cnative,param1,param2)\n",
        "        cnative.name=cnative.p_name\n",
        "        cnative.age=param3\n",
        "        cnative.height=cnative.p_height\n",
        "\n",
        "\n",
        "\n",
        "    def __str__(inh):\n",
        "        \"\"\"\n",
        "        inh.name=inh.name\n",
        "        inh.age=inh.age\n",
        "        inh.height=inh.height\n",
        "\n",
        "        \"\"\"\n",
        "\n",
        "        return f\"{(inh.name), inh.age,  (inh.height)}\"\n",
        "        # Here we have created a custom string. so it should return a value.If we do not return bedefault it return memory location of the object\n",
        "\n",
        "obj=child(\"Shivaprrasad\",6.5,46)\n",
        "\n",
        "print(obj)"
      ]
    },
    {
      "cell_type": "code",
      "execution_count": null,
      "metadata": {
        "colab": {
          "base_uri": "https://localhost:8080/"
        },
        "id": "CHwT6ns1EQCs",
        "outputId": "743ecd75-240b-4cc1-d01b-581710b79dd4"
      },
      "outputs": [
        {
          "name": "stdout",
          "output_type": "stream",
          "text": [
            "RAM,33\n"
          ]
        }
      ],
      "source": [
        "#super()\n",
        "\n",
        "class parent_class:\n",
        "    def __init__(parent,name,age):\n",
        "        parent.p_name=name\n",
        "        parent.p_age=age\n",
        "\n",
        "# Above we are passing values of name,age to __init__(). parent is the instance variable of this __init__()\n",
        "# then we defined p_name and p_age by its instance by assgning name and age\n",
        "#parent.p_name=name\n",
        "#parent.p_age=age\n",
        "\n",
        "class child_class(parent_class):\n",
        "    def __init__(child,c_name,c_age):\n",
        "        super().__init__(c_name,c_age)\n",
        "\n",
        "        child.c_name=child.p_name\n",
        "        child.c_age=child.p_age\n",
        "\n",
        "   # here we are creating child class by inheriting the class parent.\n",
        "   # So child class can access funcitonality of parent class\n",
        "   # Once we define __init__() in child class it over rides parent __init__()\n",
        "   # In the child class __init__() we have defined child class instance  by \"child\" and passed the variables c_name,c_age\n",
        "   # To access parent class methods and variable we are using super() method.\n",
        "   # Here we re defined __init__() method using super() and passing and defined same variables c_name,c_age which are defined in child __init__()\n",
        "   # Here in both the __init__() variables must be same values\n",
        "   # Now to access variables of parent we are assigning c_name,c_age with child instance by accessing parent variables p_name,p_age\n",
        "   # child.c_name=child.p_name   Here we are accessing parent varaible p_name with  with child instance to assign parent variable to child variable.\n",
        "   # child.c_age=child.p_age   assigning parent vraible to child\n",
        "\n",
        "    def __str__(inh):\n",
        "\n",
        "        inh.name=\"RAM\"\n",
        "        inh.age=inh.c_age\n",
        "        return f\"{inh.name},{inh.age}\"\n",
        "\n",
        "\n",
        "    # Always string must return a value\n",
        "    # Here we are passing child_class instance \"child \" to __str__() constrcutors\n",
        "    # here we are passing our own functioning\n",
        "    # in __str__() we have changed the value of name\n",
        "\n",
        "obj=child_class(\"Shivaprrasad\",33)\n",
        "\n",
        "print(obj)\n"
      ]
    },
    {
      "cell_type": "code",
      "execution_count": null,
      "metadata": {
        "id": "0qnbImFFnrG1"
      },
      "outputs": [],
      "source": []
    },
    {
      "cell_type": "markdown",
      "metadata": {
        "id": "E0nd5kg7Jmta"
      },
      "source": [
        "**Whenever we call a print() method  in python first ofit will check is there any __str__() method defined.if so it follows the custom __str__() method. else if not found it executes  default __str__() method defined in python"
      ]
    },
    {
      "cell_type": "code",
      "execution_count": null,
      "metadata": {
        "colab": {
          "base_uri": "https://localhost:8080/"
        },
        "id": "WOhoGyefj0wi",
        "outputId": "6bb17fa6-3765-4b12-ac75-d690f6b3d5ad"
      },
      "outputs": [
        {
          "output_type": "stream",
          "name": "stdout",
          "text": [
            " Name:: Shivaprrasad \n",
            " Initials:: Sunkarranam \n",
            " Middle Name:: SS \n",
            " Marks:: 85 \n",
            " Grade:: A++\n",
            "Marks obtained are::85 which are above 75. Hence Shivaprrasad Achieved Distinction\n",
            "\n",
            " Name:: Shivaprrasad \n",
            " Initials:: Sunkarranam \n",
            " Middle Name:: SS \n",
            " Marks:: 45 \n",
            " Grade:: A++\n",
            "Marks obtained are:: 45  which are below  75. Hence Not achieved distinction\n",
            "\n",
            "\n"
          ]
        }
      ],
      "source": [
        "#SUPER()\n",
        "#super() class bydefault inherit allof its values from parent class\n",
        "\n",
        "class student:\n",
        "    def __init__(pnative,name,marks):\n",
        "        pnative.s_name=name\n",
        "        pnative.s_marks=marks\n",
        "        pnative.ini_name=\"Sunkarranam\"\n",
        "\n",
        "class grade(student):\n",
        "    def __init__(cnative,name,marks,grade):\n",
        "        super().__init__(name,marks)\n",
        "\n",
        "        cnative.grade=grade #local instance\n",
        "        cnative.name=cnative.s_name #Accessing parent variable  with local instance\n",
        "        cnative.marks=cnative.s_marks #Accessing parent variable  with local instance\n",
        "        cnative.initials=cnative.ini_name #Accessing parent variable  with local instance\n",
        "        middle_name=\"SS\"\n",
        "\n",
        "        print(\" Name::\",cnative.s_name,\"\\n\",\"Initials::\",cnative.initials, \"\\n\",\n",
        "              \"Middle Name::\", middle_name, \"\\n\", \"Marks::\",cnative.marks,\"\\n\",\"Grade::\",grade)\n",
        "\n",
        "    def __str__(inh):  #Defining local instance\n",
        "        if (inh.marks) > 75:\n",
        "           return f\"Marks obtained are::{inh.marks} which are above 75. Hence {inh.name} Achieved Distinction\"\n",
        "        else:\n",
        "           return f\"Marks obtained are:: {inh.marks}  which are below  75. Hence Not achieved distinction\"\n",
        "\n",
        "\n",
        "\n",
        "casl_obj=grade(\"Shivaprrasad\",85,\"A++\")\n",
        "print(casl_obj)\n",
        "print()\n",
        "\n",
        "casl_obj=grade(\"Shivaprrasad\",45,\"A++\")\n",
        "print(casl_obj)\n",
        "print()\n",
        "\n",
        "'''casl_obj=grade(input(\"Enter Name\"),int(input('Enter marks')),input(\"Enter Grade\"))\n",
        "print()\n",
        "print(casl_obj)'''\n",
        "print()\n"
      ]
    },
    {
      "cell_type": "code",
      "execution_count": null,
      "metadata": {
        "colab": {
          "base_uri": "https://localhost:8080/"
        },
        "id": "5G98oTIoqojI",
        "outputId": "d2a7bb61-9551-4019-c14f-aadfe91a417b"
      },
      "outputs": [
        {
          "name": "stdout",
          "output_type": "stream",
          "text": [
            "RAM, 46,33,SAFE,B+\n"
          ]
        }
      ],
      "source": [
        "#super()\n",
        "\n",
        "class blood_test:\n",
        "    def __init__(pnative,name,age,value):\n",
        "        pnative.p_name=name\n",
        "        pnative.p_age=age\n",
        "        pnative.p_value=value\n",
        "\n",
        "        if pnative.p_value>60:\n",
        "            pnative.p_status=\"INFECTED\"\n",
        "\n",
        "        else:\n",
        "            pnative.p_status=\"SAFE\"\n",
        "\n",
        "class blood_group(blood_test):\n",
        "    def __init__(cnative,patient_name,patient_age,patient_value,patient_bgroup):\n",
        "        super().__init__(patient_name,patient_age,patient_value)\n",
        "\n",
        "        cnative.blood_group=patient_bgroup\n",
        "        cnative.patient_name=cnative.p_name\n",
        "        cnative.patient_age=cnative.p_age\n",
        "        cnative.patient_value=cnative.p_value\n",
        "        cnative.status=cnative.p_status\n",
        "\n",
        "\n",
        "\n",
        "    def __str__(inh):\n",
        "\n",
        "        inh.name=inh.patient_name\n",
        "        inh.age=inh.patient_age\n",
        "        inh.value=inh.patient_value\n",
        "        inh.status=inh.p_status\n",
        "        inh.blood_group=inh.blood_group\n",
        "\n",
        "        return f\"{inh.name}, {inh.age},{inh.value},{inh.status},{inh.blood_group}\"\n",
        "\n",
        "\n",
        "details=blood_group(\"RAM\",46,33,\"B+\")\n",
        "\n",
        "print(details)"
      ]
    },
    {
      "cell_type": "code",
      "execution_count": null,
      "metadata": {
        "id": "CL4UcHOc3o5F"
      },
      "outputs": [],
      "source": []
    },
    {
      "cell_type": "code",
      "execution_count": null,
      "metadata": {
        "colab": {
          "base_uri": "https://localhost:8080/"
        },
        "id": "0nnuRRjEfCWP",
        "outputId": "654234a4-92cc-4204-b7c2-280607ca40c4"
      },
      "outputs": [
        {
          "name": "stdout",
          "output_type": "stream",
          "text": [
            "ANIL, 46,33,SAFE,B+\n"
          ]
        }
      ],
      "source": [
        "#super()\n",
        "\n",
        "class blood_test:\n",
        "    def __init__(pnative,name,age,value):\n",
        "        pnative.p_name=\"ANIL\"\n",
        "        pnative.p_age=age\n",
        "        pnative.p_value=value\n",
        "\n",
        "        if pnative.p_value>60:\n",
        "            pnative.p_status=\"INFECTED\"\n",
        "\n",
        "        else:\n",
        "            pnative.p_status=\"SAFE\"\n",
        "\n",
        "class blood_group(blood_test):\n",
        "    def __init__(cnative,patient_name,patient_age,patient_value,patient_bgroup):\n",
        "        super().__init__(patient_name,patient_age,patient_value)\n",
        "\n",
        "        cnative.blood_group=patient_bgroup\n",
        "        cnative.patient_name=cnative.p_name\n",
        "        cnative.patient_age=cnative.p_age\n",
        "        cnative.patient_value=cnative.p_value\n",
        "        cnative.status=cnative.p_status\n",
        "\n",
        "\n",
        "\n",
        "    def __str__(inh):\n",
        "\n",
        "        inh.name=inh.patient_name\n",
        "        inh.age=inh.patient_age\n",
        "        inh.value=inh.patient_value\n",
        "        inh.status=inh.p_status\n",
        "        inh.blood_group=inh.blood_group\n",
        "\n",
        "        return f\"{inh.name}, {inh.age},{inh.value},{inh.status},{inh.blood_group}\"\n",
        "\n",
        "\n",
        "details=blood_group(\"Ram\",46,33,\"B+\")\n",
        "\n",
        "print(details)"
      ]
    },
    {
      "cell_type": "code",
      "execution_count": null,
      "metadata": {
        "colab": {
          "base_uri": "https://localhost:8080/"
        },
        "id": "mu_hklZzw0EX",
        "outputId": "5e063e71-f615-4963-c307-51ccb9efbe48"
      },
      "outputs": [
        {
          "name": "stdout",
          "output_type": "stream",
          "text": [
            "SHIVA,36\n"
          ]
        }
      ],
      "source": [
        "#writing custom  __init__() methods\n",
        "\n",
        "class person:\n",
        "    def __init__(self,name,age):\n",
        "        self.__custom__(name,age)\n",
        "\n",
        "class child(person):\n",
        "\n",
        "    def __custom__(self,name,age):\n",
        "        self.p_name=name\n",
        "        self.p_age=age\n",
        "    def __str__(self):\n",
        "        return f'{self.p_name},{self.p_age}'\n",
        "\n",
        "obj=child(\"SHIVA\",36)\n",
        "print(obj)\n",
        "\n",
        "\n",
        "\n"
      ]
    },
    {
      "cell_type": "code",
      "execution_count": null,
      "metadata": {
        "id": "jLwtVW03tMQE"
      },
      "outputs": [],
      "source": []
    },
    {
      "cell_type": "markdown",
      "metadata": {
        "id": "mA9ZT_hMZncc"
      },
      "source": [
        "#ITERATORS\n",
        "\n",
        "Iterator is an object that contains countablenumber of values\n",
        "\n",
        "__next()__   and __iter()__  are methods\n",
        "\n",
        "lists,tuples,sets,dictonaries are interable objects.internally they will call iterators methods"
      ]
    },
    {
      "cell_type": "code",
      "execution_count": null,
      "metadata": {
        "colab": {
          "base_uri": "https://localhost:8080/"
        },
        "id": "4Mm_ZWW2a1Dy",
        "outputId": "a80942e7-092e-4171-94da-d0587e6d65ef"
      },
      "outputs": [
        {
          "name": "stdout",
          "output_type": "stream",
          "text": [
            "A\n",
            "P\n",
            "P\n",
            "L\n",
            "E\n"
          ]
        }
      ],
      "source": [
        "#String as iter\n",
        "\n",
        "x= \"APPLE\"\n",
        "y=iter(x)   # iter methods takes the string x and creates object of ietr(x)=y\n",
        "\n",
        "print(next(y))# It prints each character at once\n",
        "print(next(y))\n",
        "print(next(y))\n",
        "print(next(y))\n",
        "print(next(y))"
      ]
    },
    {
      "cell_type": "markdown",
      "metadata": {
        "id": "NPZqJp33cPx0"
      },
      "source": [
        "**The difference betwen these two examples**\n",
        "\n",
        "In the first method we have created an object by converting x to iterator.So everytime when we call it oves to next character.\n",
        "\n",
        "But in below one we are creating or calling  iter() everytime  ,hence always it gives first letter only. because here we didnt create any object , so everytime iter() executes x and results 1st character only"
      ]
    },
    {
      "cell_type": "code",
      "execution_count": null,
      "metadata": {
        "colab": {
          "base_uri": "https://localhost:8080/"
        },
        "id": "mfK03rAlZ-KZ",
        "outputId": "31433e54-71e4-4775-ba4d-c7b14166c986"
      },
      "outputs": [
        {
          "name": "stdout",
          "output_type": "stream",
          "text": [
            "A\n",
            "A\n",
            "A\n",
            "A\n"
          ]
        }
      ],
      "source": [
        "#example of iterator\n",
        "x=\"APPLeS\"\n",
        "\n",
        "print(next(iter(x)))\n",
        "print(next(iter(x)))\n",
        "print(next(iter(x)))\n",
        "print(next(iter(x)))"
      ]
    },
    {
      "cell_type": "code",
      "execution_count": null,
      "metadata": {
        "colab": {
          "base_uri": "https://localhost:8080/"
        },
        "id": "DpulQh_fafEm",
        "outputId": "d598246c-243f-4bc9-fb92-23d8fe0a4121"
      },
      "outputs": [
        {
          "name": "stdout",
          "output_type": "stream",
          "text": [
            "Apples\n",
            "Bananas\n",
            "Mangoes\n"
          ]
        }
      ],
      "source": [
        "#Lists as iter()\n",
        "\n",
        "lst=[\"Apples\",\"Bananas\",\"Mangoes\"]\n",
        "i=iter(lst)   # Here i stores iteration list\n",
        "\n",
        "\n",
        "print(next(i))  # By indexing methods it calls everytie we use next()\n",
        "print(next(i))\n",
        "print(next(i))\n",
        "\n",
        "\n"
      ]
    },
    {
      "cell_type": "code",
      "execution_count": null,
      "metadata": {
        "colab": {
          "base_uri": "https://localhost:8080/"
        },
        "id": "uDwcWX2rgUuC",
        "outputId": "0ba682bc-a721-4f0f-95f9-0900d7b53090"
      },
      "outputs": [
        {
          "name": "stdout",
          "output_type": "stream",
          "text": [
            "Apples\n",
            "Apples\n",
            "bananas\n"
          ]
        }
      ],
      "source": [
        "lst=[\"Apples\",\"bananas\",\"Mangoes\"]\n",
        "i=iter(lst)\n",
        "\n",
        "\n",
        "y=next(i) # Here we are iterated only once\n",
        "print(y)\n",
        "print(y)\n",
        "print(next(i))"
      ]
    },
    {
      "cell_type": "code",
      "execution_count": null,
      "metadata": {
        "colab": {
          "base_uri": "https://localhost:8080/"
        },
        "id": "s3pCVMZMg6mr",
        "outputId": "4ae8349b-57c9-4f75-f85b-54b33c2fc393"
      },
      "outputs": [
        {
          "name": "stdout",
          "output_type": "stream",
          "text": [
            "Apples\n",
            "Bananas\n",
            "Mangoes\n"
          ]
        }
      ],
      "source": [
        "lst=[\"Apples\",\"Bananas\",\"Mangoes\"]\n",
        "\n",
        "i=iter(lst)\n",
        "a=next(i)\n",
        "b=next(iter(i))  # we are assinging to multiple variables\n",
        "c=next(iter(i))\n",
        "print(a)\n",
        "print(b)\n",
        "print(c)"
      ]
    },
    {
      "cell_type": "code",
      "execution_count": null,
      "metadata": {
        "colab": {
          "base_uri": "https://localhost:8080/",
          "height": 245
        },
        "id": "lncA_K1Qh730",
        "outputId": "0c174e1a-3f88-4c6e-ef0a-9ff585904d4f"
      },
      "outputs": [
        {
          "ename": "TypeError",
          "evalue": "ignored",
          "output_type": "error",
          "traceback": [
            "\u001b[0;31m---------------------------------------------------------------------------\u001b[0m",
            "\u001b[0;31mTypeError\u001b[0m                                 Traceback (most recent call last)",
            "\u001b[0;32m<ipython-input-52-a0e515f403db>\u001b[0m in \u001b[0;36m<cell line: 5>\u001b[0;34m()\u001b[0m\n\u001b[1;32m      3\u001b[0m \u001b[0ma\u001b[0m\u001b[0;34m=\u001b[0m\u001b[0mnext\u001b[0m\u001b[0;34m(\u001b[0m\u001b[0mi\u001b[0m\u001b[0;34m)\u001b[0m\u001b[0;34m\u001b[0m\u001b[0;34m\u001b[0m\u001b[0m\n\u001b[1;32m      4\u001b[0m \u001b[0mb\u001b[0m\u001b[0;34m=\u001b[0m\u001b[0mnext\u001b[0m\u001b[0;34m(\u001b[0m\u001b[0miter\u001b[0m\u001b[0;34m(\u001b[0m\u001b[0ma\u001b[0m\u001b[0;34m)\u001b[0m\u001b[0;34m)\u001b[0m  \u001b[0;31m# we cant assign to string next() works only to iter()\u001b[0m\u001b[0;34m\u001b[0m\u001b[0;34m\u001b[0m\u001b[0m\n\u001b[0;32m----> 5\u001b[0;31m \u001b[0mc\u001b[0m\u001b[0;34m=\u001b[0m\u001b[0mnext\u001b[0m\u001b[0;34m(\u001b[0m\u001b[0mb\u001b[0m\u001b[0;34m)\u001b[0m\u001b[0;34m\u001b[0m\u001b[0;34m\u001b[0m\u001b[0m\n\u001b[0m\u001b[1;32m      6\u001b[0m \u001b[0;34m\u001b[0m\u001b[0m\n\u001b[1;32m      7\u001b[0m \u001b[0mprint\u001b[0m\u001b[0;34m(\u001b[0m\u001b[0ma\u001b[0m\u001b[0;34m)\u001b[0m\u001b[0;34m,\u001b[0m \u001b[0mprint\u001b[0m\u001b[0;34m(\u001b[0m\u001b[0mb\u001b[0m\u001b[0;34m)\u001b[0m\u001b[0;34m,\u001b[0m\u001b[0mprint\u001b[0m\u001b[0;34m(\u001b[0m\u001b[0mc\u001b[0m\u001b[0;34m)\u001b[0m\u001b[0;34m\u001b[0m\u001b[0;34m\u001b[0m\u001b[0m\n",
            "\u001b[0;31mTypeError\u001b[0m: 'str' object is not an iterator"
          ]
        }
      ],
      "source": [
        "lst=[\"Apples\",\"Mangoes\",\"Bananas\"]\n",
        "i=iter(lst)\n",
        "a=next(i)\n",
        "b=next(a)  # we cant assign to string next() works only to iter() \"i\" is iterator, but not \"a\"\n",
        "c=next(b)\n",
        "\n",
        "print(a), print(b),print(c)"
      ]
    },
    {
      "cell_type": "code",
      "execution_count": null,
      "metadata": {
        "colab": {
          "base_uri": "https://localhost:8080/"
        },
        "id": "l1aw7Zgzi6Lu",
        "outputId": "39332b82-8e5e-4d4e-d7e4-b1bf87f2dbb2"
      },
      "outputs": [
        {
          "name": "stdout",
          "output_type": "stream",
          "text": [
            "Apples Apples Apples\n",
            "Apples\n",
            "Apples\n",
            "Apples Apples Apples\n"
          ]
        }
      ],
      "source": [
        "lst=[\"Apples\",\"Bananas\",\"Mangoes\"]\n",
        "\n",
        "a=next(iter(lst))\n",
        "b=next(iter(lst))\n",
        "c=next(iter(lst))\n",
        "\n",
        "print(a,b,c)\n",
        "print(b)\n",
        "print(c)\n",
        "\n",
        "\n",
        "print(next(iter(lst)),next(iter(lst)),next(iter(lst)))"
      ]
    },
    {
      "cell_type": "code",
      "execution_count": null,
      "metadata": {
        "colab": {
          "base_uri": "https://localhost:8080/"
        },
        "id": "xhO6iOUgjbsZ",
        "outputId": "5c888e92-fc65-4ee7-f3ee-bcd4498d6cc8"
      },
      "outputs": [
        {
          "name": "stdout",
          "output_type": "stream",
          "text": [
            "A\n",
            "p\n",
            "p\n",
            "l\n",
            "e\n",
            "s\n"
          ]
        }
      ],
      "source": [
        "x=\"Apples\"\n",
        "for i in x :\n",
        "    print(i)"
      ]
    },
    {
      "cell_type": "markdown",
      "metadata": {
        "id": "8lTqEYqHnY--"
      },
      "source": [
        "#creating Iterators"
      ]
    },
    {
      "cell_type": "code",
      "execution_count": null,
      "metadata": {
        "colab": {
          "base_uri": "https://localhost:8080/"
        },
        "id": "PW1zQLShnRCp",
        "outputId": "3b53de10-9730-453f-859a-413e006515b3"
      },
      "outputs": [
        {
          "name": "stdout",
          "output_type": "stream",
          "text": [
            "a   b   c   d   e   f   g   h   i   j   k   l   m   n   o   p   q   r   s   t   u   v   w   x   y   z   "
          ]
        }
      ],
      "source": [
        "# creates a to z alphabets\n",
        "\n",
        "class alphbet:\n",
        "    def __iter__(self):\n",
        "\n",
        "        self.letter= ord('a')\n",
        "\n",
        "        return self\n",
        "\n",
        "    def __next__(self):\n",
        "\n",
        "\n",
        "        character=self.letter\n",
        "        self.letter += 1\n",
        "\n",
        "        return chr(character)\n",
        "\n",
        "\n",
        "my_class=alphbet()\n",
        "\n",
        "obj=iter(my_class)\n",
        "\n",
        "i=1\n",
        "while i < 27:\n",
        "    print(next(obj), end=\"   \")\n",
        "    i += 1"
      ]
    },
    {
      "cell_type": "code",
      "execution_count": null,
      "metadata": {
        "id": "Ca2REQDFyccS"
      },
      "outputs": [],
      "source": []
    },
    {
      "cell_type": "code",
      "execution_count": null,
      "metadata": {
        "colab": {
          "base_uri": "https://localhost:8080/"
        },
        "id": "w9obZHQOtnBm",
        "outputId": "41f5ce22-6a1b-496d-88e6-7e2314f74e71"
      },
      "outputs": [
        {
          "name": "stdout",
          "output_type": "stream",
          "text": [
            "1  2  3  4  5  6  7  8  9  10  11  12  13  14  15  16  17  18  19  "
          ]
        }
      ],
      "source": [
        "# creates numbers\n",
        "\n",
        "class numbers:\n",
        "    def __iter__(self):\n",
        "\n",
        "        self.num= 1\n",
        "        return self\n",
        "    def __next__(self):\n",
        "        self.value=self.num\n",
        "        self.num += 1\n",
        "\n",
        "        return self.value\n",
        "\n",
        "my_class=numbers()\n",
        "\n",
        "obj=iter(my_class)\n",
        "i=1\n",
        "while i<20:\n",
        "    print(next(obj), end=\"  \")\n",
        "    i +=1"
      ]
    },
    {
      "cell_type": "code",
      "execution_count": null,
      "metadata": {
        "colab": {
          "base_uri": "https://localhost:8080/"
        },
        "id": "IYBLqry6yyJ8",
        "outputId": "dc34480f-6ca4-4b4a-b615-cb7ca50ebfc6"
      },
      "outputs": [
        {
          "name": "stdout",
          "output_type": "stream",
          "text": [
            "1 2 3 4 5 6 7 8 9 "
          ]
        }
      ],
      "source": [
        "# Stop Iteration\n",
        "\n",
        "class stp:\n",
        "    def __iter__(self):\n",
        "\n",
        "        self.num =1\n",
        "        return self\n",
        "\n",
        "    def __next__(self):\n",
        "\n",
        "        if self.num < 10:\n",
        "            x= self.num\n",
        "            self.num += 1\n",
        "            return x\n",
        "\n",
        "        else:\n",
        "\n",
        "            raise StopIteration\n",
        "\n",
        "my_class=stp()\n",
        "\n",
        "obj=iter(my_class)\n",
        "\n",
        "for x in obj:\n",
        "    print(x, end=\" \")\n",
        "\n",
        "\n",
        "\n",
        "\n"
      ]
    },
    {
      "cell_type": "markdown",
      "metadata": {
        "id": "LyJ0NNXVeM40"
      },
      "source": [
        "#Polymorphism\n",
        "\n",
        "Using the same object mutliple times is called as polymorphism.\n",
        "\n",
        "To use the same code or methods multiple times with different functionality.. like len() function. we can use the same function for different objects like lists,tuples,dictionaries etc..\n",
        "\n"
      ]
    },
    {
      "cell_type": "code",
      "execution_count": null,
      "metadata": {
        "colab": {
          "base_uri": "https://localhost:8080/"
        },
        "id": "1dhkB-c_1MhX",
        "outputId": "1be7c306-bd7f-4b4a-a92b-eef9efb70fd6"
      },
      "outputs": [
        {
          "name": "stdout",
          "output_type": "stream",
          "text": [
            "3\n",
            "3\n",
            "2\n",
            "2\n"
          ]
        }
      ],
      "source": [
        "# example\n",
        "l=[\"apple\",\"mangoes\",\"bananas\"]\n",
        "t=(\"Apples\",\"Bananas\",\"Cherrys\")\n",
        "s={\"Apples\",\"Bananas\"}\n",
        "d={'type':'fruits','name':'Banana'}\n",
        "len(l),len(t)\n",
        "print(len(l))\n",
        "print(len(t))\n",
        "print(len(s))\n",
        "print(len(d))"
      ]
    },
    {
      "cell_type": "code",
      "execution_count": null,
      "metadata": {
        "colab": {
          "base_uri": "https://localhost:8080/"
        },
        "id": "KZdmn6kXe8y7",
        "outputId": "15716c21-9f32-498e-edef-d1c2fc685739"
      },
      "outputs": [
        {
          "name": "stdout",
          "output_type": "stream",
          "text": [
            "TATA Indica 2000 Banned\n",
            "Can Move forwarded\n",
            "Valid until  further check\n"
          ]
        }
      ],
      "source": [
        "#Polymorphism in classes\n",
        "\n",
        "class cars:\n",
        "    def __init__(self,model,name):\n",
        "        self.bcompany=\"TATA\"\n",
        "        self.bmodel=model\n",
        "        self.bname=name\n",
        "\n",
        "\n",
        "    def prn(self):\n",
        "        self.model=self.bmodel\n",
        "\n",
        "        if self.model < 2008:\n",
        "            print(self.bcompany,self.bname,self.model,\"Banned\")\n",
        "\n",
        "        else:\n",
        "            print(\"Can Use\")\n",
        "\n",
        "class  flights:\n",
        "    def __init__(self,model,name):\n",
        "        self.bcompany=\"Boeing\"\n",
        "        self.bmodel=model\n",
        "        self.bname=name\n",
        "\n",
        "    def prn(self):\n",
        "\n",
        "        self.model =self.bmodel\n",
        "        if self.model < 2000:\n",
        "            print(\"Banned as per Air Authority Guidelines\")\n",
        "\n",
        "        else:\n",
        "            print(\"Can Move forwarded\")\n",
        "class cruise:\n",
        "    def __init__(self,model,name):\n",
        "        self.bcompany=\"Atlanta\"\n",
        "        self.bmodel=model\n",
        "        self.bname=name\n",
        "\n",
        "    def prn(self):\n",
        "\n",
        "        self.model=self.bmodel\n",
        "\n",
        "        if self.model< 1990:\n",
        "            print(\"Banned ,Cant use for Passenger Purpose\")\n",
        "        else:\n",
        "            print(\"Valid until  further check\")\n",
        "\n",
        "car=cars(2000,\"Indica\")\n",
        "flight=flights(2002,\"A380\")\n",
        "ship=cruise(2019,\"Titanic\")\n",
        "\n",
        "\n",
        "for x in (car,flight,ship):\n",
        "    x.prn()\n"
      ]
    },
    {
      "cell_type": "code",
      "execution_count": null,
      "metadata": {
        "colab": {
          "base_uri": "https://localhost:8080/"
        },
        "id": "I1kRRfFYjzd3",
        "outputId": "ba906f97-ac2e-4adc-b122-b96f5e9eb940"
      },
      "outputs": [
        {
          "name": "stdout",
          "output_type": "stream",
          "text": [
            "fruit name :: APPLES fruit rate per kg:: 120.65\n",
            "Veggetable Name::  Spinach Vegetabe rate per kg:: 52.65\n"
          ]
        }
      ],
      "source": [
        "#Class Polymorphism\n",
        "\n",
        "# In this example imusing classnames as variable name.\n",
        "# but in program convention it is  better to use instance variable like self instead of class name\n",
        "\n",
        "class fruits:\n",
        "    def __init__(self,name,rate):\n",
        "\n",
        "        fruits.name=name\n",
        "        fruits.rate=rate\n",
        "\n",
        "    def buy(self):\n",
        "        print(\"fruit name ::\", fruits.name,\"fruit rate per kg::\",fruits.rate)\n",
        "\n",
        "class veg:\n",
        "    def __init__(self,name,rate):\n",
        "        veg.name=name\n",
        "        veg.rate=rate\n",
        "\n",
        "    def buy(self):\n",
        "        print(\"Veggetable Name:: \",veg.name,\"Vegetabe rate per kg::\",veg.rate)\n",
        "\n",
        "fruit=fruits(\"APPLES\",120.65)\n",
        "veg=veg(\"Spinach\",52.65)\n",
        "\n",
        "for x in fruit,veg:\n",
        "    x.buy()\n"
      ]
    },
    {
      "cell_type": "code",
      "execution_count": null,
      "metadata": {
        "colab": {
          "base_uri": "https://localhost:8080/"
        },
        "id": "18y-DQ7-AO1Z",
        "outputId": "ed95cb7d-abd4-402d-eba0-20654482af17"
      },
      "outputs": [
        {
          "name": "stdout",
          "output_type": "stream",
          "text": [
            "fruit name :: APPLES fruit rate per kg:: 120.65\n",
            "Veggetable Name::  Spinach Vegetabe rate per kg:: 52.65\n"
          ]
        }
      ],
      "source": [
        "# Polymorphism in classes\n",
        "\n",
        "class fruits:\n",
        "    def __init__(self,name,rate):\n",
        "\n",
        "        self.name=name\n",
        "        self.rate=rate\n",
        "\n",
        "    def buy(self):\n",
        "        print(\"fruit name ::\", self.name,\"fruit rate per kg::\",self.rate)\n",
        "\n",
        "class veg:\n",
        "    def __init__(self,name,rate):\n",
        "        self.name=name\n",
        "        self.rate=rate\n",
        "\n",
        "    def buy(self):\n",
        "        print(\"Veggetable Name:: \",self.name,\"Vegetabe rate per kg::\",self.rate)\n",
        "\n",
        "fruit=fruits(\"APPLES\",120.65)\n",
        "veg=veg(\"Spinach\",52.65)\n",
        "\n",
        "for x in fruit,veg:\n",
        "    x.buy()"
      ]
    },
    {
      "cell_type": "code",
      "execution_count": null,
      "metadata": {
        "colab": {
          "base_uri": "https://localhost:8080/"
        },
        "id": "q8CpZd6ECVNr",
        "outputId": "9da4ca23-518f-4ee7-bb88-d86face4a857"
      },
      "outputs": [
        {
          "name": "stdout",
          "output_type": "stream",
          "text": [
            "Name:: Mangoes Prices are:: 230.22\n",
            "prices are fixed\n"
          ]
        }
      ],
      "source": [
        "# Inheritance in polymorphism\n",
        "\n",
        "class fruits:\n",
        "    def __init__(self,name,price):\n",
        "\n",
        "        self.name=\"APPLE\"\n",
        "        self.price=255.26\n",
        "\n",
        "    def prn(self):\n",
        "        print(\"Name::\",slef.name, \"Price::\",self.price)\n",
        "        print(\"Fruits price may vary\")\n",
        "\n",
        "class child(fruits):\n",
        "\n",
        "    def __init__(self,name,price):\n",
        "\n",
        "        self.name=name\n",
        "        self.price=price\n",
        "\n",
        "    def prn(self):\n",
        "\n",
        "        print(\"Name::\",self.name,\"Prices are::\",self.price)\n",
        "        print(\"prices are fixed\")\n",
        "\n",
        "obj=child(\"Mangoes\",230.22)\n",
        "obj.prn()\n",
        "\n"
      ]
    },
    {
      "cell_type": "code",
      "execution_count": null,
      "metadata": {
        "colab": {
          "base_uri": "https://localhost:8080/"
        },
        "id": "BYARV9jLEIhQ",
        "outputId": "41be5a4b-4d65-4d73-cc62-8e041d9e2fd8"
      },
      "outputs": [
        {
          "name": "stdout",
          "output_type": "stream",
          "text": [
            "Name:: APPLE Price:: 255.26\n",
            "Fruits price may vary\n",
            "Name:: APPLE Prices are:: 255.26\n",
            "prices are fixed\n"
          ]
        }
      ],
      "source": [
        "# Inheritance in polymorphism\n",
        "\n",
        "class fruits:\n",
        "    def __init__(self,name,price):\n",
        "\n",
        "        self.name=\"APPLE\"\n",
        "        self.price=255.26\n",
        "\n",
        "    def prn(self):\n",
        "        print(\"Name::\",self.name, \"Price::\",self.price)\n",
        "        print(\"Fruits price may vary\")\n",
        "\n",
        "class child(fruits):\n",
        "\n",
        "    def __init__(self,name,price):\n",
        "\n",
        "        super().__init__(name,price)\n",
        "        super().prn()\n",
        "        self.name=self.name\n",
        "        self.price=self.price\n",
        "\n",
        "    def prn(self):\n",
        "\n",
        "        print(\"Name::\",self.name,\"Prices are::\",self.price)\n",
        "        print(\"prices are fixed\")\n",
        "\n",
        "obj=child(\"Mangoes\",230.22)\n",
        "obj.prn()"
      ]
    },
    {
      "cell_type": "code",
      "execution_count": null,
      "metadata": {
        "id": "WeTHSzuYE2RR"
      },
      "outputs": [],
      "source": []
    },
    {
      "cell_type": "markdown",
      "metadata": {
        "id": "80D_a8_QHAp8"
      },
      "source": [
        "#Scope of Variable\n",
        "\n",
        "Global, local\n",
        "\n",
        "**global**  keyword  to declare variable to access anywhere"
      ]
    },
    {
      "cell_type": "code",
      "execution_count": null,
      "metadata": {
        "colab": {
          "base_uri": "https://localhost:8080/"
        },
        "id": "YgIGjJhdJ8gW",
        "outputId": "09cb8707-d6d7-4618-b310-36c3fbdb999d"
      },
      "outputs": [
        {
          "name": "stdout",
          "output_type": "stream",
          "text": [
            "50\n"
          ]
        }
      ],
      "source": [
        "#examples\n",
        "#global variable\n",
        "a=50\n",
        "\n",
        "def fun():\n",
        "    print(a) # Global Access\n",
        "fun()"
      ]
    },
    {
      "cell_type": "code",
      "execution_count": null,
      "metadata": {
        "colab": {
          "base_uri": "https://localhost:8080/"
        },
        "id": "TQHFnF_pKDEp",
        "outputId": "d9ba1f4e-fd91-4386-daa2-ab09c197a65d"
      },
      "outputs": [
        {
          "name": "stdout",
          "output_type": "stream",
          "text": [
            "30\n",
            "50\n"
          ]
        }
      ],
      "source": [
        "#example\n",
        "#local variable\n",
        "\n",
        "a=50\n",
        "def fun():\n",
        "    a=30\n",
        "    print(a)  # local variable\n",
        "\n",
        "fun()\n",
        "print(a)  # global Access"
      ]
    },
    {
      "cell_type": "code",
      "execution_count": null,
      "metadata": {
        "colab": {
          "base_uri": "https://localhost:8080/"
        },
        "id": "4xW3BIofKMpC",
        "outputId": "5369ffc1-c6c8-441b-daf9-29ca09247269"
      },
      "outputs": [
        {
          "name": "stdout",
          "output_type": "stream",
          "text": [
            "100\n"
          ]
        }
      ],
      "source": [
        "# Global variable declare\n",
        "\n",
        "global a\n",
        "a=100\n",
        "\n",
        "def fun():\n",
        "\n",
        "    print(a)\n",
        "\n",
        "fun()\n"
      ]
    },
    {
      "cell_type": "code",
      "execution_count": null,
      "metadata": {
        "colab": {
          "base_uri": "https://localhost:8080/"
        },
        "id": "KxcP9YuWKoOH",
        "outputId": "7beb1055-a795-4509-86ce-9a8fde9c6276"
      },
      "outputs": [
        {
          "name": "stdout",
          "output_type": "stream",
          "text": [
            "30\n"
          ]
        }
      ],
      "source": [
        "#change global variableaccess\n",
        "\n",
        "a=100\n",
        "def fun():\n",
        "\n",
        "    global a\n",
        "    a=30\n",
        "\n",
        "fun()\n",
        "print(a)"
      ]
    },
    {
      "cell_type": "code",
      "execution_count": null,
      "metadata": {
        "colab": {
          "base_uri": "https://localhost:8080/"
        },
        "id": "FdlyuJ2nLX0f",
        "outputId": "49d3d07f-01fb-47de-d39f-1d30381a538d"
      },
      "outputs": [
        {
          "name": "stdout",
          "output_type": "stream",
          "text": [
            "100\n",
            "30\n"
          ]
        }
      ],
      "source": [
        "# changing global varibale value\n",
        "\n",
        "a=100\n",
        "\n",
        "def fun():\n",
        "    global a\n",
        "    a=30\n",
        "\n",
        "print(a)  # calling before assigning to global\n",
        "fun()  # calling after Assigned to global\n",
        "print(a)  # changed value"
      ]
    },
    {
      "cell_type": "markdown",
      "metadata": {
        "id": "Q72cDx5KOS7x"
      },
      "source": [
        "#Python Modules\n",
        "\n",
        "A python module is a set of functions which are required torun an application\n",
        "\n",
        "the extension of python module is **.py**\n",
        "\n",
        "How to create a module\n",
        "\n",
        "* define a code and save it to .py extension\n",
        "\n",
        "* then import using import command"
      ]
    },
    {
      "cell_type": "code",
      "execution_count": null,
      "metadata": {
        "id": "3fzJaHxIM-x9"
      },
      "outputs": [],
      "source": [
        "# example\n",
        "\n",
        "def first():\n",
        "\n",
        "    print(\"Welcome  to Python World::\" +name)"
      ]
    },
    {
      "cell_type": "markdown",
      "metadata": {
        "id": "arAEhHz2PszR"
      },
      "source": [
        "saved the above file in myfirst.ipynb\n",
        "\n",
        "ipynb is default  extension in colab and jupiter\n",
        "\n"
      ]
    },
    {
      "cell_type": "code",
      "execution_count": null,
      "metadata": {
        "colab": {
          "base_uri": "https://localhost:8080/"
        },
        "id": "HpaCBh7BQF3X",
        "outputId": "dcdad16b-64d7-448d-b9e4-45c1a43958ce"
      },
      "outputs": [
        {
          "name": "stdout",
          "output_type": "stream",
          "text": [
            "Drive already mounted at /content/drive; to attempt to forcibly remount, call drive.mount(\"/content/drive\", force_remount=True).\n",
            "'Copy of Untitled3.ipynb'                           pythonBasics.py\n",
            " custom.py                                          Untitled\n",
            "'Data Analysis with Numpy Pandas by Scaler.ipynb'   Untitled0.ipynb\n",
            "'descriptive statistics.ipynb'                      Untitled1.ipynb\n",
            " Git_Github.ipynb                                   Untitled2.ipynb\n",
            "'introduction to ML Algos_scaler_26-sep.ipynb'      Untitled3.ipynb\n",
            " MatplotLib.ipynb                                   YBIfDSAINTERNC.ipynb\n",
            " myfirst.py\n"
          ]
        }
      ],
      "source": [
        "from google.colab import drive\n",
        "drive.mount('/content/drive')\n",
        "%ls\n",
        "\n",
        "\n"
      ]
    },
    {
      "cell_type": "markdown",
      "metadata": {
        "id": "iDOt2PL93D5p"
      },
      "source": [
        "#Mount My drive to Google colab\n",
        "\n",
        "---\n",
        "\n",
        "\n",
        "\n",
        "\n",
        "1)   from google.colab import drive\n",
        "drive.mount('/content/drive')\n",
        "\n",
        "%ls\n",
        "\n",
        "2)  dir\n",
        "\n",
        "3)  cd drive/MyDrive\n",
        "\n",
        "\n",
        "#Unmount\n",
        "\n",
        "from google.colab import drive\n",
        "drive.flush_and_unmount()"
      ]
    },
    {
      "cell_type": "code",
      "execution_count": null,
      "metadata": {
        "colab": {
          "base_uri": "https://localhost:8080/"
        },
        "id": "1KvEux-1QcqZ",
        "outputId": "890bf27d-54ee-4036-8eb4-b7ad0ad04b32"
      },
      "outputs": [
        {
          "data": {
            "text/plain": [
              "<function dir>"
            ]
          },
          "execution_count": 109,
          "metadata": {},
          "output_type": "execute_result"
        }
      ],
      "source": [
        "dir\n"
      ]
    },
    {
      "cell_type": "code",
      "execution_count": null,
      "metadata": {
        "colab": {
          "base_uri": "https://localhost:8080/"
        },
        "id": "eIbVCNfo25od",
        "outputId": "23c63fee-36e4-4234-aa90-a18992b5062b"
      },
      "outputs": [
        {
          "name": "stdout",
          "output_type": "stream",
          "text": [
            "/content/drive/MyDrive/Colab Notebooks\n"
          ]
        }
      ],
      "source": [
        "\n",
        "cd //content/drive/MyDrive/Colab Notebooks\n"
      ]
    },
    {
      "cell_type": "code",
      "execution_count": null,
      "metadata": {
        "colab": {
          "base_uri": "https://localhost:8080/"
        },
        "id": "jfI4mBrU3hX1",
        "outputId": "282482b0-f3d0-4e61-8226-3cdb8b8f6e79"
      },
      "outputs": [
        {
          "name": "stdout",
          "output_type": "stream",
          "text": [
            "'Copy of Untitled3.ipynb'\t\t\t    MatplotLib.ipynb   Untitled1.ipynb\n",
            "'Data Analysis with Numpy Pandas by Scaler.ipynb'   myfirst.py\t       Untitled2.ipynb\n",
            "'descriptive statistics.ipynb'\t\t\t    pythonBasics.py    Untitled3.ipynb\n",
            " Git_Github.ipynb\t\t\t\t    Untitled\t       YBIfDSAINTERNC.ipynb\n",
            "'introduction to ML Algos_scaler_26-sep.ipynb'\t    Untitled0.ipynb\n"
          ]
        }
      ],
      "source": [
        "!ls\n"
      ]
    },
    {
      "cell_type": "code",
      "execution_count": null,
      "metadata": {
        "colab": {
          "base_uri": "https://localhost:8080/"
        },
        "id": "Lws79sow44sT",
        "outputId": "bc372b6d-aef3-454e-b350-88fc1e8008aa"
      },
      "outputs": [
        {
          "name": "stdout",
          "output_type": "stream",
          "text": [
            "Welcome  to Python World::Shiva\n"
          ]
        }
      ],
      "source": [
        "import  myfirst\n",
        "\n",
        "myfirst.first(\"Shiva\")"
      ]
    },
    {
      "cell_type": "markdown",
      "metadata": {
        "id": "bpNcQ2iLYwke"
      },
      "source": [
        "#Rename a Module\n",
        "\n",
        "you can use **as**  to access the module as alias also know an renaming\n",
        "\n"
      ]
    },
    {
      "cell_type": "code",
      "execution_count": null,
      "metadata": {
        "colab": {
          "base_uri": "https://localhost:8080/"
        },
        "id": "tkGKw_fxYg-7",
        "outputId": "b52097b3-3e47-4d56-bb9b-20af769c71c6"
      },
      "outputs": [
        {
          "name": "stdout",
          "output_type": "stream",
          "text": [
            "Welcome  to Python World::India\n"
          ]
        }
      ],
      "source": [
        "#Renaming a module\n",
        "\n",
        "import myfirst as mf\n",
        "\n",
        "mf.first(\"India\")\n"
      ]
    },
    {
      "cell_type": "markdown",
      "metadata": {
        "id": "vNHQb9uQvSgN"
      },
      "source": [
        "# dir() function\n",
        "\n",
        "to import names and variables in a module\n",
        "\n",
        "# import from\n",
        "\n",
        "\n",
        "\n",
        "**from**  *module_name* **import**\n",
        "\n",
        "Note to that while we are using import from  no need to use module name to call variables"
      ]
    },
    {
      "cell_type": "code",
      "execution_count": null,
      "metadata": {
        "colab": {
          "base_uri": "https://localhost:8080/"
        },
        "id": "lsmRO72IclQ4",
        "outputId": "75795277-03a8-4544-aaab-400025bcffba"
      },
      "outputs": [
        {
          "name": "stdout",
          "output_type": "stream",
          "text": [
            "['__builtins__', '__cached__', '__doc__', '__file__', '__loader__', '__name__', '__package__', '__spec__', 'first']\n"
          ]
        }
      ],
      "source": [
        "# dir() function\n",
        "\n",
        "# to import names and variables in a module\n",
        "\n",
        "import myfirst\n",
        "\n",
        "print(dir(myfirst))"
      ]
    },
    {
      "cell_type": "code",
      "execution_count": null,
      "metadata": {
        "colab": {
          "base_uri": "https://localhost:8080/"
        },
        "id": "D1EU8cfau6Tw",
        "outputId": "1e675016-9af7-4e84-e33a-a93e4771676a"
      },
      "outputs": [
        {
          "name": "stdout",
          "output_type": "stream",
          "text": [
            "Welcome  to Python World::SHIVAPRRASAD_SK\n"
          ]
        }
      ],
      "source": [
        "# import  from\n",
        "from myfirst import first\n",
        "\n",
        "#myfirst is module   and first is function\n",
        "\n",
        "first(\"SHIVAPRRASAD_SK\")"
      ]
    },
    {
      "cell_type": "code",
      "execution_count": null,
      "metadata": {
        "id": "bDatwgQ6w8v_"
      },
      "outputs": [],
      "source": []
    },
    {
      "cell_type": "markdown",
      "metadata": {
        "id": "oB5V-HcT-vDR"
      },
      "source": [
        "#Date Module\n",
        "\n"
      ]
    },
    {
      "cell_type": "code",
      "execution_count": null,
      "metadata": {
        "colab": {
          "base_uri": "https://localhost:8080/"
        },
        "id": "iUgibhiT-jUk",
        "outputId": "d0037081-c901-45a7-aa82-8af214246ff0"
      },
      "outputs": [
        {
          "name": "stdout",
          "output_type": "stream",
          "text": [
            "2023-11-05 05:37:38.724864\n"
          ]
        }
      ],
      "source": [
        "import datetime\n",
        "print(datetime.datetime.now())  #curent date time"
      ]
    },
    {
      "cell_type": "code",
      "execution_count": null,
      "metadata": {
        "colab": {
          "base_uri": "https://localhost:8080/"
        },
        "id": "x_kj6OP8_Coq",
        "outputId": "26144c65-9c82-4a0a-ba2f-ea97c7c8122d"
      },
      "outputs": [
        {
          "name": "stdout",
          "output_type": "stream",
          "text": [
            "2023\n"
          ]
        }
      ],
      "source": [
        "import datetime\n",
        "x=datetime.datetime.now()  # current year\n",
        "print(x.year)"
      ]
    },
    {
      "cell_type": "code",
      "execution_count": null,
      "metadata": {
        "colab": {
          "base_uri": "https://localhost:8080/"
        },
        "id": "79Pi90vV_T8l",
        "outputId": "28fc81d9-f0c1-4695-aea5-590e75164e22"
      },
      "outputs": [
        {
          "name": "stdout",
          "output_type": "stream",
          "text": [
            "November\n",
            "Sunday\n",
            "20\n",
            "Sun\n",
            "0\n",
            "05\n",
            "Nov\n",
            "11\n",
            "23\n",
            "2023\n",
            "07\n",
            "07\n",
            "AM\n",
            "09\n",
            "42\n",
            "985136\n",
            "\n",
            "\n",
            "309\n",
            "45\n",
            "44\n",
            "Sun Nov  5 07:09:42 2023\n",
            "07:09:42\n",
            "%\n",
            "2023\n",
            "7\n",
            "44\n"
          ]
        }
      ],
      "source": [
        "#strftime()\n",
        "#takes date format and return to readable string format\n",
        "\n",
        "import datetime\n",
        "\n",
        "x=datetime.datetime.now()\n",
        "\n",
        "print(x.strftime(\"%B\"))  #Returns month\n",
        "print(x.strftime(\"%A\")) # Returns Weekday\n",
        "print(x.strftime(\"%C\"))# Returns century\n",
        "print(x.strftime(\"%a\"))  #short weekday\n",
        "print(x.strftime(\"%w\"))  # Weekday in number\n",
        "print(x.strftime(\"%d\"))  # Day of month between 1-31\n",
        "print(x.strftime(\"%b\")) #Month name short\n",
        "print(x.strftime(\"%m\"))  # month as number\n",
        "print(x.strftime(\"%y\"))  # year last 2 digits\n",
        "print(x.strftime(\"%Y\")) # year Full\n",
        "print(x.strftime(\"%H\"))  # hour 24 hour format\n",
        "print(x.strftime(\"%I\"))  # hour 0-12 format\n",
        "print(x.strftime(\"%p\"))  # AM/PM\n",
        "print(x.strftime(\"%M\"))  #minute 0-59\n",
        "print(x.strftime(\"%S\"))   # Seconds 0-59\n",
        "print(x.strftime(\"%f\"))  # micros seconds\n",
        "print(x.strftime(\"%z\"))  # UTC\n",
        "print(x.strftime(\"%Z\"))  # time zone\n",
        "print(x.strftime(\"%j\"))  # day number 1-365\n",
        "print(x.strftime(\"%U\"))  # Week Number in year 52 weeks sunday start week 0\n",
        "print(x.strftime(\"%W\"))  # Week number if monday as start day of week\n",
        "print(x.strftime(\"%c\"))   # Localversion of date time\n",
        "print(x.strftime(\"%X\")) # local version of time\n",
        "print(x.strftime(\"%%\")) # to print %\n",
        "print(x.strftime(\"%G\"))  # ISO year start from 8601\n",
        "print(x.strftime(\"%u\"))  # week day of ISO 8601 1-7\n",
        "print(x.strftime(\"%V\"))  # Week number as per ISO 8601\n"
      ]
    },
    {
      "cell_type": "code",
      "execution_count": null,
      "metadata": {
        "id": "hgVH2rDFPzp3"
      },
      "outputs": [],
      "source": []
    },
    {
      "cell_type": "code",
      "execution_count": null,
      "metadata": {
        "colab": {
          "base_uri": "https://localhost:8080/"
        },
        "id": "4enooOF6USVU",
        "outputId": "3eee37b9-1487-4590-bf38-5ef791d5e4c3"
      },
      "outputs": [
        {
          "name": "stdout",
          "output_type": "stream",
          "text": [
            "August\n",
            "Thursday\n",
            "20\n",
            "Thu\n",
            "4\n",
            "08\n",
            "Aug\n",
            "08\n",
            "19\n",
            "2019\n",
            "00\n",
            "12\n",
            "AM\n",
            "00\n",
            "00\n",
            "000000\n",
            "\n",
            "\n",
            "220\n",
            "31\n",
            "31\n",
            "Thu Aug  8 00:00:00 2019\n",
            "00:00:00\n",
            "%\n",
            "2019\n",
            "4\n",
            "32\n"
          ]
        }
      ],
      "source": [
        "#strftime()\n",
        "#takes date format and return to readable string format\n",
        "\n",
        "import datetime\n",
        "\n",
        "x=datetime.datetime(2019,8,8)\n",
        "\n",
        "print(x.strftime(\"%B\"))  #Returns month\n",
        "print(x.strftime(\"%A\")) # Returns Weekday\n",
        "print(x.strftime(\"%C\"))# Returns century\n",
        "print(x.strftime(\"%a\"))  #short weekday\n",
        "print(x.strftime(\"%w\"))  # Weekday in number\n",
        "print(x.strftime(\"%d\"))  # Day of month between 1-31\n",
        "print(x.strftime(\"%b\")) #Month name short\n",
        "print(x.strftime(\"%m\"))  # month as number\n",
        "print(x.strftime(\"%y\"))  # year last 2 digits\n",
        "print(x.strftime(\"%Y\")) # year Full\n",
        "print(x.strftime(\"%H\"))  # hour 24 hour format\n",
        "print(x.strftime(\"%I\"))  # hour 0-12 format\n",
        "print(x.strftime(\"%p\"))  # AM/PM\n",
        "print(x.strftime(\"%M\"))  #minute 0-59\n",
        "print(x.strftime(\"%S\"))   # Seconds 0-59\n",
        "print(x.strftime(\"%f\"))  # micros seconds\n",
        "print(x.strftime(\"%z\"))  # UTC\n",
        "print(x.strftime(\"%Z\"))  # time zone\n",
        "print(x.strftime(\"%j\"))  # day number 1-365\n",
        "print(x.strftime(\"%U\"))  # Week Number in year 52 weeks sunday start week 0\n",
        "print(x.strftime(\"%W\"))  # Week number if monday as start day of week\n",
        "print(x.strftime(\"%c\"))   # Localversion of date time\n",
        "print(x.strftime(\"%X\")) # local version of time\n",
        "print(x.strftime(\"%%\")) # to print %\n",
        "print(x.strftime(\"%G\"))  # ISO year start from 8601\n",
        "print(x.strftime(\"%u\"))  # week day of ISO 8601 1-7\n",
        "print(x.strftime(\"%V\"))  # Week number as per ISO 8601\n"
      ]
    },
    {
      "cell_type": "markdown",
      "metadata": {
        "id": "TAIb_W4vhxV7"
      },
      "source": [
        "#Math Module"
      ]
    },
    {
      "cell_type": "code",
      "execution_count": null,
      "metadata": {
        "colab": {
          "base_uri": "https://localhost:8080/"
        },
        "id": "0iAIC8dlUWV1",
        "outputId": "00adae99-3310-41ab-8575-994ff01d1d24"
      },
      "outputs": [
        {
          "name": "stdout",
          "output_type": "stream",
          "text": [
            "4  88  5.2  1024\n"
          ]
        }
      ],
      "source": [
        "#math functions\n",
        "\n",
        "a=min(4,5,22)\n",
        "b=max(5,88,24)\n",
        "c=abs(-5.2)\n",
        "d=pow(4,5)\n",
        "\n",
        "print(a,\"\",b,\"\",c,\"\",d)"
      ]
    },
    {
      "cell_type": "code",
      "execution_count": null,
      "metadata": {
        "colab": {
          "base_uri": "https://localhost:8080/"
        },
        "id": "bffmF5N5iRfn",
        "outputId": "4ee75c65-38f0-4d35-f3f6-8813ce368d6d"
      },
      "outputs": [
        {
          "name": "stdout",
          "output_type": "stream",
          "text": [
            "2.0\n",
            "2\n",
            "-1\n",
            "1\n",
            "-2\n"
          ]
        }
      ],
      "source": [
        "#math modules\n",
        "\n",
        "import math\n",
        "print(math.sqrt(4))  # square root\n",
        "print(math.ceil(1.5))  # upper value nearest\n",
        "print(math.ceil(-1.4))\n",
        "print(math.floor(1.4))  # lower nearest value\n",
        "print(math.floor(-1.5))  #lower nearest value"
      ]
    },
    {
      "cell_type": "markdown",
      "metadata": {
        "id": "-1Y5c8uDjxWj"
      },
      "source": [
        "#Python JSON\n",
        "\n",
        "JAVASCRIPT Object Notation  is an array of ordered collection values.\n",
        "\n",
        "JSON is text, written with java script object notation\n",
        "\n",
        "JSON is used to store and exchange data"
      ]
    },
    {
      "cell_type": "markdown",
      "metadata": {
        "id": "MayWQv0foTWX"
      },
      "source": [
        "JSON Loads\n",
        "\n",
        "**json.loads()**.. loads json string and converts to python\n",
        "\n",
        "syntax must be enclosed with  **[ ]**  and **' '**"
      ]
    },
    {
      "cell_type": "markdown",
      "metadata": {
        "id": "ygPR3-dNRULK"
      },
      "source": [
        "#Conversion from JSON to Python"
      ]
    },
    {
      "cell_type": "code",
      "execution_count": null,
      "metadata": {
        "colab": {
          "base_uri": "https://localhost:8080/"
        },
        "id": "DMvvpYcAijzs",
        "outputId": "3736f253-da6e-459e-8ab2-a13166942ced"
      },
      "outputs": [
        {
          "name": "stdout",
          "output_type": "stream",
          "text": [
            "Shiva\n",
            "40\n",
            "Data Scientist\n",
            "dict_items([('name', 'Shiva'), ('age', 40), ('job', 'Data Scientist')])\n"
          ]
        }
      ],
      "source": [
        "#Conversion from JSON to Python\n",
        "\n",
        "import json\n",
        "\n",
        "jsn_str='{\"name\":\"Shiva\", \"age\":40, \"job\":\"Data Scientist\"}'  #JSON string\n",
        "\n",
        "py_dict=json.loads(jsn_str)  #Parses JSON string to Python using\n",
        "\n",
        "print(py_dict[\"name\"])\n",
        "print(py_dict[\"age\"])\n",
        "print(py_dict[\"job\"])\n",
        "\n",
        "print(py_dict.items())\n",
        "\n"
      ]
    },
    {
      "cell_type": "code",
      "execution_count": null,
      "metadata": {
        "colab": {
          "base_uri": "https://localhost:8080/"
        },
        "id": "HSfwytgCon1r",
        "outputId": "3910ef53-3923-4a21-ecc7-292ae9cc696e"
      },
      "outputs": [
        {
          "name": "stdout",
          "output_type": "stream",
          "text": [
            "Mangoes\n",
            "['Apples', 'Mangoes']\n"
          ]
        }
      ],
      "source": [
        "import json\n",
        "\n",
        "jsn_str='[\"Apples\",\"Mangoes\"]' #Json array\n",
        "\n",
        "py_lst=json.loads(jsn_str)  # converts josn to python\n",
        "\n",
        "print(py_lst[1])\n",
        "print(py_lst)"
      ]
    },
    {
      "cell_type": "code",
      "execution_count": null,
      "metadata": {
        "colab": {
          "base_uri": "https://localhost:8080/"
        },
        "id": "l_mXAknIqDeC",
        "outputId": "8b74cdef-b0e4-4ba5-a795-f5f9d35c7d10"
      },
      "outputs": [
        {
          "name": "stdout",
          "output_type": "stream",
          "text": [
            "<class 'str'>\n",
            "<class 'str'>\n",
            "\n",
            "<class 'list'>\n",
            "<class 'dict'>\n",
            "\n",
            "Mangoes ['Appes', 'Mangoes', 'Bananas']\n",
            "Apple\n"
          ]
        }
      ],
      "source": [
        "import json\n",
        "\n",
        "jsn_tp='[\"Appes\",\"Mangoes\",\"Bananas\"]'\n",
        "jsn_str_st='{\"fruit\":\"Apple\",\"price\":252.00}'\n",
        "\n",
        "print(type(jsn_tp))\n",
        "print(type(jsn_str_st))\n",
        "\n",
        "x=json.loads(jsn_tp)  #conversion json topython\n",
        "y=json.loads(jsn_str_st)  #conversion json to python\n",
        "print()\n",
        "print(type(x))\n",
        "print(type(y))\n",
        "\n",
        "print()\n",
        "print(x[1],x)\n",
        "print(y[\"fruit\"])"
      ]
    },
    {
      "cell_type": "code",
      "execution_count": null,
      "metadata": {
        "id": "dl3I_uopqsWR"
      },
      "outputs": [],
      "source": []
    },
    {
      "cell_type": "markdown",
      "metadata": {
        "id": "4qMl2UU9Rec3"
      },
      "source": [
        "#Conversion from Python to JSON\n",
        "\n",
        "json.dumps()"
      ]
    },
    {
      "cell_type": "code",
      "execution_count": null,
      "metadata": {
        "colab": {
          "base_uri": "https://localhost:8080/"
        },
        "id": "FbQ41H0PvmgD",
        "outputId": "9cb9c786-560a-4082-c256-47796b16d371"
      },
      "outputs": [
        {
          "name": "stdout",
          "output_type": "stream",
          "text": [
            "<class 'str'>\n",
            "\"String\"\n",
            "<class 'str'>\n"
          ]
        }
      ],
      "source": [
        "import json\n",
        "\n",
        "x=\"String\"\n",
        "\n",
        "print(type(x))\n",
        "\n",
        "y=json.dumps(x) #converts python to json\n",
        "print(y)\n",
        "print(type(y))\n"
      ]
    },
    {
      "cell_type": "code",
      "execution_count": null,
      "metadata": {
        "colab": {
          "base_uri": "https://localhost:8080/"
        },
        "id": "fHp6lf-PS2OD",
        "outputId": "f58dfee2-3647-4a87-eabe-ffca27b6be14"
      },
      "outputs": [
        {
          "name": "stdout",
          "output_type": "stream",
          "text": [
            "<class 'dict'>\n",
            "<class 'str'>\n",
            "{\"f_name\": \"Shiva\", \"l_name\": \"S\", \"m_name\": \"Prrasad\"}\n"
          ]
        }
      ],
      "source": [
        "import json\n",
        "\n",
        "x={\"f_name\":\"Shiva\",\"l_name\":\"S\",\"m_name\":\"Prrasad\"}  #Python dictionary\n",
        "\n",
        "print(type(x))\n",
        "\n",
        "y=json.dumps(x) # Converts python to json\n",
        "\n",
        "print(type(y))\n",
        "print(y)\n",
        "# print(y(\"f_name\"))\n",
        "#.Herewe cant access like this becuase not it is a string not a dictioanary.\n",
        "#To access we need to parse this json string to python dictionary\n",
        "\n",
        "\n"
      ]
    },
    {
      "cell_type": "code",
      "execution_count": null,
      "metadata": {
        "colab": {
          "base_uri": "https://localhost:8080/"
        },
        "id": "y5CCg6NTU1Ta",
        "outputId": "ee1ee764-e785-4409-b8f7-f7c2d620b1c0"
      },
      "outputs": [
        {
          "name": "stdout",
          "output_type": "stream",
          "text": [
            "\"String\"\n",
            "[\"list1\", \"list2\"]\n",
            "[\"tupl1\", \"tupl2\"]\n",
            "{\"Name\": \"Shiva\", \"Age\": 45}\n",
            "42424\n",
            "125.4\n",
            "true\n",
            "false\n",
            "null\n"
          ]
        }
      ],
      "source": [
        "#Convert Python object to  JSON strings\n",
        "\n",
        "import json\n",
        "\n",
        "print(json.dumps(\"String\"))\n",
        "print(json.dumps([\"list1\",\"list2\"])) # converts list to json\n",
        "print(json.dumps((\"tupl1\",\"tupl2\"))) # converts tuple to json\n",
        "print(json.dumps({\"Name\":\"Shiva\",\"Age\":45})) # converts dictionsry to json\n",
        "print(json.dumps(42424)) # converts int to number\n",
        "print(json.dumps(125.4)) # converts float to Number\n",
        "print(json.dumps(True))  # converts to boolean True\n",
        "print(json.dumps(False))  # converts to bolean false\n",
        "print(json.dumps(None))  # converts to null\n"
      ]
    },
    {
      "cell_type": "code",
      "execution_count": null,
      "metadata": {
        "colab": {
          "base_uri": "https://localhost:8080/"
        },
        "id": "Ay5Ss38oaTmA",
        "outputId": "1190df71-831f-4d3a-882f-ce4b584956ab"
      },
      "outputs": [
        {
          "name": "stdout",
          "output_type": "stream",
          "text": [
            "<class 'str'>\n",
            "<class 'str'>\n",
            "<class 'str'>\n",
            "<class 'str'>\n",
            "<class 'str'>\n",
            "<class 'str'>\n",
            "<class 'str'>\n",
            "<class 'str'>\n",
            "<class 'str'>\n"
          ]
        }
      ],
      "source": [
        "#Convert Python object to  JSON strings\n",
        "\n",
        "import json\n",
        "\n",
        "print(type(json.dumps(\"String\")))\n",
        "print(type(json.dumps([\"list1\",\"list2\"]))) # converts list to json\n",
        "print(type(json.dumps((\"tupl1\",\"tupl2\")))) # converts tuple to json\n",
        "print(type(json.dumps({\"Name\":\"Shiva\",\"Age\":45}))) # converts dictionsry to json\n",
        "print(type(json.dumps(42424))) # converts int to number\n",
        "print(type(json.dumps(125.4))) # converts float to Number\n",
        "print(type(json.dumps(True)))  # converts to boolean True\n",
        "print(type(json.dumps(False)))  # converts to bolean false\n",
        "print(type(json.dumps(None)))  # converts to null\n"
      ]
    },
    {
      "cell_type": "code",
      "execution_count": null,
      "metadata": {
        "colab": {
          "base_uri": "https://localhost:8080/"
        },
        "id": "De0K4atVacIb",
        "outputId": "e101a97f-1670-4600-d634-162b0d6f27b0"
      },
      "outputs": [
        {
          "name": "stdout",
          "output_type": "stream",
          "text": [
            "<class 'dict'>\n",
            "{'Name': 'SP', 'Age': 36, 'Married': True, 'Own_house': False, 'family_members': ({'Wife': 'SNS', 'Age': 30}, {'Son': 'Karthkeyaa', 'Age': 3})}\n",
            "\n",
            "<class 'str'>\n",
            "{\"Name\": \"SP\", \"Age\": 36, \"Married\": true, \"Own_house\": false, \"family_members\": [{\"Wife\": \"SNS\", \"Age\": 30}, {\"Son\": \"Karthkeyaa\", \"Age\": 3}]}\n"
          ]
        }
      ],
      "source": [
        "#example\n",
        "\n",
        "import json\n",
        "\n",
        "x={\"Name\":\"SP\",'Age':36,\"Married\":True, \"Own_house\":False, \"family_members\":({\"Wife\":\"SNS\",\"Age\":30},{\"Son\":\"Karthkeyaa\",\"Age\":3}) } #tuple with nested dictionary\n",
        "print(type(x))\n",
        "print(x)\n",
        "print()\n",
        "\n",
        "y=json.dumps(x)\n",
        "\n",
        "print(type(y))\n",
        "print(y)"
      ]
    },
    {
      "cell_type": "code",
      "execution_count": null,
      "metadata": {
        "colab": {
          "base_uri": "https://localhost:8080/"
        },
        "id": "AEB8OxIbcQAF",
        "outputId": "1cd8cef7-cb9d-4dd1-e7ef-fdd2c7d33767"
      },
      "outputs": [
        {
          "name": "stdout",
          "output_type": "stream",
          "text": [
            "<class 'dict'>\n",
            "{'Name': 'SP', 'Age': 36, 'Married': True, 'Own_house': False, 'family_members': {'Wife': 'SNS', 'Age': 3, 'Son': 'Karthkeyaa'}}\n",
            "\n",
            "<class 'str'>\n",
            "{\"Name\": \"SP\", \"Age\": 36, \"Married\": true, \"Own_house\": false, \"family_members\": {\"Wife\": \"SNS\", \"Age\": 3, \"Son\": \"Karthkeyaa\"}}\n"
          ]
        }
      ],
      "source": [
        "#example\n",
        "\n",
        "import json\n",
        "\n",
        "x={\"Name\":\"SP\",'Age':36,\"Married\":True, \"Own_house\":False,\n",
        "   \"family_members\":{\"Wife\":\"SNS\",\"Age\":30,\"Son\":\"Karthkeyaa\",\"Age\":3 }} #nested dictionary\n",
        "print(type(x))\n",
        "print(x)\n",
        "print()\n",
        "\n",
        "y=json.dumps(x)\n",
        "\n",
        "print(type(y))\n",
        "print(y)"
      ]
    },
    {
      "cell_type": "code",
      "execution_count": null,
      "metadata": {
        "colab": {
          "base_uri": "https://localhost:8080/"
        },
        "id": "3fz_li0Xis4j",
        "outputId": "f46ceae5-e98f-44b0-e33f-509802d68e13"
      },
      "outputs": [
        {
          "name": "stdout",
          "output_type": "stream",
          "text": [
            "<class 'dict'>\n",
            "{'Name': 'SP', 'Age': 36, 'Married': True, 'Own_house': False, 'family_members_1': {'Wife': 'SNS', 'Age': 30}, 'family_members_2': {'Son': 'Karthkeyaa', 'Age': 3}}\n",
            "\n",
            "<class 'str'>\n",
            "{\"Name\": \"SP\", \"Age\": 36, \"Married\": true, \"Own_house\": false, \"family_members_1\": {\"Wife\": \"SNS\", \"Age\": 30}, \"family_members_2\": {\"Son\": \"Karthkeyaa\", \"Age\": 3}}\n"
          ]
        }
      ],
      "source": [
        "#example\n",
        "\n",
        "import json\n",
        "\n",
        "x={\"Name\":\"SP\",'Age':36,\"Married\":True, \"Own_house\":False,\n",
        "   \"family_members_1\":{\"Wife\":\"SNS\",\"Age\":30},\"family_members_2\":{\"Son\":\"Karthkeyaa\",\"Age\":3}} #nested dictionary\n",
        "print(type(x))\n",
        "print(x)\n",
        "print()\n",
        "\n",
        "y=json.dumps(x)\n",
        "\n",
        "print(type(y))\n",
        "print(y)"
      ]
    },
    {
      "cell_type": "code",
      "execution_count": null,
      "metadata": {
        "colab": {
          "base_uri": "https://localhost:8080/"
        },
        "id": "Ed7OHwFze33O",
        "outputId": "c52f1b62-1398-4d9c-f8ce-a90b6c203997"
      },
      "outputs": [
        {
          "name": "stdout",
          "output_type": "stream",
          "text": [
            "<class 'dict'>\n",
            "{'Name': 'SP', 'Age': 36, 'Married': True, 'Own_house': False, 'family_members': ({'Wife': 'SNS', 'Age': 30}, {'Son': 'Karthkeyaa', 'Age': 3})}\n",
            "\n",
            "<class 'str'>\n",
            "{\n",
            "        \"Name\": \"SP\",\n",
            "        \"Age\": 36,\n",
            "        \"Married\": true,\n",
            "        \"Own_house\": false,\n",
            "        \"family_members\": [\n",
            "                {\n",
            "                        \"Wife\": \"SNS\",\n",
            "                        \"Age\": 30\n",
            "                },\n",
            "                {\n",
            "                        \"Son\": \"Karthkeyaa\",\n",
            "                        \"Age\": 3\n",
            "                }\n",
            "        ]\n",
            "}\n"
          ]
        }
      ],
      "source": [
        "#format result\n",
        "\n",
        "#syntax json.dumps(exp,indent=value)\n",
        "\n",
        "#example\n",
        "\n",
        "import json\n",
        "\n",
        "x={\"Name\":\"SP\",'Age':36,\"Married\":True, \"Own_house\":False, \"family_members\":({\"Wife\":\"SNS\",\"Age\":30},{\"Son\":\"Karthkeyaa\",\"Age\":3}) }\n",
        "print(type(x))\n",
        "print(x)\n",
        "print()\n",
        "\n",
        "y=json.dumps(x,indent=8) #indent of each value\n",
        "\n",
        "print(type(y))\n",
        "print(y)"
      ]
    },
    {
      "cell_type": "code",
      "execution_count": null,
      "metadata": {
        "colab": {
          "base_uri": "https://localhost:8080/"
        },
        "id": "EfraiV6nfnwy",
        "outputId": "9b6b19ee-1065-4005-aae1-0c2c835fd9ad"
      },
      "outputs": [
        {
          "name": "stdout",
          "output_type": "stream",
          "text": [
            "<class 'dict'>\n",
            "{'Name': 'SP', 'Age': 36, 'Married': True, 'Own_house': False, 'family_members': ({'Wife': 'SNS', 'Age': 30}, {'Son': 'Karthkeyaa', 'Age': 3})}\n",
            "\n",
            "\n",
            "<class 'str'>\n",
            "{\n",
            "        \"Name\"=\"SP\"--\n",
            "        \"Age\"=36--\n",
            "        \"Married\"=true--\n",
            "        \"Own_house\"=false--\n",
            "        \"family_members\"=[\n",
            "                {\n",
            "                        \"Wife\"=\"SNS\"--\n",
            "                        \"Age\"=30\n",
            "                }--\n",
            "                {\n",
            "                        \"Son\"=\"Karthkeyaa\"--\n",
            "                        \"Age\"=3\n",
            "                }\n",
            "        ]\n",
            "}\n",
            "\n",
            "<class 'str'>\n",
            "{\n",
            "        \"Age\"=36--\n",
            "        \"Married\"=true--\n",
            "        \"Name\"=\"SP\"--\n",
            "        \"Own_house\"=false--\n",
            "        \"family_members\"=[\n",
            "                {\n",
            "                        \"Age\"=30--\n",
            "                        \"Wife\"=\"SNS\"\n",
            "                }--\n",
            "                {\n",
            "                        \"Age\"=3--\n",
            "                        \"Son\"=\"Karthkeyaa\"\n",
            "                }\n",
            "        ]\n",
            "}\n"
          ]
        }
      ],
      "source": [
        "#seperators\n",
        "\n",
        "#example\n",
        "\n",
        "import json\n",
        "\n",
        "x={\"Name\":\"SP\",'Age':36,\"Married\":True, \"Own_house\":False, \"family_members\":({\"Wife\":\"SNS\",\"Age\":30},{\"Son\":\"Karthkeyaa\",\"Age\":3}) }\n",
        "print(type(x))\n",
        "print(x)\n",
        "print()\n",
        "\n",
        "y=json.dumps(x,indent=8, separators=(\"--\",\"=\"))  # creates indent of 8 and seperators \"--\" and \"=\"\n",
        "print()\n",
        "print(type(y))\n",
        "print(y)\n",
        "print()\n",
        "\n",
        "z=json.dumps(x,indent=8, separators=(\"--\",\"=\"),sort_keys=True) # sorts in ascending\n",
        "print(type(z))\n",
        "print(z)"
      ]
    },
    {
      "cell_type": "markdown",
      "metadata": {
        "id": "ppBbxRHVorYY"
      },
      "source": [
        "#PIP in Python\n",
        "\n",
        "PIP is package manager forpython which hepstoinstalla package for python\n",
        "\n",
        "A package normally contains all files which are required to run a module\n",
        "\n",
        "\n",
        "*  pip --version    >> to check version of pip\n",
        "\n",
        "*  pip install *packagae name*  >> to isntall package\n",
        "\n",
        "    > pip install  *package name*  version\n",
        "                > pip install python =3.14\n",
        "\n",
        "                > pip install python >=3.0  , <= 3.7  \n",
        "                            to install between versions\n",
        "*  pip uninstall *packagename*  >to uninstalll package\n",
        "*  pip list   > to list packages\n",
        "\n",
        "* To installlist of packages in one attempt. we need to store in a\n",
        "        .txt file  .eg..require.txt\n",
        "\n",
        "        pip install -r filename\n",
        "        pip install -r require.txt   \n",
        "            require.txt contains allpackages name to  install. like numpy==1.2\n",
        "            pandas==1.5  \n",
        "\n",
        "            -r indicates requirements to install\n",
        "\n",
        "* pip freeze > require.txt    to  share the file to  others\n",
        "* pip install --upgrade *packagename*\n",
        "        > pip install  --upgrade pandas  ---upgrades pandas  //    \n",
        "                    upgrade package\n",
        "        > pip install -r require.txt --upgrade   //  ugrade all     \n",
        "                     packages in reuire,txt\n",
        "\n",
        "\n",
        "* pip uninstall pandas  //unistallpackage\n",
        "* pip help  \n",
        "* pip list  // list all packages\n",
        "* pip show *packagename*  e. pip show paandas  //summary of package\n",
        "\n",
        "#Install PIP\n",
        "\n",
        "* python3.14 -m ensurepip --default-pip\n",
        ">>-m used torun module as script  \n",
        ">>in the abive eg..ensurepip  is a module we are running it inside the script which is inside python\n",
        "\n",
        "* to upgrade pip\n",
        ">> pip install -upgrade pip *setuptools wheel*  setupttols , wheel\n",
        "             are packages inside python\n",
        "\n",
        "** install packages from github**\n",
        "\n",
        "pip install git+https://github.com/ *location path*  @main\n",
        ">> main is workig directory  \n",
        "\n",
        "\n",
        "    \n",
        "\n",
        "\n"
      ]
    },
    {
      "cell_type": "code",
      "source": [],
      "metadata": {
        "id": "u6HyyS-iKGlR"
      },
      "execution_count": null,
      "outputs": []
    },
    {
      "cell_type": "code",
      "execution_count": null,
      "metadata": {
        "colab": {
          "base_uri": "https://localhost:8080/"
        },
        "id": "sl4hQDz5gA0y",
        "outputId": "5e21e4d3-a99d-40af-fcea-a3f407eb4504"
      },
      "outputs": [
        {
          "name": "stdout",
          "output_type": "stream",
          "text": [
            "pip 23.1.2 from /usr/local/lib/python3.10/dist-packages/pip (python 3.10)\n"
          ]
        }
      ],
      "source": [
        "pip --version    # to check PIP version"
      ]
    },
    {
      "cell_type": "code",
      "execution_count": null,
      "metadata": {
        "id": "DEwuWkb_rPmI"
      },
      "outputs": [],
      "source": [
        "\n",
        "\n"
      ]
    },
    {
      "cell_type": "markdown",
      "metadata": {
        "id": "coh2x9N2Ehzk"
      },
      "source": [
        "#try..except..else..finally\n",
        "\n",
        "**try**   to test the code of errors\n",
        "\n",
        "**except** handle  the error\n",
        "\n",
        "**else** executes the code if no error\n",
        "\n",
        "**finally** executes the code by ignoring all above conditions\n"
      ]
    },
    {
      "cell_type": "code",
      "execution_count": null,
      "metadata": {
        "colab": {
          "base_uri": "https://localhost:8080/"
        },
        "id": "2yMrblIhsNZA",
        "outputId": "50e2d2ce-c849-4d4a-825b-266b442a9f4e"
      },
      "outputs": [
        {
          "name": "stdout",
          "output_type": "stream",
          "text": [
            "X Value not defined\n"
          ]
        }
      ],
      "source": [
        "#try\n",
        "\n",
        "try:\n",
        "    print(\"the Va;ue of X is..\",x)\n",
        "\n",
        "except:\n",
        "    print(\"X Value not defined\")\n"
      ]
    },
    {
      "cell_type": "code",
      "execution_count": null,
      "metadata": {
        "colab": {
          "base_uri": "https://localhost:8080/"
        },
        "id": "D75yBQafFPJm",
        "outputId": "b57d77b0-c009-4358-b309-d5c7ee76c59e"
      },
      "outputs": [
        {
          "name": "stdout",
          "output_type": "stream",
          "text": [
            "The Value of x is.. 5\n"
          ]
        }
      ],
      "source": [
        "#try\n",
        "try:\n",
        "    x=5\n",
        "    print(\"The Value of x is..\",x)\n",
        "except:\n",
        "    print(\"The Value of x not defined\")"
      ]
    },
    {
      "cell_type": "code",
      "execution_count": null,
      "metadata": {
        "colab": {
          "base_uri": "https://localhost:8080/"
        },
        "id": "I6vvSgeIFmHL",
        "outputId": "a22f49d4-4744-4148-9bdc-47964ccbbf2c"
      },
      "outputs": [
        {
          "output_type": "stream",
          "name": "stdout",
          "text": [
            "Enter the Value::25\n",
            "\n",
            "Entered Value is.. 25\n",
            "Calculated value is:: 625\n",
            "Enter the Value:: Shivaprrasad\n",
            "The Value is non numeric.. Shivaprrasad\n",
            "\n"
          ]
        }
      ],
      "source": [
        "#try\n",
        "\n",
        "def main(x):\n",
        "    val=x\n",
        "    try:\n",
        "        val == int(x)\n",
        "        print(\"\\nEntered Value is..\",val)\n",
        "\n",
        "    except:\n",
        "\n",
        "        print(\"The Value is non numeric..\",val)\n",
        "        print()\n",
        "\n",
        "\n",
        "    else:\n",
        "        val1=int(val) ** 2\n",
        "        print(\"Calculated value is::\",val1)\n",
        "        exit()\n",
        "\n",
        "\n",
        "    finally:\n",
        "            pass\n",
        "\n",
        "obj=input(\"Enter the Value::\")\n",
        "main(obj)\n",
        "\n",
        "obj1= input(\"Enter the Value:: \")\n",
        "main(obj1)"
      ]
    },
    {
      "cell_type": "markdown",
      "metadata": {
        "id": "Iy2imdvjle8N"
      },
      "source": [
        "#Input()\n",
        "\n",
        "input() is used to enter the input value dynamically\n",
        "\n"
      ]
    },
    {
      "cell_type": "code",
      "execution_count": null,
      "metadata": {
        "colab": {
          "base_uri": "https://localhost:8080/"
        },
        "id": "OlZ-N3MFWxWc",
        "outputId": "6aad371c-80fa-4800-db76-1c4c047d694c"
      },
      "outputs": [
        {
          "name": "stdout",
          "output_type": "stream",
          "text": [
            "Enter The value of X::ShivaPrrasad\n",
            "X Value is ::ShivaPrrasad\n",
            "X Value is :: ShivaPrrasad\n"
          ]
        }
      ],
      "source": [
        "#input\n",
        "\n",
        "x=input(\"Enter The value of X::\")\n",
        "print(\"X Value is ::\" +x)\n",
        "print(\"X Value is ::\",x)"
      ]
    },
    {
      "cell_type": "markdown",
      "metadata": {
        "id": "p77yTVE9mINv"
      },
      "source": [
        "#Python String Format\n",
        "\n",
        "To access values dynamcially we use format() either from databse or manually\n",
        "\n",
        "syntax for **{}**"
      ]
    },
    {
      "cell_type": "code",
      "execution_count": null,
      "metadata": {
        "colab": {
          "base_uri": "https://localhost:8080/"
        },
        "id": "_t7xLHpzlyg1",
        "outputId": "82569b3d-be71-45fe-bd96-6631b2b4b7fc"
      },
      "outputs": [
        {
          "name": "stdout",
          "output_type": "stream",
          "text": [
            "The Value of X is 23.45\n"
          ]
        }
      ],
      "source": [
        "#string format\n",
        "\n",
        "x=23.45\n",
        "\n",
        "txt=\"The Value of X is {}\"  # {} denotes dymanic access of values\n",
        "\n",
        "print(txt.format(x))"
      ]
    },
    {
      "cell_type": "code",
      "execution_count": null,
      "metadata": {
        "colab": {
          "base_uri": "https://localhost:8080/"
        },
        "id": "Q-8MBO_ymqOT",
        "outputId": "740d5739-5255-48eb-ab9b-358cd69f0761"
      },
      "outputs": [
        {
          "name": "stdout",
          "output_type": "stream",
          "text": [
            "The values of 23.45 and 45.55\n",
            "The values of 45.55 and 23.45\n"
          ]
        }
      ],
      "source": [
        "# string format\n",
        "\n",
        "x=23.45\n",
        "y=45.55\n",
        "\n",
        "txt=\"The values of {} and {}\" #x and y are taken by sequentioally or indexing\n",
        "print(txt.format(x,y))\n",
        "print(txt.format(y,x))"
      ]
    },
    {
      "cell_type": "code",
      "execution_count": null,
      "metadata": {
        "colab": {
          "base_uri": "https://localhost:8080/"
        },
        "id": "EJwJKadznRF2",
        "outputId": "9ca45f67-bc6b-474c-9f05-28c66b233ff2"
      },
      "outputs": [
        {
          "name": "stdout",
          "output_type": "stream",
          "text": [
            "First Name is Shivaprrasd, Last Name is SK, middle Name is  \n",
            "last Name is SK,Middle Name is  ,First Name is Shivaprrasd\n",
            "First Name is  , Last Name is SK, middle Name is Shivaprrasd\n"
          ]
        }
      ],
      "source": [
        "# indexing\n",
        "\n",
        "f1=\"Shivaprrasd\"\n",
        "l1=\"SK\"\n",
        "m1=\" \"\n",
        "\n",
        "txt=\"First Name is {0}, Last Name is {1}, middle Name is {2}\"\n",
        "txt1='last Name is {0},Middle Name is {1},First Name is {2}'\n",
        "tx2=\"First Name is {2}, Last Name is {1}, middle Name is {0}\" # wrong indexing\n",
        "\n",
        "print(txt.format(f1,l1,m1))\n",
        "print(txt1.format(l1,m1,f1))\n",
        "print(txt.format(m1,l1,f1))"
      ]
    },
    {
      "cell_type": "code",
      "execution_count": null,
      "metadata": {
        "colab": {
          "base_uri": "https://localhost:8080/"
        },
        "id": "fNwgQY3wooxj",
        "outputId": "16737a81-010d-43e5-9d6c-a8082dd94b0b"
      },
      "outputs": [
        {
          "name": "stdout",
          "output_type": "stream",
          "text": [
            "Item Name is Apples and item  Quantity is 33 and item price is 156.21\n"
          ]
        }
      ],
      "source": [
        "# dymanic Format\n",
        "\n",
        "op=\"Item Name is {itm_name} and item  Quantity is {itm_qty} and item price is {itm_rte}\"\n",
        "\n",
        "print(op.format(itm_qty=33, itm_rte=156.21, itm_name=\"Apples\"))"
      ]
    },
    {
      "cell_type": "markdown",
      "metadata": {
        "id": "buStmo6GsHWo"
      },
      "source": [
        "#File Handling\n",
        "\n",
        "Used to open , read, write for any web application or other softwares\n",
        "\n",
        "* open() - to open a file\n",
        "         * r-  to read file - opens a file\n",
        "         * a- Appends a file\n",
        "         * w- write to a file . if file doesnot exists it creates\n",
        "         * x - creates a file\n",
        "\n",
        "        **MODES**\n",
        "        * t - text mode.by defaultit opens in text mode\n",
        "        * b - Binary mode  for eg.images\n",
        "\n",
        "\n",
        "      \n",
        "\n",
        "\n",
        "\n",
        "\n",
        "\n",
        "\n",
        "\n"
      ]
    },
    {
      "cell_type": "code",
      "execution_count": null,
      "metadata": {
        "id": "_eXJDyf8r4mt"
      },
      "outputs": [],
      "source": [
        "# to opean a file\n",
        "\n",
        "file=open(\"/content/drive/MyDrive/Colab Notebooks/myfirst.py\", \"rt\")\n",
        "\n"
      ]
    },
    {
      "cell_type": "code",
      "execution_count": null,
      "metadata": {
        "colab": {
          "base_uri": "https://localhost:8080/"
        },
        "id": "1-nAemkA7Oy8",
        "outputId": "6800c51c-420f-4a3b-b6fb-d7b9a44cf811"
      },
      "outputs": [
        {
          "name": "stdout",
          "output_type": "stream",
          "text": [
            "def first(name):\n",
            "\n",
            "    print(\"Welcome  to Python World::\" +name)\n",
            "\n"
          ]
        }
      ],
      "source": [
        "# to read a file\n",
        "\n",
        "file= open(\"/content/drive/MyDrive/Colab Notebooks/myfirst.py\", \"r\")\n",
        "\n",
        "print(file.read())  # reads the file and prints\n",
        "\n",
        "\n"
      ]
    },
    {
      "cell_type": "code",
      "execution_count": null,
      "metadata": {
        "colab": {
          "base_uri": "https://localhost:8080/"
        },
        "id": "WyFA4knq7INB",
        "outputId": "71c034b5-eae1-4b8d-d619-3fc1f7a1e606"
      },
      "outputs": [
        {
          "name": "stdout",
          "output_type": "stream",
          "text": [
            "\n"
          ]
        }
      ],
      "source": [
        "print(file.read(3))  # returns first 14 character of file"
      ]
    },
    {
      "cell_type": "code",
      "execution_count": null,
      "metadata": {
        "colab": {
          "base_uri": "https://localhost:8080/"
        },
        "id": "CjXm9pKO9k6B",
        "outputId": "62b17392-79fd-49d8-fef9-fcba58d9a7d4"
      },
      "outputs": [
        {
          "name": "stdout",
          "output_type": "stream",
          "text": [
            "['def first(name):\\n', '\\n', '    print(\"Welcome  to Python World::\" +name)\\n']\n"
          ]
        },
        {
          "data": {
            "text/plain": [
              "[]"
            ]
          },
          "execution_count": 23,
          "metadata": {},
          "output_type": "execute_result"
        }
      ],
      "source": [
        "# to readlines  readlines()\n",
        "\n",
        "file =open(\"/content/drive/MyDrive/Colab Notebooks/myfirst.py\", \"rt\")\n",
        "print(file.readlines())    # read lines\n",
        "\n"
      ]
    },
    {
      "cell_type": "code",
      "execution_count": null,
      "metadata": {
        "colab": {
          "base_uri": "https://localhost:8080/"
        },
        "id": "KFZIdaxY-DeG",
        "outputId": "4ac40e49-791c-4e3d-fcea-af531833a097"
      },
      "outputs": [
        {
          "data": {
            "text/plain": [
              "['def first(name):\\n', '\\n', '    print(\"Welcome  to Python World::\" +name)\\n']"
            ]
          },
          "execution_count": 25,
          "metadata": {},
          "output_type": "execute_result"
        }
      ],
      "source": [
        "file =open(\"/content/drive/MyDrive/Colab Notebooks/myfirst.py\", \"rt\")\n",
        "file.readlines()"
      ]
    },
    {
      "cell_type": "code",
      "execution_count": null,
      "metadata": {
        "colab": {
          "base_uri": "https://localhost:8080/"
        },
        "id": "h3QJ_JDN-Nji",
        "outputId": "36ca0782-6372-4453-baea-6aa7e0ac94c5"
      },
      "outputs": [
        {
          "name": "stdout",
          "output_type": "stream",
          "text": [
            "def first(name):\n",
            "\n",
            "\n",
            "\n",
            "    print(\"Welcome  to Python World::\" +name)\n",
            "\n",
            "\n"
          ]
        }
      ],
      "source": [
        "# to read line by line\n",
        "\n",
        "file =open(\"/content/drive/MyDrive/Colab Notebooks/myfirst.py\", \"rt\")\n",
        "\n",
        "print(file.readline())\n",
        "print(file.readline())\n",
        "print(file.readline())\n",
        "print(file.readline())"
      ]
    },
    {
      "cell_type": "code",
      "execution_count": null,
      "metadata": {
        "colab": {
          "base_uri": "https://localhost:8080/",
          "height": 210
        },
        "id": "cUlQMYaY-amk",
        "outputId": "c695c2e6-1996-4864-c4f5-8b22a516989a"
      },
      "outputs": [
        {
          "ename": "ValueError",
          "evalue": "ignored",
          "output_type": "error",
          "traceback": [
            "\u001b[0;31m---------------------------------------------------------------------------\u001b[0m",
            "\u001b[0;31mValueError\u001b[0m                                Traceback (most recent call last)",
            "\u001b[0;32m<ipython-input-35-8e779611a5b4>\u001b[0m in \u001b[0;36m<cell line: 7>\u001b[0;34m()\u001b[0m\n\u001b[1;32m      5\u001b[0m \u001b[0mfile\u001b[0m\u001b[0;34m.\u001b[0m\u001b[0mclose\u001b[0m\u001b[0;34m(\u001b[0m\u001b[0;34m)\u001b[0m\u001b[0;34m\u001b[0m\u001b[0;34m\u001b[0m\u001b[0m\n\u001b[1;32m      6\u001b[0m \u001b[0;34m\u001b[0m\u001b[0m\n\u001b[0;32m----> 7\u001b[0;31m \u001b[0mfile\u001b[0m\u001b[0;34m.\u001b[0m\u001b[0mreadlines\u001b[0m\u001b[0;34m(\u001b[0m\u001b[0;34m)\u001b[0m   \u001b[0;31m# throw error because file has been closed\u001b[0m\u001b[0;34m\u001b[0m\u001b[0;34m\u001b[0m\u001b[0m\n\u001b[0m",
            "\u001b[0;31mValueError\u001b[0m: I/O operation on closed file."
          ]
        }
      ],
      "source": [
        "# close file\n",
        "\n",
        "file= open(\"/content/drive/MyDrive/Colab Notebooks/myfirst.py\", \"rt\")\n",
        "\n",
        "file.close()\n",
        "\n",
        "file.readlines()   # throw error because file has been closed"
      ]
    },
    {
      "cell_type": "code",
      "execution_count": null,
      "metadata": {
        "colab": {
          "base_uri": "https://localhost:8080/"
        },
        "id": "2JhP8Eyn_BzE",
        "outputId": "1ebe4711-13f8-483e-a8cd-5b4bdd168627"
      },
      "outputs": [
        {
          "name": "stdout",
          "output_type": "stream",
          "text": [
            "def first(name):\n",
            "\n",
            "    print(\"Welcome  to Python World::\" +name)\n",
            "End of the file\n"
          ]
        }
      ],
      "source": [
        "# To write the file\n",
        "\n",
        "# **a**  - to append the content to end of a file\n",
        "\n",
        "file=open(\"/content/drive/MyDrive/Colab Notebooks/myfirst.py\", \"a\")\n",
        "file.write(\"End of the file\")\n",
        "file.close()\n",
        "\n",
        "file=open(\"/content/drive/MyDrive/Colab Notebooks/myfirst.py\", \"rt\")\n",
        "print(file.read())"
      ]
    },
    {
      "cell_type": "code",
      "execution_count": null,
      "metadata": {
        "colab": {
          "base_uri": "https://localhost:8080/"
        },
        "id": "OdcoFjz0_dFI",
        "outputId": "b2edf5ee-1618-4d83-dd31-f1b982e80fa9"
      },
      "outputs": [
        {
          "name": "stdout",
          "output_type": "stream",
          "text": [
            "deleted entire content\n",
            "def first(name):    \n",
            "            print(\"Welcome  to Python World::\" +name)\n",
            "            End of the file\n"
          ]
        }
      ],
      "source": [
        "# to wrte content\n",
        "\n",
        "file =open(\"/content/drive/MyDrive/Colab Notebooks/myfirst.py\", \"w\")\n",
        "\n",
        "file.write(\"deleted entire content\")  # overwriting enitre file with this string\n",
        "\n",
        "file.close()\n",
        "\n",
        "file= open(\"/content/drive/MyDrive/Colab Notebooks/myfirst.py\",'r')\n",
        "print(file.read())  #reading file\n",
        "\n",
        "\n",
        "file=open(\"/content/drive/MyDrive/Colab Notebooks/myfirst.py\",\"w\")\n",
        "\n",
        "string= \"\"\"def first(name):\n",
        "            print(\"Welcome  to Python World::\" +name)\n",
        "            End of the file\"\"\"\n",
        "\n",
        "file.write(string)\n",
        "\n",
        "file.close()\n",
        "\n",
        "file=open(\"/content/drive/MyDrive/Colab Notebooks/myfirst.py\",\"r\")\n",
        "#file.read()\n",
        "print(file.read())\n",
        "\n"
      ]
    },
    {
      "cell_type": "code",
      "execution_count": null,
      "metadata": {
        "colab": {
          "base_uri": "https://localhost:8080/"
        },
        "id": "44X1y9v1BZZZ",
        "outputId": "6d09f3ce-4331-4be6-9f17-7b10347b4e01"
      },
      "outputs": [
        {
          "name": "stdout",
          "output_type": "stream",
          "text": [
            "file Created using x \n",
            "File created using a\n",
            "Fule created using w\n"
          ]
        }
      ],
      "source": [
        "# creat a new file\n",
        "\n",
        "file1=open(\"my_file_x.txt\",\"x\")\n",
        "file2=open(\"my_file_a.txt\", \"a\")\n",
        "file3=open(\"my_file_w.txt\",\"w\")\n",
        "\n",
        "file1.write(\"file Created using x \")\n",
        "file2.write(\"File created using a\")\n",
        "file3.write(\"Fule created using w\")\n",
        "\n",
        "file1.close()\n",
        "file2.close()\n",
        "file3.close()\n",
        "\n",
        "\"\"\"file1=open(\"/content/my_file_x.txt\",\"r\")\n",
        "file2=open(\"/content/my_file_a.txt\",\"r\")\n",
        "file3=open(\"/content/my_file_w.txt\",\"r\")\"\"\"\n",
        "\n",
        "print(open(\"/content/my_file_x.txt\",\"r\").read())\n",
        "print(open(\"/content/my_file_a.txt\",\"r\").read())\n",
        "print(open(\"/content/my_file_w.txt\",\"r\").read())"
      ]
    },
    {
      "cell_type": "markdown",
      "metadata": {
        "id": "Pii8E8PEH7FE"
      },
      "source": [
        "#Delete File or Folder\n",
        "\n",
        "* To delete a file we need toimport **os**module\n",
        "\n",
        "* os.remove(*filename*)    to remove a file\n",
        "* os.rmdir(*foldername*)   to remove folder"
      ]
    },
    {
      "cell_type": "code",
      "execution_count": null,
      "metadata": {
        "colab": {
          "base_uri": "https://localhost:8080/"
        },
        "id": "l8F39hiUE1aI",
        "outputId": "80d0e31e-5c9a-4b57-a746-4f076e44c653"
      },
      "outputs": [
        {
          "name": "stdout",
          "output_type": "stream",
          "text": [
            "New file created\n"
          ]
        }
      ],
      "source": [
        "# to create a file\n",
        "\n",
        "f1=open(\"Newfile.txt\",\"x\")\n",
        "f1.write(\"New file created\")\n",
        "\n",
        "f1.close()\n",
        "f1=open(\"/content/Newfile.txt\",\"r\")\n",
        "\n",
        "print(f1.read())\n",
        "\n",
        "\n",
        "\n"
      ]
    },
    {
      "cell_type": "code",
      "execution_count": null,
      "metadata": {
        "colab": {
          "base_uri": "https://localhost:8080/"
        },
        "id": "zpTIoPCbJSCj",
        "outputId": "a666132c-72b6-4447-fc77-640a7bf853c1"
      },
      "outputs": [
        {
          "name": "stdout",
          "output_type": "stream",
          "text": [
            "file removed\n"
          ]
        }
      ],
      "source": [
        "# te remove a file\n",
        "\n",
        "import os\n",
        "\n",
        "if os.path.exists(\"Newfile.txt\"):\n",
        "    os.remove(\"Newfile.txt\")\n",
        "    print(\"file removed\")\n",
        "\n",
        "else:\n",
        "    print(\"file  does not exists\")"
      ]
    },
    {
      "cell_type": "markdown",
      "metadata": {
        "id": "uhSNy5WUuYsm"
      },
      "source": [
        "#Python Built -In Functions"
      ]
    },
    {
      "cell_type": "code",
      "execution_count": null,
      "metadata": {
        "colab": {
          "base_uri": "https://localhost:8080/"
        },
        "id": "mXaQtEfBudNO",
        "outputId": "2073d282-f2b8-4b34-af01-7ad2672260c2"
      },
      "outputs": [
        {
          "name": "stdout",
          "output_type": "stream",
          "text": [
            "2.22   4.55\n"
          ]
        }
      ],
      "source": [
        "#abs()\n",
        "#Returns Absolute Value of number\n",
        "\n",
        "x=abs(2.22)\n",
        "y=abs(-4.55)\n",
        "print(x,\" \",y)"
      ]
    },
    {
      "cell_type": "code",
      "execution_count": null,
      "metadata": {
        "colab": {
          "base_uri": "https://localhost:8080/"
        },
        "id": "nH6-V5Fcupne",
        "outputId": "cd8ffad7-ef92-4d11-bc0c-9fe8378f0e96"
      },
      "outputs": [
        {
          "name": "stdout",
          "output_type": "stream",
          "text": [
            "True\n",
            "False\n",
            "True\n",
            "False\n"
          ]
        }
      ],
      "source": [
        "#all()\n",
        "#Returns if all items are true\n",
        "\n",
        "\n",
        "l=[True,True,1]    #list-iterable\n",
        "s={True,1,0}   #set-iterable\n",
        "t=(True,1,1)    #tuple-iterable\n",
        "s={False,0,0,False}  #set-iterable\n",
        "\n",
        "print(all(l))\n",
        "print(all(s))\n",
        "print(all(t))\n",
        "print(all(s))"
      ]
    },
    {
      "cell_type": "code",
      "execution_count": null,
      "metadata": {
        "colab": {
          "base_uri": "https://localhost:8080/"
        },
        "id": "eVvymS6TvT3W",
        "outputId": "6e63c732-a74c-4bef-9251-7f7e5b25c0bf"
      },
      "outputs": [
        {
          "name": "stdout",
          "output_type": "stream",
          "text": [
            "True\n"
          ]
        }
      ],
      "source": [
        "#any()\n",
        "#if any item is true\n",
        "\n",
        "l=[True,0,False]\n",
        "print(any(l))"
      ]
    },
    {
      "cell_type": "code",
      "execution_count": null,
      "metadata": {
        "colab": {
          "base_uri": "https://localhost:8080/"
        },
        "id": "3I6J7ZafwWok",
        "outputId": "d452cf48-12e4-48c9-d01f-1e8342ca1229"
      },
      "outputs": [
        {
          "name": "stdout",
          "output_type": "stream",
          "text": [
            "'hello \\xae~!/,.'\n"
          ]
        }
      ],
      "source": [
        "#Ascii()\n",
        "#Returns readable version of any character\n",
        "# replaces non ascii characters with escape\n",
        "\n",
        "l=\"hello ®~!/,.\"\n",
        "print(ascii(l))"
      ]
    },
    {
      "cell_type": "code",
      "execution_count": null,
      "metadata": {
        "colab": {
          "base_uri": "https://localhost:8080/",
          "height": 227
        },
        "id": "D-8WpY5jxAfa",
        "outputId": "56f55669-bcee-4ad9-9c77-a8c4d55dfe8b"
      },
      "outputs": [
        {
          "name": "stdout",
          "output_type": "stream",
          "text": [
            "0b100110011010\n"
          ]
        },
        {
          "ename": "TypeError",
          "evalue": "ignored",
          "output_type": "error",
          "traceback": [
            "\u001b[0;31m---------------------------------------------------------------------------\u001b[0m",
            "\u001b[0;31mTypeError\u001b[0m                                 Traceback (most recent call last)",
            "\u001b[0;32m<ipython-input-16-492eba773768>\u001b[0m in \u001b[0;36m<cell line: 7>\u001b[0;34m()\u001b[0m\n\u001b[1;32m      5\u001b[0m \u001b[0;34m\u001b[0m\u001b[0m\n\u001b[1;32m      6\u001b[0m \u001b[0my\u001b[0m\u001b[0;34m=\u001b[0m\u001b[0;34m\"Hello\"\u001b[0m\u001b[0;34m\u001b[0m\u001b[0;34m\u001b[0m\u001b[0m\n\u001b[0;32m----> 7\u001b[0;31m \u001b[0mprint\u001b[0m\u001b[0;34m(\u001b[0m\u001b[0mbin\u001b[0m\u001b[0;34m(\u001b[0m\u001b[0my\u001b[0m\u001b[0;34m)\u001b[0m\u001b[0;34m)\u001b[0m\u001b[0;34m\u001b[0m\u001b[0;34m\u001b[0m\u001b[0m\n\u001b[0m",
            "\u001b[0;31mTypeError\u001b[0m: 'str' object cannot be interpreted as an integer"
          ]
        }
      ],
      "source": [
        "#bin()\n",
        "# Returns binary version of number\n",
        "\n",
        "x=2458\n",
        "print(bin(x))\n",
        "\n",
        "y=\"Hello\"   #cant convert strings to binary\n",
        "print(bin(y))"
      ]
    },
    {
      "cell_type": "code",
      "execution_count": null,
      "metadata": {
        "colab": {
          "base_uri": "https://localhost:8080/"
        },
        "id": "OYGHSzoCxlOb",
        "outputId": "09a5839a-5320-48eb-9028-f0153ae827ba"
      },
      "outputs": [
        {
          "name": "stdout",
          "output_type": "stream",
          "text": [
            "True\n",
            "True\n",
            "False\n",
            "True\n",
            "False\n"
          ]
        }
      ],
      "source": [
        "#bool()\n",
        "#Returns boolean Value\n",
        "# by default it retirns true if object is not empty\n",
        "\n",
        "a=\"Hello\"\n",
        "l=[a,33,0]\n",
        "t=()\n",
        "s={()}  # Here object is not empty.. returns True\n",
        "z={}  #empty object\n",
        "\n",
        "print(bool(a))\n",
        "print(bool(l))\n",
        "print(bool(t))\n",
        "print(bool(s))\n",
        "print(bool(z))"
      ]
    },
    {
      "cell_type": "code",
      "execution_count": null,
      "metadata": {
        "colab": {
          "base_uri": "https://localhost:8080/"
        },
        "id": "_xrphzD5yQyQ",
        "outputId": "02979612-5004-4efb-f127-85bc6c99a81f"
      },
      "outputs": [
        {
          "name": "stdout",
          "output_type": "stream",
          "text": [
            "bytearray(b'\\x00\\x00\\x00\\x00\\x00\\x00')\n"
          ]
        }
      ],
      "source": [
        "#bytearray()\n",
        "# Returns bytearray of any object\n",
        "\n",
        "x=6\n",
        "print(bytearray(x))\n"
      ]
    },
    {
      "cell_type": "code",
      "execution_count": null,
      "metadata": {
        "colab": {
          "base_uri": "https://localhost:8080/"
        },
        "id": "SUPk34wizAvd",
        "outputId": "a5ce5706-5ffa-47dd-bfe5-e966bfe66864"
      },
      "outputs": [
        {
          "name": "stdout",
          "output_type": "stream",
          "text": [
            "b'\\x00\\x00\\x00\\x00'\n",
            "b'\\x00\\x00\\x00\\x00\\x00\\x00\\x00\\x00\\x00\\x00\\x00\\x00\\x00\\x00\\x00\\x00\\x00\\x00\\x00\\x00\\x00\\x00\\x00\\x00\\x00\\x00\\x00\\x00\\x00\\x00\\x00\\x00\\x00\\x00\\x00\\x00'\n"
          ]
        }
      ],
      "source": [
        "#bytes()\n",
        "#Returns bytes object\n",
        "\n",
        "print(bytes(4))\n",
        "\n",
        "a=36\n",
        "b=\"Hello\"  # Not for strings\n",
        "print(bytes(a))"
      ]
    },
    {
      "cell_type": "code",
      "execution_count": null,
      "metadata": {
        "colab": {
          "base_uri": "https://localhost:8080/"
        },
        "id": "q-aYdscTzU4h",
        "outputId": "a52c773d-3964-4167-cbc9-7b94cb8c26f0"
      },
      "outputs": [
        {
          "name": "stdout",
          "output_type": "stream",
          "text": [
            "False\n",
            "False\n",
            "False\n",
            "True\n"
          ]
        }
      ],
      "source": [
        "# callable()\n",
        "# If object is callable returns true\n",
        "\n",
        "x=5\n",
        "\n",
        "def fn():\n",
        "    a=6\n",
        "\n",
        "\n",
        "obj=fn()\n",
        "\n",
        "print(callable(x))\n",
        "print(callable(a))\n",
        "print(callable(obj))\n",
        "print(callable(fn))"
      ]
    },
    {
      "cell_type": "code",
      "execution_count": null,
      "metadata": {
        "colab": {
          "base_uri": "https://localhost:8080/"
        },
        "id": "49ALxV040URo",
        "outputId": "cd5b4071-946e-4b9d-af82-72e8074a33c8"
      },
      "outputs": [
        {
          "name": "stdout",
          "output_type": "stream",
          "text": [
            "b\n",
            "b\n"
          ]
        }
      ],
      "source": [
        "#chr()\n",
        "# Returns a character from Unicode UNICode\n",
        "\n",
        "x=98\n",
        "print(chr(x))\n",
        "print(chr(98))"
      ]
    },
    {
      "cell_type": "code",
      "execution_count": null,
      "metadata": {
        "colab": {
          "base_uri": "https://localhost:8080/"
        },
        "id": "sKcfvFhS06CF",
        "outputId": "03cf7fee-2dfb-4e03-d875-19aa9ae6496a"
      },
      "outputs": [
        {
          "name": "stdout",
          "output_type": "stream",
          "text": [
            "98\n",
            "98\n"
          ]
        }
      ],
      "source": [
        "#ord()\n",
        "# Returns unicode of a charater\n",
        "\n",
        "x=\"b\"\n",
        "print(ord(x))\n",
        "print(ord(\"b\"))"
      ]
    },
    {
      "cell_type": "code",
      "execution_count": null,
      "metadata": {
        "colab": {
          "base_uri": "https://localhost:8080/"
        },
        "id": "wTewE79d1F_3",
        "outputId": "0272626a-1927-4437-b46d-992c9b3580b4"
      },
      "outputs": [
        {
          "name": "stdout",
          "output_type": "stream",
          "text": [
            "<class 'classmethod'>\n",
            "<class 'function'>\n"
          ]
        }
      ],
      "source": [
        "# classmethod()\n",
        "# Converts a method into class method\n",
        "\n",
        "def fn():\n",
        "    print(\"Hello\")\n",
        "\n",
        "cls_m=classmethod(fn)\n",
        "print(type(cls_m))\n",
        "print(type(fn))"
      ]
    },
    {
      "cell_type": "code",
      "execution_count": null,
      "metadata": {
        "colab": {
          "base_uri": "https://localhost:8080/"
        },
        "id": "MahMtxyg2CX9",
        "outputId": "23cf0173-e281-4e6e-aae6-04354869cc15"
      },
      "outputs": [
        {
          "name": "stdout",
          "output_type": "stream",
          "text": [
            "Hello\n",
            "88\n"
          ]
        }
      ],
      "source": [
        "#compile()\n",
        "#compiles more than one statement\n",
        "\n",
        "x = compile('print(\"Hello\")\\nprint(88)', 'test','exec')\n",
        "exec(x)\n"
      ]
    },
    {
      "cell_type": "code",
      "execution_count": null,
      "metadata": {
        "colab": {
          "base_uri": "https://localhost:8080/"
        },
        "id": "lzegONEV3e-l",
        "outputId": "d6f23551-ff8b-4ee1-e89f-2bff988f04fe"
      },
      "outputs": [
        {
          "name": "stdout",
          "output_type": "stream",
          "text": [
            "(3+5j) (2+6j)\n"
          ]
        }
      ],
      "source": [
        "#complex()\n",
        "#Returns complex number\n",
        "\n",
        "x=complex(3,5)\n",
        "y=complex(2+6j)\n",
        "\n",
        "\n",
        "print(x,y)"
      ]
    },
    {
      "cell_type": "code",
      "execution_count": null,
      "metadata": {
        "colab": {
          "base_uri": "https://localhost:8080/",
          "height": 262
        },
        "id": "awXzzrfA5til",
        "outputId": "553ad9f6-752c-4ca4-aa7c-85ddba5c80ec"
      },
      "outputs": [
        {
          "name": "stdout",
          "output_type": "stream",
          "text": [
            "42\n",
            "Shiva\n",
            "42\n"
          ]
        },
        {
          "ename": "AttributeError",
          "evalue": "ignored",
          "output_type": "error",
          "traceback": [
            "\u001b[0;31m---------------------------------------------------------------------------\u001b[0m",
            "\u001b[0;31mAttributeError\u001b[0m                            Traceback (most recent call last)",
            "\u001b[0;32m<ipython-input-79-06814dc06068>\u001b[0m in \u001b[0;36m<cell line: 15>\u001b[0;34m()\u001b[0m\n\u001b[1;32m     13\u001b[0m \u001b[0;34m\u001b[0m\u001b[0m\n\u001b[1;32m     14\u001b[0m \u001b[0mprint\u001b[0m\u001b[0;34m(\u001b[0m\u001b[0mperson\u001b[0m\u001b[0;34m.\u001b[0m\u001b[0mage\u001b[0m\u001b[0;34m)\u001b[0m\u001b[0;34m\u001b[0m\u001b[0;34m\u001b[0m\u001b[0m\n\u001b[0;32m---> 15\u001b[0;31m \u001b[0mprint\u001b[0m\u001b[0;34m(\u001b[0m\u001b[0mperson\u001b[0m\u001b[0;34m.\u001b[0m\u001b[0mname\u001b[0m\u001b[0;34m)\u001b[0m\u001b[0;34m\u001b[0m\u001b[0;34m\u001b[0m\u001b[0m\n\u001b[0m",
            "\u001b[0;31mAttributeError\u001b[0m: type object 'person' has no attribute 'name'"
          ]
        }
      ],
      "source": [
        "#delattr()\n",
        "#deletes specified Attribute\n",
        "# USeful for classes\n",
        "\n",
        "class person:\n",
        "    name=\"Shiva\"\n",
        "    age=42\n",
        "\n",
        "print(person.age)\n",
        "print(person.name)\n",
        "\n",
        "delattr(person,\"name\")\n",
        "\n",
        "print(person.age)\n",
        "print(person.name)"
      ]
    },
    {
      "cell_type": "code",
      "execution_count": null,
      "metadata": {
        "colab": {
          "base_uri": "https://localhost:8080/"
        },
        "id": "NAI9MAE_6LyW",
        "outputId": "7fa10cd9-8d61-45a6-a2af-966fbec3df2e"
      },
      "outputs": [
        {
          "name": "stdout",
          "output_type": "stream",
          "text": [
            "{'name': 'Shiva', 'age': 39, 'city': 'AP'} <class 'dict'>\n"
          ]
        }
      ],
      "source": [
        "#dict()\n",
        "#Returns a dictionary\n",
        "\n",
        "a=dict(name=\"Shiva\",age=39,city=\"AP\")\n",
        "print(a,type(a))\n",
        "\n"
      ]
    },
    {
      "cell_type": "code",
      "execution_count": null,
      "metadata": {
        "colab": {
          "base_uri": "https://localhost:8080/"
        },
        "id": "04SJ7EOn9z_g",
        "outputId": "3f124cd6-46d8-4f14-8e15-56e10ff87b88"
      },
      "outputs": [
        {
          "output_type": "stream",
          "name": "stdout",
          "text": [
            "['__class__', '__delattr__', '__dict__', '__dir__', '__doc__', '__eq__', '__format__', '__ge__', '__getattribute__', '__gt__', '__hash__', '__init__', '__init_subclass__', '__le__', '__lt__', '__module__', '__ne__', '__new__', '__reduce__', '__reduce_ex__', '__repr__', '__setattr__', '__sizeof__', '__str__', '__subclasshook__', '__weakref__', 'age', 'city', 'fn', 'name']\n",
            "['__class__', '__delattr__', '__dict__', '__dir__', '__doc__', '__eq__', '__format__', '__ge__', '__getattribute__', '__gt__', '__hash__', '__init__', '__init_subclass__', '__le__', '__lt__', '__module__', '__ne__', '__new__', '__reduce__', '__reduce_ex__', '__repr__', '__setattr__', '__sizeof__', '__str__', '__subclasshook__', '__weakref__', 'age', 'city', 'fn', 'name']\n",
            "['__bool__', '__class__', '__delattr__', '__dir__', '__doc__', '__eq__', '__format__', '__ge__', '__getattribute__', '__gt__', '__hash__', '__init__', '__init_subclass__', '__le__', '__lt__', '__ne__', '__new__', '__reduce__', '__reduce_ex__', '__repr__', '__setattr__', '__sizeof__', '__str__', '__subclasshook__']\n"
          ]
        }
      ],
      "source": [
        "#dir()\n",
        "\n",
        "#Returns all properties of a class or method\n",
        "\n",
        "class person:\n",
        "    name=\"Shiva\"\n",
        "    age=42\n",
        "    city=\"VSP\"\n",
        "\n",
        "    def fn():\n",
        "        popu=1245511\n",
        "        country=\"India\"\n",
        "obj=person\n",
        "\n",
        "print(dir(person))  #Calling class directly\n",
        "print(dir(obj))   #calling Object  of class\n",
        "print(dir(obj.fn())) # calling function through instance or object of the class"
      ]
    },
    {
      "cell_type": "code",
      "execution_count": null,
      "metadata": {
        "colab": {
          "base_uri": "https://localhost:8080/"
        },
        "id": "CuNoZ1Tf_fw1",
        "outputId": "7e9e15bc-8361-4709-b3af-f4f930ca1ed4"
      },
      "outputs": [
        {
          "name": "stdout",
          "output_type": "stream",
          "text": [
            "(0, 2)\n",
            "(2, 1)\n"
          ]
        }
      ],
      "source": [
        "#divmod()\n",
        "#display quotient and remainder\n",
        "\n",
        "print(divmod(2,6))  # 2 dvide by 6 results quotient, remainder\n",
        "print(divmod(5,2))  # 5 divide by 2"
      ]
    },
    {
      "cell_type": "code",
      "execution_count": null,
      "metadata": {
        "colab": {
          "base_uri": "https://localhost:8080/"
        },
        "id": "n3NhFRmvAVnL",
        "outputId": "627cee48-b203-429d-ba19-2ecfbb7ffe78"
      },
      "outputs": [
        {
          "name": "stdout",
          "output_type": "stream",
          "text": [
            "<enumerate object at 0x7e6230083640>\n",
            "<class 'tuple'> <class 'enumerate'>\n",
            "[(0, 123), (1, True), (2, 'Hello')] <class 'list'>\n",
            "[]\n",
            "{}\n",
            "{}\n",
            "<class 'list'> [(0, 'Name'), (1, 'Age'), (2, 'city')]\n",
            "<class 'tuple'> ()\n",
            "<class 'str'> <enumerate object at 0x7e62302238c0>\n"
          ]
        }
      ],
      "source": [
        "#enumerate()\n",
        "#Takes enumerate objects AND RETURNS to enumerate objects\n",
        "# It helpsus to convert one data type to another datatype\n",
        "x=(123,True,\"Hello\")\n",
        "y=enumerate(x)  #enumerated object\n",
        "print(y)\n",
        "print(type(x),type(y))\n",
        "a=list(y) #\n",
        "print(a,type(a)) #converted enumerated object to list\n",
        "print(list(y))\n",
        "\n",
        "z=dict(y)  #creates empty dictionary\n",
        "print(z)\n",
        "print(dict(y))\n",
        "\n",
        "dc={\"Name\":\"Shivas\",\"Age\":42,\"city\":\"VSP\"}\n",
        "en1=enumerate(dc)\n",
        "en2=list(en1)\n",
        "en3=tuple(en1)\n",
        "str1=str(en1)\n",
        "print(type(en2),en2)\n",
        "print(type(en3),en3)\n",
        "print(type(str1),str1)\n"
      ]
    },
    {
      "cell_type": "code",
      "execution_count": null,
      "metadata": {
        "colab": {
          "base_uri": "https://localhost:8080/"
        },
        "id": "H44EZcOvA1q9",
        "outputId": "8edc2304-5ce0-4cc6-b14a-67bcba33c090"
      },
      "outputs": [
        {
          "name": "stdout",
          "output_type": "stream",
          "text": [
            "Hello\n"
          ]
        },
        {
          "data": {
            "text/plain": [
              "12168"
            ]
          },
          "execution_count": 136,
          "metadata": {},
          "output_type": "execute_result"
        }
      ],
      "source": [
        "#eval()\n",
        "#evaluate a function\n",
        "\n",
        "a='print(\"Hello\")'\n",
        "eval(a)\n",
        "\n",
        "b='(((22+56)**2)*2)'\n",
        "eval(b)"
      ]
    },
    {
      "cell_type": "code",
      "execution_count": null,
      "metadata": {
        "colab": {
          "base_uri": "https://localhost:8080/"
        },
        "id": "KujqtfFLEikd",
        "outputId": "92bb6fe1-0449-4bb4-e58b-bee232816f2f"
      },
      "outputs": [
        {
          "name": "stdout",
          "output_type": "stream",
          "text": [
            "('Shiva', None)\n",
            "Welcome to pythonThe most popular language \n"
          ]
        }
      ],
      "source": [
        "#exec()\n",
        "#exec specified  code\n",
        "\n",
        "obj='name=\"Shiva\",print(name)'\n",
        "\n",
        "exec(obj)\n",
        "\n",
        "def func():\n",
        "    print(\"Welcome to pythonThe most popular language \")\n",
        "\n",
        "obj1=func()\n",
        "#exec(\"func()\")\n",
        "exec(\"obj1\")"
      ]
    },
    {
      "cell_type": "code",
      "execution_count": null,
      "metadata": {
        "colab": {
          "base_uri": "https://localhost:8080/"
        },
        "id": "3HLBfbT-NTG5",
        "outputId": "e71e03ba-aefa-4979-a360-501dfe06be85"
      },
      "outputs": [
        {
          "name": "stdout",
          "output_type": "stream",
          "text": [
            "[14, 24, 18, 12, 18, 18]\n"
          ]
        }
      ],
      "source": [
        "#filter()\n",
        "#filters the given value\n",
        "\n",
        "num=[15,14,99,77,24,18,15,12,1,15,18,18]\n",
        "\n",
        "def even(numbers):\n",
        "    numb=numbers\n",
        "    if numb % 2 == 0:\n",
        "\n",
        "        return numb\n",
        "\n",
        "    else:\n",
        "        pass\n",
        "\n",
        "obj=filter(even,num)\n",
        "\n",
        "print(list(obj))"
      ]
    },
    {
      "cell_type": "code",
      "execution_count": null,
      "metadata": {
        "colab": {
          "base_uri": "https://localhost:8080/"
        },
        "id": "D__FXVFQPCxD",
        "outputId": "9051ea63-1706-4c59-9be4-48ad51bc9e18"
      },
      "outputs": [
        {
          "name": "stdout",
          "output_type": "stream",
          "text": [
            "54.0\n"
          ]
        }
      ],
      "source": [
        "#float()\n",
        "#Returns floating point number\n",
        "\n",
        "a=54\n",
        "print(float(a))"
      ]
    },
    {
      "cell_type": "code",
      "execution_count": null,
      "metadata": {
        "colab": {
          "base_uri": "https://localhost:8080/"
        },
        "id": "QZgeW6RYRfcD",
        "outputId": "39d8fecf-5edc-42cb-cf92-6bbc901270f5"
      },
      "outputs": [
        {
          "name": "stdout",
          "output_type": "stream",
          "text": [
            "200.000000% 22 b 3.430000e+02 44.000000\n"
          ]
        }
      ],
      "source": [
        "#format()\n",
        "#formats a value to a specified format numbers\n",
        "\n",
        "a=format(2,\"%\")\n",
        "b=format(22,\"n\")\n",
        "c=format(98,\"c\")\n",
        "d=format(343,\"e\")\n",
        "e=format(44,\"F\")\n",
        "\n",
        "print(a,b,c,d,e)"
      ]
    },
    {
      "cell_type": "code",
      "execution_count": null,
      "metadata": {
        "colab": {
          "base_uri": "https://localhost:8080/"
        },
        "id": "HiAAfnjURxz9",
        "outputId": "5a091139-fadc-4d7a-b92d-91d11e624a4e"
      },
      "outputs": [
        {
          "output_type": "stream",
          "name": "stdout",
          "text": [
            "frozenset({'karthkeyaa', 'Shiva', 'Nandhini'})\n",
            "frozenset({1, 2, 3})\n",
            "<class 'list'> ['Shiva', 'karthkeyaa', 'Nandhini'] \n",
            " <class 'tuple'> (1, 2, 3, 3, 2)\n"
          ]
        }
      ],
      "source": [
        "#frozenset()\n",
        "#freezes the data type make it unchangeable\n",
        "\n",
        "l1=['Shiva','karthkeyaa','Nandhini']\n",
        "t1=(1,2,3,3,2)\n",
        "a=frozenset(l1)\n",
        "b=frozenset(t1)\n",
        "print(a)\n",
        "print(b)\n",
        "\n",
        "print(type(l1),l1,'\\n',type(t1),t1)"
      ]
    },
    {
      "cell_type": "code",
      "execution_count": null,
      "metadata": {
        "colab": {
          "base_uri": "https://localhost:8080/"
        },
        "id": "DPlrQlKJSCjU",
        "outputId": "5de7e331-c0e0-4671-f6f5-29044364b580"
      },
      "outputs": [
        {
          "name": "stdout",
          "output_type": "stream",
          "text": [
            "None\n"
          ]
        }
      ],
      "source": [
        "#getattr()\n",
        "\n",
        "#Returns the value of sepcified attribute of mentioned object\n",
        "\n",
        "def fun():\n",
        "    dct = {\"Name\": \"Shivaprrasad\", 'Age': 30, \"city\": \"VSP\"}\n",
        "    return dct[\"city\"]\n",
        "\n",
        "\n",
        "x = getattr(fun(), \"city\", None)\n",
        "print(x)\n"
      ]
    },
    {
      "cell_type": "code",
      "execution_count": null,
      "metadata": {
        "colab": {
          "base_uri": "https://localhost:8080/"
        },
        "id": "3pJRuXF3WJ2A",
        "outputId": "9a7dcc1d-7f61-4a91-e6a3-7a319e4390e0"
      },
      "outputs": [
        {
          "name": "stdout",
          "output_type": "stream",
          "text": [
            "{'__name__': '__main__', '__doc__': ' Here a is first parameter\\n    b is replaceable parameters\\n    c is removable parameters\\n', '__package__': None, '__loader__': None, '__spec__': None, '__builtin__': <module 'builtins' (built-in)>, '__builtins__': <module 'builtins' (built-in)>, '_ih': ['', '#abs()  Returns Absolute Value of number\\n\\nx=abs(2.22)\\nprint(x)', '#abs()  Returns Absolute Value of number\\n\\nx=abs(2.22)\\ny=abs(-4.55)\\nprint(x,y)', '#abs()  Returns Absolute Value of number\\n\\nx=abs(2.22)\\ny=abs(-4.55)\\nprint(x,\" \",y)', '#all() Returns if all items are true\\n\\na=[True,True,1]\\nb={True,1,0}\\nc=(True,1,1)\\nd={False,0,0,False}\\n\\nprint(a.all())', '#all() Returns if all items are true\\n\\na=[True,True,1]\\nb={True,1,0}\\nc=(True,1,1)\\nd={False,0,0,False}\\n\\na.all()', '#all() Returns if all items are true\\n\\nl=[True,True,1]\\ns={True,1,0}\\nt=(True,1,1)\\ns={False,0,0,False}\\n\\na=all(l)', '#all() Returns if all items are true\\n\\nl=[True,True,1]\\ns={True,1,0}\\nt=(True,1,1)\\ns={False,0,0,False}\\n\\nprint(all(l))', '#all() Returns if all items are true\\n\\nl=[True,True,1]\\ns={True,1,0}\\nt=(True,1,1)\\ns={False,0,0,False}\\n\\nprint(all(l))\\nprint(all(s))\\nprint(all(t))\\nprint(all(s))', '#any() if any item is true\\n\\nl=[True,0,False]\\nx=any(l)', '#any() if any item is true\\n\\nl=[True,0,False]\\nprint(any(l))', '#Ascii()   Returns readable version of any character\\n\\nl=\"hello /,.\"\\nprint(ascii(l))', '#Ascii()   Returns readable version of any character\\n# replaces non ascii characters with escape\\n\\nl=\"hello ~!/,.\"\\nprint(ascii(l))', '#Ascii()   Returns readable version of any character\\n# replaces non ascii characters with escape\\n\\nl=\"hello ®~!/,.\"\\nprint(ascii(l))', '#bin() Returns binary version of number\\n\\nx=\"Hello\"\\nprint(bin(x))', '#bin() Returns binary version of number\\n\\nx=2458\\nprint(bin(x))', '#bin() Returns binary version of number\\n\\nx=2458\\nprint(bin(x))\\n\\ny=\"Hello\"\\nprint(bin(y))', '#bool()  Returns boolean Value\\n# by default it retirns true if object is not empty\\n\\na=\"Hello\"\\nl=[a,33,0]\\nt=()\\ns={()}\\n\\nprint(bool(a))\\nprint(bool(l))\\nprint(bool(t))\\nprint(bool(s))', '#bool()  Returns boolean Value\\n# by default it retirns true if object is not empty\\n\\na=\"Hello\"\\nl=[a,33,0]\\nt=()\\ns={()}  # Here object is not empty.. returns True\\nz={}\\n\\nprint(bool(a))\\nprint(bool(l))\\nprint(bool(t))\\nprint(bool(s))\\npritn(bool(z))', '#bool()  Returns boolean Value\\n# by default it retirns true if object is not empty\\n\\na=\"Hello\"\\nl=[a,33,0]\\nt=()\\ns={()}  # Here object is not empty.. returns True\\nz={}\\n\\nprint(bool(a))\\nprint(bool(l))\\nprint(bool(t))\\nprint(bool(s))\\nprint(bool(z))', '#bytearray()\\n# Returns bytearray of any object\\n\\nx=\"hello\"\\nprint(bytearray(x))', '#bytearray()\\n# Returns bytearray of any object\\n\\nx=6\\nprint(bytearray(x))', '#bytes()\\n#Returns bytes object\\n\\nprint(bytes(4))', '#bytes()\\n#Returns bytes object\\n\\nprint(bytes(4))\\n\\na=Hello\\nprint(bytes(a))', \"#bytes()\\n#Returns bytes object\\n\\nprint(bytes(4))\\n\\na='Hello'\\nprint(bytes(a))\", '#bytes()\\n#Returns bytes object\\n\\nprint(bytes(4))\\n\\na=366\\nb=\"Hello\"\\nprint(bytes(a,b))', '#bytes()\\n#Returns bytes object\\n\\nprint(bytes(4))\\n\\na=366\\nb=\"Hello\"\\nprint(bytes(a))', '#bytes()\\n#Returns bytes object\\n\\nprint(bytes(4))\\n\\na=36\\nb=\"Hello\"\\nprint(bytes(a))', '# callable()\\n# If object is callable returns true\\n\\nx=5\\n\\ndef fn():\\n    a=6\\n    print(a)\\n\\nobj=fn()\\n\\nprint(callable(x))\\nprint(callable(a))\\nprint(callable(obj))', '# callable()\\n# If object is callable returns true\\n\\nx=5\\n\\ndef fn():\\n    a=6\\n    print(a)\\n\\nobj=fn()\\n\\nprint(callable(x))\\nprint(callable(a))\\nprint(callable(obj))\\nprint(callable(fn))', '# callable()\\n# If object is callable returns true\\n\\nx=5\\n\\ndef fn():\\n    a=6\\n   \\n\\nobj=fn()\\n\\nprint(callable(x))  \\nprint(callable(a))\\nprint(callable(obj))\\nprint(callable(fn))', '#chr()\\n# Returns a character from Unicode UNICode\\n\\nx=98\\nprint(chr(x))', '#ord()\\n# Returns unicode of a charater\\n\\nx=98\\nprint(ord(x))', '#ord()\\n# Returns unicode of a charater\\n\\nx=98\\nprint(x.ord())', '#ord()\\n# Returns unicode of a charater\\n\\nx=98\\nprint(ord(x))', '#ord()\\n# Returns unicode of a charater\\n\\nx=\"b\"\\nprint(ord(x))', '#chr()\\n# Returns a character from Unicode UNICode\\n\\nx=98\\nprint(chr(x))\\nprint(chr(98))', '#ord()\\n# Returns unicode of a charater\\n\\nx=\"b\"\\nprint(ord(x))\\nprint(ord(\"b\"))', '# classmethod()\\n# Converts a method into class method\\n\\ndef fn():\\n    print(\"Hello\")\\n\\ncls_m=fn.classmethod()', '# classmethod()\\n# Converts a method into class method\\n\\ndef fn():\\n    print(\"Hello\")\\n\\ncls_m=classmethod(fn)', '# classmethod()\\n# Converts a method into class method\\n\\ndef fn():\\n    print(\"Hello\")\\n\\ncls_m=classmethod(fn)\\nprint9type(cls_m)', '# classmethod()\\n# Converts a method into class method\\n\\ndef fn():\\n    print(\"Hello\")\\n\\ncls_m=classmethod(fn)\\nprint(type(cls_m))', '# classmethod()\\n# Converts a method into class method\\n\\ndef fn():\\n    print(\"Hello\")\\n\\ncls_m=classmethod(fn)\\nprint(type(cls_m))\\nprint(type(fn))', '#compile()\\n#compiles more than one statement\\n\\nx=(\"Test\",True,12,\"Pass\")\\nprint(compile(x))', '#compile()\\n#compiles more than one statement\\n\\nx=compile(print(\"test\"),\" \",print(True),\" \",print(1254))', '#compile()\\n#compiles more than one statement\\n\\nx=compile(print(\"test\"),\" \",print(True),\" \",print(1254))\\nexec(x)', '#compile()\\n#compiles more than one statement\\n\\nx=compile(print(\"test\"),\" \\\\n\",print(True),\"\\\\n\",print(1254))\\nexec(x)', '#compile()\\n#compiles more than one statement\\n\\nx=compile(print(\"test\"),\"\\\\n\",print(True),\"\\\\n\",print(1254))\\nexec(x)', '#compile()\\n#compiles more than one statement\\n\\nx=compile(print(\"test\"),\\\\n,print(True),\\\\n,print(1254))\\nexec(x)', '#compile()\\n#compiles more than one statement\\n\\nx=compile(print(\"test\"),\\\\nprint(True),\\\\nprint(1254))\\nexec(x)', '#compile()\\n#compiles more than one statement\\n\\nx=compile(print(\"test\"),\\\\n print(True),\\\\nprint(1254))\\nexec(x)', '#compile()\\n#compiles more than one statement\\n\\nx=compile(print(\"test\"),\\\\nprint(True),\\\\nprint(1254))\\nexec(x)', '#compile()\\n#compiles more than one statement\\n\\nx=compile(\"print(\"test\")\",\"\\\\nprint(True)\",\\'\\\\nprint(1254)\\')\\nexec(x)', '#compile()\\n#compiles more than one statement\\n\\nx=compile(\"print(test)\",\"\\\\nprint(True)\",\\'\\\\nprint(1254)\\')\\nexec(x)', '#compile()\\n#compiles more than one statement\\n\\nx=compile(\"print(25)\",\"\\\\nprint(True)\",\\'\\\\nprint(1254)\\')\\nexec(x)', '#compile()\\n#compiles more than one statement\\n\\nx=compile(\"print(25)\",\\'print(1254)\\')\\nexec(x)', '#compile()\\n#compiles more than one statement\\n\\nx=compile(\"print(25)\",\"print(1254)\")\\nexec(x)', '#compile()\\n#compiles more than one statement\\n\\nx=compile(print(25),print(1254))\\nexec(x)', \"#compile()\\n#compiles more than one statement\\n\\nx=compile(p'rint(25)','print(1254)')\\nexec(x)\", \"#compile()\\n#compiles more than one statement\\n\\nx=compile('print(25)','print(1254)')\\nexec(x)\", \"#compile()\\n#compiles more than one statement\\n\\nx=compile('print(25)')\\nexec(x)\", '#compile()\\n#compiles more than one statement\\n\\nx=compile(print(25))\\nexec(x)', \"#compile()\\n#compiles more than one statement\\n\\nx = compile('print(55)\\\\nprint(88)', 'test', 'exec')\\nexec(x)\", \"#compile()\\n#compiles more than one statement\\n\\nx = compile('print('Hello')\\\\nprint(88)', 'test', 'exec')\\nexec(x)\", '#compile()\\n#compiles more than one statement\\n\\nx = compile(\\'print(\"Hello\")\\\\nprint(88)\\', \\'test\\', \\'exec\\')\\nexec(x)', '#compile()\\n#compiles more than one statement\\n\\nx = compile(\\'print(\"Hello\")\\\\nprint(88)\\', \\'test\\')\\nexec(x)', '#compile()\\n#compiles more than one statement\\n\\nx = compile(\\'print(\"Hello\")\\\\nprint(88)\\', \\'test\\',\\'exec\\')\\nexec(x)', '#complex()\\n#Returns complex number\\n\\nx=complex(3,5)\\ny=complex(2+6j)\\n\\n\\nprint(x,y', '#complex()\\n#Returns complex number\\n\\nx=complex(3,5)\\ny=complex(2+6j)\\n\\n\\nprint(x,y)', '#delattr()\\n#deletes specified Attribute\\n\\nx=[\"Name\",\"Age\",266]\\n\\ndelattr(\"Name\",266)', '#delattr()\\n#deletes specified Attribute\\n\\nx=[\"Name\",\"Age\"]\\ny={\"Name\":\"Shiva\",\"Age\":36}\\n\\nprint(delattr(\"Name\"))\\nprint(delattr(\"Name\"))', '#delattr()\\n#deletes specified Attribute\\n\\n\\ny={\"Name\":\"Shiva\",\"Age\":36}\\n\\n\\nprint(delattr(\"Name\",\"Shiva\"))', '#delattr()\\n#deletes specified Attribute\\n# USeful for classes\\n\\nclass person:\\n    name=\"Shiva\"\\n    age=42\\n\\nprint(delattr(\"person\",\"name\"))', '#delattr()\\n#deletes specified Attribute\\n# USeful for classes\\n\\nclass person:\\n    name=\"Shiva\"\\n    age=42\\n\\ndelattr(\"person\",\"name\")', '#delattr()\\n#deletes specified Attribute\\n# USeful for classes\\n\\nclass person:\\n    name=\"Shiva\"\\n    age=42\\n\\ndelattr(person,\"name\")', '#delattr()\\n#deletes specified Attribute\\n# USeful for classes\\n\\nclass person:\\n    name=\"Shiva\"\\n    age=42\\n\\ndelattr(person,\"name\")\\n\\nprint(person)', '#delattr()\\n#deletes specified Attribute\\n# USeful for classes\\n\\nclass person:\\n    name=\"Shiva\"\\n    age=42\\n\\ndelattr(person,\"name\")\\n\\nprint(person())', '#delattr()\\n#deletes specified Attribute\\n# USeful for classes\\n\\nclass person:\\n    name=\"Shiva\"\\n    age=42\\n\\ndelattr(person,\"name\")\\n\\nprint(person.age)', '#delattr()\\n#deletes specified Attribute\\n# USeful for classes\\n\\nclass person:\\n    name=\"Shiva\"\\n    age=42\\n\\ndelattr(person,\"name\")\\n\\nprint(person.age)\\nprint(person.name)', '#delattr()\\n#deletes specified Attribute\\n# USeful for classes\\n\\nclass person:\\n    name=\"Shiva\"\\n    age=42\\n\\nprint(person.age)\\nprint(person.name)  \\n\\ndelattr(person,\"name\")\\n\\nprint(person.age)\\nprint(person.name)  ', '#dict()\\n#Returns a dictionary\\n\\na={\"Name\",\"Age\"}\\nprint(dict(a))', '#dict()\\n#Returns a dictionary\\n\\na={\"Name\",\"Age\",\"City\"}\\nprint(dict(a))', '#dict()\\n#Returns a dictionary\\n\\na=(name=\"Shiva\",age=39,city=\"AP\")\\nprint(dict(a))', '#dict()\\n#Returns a dictionary\\n\\na=dict(name=\"Shiva\",age=39,city=\"AP\")\\nprint(a,type(a))', '#dict()\\n#Returns a dictionary\\n\\na=dict(name=\"Shiva\",age=39,city=\"AP\")\\nprint(a,type(a))\\n\\nb=[\"Shiva\",36,\"AP\"]\\ndict(b)', '#dict()\\n#Returns a dictionary\\n\\na=dict(name=\"Shiva\",age=39,city=\"AP\")\\nprint(a,type(a))\\n\\nname=\"SHiva\"\\nage=36\\ncity=\"AP\"\\n\\nc=dict(name,age,city)\\nprint(c)', '#dict()\\n#Returns a dictionary\\n\\na=dict(name=\"Shiva\",age=39,city=\"AP\")\\nprint(a,type(a))\\n\\ndef fun():\\n    name=\"SHiva\"\\n    age=36\\n    city=\"AP\"\\n\\nc=dict(fun())\\nprint(c)', '#dict()\\n#Returns a dictionary\\n\\na=dict(name=\"Shiva\",age=39,city=\"AP\")\\nprint(a,type(a))\\n\\ndef fun():\\n    name=\"SHiva\"\\n    age=36\\n    city=\"AP\"\\n\\nc=dict(fun)\\nprint(c)', '#dict()\\n#Returns a dictionary\\n\\na=dict(name=\"Shiva\",age=39,city=\"AP\")\\nprint(a,type(a))', '#dir()\\n\\n#Returns all properties of a class or method\\n\\nclass person:\\n    name=\"Shiva\"\\n    age=42\\n    city=\"VSP\"\\n\\n    def fn():\\n        popu=1245511\\n        country=\"India\"\\n\\nprint(dir(person))', '#dir()\\n\\n#Returns all properties of a class or method\\n\\nclass person:\\n    name=\"Shiva\"\\n    age=42\\n    city=\"VSP\"\\n\\n    def fn():\\n        popu=1245511\\n        country=\"India\"\\nobj=fn()\\n\\nprint(dir(person))\\nprint(dir(obj))', '#dir()\\n\\n#Returns all properties of a class or method\\n\\nclass person:\\n    name=\"Shiva\"\\n    age=42\\n    city=\"VSP\"\\n\\n    def fn():\\n        popu=1245511\\n        country=\"India\"\\nobj=fn()\\n\\nprint(dir(person))\\nprint(dir(obj))\\nprint(dir(fn))', '#dir()\\n\\n#Returns all properties of a class or method\\n\\nclass person:\\n    name=\"Shiva\"\\n    age=42\\n    city=\"VSP\"\\n\\n    def fn():\\n        popu=1245511\\n        country=\"India\"\\nobj=fn()\\n\\nprint(dir(person\\\\b))\\nprint(dir(obj))\\nprint(dir(fn))', '#dir()\\n\\n#Returns all properties of a class or method\\n\\nclass person:\\n    name=\"Shiva\"\\n    age=42\\n    city=\"VSP\"\\n\\n    def fn():\\n        popu=1245511\\n        country=\"India\"\\nobj=fn()\\n\\nprint(dir(person,\"\\\\b\"))\\nprint(dir(obj))\\nprint(dir(fn))', '#dir()\\n\\n#Returns all properties of a class or method\\n\\nclass person:\\n    name=\"Shiva\"\\n    age=42\\n    city=\"VSP\"\\n\\n    def fn():\\n        popu=1245511\\n        country=\"India\"\\nobj=fn()\\n\\nprint(dir(person),\\\\b)\\nprint(dir(obj))\\nprint(dir(fn))', '#dir()\\n\\n#Returns all properties of a class or method\\n\\nclass person:\\n    name=\"Shiva\"\\n    age=42\\n    city=\"VSP\"\\n\\n    def fn():\\n        popu=1245511\\n        country=\"India\"\\nobj=fn()\\n\\nprint(dir(person),\\'\\\\b\\')\\nprint(dir(obj))\\nprint(dir(fn))', '#dir()\\n\\n#Returns all properties of a class or method\\n\\nclass person:\\n    name=\"Shiva\"\\n    age=42\\n    city=\"VSP\"\\n\\n    def fn():\\n        popu=1245511\\n        country=\"India\"\\nobj=fn()\\n\\nprint(dir(person))\\nprint(dir(obj))\\nprint(dir(fn))', '#dir()\\n\\n#Returns all properties of a class or method\\n\\nclass person:\\n    name=\"Shiva\"\\n    age=42\\n    city=\"VSP\"\\n\\n    def fn():\\n        popu=1245511\\n        country=\"India\"\\nobj=fn()\\n\\nprint(dir(person))\\nprint(dir(obj))\\nprint(dir(fn))', '#divmod()\\n#display quotient and remainder\\n\\nprint(divmod(2,6))', '#divmod()\\n#display quotient and remainder\\n\\nprint(divmod(2,6))  #\\nprint(divmod(5,2))', 'x=(123,True,\"Hello\")\\nprint(enumerate(x))', 'x=(123,True,\"Hello\")\\ny=enumerate(x)', '#enumerate()\\n#Takes enumerate objects AND RETURNS to enumerate objects\\nx=(123,True,\"Hello\")\\ny=enumerate(x)\\nprint(y)\\nprint(type(x),type(y))', '#enumerate()\\n#Takes enumerate objects AND RETURNS to enumerate objects\\nx=(123,True,\"Hello\")\\ny=enumerate(x)\\nprint(y)\\nprint(y,2)\\nprint(type(x),type(y))', '#enumerate()\\n#Takes enumerate objects AND RETURNS to enumerate objects\\nx=(123,True,\"Hello\")\\ny=enumerate(x)\\nprint(list(y))\\nprint(list(y,2))\\nprint(type(x),type(y))', '#enumerate()\\n#Takes enumerate objects AND RETURNS to enumerate objects\\nx=(123,True,\"Hello\")\\ny=enumerate(x)\\nprint(list(y))\\nprint(list(y),2)\\nprint(type(x),type(y))', '#enumerate()\\n#Takes enumerate objects AND RETURNS to enumerate objects\\nx=(123,True,\"Hello\")\\ny=enumerate(x)\\nprint(list(y))\\nprint(list(y))\\nprint(type(x),type(y))', '#enumerate()\\n#Takes enumerate objects AND RETURNS to enumerate objects\\nx=(123,True,\"Hello\")\\ny=enumerate(x)\\nprint(list(y))\\n\\nprint(type(x),type(y))', '#enumerate()\\n#Takes enumerate objects AND RETURNS to enumerate objects\\nx=(123,True,\"Hello\")\\ny=enumerate(x)\\nprint(list(list(y)))\\n\\nprint(type(x),type(y))', '#enumerate()\\n#Takes enumerate objects AND RETURNS to enumerate objects\\nx=(123,True,\"Hello\")\\ny=enumerate(x)\\nprint(list(list(list(y))))\\n\\nprint(type(x),type(y))', '#enumerate()\\n#Takes enumerate objects AND RETURNS to enumerate objects\\nx=(123,True,\"Hello\")\\ny=enumerate(x)\\nprint(tup(list(list(list(y)))))\\n\\nprint(type(x),type(y))', '#enumerate()\\n#Takes enumerate objects AND RETURNS to enumerate objects\\nx=(123,True,\"Hello\")\\ny=enumerate(x)\\nprint(tuple(list(list(list(y)))))\\n\\nprint(type(x),type(y))', '#enumerate()\\n#Takes enumerate objects AND RETURNS to enumerate objects\\nx=(123,True,\"Hello\")\\ny=enumerate(x)\\nprint(y)\\n\\nprint(type(x),type(y))', '#enumerate()\\n#Takes enumerate objects AND RETURNS to enumerate objects\\n# It helpsus to convert one data type to another datatype\\nx=(123,True,\"Hello\")\\ny=enumerate(x)  #enumerated object\\nprint(y)\\nprint(type(x),type(y))\\na=list(y)\\nprint(a,type(a))', '#enumerate()\\n#Takes enumerate objects AND RETURNS to enumerate objects\\n# It helpsus to convert one data type to another datatype\\nx=(123,True,\"Hello\")\\ny=enumerate(x)  #enumerated object\\nprint(y)\\nprint(type(x),type(y))\\na=list(y) # \\nprint(a,type(a)) #print(list(y))   converted enumerated object to list\\n\\nprint(dict(y))', '#enumerate()\\n#Takes enumerate objects AND RETURNS to enumerate objects\\n# It helpsus to convert one data type to another datatype\\nx=(123,True,\"Hello\")\\ny=enumerate(x)  #enumerated object\\nprint(y)\\nprint(type(x),type(y))\\na=list(y) # \\nprint(a,type(a)) #converted enumerated object to list\\nprint(list(y))\\nprint(dict(y))', '#enumerate()\\n#Takes enumerate objects AND RETURNS to enumerate objects\\n# It helpsus to convert one data type to another datatype\\nx=(123,True,\"Hello\")\\ny=enumerate(x)  #enumerated object\\nprint(y)\\nprint(type(x),type(y))\\na=list(y) # \\nprint(a,type(a)) #converted enumerated object to list\\nprint(list(y))\\n\\nz=dict(y)\\nprint(z)', '#enumerate()\\n#Takes enumerate objects AND RETURNS to enumerate objects\\n# It helpsus to convert one data type to another datatype\\nx=(123,True,\"Hello\")\\ny=enumerate(x)  #enumerated object\\nprint(y)\\nprint(type(x),type(y))\\na=list(y) # \\nprint(a,type(a)) #converted enumerated object to list\\nprint(list(y))\\n\\nz=dict(y)\\nprint(z)\\nprint(dict(y))', '#enumerate()\\n#Takes enumerate objects AND RETURNS to enumerate objects\\n# It helpsus to convert one data type to another datatype\\nx=(123,True,\"Hello\")\\ny=enumerate(x)  #enumerated object\\nprint(y)\\nprint(type(x),type(y))\\na=list(y) # \\nprint(a,type(a)) #converted enumerated object to list\\nprint(list(y))\\n\\nz=dict(y)  #creates empty dictionary \\nprint(z)\\nprint(dict(y))\\n\\ndc={\"Name\":\"Shivas\",\"Age\":42,\"city\":\"VSP\"}\\nenume1=enumerate(dc)\\nprint(list(enume1))', '#enumerate()\\n#Takes enumerate objects AND RETURNS to enumerate objects\\n# It helpsus to convert one data type to another datatype\\nx=(123,True,\"Hello\")\\ny=enumerate(x)  #enumerated object\\nprint(y)\\nprint(type(x),type(y))\\na=list(y) # \\nprint(a,type(a)) #converted enumerated object to list\\nprint(list(y))\\n\\nz=dict(y)  #creates empty dictionary \\nprint(z)\\nprint(dict(y))\\n\\ndc={\"Name\":\"Shivas\",\"Age\":42,\"city\":\"VSP\"}\\nen1=enumerate(dc)\\nprint(list(en1))\\nprint(tuple(en1))\\nprint(str(en1))', '#enumerate()\\n#Takes enumerate objects AND RETURNS to enumerate objects\\n# It helpsus to convert one data type to another datatype\\nx=(123,True,\"Hello\")\\ny=enumerate(x)  #enumerated object\\nprint(y)\\nprint(type(x),type(y))\\na=list(y) # \\nprint(a,type(a)) #converted enumerated object to list\\nprint(list(y))\\n\\nz=dict(y)  #creates empty dictionary \\nprint(z)\\nprint(dict(y))\\n\\ndc={\"Name\":\"Shivas\",\"Age\":42,\"city\":\"VSP\"}\\nen1=enumerate(dc)\\nprint(list(en1))\\nprint(tuple(en1))\\nprint(str().en1)', '#enumerate()\\n#Takes enumerate objects AND RETURNS to enumerate objects\\n# It helpsus to convert one data type to another datatype\\nx=(123,True,\"Hello\")\\ny=enumerate(x)  #enumerated object\\nprint(y)\\nprint(type(x),type(y))\\na=list(y) # \\nprint(a,type(a)) #converted enumerated object to list\\nprint(list(y))\\n\\nz=dict(y)  #creates empty dictionary \\nprint(z)\\nprint(dict(y))\\n\\ndc={\"Name\":\"Shivas\",\"Age\":42,\"city\":\"VSP\"}\\nen1=enumerate(dc)\\nprint(list(en1))\\nprint(tuple(en1))\\nprint(str(en1))', '#enumerate()\\n#Takes enumerate objects AND RETURNS to enumerate objects\\n# It helpsus to convert one data type to another datatype\\nx=(123,True,\"Hello\")\\ny=enumerate(x)  #enumerated object\\nprint(y)\\nprint(type(x),type(y))\\na=list(y) # \\nprint(a,type(a)) #converted enumerated object to list\\nprint(list(y))\\n\\nz=dict(y)  #creates empty dictionary \\nprint(z)\\nprint(dict(y))\\n\\ndc={\"Name\":\"Shivas\",\"Age\":42,\"city\":\"VSP\"}\\nen1=enumerate(dc)\\nprint(list(en1))\\nprint(tuple(en1))\\nstr1=str(en1)\\nprint(str(en1))\\nprint(str1)  ', '#enumerate()\\n#Takes enumerate objects AND RETURNS to enumerate objects\\n# It helpsus to convert one data type to another datatype\\nx=(123,True,\"Hello\")\\ny=enumerate(x)  #enumerated object\\nprint(y)\\nprint(type(x),type(y))\\na=list(y) # \\nprint(a,type(a)) #converted enumerated object to list\\nprint(list(y))\\n\\nz=dict(y)  #creates empty dictionary \\nprint(z)\\nprint(dict(y))\\n\\ndc={\"Name\":\"Shivas\",\"Age\":42,\"city\":\"VSP\"}\\nen1=enumerate(dc)\\nen2=list(en1)\\nen3=tuple(en1)\\nstr1=str(en1)\\nprint(type(en2),en2)\\nprint(type(en3),en3)\\nprint(type(str1),str1)  ', '#eval()\\n#evaluate a function\\n\\na=eval(((55+26)**2)*2)\\nprint(a)', '#eval()\\n#evaluate a function\\n\\na=((55+26)**2)*2\\nprint(eval(a))', '#eval()\\n#evaluate a function\\n\\na=((55+26)**2)*2\\neval(a)', '#eval()\\n#evaluate a function\\n\\na=55+26**2*2\\neval(a)', '#eval()\\n#evaluate a function\\n\\na=55+26\\neval(a)', '#eval()\\n#evaluate a function\\n\\na=eval(((55+26)**2)*2)', '#eval()\\n#evaluate a function\\n\\na=((55+26)**2)*2\\nprint(eval(a))', '#eval()\\n#evaluate a function\\n\\na=eval(print(\"Hello\"))\\nprint(a)', '#eval()\\n#evaluate a function\\n\\na=print(\"Hello\")\\nprint9eval(a)', '#eval()\\n#evaluate a function\\n\\na=print(\"Hello\")\\nprint(eval(a))', '#eval()\\n#evaluate a function\\n\\na=print(\"Hello\")\\neval(a)', '#eval()\\n#evaluate a function\\n\\na=\\'print(\"Hello\")\\'\\neval(a)', '#eval()\\n#evaluate a function\\n\\na=\\'print(\"Hello\")\\'\\neval(a)\\n\\nb=\\'(((22+56)**2)*2)\\'\\neval(b)', '# maketrans(a,b,c)\\n\"\"\" Here a is first parameter\\n    b is replaceable parameters\\n    c is removable parameters\\n\"\"\"\\ntext = \"Welcome Ram\"\\n\\na = \"amR\"\\nb = \"oeN\"\\nc = \"coe\"\\n\\ntext1 = str.maketrans(a,b,c)\\nprint(text1)\\nprint(chr(text1))\\nprint(type(text1))\\n\\nfinal=  text.translate(text1)   # finally replace \"a\"\"m\"\"R\" with \"o\"\"e\"\"N\" and then removes \"c\"\"o\"\"e\" where ever exists\\nprint(final)', '# maketrans(a,b,c)\\n\"\"\" Here a is first parameter\\n    b is replaceable parameters\\n    c is removable parameters\\n\"\"\"\\ntext = \"Welcome Ram\"\\n\\na = \"amR\"\\nb = \"oeN\"\\nc = \"coe\"\\n\\ntext1 = str.maketrans(a,b,c)\\nprint(text1)\\n\\nprint(type(text1))\\n\\nfinal=  text.translate(text1)   # finally replace \"a\"\"m\"\"R\" with \"o\"\"e\"\"N\" and then removes \"c\"\"o\"\"e\" where ever exists\\nprint(final)', '# maketrans(a,b,c)\\n\"\"\" Here a is first parameter\\n    b is replaceable parameters\\n    c is removable parameters\\n\"\"\"\\ntext = \"Welcome Ram\"\\n\\na = \"amR\"\\nb = \"oeN\"\\nc = \"coe\"\\n\\ntext1 = str.maketrans(a,b,c)\\nprint(text1)\\nprint(ord(text1))\\n\\nprint(type(text1))\\n\\nfinal=  text.translate(text1)   # finally replace \"a\"\"m\"\"R\" with \"o\"\"e\"\"N\" and then removes \"c\"\"o\"\"e\" where ever exists\\nprint(final)', '# maketrans(a,b,c)\\n\"\"\" Here a is first parameter\\n    b is replaceable parameters\\n    c is removable parameters\\n\"\"\"\\ntext = \"Welcome Ram\"\\n\\na = \"amR\"\\nb = \"oeN\"\\nc = \"coe\"\\n\\ntext1 = str.maketrans(a,b,c)\\nprint(text1)\\n\\n\\nprint(type(text1))\\n\\nfinal=  text.translate(text1)   # finally replace \"a\"\"m\"\"R\" with \"o\"\"e\"\"N\" and then removes \"c\"\"o\"\"e\" where ever exists\\nprint(final)', '#exec()\\n#exec specified  code\\n\\nobj=\\'print(\"Hello),125\\'\\n\\nexec(obj)', '#exec()\\n#exec specified  code\\n\\nobj=\\'(print(\"Hello),125)\\'\\n\\nexec(obj)', '#exec()\\n#exec specified  code\\n\\nobj=\\'name=\"Shiva\",print(name)\\'\\n\\nexec(obj)', '#exec()\\n#exec specified  code\\n\\nobj=\\'name=\"Shiva\",print(name)\\'\\n\\nexec(obj)\\n\\n\\ndef func():\\n    print(\"Welcome to pythonThe most popular language \")\\n\\nobj=func()\\nexec(obj)', '#exec()\\n#exec specified  code\\n\\nobj=\\'name=\"Shiva\",print(name)\\'\\n\\nexec(obj)\\n\\n\\ndef func():\\n    print(\"Welcome to pythonThe most popular language \")\\n\\nobj1=func()\\nexec(obj1)', '#exec()\\n#exec specified  code\\n\\nobj=\\'name=\"Shiva\",print(name)\\'\\n\\nexec(obj)\\n\\ndef func():\\n    print(\"Welcome to pythonThe most popular language \")\\n\\nobj1=func()\\nexec(obj1)', '#exec()\\n#exec specified  code\\n\\nobj=\\'name=\"Shiva\",print(name)\\'\\n\\nexec(obj)\\n\\ndef func():\\n    print(\"Welcome to pythonThe most popular language \")\\n\\nobj1=func()\\nexec(func())', '#exec()\\n#exec specified  code\\n\\nobj=\\'name=\"Shiva\",print(name)\\'\\n\\nexec(obj)\\n\\ndef func():\\n    print(\"Welcome to pythonThe most popular language \")\\n\\nobj1=func()\\nexec(\"func()\")', '#exec()\\n#exec specified  code\\n\\nobj=\\'name=\"Shiva\",print(name)\\'\\n\\nexec(obj)\\n\\ndef func():\\n    print(\"Welcome to pythonThe most popular language \")\\n\\nobj1=func()\\nexec(\"func()\")\\nexec(\"obj1\")', '#exec()\\n#exec specified  code\\n\\nobj=\\'name=\"Shiva\",print(name)\\'\\n\\nexec(obj)\\n\\ndef func():\\n    print(\"Welcome to pythonThe most popular language \")\\n\\nobj1=func()\\n#exec(\"func()\")\\nexec(\"obj1\")', '#exec()\\n#exec specified  code\\n\\nobj=\\'name=\"Shiva\",print(name)\\'\\n\\nexec(obj)\\n\\ndef func():\\n    print(\"Welcome to pythonThe most popular language \")\\n\\nobj1=func()\\nexec(\"func()\")\\nexec(\"obj1\")', '#exec()\\n#exec specified  code\\n\\nobj=\\'name=\"Shiva\",print(name)\\'\\n\\nexec(\"obj\")\\n\\ndef func():\\n    print(\"Welcome to pythonThe most popular language \")\\n\\nobj1=func()\\nexec(\"func()\")\\nexec(\"obj1\")', '#exec()\\n#exec specified  code\\n\\nobj=\\'name=\"Shiva\",print(name)\\'\\n\\nexec(\"obj\")\\n\\ndef func():\\n    print(\"Welcome to pythonThe most popular language \")\\n\\nobj1=func()\\nexec(\"func()\")\\nexec(\"obj1\")', '#exec()\\n#exec specified  code\\n\\nobj=\\'name=\"Shiva\",print(name)\\'\\n\\nexec(obj)\\n\\ndef func():\\n    print(\"Welcome to pythonThe most popular language \")\\n\\nobj1=func()\\nexec(\"func()\")\\nexec(\"obj1\")', '#exec()\\n#exec specified  code\\n\\nobj=\\'name=\"Shiva\",print(name)\\'\\n\\nexec(obj)\\n\\ndef func():\\n    print(\"Welcome to pythonThe most popular language \")\\n\\nobj1=func()\\n#exec(\"func()\")\\nexec(\"obj1\")', '#exec()\\n#exec specified  code\\n\\nobj=\\'name=\"Shiva\",print(name)\\'\\n\\nexec(obj)\\n\\ndef func():\\n    print(\"Welcome to pythonThe most popular language \")\\n\\nobj1=func()\\n#exec(\"func()\")\\nexec(obj1)', '#exec()\\n#exec specified  code\\n\\nobj=\\'name=\"Shiva\",print(name)\\'\\n\\nexec(obj)\\n\\ndef func():\\n    print(\"Welcome to pythonThe most popular language \")\\n\\nobj1=func()\\n#exec(\"func()\")\\nexec(\"obj1\")', '#filter()\\n#filters the given value\\n\\nflt=[18,15,12,1,15,18,18]\\n\\nfilter(flt)', '#filter()\\n#filters the given value\\n\\nflt=[18,15,12,1,15,18,18]\\n\\nfilter(flt,18)', '#filter()\\n#filters the given value\\n\\nflt=[18,15,12,1,15,18,18]\\n\\nprint(x in flt, if filter(flt,18) <18)', '#filter()\\n#filters the given value\\n\\nflt=[18,15,12,1,15,18,18]\\n\\nprint(x in flt, if filter(flt,18))', '#filter()\\n#filters the given value\\n\\nflt=[18,15,12,1,15,18,18]\\n\\nprint(x in flt, filter(flt,18))', '#filter()\\n#filters the given value\\n\\nnum=[15,14,99,77,24,18,15,12,1,15,18,18]\\n\\ndef even(numbers):\\n    if numb % 2 ==0:\\n        return numb\\n\\n    else:\\n        pass\\n\\nobj=even(num)\\nprint(obj)', '#filter()\\n#filters the given value\\n\\nnum=[15,14,99,77,24,18,15,12,1,15,18,18]\\n\\ndef even(numbers):\\n    numb=numbers\\n    if numb % 2 ==0:\\n        return numb\\n\\n    else:\\n        pass\\n\\nobj=even(num)\\nprint(obj)', '#filter()\\n#filters the given value\\n\\nnum=[15,14,99,77,24,18,15,12,1,15,18,18]\\n\\ndef even(numbers):\\n    numb=numbers\\n    if numb % 2 == 0:\\n        return numb\\n\\n    else:\\n        pass\\n\\nobj=filtered(even,num)\\n\\nprint(obj)', '#filter()\\n#filters the given value\\n\\nnum=[15,14,99,77,24,18,15,12,1,15,18,18]\\n\\ndef even(numbers):\\n    numb=numbers\\n    if numb % 2 == 0:\\n        return numb\\n\\n    else:\\n        pass\\n\\nobj=filter(even,num)\\n\\nprint(obj)', '#filter()\\n#filters the given value\\n\\nnum=[15,14,99,77,24,18,15,12,1,15,18,18]\\n\\ndef even(numbers):\\n    numb=numbers\\n    if numb % 2 == 0:\\n        numb += 1\\n        return numb\\n\\n    else:\\n        pass\\n\\nobj=filter(even,num)\\n\\nprint(obj)', '#filter()\\n#filters the given value\\n\\nnum=[15,14,99,77,24,18,15,12,1,15,18,18]\\n\\ndef even(numbers):\\n    numb=numbers\\n    if numb % 2 == 0:\\n       \\n        return numb\\n\\n    else:\\n        pass\\n\\nobj=filter(even,num)\\n\\nprint(list(obj))', '#float()\\n#Returns floating point number\\n\\na=[1,2,54,4,7]\\nprint(float(a))', '#float()\\n#Returns floating point number\\n\\na=1,2,54,4,7\\nprint(float(a))', '#float()\\n#Returns floating point number\\n\\na=54\\nprint(float(a))', '#format()\\n#formats to specified format number,string,% etcc\\n\\na=format(2,\"%\")', '#format()\\n#formats to specified format number,string,% etcc\\n\\na=format(2,\"%\")\\nb=format(22,\"s\")', '#format()\\n#formats to specified format number,string,% etcc\\n\\na=format(2,\"%\")\\nb=format(22,\"n\")', 'print(a,b)', '#format()\\n#formats to specified format number,string,% etcc\\n\\na=format(2,\"%\")\\nb=format(22,\"n\")\\nc=format(22,\"c\")', '#format()\\n#formats to specified format number,string,% etcc\\n\\na=format(2,\"%\")\\nb=format(22,\"n\")\\nc=format(22,\"c\")\\nd=format(\"Hello\",\"e\")\\ne=format(\"hi\",\"F\")\\n\\nprint(a,b,c,d,e)', '#format()\\n#formats to specified format number,string,% etcc\\n\\na=format(2,\"%\")\\nb=format(22,\"n\")\\nc=format(22,\"c\")\\nd=format(\"Hello\",\"E\")\\ne=format(\"hi\",\"F\")\\n\\nprint(a,b,c,d,e)', '#format()\\n#formats to specified format number,string,% etcc\\n\\na=format(2,\"%\")\\nb=format(22,\"n\")\\nc=format(22,\"c\")\\nd=format(\"Hello\",\"n\")\\ne=format(\"hi\",\"F\")\\n\\nprint(a,b,c,d,e)', '#format()\\n#formats to specified format number,string,% etcc\\n\\na=format(2,\"%\")\\nb=format(22,\"n\")\\nc=format(22,\"c\")\\nd=format(343,\"e\")\\ne=format(\"hi\",\"F\")\\n\\nprint(a,b,c,d,e)', '#format()\\n#formats to specified format number,string,% etcc\\n\\na=format(2,\"%\")\\nb=format(22,\"n\")\\nc=format(22,\"c\")\\nd=format(343,\"e\")\\ne=format(44,\"F\")\\n\\nprint(a,b,c,d,e)', '#format()\\n#formats to specified format number,string,% etcc\\n\\na=format(2,\"%\")\\nb=format(22,\"n\")\\nc=format(22,\"c\")\\nd=format(343,\"e\")\\ne=format(44,\"F\")\\n\\nprint(a,b,c,d,e)', '#format()\\n#formats to specified format number,string,% etcc\\n\\na=format(2,\"%\")\\nb=format(22,\"n\")\\nc=format(98,\"c\")\\nd=format(343,\"e\")\\ne=format(44,\"F\")\\n\\nprint(a,b,c,d,e)', \"#frozenset()\\n#freezes the data type make it unchangeable\\n\\nl1=['Shiva','karthkeyaa','Nandhini']\\nt1=(1,2,3,3,2)\\na=frozenset(l1)\\nb=frozenset(t1)\\n\\nprint(type(l1),l1,\\\\ntype(t1),t1)\", \"#frozenset()\\n#freezes the data type make it unchangeable\\n\\nl1=['Shiva','karthkeyaa','Nandhini']\\nt1=(1,2,3,3,2)\\na=frozenset(l1)\\nb=frozenset(t1)\\n\\nprint(type(l1),l1,'\\\\n',type(t1),t1)\", '#getattr()\\n\\n#Returns the value of sepcified object\\n\\nl1=[1,2,3]\\ngetattr(l1)', '#getattr()\\n\\n#Returns the value of sepcified attribute of mentioned object\\n\\ndef fun():\\n    dct={\"Name\":\"Shivaprrasad\", \\'Age\\':30, \"city\":\"VSP\"}\\ngetattr(fun,city)', '#getattr()\\n\\n#Returns the value of sepcified attribute of mentioned object\\n\\ndef fun():\\n    dct={\"Name\":\"Shivaprrasad\", \\'Age\\':30, \"city\":\"VSP\"}\\ngetattr(fun,\"city\")', '#getattr()\\n\\n#Returns the value of sepcified attribute of mentioned object\\n\\ndef fun():\\n    dct={\"Name\":\"Shivaprrasad\", \\'Age\\':30, \"city\":\"VSP\"}\\n\\nx=getattr(fun,\"city\")', '#getattr()\\n\\n#Returns the value of sepcified attribute of mentioned object\\n\\ndef fun():\\n    dct={\"Name\":\"Shivaprrasad\", \\'Age\\':30, \"city\":\"VSP\"}\\n\\nx=getattr(fun,dct[\"city\"])', '#getattr()\\n\\n#Returns the value of sepcified attribute of mentioned object\\n\\ndef fun():\\n    dct={\"Name\":\"Shivaprrasad\", \\'Age\\':30, \"city\":\"VSP\"}\\n\\nx=getattr(fun,dct(\"city\"))', '#getattr()\\n\\n#Returns the value of sepcified attribute of mentioned object\\n\\ndef fun():\\n    dct={\"Name\":\"Shivaprrasad\", \\'Age\\':30, \"city\":\"VSP\"}\\n\\nx=getattr(fun,dct.value(\"city\"))', '#getattr()\\n\\n#Returns the value of sepcified attribute of mentioned object\\n\\ndef fun():\\n    dct={\"Name\":\"Shivaprrasad\", \\'Age\\':30, \"city\":\"VSP\"}\\n\\nx=getattr(fun(),dct.value(\"city\"))', '#getattr()\\n\\n#Returns the value of sepcified attribute of mentioned object\\n\\ndef fun():\\n    dct={\"Name\":\"Shivaprrasad\", \\'Age\\':30, \"city\":\"VSP\"}\\n\\nx=getattr(fun(),\\'city\\')', '#getattr()\\n\\n#Returns the value of sepcified attribute of mentioned object\\n\\ndef fun():\\n    dct={\"Name\":\"Shivaprrasad\", \\'Age\\':30, \"city\":\"VSP\"}\\n    return dct[\\'city\\']\\n\\nx=getattr(fun(),\\'city\\')', '#getattr()\\n\\n#Returns the value of sepcified attribute of mentioned object\\n\\ndef fun():\\n    dct={\"Name\":\"Shivaprrasad\", \\'Age\\':30, \"city\":\"VSP\"}\\n    return dct[\\'city\\']\\n\\nx=getattr(fun(),\\'city\\',None)', '#getattr()\\n\\n#Returns the value of sepcified attribute of mentioned object\\n\\ndef fun():\\n    dct={\"Name\":\"Shivaprrasad\", \\'Age\\':30, \"city\":\"VSP\"}\\n    return dct[\\'city\\']\\n\\nx=getattr(fun(),\\'cityr\\',None)', '#getattr()\\n\\n#Returns the value of sepcified attribute of mentioned object\\n\\ndef fun():\\n    dct={\"Name\":\"Shivaprrasad\", \\'Age\\':30, \"city\":\"VSP\"}\\n    return dct[\\'city\\']\\n\\nx=getattr(fun(),\\'cityr\\',None)\\nprint(x)', '#getattr()\\n\\n#Returns the value of sepcified attribute of mentioned object\\n\\ndef fun():\\n    dct={\"Name\":\"Shivaprrasad\", \\'Age\\':30, \"city\":\"VSP\"}\\n    return dct[\\'city\\']\\n\\nx=getattr(fun(),\\'city\\',None)\\nprint(x)', '#getattr()\\n\\n#Returns the value of sepcified attribute of mentioned object\\n\\ndef fun():\\n    dct={\"Name\":\"Shivaprrasad\", \\'Age\\':30, \"city\":\"VSP\"}\\n    return dct[\\'city\\']\\n\\nx=getattr(fun(),\\'city\\',None)\\nprint(x)', '#getattr()\\n\\n#Returns the value of sepcified attribute of mentioned object\\n\\ndef fun():\\n    dct={\"Name\":\"Shivaprrasad\", \\'Age\\':30, \"city\":\"VSP\"}\\n    return dct[\\'city\\']\\n\\nx=getattr(fun(),\\'VSP\\',None)\\nprint(x)', '#getattr()\\n\\n#Returns the value of sepcified attribute of mentioned object\\n\\ndef fun():\\n    dct={\"Name\":\"Shivaprrasad\", \\'Age\\':30, \"city\":\"VSP\"}\\n   # return dct[\\'city\\']\\n\\nx=getattr(fun(),\\'VSP\\',None)\\nprint(x)', '#getattr()\\n\\n#Returns the value of sepcified attribute of mentioned object\\n\\ndef fun():\\n    dct={\"Name\":\"Shivaprrasad\", \\'Age\\':30, \"city\":\"VSP\"}\\n   # return dct[\\'city\\']\\n\\nx=getattr(fun(),\\'Name\\',None)\\nprint(x)', '#getattr()\\n\\n#Returns the value of sepcified attribute of mentioned object\\n\\ndef fun():\\n    dct={\"Name\":\"Shivaprrasad\", \\'Age\\':30, \"city\":\"VSP\"}\\n   # return dct[\\'city\\']\\n\\nx=getattr(fun(),dct[\\'Name\\'],None)\\nprint(x)', '#getattr()\\n\\n#Returns the value of sepcified attribute of mentioned object\\n\\ndef fun():\\n    dct={\"Name\":\"Shivaprrasad\", \\'Age\\':30, \"city\":\"VSP\"}\\n   # return dct[\\'city\\']\\n\\nx=getattr(fun(),\\'city\\')\\nprint(x)', '#getattr()\\n\\n#Returns the value of sepcified attribute of mentioned object\\n\\ndef fun():\\n    dct={\"Name\":\"Shivaprrasad\", \\'Age\\':30, \"city\":\"VSP\"}\\n    return dct[\\'city\\']\\n\\nx=getattr(fun(),\\'city\\')\\nprint(x)', '#getattr()\\n\\n#Returns the value of sepcified attribute of mentioned object\\n\\ndef fun():\\n    dct = {\"Name\": \"Shivaprrasad\", \\'Age\\': 30, \"city\": \"VSP\"}\\n    return dct[\"city\"]\\n\\nx = getattr(fun(), \"city\", None)\\nprint(x)', '#getattr()\\n\\n#Returns the value of sepcified attribute of mentioned object\\n\\ndef fun():\\n    dct = {\"Name\": \"Shivaprrasad\", \\'Age\\': 30, \"city\": \"VSP\"}\\n    return dct[\"city\"]\\n\\nobj=fun()\\nx = obj.getattr(fun(), \"city\", None)\\nprint(x)', '#getattr()\\n\\n#Returns the value of sepcified attribute of mentioned object\\n\\ndef fun():\\n    dct = {\"Name\": \"Shivaprrasad\", \\'Age\\': 30, \"city\": \"VSP\"}\\n    return dct[\"city\"]\\n\\nobj=fun()\\nx = obj.getattr(fun, \"city\", None)\\nprint(x)', '#getattr()\\n\\n#Returns the value of sepcified attribute of mentioned object\\n\\ndef fun():\\n    dct = {\"Name\": \"Shivaprrasad\", \\'Age\\': 30, \"city\": \"VSP\"}\\n    return dct[\"city\"]\\n\\nobj=fun()\\nx = obj.getattr(fun(), dct[\"city\"], None)\\nprint(x)', '#getattr()\\n\\n#Returns the value of sepcified attribute of mentioned object\\n\\ndef fun():\\n    dct = {\"Name\": \"Shivaprrasad\", \\'Age\\': 30, \"city\": \"VSP\"}\\n    return dct[\"city\"]\\n\\nobj=fun()\\nx = obj.getattr(fun(), dct[\"city\"], None)\\nprint(x)', '#getattr()\\n\\n#Returns the value of sepcified attribute of mentioned object\\n\\ndef fun():\\n    dct = {\"Name\": \"Shivaprrasad\", \\'Age\\': 30, \"city\": \"VSP\"}\\n    return dct[\"city\"]\\n\\n\\nx = getattr(fun(), dct[\"city\"], None)\\nprint(x)', '#getattr()\\n\\n#Returns the value of sepcified attribute of mentioned object\\n\\ndef fun():\\n    dct = {\"Name\": \"Shivaprrasad\", \\'Age\\': 30, \"city\": \"VSP\"}\\n    return dct[\"city\"]\\n\\n\\nx = getattr(fun(), \"city\", None)\\nprint(x)', '#global()\\n#Returns global suymbol table. A symbol table is current informtion of program\\n\\nx=global()\\nprint(x)', '#globals()\\n#Returns global suymbol table. A symbol table is current informtion of program\\n\\nx=globals()\\nprint(x)', '#globals()\\n#Returns global suymbol table. A symbol table is current informtion of program\\n\\nx=globals()\\nprint(x)\\n\\nprint(globals(__init__))', '#globals()\\n#Returns global suymbol table. A symbol table is current informtion of program\\n\\nx=globals()\\nprint(x)\\n\\nprint(globals(__init__()))', '#globals()\\n#Returns global suymbol table. A symbol table is current informtion of program\\n\\nx=globals()\\nprint(x)\\n\\nprint(x[\"__file__\"])', '#globals()\\n#Returns global suymbol table. A symbol table is current informtion of program\\n\\nx=globals()\\nprint(x)\\n\\nprint(x[\"__file__\"])', '#globals()\\n#Returns global suymbol table. A symbol table is current informtion of program\\n\\nx=globals()\\nprint(x)\\nprint(x[\"__file__\"])', '#globals()\\n#Returns global suymbol table. A symbol table is current informtion of program\\n\\nx=globals()\\nprint(x)\\nprint(x[\"__init__\"])', '#globals()\\n#Returns global suymbol table. A symbol table is current informtion of program\\n\\nx=globals()\\nprint(x)\\nprint(x[\"__name__\"])', '#globals()\\n#Returns global suymbol table. A symbol table is current informtion of program\\n\\nx=globals()\\nprint(x)\\nprint(x[\"__name__\"])\\nprint(x[\"__doc__\"])'], '_oh': {136: 12168}, '_dh': ['/content'], 'In': ['', '#abs()  Returns Absolute Value of number\\n\\nx=abs(2.22)\\nprint(x)', '#abs()  Returns Absolute Value of number\\n\\nx=abs(2.22)\\ny=abs(-4.55)\\nprint(x,y)', '#abs()  Returns Absolute Value of number\\n\\nx=abs(2.22)\\ny=abs(-4.55)\\nprint(x,\" \",y)', '#all() Returns if all items are true\\n\\na=[True,True,1]\\nb={True,1,0}\\nc=(True,1,1)\\nd={False,0,0,False}\\n\\nprint(a.all())', '#all() Returns if all items are true\\n\\na=[True,True,1]\\nb={True,1,0}\\nc=(True,1,1)\\nd={False,0,0,False}\\n\\na.all()', '#all() Returns if all items are true\\n\\nl=[True,True,1]\\ns={True,1,0}\\nt=(True,1,1)\\ns={False,0,0,False}\\n\\na=all(l)', '#all() Returns if all items are true\\n\\nl=[True,True,1]\\ns={True,1,0}\\nt=(True,1,1)\\ns={False,0,0,False}\\n\\nprint(all(l))', '#all() Returns if all items are true\\n\\nl=[True,True,1]\\ns={True,1,0}\\nt=(True,1,1)\\ns={False,0,0,False}\\n\\nprint(all(l))\\nprint(all(s))\\nprint(all(t))\\nprint(all(s))', '#any() if any item is true\\n\\nl=[True,0,False]\\nx=any(l)', '#any() if any item is true\\n\\nl=[True,0,False]\\nprint(any(l))', '#Ascii()   Returns readable version of any character\\n\\nl=\"hello /,.\"\\nprint(ascii(l))', '#Ascii()   Returns readable version of any character\\n# replaces non ascii characters with escape\\n\\nl=\"hello ~!/,.\"\\nprint(ascii(l))', '#Ascii()   Returns readable version of any character\\n# replaces non ascii characters with escape\\n\\nl=\"hello ®~!/,.\"\\nprint(ascii(l))', '#bin() Returns binary version of number\\n\\nx=\"Hello\"\\nprint(bin(x))', '#bin() Returns binary version of number\\n\\nx=2458\\nprint(bin(x))', '#bin() Returns binary version of number\\n\\nx=2458\\nprint(bin(x))\\n\\ny=\"Hello\"\\nprint(bin(y))', '#bool()  Returns boolean Value\\n# by default it retirns true if object is not empty\\n\\na=\"Hello\"\\nl=[a,33,0]\\nt=()\\ns={()}\\n\\nprint(bool(a))\\nprint(bool(l))\\nprint(bool(t))\\nprint(bool(s))', '#bool()  Returns boolean Value\\n# by default it retirns true if object is not empty\\n\\na=\"Hello\"\\nl=[a,33,0]\\nt=()\\ns={()}  # Here object is not empty.. returns True\\nz={}\\n\\nprint(bool(a))\\nprint(bool(l))\\nprint(bool(t))\\nprint(bool(s))\\npritn(bool(z))', '#bool()  Returns boolean Value\\n# by default it retirns true if object is not empty\\n\\na=\"Hello\"\\nl=[a,33,0]\\nt=()\\ns={()}  # Here object is not empty.. returns True\\nz={}\\n\\nprint(bool(a))\\nprint(bool(l))\\nprint(bool(t))\\nprint(bool(s))\\nprint(bool(z))', '#bytearray()\\n# Returns bytearray of any object\\n\\nx=\"hello\"\\nprint(bytearray(x))', '#bytearray()\\n# Returns bytearray of any object\\n\\nx=6\\nprint(bytearray(x))', '#bytes()\\n#Returns bytes object\\n\\nprint(bytes(4))', '#bytes()\\n#Returns bytes object\\n\\nprint(bytes(4))\\n\\na=Hello\\nprint(bytes(a))', \"#bytes()\\n#Returns bytes object\\n\\nprint(bytes(4))\\n\\na='Hello'\\nprint(bytes(a))\", '#bytes()\\n#Returns bytes object\\n\\nprint(bytes(4))\\n\\na=366\\nb=\"Hello\"\\nprint(bytes(a,b))', '#bytes()\\n#Returns bytes object\\n\\nprint(bytes(4))\\n\\na=366\\nb=\"Hello\"\\nprint(bytes(a))', '#bytes()\\n#Returns bytes object\\n\\nprint(bytes(4))\\n\\na=36\\nb=\"Hello\"\\nprint(bytes(a))', '# callable()\\n# If object is callable returns true\\n\\nx=5\\n\\ndef fn():\\n    a=6\\n    print(a)\\n\\nobj=fn()\\n\\nprint(callable(x))\\nprint(callable(a))\\nprint(callable(obj))', '# callable()\\n# If object is callable returns true\\n\\nx=5\\n\\ndef fn():\\n    a=6\\n    print(a)\\n\\nobj=fn()\\n\\nprint(callable(x))\\nprint(callable(a))\\nprint(callable(obj))\\nprint(callable(fn))', '# callable()\\n# If object is callable returns true\\n\\nx=5\\n\\ndef fn():\\n    a=6\\n   \\n\\nobj=fn()\\n\\nprint(callable(x))  \\nprint(callable(a))\\nprint(callable(obj))\\nprint(callable(fn))', '#chr()\\n# Returns a character from Unicode UNICode\\n\\nx=98\\nprint(chr(x))', '#ord()\\n# Returns unicode of a charater\\n\\nx=98\\nprint(ord(x))', '#ord()\\n# Returns unicode of a charater\\n\\nx=98\\nprint(x.ord())', '#ord()\\n# Returns unicode of a charater\\n\\nx=98\\nprint(ord(x))', '#ord()\\n# Returns unicode of a charater\\n\\nx=\"b\"\\nprint(ord(x))', '#chr()\\n# Returns a character from Unicode UNICode\\n\\nx=98\\nprint(chr(x))\\nprint(chr(98))', '#ord()\\n# Returns unicode of a charater\\n\\nx=\"b\"\\nprint(ord(x))\\nprint(ord(\"b\"))', '# classmethod()\\n# Converts a method into class method\\n\\ndef fn():\\n    print(\"Hello\")\\n\\ncls_m=fn.classmethod()', '# classmethod()\\n# Converts a method into class method\\n\\ndef fn():\\n    print(\"Hello\")\\n\\ncls_m=classmethod(fn)', '# classmethod()\\n# Converts a method into class method\\n\\ndef fn():\\n    print(\"Hello\")\\n\\ncls_m=classmethod(fn)\\nprint9type(cls_m)', '# classmethod()\\n# Converts a method into class method\\n\\ndef fn():\\n    print(\"Hello\")\\n\\ncls_m=classmethod(fn)\\nprint(type(cls_m))', '# classmethod()\\n# Converts a method into class method\\n\\ndef fn():\\n    print(\"Hello\")\\n\\ncls_m=classmethod(fn)\\nprint(type(cls_m))\\nprint(type(fn))', '#compile()\\n#compiles more than one statement\\n\\nx=(\"Test\",True,12,\"Pass\")\\nprint(compile(x))', '#compile()\\n#compiles more than one statement\\n\\nx=compile(print(\"test\"),\" \",print(True),\" \",print(1254))', '#compile()\\n#compiles more than one statement\\n\\nx=compile(print(\"test\"),\" \",print(True),\" \",print(1254))\\nexec(x)', '#compile()\\n#compiles more than one statement\\n\\nx=compile(print(\"test\"),\" \\\\n\",print(True),\"\\\\n\",print(1254))\\nexec(x)', '#compile()\\n#compiles more than one statement\\n\\nx=compile(print(\"test\"),\"\\\\n\",print(True),\"\\\\n\",print(1254))\\nexec(x)', '#compile()\\n#compiles more than one statement\\n\\nx=compile(print(\"test\"),\\\\n,print(True),\\\\n,print(1254))\\nexec(x)', '#compile()\\n#compiles more than one statement\\n\\nx=compile(print(\"test\"),\\\\nprint(True),\\\\nprint(1254))\\nexec(x)', '#compile()\\n#compiles more than one statement\\n\\nx=compile(print(\"test\"),\\\\n print(True),\\\\nprint(1254))\\nexec(x)', '#compile()\\n#compiles more than one statement\\n\\nx=compile(print(\"test\"),\\\\nprint(True),\\\\nprint(1254))\\nexec(x)', '#compile()\\n#compiles more than one statement\\n\\nx=compile(\"print(\"test\")\",\"\\\\nprint(True)\",\\'\\\\nprint(1254)\\')\\nexec(x)', '#compile()\\n#compiles more than one statement\\n\\nx=compile(\"print(test)\",\"\\\\nprint(True)\",\\'\\\\nprint(1254)\\')\\nexec(x)', '#compile()\\n#compiles more than one statement\\n\\nx=compile(\"print(25)\",\"\\\\nprint(True)\",\\'\\\\nprint(1254)\\')\\nexec(x)', '#compile()\\n#compiles more than one statement\\n\\nx=compile(\"print(25)\",\\'print(1254)\\')\\nexec(x)', '#compile()\\n#compiles more than one statement\\n\\nx=compile(\"print(25)\",\"print(1254)\")\\nexec(x)', '#compile()\\n#compiles more than one statement\\n\\nx=compile(print(25),print(1254))\\nexec(x)', \"#compile()\\n#compiles more than one statement\\n\\nx=compile(p'rint(25)','print(1254)')\\nexec(x)\", \"#compile()\\n#compiles more than one statement\\n\\nx=compile('print(25)','print(1254)')\\nexec(x)\", \"#compile()\\n#compiles more than one statement\\n\\nx=compile('print(25)')\\nexec(x)\", '#compile()\\n#compiles more than one statement\\n\\nx=compile(print(25))\\nexec(x)', \"#compile()\\n#compiles more than one statement\\n\\nx = compile('print(55)\\\\nprint(88)', 'test', 'exec')\\nexec(x)\", \"#compile()\\n#compiles more than one statement\\n\\nx = compile('print('Hello')\\\\nprint(88)', 'test', 'exec')\\nexec(x)\", '#compile()\\n#compiles more than one statement\\n\\nx = compile(\\'print(\"Hello\")\\\\nprint(88)\\', \\'test\\', \\'exec\\')\\nexec(x)', '#compile()\\n#compiles more than one statement\\n\\nx = compile(\\'print(\"Hello\")\\\\nprint(88)\\', \\'test\\')\\nexec(x)', '#compile()\\n#compiles more than one statement\\n\\nx = compile(\\'print(\"Hello\")\\\\nprint(88)\\', \\'test\\',\\'exec\\')\\nexec(x)', '#complex()\\n#Returns complex number\\n\\nx=complex(3,5)\\ny=complex(2+6j)\\n\\n\\nprint(x,y', '#complex()\\n#Returns complex number\\n\\nx=complex(3,5)\\ny=complex(2+6j)\\n\\n\\nprint(x,y)', '#delattr()\\n#deletes specified Attribute\\n\\nx=[\"Name\",\"Age\",266]\\n\\ndelattr(\"Name\",266)', '#delattr()\\n#deletes specified Attribute\\n\\nx=[\"Name\",\"Age\"]\\ny={\"Name\":\"Shiva\",\"Age\":36}\\n\\nprint(delattr(\"Name\"))\\nprint(delattr(\"Name\"))', '#delattr()\\n#deletes specified Attribute\\n\\n\\ny={\"Name\":\"Shiva\",\"Age\":36}\\n\\n\\nprint(delattr(\"Name\",\"Shiva\"))', '#delattr()\\n#deletes specified Attribute\\n# USeful for classes\\n\\nclass person:\\n    name=\"Shiva\"\\n    age=42\\n\\nprint(delattr(\"person\",\"name\"))', '#delattr()\\n#deletes specified Attribute\\n# USeful for classes\\n\\nclass person:\\n    name=\"Shiva\"\\n    age=42\\n\\ndelattr(\"person\",\"name\")', '#delattr()\\n#deletes specified Attribute\\n# USeful for classes\\n\\nclass person:\\n    name=\"Shiva\"\\n    age=42\\n\\ndelattr(person,\"name\")', '#delattr()\\n#deletes specified Attribute\\n# USeful for classes\\n\\nclass person:\\n    name=\"Shiva\"\\n    age=42\\n\\ndelattr(person,\"name\")\\n\\nprint(person)', '#delattr()\\n#deletes specified Attribute\\n# USeful for classes\\n\\nclass person:\\n    name=\"Shiva\"\\n    age=42\\n\\ndelattr(person,\"name\")\\n\\nprint(person())', '#delattr()\\n#deletes specified Attribute\\n# USeful for classes\\n\\nclass person:\\n    name=\"Shiva\"\\n    age=42\\n\\ndelattr(person,\"name\")\\n\\nprint(person.age)', '#delattr()\\n#deletes specified Attribute\\n# USeful for classes\\n\\nclass person:\\n    name=\"Shiva\"\\n    age=42\\n\\ndelattr(person,\"name\")\\n\\nprint(person.age)\\nprint(person.name)', '#delattr()\\n#deletes specified Attribute\\n# USeful for classes\\n\\nclass person:\\n    name=\"Shiva\"\\n    age=42\\n\\nprint(person.age)\\nprint(person.name)  \\n\\ndelattr(person,\"name\")\\n\\nprint(person.age)\\nprint(person.name)  ', '#dict()\\n#Returns a dictionary\\n\\na={\"Name\",\"Age\"}\\nprint(dict(a))', '#dict()\\n#Returns a dictionary\\n\\na={\"Name\",\"Age\",\"City\"}\\nprint(dict(a))', '#dict()\\n#Returns a dictionary\\n\\na=(name=\"Shiva\",age=39,city=\"AP\")\\nprint(dict(a))', '#dict()\\n#Returns a dictionary\\n\\na=dict(name=\"Shiva\",age=39,city=\"AP\")\\nprint(a,type(a))', '#dict()\\n#Returns a dictionary\\n\\na=dict(name=\"Shiva\",age=39,city=\"AP\")\\nprint(a,type(a))\\n\\nb=[\"Shiva\",36,\"AP\"]\\ndict(b)', '#dict()\\n#Returns a dictionary\\n\\na=dict(name=\"Shiva\",age=39,city=\"AP\")\\nprint(a,type(a))\\n\\nname=\"SHiva\"\\nage=36\\ncity=\"AP\"\\n\\nc=dict(name,age,city)\\nprint(c)', '#dict()\\n#Returns a dictionary\\n\\na=dict(name=\"Shiva\",age=39,city=\"AP\")\\nprint(a,type(a))\\n\\ndef fun():\\n    name=\"SHiva\"\\n    age=36\\n    city=\"AP\"\\n\\nc=dict(fun())\\nprint(c)', '#dict()\\n#Returns a dictionary\\n\\na=dict(name=\"Shiva\",age=39,city=\"AP\")\\nprint(a,type(a))\\n\\ndef fun():\\n    name=\"SHiva\"\\n    age=36\\n    city=\"AP\"\\n\\nc=dict(fun)\\nprint(c)', '#dict()\\n#Returns a dictionary\\n\\na=dict(name=\"Shiva\",age=39,city=\"AP\")\\nprint(a,type(a))', '#dir()\\n\\n#Returns all properties of a class or method\\n\\nclass person:\\n    name=\"Shiva\"\\n    age=42\\n    city=\"VSP\"\\n\\n    def fn():\\n        popu=1245511\\n        country=\"India\"\\n\\nprint(dir(person))', '#dir()\\n\\n#Returns all properties of a class or method\\n\\nclass person:\\n    name=\"Shiva\"\\n    age=42\\n    city=\"VSP\"\\n\\n    def fn():\\n        popu=1245511\\n        country=\"India\"\\nobj=fn()\\n\\nprint(dir(person))\\nprint(dir(obj))', '#dir()\\n\\n#Returns all properties of a class or method\\n\\nclass person:\\n    name=\"Shiva\"\\n    age=42\\n    city=\"VSP\"\\n\\n    def fn():\\n        popu=1245511\\n        country=\"India\"\\nobj=fn()\\n\\nprint(dir(person))\\nprint(dir(obj))\\nprint(dir(fn))', '#dir()\\n\\n#Returns all properties of a class or method\\n\\nclass person:\\n    name=\"Shiva\"\\n    age=42\\n    city=\"VSP\"\\n\\n    def fn():\\n        popu=1245511\\n        country=\"India\"\\nobj=fn()\\n\\nprint(dir(person\\\\b))\\nprint(dir(obj))\\nprint(dir(fn))', '#dir()\\n\\n#Returns all properties of a class or method\\n\\nclass person:\\n    name=\"Shiva\"\\n    age=42\\n    city=\"VSP\"\\n\\n    def fn():\\n        popu=1245511\\n        country=\"India\"\\nobj=fn()\\n\\nprint(dir(person,\"\\\\b\"))\\nprint(dir(obj))\\nprint(dir(fn))', '#dir()\\n\\n#Returns all properties of a class or method\\n\\nclass person:\\n    name=\"Shiva\"\\n    age=42\\n    city=\"VSP\"\\n\\n    def fn():\\n        popu=1245511\\n        country=\"India\"\\nobj=fn()\\n\\nprint(dir(person),\\\\b)\\nprint(dir(obj))\\nprint(dir(fn))', '#dir()\\n\\n#Returns all properties of a class or method\\n\\nclass person:\\n    name=\"Shiva\"\\n    age=42\\n    city=\"VSP\"\\n\\n    def fn():\\n        popu=1245511\\n        country=\"India\"\\nobj=fn()\\n\\nprint(dir(person),\\'\\\\b\\')\\nprint(dir(obj))\\nprint(dir(fn))', '#dir()\\n\\n#Returns all properties of a class or method\\n\\nclass person:\\n    name=\"Shiva\"\\n    age=42\\n    city=\"VSP\"\\n\\n    def fn():\\n        popu=1245511\\n        country=\"India\"\\nobj=fn()\\n\\nprint(dir(person))\\nprint(dir(obj))\\nprint(dir(fn))', '#dir()\\n\\n#Returns all properties of a class or method\\n\\nclass person:\\n    name=\"Shiva\"\\n    age=42\\n    city=\"VSP\"\\n\\n    def fn():\\n        popu=1245511\\n        country=\"India\"\\nobj=fn()\\n\\nprint(dir(person))\\nprint(dir(obj))\\nprint(dir(fn))', '#divmod()\\n#display quotient and remainder\\n\\nprint(divmod(2,6))', '#divmod()\\n#display quotient and remainder\\n\\nprint(divmod(2,6))  #\\nprint(divmod(5,2))', 'x=(123,True,\"Hello\")\\nprint(enumerate(x))', 'x=(123,True,\"Hello\")\\ny=enumerate(x)', '#enumerate()\\n#Takes enumerate objects AND RETURNS to enumerate objects\\nx=(123,True,\"Hello\")\\ny=enumerate(x)\\nprint(y)\\nprint(type(x),type(y))', '#enumerate()\\n#Takes enumerate objects AND RETURNS to enumerate objects\\nx=(123,True,\"Hello\")\\ny=enumerate(x)\\nprint(y)\\nprint(y,2)\\nprint(type(x),type(y))', '#enumerate()\\n#Takes enumerate objects AND RETURNS to enumerate objects\\nx=(123,True,\"Hello\")\\ny=enumerate(x)\\nprint(list(y))\\nprint(list(y,2))\\nprint(type(x),type(y))', '#enumerate()\\n#Takes enumerate objects AND RETURNS to enumerate objects\\nx=(123,True,\"Hello\")\\ny=enumerate(x)\\nprint(list(y))\\nprint(list(y),2)\\nprint(type(x),type(y))', '#enumerate()\\n#Takes enumerate objects AND RETURNS to enumerate objects\\nx=(123,True,\"Hello\")\\ny=enumerate(x)\\nprint(list(y))\\nprint(list(y))\\nprint(type(x),type(y))', '#enumerate()\\n#Takes enumerate objects AND RETURNS to enumerate objects\\nx=(123,True,\"Hello\")\\ny=enumerate(x)\\nprint(list(y))\\n\\nprint(type(x),type(y))', '#enumerate()\\n#Takes enumerate objects AND RETURNS to enumerate objects\\nx=(123,True,\"Hello\")\\ny=enumerate(x)\\nprint(list(list(y)))\\n\\nprint(type(x),type(y))', '#enumerate()\\n#Takes enumerate objects AND RETURNS to enumerate objects\\nx=(123,True,\"Hello\")\\ny=enumerate(x)\\nprint(list(list(list(y))))\\n\\nprint(type(x),type(y))', '#enumerate()\\n#Takes enumerate objects AND RETURNS to enumerate objects\\nx=(123,True,\"Hello\")\\ny=enumerate(x)\\nprint(tup(list(list(list(y)))))\\n\\nprint(type(x),type(y))', '#enumerate()\\n#Takes enumerate objects AND RETURNS to enumerate objects\\nx=(123,True,\"Hello\")\\ny=enumerate(x)\\nprint(tuple(list(list(list(y)))))\\n\\nprint(type(x),type(y))', '#enumerate()\\n#Takes enumerate objects AND RETURNS to enumerate objects\\nx=(123,True,\"Hello\")\\ny=enumerate(x)\\nprint(y)\\n\\nprint(type(x),type(y))', '#enumerate()\\n#Takes enumerate objects AND RETURNS to enumerate objects\\n# It helpsus to convert one data type to another datatype\\nx=(123,True,\"Hello\")\\ny=enumerate(x)  #enumerated object\\nprint(y)\\nprint(type(x),type(y))\\na=list(y)\\nprint(a,type(a))', '#enumerate()\\n#Takes enumerate objects AND RETURNS to enumerate objects\\n# It helpsus to convert one data type to another datatype\\nx=(123,True,\"Hello\")\\ny=enumerate(x)  #enumerated object\\nprint(y)\\nprint(type(x),type(y))\\na=list(y) # \\nprint(a,type(a)) #print(list(y))   converted enumerated object to list\\n\\nprint(dict(y))', '#enumerate()\\n#Takes enumerate objects AND RETURNS to enumerate objects\\n# It helpsus to convert one data type to another datatype\\nx=(123,True,\"Hello\")\\ny=enumerate(x)  #enumerated object\\nprint(y)\\nprint(type(x),type(y))\\na=list(y) # \\nprint(a,type(a)) #converted enumerated object to list\\nprint(list(y))\\nprint(dict(y))', '#enumerate()\\n#Takes enumerate objects AND RETURNS to enumerate objects\\n# It helpsus to convert one data type to another datatype\\nx=(123,True,\"Hello\")\\ny=enumerate(x)  #enumerated object\\nprint(y)\\nprint(type(x),type(y))\\na=list(y) # \\nprint(a,type(a)) #converted enumerated object to list\\nprint(list(y))\\n\\nz=dict(y)\\nprint(z)', '#enumerate()\\n#Takes enumerate objects AND RETURNS to enumerate objects\\n# It helpsus to convert one data type to another datatype\\nx=(123,True,\"Hello\")\\ny=enumerate(x)  #enumerated object\\nprint(y)\\nprint(type(x),type(y))\\na=list(y) # \\nprint(a,type(a)) #converted enumerated object to list\\nprint(list(y))\\n\\nz=dict(y)\\nprint(z)\\nprint(dict(y))', '#enumerate()\\n#Takes enumerate objects AND RETURNS to enumerate objects\\n# It helpsus to convert one data type to another datatype\\nx=(123,True,\"Hello\")\\ny=enumerate(x)  #enumerated object\\nprint(y)\\nprint(type(x),type(y))\\na=list(y) # \\nprint(a,type(a)) #converted enumerated object to list\\nprint(list(y))\\n\\nz=dict(y)  #creates empty dictionary \\nprint(z)\\nprint(dict(y))\\n\\ndc={\"Name\":\"Shivas\",\"Age\":42,\"city\":\"VSP\"}\\nenume1=enumerate(dc)\\nprint(list(enume1))', '#enumerate()\\n#Takes enumerate objects AND RETURNS to enumerate objects\\n# It helpsus to convert one data type to another datatype\\nx=(123,True,\"Hello\")\\ny=enumerate(x)  #enumerated object\\nprint(y)\\nprint(type(x),type(y))\\na=list(y) # \\nprint(a,type(a)) #converted enumerated object to list\\nprint(list(y))\\n\\nz=dict(y)  #creates empty dictionary \\nprint(z)\\nprint(dict(y))\\n\\ndc={\"Name\":\"Shivas\",\"Age\":42,\"city\":\"VSP\"}\\nen1=enumerate(dc)\\nprint(list(en1))\\nprint(tuple(en1))\\nprint(str(en1))', '#enumerate()\\n#Takes enumerate objects AND RETURNS to enumerate objects\\n# It helpsus to convert one data type to another datatype\\nx=(123,True,\"Hello\")\\ny=enumerate(x)  #enumerated object\\nprint(y)\\nprint(type(x),type(y))\\na=list(y) # \\nprint(a,type(a)) #converted enumerated object to list\\nprint(list(y))\\n\\nz=dict(y)  #creates empty dictionary \\nprint(z)\\nprint(dict(y))\\n\\ndc={\"Name\":\"Shivas\",\"Age\":42,\"city\":\"VSP\"}\\nen1=enumerate(dc)\\nprint(list(en1))\\nprint(tuple(en1))\\nprint(str().en1)', '#enumerate()\\n#Takes enumerate objects AND RETURNS to enumerate objects\\n# It helpsus to convert one data type to another datatype\\nx=(123,True,\"Hello\")\\ny=enumerate(x)  #enumerated object\\nprint(y)\\nprint(type(x),type(y))\\na=list(y) # \\nprint(a,type(a)) #converted enumerated object to list\\nprint(list(y))\\n\\nz=dict(y)  #creates empty dictionary \\nprint(z)\\nprint(dict(y))\\n\\ndc={\"Name\":\"Shivas\",\"Age\":42,\"city\":\"VSP\"}\\nen1=enumerate(dc)\\nprint(list(en1))\\nprint(tuple(en1))\\nprint(str(en1))', '#enumerate()\\n#Takes enumerate objects AND RETURNS to enumerate objects\\n# It helpsus to convert one data type to another datatype\\nx=(123,True,\"Hello\")\\ny=enumerate(x)  #enumerated object\\nprint(y)\\nprint(type(x),type(y))\\na=list(y) # \\nprint(a,type(a)) #converted enumerated object to list\\nprint(list(y))\\n\\nz=dict(y)  #creates empty dictionary \\nprint(z)\\nprint(dict(y))\\n\\ndc={\"Name\":\"Shivas\",\"Age\":42,\"city\":\"VSP\"}\\nen1=enumerate(dc)\\nprint(list(en1))\\nprint(tuple(en1))\\nstr1=str(en1)\\nprint(str(en1))\\nprint(str1)  ', '#enumerate()\\n#Takes enumerate objects AND RETURNS to enumerate objects\\n# It helpsus to convert one data type to another datatype\\nx=(123,True,\"Hello\")\\ny=enumerate(x)  #enumerated object\\nprint(y)\\nprint(type(x),type(y))\\na=list(y) # \\nprint(a,type(a)) #converted enumerated object to list\\nprint(list(y))\\n\\nz=dict(y)  #creates empty dictionary \\nprint(z)\\nprint(dict(y))\\n\\ndc={\"Name\":\"Shivas\",\"Age\":42,\"city\":\"VSP\"}\\nen1=enumerate(dc)\\nen2=list(en1)\\nen3=tuple(en1)\\nstr1=str(en1)\\nprint(type(en2),en2)\\nprint(type(en3),en3)\\nprint(type(str1),str1)  ', '#eval()\\n#evaluate a function\\n\\na=eval(((55+26)**2)*2)\\nprint(a)', '#eval()\\n#evaluate a function\\n\\na=((55+26)**2)*2\\nprint(eval(a))', '#eval()\\n#evaluate a function\\n\\na=((55+26)**2)*2\\neval(a)', '#eval()\\n#evaluate a function\\n\\na=55+26**2*2\\neval(a)', '#eval()\\n#evaluate a function\\n\\na=55+26\\neval(a)', '#eval()\\n#evaluate a function\\n\\na=eval(((55+26)**2)*2)', '#eval()\\n#evaluate a function\\n\\na=((55+26)**2)*2\\nprint(eval(a))', '#eval()\\n#evaluate a function\\n\\na=eval(print(\"Hello\"))\\nprint(a)', '#eval()\\n#evaluate a function\\n\\na=print(\"Hello\")\\nprint9eval(a)', '#eval()\\n#evaluate a function\\n\\na=print(\"Hello\")\\nprint(eval(a))', '#eval()\\n#evaluate a function\\n\\na=print(\"Hello\")\\neval(a)', '#eval()\\n#evaluate a function\\n\\na=\\'print(\"Hello\")\\'\\neval(a)', '#eval()\\n#evaluate a function\\n\\na=\\'print(\"Hello\")\\'\\neval(a)\\n\\nb=\\'(((22+56)**2)*2)\\'\\neval(b)', '# maketrans(a,b,c)\\n\"\"\" Here a is first parameter\\n    b is replaceable parameters\\n    c is removable parameters\\n\"\"\"\\ntext = \"Welcome Ram\"\\n\\na = \"amR\"\\nb = \"oeN\"\\nc = \"coe\"\\n\\ntext1 = str.maketrans(a,b,c)\\nprint(text1)\\nprint(chr(text1))\\nprint(type(text1))\\n\\nfinal=  text.translate(text1)   # finally replace \"a\"\"m\"\"R\" with \"o\"\"e\"\"N\" and then removes \"c\"\"o\"\"e\" where ever exists\\nprint(final)', '# maketrans(a,b,c)\\n\"\"\" Here a is first parameter\\n    b is replaceable parameters\\n    c is removable parameters\\n\"\"\"\\ntext = \"Welcome Ram\"\\n\\na = \"amR\"\\nb = \"oeN\"\\nc = \"coe\"\\n\\ntext1 = str.maketrans(a,b,c)\\nprint(text1)\\n\\nprint(type(text1))\\n\\nfinal=  text.translate(text1)   # finally replace \"a\"\"m\"\"R\" with \"o\"\"e\"\"N\" and then removes \"c\"\"o\"\"e\" where ever exists\\nprint(final)', '# maketrans(a,b,c)\\n\"\"\" Here a is first parameter\\n    b is replaceable parameters\\n    c is removable parameters\\n\"\"\"\\ntext = \"Welcome Ram\"\\n\\na = \"amR\"\\nb = \"oeN\"\\nc = \"coe\"\\n\\ntext1 = str.maketrans(a,b,c)\\nprint(text1)\\nprint(ord(text1))\\n\\nprint(type(text1))\\n\\nfinal=  text.translate(text1)   # finally replace \"a\"\"m\"\"R\" with \"o\"\"e\"\"N\" and then removes \"c\"\"o\"\"e\" where ever exists\\nprint(final)', '# maketrans(a,b,c)\\n\"\"\" Here a is first parameter\\n    b is replaceable parameters\\n    c is removable parameters\\n\"\"\"\\ntext = \"Welcome Ram\"\\n\\na = \"amR\"\\nb = \"oeN\"\\nc = \"coe\"\\n\\ntext1 = str.maketrans(a,b,c)\\nprint(text1)\\n\\n\\nprint(type(text1))\\n\\nfinal=  text.translate(text1)   # finally replace \"a\"\"m\"\"R\" with \"o\"\"e\"\"N\" and then removes \"c\"\"o\"\"e\" where ever exists\\nprint(final)', '#exec()\\n#exec specified  code\\n\\nobj=\\'print(\"Hello),125\\'\\n\\nexec(obj)', '#exec()\\n#exec specified  code\\n\\nobj=\\'(print(\"Hello),125)\\'\\n\\nexec(obj)', '#exec()\\n#exec specified  code\\n\\nobj=\\'name=\"Shiva\",print(name)\\'\\n\\nexec(obj)', '#exec()\\n#exec specified  code\\n\\nobj=\\'name=\"Shiva\",print(name)\\'\\n\\nexec(obj)\\n\\n\\ndef func():\\n    print(\"Welcome to pythonThe most popular language \")\\n\\nobj=func()\\nexec(obj)', '#exec()\\n#exec specified  code\\n\\nobj=\\'name=\"Shiva\",print(name)\\'\\n\\nexec(obj)\\n\\n\\ndef func():\\n    print(\"Welcome to pythonThe most popular language \")\\n\\nobj1=func()\\nexec(obj1)', '#exec()\\n#exec specified  code\\n\\nobj=\\'name=\"Shiva\",print(name)\\'\\n\\nexec(obj)\\n\\ndef func():\\n    print(\"Welcome to pythonThe most popular language \")\\n\\nobj1=func()\\nexec(obj1)', '#exec()\\n#exec specified  code\\n\\nobj=\\'name=\"Shiva\",print(name)\\'\\n\\nexec(obj)\\n\\ndef func():\\n    print(\"Welcome to pythonThe most popular language \")\\n\\nobj1=func()\\nexec(func())', '#exec()\\n#exec specified  code\\n\\nobj=\\'name=\"Shiva\",print(name)\\'\\n\\nexec(obj)\\n\\ndef func():\\n    print(\"Welcome to pythonThe most popular language \")\\n\\nobj1=func()\\nexec(\"func()\")', '#exec()\\n#exec specified  code\\n\\nobj=\\'name=\"Shiva\",print(name)\\'\\n\\nexec(obj)\\n\\ndef func():\\n    print(\"Welcome to pythonThe most popular language \")\\n\\nobj1=func()\\nexec(\"func()\")\\nexec(\"obj1\")', '#exec()\\n#exec specified  code\\n\\nobj=\\'name=\"Shiva\",print(name)\\'\\n\\nexec(obj)\\n\\ndef func():\\n    print(\"Welcome to pythonThe most popular language \")\\n\\nobj1=func()\\n#exec(\"func()\")\\nexec(\"obj1\")', '#exec()\\n#exec specified  code\\n\\nobj=\\'name=\"Shiva\",print(name)\\'\\n\\nexec(obj)\\n\\ndef func():\\n    print(\"Welcome to pythonThe most popular language \")\\n\\nobj1=func()\\nexec(\"func()\")\\nexec(\"obj1\")', '#exec()\\n#exec specified  code\\n\\nobj=\\'name=\"Shiva\",print(name)\\'\\n\\nexec(\"obj\")\\n\\ndef func():\\n    print(\"Welcome to pythonThe most popular language \")\\n\\nobj1=func()\\nexec(\"func()\")\\nexec(\"obj1\")', '#exec()\\n#exec specified  code\\n\\nobj=\\'name=\"Shiva\",print(name)\\'\\n\\nexec(\"obj\")\\n\\ndef func():\\n    print(\"Welcome to pythonThe most popular language \")\\n\\nobj1=func()\\nexec(\"func()\")\\nexec(\"obj1\")', '#exec()\\n#exec specified  code\\n\\nobj=\\'name=\"Shiva\",print(name)\\'\\n\\nexec(obj)\\n\\ndef func():\\n    print(\"Welcome to pythonThe most popular language \")\\n\\nobj1=func()\\nexec(\"func()\")\\nexec(\"obj1\")', '#exec()\\n#exec specified  code\\n\\nobj=\\'name=\"Shiva\",print(name)\\'\\n\\nexec(obj)\\n\\ndef func():\\n    print(\"Welcome to pythonThe most popular language \")\\n\\nobj1=func()\\n#exec(\"func()\")\\nexec(\"obj1\")', '#exec()\\n#exec specified  code\\n\\nobj=\\'name=\"Shiva\",print(name)\\'\\n\\nexec(obj)\\n\\ndef func():\\n    print(\"Welcome to pythonThe most popular language \")\\n\\nobj1=func()\\n#exec(\"func()\")\\nexec(obj1)', '#exec()\\n#exec specified  code\\n\\nobj=\\'name=\"Shiva\",print(name)\\'\\n\\nexec(obj)\\n\\ndef func():\\n    print(\"Welcome to pythonThe most popular language \")\\n\\nobj1=func()\\n#exec(\"func()\")\\nexec(\"obj1\")', '#filter()\\n#filters the given value\\n\\nflt=[18,15,12,1,15,18,18]\\n\\nfilter(flt)', '#filter()\\n#filters the given value\\n\\nflt=[18,15,12,1,15,18,18]\\n\\nfilter(flt,18)', '#filter()\\n#filters the given value\\n\\nflt=[18,15,12,1,15,18,18]\\n\\nprint(x in flt, if filter(flt,18) <18)', '#filter()\\n#filters the given value\\n\\nflt=[18,15,12,1,15,18,18]\\n\\nprint(x in flt, if filter(flt,18))', '#filter()\\n#filters the given value\\n\\nflt=[18,15,12,1,15,18,18]\\n\\nprint(x in flt, filter(flt,18))', '#filter()\\n#filters the given value\\n\\nnum=[15,14,99,77,24,18,15,12,1,15,18,18]\\n\\ndef even(numbers):\\n    if numb % 2 ==0:\\n        return numb\\n\\n    else:\\n        pass\\n\\nobj=even(num)\\nprint(obj)', '#filter()\\n#filters the given value\\n\\nnum=[15,14,99,77,24,18,15,12,1,15,18,18]\\n\\ndef even(numbers):\\n    numb=numbers\\n    if numb % 2 ==0:\\n        return numb\\n\\n    else:\\n        pass\\n\\nobj=even(num)\\nprint(obj)', '#filter()\\n#filters the given value\\n\\nnum=[15,14,99,77,24,18,15,12,1,15,18,18]\\n\\ndef even(numbers):\\n    numb=numbers\\n    if numb % 2 == 0:\\n        return numb\\n\\n    else:\\n        pass\\n\\nobj=filtered(even,num)\\n\\nprint(obj)', '#filter()\\n#filters the given value\\n\\nnum=[15,14,99,77,24,18,15,12,1,15,18,18]\\n\\ndef even(numbers):\\n    numb=numbers\\n    if numb % 2 == 0:\\n        return numb\\n\\n    else:\\n        pass\\n\\nobj=filter(even,num)\\n\\nprint(obj)', '#filter()\\n#filters the given value\\n\\nnum=[15,14,99,77,24,18,15,12,1,15,18,18]\\n\\ndef even(numbers):\\n    numb=numbers\\n    if numb % 2 == 0:\\n        numb += 1\\n        return numb\\n\\n    else:\\n        pass\\n\\nobj=filter(even,num)\\n\\nprint(obj)', '#filter()\\n#filters the given value\\n\\nnum=[15,14,99,77,24,18,15,12,1,15,18,18]\\n\\ndef even(numbers):\\n    numb=numbers\\n    if numb % 2 == 0:\\n       \\n        return numb\\n\\n    else:\\n        pass\\n\\nobj=filter(even,num)\\n\\nprint(list(obj))', '#float()\\n#Returns floating point number\\n\\na=[1,2,54,4,7]\\nprint(float(a))', '#float()\\n#Returns floating point number\\n\\na=1,2,54,4,7\\nprint(float(a))', '#float()\\n#Returns floating point number\\n\\na=54\\nprint(float(a))', '#format()\\n#formats to specified format number,string,% etcc\\n\\na=format(2,\"%\")', '#format()\\n#formats to specified format number,string,% etcc\\n\\na=format(2,\"%\")\\nb=format(22,\"s\")', '#format()\\n#formats to specified format number,string,% etcc\\n\\na=format(2,\"%\")\\nb=format(22,\"n\")', 'print(a,b)', '#format()\\n#formats to specified format number,string,% etcc\\n\\na=format(2,\"%\")\\nb=format(22,\"n\")\\nc=format(22,\"c\")', '#format()\\n#formats to specified format number,string,% etcc\\n\\na=format(2,\"%\")\\nb=format(22,\"n\")\\nc=format(22,\"c\")\\nd=format(\"Hello\",\"e\")\\ne=format(\"hi\",\"F\")\\n\\nprint(a,b,c,d,e)', '#format()\\n#formats to specified format number,string,% etcc\\n\\na=format(2,\"%\")\\nb=format(22,\"n\")\\nc=format(22,\"c\")\\nd=format(\"Hello\",\"E\")\\ne=format(\"hi\",\"F\")\\n\\nprint(a,b,c,d,e)', '#format()\\n#formats to specified format number,string,% etcc\\n\\na=format(2,\"%\")\\nb=format(22,\"n\")\\nc=format(22,\"c\")\\nd=format(\"Hello\",\"n\")\\ne=format(\"hi\",\"F\")\\n\\nprint(a,b,c,d,e)', '#format()\\n#formats to specified format number,string,% etcc\\n\\na=format(2,\"%\")\\nb=format(22,\"n\")\\nc=format(22,\"c\")\\nd=format(343,\"e\")\\ne=format(\"hi\",\"F\")\\n\\nprint(a,b,c,d,e)', '#format()\\n#formats to specified format number,string,% etcc\\n\\na=format(2,\"%\")\\nb=format(22,\"n\")\\nc=format(22,\"c\")\\nd=format(343,\"e\")\\ne=format(44,\"F\")\\n\\nprint(a,b,c,d,e)', '#format()\\n#formats to specified format number,string,% etcc\\n\\na=format(2,\"%\")\\nb=format(22,\"n\")\\nc=format(22,\"c\")\\nd=format(343,\"e\")\\ne=format(44,\"F\")\\n\\nprint(a,b,c,d,e)', '#format()\\n#formats to specified format number,string,% etcc\\n\\na=format(2,\"%\")\\nb=format(22,\"n\")\\nc=format(98,\"c\")\\nd=format(343,\"e\")\\ne=format(44,\"F\")\\n\\nprint(a,b,c,d,e)', \"#frozenset()\\n#freezes the data type make it unchangeable\\n\\nl1=['Shiva','karthkeyaa','Nandhini']\\nt1=(1,2,3,3,2)\\na=frozenset(l1)\\nb=frozenset(t1)\\n\\nprint(type(l1),l1,\\\\ntype(t1),t1)\", \"#frozenset()\\n#freezes the data type make it unchangeable\\n\\nl1=['Shiva','karthkeyaa','Nandhini']\\nt1=(1,2,3,3,2)\\na=frozenset(l1)\\nb=frozenset(t1)\\n\\nprint(type(l1),l1,'\\\\n',type(t1),t1)\", '#getattr()\\n\\n#Returns the value of sepcified object\\n\\nl1=[1,2,3]\\ngetattr(l1)', '#getattr()\\n\\n#Returns the value of sepcified attribute of mentioned object\\n\\ndef fun():\\n    dct={\"Name\":\"Shivaprrasad\", \\'Age\\':30, \"city\":\"VSP\"}\\ngetattr(fun,city)', '#getattr()\\n\\n#Returns the value of sepcified attribute of mentioned object\\n\\ndef fun():\\n    dct={\"Name\":\"Shivaprrasad\", \\'Age\\':30, \"city\":\"VSP\"}\\ngetattr(fun,\"city\")', '#getattr()\\n\\n#Returns the value of sepcified attribute of mentioned object\\n\\ndef fun():\\n    dct={\"Name\":\"Shivaprrasad\", \\'Age\\':30, \"city\":\"VSP\"}\\n\\nx=getattr(fun,\"city\")', '#getattr()\\n\\n#Returns the value of sepcified attribute of mentioned object\\n\\ndef fun():\\n    dct={\"Name\":\"Shivaprrasad\", \\'Age\\':30, \"city\":\"VSP\"}\\n\\nx=getattr(fun,dct[\"city\"])', '#getattr()\\n\\n#Returns the value of sepcified attribute of mentioned object\\n\\ndef fun():\\n    dct={\"Name\":\"Shivaprrasad\", \\'Age\\':30, \"city\":\"VSP\"}\\n\\nx=getattr(fun,dct(\"city\"))', '#getattr()\\n\\n#Returns the value of sepcified attribute of mentioned object\\n\\ndef fun():\\n    dct={\"Name\":\"Shivaprrasad\", \\'Age\\':30, \"city\":\"VSP\"}\\n\\nx=getattr(fun,dct.value(\"city\"))', '#getattr()\\n\\n#Returns the value of sepcified attribute of mentioned object\\n\\ndef fun():\\n    dct={\"Name\":\"Shivaprrasad\", \\'Age\\':30, \"city\":\"VSP\"}\\n\\nx=getattr(fun(),dct.value(\"city\"))', '#getattr()\\n\\n#Returns the value of sepcified attribute of mentioned object\\n\\ndef fun():\\n    dct={\"Name\":\"Shivaprrasad\", \\'Age\\':30, \"city\":\"VSP\"}\\n\\nx=getattr(fun(),\\'city\\')', '#getattr()\\n\\n#Returns the value of sepcified attribute of mentioned object\\n\\ndef fun():\\n    dct={\"Name\":\"Shivaprrasad\", \\'Age\\':30, \"city\":\"VSP\"}\\n    return dct[\\'city\\']\\n\\nx=getattr(fun(),\\'city\\')', '#getattr()\\n\\n#Returns the value of sepcified attribute of mentioned object\\n\\ndef fun():\\n    dct={\"Name\":\"Shivaprrasad\", \\'Age\\':30, \"city\":\"VSP\"}\\n    return dct[\\'city\\']\\n\\nx=getattr(fun(),\\'city\\',None)', '#getattr()\\n\\n#Returns the value of sepcified attribute of mentioned object\\n\\ndef fun():\\n    dct={\"Name\":\"Shivaprrasad\", \\'Age\\':30, \"city\":\"VSP\"}\\n    return dct[\\'city\\']\\n\\nx=getattr(fun(),\\'cityr\\',None)', '#getattr()\\n\\n#Returns the value of sepcified attribute of mentioned object\\n\\ndef fun():\\n    dct={\"Name\":\"Shivaprrasad\", \\'Age\\':30, \"city\":\"VSP\"}\\n    return dct[\\'city\\']\\n\\nx=getattr(fun(),\\'cityr\\',None)\\nprint(x)', '#getattr()\\n\\n#Returns the value of sepcified attribute of mentioned object\\n\\ndef fun():\\n    dct={\"Name\":\"Shivaprrasad\", \\'Age\\':30, \"city\":\"VSP\"}\\n    return dct[\\'city\\']\\n\\nx=getattr(fun(),\\'city\\',None)\\nprint(x)', '#getattr()\\n\\n#Returns the value of sepcified attribute of mentioned object\\n\\ndef fun():\\n    dct={\"Name\":\"Shivaprrasad\", \\'Age\\':30, \"city\":\"VSP\"}\\n    return dct[\\'city\\']\\n\\nx=getattr(fun(),\\'city\\',None)\\nprint(x)', '#getattr()\\n\\n#Returns the value of sepcified attribute of mentioned object\\n\\ndef fun():\\n    dct={\"Name\":\"Shivaprrasad\", \\'Age\\':30, \"city\":\"VSP\"}\\n    return dct[\\'city\\']\\n\\nx=getattr(fun(),\\'VSP\\',None)\\nprint(x)', '#getattr()\\n\\n#Returns the value of sepcified attribute of mentioned object\\n\\ndef fun():\\n    dct={\"Name\":\"Shivaprrasad\", \\'Age\\':30, \"city\":\"VSP\"}\\n   # return dct[\\'city\\']\\n\\nx=getattr(fun(),\\'VSP\\',None)\\nprint(x)', '#getattr()\\n\\n#Returns the value of sepcified attribute of mentioned object\\n\\ndef fun():\\n    dct={\"Name\":\"Shivaprrasad\", \\'Age\\':30, \"city\":\"VSP\"}\\n   # return dct[\\'city\\']\\n\\nx=getattr(fun(),\\'Name\\',None)\\nprint(x)', '#getattr()\\n\\n#Returns the value of sepcified attribute of mentioned object\\n\\ndef fun():\\n    dct={\"Name\":\"Shivaprrasad\", \\'Age\\':30, \"city\":\"VSP\"}\\n   # return dct[\\'city\\']\\n\\nx=getattr(fun(),dct[\\'Name\\'],None)\\nprint(x)', '#getattr()\\n\\n#Returns the value of sepcified attribute of mentioned object\\n\\ndef fun():\\n    dct={\"Name\":\"Shivaprrasad\", \\'Age\\':30, \"city\":\"VSP\"}\\n   # return dct[\\'city\\']\\n\\nx=getattr(fun(),\\'city\\')\\nprint(x)', '#getattr()\\n\\n#Returns the value of sepcified attribute of mentioned object\\n\\ndef fun():\\n    dct={\"Name\":\"Shivaprrasad\", \\'Age\\':30, \"city\":\"VSP\"}\\n    return dct[\\'city\\']\\n\\nx=getattr(fun(),\\'city\\')\\nprint(x)', '#getattr()\\n\\n#Returns the value of sepcified attribute of mentioned object\\n\\ndef fun():\\n    dct = {\"Name\": \"Shivaprrasad\", \\'Age\\': 30, \"city\": \"VSP\"}\\n    return dct[\"city\"]\\n\\nx = getattr(fun(), \"city\", None)\\nprint(x)', '#getattr()\\n\\n#Returns the value of sepcified attribute of mentioned object\\n\\ndef fun():\\n    dct = {\"Name\": \"Shivaprrasad\", \\'Age\\': 30, \"city\": \"VSP\"}\\n    return dct[\"city\"]\\n\\nobj=fun()\\nx = obj.getattr(fun(), \"city\", None)\\nprint(x)', '#getattr()\\n\\n#Returns the value of sepcified attribute of mentioned object\\n\\ndef fun():\\n    dct = {\"Name\": \"Shivaprrasad\", \\'Age\\': 30, \"city\": \"VSP\"}\\n    return dct[\"city\"]\\n\\nobj=fun()\\nx = obj.getattr(fun, \"city\", None)\\nprint(x)', '#getattr()\\n\\n#Returns the value of sepcified attribute of mentioned object\\n\\ndef fun():\\n    dct = {\"Name\": \"Shivaprrasad\", \\'Age\\': 30, \"city\": \"VSP\"}\\n    return dct[\"city\"]\\n\\nobj=fun()\\nx = obj.getattr(fun(), dct[\"city\"], None)\\nprint(x)', '#getattr()\\n\\n#Returns the value of sepcified attribute of mentioned object\\n\\ndef fun():\\n    dct = {\"Name\": \"Shivaprrasad\", \\'Age\\': 30, \"city\": \"VSP\"}\\n    return dct[\"city\"]\\n\\nobj=fun()\\nx = obj.getattr(fun(), dct[\"city\"], None)\\nprint(x)', '#getattr()\\n\\n#Returns the value of sepcified attribute of mentioned object\\n\\ndef fun():\\n    dct = {\"Name\": \"Shivaprrasad\", \\'Age\\': 30, \"city\": \"VSP\"}\\n    return dct[\"city\"]\\n\\n\\nx = getattr(fun(), dct[\"city\"], None)\\nprint(x)', '#getattr()\\n\\n#Returns the value of sepcified attribute of mentioned object\\n\\ndef fun():\\n    dct = {\"Name\": \"Shivaprrasad\", \\'Age\\': 30, \"city\": \"VSP\"}\\n    return dct[\"city\"]\\n\\n\\nx = getattr(fun(), \"city\", None)\\nprint(x)', '#global()\\n#Returns global suymbol table. A symbol table is current informtion of program\\n\\nx=global()\\nprint(x)', '#globals()\\n#Returns global suymbol table. A symbol table is current informtion of program\\n\\nx=globals()\\nprint(x)', '#globals()\\n#Returns global suymbol table. A symbol table is current informtion of program\\n\\nx=globals()\\nprint(x)\\n\\nprint(globals(__init__))', '#globals()\\n#Returns global suymbol table. A symbol table is current informtion of program\\n\\nx=globals()\\nprint(x)\\n\\nprint(globals(__init__()))', '#globals()\\n#Returns global suymbol table. A symbol table is current informtion of program\\n\\nx=globals()\\nprint(x)\\n\\nprint(x[\"__file__\"])', '#globals()\\n#Returns global suymbol table. A symbol table is current informtion of program\\n\\nx=globals()\\nprint(x)\\n\\nprint(x[\"__file__\"])', '#globals()\\n#Returns global suymbol table. A symbol table is current informtion of program\\n\\nx=globals()\\nprint(x)\\nprint(x[\"__file__\"])', '#globals()\\n#Returns global suymbol table. A symbol table is current informtion of program\\n\\nx=globals()\\nprint(x)\\nprint(x[\"__init__\"])', '#globals()\\n#Returns global suymbol table. A symbol table is current informtion of program\\n\\nx=globals()\\nprint(x)\\nprint(x[\"__name__\"])', '#globals()\\n#Returns global suymbol table. A symbol table is current informtion of program\\n\\nx=globals()\\nprint(x)\\nprint(x[\"__name__\"])\\nprint(x[\"__doc__\"])'], 'Out': {136: 12168}, 'get_ipython': <bound method InteractiveShell.get_ipython of <google.colab._shell.Shell object at 0x7e62742b2320>>, 'exit': <IPython.core.autocall.ZMQExitAutocall object at 0x7e62742b28c0>, 'quit': <IPython.core.autocall.ZMQExitAutocall object at 0x7e62742b28c0>, '_': 12168, '__': '', '___': '', '_i': '#globals()\\n#Returns global suymbol table. A symbol table is current informtion of program\\n\\nx=globals()\\nprint(x)\\nprint(x[\"__name__\"])', '_ii': '#globals()\\n#Returns global suymbol table. A symbol table is current informtion of program\\n\\nx=globals()\\nprint(x)\\nprint(x[\"__init__\"])', '_iii': '#globals()\\n#Returns global suymbol table. A symbol table is current informtion of program\\n\\nx=globals()\\nprint(x)\\nprint(x[\"__file__\"])', '_i1': '#abs()  Returns Absolute Value of number\\n\\nx=abs(2.22)\\nprint(x)', 'x': {...}, '_i2': '#abs()  Returns Absolute Value of number\\n\\nx=abs(2.22)\\ny=abs(-4.55)\\nprint(x,y)', 'y': <enumerate object at 0x7e6230083640>, '_i3': '#abs()  Returns Absolute Value of number\\n\\nx=abs(2.22)\\ny=abs(-4.55)\\nprint(x,\" \",y)', '_i4': '#all() Returns if all items are true\\n\\na=[True,True,1]\\nb={True,1,0}\\nc=(True,1,1)\\nd={False,0,0,False}\\n\\nprint(a.all())', 'a': frozenset({'Nandhini', 'Shiva', 'karthkeyaa'}), 'b': frozenset({1, 2, 3}), 'c': 'b', 'd': '3.430000e+02', '_i5': '#all() Returns if all items are true\\n\\na=[True,True,1]\\nb={True,1,0}\\nc=(True,1,1)\\nd={False,0,0,False}\\n\\na.all()', '_i6': '#all() Returns if all items are true\\n\\nl=[True,True,1]\\ns={True,1,0}\\nt=(True,1,1)\\ns={False,0,0,False}\\n\\na=all(l)', 'l': ['Hello', 33, 0], 's': {()}, 't': (), '_i7': '#all() Returns if all items are true\\n\\nl=[True,True,1]\\ns={True,1,0}\\nt=(True,1,1)\\ns={False,0,0,False}\\n\\nprint(all(l))', '_i8': '#all() Returns if all items are true\\n\\nl=[True,True,1]\\ns={True,1,0}\\nt=(True,1,1)\\ns={False,0,0,False}\\n\\nprint(all(l))\\nprint(all(s))\\nprint(all(t))\\nprint(all(s))', '_i9': '#any() if any item is true\\n\\nl=[True,0,False]\\nx=any(l)', '_i10': '#any() if any item is true\\n\\nl=[True,0,False]\\nprint(any(l))', '_i11': '#Ascii()   Returns readable version of any character\\n\\nl=\"hello /,.\"\\nprint(ascii(l))', '_i12': '#Ascii()   Returns readable version of any character\\n# replaces non ascii characters with escape\\n\\nl=\"hello ~!/,.\"\\nprint(ascii(l))', '_i13': '#Ascii()   Returns readable version of any character\\n# replaces non ascii characters with escape\\n\\nl=\"hello ®~!/,.\"\\nprint(ascii(l))', '_i14': '#bin() Returns binary version of number\\n\\nx=\"Hello\"\\nprint(bin(x))', '_i15': '#bin() Returns binary version of number\\n\\nx=2458\\nprint(bin(x))', '_i16': '#bin() Returns binary version of number\\n\\nx=2458\\nprint(bin(x))\\n\\ny=\"Hello\"\\nprint(bin(y))', '_i17': '#bool()  Returns boolean Value\\n# by default it retirns true if object is not empty\\n\\na=\"Hello\"\\nl=[a,33,0]\\nt=()\\ns={()}\\n\\nprint(bool(a))\\nprint(bool(l))\\nprint(bool(t))\\nprint(bool(s))', '_i18': '#bool()  Returns boolean Value\\n# by default it retirns true if object is not empty\\n\\na=\"Hello\"\\nl=[a,33,0]\\nt=()\\ns={()}  # Here object is not empty.. returns True\\nz={}\\n\\nprint(bool(a))\\nprint(bool(l))\\nprint(bool(t))\\nprint(bool(s))\\npritn(bool(z))', 'z': {}, '_i19': '#bool()  Returns boolean Value\\n# by default it retirns true if object is not empty\\n\\na=\"Hello\"\\nl=[a,33,0]\\nt=()\\ns={()}  # Here object is not empty.. returns True\\nz={}\\n\\nprint(bool(a))\\nprint(bool(l))\\nprint(bool(t))\\nprint(bool(s))\\nprint(bool(z))', '_i20': '#bytearray()\\n# Returns bytearray of any object\\n\\nx=\"hello\"\\nprint(bytearray(x))', '_i21': '#bytearray()\\n# Returns bytearray of any object\\n\\nx=6\\nprint(bytearray(x))', '_i22': '#bytes()\\n#Returns bytes object\\n\\nprint(bytes(4))', '_i23': '#bytes()\\n#Returns bytes object\\n\\nprint(bytes(4))\\n\\na=Hello\\nprint(bytes(a))', '_i24': \"#bytes()\\n#Returns bytes object\\n\\nprint(bytes(4))\\n\\na='Hello'\\nprint(bytes(a))\", '_i25': '#bytes()\\n#Returns bytes object\\n\\nprint(bytes(4))\\n\\na=366\\nb=\"Hello\"\\nprint(bytes(a,b))', '_i26': '#bytes()\\n#Returns bytes object\\n\\nprint(bytes(4))\\n\\na=366\\nb=\"Hello\"\\nprint(bytes(a))', '_i27': '#bytes()\\n#Returns bytes object\\n\\nprint(bytes(4))\\n\\na=36\\nb=\"Hello\"\\nprint(bytes(a))', '_i28': '# callable()\\n# If object is callable returns true\\n\\nx=5\\n\\ndef fn():\\n    a=6\\n    print(a)\\n\\nobj=fn()\\n\\nprint(callable(x))\\nprint(callable(a))\\nprint(callable(obj))', 'fn': <function fn at 0x7e62301c7250>, 'obj': 'VSP', '_i29': '# callable()\\n# If object is callable returns true\\n\\nx=5\\n\\ndef fn():\\n    a=6\\n    print(a)\\n\\nobj=fn()\\n\\nprint(callable(x))\\nprint(callable(a))\\nprint(callable(obj))\\nprint(callable(fn))', '_i30': '# callable()\\n# If object is callable returns true\\n\\nx=5\\n\\ndef fn():\\n    a=6\\n   \\n\\nobj=fn()\\n\\nprint(callable(x))  \\nprint(callable(a))\\nprint(callable(obj))\\nprint(callable(fn))', '_i31': '#chr()\\n# Returns a character from Unicode UNICode\\n\\nx=98\\nprint(chr(x))', '_i32': '#ord()\\n# Returns unicode of a charater\\n\\nx=98\\nprint(ord(x))', '_i33': '#ord()\\n# Returns unicode of a charater\\n\\nx=98\\nprint(x.ord())', '_i34': '#ord()\\n# Returns unicode of a charater\\n\\nx=98\\nprint(ord(x))', '_i35': '#ord()\\n# Returns unicode of a charater\\n\\nx=\"b\"\\nprint(ord(x))', '_i36': '#chr()\\n# Returns a character from Unicode UNICode\\n\\nx=98\\nprint(chr(x))\\nprint(chr(98))', '_i37': '#ord()\\n# Returns unicode of a charater\\n\\nx=\"b\"\\nprint(ord(x))\\nprint(ord(\"b\"))', '_i38': '# classmethod()\\n# Converts a method into class method\\n\\ndef fn():\\n    print(\"Hello\")\\n\\ncls_m=fn.classmethod()', '_i39': '# classmethod()\\n# Converts a method into class method\\n\\ndef fn():\\n    print(\"Hello\")\\n\\ncls_m=classmethod(fn)', 'cls_m': <classmethod(<function fn at 0x7e62301c7250>)>, '_i40': '# classmethod()\\n# Converts a method into class method\\n\\ndef fn():\\n    print(\"Hello\")\\n\\ncls_m=classmethod(fn)\\nprint9type(cls_m)', '_i41': '# classmethod()\\n# Converts a method into class method\\n\\ndef fn():\\n    print(\"Hello\")\\n\\ncls_m=classmethod(fn)\\nprint(type(cls_m))', '_i42': '# classmethod()\\n# Converts a method into class method\\n\\ndef fn():\\n    print(\"Hello\")\\n\\ncls_m=classmethod(fn)\\nprint(type(cls_m))\\nprint(type(fn))', '_i43': '#compile()\\n#compiles more than one statement\\n\\nx=(\"Test\",True,12,\"Pass\")\\nprint(compile(x))', '_i44': '#compile()\\n#compiles more than one statement\\n\\nx=compile(print(\"test\"),\" \",print(True),\" \",print(1254))', '_i45': '#compile()\\n#compiles more than one statement\\n\\nx=compile(print(\"test\"),\" \",print(True),\" \",print(1254))\\nexec(x)', '_i46': '#compile()\\n#compiles more than one statement\\n\\nx=compile(print(\"test\"),\" \\\\n\",print(True),\"\\\\n\",print(1254))\\nexec(x)', '_i47': '#compile()\\n#compiles more than one statement\\n\\nx=compile(print(\"test\"),\"\\\\n\",print(True),\"\\\\n\",print(1254))\\nexec(x)', '_i48': '#compile()\\n#compiles more than one statement\\n\\nx=compile(print(\"test\"),\\\\n,print(True),\\\\n,print(1254))\\nexec(x)', '_i49': '#compile()\\n#compiles more than one statement\\n\\nx=compile(print(\"test\"),\\\\nprint(True),\\\\nprint(1254))\\nexec(x)', '_i50': '#compile()\\n#compiles more than one statement\\n\\nx=compile(print(\"test\"),\\\\n print(True),\\\\nprint(1254))\\nexec(x)', '_i51': '#compile()\\n#compiles more than one statement\\n\\nx=compile(print(\"test\"),\\\\nprint(True),\\\\nprint(1254))\\nexec(x)', '_i52': '#compile()\\n#compiles more than one statement\\n\\nx=compile(\"print(\"test\")\",\"\\\\nprint(True)\",\\'\\\\nprint(1254)\\')\\nexec(x)', '_i53': '#compile()\\n#compiles more than one statement\\n\\nx=compile(\"print(test)\",\"\\\\nprint(True)\",\\'\\\\nprint(1254)\\')\\nexec(x)', '_i54': '#compile()\\n#compiles more than one statement\\n\\nx=compile(\"print(25)\",\"\\\\nprint(True)\",\\'\\\\nprint(1254)\\')\\nexec(x)', '_i55': '#compile()\\n#compiles more than one statement\\n\\nx=compile(\"print(25)\",\\'print(1254)\\')\\nexec(x)', '_i56': '#compile()\\n#compiles more than one statement\\n\\nx=compile(\"print(25)\",\"print(1254)\")\\nexec(x)', '_i57': '#compile()\\n#compiles more than one statement\\n\\nx=compile(print(25),print(1254))\\nexec(x)', '_i58': \"#compile()\\n#compiles more than one statement\\n\\nx=compile(p'rint(25)','print(1254)')\\nexec(x)\", '_i59': \"#compile()\\n#compiles more than one statement\\n\\nx=compile('print(25)','print(1254)')\\nexec(x)\", '_i60': \"#compile()\\n#compiles more than one statement\\n\\nx=compile('print(25)')\\nexec(x)\", '_i61': '#compile()\\n#compiles more than one statement\\n\\nx=compile(print(25))\\nexec(x)', '_i62': \"#compile()\\n#compiles more than one statement\\n\\nx = compile('print(55)\\\\nprint(88)', 'test', 'exec')\\nexec(x)\", '_i63': \"#compile()\\n#compiles more than one statement\\n\\nx = compile('print('Hello')\\\\nprint(88)', 'test', 'exec')\\nexec(x)\", '_i64': '#compile()\\n#compiles more than one statement\\n\\nx = compile(\\'print(\"Hello\")\\\\nprint(88)\\', \\'test\\', \\'exec\\')\\nexec(x)', '_i65': '#compile()\\n#compiles more than one statement\\n\\nx = compile(\\'print(\"Hello\")\\\\nprint(88)\\', \\'test\\')\\nexec(x)', '_i66': '#compile()\\n#compiles more than one statement\\n\\nx = compile(\\'print(\"Hello\")\\\\nprint(88)\\', \\'test\\',\\'exec\\')\\nexec(x)', '_i67': '#complex()\\n#Returns complex number\\n\\nx=complex(3,5)\\ny=complex(2+6j)\\n\\n\\nprint(x,y', '_i68': '#complex()\\n#Returns complex number\\n\\nx=complex(3,5)\\ny=complex(2+6j)\\n\\n\\nprint(x,y)', '_i69': '#delattr()\\n#deletes specified Attribute\\n\\nx=[\"Name\",\"Age\",266]\\n\\ndelattr(\"Name\",266)', '_i70': '#delattr()\\n#deletes specified Attribute\\n\\nx=[\"Name\",\"Age\"]\\ny={\"Name\":\"Shiva\",\"Age\":36}\\n\\nprint(delattr(\"Name\"))\\nprint(delattr(\"Name\"))', '_i71': '#delattr()\\n#deletes specified Attribute\\n\\n\\ny={\"Name\":\"Shiva\",\"Age\":36}\\n\\n\\nprint(delattr(\"Name\",\"Shiva\"))', '_i72': '#delattr()\\n#deletes specified Attribute\\n# USeful for classes\\n\\nclass person:\\n    name=\"Shiva\"\\n    age=42\\n\\nprint(delattr(\"person\",\"name\"))', 'person': <class '__main__.person'>, '_i73': '#delattr()\\n#deletes specified Attribute\\n# USeful for classes\\n\\nclass person:\\n    name=\"Shiva\"\\n    age=42\\n\\ndelattr(\"person\",\"name\")', '_i74': '#delattr()\\n#deletes specified Attribute\\n# USeful for classes\\n\\nclass person:\\n    name=\"Shiva\"\\n    age=42\\n\\ndelattr(person,\"name\")', '_i75': '#delattr()\\n#deletes specified Attribute\\n# USeful for classes\\n\\nclass person:\\n    name=\"Shiva\"\\n    age=42\\n\\ndelattr(person,\"name\")\\n\\nprint(person)', '_i76': '#delattr()\\n#deletes specified Attribute\\n# USeful for classes\\n\\nclass person:\\n    name=\"Shiva\"\\n    age=42\\n\\ndelattr(person,\"name\")\\n\\nprint(person())', '_i77': '#delattr()\\n#deletes specified Attribute\\n# USeful for classes\\n\\nclass person:\\n    name=\"Shiva\"\\n    age=42\\n\\ndelattr(person,\"name\")\\n\\nprint(person.age)', '_i78': '#delattr()\\n#deletes specified Attribute\\n# USeful for classes\\n\\nclass person:\\n    name=\"Shiva\"\\n    age=42\\n\\ndelattr(person,\"name\")\\n\\nprint(person.age)\\nprint(person.name)', '_i79': '#delattr()\\n#deletes specified Attribute\\n# USeful for classes\\n\\nclass person:\\n    name=\"Shiva\"\\n    age=42\\n\\nprint(person.age)\\nprint(person.name)  \\n\\ndelattr(person,\"name\")\\n\\nprint(person.age)\\nprint(person.name)  ', '_i80': '#dict()\\n#Returns a dictionary\\n\\na={\"Name\",\"Age\"}\\nprint(dict(a))', '_i81': '#dict()\\n#Returns a dictionary\\n\\na={\"Name\",\"Age\",\"City\"}\\nprint(dict(a))', '_i82': '#dict()\\n#Returns a dictionary\\n\\na=(name=\"Shiva\",age=39,city=\"AP\")\\nprint(dict(a))', '_i83': '#dict()\\n#Returns a dictionary\\n\\na=dict(name=\"Shiva\",age=39,city=\"AP\")\\nprint(a,type(a))', '_i84': '#dict()\\n#Returns a dictionary\\n\\na=dict(name=\"Shiva\",age=39,city=\"AP\")\\nprint(a,type(a))\\n\\nb=[\"Shiva\",36,\"AP\"]\\ndict(b)', '_i85': '#dict()\\n#Returns a dictionary\\n\\na=dict(name=\"Shiva\",age=39,city=\"AP\")\\nprint(a,type(a))\\n\\nname=\"SHiva\"\\nage=36\\ncity=\"AP\"\\n\\nc=dict(name,age,city)\\nprint(c)', 'name': ('Shiva', None), 'age': 36, 'city': 'AP', '_i86': '#dict()\\n#Returns a dictionary\\n\\na=dict(name=\"Shiva\",age=39,city=\"AP\")\\nprint(a,type(a))\\n\\ndef fun():\\n    name=\"SHiva\"\\n    age=36\\n    city=\"AP\"\\n\\nc=dict(fun())\\nprint(c)', 'fun': <function fun at 0x7e62301f1bd0>, '_i87': '#dict()\\n#Returns a dictionary\\n\\na=dict(name=\"Shiva\",age=39,city=\"AP\")\\nprint(a,type(a))\\n\\ndef fun():\\n    name=\"SHiva\"\\n    age=36\\n    city=\"AP\"\\n\\nc=dict(fun)\\nprint(c)', '_i88': '#dict()\\n#Returns a dictionary\\n\\na=dict(name=\"Shiva\",age=39,city=\"AP\")\\nprint(a,type(a))', '_i89': '#dir()\\n\\n#Returns all properties of a class or method\\n\\nclass person:\\n    name=\"Shiva\"\\n    age=42\\n    city=\"VSP\"\\n\\n    def fn():\\n        popu=1245511\\n        country=\"India\"\\n\\nprint(dir(person))', '_i90': '#dir()\\n\\n#Returns all properties of a class or method\\n\\nclass person:\\n    name=\"Shiva\"\\n    age=42\\n    city=\"VSP\"\\n\\n    def fn():\\n        popu=1245511\\n        country=\"India\"\\nobj=fn()\\n\\nprint(dir(person))\\nprint(dir(obj))', '_i91': '#dir()\\n\\n#Returns all properties of a class or method\\n\\nclass person:\\n    name=\"Shiva\"\\n    age=42\\n    city=\"VSP\"\\n\\n    def fn():\\n        popu=1245511\\n        country=\"India\"\\nobj=fn()\\n\\nprint(dir(person))\\nprint(dir(obj))\\nprint(dir(fn))', '_i92': '#dir()\\n\\n#Returns all properties of a class or method\\n\\nclass person:\\n    name=\"Shiva\"\\n    age=42\\n    city=\"VSP\"\\n\\n    def fn():\\n        popu=1245511\\n        country=\"India\"\\nobj=fn()\\n\\nprint(dir(person\\\\b))\\nprint(dir(obj))\\nprint(dir(fn))', '_i93': '#dir()\\n\\n#Returns all properties of a class or method\\n\\nclass person:\\n    name=\"Shiva\"\\n    age=42\\n    city=\"VSP\"\\n\\n    def fn():\\n        popu=1245511\\n        country=\"India\"\\nobj=fn()\\n\\nprint(dir(person,\"\\\\b\"))\\nprint(dir(obj))\\nprint(dir(fn))', '_i94': '#dir()\\n\\n#Returns all properties of a class or method\\n\\nclass person:\\n    name=\"Shiva\"\\n    age=42\\n    city=\"VSP\"\\n\\n    def fn():\\n        popu=1245511\\n        country=\"India\"\\nobj=fn()\\n\\nprint(dir(person),\\\\b)\\nprint(dir(obj))\\nprint(dir(fn))', '_i95': '#dir()\\n\\n#Returns all properties of a class or method\\n\\nclass person:\\n    name=\"Shiva\"\\n    age=42\\n    city=\"VSP\"\\n\\n    def fn():\\n        popu=1245511\\n        country=\"India\"\\nobj=fn()\\n\\nprint(dir(person),\\'\\\\b\\')\\nprint(dir(obj))\\nprint(dir(fn))', '_i96': '#dir()\\n\\n#Returns all properties of a class or method\\n\\nclass person:\\n    name=\"Shiva\"\\n    age=42\\n    city=\"VSP\"\\n\\n    def fn():\\n        popu=1245511\\n        country=\"India\"\\nobj=fn()\\n\\nprint(dir(person))\\nprint(dir(obj))\\nprint(dir(fn))', '_i97': '#dir()\\n\\n#Returns all properties of a class or method\\n\\nclass person:\\n    name=\"Shiva\"\\n    age=42\\n    city=\"VSP\"\\n\\n    def fn():\\n        popu=1245511\\n        country=\"India\"\\nobj=fn()\\n\\nprint(dir(person))\\nprint(dir(obj))\\nprint(dir(fn))', '_i98': '#divmod()\\n#display quotient and remainder\\n\\nprint(divmod(2,6))', '_i99': '#divmod()\\n#display quotient and remainder\\n\\nprint(divmod(2,6))  #\\nprint(divmod(5,2))', '_i100': 'x=(123,True,\"Hello\")\\nprint(enumerate(x))', '_i101': 'x=(123,True,\"Hello\")\\ny=enumerate(x)', '_i102': '#enumerate()\\n#Takes enumerate objects AND RETURNS to enumerate objects\\nx=(123,True,\"Hello\")\\ny=enumerate(x)\\nprint(y)\\nprint(type(x),type(y))', '_i103': '#enumerate()\\n#Takes enumerate objects AND RETURNS to enumerate objects\\nx=(123,True,\"Hello\")\\ny=enumerate(x)\\nprint(y)\\nprint(y,2)\\nprint(type(x),type(y))', '_i104': '#enumerate()\\n#Takes enumerate objects AND RETURNS to enumerate objects\\nx=(123,True,\"Hello\")\\ny=enumerate(x)\\nprint(list(y))\\nprint(list(y,2))\\nprint(type(x),type(y))', '_i105': '#enumerate()\\n#Takes enumerate objects AND RETURNS to enumerate objects\\nx=(123,True,\"Hello\")\\ny=enumerate(x)\\nprint(list(y))\\nprint(list(y),2)\\nprint(type(x),type(y))', '_i106': '#enumerate()\\n#Takes enumerate objects AND RETURNS to enumerate objects\\nx=(123,True,\"Hello\")\\ny=enumerate(x)\\nprint(list(y))\\nprint(list(y))\\nprint(type(x),type(y))', '_i107': '#enumerate()\\n#Takes enumerate objects AND RETURNS to enumerate objects\\nx=(123,True,\"Hello\")\\ny=enumerate(x)\\nprint(list(y))\\n\\nprint(type(x),type(y))', '_i108': '#enumerate()\\n#Takes enumerate objects AND RETURNS to enumerate objects\\nx=(123,True,\"Hello\")\\ny=enumerate(x)\\nprint(list(list(y)))\\n\\nprint(type(x),type(y))', '_i109': '#enumerate()\\n#Takes enumerate objects AND RETURNS to enumerate objects\\nx=(123,True,\"Hello\")\\ny=enumerate(x)\\nprint(list(list(list(y))))\\n\\nprint(type(x),type(y))', '_i110': '#enumerate()\\n#Takes enumerate objects AND RETURNS to enumerate objects\\nx=(123,True,\"Hello\")\\ny=enumerate(x)\\nprint(tup(list(list(list(y)))))\\n\\nprint(type(x),type(y))', '_i111': '#enumerate()\\n#Takes enumerate objects AND RETURNS to enumerate objects\\nx=(123,True,\"Hello\")\\ny=enumerate(x)\\nprint(tuple(list(list(list(y)))))\\n\\nprint(type(x),type(y))', '_i112': '#enumerate()\\n#Takes enumerate objects AND RETURNS to enumerate objects\\nx=(123,True,\"Hello\")\\ny=enumerate(x)\\nprint(y)\\n\\nprint(type(x),type(y))', '_i113': '#enumerate()\\n#Takes enumerate objects AND RETURNS to enumerate objects\\n# It helpsus to convert one data type to another datatype\\nx=(123,True,\"Hello\")\\ny=enumerate(x)  #enumerated object\\nprint(y)\\nprint(type(x),type(y))\\na=list(y)\\nprint(a,type(a))', '_i114': '#enumerate()\\n#Takes enumerate objects AND RETURNS to enumerate objects\\n# It helpsus to convert one data type to another datatype\\nx=(123,True,\"Hello\")\\ny=enumerate(x)  #enumerated object\\nprint(y)\\nprint(type(x),type(y))\\na=list(y) # \\nprint(a,type(a)) #print(list(y))   converted enumerated object to list\\n\\nprint(dict(y))', '_i115': '#enumerate()\\n#Takes enumerate objects AND RETURNS to enumerate objects\\n# It helpsus to convert one data type to another datatype\\nx=(123,True,\"Hello\")\\ny=enumerate(x)  #enumerated object\\nprint(y)\\nprint(type(x),type(y))\\na=list(y) # \\nprint(a,type(a)) #converted enumerated object to list\\nprint(list(y))\\nprint(dict(y))', '_i116': '#enumerate()\\n#Takes enumerate objects AND RETURNS to enumerate objects\\n# It helpsus to convert one data type to another datatype\\nx=(123,True,\"Hello\")\\ny=enumerate(x)  #enumerated object\\nprint(y)\\nprint(type(x),type(y))\\na=list(y) # \\nprint(a,type(a)) #converted enumerated object to list\\nprint(list(y))\\n\\nz=dict(y)\\nprint(z)', '_i117': '#enumerate()\\n#Takes enumerate objects AND RETURNS to enumerate objects\\n# It helpsus to convert one data type to another datatype\\nx=(123,True,\"Hello\")\\ny=enumerate(x)  #enumerated object\\nprint(y)\\nprint(type(x),type(y))\\na=list(y) # \\nprint(a,type(a)) #converted enumerated object to list\\nprint(list(y))\\n\\nz=dict(y)\\nprint(z)\\nprint(dict(y))', '_i118': '#enumerate()\\n#Takes enumerate objects AND RETURNS to enumerate objects\\n# It helpsus to convert one data type to another datatype\\nx=(123,True,\"Hello\")\\ny=enumerate(x)  #enumerated object\\nprint(y)\\nprint(type(x),type(y))\\na=list(y) # \\nprint(a,type(a)) #converted enumerated object to list\\nprint(list(y))\\n\\nz=dict(y)  #creates empty dictionary \\nprint(z)\\nprint(dict(y))\\n\\ndc={\"Name\":\"Shivas\",\"Age\":42,\"city\":\"VSP\"}\\nenume1=enumerate(dc)\\nprint(list(enume1))', 'dc': {'Name': 'Shivas', 'Age': 42, 'city': 'VSP'}, 'enume1': <enumerate object at 0x7e623019b840>, '_i119': '#enumerate()\\n#Takes enumerate objects AND RETURNS to enumerate objects\\n# It helpsus to convert one data type to another datatype\\nx=(123,True,\"Hello\")\\ny=enumerate(x)  #enumerated object\\nprint(y)\\nprint(type(x),type(y))\\na=list(y) # \\nprint(a,type(a)) #converted enumerated object to list\\nprint(list(y))\\n\\nz=dict(y)  #creates empty dictionary \\nprint(z)\\nprint(dict(y))\\n\\ndc={\"Name\":\"Shivas\",\"Age\":42,\"city\":\"VSP\"}\\nen1=enumerate(dc)\\nprint(list(en1))\\nprint(tuple(en1))\\nprint(str(en1))', 'en1': <enumerate object at 0x7e62302238c0>, '_i120': '#enumerate()\\n#Takes enumerate objects AND RETURNS to enumerate objects\\n# It helpsus to convert one data type to another datatype\\nx=(123,True,\"Hello\")\\ny=enumerate(x)  #enumerated object\\nprint(y)\\nprint(type(x),type(y))\\na=list(y) # \\nprint(a,type(a)) #converted enumerated object to list\\nprint(list(y))\\n\\nz=dict(y)  #creates empty dictionary \\nprint(z)\\nprint(dict(y))\\n\\ndc={\"Name\":\"Shivas\",\"Age\":42,\"city\":\"VSP\"}\\nen1=enumerate(dc)\\nprint(list(en1))\\nprint(tuple(en1))\\nprint(str().en1)', '_i121': '#enumerate()\\n#Takes enumerate objects AND RETURNS to enumerate objects\\n# It helpsus to convert one data type to another datatype\\nx=(123,True,\"Hello\")\\ny=enumerate(x)  #enumerated object\\nprint(y)\\nprint(type(x),type(y))\\na=list(y) # \\nprint(a,type(a)) #converted enumerated object to list\\nprint(list(y))\\n\\nz=dict(y)  #creates empty dictionary \\nprint(z)\\nprint(dict(y))\\n\\ndc={\"Name\":\"Shivas\",\"Age\":42,\"city\":\"VSP\"}\\nen1=enumerate(dc)\\nprint(list(en1))\\nprint(tuple(en1))\\nprint(str(en1))', '_i122': '#enumerate()\\n#Takes enumerate objects AND RETURNS to enumerate objects\\n# It helpsus to convert one data type to another datatype\\nx=(123,True,\"Hello\")\\ny=enumerate(x)  #enumerated object\\nprint(y)\\nprint(type(x),type(y))\\na=list(y) # \\nprint(a,type(a)) #converted enumerated object to list\\nprint(list(y))\\n\\nz=dict(y)  #creates empty dictionary \\nprint(z)\\nprint(dict(y))\\n\\ndc={\"Name\":\"Shivas\",\"Age\":42,\"city\":\"VSP\"}\\nen1=enumerate(dc)\\nprint(list(en1))\\nprint(tuple(en1))\\nstr1=str(en1)\\nprint(str(en1))\\nprint(str1)  ', 'str1': '<enumerate object at 0x7e62302238c0>', '_i123': '#enumerate()\\n#Takes enumerate objects AND RETURNS to enumerate objects\\n# It helpsus to convert one data type to another datatype\\nx=(123,True,\"Hello\")\\ny=enumerate(x)  #enumerated object\\nprint(y)\\nprint(type(x),type(y))\\na=list(y) # \\nprint(a,type(a)) #converted enumerated object to list\\nprint(list(y))\\n\\nz=dict(y)  #creates empty dictionary \\nprint(z)\\nprint(dict(y))\\n\\ndc={\"Name\":\"Shivas\",\"Age\":42,\"city\":\"VSP\"}\\nen1=enumerate(dc)\\nen2=list(en1)\\nen3=tuple(en1)\\nstr1=str(en1)\\nprint(type(en2),en2)\\nprint(type(en3),en3)\\nprint(type(str1),str1)  ', 'en2': [(0, 'Name'), (1, 'Age'), (2, 'city')], 'en3': (), '_i124': '#eval()\\n#evaluate a function\\n\\na=eval(((55+26)**2)*2)\\nprint(a)', '_i125': '#eval()\\n#evaluate a function\\n\\na=((55+26)**2)*2\\nprint(eval(a))', '_i126': '#eval()\\n#evaluate a function\\n\\na=((55+26)**2)*2\\neval(a)', '_i127': '#eval()\\n#evaluate a function\\n\\na=55+26**2*2\\neval(a)', '_i128': '#eval()\\n#evaluate a function\\n\\na=55+26\\neval(a)', '_i129': '#eval()\\n#evaluate a function\\n\\na=eval(((55+26)**2)*2)', '_i130': '#eval()\\n#evaluate a function\\n\\na=((55+26)**2)*2\\nprint(eval(a))', '_i131': '#eval()\\n#evaluate a function\\n\\na=eval(print(\"Hello\"))\\nprint(a)', '_i132': '#eval()\\n#evaluate a function\\n\\na=print(\"Hello\")\\nprint9eval(a)', '_i133': '#eval()\\n#evaluate a function\\n\\na=print(\"Hello\")\\nprint(eval(a))', '_i134': '#eval()\\n#evaluate a function\\n\\na=print(\"Hello\")\\neval(a)', '_i135': '#eval()\\n#evaluate a function\\n\\na=\\'print(\"Hello\")\\'\\neval(a)', '_i136': '#eval()\\n#evaluate a function\\n\\na=\\'print(\"Hello\")\\'\\neval(a)\\n\\nb=\\'(((22+56)**2)*2)\\'\\neval(b)', '_136': 12168, '_i137': '# maketrans(a,b,c)\\n\"\"\" Here a is first parameter\\n    b is replaceable parameters\\n    c is removable parameters\\n\"\"\"\\ntext = \"Welcome Ram\"\\n\\na = \"amR\"\\nb = \"oeN\"\\nc = \"coe\"\\n\\ntext1 = str.maketrans(a,b,c)\\nprint(text1)\\nprint(chr(text1))\\nprint(type(text1))\\n\\nfinal=  text.translate(text1)   # finally replace \"a\"\"m\"\"R\" with \"o\"\"e\"\"N\" and then removes \"c\"\"o\"\"e\" where ever exists\\nprint(final)', 'text': 'Welcome Ram', 'text1': {97: 111, 109: 101, 82: 78, 99: None, 111: None, 101: None}, '_i138': '# maketrans(a,b,c)\\n\"\"\" Here a is first parameter\\n    b is replaceable parameters\\n    c is removable parameters\\n\"\"\"\\ntext = \"Welcome Ram\"\\n\\na = \"amR\"\\nb = \"oeN\"\\nc = \"coe\"\\n\\ntext1 = str.maketrans(a,b,c)\\nprint(text1)\\n\\nprint(type(text1))\\n\\nfinal=  text.translate(text1)   # finally replace \"a\"\"m\"\"R\" with \"o\"\"e\"\"N\" and then removes \"c\"\"o\"\"e\" where ever exists\\nprint(final)', 'final': 'Wle Noe', '_i139': '# maketrans(a,b,c)\\n\"\"\" Here a is first parameter\\n    b is replaceable parameters\\n    c is removable parameters\\n\"\"\"\\ntext = \"Welcome Ram\"\\n\\na = \"amR\"\\nb = \"oeN\"\\nc = \"coe\"\\n\\ntext1 = str.maketrans(a,b,c)\\nprint(text1)\\nprint(ord(text1))\\n\\nprint(type(text1))\\n\\nfinal=  text.translate(text1)   # finally replace \"a\"\"m\"\"R\" with \"o\"\"e\"\"N\" and then removes \"c\"\"o\"\"e\" where ever exists\\nprint(final)', '_i140': '# maketrans(a,b,c)\\n\"\"\" Here a is first parameter\\n    b is replaceable parameters\\n    c is removable parameters\\n\"\"\"\\ntext = \"Welcome Ram\"\\n\\na = \"amR\"\\nb = \"oeN\"\\nc = \"coe\"\\n\\ntext1 = str.maketrans(a,b,c)\\nprint(text1)\\n\\n\\nprint(type(text1))\\n\\nfinal=  text.translate(text1)   # finally replace \"a\"\"m\"\"R\" with \"o\"\"e\"\"N\" and then removes \"c\"\"o\"\"e\" where ever exists\\nprint(final)', '_i141': '#exec()\\n#exec specified  code\\n\\nobj=\\'print(\"Hello),125\\'\\n\\nexec(obj)', '_i142': '#exec()\\n#exec specified  code\\n\\nobj=\\'(print(\"Hello),125)\\'\\n\\nexec(obj)', '_i143': '#exec()\\n#exec specified  code\\n\\nobj=\\'name=\"Shiva\",print(name)\\'\\n\\nexec(obj)', '_i144': '#exec()\\n#exec specified  code\\n\\nobj=\\'name=\"Shiva\",print(name)\\'\\n\\nexec(obj)\\n\\n\\ndef func():\\n    print(\"Welcome to pythonThe most popular language \")\\n\\nobj=func()\\nexec(obj)', 'func': <function func at 0x7e62301f15a0>, '_i145': '#exec()\\n#exec specified  code\\n\\nobj=\\'name=\"Shiva\",print(name)\\'\\n\\nexec(obj)\\n\\n\\ndef func():\\n    print(\"Welcome to pythonThe most popular language \")\\n\\nobj1=func()\\nexec(obj1)', 'obj1': None, '_i146': '#exec()\\n#exec specified  code\\n\\nobj=\\'name=\"Shiva\",print(name)\\'\\n\\nexec(obj)\\n\\ndef func():\\n    print(\"Welcome to pythonThe most popular language \")\\n\\nobj1=func()\\nexec(obj1)', '_i147': '#exec()\\n#exec specified  code\\n\\nobj=\\'name=\"Shiva\",print(name)\\'\\n\\nexec(obj)\\n\\ndef func():\\n    print(\"Welcome to pythonThe most popular language \")\\n\\nobj1=func()\\nexec(func())', '_i148': '#exec()\\n#exec specified  code\\n\\nobj=\\'name=\"Shiva\",print(name)\\'\\n\\nexec(obj)\\n\\ndef func():\\n    print(\"Welcome to pythonThe most popular language \")\\n\\nobj1=func()\\nexec(\"func()\")', '_i149': '#exec()\\n#exec specified  code\\n\\nobj=\\'name=\"Shiva\",print(name)\\'\\n\\nexec(obj)\\n\\ndef func():\\n    print(\"Welcome to pythonThe most popular language \")\\n\\nobj1=func()\\nexec(\"func()\")\\nexec(\"obj1\")', '_i150': '#exec()\\n#exec specified  code\\n\\nobj=\\'name=\"Shiva\",print(name)\\'\\n\\nexec(obj)\\n\\ndef func():\\n    print(\"Welcome to pythonThe most popular language \")\\n\\nobj1=func()\\n#exec(\"func()\")\\nexec(\"obj1\")', '_i151': '#exec()\\n#exec specified  code\\n\\nobj=\\'name=\"Shiva\",print(name)\\'\\n\\nexec(obj)\\n\\ndef func():\\n    print(\"Welcome to pythonThe most popular language \")\\n\\nobj1=func()\\nexec(\"func()\")\\nexec(\"obj1\")', '_i152': '#exec()\\n#exec specified  code\\n\\nobj=\\'name=\"Shiva\",print(name)\\'\\n\\nexec(\"obj\")\\n\\ndef func():\\n    print(\"Welcome to pythonThe most popular language \")\\n\\nobj1=func()\\nexec(\"func()\")\\nexec(\"obj1\")', '_i153': '#exec()\\n#exec specified  code\\n\\nobj=\\'name=\"Shiva\",print(name)\\'\\n\\nexec(\"obj\")\\n\\ndef func():\\n    print(\"Welcome to pythonThe most popular language \")\\n\\nobj1=func()\\nexec(\"func()\")\\nexec(\"obj1\")', '_i154': '#exec()\\n#exec specified  code\\n\\nobj=\\'name=\"Shiva\",print(name)\\'\\n\\nexec(obj)\\n\\ndef func():\\n    print(\"Welcome to pythonThe most popular language \")\\n\\nobj1=func()\\nexec(\"func()\")\\nexec(\"obj1\")', '_i155': '#exec()\\n#exec specified  code\\n\\nobj=\\'name=\"Shiva\",print(name)\\'\\n\\nexec(obj)\\n\\ndef func():\\n    print(\"Welcome to pythonThe most popular language \")\\n\\nobj1=func()\\n#exec(\"func()\")\\nexec(\"obj1\")', '_i156': '#exec()\\n#exec specified  code\\n\\nobj=\\'name=\"Shiva\",print(name)\\'\\n\\nexec(obj)\\n\\ndef func():\\n    print(\"Welcome to pythonThe most popular language \")\\n\\nobj1=func()\\n#exec(\"func()\")\\nexec(obj1)', '_i157': '#exec()\\n#exec specified  code\\n\\nobj=\\'name=\"Shiva\",print(name)\\'\\n\\nexec(obj)\\n\\ndef func():\\n    print(\"Welcome to pythonThe most popular language \")\\n\\nobj1=func()\\n#exec(\"func()\")\\nexec(\"obj1\")', '_i158': '#filter()\\n#filters the given value\\n\\nflt=[18,15,12,1,15,18,18]\\n\\nfilter(flt)', 'flt': [18, 15, 12, 1, 15, 18, 18], '_i159': '#filter()\\n#filters the given value\\n\\nflt=[18,15,12,1,15,18,18]\\n\\nfilter(flt,18)', '_i160': '#filter()\\n#filters the given value\\n\\nflt=[18,15,12,1,15,18,18]\\n\\nprint(x in flt, if filter(flt,18) <18)', '_i161': '#filter()\\n#filters the given value\\n\\nflt=[18,15,12,1,15,18,18]\\n\\nprint(x in flt, if filter(flt,18))', '_i162': '#filter()\\n#filters the given value\\n\\nflt=[18,15,12,1,15,18,18]\\n\\nprint(x in flt, filter(flt,18))', '_i163': '#filter()\\n#filters the given value\\n\\nnum=[15,14,99,77,24,18,15,12,1,15,18,18]\\n\\ndef even(numbers):\\n    if numb % 2 ==0:\\n        return numb\\n\\n    else:\\n        pass\\n\\nobj=even(num)\\nprint(obj)', 'num': [15, 14, 99, 77, 24, 18, 15, 12, 1, 15, 18, 18], 'even': <function even at 0x7e62301f3c70>, '_i164': '#filter()\\n#filters the given value\\n\\nnum=[15,14,99,77,24,18,15,12,1,15,18,18]\\n\\ndef even(numbers):\\n    numb=numbers\\n    if numb % 2 ==0:\\n        return numb\\n\\n    else:\\n        pass\\n\\nobj=even(num)\\nprint(obj)', '_i165': '#filter()\\n#filters the given value\\n\\nnum=[15,14,99,77,24,18,15,12,1,15,18,18]\\n\\ndef even(numbers):\\n    numb=numbers\\n    if numb % 2 == 0:\\n        return numb\\n\\n    else:\\n        pass\\n\\nobj=filtered(even,num)\\n\\nprint(obj)', '_i166': '#filter()\\n#filters the given value\\n\\nnum=[15,14,99,77,24,18,15,12,1,15,18,18]\\n\\ndef even(numbers):\\n    numb=numbers\\n    if numb % 2 == 0:\\n        return numb\\n\\n    else:\\n        pass\\n\\nobj=filter(even,num)\\n\\nprint(obj)', '_i167': '#filter()\\n#filters the given value\\n\\nnum=[15,14,99,77,24,18,15,12,1,15,18,18]\\n\\ndef even(numbers):\\n    numb=numbers\\n    if numb % 2 == 0:\\n        numb += 1\\n        return numb\\n\\n    else:\\n        pass\\n\\nobj=filter(even,num)\\n\\nprint(obj)', '_i168': '#filter()\\n#filters the given value\\n\\nnum=[15,14,99,77,24,18,15,12,1,15,18,18]\\n\\ndef even(numbers):\\n    numb=numbers\\n    if numb % 2 == 0:\\n       \\n        return numb\\n\\n    else:\\n        pass\\n\\nobj=filter(even,num)\\n\\nprint(list(obj))', '_i169': '#float()\\n#Returns floating point number\\n\\na=[1,2,54,4,7]\\nprint(float(a))', '_i170': '#float()\\n#Returns floating point number\\n\\na=1,2,54,4,7\\nprint(float(a))', '_i171': '#float()\\n#Returns floating point number\\n\\na=54\\nprint(float(a))', '_i172': '#format()\\n#formats to specified format number,string,% etcc\\n\\na=format(2,\"%\")', '_i173': '#format()\\n#formats to specified format number,string,% etcc\\n\\na=format(2,\"%\")\\nb=format(22,\"s\")', '_i174': '#format()\\n#formats to specified format number,string,% etcc\\n\\na=format(2,\"%\")\\nb=format(22,\"n\")', '_i175': 'print(a,b)', '_i176': '#format()\\n#formats to specified format number,string,% etcc\\n\\na=format(2,\"%\")\\nb=format(22,\"n\")\\nc=format(22,\"c\")', '_i177': '#format()\\n#formats to specified format number,string,% etcc\\n\\na=format(2,\"%\")\\nb=format(22,\"n\")\\nc=format(22,\"c\")\\nd=format(\"Hello\",\"e\")\\ne=format(\"hi\",\"F\")\\n\\nprint(a,b,c,d,e)', '_i178': '#format()\\n#formats to specified format number,string,% etcc\\n\\na=format(2,\"%\")\\nb=format(22,\"n\")\\nc=format(22,\"c\")\\nd=format(\"Hello\",\"E\")\\ne=format(\"hi\",\"F\")\\n\\nprint(a,b,c,d,e)', '_i179': '#format()\\n#formats to specified format number,string,% etcc\\n\\na=format(2,\"%\")\\nb=format(22,\"n\")\\nc=format(22,\"c\")\\nd=format(\"Hello\",\"n\")\\ne=format(\"hi\",\"F\")\\n\\nprint(a,b,c,d,e)', '_i180': '#format()\\n#formats to specified format number,string,% etcc\\n\\na=format(2,\"%\")\\nb=format(22,\"n\")\\nc=format(22,\"c\")\\nd=format(343,\"e\")\\ne=format(\"hi\",\"F\")\\n\\nprint(a,b,c,d,e)', '_i181': '#format()\\n#formats to specified format number,string,% etcc\\n\\na=format(2,\"%\")\\nb=format(22,\"n\")\\nc=format(22,\"c\")\\nd=format(343,\"e\")\\ne=format(44,\"F\")\\n\\nprint(a,b,c,d,e)', 'e': '44.000000', '_i182': '#format()\\n#formats to specified format number,string,% etcc\\n\\na=format(2,\"%\")\\nb=format(22,\"n\")\\nc=format(22,\"c\")\\nd=format(343,\"e\")\\ne=format(44,\"F\")\\n\\nprint(a,b,c,d,e)', '_i183': '#format()\\n#formats to specified format number,string,% etcc\\n\\na=format(2,\"%\")\\nb=format(22,\"n\")\\nc=format(98,\"c\")\\nd=format(343,\"e\")\\ne=format(44,\"F\")\\n\\nprint(a,b,c,d,e)', '_i184': \"#frozenset()\\n#freezes the data type make it unchangeable\\n\\nl1=['Shiva','karthkeyaa','Nandhini']\\nt1=(1,2,3,3,2)\\na=frozenset(l1)\\nb=frozenset(t1)\\n\\nprint(type(l1),l1,\\\\ntype(t1),t1)\", '_i185': \"#frozenset()\\n#freezes the data type make it unchangeable\\n\\nl1=['Shiva','karthkeyaa','Nandhini']\\nt1=(1,2,3,3,2)\\na=frozenset(l1)\\nb=frozenset(t1)\\n\\nprint(type(l1),l1,'\\\\n',type(t1),t1)\", 'l1': [1, 2, 3], 't1': (1, 2, 3, 3, 2), '_i186': '#getattr()\\n\\n#Returns the value of sepcified object\\n\\nl1=[1,2,3]\\ngetattr(l1)', '_i187': '#getattr()\\n\\n#Returns the value of sepcified attribute of mentioned object\\n\\ndef fun():\\n    dct={\"Name\":\"Shivaprrasad\", \\'Age\\':30, \"city\":\"VSP\"}\\ngetattr(fun,city)', '_i188': '#getattr()\\n\\n#Returns the value of sepcified attribute of mentioned object\\n\\ndef fun():\\n    dct={\"Name\":\"Shivaprrasad\", \\'Age\\':30, \"city\":\"VSP\"}\\ngetattr(fun,\"city\")', '_i189': '#getattr()\\n\\n#Returns the value of sepcified attribute of mentioned object\\n\\ndef fun():\\n    dct={\"Name\":\"Shivaprrasad\", \\'Age\\':30, \"city\":\"VSP\"}\\n\\nx=getattr(fun,\"city\")', '_i190': '#getattr()\\n\\n#Returns the value of sepcified attribute of mentioned object\\n\\ndef fun():\\n    dct={\"Name\":\"Shivaprrasad\", \\'Age\\':30, \"city\":\"VSP\"}\\n\\nx=getattr(fun,dct[\"city\"])', '_i191': '#getattr()\\n\\n#Returns the value of sepcified attribute of mentioned object\\n\\ndef fun():\\n    dct={\"Name\":\"Shivaprrasad\", \\'Age\\':30, \"city\":\"VSP\"}\\n\\nx=getattr(fun,dct(\"city\"))', '_i192': '#getattr()\\n\\n#Returns the value of sepcified attribute of mentioned object\\n\\ndef fun():\\n    dct={\"Name\":\"Shivaprrasad\", \\'Age\\':30, \"city\":\"VSP\"}\\n\\nx=getattr(fun,dct.value(\"city\"))', '_i193': '#getattr()\\n\\n#Returns the value of sepcified attribute of mentioned object\\n\\ndef fun():\\n    dct={\"Name\":\"Shivaprrasad\", \\'Age\\':30, \"city\":\"VSP\"}\\n\\nx=getattr(fun(),dct.value(\"city\"))', '_i194': '#getattr()\\n\\n#Returns the value of sepcified attribute of mentioned object\\n\\ndef fun():\\n    dct={\"Name\":\"Shivaprrasad\", \\'Age\\':30, \"city\":\"VSP\"}\\n\\nx=getattr(fun(),\\'city\\')', '_i195': '#getattr()\\n\\n#Returns the value of sepcified attribute of mentioned object\\n\\ndef fun():\\n    dct={\"Name\":\"Shivaprrasad\", \\'Age\\':30, \"city\":\"VSP\"}\\n    return dct[\\'city\\']\\n\\nx=getattr(fun(),\\'city\\')', '_i196': '#getattr()\\n\\n#Returns the value of sepcified attribute of mentioned object\\n\\ndef fun():\\n    dct={\"Name\":\"Shivaprrasad\", \\'Age\\':30, \"city\":\"VSP\"}\\n    return dct[\\'city\\']\\n\\nx=getattr(fun(),\\'city\\',None)', '_i197': '#getattr()\\n\\n#Returns the value of sepcified attribute of mentioned object\\n\\ndef fun():\\n    dct={\"Name\":\"Shivaprrasad\", \\'Age\\':30, \"city\":\"VSP\"}\\n    return dct[\\'city\\']\\n\\nx=getattr(fun(),\\'cityr\\',None)', '_i198': '#getattr()\\n\\n#Returns the value of sepcified attribute of mentioned object\\n\\ndef fun():\\n    dct={\"Name\":\"Shivaprrasad\", \\'Age\\':30, \"city\":\"VSP\"}\\n    return dct[\\'city\\']\\n\\nx=getattr(fun(),\\'cityr\\',None)\\nprint(x)', '_i199': '#getattr()\\n\\n#Returns the value of sepcified attribute of mentioned object\\n\\ndef fun():\\n    dct={\"Name\":\"Shivaprrasad\", \\'Age\\':30, \"city\":\"VSP\"}\\n    return dct[\\'city\\']\\n\\nx=getattr(fun(),\\'city\\',None)\\nprint(x)', '_i200': '#getattr()\\n\\n#Returns the value of sepcified attribute of mentioned object\\n\\ndef fun():\\n    dct={\"Name\":\"Shivaprrasad\", \\'Age\\':30, \"city\":\"VSP\"}\\n    return dct[\\'city\\']\\n\\nx=getattr(fun(),\\'city\\',None)\\nprint(x)', '_i201': '#getattr()\\n\\n#Returns the value of sepcified attribute of mentioned object\\n\\ndef fun():\\n    dct={\"Name\":\"Shivaprrasad\", \\'Age\\':30, \"city\":\"VSP\"}\\n    return dct[\\'city\\']\\n\\nx=getattr(fun(),\\'VSP\\',None)\\nprint(x)', '_i202': '#getattr()\\n\\n#Returns the value of sepcified attribute of mentioned object\\n\\ndef fun():\\n    dct={\"Name\":\"Shivaprrasad\", \\'Age\\':30, \"city\":\"VSP\"}\\n   # return dct[\\'city\\']\\n\\nx=getattr(fun(),\\'VSP\\',None)\\nprint(x)', '_i203': '#getattr()\\n\\n#Returns the value of sepcified attribute of mentioned object\\n\\ndef fun():\\n    dct={\"Name\":\"Shivaprrasad\", \\'Age\\':30, \"city\":\"VSP\"}\\n   # return dct[\\'city\\']\\n\\nx=getattr(fun(),\\'Name\\',None)\\nprint(x)', '_i204': '#getattr()\\n\\n#Returns the value of sepcified attribute of mentioned object\\n\\ndef fun():\\n    dct={\"Name\":\"Shivaprrasad\", \\'Age\\':30, \"city\":\"VSP\"}\\n   # return dct[\\'city\\']\\n\\nx=getattr(fun(),dct[\\'Name\\'],None)\\nprint(x)', '_i205': '#getattr()\\n\\n#Returns the value of sepcified attribute of mentioned object\\n\\ndef fun():\\n    dct={\"Name\":\"Shivaprrasad\", \\'Age\\':30, \"city\":\"VSP\"}\\n   # return dct[\\'city\\']\\n\\nx=getattr(fun(),\\'city\\')\\nprint(x)', '_i206': '#getattr()\\n\\n#Returns the value of sepcified attribute of mentioned object\\n\\ndef fun():\\n    dct={\"Name\":\"Shivaprrasad\", \\'Age\\':30, \"city\":\"VSP\"}\\n    return dct[\\'city\\']\\n\\nx=getattr(fun(),\\'city\\')\\nprint(x)', '_i207': '#getattr()\\n\\n#Returns the value of sepcified attribute of mentioned object\\n\\ndef fun():\\n    dct = {\"Name\": \"Shivaprrasad\", \\'Age\\': 30, \"city\": \"VSP\"}\\n    return dct[\"city\"]\\n\\nx = getattr(fun(), \"city\", None)\\nprint(x)', '_i208': '#getattr()\\n\\n#Returns the value of sepcified attribute of mentioned object\\n\\ndef fun():\\n    dct = {\"Name\": \"Shivaprrasad\", \\'Age\\': 30, \"city\": \"VSP\"}\\n    return dct[\"city\"]\\n\\nobj=fun()\\nx = obj.getattr(fun(), \"city\", None)\\nprint(x)', '_i209': '#getattr()\\n\\n#Returns the value of sepcified attribute of mentioned object\\n\\ndef fun():\\n    dct = {\"Name\": \"Shivaprrasad\", \\'Age\\': 30, \"city\": \"VSP\"}\\n    return dct[\"city\"]\\n\\nobj=fun()\\nx = obj.getattr(fun, \"city\", None)\\nprint(x)', '_i210': '#getattr()\\n\\n#Returns the value of sepcified attribute of mentioned object\\n\\ndef fun():\\n    dct = {\"Name\": \"Shivaprrasad\", \\'Age\\': 30, \"city\": \"VSP\"}\\n    return dct[\"city\"]\\n\\nobj=fun()\\nx = obj.getattr(fun(), dct[\"city\"], None)\\nprint(x)', '_i211': '#getattr()\\n\\n#Returns the value of sepcified attribute of mentioned object\\n\\ndef fun():\\n    dct = {\"Name\": \"Shivaprrasad\", \\'Age\\': 30, \"city\": \"VSP\"}\\n    return dct[\"city\"]\\n\\nobj=fun()\\nx = obj.getattr(fun(), dct[\"city\"], None)\\nprint(x)', '_i212': '#getattr()\\n\\n#Returns the value of sepcified attribute of mentioned object\\n\\ndef fun():\\n    dct = {\"Name\": \"Shivaprrasad\", \\'Age\\': 30, \"city\": \"VSP\"}\\n    return dct[\"city\"]\\n\\n\\nx = getattr(fun(), dct[\"city\"], None)\\nprint(x)', '_i213': '#getattr()\\n\\n#Returns the value of sepcified attribute of mentioned object\\n\\ndef fun():\\n    dct = {\"Name\": \"Shivaprrasad\", \\'Age\\': 30, \"city\": \"VSP\"}\\n    return dct[\"city\"]\\n\\n\\nx = getattr(fun(), \"city\", None)\\nprint(x)', '_i214': '#global()\\n#Returns global suymbol table. A symbol table is current informtion of program\\n\\nx=global()\\nprint(x)', '_i215': '#globals()\\n#Returns global suymbol table. A symbol table is current informtion of program\\n\\nx=globals()\\nprint(x)', '_i216': '#globals()\\n#Returns global suymbol table. A symbol table is current informtion of program\\n\\nx=globals()\\nprint(x)\\n\\nprint(globals(__init__))', '_i217': '#globals()\\n#Returns global suymbol table. A symbol table is current informtion of program\\n\\nx=globals()\\nprint(x)\\n\\nprint(globals(__init__()))', '_i218': '#globals()\\n#Returns global suymbol table. A symbol table is current informtion of program\\n\\nx=globals()\\nprint(x)\\n\\nprint(x[\"__file__\"])', '_i219': '#globals()\\n#Returns global suymbol table. A symbol table is current informtion of program\\n\\nx=globals()\\nprint(x)\\n\\nprint(x[\"__file__\"])', '_i220': '#globals()\\n#Returns global suymbol table. A symbol table is current informtion of program\\n\\nx=globals()\\nprint(x)\\nprint(x[\"__file__\"])', '_i221': '#globals()\\n#Returns global suymbol table. A symbol table is current informtion of program\\n\\nx=globals()\\nprint(x)\\nprint(x[\"__init__\"])', '_i222': '#globals()\\n#Returns global suymbol table. A symbol table is current informtion of program\\n\\nx=globals()\\nprint(x)\\nprint(x[\"__name__\"])', '_i223': '#globals()\\n#Returns global suymbol table. A symbol table is current informtion of program\\n\\nx=globals()\\nprint(x)\\nprint(x[\"__name__\"])\\nprint(x[\"__doc__\"])'}\n",
            "__main__\n",
            " Here a is first parameter\n",
            "    b is replaceable parameters\n",
            "    c is removable parameters\n",
            "\n"
          ]
        }
      ],
      "source": [
        "#globals()\n",
        "#Returns global suymbol table. A symbol table is current informtion of program\n",
        "\n",
        "x=globals()\n",
        "print(x)\n",
        "print(x[\"__name__\"])\n",
        "print(x[\"__doc__\"])"
      ]
    },
    {
      "cell_type": "code",
      "execution_count": null,
      "metadata": {
        "colab": {
          "base_uri": "https://localhost:8080/"
        },
        "id": "YkmaXK27ZW3h",
        "outputId": "b3c456a2-aa92-4899-bf67-c176ea5038a1"
      },
      "outputs": [
        {
          "name": "stdout",
          "output_type": "stream",
          "text": [
            "True\n",
            "False\n"
          ]
        }
      ],
      "source": [
        "#hasattr()\n",
        "#Returns if specified object has specified attribute\n",
        "\n",
        "class person:\n",
        "    name=\"Shiva\"\n",
        "    age=42\n",
        "\n",
        "x=hasattr(person,'age')\n",
        "\n",
        "print(x)\n",
        "\n",
        "y=hasattr(person,'city')\n",
        "print(y)"
      ]
    },
    {
      "cell_type": "code",
      "execution_count": null,
      "metadata": {
        "colab": {
          "base_uri": "https://localhost:8080/"
        },
        "id": "24w_sJM3adOx",
        "outputId": "94e9ac97-2cc3-402f-acd9-281e33ed207f"
      },
      "outputs": [
        {
          "data": {
            "text/plain": [
              "138960179443200"
            ]
          },
          "execution_count": 229,
          "metadata": {},
          "output_type": "execute_result"
        }
      ],
      "source": [
        "#id()\n",
        "#returns id of an object most fo the times it is memory address\n",
        "\n",
        "l1=[\"Apples\",\"Mangoes\"]\n",
        "id(l1)\n",
        "\n"
      ]
    },
    {
      "cell_type": "code",
      "execution_count": null,
      "metadata": {
        "colab": {
          "base_uri": "https://localhost:8080/"
        },
        "id": "NlOPn_Q3h6Hr",
        "outputId": "9f1a9781-f5d8-47db-ed92-01f5ac1ea73c"
      },
      "outputs": [
        {
          "name": "stdout",
          "output_type": "stream",
          "text": [
            "enter User NameSHIVAPRRASAD_SK\n",
            "hello SHIVAPRRASAD_SK\n"
          ]
        }
      ],
      "source": [
        "#input()\n",
        "#Takees input from user\n",
        "\n",
        "\n",
        "name=input('enter User Name')\n",
        "print(\"hello \" +name)"
      ]
    },
    {
      "cell_type": "code",
      "execution_count": null,
      "metadata": {
        "colab": {
          "base_uri": "https://localhost:8080/"
        },
        "id": "4exS-UheiSQD",
        "outputId": "4e4bbf26-6ad5-418b-bbd6-e419f72a0c0a"
      },
      "outputs": [
        {
          "name": "stdout",
          "output_type": "stream",
          "text": [
            "3\n"
          ]
        }
      ],
      "source": [
        "#int()\n",
        "#Returns integer Number\n",
        "\n",
        "print(int(3.55))"
      ]
    },
    {
      "cell_type": "code",
      "execution_count": null,
      "metadata": {
        "colab": {
          "base_uri": "https://localhost:8080/"
        },
        "id": "tAroZQKri1mG",
        "outputId": "4cc1f00c-df23-44e5-f219-5e9949f79ec7"
      },
      "outputs": [
        {
          "name": "stdout",
          "output_type": "stream",
          "text": [
            "True\n",
            "True\n",
            "False\n",
            "False\n"
          ]
        }
      ],
      "source": [
        "#isinstance()\n",
        "\n",
        "#CHecks whether given paratemeter is sepcified dataype\n",
        "#syntax    isinstance(object,type)\n",
        "\n",
        "x=isinstance(6,int)\n",
        "print(x)\n",
        "\n",
        "print(isinstance(\"python\",(str,float,int)))\n",
        "\n",
        "\n",
        "class person:\n",
        "    def fun():\n",
        "        name=\"Shiva\"\n",
        "\n",
        "obj=fun()\n",
        "x=isinstance(obj,type(fun))\n",
        "print(x)\n",
        "\n",
        "cl=person()\n",
        "print(isinstance(cl,type(person)))"
      ]
    },
    {
      "cell_type": "code",
      "execution_count": null,
      "metadata": {
        "colab": {
          "base_uri": "https://localhost:8080/"
        },
        "id": "S_QG8kizkZs6",
        "outputId": "81b47287-4dd8-4c6e-a9f1-5789cfc27c9a"
      },
      "outputs": [
        {
          "name": "stdout",
          "output_type": "stream",
          "text": [
            "Hello  Father\n",
            "Hello Child\n",
            "True\n"
          ]
        }
      ],
      "source": [
        "#issubclass()\n",
        "#if specified class is subclass of a class\n",
        "\n",
        "class person:\n",
        "    print(\"Hello  Father\")\n",
        "\n",
        "class child(person):\n",
        "    print(\"Hello Child\")\n",
        "\n",
        "print(issubclass(child,person))"
      ]
    },
    {
      "cell_type": "code",
      "execution_count": null,
      "metadata": {
        "colab": {
          "base_uri": "https://localhost:8080/"
        },
        "id": "_HTGftCWln7w",
        "outputId": "68970b6f-db84-42a4-b6e6-ee8fea883d2f"
      },
      "outputs": [
        {
          "output_type": "stream",
          "name": "stdout",
          "text": [
            "<class 'list_iterator'>\n",
            "Apples\n",
            "Mangoes\n",
            "<class 'tuple_iterator'>\n",
            "Apples\n",
            "Mangoes\n",
            "Bananas\n"
          ]
        }
      ],
      "source": [
        "#iter()\n",
        "#Returns a iter object\n",
        "\n",
        "lis=[\"Apples\",\"Mangoes\",\"Bananas\"]\n",
        "itr1=iter(lis)   #Itr1 is iter object. converted list to  iter\n",
        "print(type(itr1))\n",
        "print(next(itr1))\n",
        "print(next(itr1))\n",
        "\n",
        "tpl=(\"Apples\",\"Mangoes\",\"Bananas\")\n",
        "tpl1=iter(tpl)  # tpl1 is iterator of tpl\n",
        "\n",
        "print(type(tpl1))\n",
        "print(next(tpl1))\n",
        "print(next(tpl1))\n",
        "print(next(tpl1))\n"
      ]
    },
    {
      "cell_type": "code",
      "execution_count": null,
      "metadata": {
        "colab": {
          "base_uri": "https://localhost:8080/"
        },
        "id": "-P90Rei7BbSz",
        "outputId": "fb36ab65-ef80-49b7-d62f-6e5fbea5f1d4"
      },
      "outputs": [
        {
          "name": "stdout",
          "output_type": "stream",
          "text": [
            "5\n",
            "2\n",
            "3\n",
            "3\n",
            "2\n"
          ]
        }
      ],
      "source": [
        "#len()\n",
        "# Returns length of string\n",
        "\n",
        "st=\"shiva\"\n",
        "l=[\"Apples\",\"Banana\"]\n",
        "t=(\"Aples\",\"Banana\",\"Mango\")\n",
        "s={\"A\",\"b\",\"c\"}\n",
        "d={\"key1\":\"Val1\",\"key2\":\"val2\"}\n",
        "\n",
        "print(len(st))\n",
        "print(len(l))\n",
        "print(len(t))\n",
        "print(len(s))\n",
        "print(len(d))"
      ]
    },
    {
      "cell_type": "code",
      "execution_count": null,
      "metadata": {
        "colab": {
          "base_uri": "https://localhost:8080/"
        },
        "id": "qDTjZ2jWE-_j",
        "outputId": "160f2bc5-3a06-4a20-eda8-d6d61d4883f8"
      },
      "outputs": [
        {
          "name": "stdout",
          "output_type": "stream",
          "text": [
            "<class 'tuple'>\n",
            "<class 'list'>\n",
            "['S', 'A', 'B']\n"
          ]
        }
      ],
      "source": [
        "#list()\n",
        "#Returns a list\n",
        "\n",
        "a=(\"S\",\"A\",\"B\")\n",
        "print(type(a)) #Tuple class\n",
        "\n",
        "x=list(a)\n",
        "print(type(x)) #converted to list class\n",
        "print(x)"
      ]
    },
    {
      "cell_type": "code",
      "execution_count": null,
      "metadata": {
        "colab": {
          "base_uri": "https://localhost:8080/"
        },
        "id": "kNC4NmKmFizS",
        "outputId": "bf89f22f-0b71-49b4-e3fb-4be5f8e31f33"
      },
      "outputs": [
        {
          "output_type": "stream",
          "name": "stdout",
          "text": [
            "{'__name__': '__main__', '__doc__': 'Automatically created module for IPython interactive environment', '__package__': None, '__loader__': None, '__spec__': None, '__builtin__': <module 'builtins' (built-in)>, '__builtins__': <module 'builtins' (built-in)>, '_ih': ['', '#iter()\\n#Returns a iter object\\n\\nlis=[\"Apples\",\"Mangoes\",\"Bananas\"]\\nitr1=iter(lis)   #Itr1 is iter object. converted list to  iter\\nprint(type(itr1))\\nprint(next(itr1))\\nprint(next(itr1))\\n\\ntpl=(\"Apples\",\"Mangoes\",\"Bananas\")\\ntpl1=iter(tpl)  # tpl1 is iterator of tpl\\n\\nprint(type(tpl1))\\nprint(next(tpl1))\\nprint(next(tpl1))\\nprint(next(tpl1))', '#locals()\\n#Returns locals directory symbol table as table information\\n\\nlcl=locals()\\nprint(lcl,\"\\\\n\")\\n\\nprint(type(lcl))\\n\\nprint(lcl.keys())\\nprint(lcl.values())'], '_oh': {}, '_dh': ['/content'], 'In': ['', '#iter()\\n#Returns a iter object\\n\\nlis=[\"Apples\",\"Mangoes\",\"Bananas\"]\\nitr1=iter(lis)   #Itr1 is iter object. converted list to  iter\\nprint(type(itr1))\\nprint(next(itr1))\\nprint(next(itr1))\\n\\ntpl=(\"Apples\",\"Mangoes\",\"Bananas\")\\ntpl1=iter(tpl)  # tpl1 is iterator of tpl\\n\\nprint(type(tpl1))\\nprint(next(tpl1))\\nprint(next(tpl1))\\nprint(next(tpl1))', '#locals()\\n#Returns locals directory symbol table as table information\\n\\nlcl=locals()\\nprint(lcl,\"\\\\n\")\\n\\nprint(type(lcl))\\n\\nprint(lcl.keys())\\nprint(lcl.values())'], 'Out': {}, 'get_ipython': <bound method InteractiveShell.get_ipython of <google.colab._shell.Shell object at 0x799c6481dfc0>>, 'exit': <IPython.core.autocall.ZMQExitAutocall object at 0x799c6481e9b0>, 'quit': <IPython.core.autocall.ZMQExitAutocall object at 0x799c6481e9b0>, '_': '', '__': '', '___': '', '_i': '#iter()\\n#Returns a iter object\\n\\nlis=[\"Apples\",\"Mangoes\",\"Bananas\"]\\nitr1=iter(lis)   #Itr1 is iter object. converted list to  iter\\nprint(type(itr1))\\nprint(next(itr1))\\nprint(next(itr1))\\n\\ntpl=(\"Apples\",\"Mangoes\",\"Bananas\")\\ntpl1=iter(tpl)  # tpl1 is iterator of tpl\\n\\nprint(type(tpl1))\\nprint(next(tpl1))\\nprint(next(tpl1))\\nprint(next(tpl1))', '_ii': '', '_iii': '', '_i1': '#iter()\\n#Returns a iter object\\n\\nlis=[\"Apples\",\"Mangoes\",\"Bananas\"]\\nitr1=iter(lis)   #Itr1 is iter object. converted list to  iter\\nprint(type(itr1))\\nprint(next(itr1))\\nprint(next(itr1))\\n\\ntpl=(\"Apples\",\"Mangoes\",\"Bananas\")\\ntpl1=iter(tpl)  # tpl1 is iterator of tpl\\n\\nprint(type(tpl1))\\nprint(next(tpl1))\\nprint(next(tpl1))\\nprint(next(tpl1))', 'lis': ['Apples', 'Mangoes', 'Bananas'], 'itr1': <list_iterator object at 0x799c500d2170>, 'tpl': ('Apples', 'Mangoes', 'Bananas'), 'tpl1': <tuple_iterator object at 0x799c500d15d0>, '_i2': '#locals()\\n#Returns locals directory symbol table as table information\\n\\nlcl=locals()\\nprint(lcl,\"\\\\n\")\\n\\nprint(type(lcl))\\n\\nprint(lcl.keys())\\nprint(lcl.values())', 'lcl': {...}} \n",
            "\n",
            "<class 'dict'>\n",
            "dict_keys(['__name__', '__doc__', '__package__', '__loader__', '__spec__', '__builtin__', '__builtins__', '_ih', '_oh', '_dh', 'In', 'Out', 'get_ipython', 'exit', 'quit', '_', '__', '___', '_i', '_ii', '_iii', '_i1', 'lis', 'itr1', 'tpl', 'tpl1', '_i2', 'lcl'])\n",
            "dict_values(['__main__', 'Automatically created module for IPython interactive environment', None, None, None, <module 'builtins' (built-in)>, <module 'builtins' (built-in)>, ['', '#iter()\\n#Returns a iter object\\n\\nlis=[\"Apples\",\"Mangoes\",\"Bananas\"]\\nitr1=iter(lis)   #Itr1 is iter object. converted list to  iter\\nprint(type(itr1))\\nprint(next(itr1))\\nprint(next(itr1))\\n\\ntpl=(\"Apples\",\"Mangoes\",\"Bananas\")\\ntpl1=iter(tpl)  # tpl1 is iterator of tpl\\n\\nprint(type(tpl1))\\nprint(next(tpl1))\\nprint(next(tpl1))\\nprint(next(tpl1))', '#locals()\\n#Returns locals directory symbol table as table information\\n\\nlcl=locals()\\nprint(lcl,\"\\\\n\")\\n\\nprint(type(lcl))\\n\\nprint(lcl.keys())\\nprint(lcl.values())'], {}, ['/content'], ['', '#iter()\\n#Returns a iter object\\n\\nlis=[\"Apples\",\"Mangoes\",\"Bananas\"]\\nitr1=iter(lis)   #Itr1 is iter object. converted list to  iter\\nprint(type(itr1))\\nprint(next(itr1))\\nprint(next(itr1))\\n\\ntpl=(\"Apples\",\"Mangoes\",\"Bananas\")\\ntpl1=iter(tpl)  # tpl1 is iterator of tpl\\n\\nprint(type(tpl1))\\nprint(next(tpl1))\\nprint(next(tpl1))\\nprint(next(tpl1))', '#locals()\\n#Returns locals directory symbol table as table information\\n\\nlcl=locals()\\nprint(lcl,\"\\\\n\")\\n\\nprint(type(lcl))\\n\\nprint(lcl.keys())\\nprint(lcl.values())'], {}, <bound method InteractiveShell.get_ipython of <google.colab._shell.Shell object at 0x799c6481dfc0>>, <IPython.core.autocall.ZMQExitAutocall object at 0x799c6481e9b0>, <IPython.core.autocall.ZMQExitAutocall object at 0x799c6481e9b0>, '', '', '', '#iter()\\n#Returns a iter object\\n\\nlis=[\"Apples\",\"Mangoes\",\"Bananas\"]\\nitr1=iter(lis)   #Itr1 is iter object. converted list to  iter\\nprint(type(itr1))\\nprint(next(itr1))\\nprint(next(itr1))\\n\\ntpl=(\"Apples\",\"Mangoes\",\"Bananas\")\\ntpl1=iter(tpl)  # tpl1 is iterator of tpl\\n\\nprint(type(tpl1))\\nprint(next(tpl1))\\nprint(next(tpl1))\\nprint(next(tpl1))', '', '', '#iter()\\n#Returns a iter object\\n\\nlis=[\"Apples\",\"Mangoes\",\"Bananas\"]\\nitr1=iter(lis)   #Itr1 is iter object. converted list to  iter\\nprint(type(itr1))\\nprint(next(itr1))\\nprint(next(itr1))\\n\\ntpl=(\"Apples\",\"Mangoes\",\"Bananas\")\\ntpl1=iter(tpl)  # tpl1 is iterator of tpl\\n\\nprint(type(tpl1))\\nprint(next(tpl1))\\nprint(next(tpl1))\\nprint(next(tpl1))', ['Apples', 'Mangoes', 'Bananas'], <list_iterator object at 0x799c500d2170>, ('Apples', 'Mangoes', 'Bananas'), <tuple_iterator object at 0x799c500d15d0>, '#locals()\\n#Returns locals directory symbol table as table information\\n\\nlcl=locals()\\nprint(lcl,\"\\\\n\")\\n\\nprint(type(lcl))\\n\\nprint(lcl.keys())\\nprint(lcl.values())', {'__name__': '__main__', '__doc__': 'Automatically created module for IPython interactive environment', '__package__': None, '__loader__': None, '__spec__': None, '__builtin__': <module 'builtins' (built-in)>, '__builtins__': <module 'builtins' (built-in)>, '_ih': ['', '#iter()\\n#Returns a iter object\\n\\nlis=[\"Apples\",\"Mangoes\",\"Bananas\"]\\nitr1=iter(lis)   #Itr1 is iter object. converted list to  iter\\nprint(type(itr1))\\nprint(next(itr1))\\nprint(next(itr1))\\n\\ntpl=(\"Apples\",\"Mangoes\",\"Bananas\")\\ntpl1=iter(tpl)  # tpl1 is iterator of tpl\\n\\nprint(type(tpl1))\\nprint(next(tpl1))\\nprint(next(tpl1))\\nprint(next(tpl1))', '#locals()\\n#Returns locals directory symbol table as table information\\n\\nlcl=locals()\\nprint(lcl,\"\\\\n\")\\n\\nprint(type(lcl))\\n\\nprint(lcl.keys())\\nprint(lcl.values())'], '_oh': {}, '_dh': ['/content'], 'In': ['', '#iter()\\n#Returns a iter object\\n\\nlis=[\"Apples\",\"Mangoes\",\"Bananas\"]\\nitr1=iter(lis)   #Itr1 is iter object. converted list to  iter\\nprint(type(itr1))\\nprint(next(itr1))\\nprint(next(itr1))\\n\\ntpl=(\"Apples\",\"Mangoes\",\"Bananas\")\\ntpl1=iter(tpl)  # tpl1 is iterator of tpl\\n\\nprint(type(tpl1))\\nprint(next(tpl1))\\nprint(next(tpl1))\\nprint(next(tpl1))', '#locals()\\n#Returns locals directory symbol table as table information\\n\\nlcl=locals()\\nprint(lcl,\"\\\\n\")\\n\\nprint(type(lcl))\\n\\nprint(lcl.keys())\\nprint(lcl.values())'], 'Out': {}, 'get_ipython': <bound method InteractiveShell.get_ipython of <google.colab._shell.Shell object at 0x799c6481dfc0>>, 'exit': <IPython.core.autocall.ZMQExitAutocall object at 0x799c6481e9b0>, 'quit': <IPython.core.autocall.ZMQExitAutocall object at 0x799c6481e9b0>, '_': '', '__': '', '___': '', '_i': '#iter()\\n#Returns a iter object\\n\\nlis=[\"Apples\",\"Mangoes\",\"Bananas\"]\\nitr1=iter(lis)   #Itr1 is iter object. converted list to  iter\\nprint(type(itr1))\\nprint(next(itr1))\\nprint(next(itr1))\\n\\ntpl=(\"Apples\",\"Mangoes\",\"Bananas\")\\ntpl1=iter(tpl)  # tpl1 is iterator of tpl\\n\\nprint(type(tpl1))\\nprint(next(tpl1))\\nprint(next(tpl1))\\nprint(next(tpl1))', '_ii': '', '_iii': '', '_i1': '#iter()\\n#Returns a iter object\\n\\nlis=[\"Apples\",\"Mangoes\",\"Bananas\"]\\nitr1=iter(lis)   #Itr1 is iter object. converted list to  iter\\nprint(type(itr1))\\nprint(next(itr1))\\nprint(next(itr1))\\n\\ntpl=(\"Apples\",\"Mangoes\",\"Bananas\")\\ntpl1=iter(tpl)  # tpl1 is iterator of tpl\\n\\nprint(type(tpl1))\\nprint(next(tpl1))\\nprint(next(tpl1))\\nprint(next(tpl1))', 'lis': ['Apples', 'Mangoes', 'Bananas'], 'itr1': <list_iterator object at 0x799c500d2170>, 'tpl': ('Apples', 'Mangoes', 'Bananas'), 'tpl1': <tuple_iterator object at 0x799c500d15d0>, '_i2': '#locals()\\n#Returns locals directory symbol table as table information\\n\\nlcl=locals()\\nprint(lcl,\"\\\\n\")\\n\\nprint(type(lcl))\\n\\nprint(lcl.keys())\\nprint(lcl.values())', 'lcl': {...}}])\n"
          ]
        }
      ],
      "source": [
        "#locals()\n",
        "#Returns locals directory symbol table as table information\n",
        "\n",
        "lcl=locals()\n",
        "print(lcl,\"\\n\")\n",
        "\n",
        "print(type(lcl))\n",
        "\n",
        "print(lcl.keys())\n",
        "print(lcl.values())"
      ]
    },
    {
      "cell_type": "code",
      "execution_count": null,
      "metadata": {
        "colab": {
          "base_uri": "https://localhost:8080/"
        },
        "id": "3CFwgwzQIBj9",
        "outputId": "4a20d500-7d7d-445d-bd8b-5597bb38c1dc"
      },
      "outputs": [
        {
          "name": "stdout",
          "output_type": "stream",
          "text": [
            "<map object at 0x7ded6d80d870>\n",
            "['Aa', 'Bb', 'Cc']\n",
            "()\n",
            "{}\n",
            "set()\n",
            "<map object at 0x7ded6d80d870>\n"
          ]
        }
      ],
      "source": [
        "#map()\n",
        "# Returns an mapping object\n",
        "\n",
        "def func(a,b):\n",
        "    return a+b\n",
        "\n",
        "a=[\"A\",\"B\",\"C\"]\n",
        "b=[\"a\",\"b\",\"c\"]\n",
        "\n",
        "x=map(func,a,b)  #returns mapping object\n",
        "y=list(x)\n",
        "z=tuple(x)\n",
        "d=dict(x)\n",
        "v=set(x)\n",
        "m=str(x)\n",
        "print(x)\n",
        "print(y)\n",
        "print(z)\n",
        "print(d)\n",
        "print(v)\n",
        "print(m)"
      ]
    },
    {
      "cell_type": "code",
      "execution_count": null,
      "metadata": {
        "colab": {
          "base_uri": "https://localhost:8080/"
        },
        "id": "9wZJfB5ZfflM",
        "outputId": "5255d968-6420-40e9-f435-490aa3427f57"
      },
      "outputs": [
        {
          "name": "stdout",
          "output_type": "stream",
          "text": [
            "6\n"
          ]
        }
      ],
      "source": [
        "#max()\n",
        "#returns max value\n",
        "print(max(4,6))"
      ]
    },
    {
      "cell_type": "code",
      "execution_count": null,
      "metadata": {
        "colab": {
          "base_uri": "https://localhost:8080/"
        },
        "id": "NsXtciY5gO2Q",
        "outputId": "23f1776e-5206-43ea-b52e-09a3f2822dac"
      },
      "outputs": [
        {
          "name": "stdout",
          "output_type": "stream",
          "text": [
            "1\n"
          ]
        }
      ],
      "source": [
        "#min()\n",
        "#Returns minimum Value\n",
        "\n",
        "print(min(1,1.1))"
      ]
    },
    {
      "cell_type": "code",
      "execution_count": null,
      "metadata": {
        "colab": {
          "base_uri": "https://localhost:8080/"
        },
        "id": "iXhBQ82vgc9c",
        "outputId": "1fab73ba-f9b0-4689-9134-7a4568aa1c5f"
      },
      "outputs": [
        {
          "name": "stdout",
          "output_type": "stream",
          "text": [
            "<memory at 0x7ded6d820ac0>\n",
            "72\n"
          ]
        }
      ],
      "source": [
        "#memoryview()\n",
        "\n",
        "x=b\"Hello\"\n",
        "print(memoryview(b'x'))\n",
        "print(x[0]) #unicode value of charater at [0]"
      ]
    },
    {
      "cell_type": "code",
      "execution_count": null,
      "metadata": {
        "colab": {
          "base_uri": "https://localhost:8080/"
        },
        "id": "oD1lI1Nxl5xt",
        "outputId": "c0d53365-ed90-4217-a6b3-e8491c5db726"
      },
      "outputs": [
        {
          "name": "stdout",
          "output_type": "stream",
          "text": [
            "A\n",
            "B\n",
            "C\n"
          ]
        }
      ],
      "source": [
        "#next()\n",
        "#Returns next item of an iterable object\n",
        "\n",
        "mytup=iter((\"A\",\"B\",\"C\"))\n",
        "print(next(mytup))\n",
        "print(next(mytup))\n",
        "print(next(mytup))"
      ]
    },
    {
      "cell_type": "code",
      "execution_count": null,
      "metadata": {
        "colab": {
          "base_uri": "https://localhost:8080/"
        },
        "id": "jBZDN02HsQ8C",
        "outputId": "0404dbef-61ed-428a-d465-515f97b21ee5"
      },
      "outputs": [
        {
          "name": "stdout",
          "output_type": "stream",
          "text": [
            "<class 'object'>\n",
            "hello\n",
            "<class 'int'>\n",
            "5\n"
          ]
        }
      ],
      "source": [
        "#object()\n",
        "#Returns Object\n",
        "x=object()\n",
        "print(type(x))\n",
        "\n",
        "def func():\n",
        "    print('hello')\n",
        "    x=5\n",
        "    return x\n",
        "\n",
        "ob=func()\n",
        "print(type(ob))\n",
        "print(ob)"
      ]
    },
    {
      "cell_type": "code",
      "execution_count": null,
      "metadata": {
        "colab": {
          "base_uri": "https://localhost:8080/"
        },
        "id": "OkfK3dkps3rx",
        "outputId": "7dd6067f-5720-4052-9430-10d310e25a07"
      },
      "outputs": [
        {
          "name": "stdout",
          "output_type": "stream",
          "text": [
            "0o5\n",
            "0o142\n"
          ]
        }
      ],
      "source": [
        "#oct()\n",
        "#converts a number to octal\n",
        "\n",
        "print(oct(5))\n",
        "print(oct(ord('b')))"
      ]
    },
    {
      "cell_type": "code",
      "execution_count": null,
      "metadata": {
        "colab": {
          "base_uri": "https://localhost:8080/"
        },
        "id": "i08bWSWStg2U",
        "outputId": "50f65976-a8c3-44ee-f29c-aea263982204"
      },
      "outputs": [
        {
          "name": "stdout",
          "output_type": "stream",
          "text": [
            "This directory includes a few sample datasets to get you started.\n",
            "\n",
            "*   `california_housing_data*.csv` is California housing data from the 1990 US\n",
            "    Census; more information is available at:\n",
            "    https://developers.google.com/machine-learning/crash-course/california-housing-data-description\n",
            "\n",
            "*   `mnist_*.csv` is a small sample of the\n",
            "    [MNIST database](https://en.wikipedia.org/wiki/MNIST_database), which is\n",
            "    described at: http://yann.lecun.com/exdb/mnist/\n",
            "\n",
            "*   `anscombe.json` contains a copy of\n",
            "    [Anscombe's quartet](https://en.wikipedia.org/wiki/Anscombe%27s_quartet); it\n",
            "    was originally described in\n",
            "\n",
            "    Anscombe, F. J. (1973). 'Graphs in Statistical Analysis'. American\n",
            "    Statistician. 27 (1): 17-21. JSTOR 2682899.\n",
            "\n",
            "    and our copy was prepared by the\n",
            "    [vega_datasets library](https://github.com/altair-viz/vega_datasets/blob/4f67bdaad10f45e3549984e17e1b3088c731503d/vega_datasets/_data/anscombe.json).\n",
            "\n"
          ]
        }
      ],
      "source": [
        "#open()\n",
        "#Opens a file and return fileobject\n",
        "\n",
        "fil=open(\"/content/sample_data/README.md\",\"r\")\n",
        "#fil.read() # reads file Information\n",
        "print(fil.read()) # prints file content"
      ]
    },
    {
      "cell_type": "code",
      "execution_count": null,
      "metadata": {
        "colab": {
          "base_uri": "https://localhost:8080/"
        },
        "id": "alqcmDGruJI1",
        "outputId": "27c0b280-e4ee-4d89-e167-0076ab7ef560"
      },
      "outputs": [
        {
          "name": "stdout",
          "output_type": "stream",
          "text": [
            "98\n"
          ]
        }
      ],
      "source": [
        "#odr()\n",
        "#converts unicode character\n",
        "\n",
        "print(ord('b'))"
      ]
    },
    {
      "cell_type": "code",
      "execution_count": null,
      "metadata": {
        "colab": {
          "base_uri": "https://localhost:8080/"
        },
        "id": "AfqPU87wvpnE",
        "outputId": "8d3b2b62-45e9-4f4a-9b7b-ab5c1305dbed"
      },
      "outputs": [
        {
          "name": "stdout",
          "output_type": "stream",
          "text": [
            "9\n"
          ]
        }
      ],
      "source": [
        "#pow()\n",
        "#Returns power of a number\n",
        "\n",
        "print(pow(3,2)) # 3 power 2"
      ]
    },
    {
      "cell_type": "code",
      "execution_count": null,
      "metadata": {
        "colab": {
          "base_uri": "https://localhost:8080/"
        },
        "id": "Lw3JJMzdv14B",
        "outputId": "92672502-93d3-4fb8-8c71-6b6808d5cd39"
      },
      "outputs": [
        {
          "name": "stdout",
          "output_type": "stream",
          "text": [
            "Hello\n"
          ]
        }
      ],
      "source": [
        "#print()\n",
        "#prints output\n",
        "\n",
        "print(\"Hello\")"
      ]
    },
    {
      "cell_type": "code",
      "execution_count": null,
      "metadata": {
        "colab": {
          "base_uri": "https://localhost:8080/"
        },
        "id": "nhvvBcUdwJTW",
        "outputId": "781a92e1-2274-4aec-9153-feddd0194744"
      },
      "outputs": [
        {
          "name": "stdout",
          "output_type": "stream",
          "text": [
            "0\n",
            "4\n",
            "8\n",
            "12\n",
            "16\n"
          ]
        }
      ],
      "source": [
        "#range()\n",
        "#Returns a range\n",
        "\n",
        "for x in range(0,20,4):\n",
        "    print(x)"
      ]
    },
    {
      "cell_type": "code",
      "execution_count": null,
      "metadata": {
        "colab": {
          "base_uri": "https://localhost:8080/"
        },
        "id": "T6N1RJpHwWoF",
        "outputId": "e6a686ec-4a28-4c6d-c7fc-fcb9919560a5"
      },
      "outputs": [
        {
          "name": "stdout",
          "output_type": "stream",
          "text": [
            "Srn\n",
            "Karthik\n",
            "Shiva\n",
            "\n",
            "\n",
            "\n",
            "a\n",
            "v\n",
            "i\n",
            "h\n",
            "S\n"
          ]
        }
      ],
      "source": [
        "#reversed()\n",
        "#Returns a reversed of iter\n",
        "\n",
        "l=[\"Shiva\",\"Karthik\",\"Srn\"]\n",
        "\n",
        "x=reversed(l)\n",
        "for a in x:\n",
        "    print(a)\n",
        "print(\"\\n\\n\")\n",
        "\n",
        "s=\"Shiva\"\n",
        "for x in reversed(s):\n",
        "    print(x)"
      ]
    },
    {
      "cell_type": "code",
      "execution_count": null,
      "metadata": {
        "colab": {
          "base_uri": "https://localhost:8080/"
        },
        "id": "glBMTsgXwqmL",
        "outputId": "35833fe4-b06a-4e4d-9cd2-6b2e5b0ce012"
      },
      "outputs": [
        {
          "name": "stdout",
          "output_type": "stream",
          "text": [
            "5\n",
            "5.215\n"
          ]
        }
      ],
      "source": [
        "#round()\n",
        "#round the numbers to\n",
        "\n",
        "x=round(5.2458)\n",
        "x\n",
        "print(round(5.2459))\n",
        "\n",
        "print(round(5.2145,3))"
      ]
    },
    {
      "cell_type": "code",
      "execution_count": null,
      "metadata": {
        "colab": {
          "base_uri": "https://localhost:8080/"
        },
        "id": "--c-jdv9yH5E",
        "outputId": "d64457f7-278e-418a-a74b-fedc5f4efd29"
      },
      "outputs": [
        {
          "name": "stdout",
          "output_type": "stream",
          "text": [
            "<class 'list'> {'x', 'z', 'y'} <class 'set'>\n",
            "<class 'tuple'> {'n', 'm', 'l'} <class 'set'>\n",
            "<class 'set'> {'C', 'A', 'B'} <class 'set'>\n",
            "<class 'dict'> {'name', 'Age'} <class 'set'>\n"
          ]
        }
      ],
      "source": [
        "#set()\n",
        "#Returns new set object\n",
        "\n",
        "a=[\"x\",\"y\",\"z\"]\n",
        "b=(\"l\",\"m\",'n')\n",
        "c={\"A\",\"B\",\"C\"}\n",
        "d={\"name\":\"Shiva\",\"Age\":5}\n",
        "\n",
        "\n",
        "print(type(a),set(a),type(set(a)))\n",
        "print(type(b),set(b),type(set(b)))\n",
        "print(type(c),set(c),type(set(c)))\n",
        "print(type(d),set(d),type(set(d)))"
      ]
    },
    {
      "cell_type": "code",
      "execution_count": null,
      "metadata": {
        "colab": {
          "base_uri": "https://localhost:8080/"
        },
        "id": "19VvNfGhy1Kt",
        "outputId": "0b98cd51-2a9b-4469-ab69-043cc770ba2f"
      },
      "outputs": [
        {
          "name": "stdout",
          "output_type": "stream",
          "text": [
            "Shiva 45\n",
            "Karthkeyaa\n",
            "45\n"
          ]
        }
      ],
      "source": [
        "#setattr()\n",
        "#sets the attribute of a object\n",
        "\n",
        "class person:\n",
        "    name=\"Shiva\"\n",
        "    age=45\n",
        "\n",
        "    print(name,age)\n",
        "\n",
        "setattr(person,\"name\",\"Karthkeyaa\")\n",
        "\n",
        "obj=person\n",
        "print(obj.name)\n",
        "print(obj.age)"
      ]
    },
    {
      "cell_type": "code",
      "execution_count": null,
      "metadata": {
        "colab": {
          "base_uri": "https://localhost:8080/"
        },
        "id": "QteCJHC336EW",
        "outputId": "a116a60d-6264-4b50-a3d4-cc029ab50825"
      },
      "outputs": [
        {
          "name": "stdout",
          "output_type": "stream",
          "text": [
            "['a', 'b', 'c']\n",
            "['d', 'e', 'f']\n",
            "['b', 'd', 'f']\n"
          ]
        }
      ],
      "source": [
        "#slice()\n",
        "#Use to get specified no of tiems\n",
        "\n",
        "lt=[\"a\",\"b\",'c','d','e','f','g']\n",
        "x=slice(3)  #prints first [0],[1],[2]  items\n",
        "print(lt[x])\n",
        "\n",
        "x=slice(3,6) # prints [3],[4] ,[5]\n",
        "print(lt[x])\n",
        "\n",
        "x=slice(1,7,2)  # prints stpe of 2 upto 7 i.e [1],[3],[5]\n",
        "print(lt[x])"
      ]
    },
    {
      "cell_type": "code",
      "execution_count": null,
      "metadata": {
        "colab": {
          "base_uri": "https://localhost:8080/"
        },
        "id": "45Ev3m0g6--r",
        "outputId": "1178cd27-b354-439e-f284-6e3ade594044"
      },
      "outputs": [
        {
          "name": "stdout",
          "output_type": "stream",
          "text": [
            "['a', 'b', 'c', 'd', 'e', 'f']\n",
            "['f', 'e', 'd', 'c', 'b', 'a']\n",
            "['A', 'H', 'I', 'S', 'V']\n",
            "['V', 'S', 'I', 'H', 'A']\n",
            "\n"
          ]
        }
      ],
      "source": [
        "#sorted()\n",
        "\n",
        "lst=['a','b','c','d','e','f']\n",
        "\n",
        "x=sorted(lst)\n",
        "print(x)\n",
        "y=sorted(lst,reverse=True)\n",
        "print(y)\n",
        "\n",
        "st=\"SHIVA\"\n",
        "print(sorted(st))\n",
        "st1=sorted(st,reverse=True)\n",
        "print(st1)\n",
        "\n",
        "\"\"\"here sorted() always returns a list. so when we use sorted() to a string it returns a list\n",
        "with ascending order.When we use reverse=True it sets to descending order\"\"\"\n",
        "\n",
        "print()"
      ]
    },
    {
      "cell_type": "code",
      "execution_count": null,
      "metadata": {
        "colab": {
          "base_uri": "https://localhost:8080/"
        },
        "id": "vpdStrqi80p3",
        "outputId": "c7ec3438-4002-4ff2-82ef-457089d59f04"
      },
      "outputs": [
        {
          "name": "stdout",
          "output_type": "stream",
          "text": [
            "<class 'float'> <class 'float'> <class 'list'>\n",
            "2.1 -2.1 ['a', 'b']\n",
            "<class 'str'> <class 'str'> <class 'str'>\n"
          ]
        }
      ],
      "source": [
        "#str()\n",
        "#returns a string object\n",
        "\n",
        "x=2.1\n",
        "y=-2.1\n",
        "z=[\"a\",\"b\"]\n",
        "print(type(x),type(y),type(z))\n",
        "print(str(x),str(y),str(z))\n",
        "print(type(str(x)),type(str(y)),type(str(z)))"
      ]
    },
    {
      "cell_type": "code",
      "execution_count": null,
      "metadata": {
        "colab": {
          "base_uri": "https://localhost:8080/"
        },
        "id": "rJWv_hc8_GRC",
        "outputId": "ef87218e-1ff6-4738-e42b-230aaa29c7c0"
      },
      "outputs": [
        {
          "data": {
            "text/plain": [
              "25"
            ]
          },
          "execution_count": 81,
          "metadata": {},
          "output_type": "execute_result"
        }
      ],
      "source": [
        "#sum()\n",
        "# sum  of elements in a iterable object\n",
        "a=(1,2,3,4,5,6)\n",
        "sum(a)   # a is tuple\n",
        "sum(a,4)  # adds 4 to sum"
      ]
    },
    {
      "cell_type": "code",
      "execution_count": null,
      "metadata": {
        "colab": {
          "base_uri": "https://localhost:8080/"
        },
        "id": "MHvMC4gcAJ1q",
        "outputId": "34ac86c3-34ac-49cd-d548-3df0900103e1"
      },
      "outputs": [
        {
          "name": "stdout",
          "output_type": "stream",
          "text": [
            "<super: <class 'child'>, <child object>>\n",
            "<class 'super'>\n",
            "Shiva\n"
          ]
        }
      ],
      "source": [
        "#super()\n",
        "\n",
        "class parent:\n",
        "    def __init__(self):\n",
        "        self.name=\"Shiva\"\n",
        "\n",
        "class child(parent):\n",
        "    def __init__(self):\n",
        "        super().__init__()\n",
        "        self.name=self.name\n",
        "        print(super())\n",
        "        print(type(super()))\n",
        "\n",
        "    def __str__(self):\n",
        "        return self.name\n",
        "\n",
        "obj=child()\n",
        "obj\n",
        "print(obj)\n"
      ]
    },
    {
      "cell_type": "code",
      "execution_count": null,
      "metadata": {
        "colab": {
          "base_uri": "https://localhost:8080/"
        },
        "id": "IXAtk7g8CbBq",
        "outputId": "0d85fc2b-e0d1-4c14-c194-e3cacd9c6295"
      },
      "outputs": [
        {
          "name": "stdout",
          "output_type": "stream",
          "text": [
            "<class 'list'>\n",
            "<class 'tuple'>\n",
            "('apple', 'banana', 'cherry')\n"
          ]
        }
      ],
      "source": [
        "# tuple()\n",
        "#creates a tuple function\n",
        "\n",
        "a=[\"apple\",\"banana\",\"cherry\"]\n",
        "print(type(a))\n",
        "b=tuple(a)\n",
        "print(type(b))\n",
        "print(b)\n"
      ]
    },
    {
      "cell_type": "code",
      "execution_count": null,
      "metadata": {
        "colab": {
          "base_uri": "https://localhost:8080/"
        },
        "id": "0SFwRvB-XDjQ",
        "outputId": "f413ed1d-d829-4a43-f9d2-6416477093e5"
      },
      "outputs": [
        {
          "name": "stdout",
          "output_type": "stream",
          "text": [
            "<class 'list'> <class 'tuple'> <class 'set'> <class 'bool'>\n"
          ]
        }
      ],
      "source": [
        "#type()\n",
        "#datatype of object\n",
        "\n",
        "a=[\"a\",'b','c']\n",
        "b=(\"a\",\"b\",\"c\")\n",
        "c={'a','b','c'}\n",
        "d=True\n",
        "print(type(a),type(b),type(c),type(d))\n"
      ]
    },
    {
      "cell_type": "code",
      "execution_count": null,
      "metadata": {
        "colab": {
          "base_uri": "https://localhost:8080/"
        },
        "id": "XKHJ7SDgX6aS",
        "outputId": "d7057de4-493c-4641-a623-a2abca2f0c57"
      },
      "outputs": [
        {
          "data": {
            "text/plain": [
              "__main__.person"
            ]
          },
          "execution_count": 142,
          "metadata": {},
          "output_type": "execute_result"
        }
      ],
      "source": [
        "#vars()\n",
        "#Return dictionary attribute of a object\n",
        "\n",
        "class person:\n",
        "    def fun():\n",
        "        Name=\"Shiva\"\n",
        "        Age=46\n",
        "        print(vars(fun))\n",
        "\n",
        "person"
      ]
    },
    {
      "cell_type": "code",
      "execution_count": null,
      "metadata": {
        "colab": {
          "base_uri": "https://localhost:8080/"
        },
        "id": "954zoEoeY0R-",
        "outputId": "eddde840-aa26-45d8-9c92-3753bd454e89"
      },
      "outputs": [
        {
          "name": "stdout",
          "output_type": "stream",
          "text": [
            "<zip object at 0x78ccf0e82b40>\n",
            "(('S', 'P'), ('h', 'r'), ('i', 'r'), ('v', 'a'), ('a', 's'))\n",
            "<zip object at 0x78ccf0e82e80>\n",
            "[('Shiva', 'Prrasad'), ('Ram', 'A'), ('Kar', 'S')]\n",
            "(('Shiva', 'Prrasad'), ('Ram', 'A'), ('Kar', 'S'))\n"
          ]
        }
      ],
      "source": [
        "#zip()\n",
        "\n",
        "#Returns a combination of iterator\n",
        "# Wemust use any type of iterator like list,tuple  to get desired output\n",
        "\n",
        "a=\"Shiva\"\n",
        "b=\"Prrasad\"\n",
        "\n",
        "x=zip(a,b)\n",
        "print(x)\n",
        "print(tuple(x))\n",
        "\n",
        "l1=[\"Shiva\",\"Ram\",\"Kar\"]\n",
        "l2=[\"Prrasad\",\"A\",\"S\"]\n",
        "z=zip(l1,l2)\n",
        "print(z)\n",
        "print(list(z))\n",
        "print(tuple(zip(l1,l2)))\n"
      ]
    },
    {
      "cell_type": "markdown",
      "metadata": {
        "id": "YzDY1mHKoS01"
      },
      "source": []
    },
    {
      "cell_type": "code",
      "source": [
        "import copy\n",
        "original_list = [[1, 2, 3], [4, 5, 6]]\n",
        "copy_copy = copy. copy(original_list)\n",
        "\n",
        "original_list[0][0] = 99\n",
        "print(copy_copy)  # Output: [[99, 2, 3], [4, 5, 6]]\n",
        "print(original_list)\n"
      ],
      "metadata": {
        "colab": {
          "base_uri": "https://localhost:8080/"
        },
        "id": "I8cgAVKo_dRv",
        "outputId": "72dbf792-0e14-4805-f483-97bb4d8f8a7c"
      },
      "execution_count": null,
      "outputs": [
        {
          "output_type": "stream",
          "name": "stdout",
          "text": [
            "[[99, 2, 3], [4, 5, 6]]\n",
            "[[99, 2, 3], [4, 5, 6]]\n"
          ]
        }
      ]
    },
    {
      "cell_type": "code",
      "source": [
        "import copy\n",
        "original_list = [[1, 2, 3], [4, 5, 6]]\n",
        "deep_copy = copy.deepcopy(original_list)\n",
        "\n",
        "original_list[0][0] = 99\n",
        "print(deep_copy)  # Output: [[1, 2, 3], [4, 5, 6]]\n",
        "print(original_list)\n"
      ],
      "metadata": {
        "colab": {
          "base_uri": "https://localhost:8080/"
        },
        "id": "aAR-KlZH_iTd",
        "outputId": "6a68ac54-1586-4e99-a6d8-5bbadf110b65"
      },
      "execution_count": null,
      "outputs": [
        {
          "output_type": "stream",
          "name": "stdout",
          "text": [
            "[[1, 2, 3], [4, 5, 6]]\n",
            "[[99, 2, 3], [4, 5, 6]]\n"
          ]
        }
      ]
    },
    {
      "cell_type": "code",
      "source": [
        "spam={'x':'cat'}\n",
        "print('cat' in spam)     #By default it checks key only\n",
        "print('cat' in spam.values()) # it checks key values only\n",
        "\n",
        "spam={'cat':'x'}\n",
        "print('cat' in spam)   # By defaultit checks keys only\n",
        "print('cat' in spam.values())  # Here it checks key value\n",
        "\n",
        "\n"
      ],
      "metadata": {
        "colab": {
          "base_uri": "https://localhost:8080/"
        },
        "id": "a88aaJIBKLbH",
        "outputId": "ddca20e1-684b-44fc-f470-df1023aca264"
      },
      "execution_count": null,
      "outputs": [
        {
          "output_type": "stream",
          "name": "stdout",
          "text": [
            "False\n",
            "True\n",
            "True\n",
            "False\n"
          ]
        }
      ]
    },
    {
      "cell_type": "code",
      "source": [
        "\n",
        "\n"
      ],
      "metadata": {
        "id": "Xg11lxzL8U5S"
      },
      "execution_count": null,
      "outputs": []
    }
  ],
  "metadata": {
    "colab": {
      "provenance": [],
      "authorship_tag": "ABX9TyM3t+Vhppp4/IrGz0JSSNF1"
    },
    "kernelspec": {
      "display_name": "Python 3",
      "name": "python3"
    },
    "language_info": {
      "name": "python"
    }
  },
  "nbformat": 4,
  "nbformat_minor": 0
}